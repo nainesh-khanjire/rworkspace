{
 "cells": [
  {
   "cell_type": "markdown",
   "id": "684806bb-fb0e-4ba1-9ce5-f1abbcd7a777",
   "metadata": {
    "tags": []
   },
   "source": [
    "### R-In-built Functions"
   ]
  },
  {
   "cell_type": "code",
   "execution_count": 1,
   "id": "ce02dc2f-00a4-4377-a8ff-fdefe846c56e",
   "metadata": {
    "collapsed": true,
    "jupyter": {
     "outputs_hidden": true
    },
    "tags": []
   },
   "outputs": [
    {
     "data": {
      "text/html": [
       "<style>\n",
       ".list-inline {list-style: none; margin:0; padding: 0}\n",
       ".list-inline>li {display: inline-block}\n",
       ".list-inline>li:not(:last-child)::after {content: \"\\00b7\"; padding: 0 .5ex}\n",
       "</style>\n",
       "<ol class=list-inline><li>'zapsmall'</li><li>'xzfile'</li><li>'xtfrm.POSIXlt'</li><li>'xtfrm.POSIXct'</li><li>'xtfrm.numeric_version'</li><li>'xtfrm.factor'</li><li>'xtfrm.difftime'</li><li>'xtfrm.default'</li><li>'xtfrm.Date'</li><li>'xtfrm.data.frame'</li><li>'xtfrm.AsIs'</li><li>'xtfrm'</li><li>'xpdrows.data.frame'</li><li>'xor'</li><li>'writeLines'</li><li>'writeChar'</li><li>'writeBin'</li><li>'write.dcf'</li><li>'write'</li><li>'withVisible'</li><li>'withRestarts'</li><li>'within.list'</li><li>'within.data.frame'</li><li>'within'</li><li>'withCallingHandlers'</li><li>'withAutoprint'</li><li>'with.default'</li><li>'with'</li><li>'while'</li><li>'which.min'</li><li>'which.max'</li><li>'which'</li><li>'weekdays.POSIXt'</li><li>'weekdays.Date'</li><li>'weekdays'</li><li>'warnings'</li><li>'warningCondition'</li><li>'warning'</li><li>'version'</li><li>'Vectorize'</li><li>'vector'</li><li>'vapply'</li><li>'validUTF8'</li><li>'validEnc'</li><li>'utf8ToInt'</li><li>'UseMethod'</li><li>'url'</li><li>'upper.tri'</li><li>'unz'</li><li>'untracemem'</li><li>'untrace'</li><li>'unsplit'</li><li>'unserialize'</li><li>'unname'</li><li>'unlockBinding'</li><li>'unloadNamespace'</li><li>'unlist'</li><li>'unlink'</li><li>'unix.time'</li><li>'units&lt;-.difftime'</li><li>'units&lt;-'</li><li>'units.difftime'</li><li>'units'</li><li>'unique.warnings'</li><li>'unique.POSIXlt'</li><li>'unique.numeric_version'</li><li>'unique.matrix'</li><li>'unique.default'</li><li>'unique.data.frame'</li><li>'unique.array'</li><li>'unique'</li><li>'union'</li><li>'undebug'</li><li>'unclass'</li><li>'typeof'</li><li>'tryInvokeRestart'</li><li>'tryCatch'</li><li>'try'</li><li>'truncate.connection'</li><li>'truncate'</li><li>'trunc.POSIXt'</li><li>'trunc.Date'</li><li>'trunc'</li><li>'trimws'</li><li>'trigamma'</li><li>'transform.default'</li><li>'transform.data.frame'</li><li>'transform'</li><li>'tracingState'</li><li>'tracemem'</li><li>'traceback'</li><li>'trace'</li><li>'toupper'</li><li>'toString.default'</li><li>'toString'</li><li>'topenv'</li><li>'tolower'</li><li>'textConnectionValue'</li><li>'textConnection'</li><li>'tempfile'</li><li>'tempdir'</li><li>'tcrossprod'</li><li>'taskCallbackManager'</li><li>'tapply'</li><li>'tanpi'</li><li>'tanh'</li><li>'tan'</li><li>'tabulate'</li><li>'table'</li><li>'t.default'</li><li>'t.data.frame'</li><li>'T'</li><li>'t'</li><li>'system2'</li><li>'system.time'</li><li>'system.file'</li><li>'system'</li><li>'Sys.which'</li><li>'Sys.unsetenv'</li><li>'Sys.umask'</li><li>'Sys.timezone'</li><li>'Sys.time'</li><li>'sys.status'</li><li>'sys.source'</li><li>'Sys.sleep'</li><li>'Sys.setlocale'</li><li>'Sys.setLanguage'</li><li>'Sys.setFileTime'</li><li>'Sys.setenv'</li><li>'sys.save.image'</li><li>'Sys.readlink'</li><li>'sys.parents'</li><li>'sys.parent'</li><li>'sys.on.exit'</li><li>'sys.nframe'</li><li>'Sys.localeconv'</li><li>'sys.load.image'</li><li>'Sys.info'</li><li>'Sys.glob'</li><li>'Sys.getpid'</li><li>'Sys.getlocale'</li><li>'Sys.getenv'</li><li>'sys.function'</li><li>'sys.frames'</li><li>'sys.frame'</li><li>'Sys.Date'</li><li>'Sys.chmod'</li><li>'sys.calls'</li><li>'sys.call'</li><li>'switch'</li><li>'sweep'</li><li>'svd'</li><li>'suspendInterrupts'</li><li>'suppressWarnings'</li><li>'suppressPackageStartupMessages'</li><li>'suppressMessages'</li><li>'summary.warnings'</li><li>'summary.table'</li><li>'summary.srcref'</li><li>'summary.srcfile'</li><li>'summary.proc_time'</li><li>'Summary.POSIXlt'</li><li>'summary.POSIXlt'</li><li>'Summary.POSIXct'</li><li>'summary.POSIXct'</li><li>'Summary.ordered'</li><li>'Summary.numeric_version'</li><li>'summary.matrix'</li><li>'Summary.factor'</li><li>'summary.factor'</li><li>'Summary.difftime'</li><li>'summary.default'</li><li>'Summary.Date'</li><li>'summary.Date'</li><li>'Summary.data.frame'</li><li>'summary.data.frame'</li><li>'summary.connection'</li><li>'summary'</li><li>'sum'</li><li>'substring&lt;-'</li><li>'substring'</li><li>'substr&lt;-'</li><li>'substr'</li><li>'substitute'</li><li>'subset.matrix'</li><li>'subset.default'</li><li>'subset.data.frame'</li><li>'subset'</li><li>'sub'</li><li>'strwrap'</li><li>'structure'</li><li>'strtrim'</li><li>'strtoi'</li><li>'strsplit'</li><li>'strrep'</li><li>'strptime'</li><li>'strftime'</li><li>'str2lang'</li><li>'str2expression'</li><li>'storage.mode&lt;-'</li><li>⋯</li><li>'||'</li><li>'|.octmode'</li><li>'|.hexmode'</li><li>'|'</li><li>'&gt;='</li><li>'&gt;'</li><li>'=='</li><li>'='</li><li>'&lt;='</li><li>'&lt;&lt;-'</li><li>'&lt;-'</li><li>'&lt;'</li><li>'+.POSIXt'</li><li>'+.Date'</li><li>'+'</li><li>'^'</li><li>'%x%'</li><li>'%o%'</li><li>'%in%'</li><li>'%%'</li><li>'%/%'</li><li>'%*%'</li><li>'&amp;&amp;'</li><li>'&amp;.octmode'</li><li>'&amp;.hexmode'</li><li>'&amp;'</li><li>'/.difftime'</li><li>'/'</li><li>'*.difftime'</li><li>'*'</li><li>'@&lt;-'</li><li>'@'</li><li>'{'</li><li>'[&lt;-.POSIXlt'</li><li>'[&lt;-.POSIXct'</li><li>'[&lt;-.numeric_version'</li><li>'[&lt;-.factor'</li><li>'[&lt;-.difftime'</li><li>'[&lt;-.Date'</li><li>'[&lt;-.data.frame'</li><li>'[&lt;-'</li><li>'[[&lt;-.POSIXlt'</li><li>'[[&lt;-.numeric_version'</li><li>'[[&lt;-.factor'</li><li>'[[&lt;-.data.frame'</li><li>'[[&lt;-'</li><li>'[[.POSIXlt'</li><li>'[[.POSIXct'</li><li>'[[.numeric_version'</li><li>'[[.factor'</li><li>'[[.Date'</li><li>'[[.data.frame'</li><li>'[['</li><li>'[.warnings'</li><li>'[.table'</li><li>'[.simple.list'</li><li>'[.POSIXlt'</li><li>'[.POSIXct'</li><li>'[.octmode'</li><li>'[.numeric_version'</li><li>'[.noquote'</li><li>'[.listof'</li><li>'[.hexmode'</li><li>'[.factor'</li><li>'[.DLLInfoList'</li><li>'[.Dlist'</li><li>'[.difftime'</li><li>'[.Date'</li><li>'[.data.frame'</li><li>'[.AsIs'</li><li>'['</li><li>'('</li><li>'.valid.factor'</li><li>'.userHooksEnv'</li><li>'.tryResumeInterrupt'</li><li>'.traceback'</li><li>'.TAOCP1997init'</li><li>'.sys.timezone'</li><li>'.subset2'</li><li>'.subset'</li><li>'.standard_regexps'</li><li>'.signalSimpleWarning'</li><li>'.set_row_names'</li><li>'.Script'</li><li>'.S3PrimitiveGenerics'</li><li>'.S3method'</li><li>'.S3_methods_table'</li><li>'.rowSums'</li><li>'.rowNamesDF&lt;-'</li><li>'.rowMeans'</li><li>'.row_names_info'</li><li>'.row'</li><li>'.rmpkg'</li><li>'.primUntrace'</li><li>'.primTrace'</li><li>'.Primitive'</li><li>'.pretty'</li><li>'.POSIXlt'</li><li>'.POSIXct'</li><li>'.popath'</li><li>'.Platform'</li><li>'.packageStartupMessage'</li><li>'.packages'</li><li>'.OptRequireMethods'</li><li>'.Options'</li><li>'.NotYetUsed'</li><li>'.NotYetImplemented'</li><li>'.noGenerics'</li><li>'.mergeImportMethods'</li><li>'.mergeExportMethods'</li><li>'.maskedMsg'</li><li>'.mapply'</li><li>'.makeMessage'</li><li>'.make_numeric_version'</li><li>'.Machine'</li><li>'.Library.site'</li><li>'.Library'</li><li>'.libPaths'</li><li>'.leap.seconds'</li><li>'.LC.categories'</li><li>'.Last.value'</li><li>'.kronecker'</li><li>'.knownS3Generics'</li><li>'.kappa_tri'</li><li>'.isOpen'</li><li>'.isMethodsDispatchOn'</li><li>'.Internal'</li><li>'.handleSimpleError'</li><li>'.gtn'</li><li>'.gt'</li><li>'.GlobalEnv'</li><li>'.getRequiredPackages2'</li><li>'.getRequiredPackages'</li><li>'.getNamespaceInfo'</li><li>'.getNamespace'</li><li>'.GenericArgsEnv'</li><li>'.Fortran'</li><li>'.format.zeros'</li><li>'.First.sys'</li><li>'.F_dtrco'</li><li>'.F_dqrxb'</li><li>'.F_dqrrsd'</li><li>'.F_dqrqy'</li><li>'.F_dqrqty'</li><li>'.F_dqrdc2'</li><li>'.F_dqrcf'</li><li>'.F_dchdc'</li><li>'.External2'</li><li>'.External.graphics'</li><li>'.External'</li><li>'.expand_R_libs_env_var'</li><li>'.encode_numeric_version'</li><li>'.dynLibs'</li><li>'.doWrap'</li><li>'.doTrace'</li><li>'.doSortWrap'</li><li>'.difftime'</li><li>'.Devices'</li><li>'.Device'</li><li>'.detach'</li><li>'.Deprecated'</li><li>'.deparseOpts'</li><li>'.Defunct'</li><li>'.decode_numeric_version'</li><li>'.Date'</li><li>'.colSums'</li><li>'.colMeans'</li><li>'.col'</li><li>'.class2'</li><li>'.Call.graphics'</li><li>'.Call'</li><li>'.cache_class'</li><li>'.C_R_removeTaskCallback'</li><li>'.C_R_getTaskCallbackNames'</li><li>'.C_R_addTaskCallback'</li><li>'.C'</li><li>'.bincode'</li><li>'.BaseNamespaceEnv'</li><li>'.AutoloadEnv'</li><li>'.ArgsEnv'</li><li>'.amatch_costs'</li><li>'.amatch_bounds'</li><li>'..getNamespace'</li><li>'..deparseOpts'</li><li>'...names'</li><li>'...length'</li><li>'...elt'</li><li>'.__S3MethodsTable__.'</li><li>'.__H__.rbind'</li><li>'.__H__.cbind'</li><li>'!='</li><li>'!.octmode'</li><li>'!.hexmode'</li><li>'!'</li><li>':::'</li><li>'::'</li><li>':'</li><li>'-.POSIXt'</li><li>'-.Date'</li><li>'-'</li></ol>\n"
      ],
      "text/latex": [
       "\\begin{enumerate*}\n",
       "\\item 'zapsmall'\n",
       "\\item 'xzfile'\n",
       "\\item 'xtfrm.POSIXlt'\n",
       "\\item 'xtfrm.POSIXct'\n",
       "\\item 'xtfrm.numeric\\_version'\n",
       "\\item 'xtfrm.factor'\n",
       "\\item 'xtfrm.difftime'\n",
       "\\item 'xtfrm.default'\n",
       "\\item 'xtfrm.Date'\n",
       "\\item 'xtfrm.data.frame'\n",
       "\\item 'xtfrm.AsIs'\n",
       "\\item 'xtfrm'\n",
       "\\item 'xpdrows.data.frame'\n",
       "\\item 'xor'\n",
       "\\item 'writeLines'\n",
       "\\item 'writeChar'\n",
       "\\item 'writeBin'\n",
       "\\item 'write.dcf'\n",
       "\\item 'write'\n",
       "\\item 'withVisible'\n",
       "\\item 'withRestarts'\n",
       "\\item 'within.list'\n",
       "\\item 'within.data.frame'\n",
       "\\item 'within'\n",
       "\\item 'withCallingHandlers'\n",
       "\\item 'withAutoprint'\n",
       "\\item 'with.default'\n",
       "\\item 'with'\n",
       "\\item 'while'\n",
       "\\item 'which.min'\n",
       "\\item 'which.max'\n",
       "\\item 'which'\n",
       "\\item 'weekdays.POSIXt'\n",
       "\\item 'weekdays.Date'\n",
       "\\item 'weekdays'\n",
       "\\item 'warnings'\n",
       "\\item 'warningCondition'\n",
       "\\item 'warning'\n",
       "\\item 'version'\n",
       "\\item 'Vectorize'\n",
       "\\item 'vector'\n",
       "\\item 'vapply'\n",
       "\\item 'validUTF8'\n",
       "\\item 'validEnc'\n",
       "\\item 'utf8ToInt'\n",
       "\\item 'UseMethod'\n",
       "\\item 'url'\n",
       "\\item 'upper.tri'\n",
       "\\item 'unz'\n",
       "\\item 'untracemem'\n",
       "\\item 'untrace'\n",
       "\\item 'unsplit'\n",
       "\\item 'unserialize'\n",
       "\\item 'unname'\n",
       "\\item 'unlockBinding'\n",
       "\\item 'unloadNamespace'\n",
       "\\item 'unlist'\n",
       "\\item 'unlink'\n",
       "\\item 'unix.time'\n",
       "\\item 'units<-.difftime'\n",
       "\\item 'units<-'\n",
       "\\item 'units.difftime'\n",
       "\\item 'units'\n",
       "\\item 'unique.warnings'\n",
       "\\item 'unique.POSIXlt'\n",
       "\\item 'unique.numeric\\_version'\n",
       "\\item 'unique.matrix'\n",
       "\\item 'unique.default'\n",
       "\\item 'unique.data.frame'\n",
       "\\item 'unique.array'\n",
       "\\item 'unique'\n",
       "\\item 'union'\n",
       "\\item 'undebug'\n",
       "\\item 'unclass'\n",
       "\\item 'typeof'\n",
       "\\item 'tryInvokeRestart'\n",
       "\\item 'tryCatch'\n",
       "\\item 'try'\n",
       "\\item 'truncate.connection'\n",
       "\\item 'truncate'\n",
       "\\item 'trunc.POSIXt'\n",
       "\\item 'trunc.Date'\n",
       "\\item 'trunc'\n",
       "\\item 'trimws'\n",
       "\\item 'trigamma'\n",
       "\\item 'transform.default'\n",
       "\\item 'transform.data.frame'\n",
       "\\item 'transform'\n",
       "\\item 'tracingState'\n",
       "\\item 'tracemem'\n",
       "\\item 'traceback'\n",
       "\\item 'trace'\n",
       "\\item 'toupper'\n",
       "\\item 'toString.default'\n",
       "\\item 'toString'\n",
       "\\item 'topenv'\n",
       "\\item 'tolower'\n",
       "\\item 'textConnectionValue'\n",
       "\\item 'textConnection'\n",
       "\\item 'tempfile'\n",
       "\\item 'tempdir'\n",
       "\\item 'tcrossprod'\n",
       "\\item 'taskCallbackManager'\n",
       "\\item 'tapply'\n",
       "\\item 'tanpi'\n",
       "\\item 'tanh'\n",
       "\\item 'tan'\n",
       "\\item 'tabulate'\n",
       "\\item 'table'\n",
       "\\item 't.default'\n",
       "\\item 't.data.frame'\n",
       "\\item 'T'\n",
       "\\item 't'\n",
       "\\item 'system2'\n",
       "\\item 'system.time'\n",
       "\\item 'system.file'\n",
       "\\item 'system'\n",
       "\\item 'Sys.which'\n",
       "\\item 'Sys.unsetenv'\n",
       "\\item 'Sys.umask'\n",
       "\\item 'Sys.timezone'\n",
       "\\item 'Sys.time'\n",
       "\\item 'sys.status'\n",
       "\\item 'sys.source'\n",
       "\\item 'Sys.sleep'\n",
       "\\item 'Sys.setlocale'\n",
       "\\item 'Sys.setLanguage'\n",
       "\\item 'Sys.setFileTime'\n",
       "\\item 'Sys.setenv'\n",
       "\\item 'sys.save.image'\n",
       "\\item 'Sys.readlink'\n",
       "\\item 'sys.parents'\n",
       "\\item 'sys.parent'\n",
       "\\item 'sys.on.exit'\n",
       "\\item 'sys.nframe'\n",
       "\\item 'Sys.localeconv'\n",
       "\\item 'sys.load.image'\n",
       "\\item 'Sys.info'\n",
       "\\item 'Sys.glob'\n",
       "\\item 'Sys.getpid'\n",
       "\\item 'Sys.getlocale'\n",
       "\\item 'Sys.getenv'\n",
       "\\item 'sys.function'\n",
       "\\item 'sys.frames'\n",
       "\\item 'sys.frame'\n",
       "\\item 'Sys.Date'\n",
       "\\item 'Sys.chmod'\n",
       "\\item 'sys.calls'\n",
       "\\item 'sys.call'\n",
       "\\item 'switch'\n",
       "\\item 'sweep'\n",
       "\\item 'svd'\n",
       "\\item 'suspendInterrupts'\n",
       "\\item 'suppressWarnings'\n",
       "\\item 'suppressPackageStartupMessages'\n",
       "\\item 'suppressMessages'\n",
       "\\item 'summary.warnings'\n",
       "\\item 'summary.table'\n",
       "\\item 'summary.srcref'\n",
       "\\item 'summary.srcfile'\n",
       "\\item 'summary.proc\\_time'\n",
       "\\item 'Summary.POSIXlt'\n",
       "\\item 'summary.POSIXlt'\n",
       "\\item 'Summary.POSIXct'\n",
       "\\item 'summary.POSIXct'\n",
       "\\item 'Summary.ordered'\n",
       "\\item 'Summary.numeric\\_version'\n",
       "\\item 'summary.matrix'\n",
       "\\item 'Summary.factor'\n",
       "\\item 'summary.factor'\n",
       "\\item 'Summary.difftime'\n",
       "\\item 'summary.default'\n",
       "\\item 'Summary.Date'\n",
       "\\item 'summary.Date'\n",
       "\\item 'Summary.data.frame'\n",
       "\\item 'summary.data.frame'\n",
       "\\item 'summary.connection'\n",
       "\\item 'summary'\n",
       "\\item 'sum'\n",
       "\\item 'substring<-'\n",
       "\\item 'substring'\n",
       "\\item 'substr<-'\n",
       "\\item 'substr'\n",
       "\\item 'substitute'\n",
       "\\item 'subset.matrix'\n",
       "\\item 'subset.default'\n",
       "\\item 'subset.data.frame'\n",
       "\\item 'subset'\n",
       "\\item 'sub'\n",
       "\\item 'strwrap'\n",
       "\\item 'structure'\n",
       "\\item 'strtrim'\n",
       "\\item 'strtoi'\n",
       "\\item 'strsplit'\n",
       "\\item 'strrep'\n",
       "\\item 'strptime'\n",
       "\\item 'strftime'\n",
       "\\item 'str2lang'\n",
       "\\item 'str2expression'\n",
       "\\item 'storage.mode<-'\n",
       "\\item ⋯\n",
       "\\item '\\textbar{}\\textbar{}'\n",
       "\\item '\\textbar{}.octmode'\n",
       "\\item '\\textbar{}.hexmode'\n",
       "\\item '\\textbar{}'\n",
       "\\item '>='\n",
       "\\item '>'\n",
       "\\item '=='\n",
       "\\item '='\n",
       "\\item '<='\n",
       "\\item '<<-'\n",
       "\\item '<-'\n",
       "\\item '<'\n",
       "\\item '+.POSIXt'\n",
       "\\item '+.Date'\n",
       "\\item '+'\n",
       "\\item '\\textasciicircum{}'\n",
       "\\item '\\%x\\%'\n",
       "\\item '\\%o\\%'\n",
       "\\item '\\%in\\%'\n",
       "\\item '\\%\\%'\n",
       "\\item '\\%/\\%'\n",
       "\\item '\\%*\\%'\n",
       "\\item '\\&\\&'\n",
       "\\item '\\&.octmode'\n",
       "\\item '\\&.hexmode'\n",
       "\\item '\\&'\n",
       "\\item '/.difftime'\n",
       "\\item '/'\n",
       "\\item '*.difftime'\n",
       "\\item '*'\n",
       "\\item '@<-'\n",
       "\\item '@'\n",
       "\\item '\\{'\n",
       "\\item '{[}<-.POSIXlt'\n",
       "\\item '{[}<-.POSIXct'\n",
       "\\item '{[}<-.numeric\\_version'\n",
       "\\item '{[}<-.factor'\n",
       "\\item '{[}<-.difftime'\n",
       "\\item '{[}<-.Date'\n",
       "\\item '{[}<-.data.frame'\n",
       "\\item '{[}<-'\n",
       "\\item '{[}{[}<-.POSIXlt'\n",
       "\\item '{[}{[}<-.numeric\\_version'\n",
       "\\item '{[}{[}<-.factor'\n",
       "\\item '{[}{[}<-.data.frame'\n",
       "\\item '{[}{[}<-'\n",
       "\\item '{[}{[}.POSIXlt'\n",
       "\\item '{[}{[}.POSIXct'\n",
       "\\item '{[}{[}.numeric\\_version'\n",
       "\\item '{[}{[}.factor'\n",
       "\\item '{[}{[}.Date'\n",
       "\\item '{[}{[}.data.frame'\n",
       "\\item '{[}{[}'\n",
       "\\item '{[}.warnings'\n",
       "\\item '{[}.table'\n",
       "\\item '{[}.simple.list'\n",
       "\\item '{[}.POSIXlt'\n",
       "\\item '{[}.POSIXct'\n",
       "\\item '{[}.octmode'\n",
       "\\item '{[}.numeric\\_version'\n",
       "\\item '{[}.noquote'\n",
       "\\item '{[}.listof'\n",
       "\\item '{[}.hexmode'\n",
       "\\item '{[}.factor'\n",
       "\\item '{[}.DLLInfoList'\n",
       "\\item '{[}.Dlist'\n",
       "\\item '{[}.difftime'\n",
       "\\item '{[}.Date'\n",
       "\\item '{[}.data.frame'\n",
       "\\item '{[}.AsIs'\n",
       "\\item '{[}'\n",
       "\\item '('\n",
       "\\item '.valid.factor'\n",
       "\\item '.userHooksEnv'\n",
       "\\item '.tryResumeInterrupt'\n",
       "\\item '.traceback'\n",
       "\\item '.TAOCP1997init'\n",
       "\\item '.sys.timezone'\n",
       "\\item '.subset2'\n",
       "\\item '.subset'\n",
       "\\item '.standard\\_regexps'\n",
       "\\item '.signalSimpleWarning'\n",
       "\\item '.set\\_row\\_names'\n",
       "\\item '.Script'\n",
       "\\item '.S3PrimitiveGenerics'\n",
       "\\item '.S3method'\n",
       "\\item '.S3\\_methods\\_table'\n",
       "\\item '.rowSums'\n",
       "\\item '.rowNamesDF<-'\n",
       "\\item '.rowMeans'\n",
       "\\item '.row\\_names\\_info'\n",
       "\\item '.row'\n",
       "\\item '.rmpkg'\n",
       "\\item '.primUntrace'\n",
       "\\item '.primTrace'\n",
       "\\item '.Primitive'\n",
       "\\item '.pretty'\n",
       "\\item '.POSIXlt'\n",
       "\\item '.POSIXct'\n",
       "\\item '.popath'\n",
       "\\item '.Platform'\n",
       "\\item '.packageStartupMessage'\n",
       "\\item '.packages'\n",
       "\\item '.OptRequireMethods'\n",
       "\\item '.Options'\n",
       "\\item '.NotYetUsed'\n",
       "\\item '.NotYetImplemented'\n",
       "\\item '.noGenerics'\n",
       "\\item '.mergeImportMethods'\n",
       "\\item '.mergeExportMethods'\n",
       "\\item '.maskedMsg'\n",
       "\\item '.mapply'\n",
       "\\item '.makeMessage'\n",
       "\\item '.make\\_numeric\\_version'\n",
       "\\item '.Machine'\n",
       "\\item '.Library.site'\n",
       "\\item '.Library'\n",
       "\\item '.libPaths'\n",
       "\\item '.leap.seconds'\n",
       "\\item '.LC.categories'\n",
       "\\item '.Last.value'\n",
       "\\item '.kronecker'\n",
       "\\item '.knownS3Generics'\n",
       "\\item '.kappa\\_tri'\n",
       "\\item '.isOpen'\n",
       "\\item '.isMethodsDispatchOn'\n",
       "\\item '.Internal'\n",
       "\\item '.handleSimpleError'\n",
       "\\item '.gtn'\n",
       "\\item '.gt'\n",
       "\\item '.GlobalEnv'\n",
       "\\item '.getRequiredPackages2'\n",
       "\\item '.getRequiredPackages'\n",
       "\\item '.getNamespaceInfo'\n",
       "\\item '.getNamespace'\n",
       "\\item '.GenericArgsEnv'\n",
       "\\item '.Fortran'\n",
       "\\item '.format.zeros'\n",
       "\\item '.First.sys'\n",
       "\\item '.F\\_dtrco'\n",
       "\\item '.F\\_dqrxb'\n",
       "\\item '.F\\_dqrrsd'\n",
       "\\item '.F\\_dqrqy'\n",
       "\\item '.F\\_dqrqty'\n",
       "\\item '.F\\_dqrdc2'\n",
       "\\item '.F\\_dqrcf'\n",
       "\\item '.F\\_dchdc'\n",
       "\\item '.External2'\n",
       "\\item '.External.graphics'\n",
       "\\item '.External'\n",
       "\\item '.expand\\_R\\_libs\\_env\\_var'\n",
       "\\item '.encode\\_numeric\\_version'\n",
       "\\item '.dynLibs'\n",
       "\\item '.doWrap'\n",
       "\\item '.doTrace'\n",
       "\\item '.doSortWrap'\n",
       "\\item '.difftime'\n",
       "\\item '.Devices'\n",
       "\\item '.Device'\n",
       "\\item '.detach'\n",
       "\\item '.Deprecated'\n",
       "\\item '.deparseOpts'\n",
       "\\item '.Defunct'\n",
       "\\item '.decode\\_numeric\\_version'\n",
       "\\item '.Date'\n",
       "\\item '.colSums'\n",
       "\\item '.colMeans'\n",
       "\\item '.col'\n",
       "\\item '.class2'\n",
       "\\item '.Call.graphics'\n",
       "\\item '.Call'\n",
       "\\item '.cache\\_class'\n",
       "\\item '.C\\_R\\_removeTaskCallback'\n",
       "\\item '.C\\_R\\_getTaskCallbackNames'\n",
       "\\item '.C\\_R\\_addTaskCallback'\n",
       "\\item '.C'\n",
       "\\item '.bincode'\n",
       "\\item '.BaseNamespaceEnv'\n",
       "\\item '.AutoloadEnv'\n",
       "\\item '.ArgsEnv'\n",
       "\\item '.amatch\\_costs'\n",
       "\\item '.amatch\\_bounds'\n",
       "\\item '..getNamespace'\n",
       "\\item '..deparseOpts'\n",
       "\\item '...names'\n",
       "\\item '...length'\n",
       "\\item '...elt'\n",
       "\\item '.\\_\\_S3MethodsTable\\_\\_.'\n",
       "\\item '.\\_\\_H\\_\\_.rbind'\n",
       "\\item '.\\_\\_H\\_\\_.cbind'\n",
       "\\item '!='\n",
       "\\item '!.octmode'\n",
       "\\item '!.hexmode'\n",
       "\\item '!'\n",
       "\\item ':::'\n",
       "\\item '::'\n",
       "\\item ':'\n",
       "\\item '-.POSIXt'\n",
       "\\item '-.Date'\n",
       "\\item '-'\n",
       "\\end{enumerate*}\n"
      ],
      "text/markdown": [
       "1. 'zapsmall'\n",
       "2. 'xzfile'\n",
       "3. 'xtfrm.POSIXlt'\n",
       "4. 'xtfrm.POSIXct'\n",
       "5. 'xtfrm.numeric_version'\n",
       "6. 'xtfrm.factor'\n",
       "7. 'xtfrm.difftime'\n",
       "8. 'xtfrm.default'\n",
       "9. 'xtfrm.Date'\n",
       "10. 'xtfrm.data.frame'\n",
       "11. 'xtfrm.AsIs'\n",
       "12. 'xtfrm'\n",
       "13. 'xpdrows.data.frame'\n",
       "14. 'xor'\n",
       "15. 'writeLines'\n",
       "16. 'writeChar'\n",
       "17. 'writeBin'\n",
       "18. 'write.dcf'\n",
       "19. 'write'\n",
       "20. 'withVisible'\n",
       "21. 'withRestarts'\n",
       "22. 'within.list'\n",
       "23. 'within.data.frame'\n",
       "24. 'within'\n",
       "25. 'withCallingHandlers'\n",
       "26. 'withAutoprint'\n",
       "27. 'with.default'\n",
       "28. 'with'\n",
       "29. 'while'\n",
       "30. 'which.min'\n",
       "31. 'which.max'\n",
       "32. 'which'\n",
       "33. 'weekdays.POSIXt'\n",
       "34. 'weekdays.Date'\n",
       "35. 'weekdays'\n",
       "36. 'warnings'\n",
       "37. 'warningCondition'\n",
       "38. 'warning'\n",
       "39. 'version'\n",
       "40. 'Vectorize'\n",
       "41. 'vector'\n",
       "42. 'vapply'\n",
       "43. 'validUTF8'\n",
       "44. 'validEnc'\n",
       "45. 'utf8ToInt'\n",
       "46. 'UseMethod'\n",
       "47. 'url'\n",
       "48. 'upper.tri'\n",
       "49. 'unz'\n",
       "50. 'untracemem'\n",
       "51. 'untrace'\n",
       "52. 'unsplit'\n",
       "53. 'unserialize'\n",
       "54. 'unname'\n",
       "55. 'unlockBinding'\n",
       "56. 'unloadNamespace'\n",
       "57. 'unlist'\n",
       "58. 'unlink'\n",
       "59. 'unix.time'\n",
       "60. 'units&lt;-.difftime'\n",
       "61. 'units&lt;-'\n",
       "62. 'units.difftime'\n",
       "63. 'units'\n",
       "64. 'unique.warnings'\n",
       "65. 'unique.POSIXlt'\n",
       "66. 'unique.numeric_version'\n",
       "67. 'unique.matrix'\n",
       "68. 'unique.default'\n",
       "69. 'unique.data.frame'\n",
       "70. 'unique.array'\n",
       "71. 'unique'\n",
       "72. 'union'\n",
       "73. 'undebug'\n",
       "74. 'unclass'\n",
       "75. 'typeof'\n",
       "76. 'tryInvokeRestart'\n",
       "77. 'tryCatch'\n",
       "78. 'try'\n",
       "79. 'truncate.connection'\n",
       "80. 'truncate'\n",
       "81. 'trunc.POSIXt'\n",
       "82. 'trunc.Date'\n",
       "83. 'trunc'\n",
       "84. 'trimws'\n",
       "85. 'trigamma'\n",
       "86. 'transform.default'\n",
       "87. 'transform.data.frame'\n",
       "88. 'transform'\n",
       "89. 'tracingState'\n",
       "90. 'tracemem'\n",
       "91. 'traceback'\n",
       "92. 'trace'\n",
       "93. 'toupper'\n",
       "94. 'toString.default'\n",
       "95. 'toString'\n",
       "96. 'topenv'\n",
       "97. 'tolower'\n",
       "98. 'textConnectionValue'\n",
       "99. 'textConnection'\n",
       "100. 'tempfile'\n",
       "101. 'tempdir'\n",
       "102. 'tcrossprod'\n",
       "103. 'taskCallbackManager'\n",
       "104. 'tapply'\n",
       "105. 'tanpi'\n",
       "106. 'tanh'\n",
       "107. 'tan'\n",
       "108. 'tabulate'\n",
       "109. 'table'\n",
       "110. 't.default'\n",
       "111. 't.data.frame'\n",
       "112. 'T'\n",
       "113. 't'\n",
       "114. 'system2'\n",
       "115. 'system.time'\n",
       "116. 'system.file'\n",
       "117. 'system'\n",
       "118. 'Sys.which'\n",
       "119. 'Sys.unsetenv'\n",
       "120. 'Sys.umask'\n",
       "121. 'Sys.timezone'\n",
       "122. 'Sys.time'\n",
       "123. 'sys.status'\n",
       "124. 'sys.source'\n",
       "125. 'Sys.sleep'\n",
       "126. 'Sys.setlocale'\n",
       "127. 'Sys.setLanguage'\n",
       "128. 'Sys.setFileTime'\n",
       "129. 'Sys.setenv'\n",
       "130. 'sys.save.image'\n",
       "131. 'Sys.readlink'\n",
       "132. 'sys.parents'\n",
       "133. 'sys.parent'\n",
       "134. 'sys.on.exit'\n",
       "135. 'sys.nframe'\n",
       "136. 'Sys.localeconv'\n",
       "137. 'sys.load.image'\n",
       "138. 'Sys.info'\n",
       "139. 'Sys.glob'\n",
       "140. 'Sys.getpid'\n",
       "141. 'Sys.getlocale'\n",
       "142. 'Sys.getenv'\n",
       "143. 'sys.function'\n",
       "144. 'sys.frames'\n",
       "145. 'sys.frame'\n",
       "146. 'Sys.Date'\n",
       "147. 'Sys.chmod'\n",
       "148. 'sys.calls'\n",
       "149. 'sys.call'\n",
       "150. 'switch'\n",
       "151. 'sweep'\n",
       "152. 'svd'\n",
       "153. 'suspendInterrupts'\n",
       "154. 'suppressWarnings'\n",
       "155. 'suppressPackageStartupMessages'\n",
       "156. 'suppressMessages'\n",
       "157. 'summary.warnings'\n",
       "158. 'summary.table'\n",
       "159. 'summary.srcref'\n",
       "160. 'summary.srcfile'\n",
       "161. 'summary.proc_time'\n",
       "162. 'Summary.POSIXlt'\n",
       "163. 'summary.POSIXlt'\n",
       "164. 'Summary.POSIXct'\n",
       "165. 'summary.POSIXct'\n",
       "166. 'Summary.ordered'\n",
       "167. 'Summary.numeric_version'\n",
       "168. 'summary.matrix'\n",
       "169. 'Summary.factor'\n",
       "170. 'summary.factor'\n",
       "171. 'Summary.difftime'\n",
       "172. 'summary.default'\n",
       "173. 'Summary.Date'\n",
       "174. 'summary.Date'\n",
       "175. 'Summary.data.frame'\n",
       "176. 'summary.data.frame'\n",
       "177. 'summary.connection'\n",
       "178. 'summary'\n",
       "179. 'sum'\n",
       "180. 'substring&lt;-'\n",
       "181. 'substring'\n",
       "182. 'substr&lt;-'\n",
       "183. 'substr'\n",
       "184. 'substitute'\n",
       "185. 'subset.matrix'\n",
       "186. 'subset.default'\n",
       "187. 'subset.data.frame'\n",
       "188. 'subset'\n",
       "189. 'sub'\n",
       "190. 'strwrap'\n",
       "191. 'structure'\n",
       "192. 'strtrim'\n",
       "193. 'strtoi'\n",
       "194. 'strsplit'\n",
       "195. 'strrep'\n",
       "196. 'strptime'\n",
       "197. 'strftime'\n",
       "198. 'str2lang'\n",
       "199. 'str2expression'\n",
       "200. 'storage.mode&lt;-'\n",
       "201. ⋯\n",
       "202. '||'\n",
       "203. '|.octmode'\n",
       "204. '|.hexmode'\n",
       "205. '|'\n",
       "206. '&gt;='\n",
       "207. '&gt;'\n",
       "208. '=='\n",
       "209. '='\n",
       "210. '&lt;='\n",
       "211. '&lt;&lt;-'\n",
       "212. '&lt;-'\n",
       "213. '&lt;'\n",
       "214. '+.POSIXt'\n",
       "215. '+.Date'\n",
       "216. '+'\n",
       "217. '^'\n",
       "218. '%x%'\n",
       "219. '%o%'\n",
       "220. '%in%'\n",
       "221. '%%'\n",
       "222. '%/%'\n",
       "223. '%*%'\n",
       "224. '&amp;&amp;'\n",
       "225. '&amp;.octmode'\n",
       "226. '&amp;.hexmode'\n",
       "227. '&amp;'\n",
       "228. '/.difftime'\n",
       "229. '/'\n",
       "230. '*.difftime'\n",
       "231. '*'\n",
       "232. '@&lt;-'\n",
       "233. '@'\n",
       "234. '{'\n",
       "235. '[&lt;-.POSIXlt'\n",
       "236. '[&lt;-.POSIXct'\n",
       "237. '[&lt;-.numeric_version'\n",
       "238. '[&lt;-.factor'\n",
       "239. '[&lt;-.difftime'\n",
       "240. '[&lt;-.Date'\n",
       "241. '[&lt;-.data.frame'\n",
       "242. '[&lt;-'\n",
       "243. '[[&lt;-.POSIXlt'\n",
       "244. '[[&lt;-.numeric_version'\n",
       "245. '[[&lt;-.factor'\n",
       "246. '[[&lt;-.data.frame'\n",
       "247. '[[&lt;-'\n",
       "248. '[[.POSIXlt'\n",
       "249. '[[.POSIXct'\n",
       "250. '[[.numeric_version'\n",
       "251. '[[.factor'\n",
       "252. '[[.Date'\n",
       "253. '[[.data.frame'\n",
       "254. '[['\n",
       "255. '[.warnings'\n",
       "256. '[.table'\n",
       "257. '[.simple.list'\n",
       "258. '[.POSIXlt'\n",
       "259. '[.POSIXct'\n",
       "260. '[.octmode'\n",
       "261. '[.numeric_version'\n",
       "262. '[.noquote'\n",
       "263. '[.listof'\n",
       "264. '[.hexmode'\n",
       "265. '[.factor'\n",
       "266. '[.DLLInfoList'\n",
       "267. '[.Dlist'\n",
       "268. '[.difftime'\n",
       "269. '[.Date'\n",
       "270. '[.data.frame'\n",
       "271. '[.AsIs'\n",
       "272. '['\n",
       "273. '('\n",
       "274. '.valid.factor'\n",
       "275. '.userHooksEnv'\n",
       "276. '.tryResumeInterrupt'\n",
       "277. '.traceback'\n",
       "278. '.TAOCP1997init'\n",
       "279. '.sys.timezone'\n",
       "280. '.subset2'\n",
       "281. '.subset'\n",
       "282. '.standard_regexps'\n",
       "283. '.signalSimpleWarning'\n",
       "284. '.set_row_names'\n",
       "285. '.Script'\n",
       "286. '.S3PrimitiveGenerics'\n",
       "287. '.S3method'\n",
       "288. '.S3_methods_table'\n",
       "289. '.rowSums'\n",
       "290. '.rowNamesDF&lt;-'\n",
       "291. '.rowMeans'\n",
       "292. '.row_names_info'\n",
       "293. '.row'\n",
       "294. '.rmpkg'\n",
       "295. '.primUntrace'\n",
       "296. '.primTrace'\n",
       "297. '.Primitive'\n",
       "298. '.pretty'\n",
       "299. '.POSIXlt'\n",
       "300. '.POSIXct'\n",
       "301. '.popath'\n",
       "302. '.Platform'\n",
       "303. '.packageStartupMessage'\n",
       "304. '.packages'\n",
       "305. '.OptRequireMethods'\n",
       "306. '.Options'\n",
       "307. '.NotYetUsed'\n",
       "308. '.NotYetImplemented'\n",
       "309. '.noGenerics'\n",
       "310. '.mergeImportMethods'\n",
       "311. '.mergeExportMethods'\n",
       "312. '.maskedMsg'\n",
       "313. '.mapply'\n",
       "314. '.makeMessage'\n",
       "315. '.make_numeric_version'\n",
       "316. '.Machine'\n",
       "317. '.Library.site'\n",
       "318. '.Library'\n",
       "319. '.libPaths'\n",
       "320. '.leap.seconds'\n",
       "321. '.LC.categories'\n",
       "322. '.Last.value'\n",
       "323. '.kronecker'\n",
       "324. '.knownS3Generics'\n",
       "325. '.kappa_tri'\n",
       "326. '.isOpen'\n",
       "327. '.isMethodsDispatchOn'\n",
       "328. '.Internal'\n",
       "329. '.handleSimpleError'\n",
       "330. '.gtn'\n",
       "331. '.gt'\n",
       "332. '.GlobalEnv'\n",
       "333. '.getRequiredPackages2'\n",
       "334. '.getRequiredPackages'\n",
       "335. '.getNamespaceInfo'\n",
       "336. '.getNamespace'\n",
       "337. '.GenericArgsEnv'\n",
       "338. '.Fortran'\n",
       "339. '.format.zeros'\n",
       "340. '.First.sys'\n",
       "341. '.F_dtrco'\n",
       "342. '.F_dqrxb'\n",
       "343. '.F_dqrrsd'\n",
       "344. '.F_dqrqy'\n",
       "345. '.F_dqrqty'\n",
       "346. '.F_dqrdc2'\n",
       "347. '.F_dqrcf'\n",
       "348. '.F_dchdc'\n",
       "349. '.External2'\n",
       "350. '.External.graphics'\n",
       "351. '.External'\n",
       "352. '.expand_R_libs_env_var'\n",
       "353. '.encode_numeric_version'\n",
       "354. '.dynLibs'\n",
       "355. '.doWrap'\n",
       "356. '.doTrace'\n",
       "357. '.doSortWrap'\n",
       "358. '.difftime'\n",
       "359. '.Devices'\n",
       "360. '.Device'\n",
       "361. '.detach'\n",
       "362. '.Deprecated'\n",
       "363. '.deparseOpts'\n",
       "364. '.Defunct'\n",
       "365. '.decode_numeric_version'\n",
       "366. '.Date'\n",
       "367. '.colSums'\n",
       "368. '.colMeans'\n",
       "369. '.col'\n",
       "370. '.class2'\n",
       "371. '.Call.graphics'\n",
       "372. '.Call'\n",
       "373. '.cache_class'\n",
       "374. '.C_R_removeTaskCallback'\n",
       "375. '.C_R_getTaskCallbackNames'\n",
       "376. '.C_R_addTaskCallback'\n",
       "377. '.C'\n",
       "378. '.bincode'\n",
       "379. '.BaseNamespaceEnv'\n",
       "380. '.AutoloadEnv'\n",
       "381. '.ArgsEnv'\n",
       "382. '.amatch_costs'\n",
       "383. '.amatch_bounds'\n",
       "384. '..getNamespace'\n",
       "385. '..deparseOpts'\n",
       "386. '...names'\n",
       "387. '...length'\n",
       "388. '...elt'\n",
       "389. '.__S3MethodsTable__.'\n",
       "390. '.__H__.rbind'\n",
       "391. '.__H__.cbind'\n",
       "392. '!='\n",
       "393. '!.octmode'\n",
       "394. '!.hexmode'\n",
       "395. '!'\n",
       "396. ':::'\n",
       "397. '::'\n",
       "398. ':'\n",
       "399. '-.POSIXt'\n",
       "400. '-.Date'\n",
       "401. '-'\n",
       "\n",
       "\n"
      ],
      "text/plain": [
       "   [1] \"zapsmall\"                           \"xzfile\"                            \n",
       "   [3] \"xtfrm.POSIXlt\"                      \"xtfrm.POSIXct\"                     \n",
       "   [5] \"xtfrm.numeric_version\"              \"xtfrm.factor\"                      \n",
       "   [7] \"xtfrm.difftime\"                     \"xtfrm.default\"                     \n",
       "   [9] \"xtfrm.Date\"                         \"xtfrm.data.frame\"                  \n",
       "  [11] \"xtfrm.AsIs\"                         \"xtfrm\"                             \n",
       "  [13] \"xpdrows.data.frame\"                 \"xor\"                               \n",
       "  [15] \"writeLines\"                         \"writeChar\"                         \n",
       "  [17] \"writeBin\"                           \"write.dcf\"                         \n",
       "  [19] \"write\"                              \"withVisible\"                       \n",
       "  [21] \"withRestarts\"                       \"within.list\"                       \n",
       "  [23] \"within.data.frame\"                  \"within\"                            \n",
       "  [25] \"withCallingHandlers\"                \"withAutoprint\"                     \n",
       "  [27] \"with.default\"                       \"with\"                              \n",
       "  [29] \"while\"                              \"which.min\"                         \n",
       "  [31] \"which.max\"                          \"which\"                             \n",
       "  [33] \"weekdays.POSIXt\"                    \"weekdays.Date\"                     \n",
       "  [35] \"weekdays\"                           \"warnings\"                          \n",
       "  [37] \"warningCondition\"                   \"warning\"                           \n",
       "  [39] \"version\"                            \"Vectorize\"                         \n",
       "  [41] \"vector\"                             \"vapply\"                            \n",
       "  [43] \"validUTF8\"                          \"validEnc\"                          \n",
       "  [45] \"utf8ToInt\"                          \"UseMethod\"                         \n",
       "  [47] \"url\"                                \"upper.tri\"                         \n",
       "  [49] \"unz\"                                \"untracemem\"                        \n",
       "  [51] \"untrace\"                            \"unsplit\"                           \n",
       "  [53] \"unserialize\"                        \"unname\"                            \n",
       "  [55] \"unlockBinding\"                      \"unloadNamespace\"                   \n",
       "  [57] \"unlist\"                             \"unlink\"                            \n",
       "  [59] \"unix.time\"                          \"units<-.difftime\"                  \n",
       "  [61] \"units<-\"                            \"units.difftime\"                    \n",
       "  [63] \"units\"                              \"unique.warnings\"                   \n",
       "  [65] \"unique.POSIXlt\"                     \"unique.numeric_version\"            \n",
       "  [67] \"unique.matrix\"                      \"unique.default\"                    \n",
       "  [69] \"unique.data.frame\"                  \"unique.array\"                      \n",
       "  [71] \"unique\"                             \"union\"                             \n",
       "  [73] \"undebug\"                            \"unclass\"                           \n",
       "  [75] \"typeof\"                             \"tryInvokeRestart\"                  \n",
       "  [77] \"tryCatch\"                           \"try\"                               \n",
       "  [79] \"truncate.connection\"                \"truncate\"                          \n",
       "  [81] \"trunc.POSIXt\"                       \"trunc.Date\"                        \n",
       "  [83] \"trunc\"                              \"trimws\"                            \n",
       "  [85] \"trigamma\"                           \"transform.default\"                 \n",
       "  [87] \"transform.data.frame\"               \"transform\"                         \n",
       "  [89] \"tracingState\"                       \"tracemem\"                          \n",
       "  [91] \"traceback\"                          \"trace\"                             \n",
       "  [93] \"toupper\"                            \"toString.default\"                  \n",
       "  [95] \"toString\"                           \"topenv\"                            \n",
       "  [97] \"tolower\"                            \"textConnectionValue\"               \n",
       "  [99] \"textConnection\"                     \"tempfile\"                          \n",
       " [101] \"tempdir\"                            \"tcrossprod\"                        \n",
       " [103] \"taskCallbackManager\"                \"tapply\"                            \n",
       " [105] \"tanpi\"                              \"tanh\"                              \n",
       " [107] \"tan\"                                \"tabulate\"                          \n",
       " [109] \"table\"                              \"t.default\"                         \n",
       " [111] \"t.data.frame\"                       \"T\"                                 \n",
       " [113] \"t\"                                  \"system2\"                           \n",
       " [115] \"system.time\"                        \"system.file\"                       \n",
       " [117] \"system\"                             \"Sys.which\"                         \n",
       " [119] \"Sys.unsetenv\"                       \"Sys.umask\"                         \n",
       " [121] \"Sys.timezone\"                       \"Sys.time\"                          \n",
       " [123] \"sys.status\"                         \"sys.source\"                        \n",
       " [125] \"Sys.sleep\"                          \"Sys.setlocale\"                     \n",
       " [127] \"Sys.setLanguage\"                    \"Sys.setFileTime\"                   \n",
       " [129] \"Sys.setenv\"                         \"sys.save.image\"                    \n",
       " [131] \"Sys.readlink\"                       \"sys.parents\"                       \n",
       " [133] \"sys.parent\"                         \"sys.on.exit\"                       \n",
       " [135] \"sys.nframe\"                         \"Sys.localeconv\"                    \n",
       " [137] \"sys.load.image\"                     \"Sys.info\"                          \n",
       " [139] \"Sys.glob\"                           \"Sys.getpid\"                        \n",
       " [141] \"Sys.getlocale\"                      \"Sys.getenv\"                        \n",
       " [143] \"sys.function\"                       \"sys.frames\"                        \n",
       " [145] \"sys.frame\"                          \"Sys.Date\"                          \n",
       " [147] \"Sys.chmod\"                          \"sys.calls\"                         \n",
       " [149] \"sys.call\"                           \"switch\"                            \n",
       " [151] \"sweep\"                              \"svd\"                               \n",
       " [153] \"suspendInterrupts\"                  \"suppressWarnings\"                  \n",
       " [155] \"suppressPackageStartupMessages\"     \"suppressMessages\"                  \n",
       " [157] \"summary.warnings\"                   \"summary.table\"                     \n",
       " [159] \"summary.srcref\"                     \"summary.srcfile\"                   \n",
       " [161] \"summary.proc_time\"                  \"Summary.POSIXlt\"                   \n",
       " [163] \"summary.POSIXlt\"                    \"Summary.POSIXct\"                   \n",
       " [165] \"summary.POSIXct\"                    \"Summary.ordered\"                   \n",
       " [167] \"Summary.numeric_version\"            \"summary.matrix\"                    \n",
       " [169] \"Summary.factor\"                     \"summary.factor\"                    \n",
       " [171] \"Summary.difftime\"                   \"summary.default\"                   \n",
       " [173] \"Summary.Date\"                       \"summary.Date\"                      \n",
       " [175] \"Summary.data.frame\"                 \"summary.data.frame\"                \n",
       " [177] \"summary.connection\"                 \"summary\"                           \n",
       " [179] \"sum\"                                \"substring<-\"                       \n",
       " [181] \"substring\"                          \"substr<-\"                          \n",
       " [183] \"substr\"                             \"substitute\"                        \n",
       " [185] \"subset.matrix\"                      \"subset.default\"                    \n",
       " [187] \"subset.data.frame\"                  \"subset\"                            \n",
       " [189] \"sub\"                                \"strwrap\"                           \n",
       " [191] \"structure\"                          \"strtrim\"                           \n",
       " [193] \"strtoi\"                             \"strsplit\"                          \n",
       " [195] \"strrep\"                             \"strptime\"                          \n",
       " [197] \"strftime\"                           \"str2lang\"                          \n",
       " [199] \"str2expression\"                     \"storage.mode<-\"                    \n",
       " [201] \"storage.mode\"                       \"stopifnot\"                         \n",
       " [203] \"stop\"                               \"stdout\"                            \n",
       " [205] \"stdin\"                              \"stderr\"                            \n",
       " [207] \"startsWith\"                         \"standardGeneric\"                   \n",
       " [209] \"srcref\"                             \"srcfilecopy\"                       \n",
       " [211] \"srcfilealias\"                       \"srcfile\"                           \n",
       " [213] \"sQuote\"                             \"sqrt\"                              \n",
       " [215] \"sprintf\"                            \"split<-.default\"                   \n",
       " [217] \"split<-.data.frame\"                 \"split<-\"                           \n",
       " [219] \"split.POSIXct\"                      \"split.default\"                     \n",
       " [221] \"split.Date\"                         \"split.data.frame\"                  \n",
       " [223] \"split\"                              \"source\"                            \n",
       " [225] \"sort.POSIXlt\"                       \"sort.list\"                         \n",
       " [227] \"sort.int\"                           \"sort.default\"                      \n",
       " [229] \"sort\"                               \"solve.qr\"                          \n",
       " [231] \"solve.default\"                      \"solve\"                             \n",
       " [233] \"socketTimeout\"                      \"socketSelect\"                      \n",
       " [235] \"socketConnection\"                   \"socketAccept\"                      \n",
       " [237] \"slice.index\"                        \"sinpi\"                             \n",
       " [239] \"sink.number\"                        \"sink\"                              \n",
       " [241] \"sinh\"                               \"single\"                            \n",
       " [243] \"sin\"                                \"simplify2array\"                    \n",
       " [245] \"simpleWarning\"                      \"simpleMessage\"                     \n",
       " [247] \"simpleError\"                        \"simpleCondition\"                   \n",
       " [249] \"signif\"                             \"signalCondition\"                   \n",
       " [251] \"sign\"                               \"shQuote\"                           \n",
       " [253] \"showConnections\"                    \"setwd\"                             \n",
       " [255] \"setTimeLimit\"                       \"setSessionTimeLimit\"               \n",
       " [257] \"setNamespaceInfo\"                   \"setHook\"                           \n",
       " [259] \"setequal\"                           \"setdiff\"                           \n",
       " [261] \"set.seed\"                           \"serverSocket\"                      \n",
       " [263] \"serialize\"                          \"sequence.default\"                  \n",
       " [265] \"sequence\"                           \"seq.POSIXt\"                        \n",
       " [267] \"seq.int\"                            \"seq.default\"                       \n",
       " [269] \"seq.Date\"                           \"seq_len\"                           \n",
       " [271] \"seq_along\"                          \"seq\"                               \n",
       " [273] \"seek.connection\"                    \"seek\"                              \n",
       " [275] \"searchpaths\"                        \"search\"                            \n",
       " [277] \"scan\"                               \"scale.default\"                     \n",
       " [279] \"scale\"                              \"saveRDS\"                           \n",
       " [281] \"save.image\"                         \"save\"                              \n",
       " [283] \"sapply\"                             \"sample.int\"                        \n",
       " [285] \"sample\"                             \"rowSums\"                           \n",
       " [287] \"rowsum.default\"                     \"rowsum.data.frame\"                 \n",
       " [289] \"rowsum\"                             \"rownames<-\"                        \n",
       " [291] \"rownames\"                           \"rowMeans\"                          \n",
       " [293] \"row.names<-.default\"                \"row.names<-.data.frame\"            \n",
       " [295] \"row.names<-\"                        \"row.names.default\"                 \n",
       " [297] \"row.names.data.frame\"               \"row.names\"                         \n",
       " [299] \"row\"                                \"round.POSIXt\"                      \n",
       " [301] \"round.Date\"                         \"round\"                             \n",
       " [303] \"RNGversion\"                         \"RNGkind\"                           \n",
       " [305] \"rm\"                                 \"rle\"                               \n",
       " [307] \"rev.default\"                        \"rev\"                               \n",
       " [309] \"returnValue\"                        \"return\"                            \n",
       " [311] \"retracemem\"                         \"restartFormals\"                    \n",
       " [313] \"restartDescription\"                 \"requireNamespace\"                  \n",
       " [315] \"require\"                            \"replicate\"                         \n",
       " [317] \"replace\"                            \"repeat\"                            \n",
       " [319] \"rep.POSIXlt\"                        \"rep.POSIXct\"                       \n",
       " [321] \"rep.numeric_version\"                \"rep.int\"                           \n",
       " [323] \"rep.factor\"                         \"rep.difftime\"                      \n",
       " [325] \"rep.Date\"                           \"rep_len\"                           \n",
       " [327] \"rep\"                                \"removeTaskCallback\"                \n",
       " [329] \"remove\"                             \"regmatches<-\"                      \n",
       " [331] \"regmatches\"                         \"registerS3methods\"                 \n",
       " [333] \"registerS3method\"                   \"regexpr\"                           \n",
       " [335] \"regexec\"                            \"reg.finalizer\"                     \n",
       " [337] \"Reduce\"                             \"Recall\"                            \n",
       " [339] \"readRenviron\"                       \"readRDS\"                           \n",
       " [341] \"readLines\"                          \"readline\"                          \n",
       " [343] \"readChar\"                           \"readBin\"                           \n",
       " [345] \"read.dcf\"                           \"Re\"                                \n",
       " [347] \"rcond\"                              \"rbind.data.frame\"                  \n",
       " [349] \"rbind\"                              \"rawToChar\"                         \n",
       " [351] \"rawToBits\"                          \"rawShift\"                          \n",
       " [353] \"rawConnectionValue\"                 \"rawConnection\"                     \n",
       " [355] \"raw\"                                \"rapply\"                            \n",
       " [357] \"rank\"                               \"range.default\"                     \n",
       " [359] \"range\"                              \"R.version.string\"                  \n",
       " [361] \"R.Version\"                          \"R.version\"                         \n",
       " [363] \"R.home\"                             \"R_system_version\"                  \n",
       " [365] \"quote\"                              \"quit\"                              \n",
       " [367] \"quarters.POSIXt\"                    \"quarters.Date\"                     \n",
       " [369] \"quarters\"                           \"qr.X\"                              \n",
       " [371] \"qr.solve\"                           \"qr.resid\"                          \n",
       " [373] \"qr.R\"                               \"qr.qy\"                             \n",
       " [375] \"qr.qty\"                             \"qr.Q\"                              \n",
       " [377] \"qr.fitted\"                          \"qr.default\"                        \n",
       " [379] \"qr.coef\"                            \"qr\"                                \n",
       " [381] \"q\"                                  \"pushBackLength\"                    \n",
       " [383] \"pushBack\"                           \"psigamma\"                          \n",
       " [385] \"provideDimnames\"                    \"proportions\"                       \n",
       " [387] \"prop.table\"                         \"prod\"                              \n",
       " [389] \"proc.time\"                          \"prmatrix\"                          \n",
       " [391] \"print.warnings\"                     \"print.table\"                       \n",
       " [393] \"print.summaryDefault\"               \"print.summary.warnings\"            \n",
       " [395] \"print.summary.table\"                \"print.srcref\"                      \n",
       " [397] \"print.srcfile\"                      \"print.simple.list\"                 \n",
       " [399] \"print.rle\"                          \"print.restart\"                     \n",
       " [401] \"print.proc_time\"                    \"print.POSIXlt\"                     \n",
       " [403] \"print.POSIXct\"                      \"print.packageInfo\"                 \n",
       " [405] \"print.octmode\"                      \"print.numeric_version\"             \n",
       " [407] \"print.noquote\"                      \"print.NativeRoutineList\"           \n",
       " [409] \"print.listof\"                       \"print.libraryIQR\"                  \n",
       " [411] \"print.hexmode\"                      \"print.function\"                    \n",
       " [413] \"print.factor\"                       \"print.eigen\"                       \n",
       " [415] \"print.DLLRegisteredRoutines\"        \"print.DLLInfoList\"                 \n",
       " [417] \"print.DLLInfo\"                      \"print.Dlist\"                       \n",
       " [419] \"print.difftime\"                     \"print.default\"                     \n",
       " [421] \"print.Date\"                         \"print.data.frame\"                  \n",
       " [423] \"print.connection\"                   \"print.condition\"                   \n",
       " [425] \"print.by\"                           \"print.AsIs\"                        \n",
       " [427] \"print\"                              \"prettyNum\"                         \n",
       " [429] \"pretty.default\"                     \"pretty\"                            \n",
       " [431] \"Position\"                           \"pos.to.env\"                        \n",
       " [433] \"polyroot\"                           \"pmin.int\"                          \n",
       " [435] \"pmin\"                               \"pmax.int\"                          \n",
       " [437] \"pmax\"                               \"pmatch\"                            \n",
       " [439] \"plot\"                               \"pipe\"                              \n",
       " [441] \"pi\"                                 \"pcre_config\"                       \n",
       " [443] \"path.package\"                       \"path.expand\"                       \n",
       " [445] \"paste0\"                             \"paste\"                             \n",
       " [447] \"parseNamespaceFile\"                 \"parse\"                             \n",
       " [449] \"parent.frame\"                       \"parent.env<-\"                      \n",
       " [451] \"parent.env\"                         \"pairlist\"                          \n",
       " [453] \"packBits\"                           \"packageStartupMessage\"             \n",
       " [455] \"packageNotFoundError\"               \"packageHasNamespace\"               \n",
       " [457] \"packageEvent\"                       \"package_version\"                   \n",
       " [459] \"outer\"                              \"ordered\"                           \n",
       " [461] \"order\"                              \"options\"                           \n",
       " [463] \"Ops.POSIXt\"                         \"Ops.ordered\"                       \n",
       " [465] \"Ops.numeric_version\"                \"Ops.factor\"                        \n",
       " [467] \"Ops.difftime\"                       \"Ops.Date\"                          \n",
       " [469] \"Ops.data.frame\"                     \"open.srcfilecopy\"                  \n",
       " [471] \"open.srcfilealias\"                  \"open.srcfile\"                      \n",
       " [473] \"open.connection\"                    \"open\"                              \n",
       " [475] \"on.exit\"                            \"OlsonNames\"                        \n",
       " [477] \"oldClass<-\"                         \"oldClass\"                          \n",
       " [479] \"objects\"                            \"nzchar\"                            \n",
       " [481] \"numToInts\"                          \"numToBits\"                         \n",
       " [483] \"numeric_version\"                    \"numeric\"                           \n",
       " [485] \"nullfile\"                           \"NROW\"                              \n",
       " [487] \"nrow\"                               \"normalizePath\"                     \n",
       " [489] \"norm\"                               \"noquote\"                           \n",
       " [491] \"nlevels\"                            \"ngettext\"                          \n",
       " [493] \"NextMethod\"                         \"next\"                              \n",
       " [495] \"new.env\"                            \"Negate\"                            \n",
       " [497] \"NCOL\"                               \"ncol\"                              \n",
       " [499] \"nchar\"                              \"nargs\"                             \n",
       " [501] \"namespaceImportMethods\"             \"namespaceImportFrom\"               \n",
       " [503] \"namespaceImportClasses\"             \"namespaceImport\"                   \n",
       " [505] \"namespaceExport\"                    \"names<-.POSIXlt\"                   \n",
       " [507] \"names<-\"                            \"names.POSIXlt\"                     \n",
       " [509] \"names\"                              \"mtfrm.default\"                     \n",
       " [511] \"mtfrm\"                              \"mostattributes<-\"                  \n",
       " [513] \"months.POSIXt\"                      \"months.Date\"                       \n",
       " [515] \"months\"                             \"month.name\"                        \n",
       " [517] \"month.abb\"                          \"mode<-\"                            \n",
       " [519] \"mode\"                               \"Mod\"                               \n",
       " [521] \"missing\"                            \"min\"                               \n",
       " [523] \"mget\"                               \"message\"                           \n",
       " [525] \"merge.default\"                      \"merge.data.frame\"                  \n",
       " [527] \"merge\"                              \"memory.profile\"                    \n",
       " [529] \"memDecompress\"                      \"memCompress\"                       \n",
       " [531] \"mem.maxVSize\"                       \"mem.maxNSize\"                      \n",
       " [533] \"mean.POSIXlt\"                       \"mean.POSIXct\"                      \n",
       " [535] \"mean.difftime\"                      \"mean.default\"                      \n",
       " [537] \"mean.Date\"                          \"mean\"                              \n",
       " [539] \"max.col\"                            \"max\"                               \n",
       " [541] \"matrix\"                             \"Math.POSIXt\"                       \n",
       " [543] \"Math.factor\"                        \"Math.difftime\"                     \n",
       " [545] \"Math.Date\"                          \"Math.data.frame\"                   \n",
       " [547] \"match.fun\"                          \"match.call\"                        \n",
       " [549] \"match.arg\"                          \"match\"                             \n",
       " [551] \"mat.or.vec\"                         \"marginSums\"                        \n",
       " [553] \"margin.table\"                       \"mapply\"                            \n",
       " [555] \"Map\"                                \"makeActiveBinding\"                 \n",
       " [557] \"make.unique\"                        \"make.names\"                        \n",
       " [559] \"ls\"                                 \"lower.tri\"                         \n",
       " [561] \"logical\"                            \"logb\"                              \n",
       " [563] \"log2\"                               \"log1p\"                             \n",
       " [565] \"log10\"                              \"log\"                               \n",
       " [567] \"lockEnvironment\"                    \"lockBinding\"                       \n",
       " [569] \"local\"                              \"loadNamespace\"                     \n",
       " [571] \"loadingNamespaceInfo\"               \"loadedNamespaces\"                  \n",
       " [573] \"load\"                               \"list2env\"                          \n",
       " [575] \"list2DF\"                            \"list.files\"                        \n",
       " [577] \"list.dirs\"                          \"list\"                              \n",
       " [579] \"license\"                            \"licence\"                           \n",
       " [581] \"library.dynam.unload\"               \"library.dynam\"                     \n",
       " [583] \"library\"                            \"libcurlVersion\"                    \n",
       " [585] \"lgamma\"                             \"lfactorial\"                        \n",
       " [587] \"levels<-.factor\"                    \"levels<-\"                          \n",
       " [589] \"levels.default\"                     \"levels\"                            \n",
       " [591] \"LETTERS\"                            \"letters\"                           \n",
       " [593] \"lengths\"                            \"length<-.POSIXlt\"                  \n",
       " [595] \"length<-.POSIXct\"                   \"length<-.factor\"                   \n",
       " [597] \"length<-.difftime\"                  \"length<-.Date\"                     \n",
       " [599] \"length<-\"                           \"length.POSIXlt\"                    \n",
       " [601] \"length\"                             \"lchoose\"                           \n",
       " [603] \"lbeta\"                              \"lazyLoadDBfetch\"                   \n",
       " [605] \"lazyLoadDBexec\"                     \"lazyLoad\"                          \n",
       " [607] \"last.warning\"                       \"lapply\"                            \n",
       " [609] \"labels.default\"                     \"labels\"                            \n",
       " [611] \"La.svd\"                             \"La_version\"                        \n",
       " [613] \"La_library\"                         \"l10n_info\"                         \n",
       " [615] \"kronecker\"                          \"kappa.qr\"                          \n",
       " [617] \"kappa.lm\"                           \"kappa.default\"                     \n",
       " [619] \"kappa\"                              \"julian.POSIXt\"                     \n",
       " [621] \"julian.Date\"                        \"julian\"                            \n",
       " [623] \"jitter\"                             \"isTRUE\"                            \n",
       " [625] \"isSymmetric.matrix\"                 \"isSymmetric\"                       \n",
       " [627] \"isSeekable\"                         \"isS4\"                              \n",
       " [629] \"isRestart\"                          \"isOpen\"                            \n",
       " [631] \"ISOdatetime\"                        \"ISOdate\"                           \n",
       " [633] \"isNamespaceLoaded\"                  \"isNamespace\"                       \n",
       " [635] \"isIncomplete\"                       \"isFALSE\"                           \n",
       " [637] \"isdebugged\"                         \"isBaseNamespace\"                   \n",
       " [639] \"isatty\"                             \"isa\"                               \n",
       " [641] \"is.vector\"                          \"is.unsorted\"                       \n",
       " [643] \"is.table\"                           \"is.symbol\"                         \n",
       " [645] \"is.single\"                          \"is.recursive\"                      \n",
       " [647] \"is.raw\"                             \"is.R\"                              \n",
       " [649] \"is.qr\"                              \"is.primitive\"                      \n",
       " [651] \"is.pairlist\"                        \"is.package_version\"                \n",
       " [653] \"is.ordered\"                         \"is.object\"                         \n",
       " [655] \"is.numeric.POSIXt\"                  \"is.numeric.difftime\"               \n",
       " [657] \"is.numeric.Date\"                    \"is.numeric_version\"                \n",
       " [659] \"is.numeric\"                         \"is.null\"                           \n",
       " [661] \"is.nan\"                             \"is.name\"                           \n",
       " [663] \"is.na<-.numeric_version\"            \"is.na<-.factor\"                    \n",
       " [665] \"is.na<-.default\"                    \"is.na<-\"                           \n",
       " [667] \"is.na.POSIXlt\"                      \"is.na.numeric_version\"             \n",
       " [669] \"is.na.data.frame\"                   \"is.na\"                             \n",
       " [671] \"is.matrix\"                          \"is.logical\"                        \n",
       " [673] \"is.loaded\"                          \"is.list\"                           \n",
       " [675] \"is.language\"                        \"is.integer\"                        \n",
       " [677] \"is.infinite\"                        \"is.function\"                       \n",
       " [679] \"is.finite\"                          \"is.factor\"                         \n",
       " [681] \"is.expression\"                      \"is.environment\"                    \n",
       " [683] \"is.element\"                         \"is.double\"                         \n",
       " [685] \"is.data.frame\"                      \"is.complex\"                        \n",
       " [687] \"is.character\"                       \"is.call\"                           \n",
       " [689] \"is.atomic\"                          \"is.array\"                          \n",
       " [691] \"invokeRestartInteractively\"         \"invokeRestart\"                     \n",
       " [693] \"invisible\"                          \"inverse.rle\"                       \n",
       " [695] \"intToUtf8\"                          \"intToBits\"                         \n",
       " [697] \"intersect\"                          \"interactive\"                       \n",
       " [699] \"interaction\"                        \"integer\"                           \n",
       " [701] \"inherits\"                           \"infoRDS\"                           \n",
       " [703] \"importIntoEnv\"                      \"Im\"                                \n",
       " [705] \"ifelse\"                             \"if\"                                \n",
       " [707] \"identity\"                           \"identical\"                         \n",
       " [709] \"icuSetCollate\"                      \"icuGetCollate\"                     \n",
       " [711] \"iconvlist\"                          \"iconv\"                             \n",
       " [713] \"I\"                                  \"gzfile\"                            \n",
       " [715] \"gzcon\"                              \"gsub\"                              \n",
       " [717] \"grouping\"                           \"grepRaw\"                           \n",
       " [719] \"grepl\"                              \"grep\"                              \n",
       " [721] \"gregexpr\"                           \"gregexec\"                          \n",
       " [723] \"globalenv\"                          \"globalCallingHandlers\"             \n",
       " [725] \"gl\"                                 \"getwd\"                             \n",
       " [727] \"gettextf\"                           \"gettext\"                           \n",
       " [729] \"getTaskCallbackNames\"               \"getSrcLines\"                       \n",
       " [731] \"getRversion\"                        \"getOption\"                         \n",
       " [733] \"getNativeSymbolInfo\"                \"getNamespaceVersion\"               \n",
       " [735] \"getNamespaceUsers\"                  \"getNamespaceName\"                  \n",
       " [737] \"getNamespaceInfo\"                   \"getNamespaceImports\"               \n",
       " [739] \"getNamespaceExports\"                \"getNamespace\"                      \n",
       " [741] \"getLoadedDLLs\"                      \"getHook\"                           \n",
       " [743] \"getExportedValue\"                   \"geterrmessage\"                     \n",
       " [745] \"getElement\"                         \"getDLLRegisteredRoutines.DLLInfo\"  \n",
       " [747] \"getDLLRegisteredRoutines.character\" \"getDLLRegisteredRoutines\"          \n",
       " [749] \"getConnection\"                      \"getCallingDLLe\"                    \n",
       " [751] \"getCallingDLL\"                      \"getAllConnections\"                 \n",
       " [753] \"get0\"                               \"get\"                               \n",
       " [755] \"gctorture2\"                         \"gctorture\"                         \n",
       " [757] \"gcinfo\"                             \"gc.time\"                           \n",
       " [759] \"gc\"                                 \"gamma\"                             \n",
       " [761] \"function\"                           \"forwardsolve\"                      \n",
       " [763] \"formatDL\"                           \"formatC\"                           \n",
       " [765] \"format.summaryDefault\"              \"format.pval\"                       \n",
       " [767] \"format.POSIXlt\"                     \"format.POSIXct\"                    \n",
       " [769] \"format.packageInfo\"                 \"format.octmode\"                    \n",
       " [771] \"format.numeric_version\"             \"format.libraryIQR\"                 \n",
       " [773] \"format.info\"                        \"format.hexmode\"                    \n",
       " [775] \"format.factor\"                      \"format.difftime\"                   \n",
       " [777] \"format.default\"                     \"format.Date\"                       \n",
       " [779] \"format.data.frame\"                  \"format.AsIs\"                       \n",
       " [781] \"format\"                             \"formals<-\"                         \n",
       " [783] \"formals\"                            \"forceAndCall\"                      \n",
       " [785] \"force\"                              \"for\"                               \n",
       " [787] \"flush.connection\"                   \"flush\"                             \n",
       " [789] \"floor\"                              \"findRestart\"                       \n",
       " [791] \"findPackageEnv\"                     \"findInterval\"                      \n",
       " [793] \"find.package\"                       \"Find\"                              \n",
       " [795] \"Filter\"                             \"file.symlink\"                      \n",
       " [797] \"file.size\"                          \"file.show\"                         \n",
       " [799] \"file.rename\"                        \"file.remove\"                       \n",
       " [801] \"file.path\"                          \"file.mtime\"                        \n",
       " [803] \"file.mode\"                          \"file.link\"                         \n",
       " [805] \"file.info\"                          \"file.exists\"                       \n",
       " [807] \"file.create\"                        \"file.copy\"                         \n",
       " [809] \"file.choose\"                        \"file.append\"                       \n",
       " [811] \"file.access\"                        \"file\"                              \n",
       " [813] \"fifo\"                               \"factorial\"                         \n",
       " [815] \"factor\"                             \"F\"                                 \n",
       " [817] \"extSoftVersion\"                     \"expression\"                        \n",
       " [819] \"expm1\"                              \"expand.grid\"                       \n",
       " [821] \"exp\"                                \"exists\"                            \n",
       " [823] \"evalq\"                              \"eval.parent\"                       \n",
       " [825] \"eval\"                               \"errorCondition\"                    \n",
       " [827] \"environmentName\"                    \"environmentIsLocked\"               \n",
       " [829] \"environment<-\"                      \"environment\"                       \n",
       " [831] \"env.profile\"                        \"enquote\"                           \n",
       " [833] \"endsWith\"                           \"Encoding<-\"                        \n",
       " [835] \"Encoding\"                           \"encodeString\"                      \n",
       " [837] \"enc2utf8\"                           \"enc2native\"                        \n",
       " [839] \"emptyenv\"                           \"eigen\"                             \n",
       " [841] \"eapply\"                             \"dynGet\"                            \n",
       " [843] \"dyn.unload\"                         \"dyn.load\"                          \n",
       " [845] \"duplicated.warnings\"                \"duplicated.POSIXlt\"                \n",
       " [847] \"duplicated.numeric_version\"         \"duplicated.matrix\"                 \n",
       " [849] \"duplicated.default\"                 \"duplicated.data.frame\"             \n",
       " [851] \"duplicated.array\"                   \"duplicated\"                        \n",
       " [853] \"dump\"                               \"droplevels.factor\"                 \n",
       " [855] \"droplevels.data.frame\"              \"droplevels\"                        \n",
       " [857] \"drop\"                               \"dQuote\"                            \n",
       " [859] \"dput\"                               \"double\"                            \n",
       " [861] \"dontCheck\"                          \"do.call\"                           \n",
       " [863] \"dirname\"                            \"dir.exists\"                        \n",
       " [865] \"dir.create\"                         \"dir\"                               \n",
       " [867] \"dimnames<-.data.frame\"              \"dimnames<-\"                        \n",
       " [869] \"dimnames.data.frame\"                \"dimnames\"                          \n",
       " [871] \"dim<-\"                              \"dim.data.frame\"                    \n",
       " [873] \"dim\"                                \"digamma\"                           \n",
       " [875] \"difftime\"                           \"diff.POSIXt\"                       \n",
       " [877] \"diff.difftime\"                      \"diff.default\"                      \n",
       " [879] \"diff.Date\"                          \"diff\"                              \n",
       " [881] \"diag<-\"                             \"diag\"                              \n",
       " [883] \"dget\"                               \"determinant.matrix\"                \n",
       " [885] \"determinant\"                        \"detach\"                            \n",
       " [887] \"det\"                                \"deparse1\"                          \n",
       " [889] \"deparse\"                            \"delayedAssign\"                     \n",
       " [891] \"default.stringsAsFactors\"           \"debugonce\"                         \n",
       " [893] \"debuggingState\"                     \"debug\"                             \n",
       " [895] \"date\"                               \"data.matrix\"                       \n",
       " [897] \"data.frame\"                         \"data.class\"                        \n",
       " [899] \"cut.POSIXt\"                         \"cut.default\"                       \n",
       " [901] \"cut.Date\"                           \"cut\"                               \n",
       " [903] \"curlGetHeaders\"                     \"cumsum\"                            \n",
       " [905] \"cumprod\"                            \"cummin\"                            \n",
       " [907] \"cummax\"                             \"Cstack_info\"                       \n",
       " [909] \"crossprod\"                          \"cospi\"                             \n",
       " [911] \"cosh\"                               \"cos\"                               \n",
       " [913] \"contributors\"                       \"Conj\"                              \n",
       " [915] \"conflicts\"                          \"conflictRules\"                     \n",
       " [917] \"conditionMessage.condition\"         \"conditionMessage\"                  \n",
       " [919] \"conditionCall.condition\"            \"conditionCall\"                     \n",
       " [921] \"computeRestarts\"                    \"complex\"                           \n",
       " [923] \"comment<-\"                          \"comment\"                           \n",
       " [925] \"commandArgs\"                        \"colSums\"                           \n",
       " [927] \"colnames<-\"                         \"colnames\"                          \n",
       " [929] \"colMeans\"                           \"col\"                               \n",
       " [931] \"closeAllConnections\"                \"close.srcfilealias\"                \n",
       " [933] \"close.srcfile\"                      \"close.connection\"                  \n",
       " [935] \"close\"                              \"clearPushBack\"                     \n",
       " [937] \"class<-\"                            \"class\"                             \n",
       " [939] \"choose\"                             \"chol2inv\"                          \n",
       " [941] \"chol.default\"                       \"chol\"                              \n",
       " [943] \"chkDots\"                            \"check_tzones\"                      \n",
       " [945] \"chartr\"                             \"charToRaw\"                         \n",
       " [947] \"charmatch\"                          \"character\"                         \n",
       " [949] \"char.expand\"                        \"ceiling\"                           \n",
       " [951] \"cbind.data.frame\"                   \"cbind\"                             \n",
       " [953] \"cat\"                                \"casefold\"                          \n",
       " [955] \"capabilities\"                       \"callCC\"                            \n",
       " [957] \"call\"                               \"c.warnings\"                        \n",
       " [959] \"c.POSIXlt\"                          \"c.POSIXct\"                         \n",
       " [961] \"c.numeric_version\"                  \"c.noquote\"                         \n",
       " [963] \"c.factor\"                           \"c.difftime\"                        \n",
       " [965] \"c.Date\"                             \"c\"                                 \n",
       " [967] \"bzfile\"                             \"by.default\"                        \n",
       " [969] \"by.data.frame\"                      \"by\"                                \n",
       " [971] \"builtins\"                           \"browserText\"                       \n",
       " [973] \"browserSetDebug\"                    \"browserCondition\"                  \n",
       " [975] \"browser\"                            \"break\"                             \n",
       " [977] \"bquote\"                             \"body<-\"                            \n",
       " [979] \"body\"                               \"bitwXor\"                           \n",
       " [981] \"bitwShiftR\"                         \"bitwShiftL\"                        \n",
       " [983] \"bitwOr\"                             \"bitwNot\"                           \n",
       " [985] \"bitwAnd\"                            \"bindtextdomain\"                    \n",
       " [987] \"bindingIsLocked\"                    \"bindingIsActive\"                   \n",
       " [989] \"beta\"                               \"besselY\"                           \n",
       " [991] \"besselK\"                            \"besselJ\"                           \n",
       " [993] \"besselI\"                            \"basename\"                          \n",
       " [995] \"baseenv\"                            \"backsolve\"                         \n",
       " [997] \"autoloader\"                         \"autoload\"                          \n",
       " [999] \"attributes<-\"                       \"attributes\"                        \n",
       "[1001] \"attr<-\"                             \"attr.all.equal\"                    \n",
       "[1003] \"attr\"                               \"attachNamespace\"                   \n",
       "[1005] \"attach\"                             \"atanh\"                             \n",
       "[1007] \"atan2\"                              \"atan\"                              \n",
       "[1009] \"assign\"                             \"asS4\"                              \n",
       "[1011] \"asS3\"                               \"asplit\"                            \n",
       "[1013] \"asNamespace\"                        \"asinh\"                             \n",
       "[1015] \"asin\"                               \"as.vector.POSIXlt\"                 \n",
       "[1017] \"as.vector.factor\"                   \"as.vector.data.frame\"              \n",
       "[1019] \"as.vector\"                          \"as.table.default\"                  \n",
       "[1021] \"as.table\"                           \"as.symbol\"                         \n",
       "[1023] \"as.single.default\"                  \"as.single\"                         \n",
       "[1025] \"as.raw\"                             \"as.qr\"                             \n",
       "[1027] \"as.POSIXlt.POSIXct\"                 \"as.POSIXlt.numeric\"                \n",
       "[1029] \"as.POSIXlt.factor\"                  \"as.POSIXlt.default\"                \n",
       "[1031] \"as.POSIXlt.Date\"                    \"as.POSIXlt.character\"              \n",
       "[1033] \"as.POSIXlt\"                         \"as.POSIXct.POSIXlt\"                \n",
       "[1035] \"as.POSIXct.numeric\"                 \"as.POSIXct.default\"                \n",
       "[1037] \"as.POSIXct.Date\"                    \"as.POSIXct\"                        \n",
       "[1039] \"as.pairlist\"                        \"as.package_version\"                \n",
       "[1041] \"as.ordered\"                         \"as.octmode\"                        \n",
       "[1043] \"as.numeric_version\"                 \"as.numeric\"                        \n",
       "[1045] \"as.null.default\"                    \"as.null\"                           \n",
       "[1047] \"as.name\"                            \"as.matrix.POSIXlt\"                 \n",
       "[1049] \"as.matrix.noquote\"                  \"as.matrix.default\"                 \n",
       "[1051] \"as.matrix.data.frame\"               \"as.matrix\"                         \n",
       "[1053] \"as.logical.factor\"                  \"as.logical\"                        \n",
       "[1055] \"as.list.POSIXlt\"                    \"as.list.POSIXct\"                   \n",
       "[1057] \"as.list.numeric_version\"            \"as.list.function\"                  \n",
       "[1059] \"as.list.factor\"                     \"as.list.environment\"               \n",
       "[1061] \"as.list.difftime\"                   \"as.list.default\"                   \n",
       "[1063] \"as.list.Date\"                       \"as.list.data.frame\"                \n",
       "[1065] \"as.list\"                            \"as.integer\"                        \n",
       "[1067] \"as.hexmode\"                         \"as.function.default\"               \n",
       "[1069] \"as.function\"                        \"as.factor\"                         \n",
       "[1071] \"as.expression.default\"              \"as.expression\"                     \n",
       "[1073] \"as.environment\"                     \"as.double.POSIXlt\"                 \n",
       "[1075] \"as.double.difftime\"                 \"as.double\"                         \n",
       "[1077] \"as.difftime\"                        \"as.Date.POSIXlt\"                   \n",
       "[1079] \"as.Date.POSIXct\"                    \"as.Date.numeric\"                   \n",
       "[1081] \"as.Date.factor\"                     \"as.Date.default\"                   \n",
       "[1083] \"as.Date.character\"                  \"as.Date\"                           \n",
       "[1085] \"as.data.frame.vector\"               \"as.data.frame.ts\"                  \n",
       "[1087] \"as.data.frame.table\"                \"as.data.frame.raw\"                 \n",
       "[1089] \"as.data.frame.POSIXlt\"              \"as.data.frame.POSIXct\"             \n",
       "[1091] \"as.data.frame.ordered\"              \"as.data.frame.numeric_version\"     \n",
       "[1093] \"as.data.frame.numeric\"              \"as.data.frame.noquote\"             \n",
       "[1095] \"as.data.frame.model.matrix\"         \"as.data.frame.matrix\"              \n",
       "[1097] \"as.data.frame.logical\"              \"as.data.frame.list\"                \n",
       "[1099] \"as.data.frame.integer\"              \"as.data.frame.factor\"              \n",
       "[1101] \"as.data.frame.difftime\"             \"as.data.frame.default\"             \n",
       "[1103] \"as.data.frame.Date\"                 \"as.data.frame.data.frame\"          \n",
       "[1105] \"as.data.frame.complex\"              \"as.data.frame.character\"           \n",
       "[1107] \"as.data.frame.AsIs\"                 \"as.data.frame.array\"               \n",
       "[1109] \"as.data.frame\"                      \"as.complex\"                        \n",
       "[1111] \"as.character.srcref\"                \"as.character.POSIXt\"               \n",
       "[1113] \"as.character.octmode\"               \"as.character.numeric_version\"      \n",
       "[1115] \"as.character.hexmode\"               \"as.character.factor\"               \n",
       "[1117] \"as.character.error\"                 \"as.character.default\"              \n",
       "[1119] \"as.character.Date\"                  \"as.character.condition\"            \n",
       "[1121] \"as.character\"                       \"as.call\"                           \n",
       "[1123] \"as.array.default\"                   \"as.array\"                          \n",
       "[1125] \"arrayInd\"                           \"array\"                             \n",
       "[1127] \"args\"                               \"Arg\"                               \n",
       "[1129] \"apply\"                              \"append\"                            \n",
       "[1131] \"aperm.table\"                        \"aperm.default\"                     \n",
       "[1133] \"aperm\"                              \"anyNA.POSIXlt\"                     \n",
       "[1135] \"anyNA.numeric_version\"              \"anyNA.data.frame\"                  \n",
       "[1137] \"anyNA\"                              \"anyDuplicated.matrix\"              \n",
       "[1139] \"anyDuplicated.default\"              \"anyDuplicated.data.frame\"          \n",
       "[1141] \"anyDuplicated.array\"                \"anyDuplicated\"                     \n",
       "[1143] \"any\"                                \"allowInterrupts\"                   \n",
       "[1145] \"all.vars\"                           \"all.names\"                         \n",
       "[1147] \"all.equal.raw\"                      \"all.equal.POSIXt\"                  \n",
       "[1149] \"all.equal.numeric\"                  \"all.equal.list\"                    \n",
       "[1151] \"all.equal.language\"                 \"all.equal.function\"                \n",
       "[1153] \"all.equal.formula\"                  \"all.equal.factor\"                  \n",
       "[1155] \"all.equal.envRefClass\"              \"all.equal.environment\"             \n",
       "[1157] \"all.equal.default\"                  \"all.equal.character\"               \n",
       "[1159] \"all.equal\"                          \"all\"                               \n",
       "[1161] \"alist\"                              \"agrepl\"                            \n",
       "[1163] \"agrep\"                              \"addTaskCallback\"                   \n",
       "[1165] \"addNA\"                              \"activeBindingFunction\"             \n",
       "[1167] \"acosh\"                              \"acos\"                              \n",
       "[1169] \"abs\"                                \"abbreviate\"                        \n",
       "[1171] \"$<-.data.frame\"                     \"$<-\"                               \n",
       "[1173] \"$.package_version\"                  \"$.DLLInfo\"                         \n",
       "[1175] \"$\"                                  \"~\"                                 \n",
       "[1177] \"||\"                                 \"|.octmode\"                         \n",
       "[1179] \"|.hexmode\"                          \"|\"                                 \n",
       "[1181] \">=\"                                 \">\"                                 \n",
       "[1183] \"==\"                                 \"=\"                                 \n",
       "[1185] \"<=\"                                 \"<<-\"                               \n",
       "[1187] \"<-\"                                 \"<\"                                 \n",
       "[1189] \"+.POSIXt\"                           \"+.Date\"                            \n",
       "[1191] \"+\"                                  \"^\"                                 \n",
       "[1193] \"%x%\"                                \"%o%\"                               \n",
       "[1195] \"%in%\"                               \"%%\"                                \n",
       "[1197] \"%/%\"                                \"%*%\"                               \n",
       "[1199] \"&&\"                                 \"&.octmode\"                         \n",
       "[1201] \"&.hexmode\"                          \"&\"                                 \n",
       "[1203] \"/.difftime\"                         \"/\"                                 \n",
       "[1205] \"*.difftime\"                         \"*\"                                 \n",
       "[1207] \"@<-\"                                \"@\"                                 \n",
       "[1209] \"{\"                                  \"[<-.POSIXlt\"                       \n",
       "[1211] \"[<-.POSIXct\"                        \"[<-.numeric_version\"               \n",
       "[1213] \"[<-.factor\"                         \"[<-.difftime\"                      \n",
       "[1215] \"[<-.Date\"                           \"[<-.data.frame\"                    \n",
       "[1217] \"[<-\"                                \"[[<-.POSIXlt\"                      \n",
       "[1219] \"[[<-.numeric_version\"               \"[[<-.factor\"                       \n",
       "[1221] \"[[<-.data.frame\"                    \"[[<-\"                              \n",
       "[1223] \"[[.POSIXlt\"                         \"[[.POSIXct\"                        \n",
       "[1225] \"[[.numeric_version\"                 \"[[.factor\"                         \n",
       "[1227] \"[[.Date\"                            \"[[.data.frame\"                     \n",
       "[1229] \"[[\"                                 \"[.warnings\"                        \n",
       "[1231] \"[.table\"                            \"[.simple.list\"                     \n",
       "[1233] \"[.POSIXlt\"                          \"[.POSIXct\"                         \n",
       "[1235] \"[.octmode\"                          \"[.numeric_version\"                 \n",
       "[1237] \"[.noquote\"                          \"[.listof\"                          \n",
       "[1239] \"[.hexmode\"                          \"[.factor\"                          \n",
       "[1241] \"[.DLLInfoList\"                      \"[.Dlist\"                           \n",
       "[1243] \"[.difftime\"                         \"[.Date\"                            \n",
       "[1245] \"[.data.frame\"                       \"[.AsIs\"                            \n",
       "[1247] \"[\"                                  \"(\"                                 \n",
       "[1249] \".valid.factor\"                      \".userHooksEnv\"                     \n",
       "[1251] \".tryResumeInterrupt\"                \".traceback\"                        \n",
       "[1253] \".TAOCP1997init\"                     \".sys.timezone\"                     \n",
       "[1255] \".subset2\"                           \".subset\"                           \n",
       "[1257] \".standard_regexps\"                  \".signalSimpleWarning\"              \n",
       "[1259] \".set_row_names\"                     \".Script\"                           \n",
       "[1261] \".S3PrimitiveGenerics\"               \".S3method\"                         \n",
       "[1263] \".S3_methods_table\"                  \".rowSums\"                          \n",
       "[1265] \".rowNamesDF<-\"                      \".rowMeans\"                         \n",
       "[1267] \".row_names_info\"                    \".row\"                              \n",
       "[1269] \".rmpkg\"                             \".primUntrace\"                      \n",
       "[1271] \".primTrace\"                         \".Primitive\"                        \n",
       "[1273] \".pretty\"                            \".POSIXlt\"                          \n",
       "[1275] \".POSIXct\"                           \".popath\"                           \n",
       "[1277] \".Platform\"                          \".packageStartupMessage\"            \n",
       "[1279] \".packages\"                          \".OptRequireMethods\"                \n",
       "[1281] \".Options\"                           \".NotYetUsed\"                       \n",
       "[1283] \".NotYetImplemented\"                 \".noGenerics\"                       \n",
       "[1285] \".mergeImportMethods\"                \".mergeExportMethods\"               \n",
       "[1287] \".maskedMsg\"                         \".mapply\"                           \n",
       "[1289] \".makeMessage\"                       \".make_numeric_version\"             \n",
       "[1291] \".Machine\"                           \".Library.site\"                     \n",
       "[1293] \".Library\"                           \".libPaths\"                         \n",
       "[1295] \".leap.seconds\"                      \".LC.categories\"                    \n",
       "[1297] \".Last.value\"                        \".kronecker\"                        \n",
       "[1299] \".knownS3Generics\"                   \".kappa_tri\"                        \n",
       "[1301] \".isOpen\"                            \".isMethodsDispatchOn\"              \n",
       "[1303] \".Internal\"                          \".handleSimpleError\"                \n",
       "[1305] \".gtn\"                               \".gt\"                               \n",
       "[1307] \".GlobalEnv\"                         \".getRequiredPackages2\"             \n",
       "[1309] \".getRequiredPackages\"               \".getNamespaceInfo\"                 \n",
       "[1311] \".getNamespace\"                      \".GenericArgsEnv\"                   \n",
       "[1313] \".Fortran\"                           \".format.zeros\"                     \n",
       "[1315] \".First.sys\"                         \".F_dtrco\"                          \n",
       "[1317] \".F_dqrxb\"                           \".F_dqrrsd\"                         \n",
       "[1319] \".F_dqrqy\"                           \".F_dqrqty\"                         \n",
       "[1321] \".F_dqrdc2\"                          \".F_dqrcf\"                          \n",
       "[1323] \".F_dchdc\"                           \".External2\"                        \n",
       "[1325] \".External.graphics\"                 \".External\"                         \n",
       "[1327] \".expand_R_libs_env_var\"             \".encode_numeric_version\"           \n",
       "[1329] \".dynLibs\"                           \".doWrap\"                           \n",
       "[1331] \".doTrace\"                           \".doSortWrap\"                       \n",
       "[1333] \".difftime\"                          \".Devices\"                          \n",
       "[1335] \".Device\"                            \".detach\"                           \n",
       "[1337] \".Deprecated\"                        \".deparseOpts\"                      \n",
       "[1339] \".Defunct\"                           \".decode_numeric_version\"           \n",
       "[1341] \".Date\"                              \".colSums\"                          \n",
       "[1343] \".colMeans\"                          \".col\"                              \n",
       "[1345] \".class2\"                            \".Call.graphics\"                    \n",
       "[1347] \".Call\"                              \".cache_class\"                      \n",
       "[1349] \".C_R_removeTaskCallback\"            \".C_R_getTaskCallbackNames\"         \n",
       "[1351] \".C_R_addTaskCallback\"               \".C\"                                \n",
       "[1353] \".bincode\"                           \".BaseNamespaceEnv\"                 \n",
       "[1355] \".AutoloadEnv\"                       \".ArgsEnv\"                          \n",
       "[1357] \".amatch_costs\"                      \".amatch_bounds\"                    \n",
       "[1359] \"..getNamespace\"                     \"..deparseOpts\"                     \n",
       "[1361] \"...names\"                           \"...length\"                         \n",
       "[1363] \"...elt\"                             \".__S3MethodsTable__.\"              \n",
       "[1365] \".__H__.rbind\"                       \".__H__.cbind\"                      \n",
       "[1367] \"!=\"                                 \"!.octmode\"                         \n",
       "[1369] \"!.hexmode\"                          \"!\"                                 \n",
       "[1371] \":::\"                                \"::\"                                \n",
       "[1373] \":\"                                  \"-.POSIXt\"                          \n",
       "[1375] \"-.Date\"                             \"-\"                                 "
      ]
     },
     "metadata": {},
     "output_type": "display_data"
    }
   ],
   "source": [
    "builtins()"
   ]
  },
  {
   "cell_type": "code",
   "execution_count": 2,
   "id": "22019eef-9fbe-419e-a30e-96f6fbc7e235",
   "metadata": {
    "tags": []
   },
   "outputs": [],
   "source": [
    "G20 = c('Argentina',' Australia',' Brazil',' Canada',' China',' France',' Germany',' India',' Indonesia',' Italy',' Japan',' Republic of Korea',' Mexico',' Russia', 'Saudi Arabia',' South Africa',' Turkey',' the United Kingdom',' the United States', 'the European Union')"
   ]
  },
  {
   "cell_type": "code",
   "execution_count": 4,
   "id": "64d736fb-1717-49ca-9254-0e9d70bb4d0a",
   "metadata": {
    "tags": []
   },
   "outputs": [
    {
     "data": {
      "text/html": [
       "<style>\n",
       ".dl-inline {width: auto; margin:0; padding: 0}\n",
       ".dl-inline>dt, .dl-inline>dd {float: none; width: auto; display: inline-block}\n",
       ".dl-inline>dt::after {content: \":\\0020\"; padding-right: .5ex}\n",
       ".dl-inline>dt:not(:first-of-type) {padding-left: .5ex}\n",
       "</style><dl class=dl-inline><dt>Argentina</dt><dd>'Argn'</dd><dt>Australia</dt><dd>'Astr'</dd><dt>Brazil</dt><dd>'Brzl'</dd><dt>Canada</dt><dd>'Cand'</dd><dt>China</dt><dd>'Chin'</dd><dt>France</dt><dd>'Frnc'</dd><dt>Germany</dt><dd>'Grmn'</dd><dt>India</dt><dd>'Indi'</dd><dt>Indonesia</dt><dd>'Indn'</dd><dt>Italy</dt><dd>'Itly'</dd><dt>Japan</dt><dd>'Japn'</dd><dt>Republic of Korea</dt><dd>'RpoK'</dd><dt>Mexico</dt><dd>'Mexc'</dd><dt>Russia</dt><dd>'Russ'</dd><dt>Saudi Arabia</dt><dd>'SdAr'</dd><dt>South Africa</dt><dd>'SthA'</dd><dt>Turkey</dt><dd>'Trky'</dd><dt>the United Kingdom</dt><dd>'thUK'</dd><dt>the United States</dt><dd>'thUS'</dd><dt>the European Union</dt><dd>'thEU'</dd></dl>\n"
      ],
      "text/latex": [
       "\\begin{description*}\n",
       "\\item[Argentina] 'Argn'\n",
       "\\item[Australia] 'Astr'\n",
       "\\item[Brazil] 'Brzl'\n",
       "\\item[Canada] 'Cand'\n",
       "\\item[China] 'Chin'\n",
       "\\item[France] 'Frnc'\n",
       "\\item[Germany] 'Grmn'\n",
       "\\item[India] 'Indi'\n",
       "\\item[Indonesia] 'Indn'\n",
       "\\item[Italy] 'Itly'\n",
       "\\item[Japan] 'Japn'\n",
       "\\item[Republic of Korea] 'RpoK'\n",
       "\\item[Mexico] 'Mexc'\n",
       "\\item[Russia] 'Russ'\n",
       "\\item[Saudi Arabia] 'SdAr'\n",
       "\\item[South Africa] 'SthA'\n",
       "\\item[Turkey] 'Trky'\n",
       "\\item[the United Kingdom] 'thUK'\n",
       "\\item[the United States] 'thUS'\n",
       "\\item[the European Union] 'thEU'\n",
       "\\end{description*}\n"
      ],
      "text/markdown": [
       "Argentina\n",
       ":   'Argn'Australia\n",
       ":   'Astr'Brazil\n",
       ":   'Brzl'Canada\n",
       ":   'Cand'China\n",
       ":   'Chin'France\n",
       ":   'Frnc'Germany\n",
       ":   'Grmn'India\n",
       ":   'Indi'Indonesia\n",
       ":   'Indn'Italy\n",
       ":   'Itly'Japan\n",
       ":   'Japn'Republic of Korea\n",
       ":   'RpoK'Mexico\n",
       ":   'Mexc'Russia\n",
       ":   'Russ'Saudi Arabia\n",
       ":   'SdAr'South Africa\n",
       ":   'SthA'Turkey\n",
       ":   'Trky'the United Kingdom\n",
       ":   'thUK'the United States\n",
       ":   'thUS'the European Union\n",
       ":   'thEU'\n",
       "\n"
      ],
      "text/plain": [
       "         Argentina          Australia             Brazil             Canada \n",
       "            \"Argn\"             \"Astr\"             \"Brzl\"             \"Cand\" \n",
       "             China             France            Germany              India \n",
       "            \"Chin\"             \"Frnc\"             \"Grmn\"             \"Indi\" \n",
       "         Indonesia              Italy              Japan  Republic of Korea \n",
       "            \"Indn\"             \"Itly\"             \"Japn\"             \"RpoK\" \n",
       "            Mexico             Russia       Saudi Arabia       South Africa \n",
       "            \"Mexc\"             \"Russ\"             \"SdAr\"             \"SthA\" \n",
       "            Turkey the United Kingdom  the United States the European Union \n",
       "            \"Trky\"             \"thUK\"             \"thUS\"             \"thEU\" "
      ]
     },
     "metadata": {},
     "output_type": "display_data"
    }
   ],
   "source": [
    "abbreviate(G20,4)"
   ]
  },
  {
   "cell_type": "code",
   "execution_count": 5,
   "id": "2de1f962-53c7-444d-8f83-f871483da2e3",
   "metadata": {
    "tags": []
   },
   "outputs": [],
   "source": [
    "x = c(-12.5,-0.05,3.14)"
   ]
  },
  {
   "cell_type": "markdown",
   "id": "4a8f516b-d143-4954-8f0f-3a1a29a38524",
   "metadata": {
    "tags": []
   },
   "source": [
    "#### abs() method in R programming is used to get the absolute value. i.e. a positive value doesn’t change and a negative value will be converted into a positive value."
   ]
  },
  {
   "cell_type": "code",
   "execution_count": 6,
   "id": "a36030f4-0b66-4137-bf22-7d484a19635f",
   "metadata": {
    "tags": []
   },
   "outputs": [
    {
     "data": {
      "text/html": [
       "<style>\n",
       ".list-inline {list-style: none; margin:0; padding: 0}\n",
       ".list-inline>li {display: inline-block}\n",
       ".list-inline>li:not(:last-child)::after {content: \"\\00b7\"; padding: 0 .5ex}\n",
       "</style>\n",
       "<ol class=list-inline><li>12.5</li><li>0.05</li><li>3.14</li></ol>\n"
      ],
      "text/latex": [
       "\\begin{enumerate*}\n",
       "\\item 12.5\n",
       "\\item 0.05\n",
       "\\item 3.14\n",
       "\\end{enumerate*}\n"
      ],
      "text/markdown": [
       "1. 12.5\n",
       "2. 0.05\n",
       "3. 3.14\n",
       "\n",
       "\n"
      ],
      "text/plain": [
       "[1] 12.50  0.05  3.14"
      ]
     },
     "metadata": {},
     "output_type": "display_data"
    }
   ],
   "source": [
    "abs(x)"
   ]
  },
  {
   "cell_type": "code",
   "execution_count": 7,
   "id": "8c514b7b-53fe-4e2a-a400-f858f3e6d4f3",
   "metadata": {
    "tags": []
   },
   "outputs": [],
   "source": [
    "x = append(x,1:22)"
   ]
  },
  {
   "cell_type": "code",
   "execution_count": 8,
   "id": "8464a101-0d69-4391-b245-be42ca74bb6e",
   "metadata": {
    "tags": []
   },
   "outputs": [
    {
     "data": {
      "text/html": [
       "<style>\n",
       ".list-inline {list-style: none; margin:0; padding: 0}\n",
       ".list-inline>li {display: inline-block}\n",
       ".list-inline>li:not(:last-child)::after {content: \"\\00b7\"; padding: 0 .5ex}\n",
       "</style>\n",
       "<ol class=list-inline><li>-12.5</li><li>-0.05</li><li>3.14</li><li>1</li><li>2</li><li>3</li><li>4</li><li>5</li><li>6</li><li>7</li><li>8</li><li>9</li><li>10</li><li>11</li><li>12</li><li>13</li><li>14</li><li>15</li><li>16</li><li>17</li><li>18</li><li>19</li><li>20</li><li>21</li><li>22</li></ol>\n"
      ],
      "text/latex": [
       "\\begin{enumerate*}\n",
       "\\item -12.5\n",
       "\\item -0.05\n",
       "\\item 3.14\n",
       "\\item 1\n",
       "\\item 2\n",
       "\\item 3\n",
       "\\item 4\n",
       "\\item 5\n",
       "\\item 6\n",
       "\\item 7\n",
       "\\item 8\n",
       "\\item 9\n",
       "\\item 10\n",
       "\\item 11\n",
       "\\item 12\n",
       "\\item 13\n",
       "\\item 14\n",
       "\\item 15\n",
       "\\item 16\n",
       "\\item 17\n",
       "\\item 18\n",
       "\\item 19\n",
       "\\item 20\n",
       "\\item 21\n",
       "\\item 22\n",
       "\\end{enumerate*}\n"
      ],
      "text/markdown": [
       "1. -12.5\n",
       "2. -0.05\n",
       "3. 3.14\n",
       "4. 1\n",
       "5. 2\n",
       "6. 3\n",
       "7. 4\n",
       "8. 5\n",
       "9. 6\n",
       "10. 7\n",
       "11. 8\n",
       "12. 9\n",
       "13. 10\n",
       "14. 11\n",
       "15. 12\n",
       "16. 13\n",
       "17. 14\n",
       "18. 15\n",
       "19. 16\n",
       "20. 17\n",
       "21. 18\n",
       "22. 19\n",
       "23. 20\n",
       "24. 21\n",
       "25. 22\n",
       "\n",
       "\n"
      ],
      "text/plain": [
       " [1] -12.50  -0.05   3.14   1.00   2.00   3.00   4.00   5.00   6.00   7.00\n",
       "[11]   8.00   9.00  10.00  11.00  12.00  13.00  14.00  15.00  16.00  17.00\n",
       "[21]  18.00  19.00  20.00  21.00  22.00"
      ]
     },
     "metadata": {},
     "output_type": "display_data"
    }
   ],
   "source": [
    "x"
   ]
  },
  {
   "cell_type": "markdown",
   "id": "5fff7143-0152-4d05-aa16-d05c22f8dc10",
   "metadata": {
    "tags": []
   },
   "source": [
    "### Trignometric Functions"
   ]
  },
  {
   "cell_type": "code",
   "execution_count": 9,
   "id": "5d9106c9-4c2d-49a5-9dbe-29222cc3307f",
   "metadata": {
    "tags": []
   },
   "outputs": [
    {
     "data": {
      "text/html": [
       "-0.54402111088937"
      ],
      "text/latex": [
       "-0.54402111088937"
      ],
      "text/markdown": [
       "-0.54402111088937"
      ],
      "text/plain": [
       "[1] -0.5440211"
      ]
     },
     "metadata": {},
     "output_type": "display_data"
    }
   ],
   "source": [
    "sin(10)"
   ]
  },
  {
   "cell_type": "code",
   "execution_count": 10,
   "id": "b3f99a0a-bb25-4c18-ad53-3ec09130a754",
   "metadata": {
    "tags": []
   },
   "outputs": [],
   "source": [
    "x <- c(1, 0)\n",
    "y <- c(1, 0)"
   ]
  },
  {
   "cell_type": "code",
   "execution_count": 11,
   "id": "df802e0a-7f66-4bc5-8fc5-1a7a194bea66",
   "metadata": {
    "tags": []
   },
   "outputs": [
    {
     "data": {
      "text/html": [
       "<style>\n",
       ".list-inline {list-style: none; margin:0; padding: 0}\n",
       ".list-inline>li {display: inline-block}\n",
       ".list-inline>li:not(:last-child)::after {content: \"\\00b7\"; padding: 0 .5ex}\n",
       "</style>\n",
       "<ol class=list-inline><li>0.841470984807897</li><li>0</li></ol>\n"
      ],
      "text/latex": [
       "\\begin{enumerate*}\n",
       "\\item 0.841470984807897\n",
       "\\item 0\n",
       "\\end{enumerate*}\n"
      ],
      "text/markdown": [
       "1. 0.841470984807897\n",
       "2. 0\n",
       "\n",
       "\n"
      ],
      "text/plain": [
       "[1] 0.841471 0.000000"
      ]
     },
     "metadata": {},
     "output_type": "display_data"
    }
   ],
   "source": [
    "sin(x)"
   ]
  },
  {
   "cell_type": "code",
   "execution_count": 12,
   "id": "5a0f9f9e-774e-4067-aaee-61a00a1add41",
   "metadata": {
    "tags": []
   },
   "outputs": [
    {
     "data": {
      "text/html": [
       "<style>\n",
       ".list-inline {list-style: none; margin:0; padding: 0}\n",
       ".list-inline>li {display: inline-block}\n",
       ".list-inline>li:not(:last-child)::after {content: \"\\00b7\"; padding: 0 .5ex}\n",
       "</style>\n",
       "<ol class=list-inline><li>1.5574077246549</li><li>0</li></ol>\n"
      ],
      "text/latex": [
       "\\begin{enumerate*}\n",
       "\\item 1.5574077246549\n",
       "\\item 0\n",
       "\\end{enumerate*}\n"
      ],
      "text/markdown": [
       "1. 1.5574077246549\n",
       "2. 0\n",
       "\n",
       "\n"
      ],
      "text/plain": [
       "[1] 1.557408 0.000000"
      ]
     },
     "metadata": {},
     "output_type": "display_data"
    }
   ],
   "source": [
    "tan(x)"
   ]
  },
  {
   "cell_type": "code",
   "execution_count": 13,
   "id": "896c1be1-c33a-424e-9364-d94ddab149e7",
   "metadata": {
    "tags": []
   },
   "outputs": [
    {
     "data": {
      "text/html": [
       "<style>\n",
       ".list-inline {list-style: none; margin:0; padding: 0}\n",
       ".list-inline>li {display: inline-block}\n",
       ".list-inline>li:not(:last-child)::after {content: \"\\00b7\"; padding: 0 .5ex}\n",
       "</style>\n",
       "<ol class=list-inline><li>1.0471975511966</li><li>2.0943951023932</li></ol>\n"
      ],
      "text/latex": [
       "\\begin{enumerate*}\n",
       "\\item 1.0471975511966\n",
       "\\item 2.0943951023932\n",
       "\\end{enumerate*}\n"
      ],
      "text/markdown": [
       "1. 1.0471975511966\n",
       "2. 2.0943951023932\n",
       "\n",
       "\n"
      ],
      "text/plain": [
       "[1] 1.047198 2.094395"
      ]
     },
     "metadata": {},
     "output_type": "display_data"
    }
   ],
   "source": [
    "acos(x - 0.5)"
   ]
  },
  {
   "cell_type": "code",
   "execution_count": 14,
   "id": "923d9323-3ed9-44ee-9e44-9d6601f23701",
   "metadata": {
    "tags": []
   },
   "outputs": [
    {
     "data": {
      "text/html": [
       "<style>\n",
       ".list-inline {list-style: none; margin:0; padding: 0}\n",
       ".list-inline>li {display: inline-block}\n",
       ".list-inline>li:not(:last-child)::after {content: \"\\00b7\"; padding: 0 .5ex}\n",
       "</style>\n",
       "<ol class=list-inline><li>0.523598775598299</li><li>-0.523598775598299</li></ol>\n"
      ],
      "text/latex": [
       "\\begin{enumerate*}\n",
       "\\item 0.523598775598299\n",
       "\\item -0.523598775598299\n",
       "\\end{enumerate*}\n"
      ],
      "text/markdown": [
       "1. 0.523598775598299\n",
       "2. -0.523598775598299\n",
       "\n",
       "\n"
      ],
      "text/plain": [
       "[1]  0.5235988 -0.5235988"
      ]
     },
     "metadata": {},
     "output_type": "display_data"
    }
   ],
   "source": [
    "asin(x - 0.5)"
   ]
  },
  {
   "cell_type": "code",
   "execution_count": 15,
   "id": "23bfbb0e-c8dc-4bb5-925e-8ae6b481932e",
   "metadata": {
    "tags": []
   },
   "outputs": [
    {
     "data": {
      "text/html": [
       "<style>\n",
       ".list-inline {list-style: none; margin:0; padding: 0}\n",
       ".list-inline>li {display: inline-block}\n",
       ".list-inline>li:not(:last-child)::after {content: \"\\00b7\"; padding: 0 .5ex}\n",
       "</style>\n",
       "<ol class=list-inline><li>0.463647609000806</li><li>-0.463647609000806</li></ol>\n"
      ],
      "text/latex": [
       "\\begin{enumerate*}\n",
       "\\item 0.463647609000806\n",
       "\\item -0.463647609000806\n",
       "\\end{enumerate*}\n"
      ],
      "text/markdown": [
       "1. 0.463647609000806\n",
       "2. -0.463647609000806\n",
       "\n",
       "\n"
      ],
      "text/plain": [
       "[1]  0.4636476 -0.4636476"
      ]
     },
     "metadata": {},
     "output_type": "display_data"
    }
   ],
   "source": [
    "atan(x - 0.5)"
   ]
  },
  {
   "cell_type": "code",
   "execution_count": 16,
   "id": "85809ed5-3f2b-4375-a7e8-ac102c15684a",
   "metadata": {
    "tags": []
   },
   "outputs": [
    {
     "data": {
      "text/html": [
       "<style>\n",
       ".list-inline {list-style: none; margin:0; padding: 0}\n",
       ".list-inline>li {display: inline-block}\n",
       ".list-inline>li:not(:last-child)::after {content: \"\\00b7\"; padding: 0 .5ex}\n",
       "</style>\n",
       "<ol class=list-inline><li>-0.809016994374948</li><li>1</li></ol>\n"
      ],
      "text/latex": [
       "\\begin{enumerate*}\n",
       "\\item -0.809016994374948\n",
       "\\item 1\n",
       "\\end{enumerate*}\n"
      ],
      "text/markdown": [
       "1. -0.809016994374948\n",
       "2. 1\n",
       "\n",
       "\n"
      ],
      "text/plain": [
       "[1] -0.809017  1.000000"
      ]
     },
     "metadata": {},
     "output_type": "display_data"
    }
   ],
   "source": [
    "cospi(1.2 * x)"
   ]
  },
  {
   "cell_type": "code",
   "execution_count": 17,
   "id": "ab9d8a3b-1583-4e5f-a4e5-694900615bf9",
   "metadata": {
    "tags": []
   },
   "outputs": [
    {
     "data": {
      "text/html": [
       "<style>\n",
       ".list-inline {list-style: none; margin:0; padding: 0}\n",
       ".list-inline>li {display: inline-block}\n",
       ".list-inline>li:not(:last-child)::after {content: \"\\00b7\"; padding: 0 .5ex}\n",
       "</style>\n",
       "<ol class=list-inline><li>-0.951056516295154</li><li>0</li></ol>\n"
      ],
      "text/latex": [
       "\\begin{enumerate*}\n",
       "\\item -0.951056516295154\n",
       "\\item 0\n",
       "\\end{enumerate*}\n"
      ],
      "text/markdown": [
       "1. -0.951056516295154\n",
       "2. 0\n",
       "\n",
       "\n"
      ],
      "text/plain": [
       "[1] -0.9510565  0.0000000"
      ]
     },
     "metadata": {},
     "output_type": "display_data"
    }
   ],
   "source": [
    "sinpi(3.4 * x)"
   ]
  },
  {
   "cell_type": "code",
   "execution_count": 18,
   "id": "42c4e39e-7bc7-4b55-87cc-af271f0f7987",
   "metadata": {
    "tags": []
   },
   "outputs": [
    {
     "data": {
      "text/html": [
       "<style>\n",
       ".list-inline {list-style: none; margin:0; padding: 0}\n",
       ".list-inline>li {display: inline-block}\n",
       ".list-inline>li:not(:last-child)::after {content: \"\\00b7\"; padding: 0 .5ex}\n",
       "</style>\n",
       "<ol class=list-inline><li>-3.07768353717526</li><li>0</li></ol>\n"
      ],
      "text/latex": [
       "\\begin{enumerate*}\n",
       "\\item -3.07768353717526\n",
       "\\item 0\n",
       "\\end{enumerate*}\n"
      ],
      "text/markdown": [
       "1. -3.07768353717526\n",
       "2. 0\n",
       "\n",
       "\n"
      ],
      "text/plain": [
       "[1] -3.077684  0.000000"
      ]
     },
     "metadata": {},
     "output_type": "display_data"
    }
   ],
   "source": [
    "tanpi(5.6 * x)"
   ]
  },
  {
   "cell_type": "code",
   "execution_count": 19,
   "id": "7ab71a3c-48a9-4871-93ab-30a3fc9cea57",
   "metadata": {
    "tags": []
   },
   "outputs": [
    {
     "data": {
      "text/html": [
       "<style>\n",
       ".list-inline {list-style: none; margin:0; padding: 0}\n",
       ".list-inline>li {display: inline-block}\n",
       ".list-inline>li:not(:last-child)::after {content: \"\\00b7\"; padding: 0 .5ex}\n",
       "</style>\n",
       "<ol class=list-inline><li>a</li><li>b</li><li>&lt;NA&gt;</li><li>a</li><li>c</li><li>&lt;NA&gt;</li></ol>\n",
       "\n",
       "<details>\n",
       "\t<summary style=display:list-item;cursor:pointer>\n",
       "\t\t<strong>Levels</strong>:\n",
       "\t</summary>\n",
       "\t<style>\n",
       "\t.list-inline {list-style: none; margin:0; padding: 0}\n",
       "\t.list-inline>li {display: inline-block}\n",
       "\t.list-inline>li:not(:last-child)::after {content: \"\\00b7\"; padding: 0 .5ex}\n",
       "\t</style>\n",
       "\t<ol class=list-inline><li>'a'</li><li>'b'</li><li>'c'</li></ol>\n",
       "</details>"
      ],
      "text/latex": [
       "\\begin{enumerate*}\n",
       "\\item a\n",
       "\\item b\n",
       "\\item <NA>\n",
       "\\item a\n",
       "\\item c\n",
       "\\item <NA>\n",
       "\\end{enumerate*}\n",
       "\n",
       "\\emph{Levels}: \\begin{enumerate*}\n",
       "\\item 'a'\n",
       "\\item 'b'\n",
       "\\item 'c'\n",
       "\\end{enumerate*}\n"
      ],
      "text/markdown": [
       "1. a\n",
       "2. b\n",
       "3. &lt;NA&gt;\n",
       "4. a\n",
       "5. c\n",
       "6. &lt;NA&gt;\n",
       "\n",
       "\n",
       "\n",
       "**Levels**: 1. 'a'\n",
       "2. 'b'\n",
       "3. 'c'\n",
       "\n",
       "\n"
      ],
      "text/plain": [
       "[1] a    b    <NA> a    c    <NA>\n",
       "Levels: a b c"
      ]
     },
     "metadata": {},
     "output_type": "display_data"
    }
   ],
   "source": [
    "my_fac <- factor(c(\"a\", \"b\", NA, \"a\", \"c\", NA))    # Create example factor\n",
    "my_fac                                             # Print example factor"
   ]
  },
  {
   "cell_type": "code",
   "execution_count": 20,
   "id": "7790c4fb-b58b-4d71-b5dd-4a90f7a70df4",
   "metadata": {
    "tags": []
   },
   "outputs": [
    {
     "data": {
      "text/html": [
       "<style>\n",
       ".list-inline {list-style: none; margin:0; padding: 0}\n",
       ".list-inline>li {display: inline-block}\n",
       ".list-inline>li:not(:last-child)::after {content: \"\\00b7\"; padding: 0 .5ex}\n",
       "</style>\n",
       "<ol class=list-inline><li>a</li><li>b</li><li>&lt;NA&gt;</li><li>a</li><li>c</li><li>&lt;NA&gt;</li></ol>\n",
       "\n",
       "<details>\n",
       "\t<summary style=display:list-item;cursor:pointer>\n",
       "\t\t<strong>Levels</strong>:\n",
       "\t</summary>\n",
       "\t<style>\n",
       "\t.list-inline {list-style: none; margin:0; padding: 0}\n",
       "\t.list-inline>li {display: inline-block}\n",
       "\t.list-inline>li:not(:last-child)::after {content: \"\\00b7\"; padding: 0 .5ex}\n",
       "\t</style>\n",
       "\t<ol class=list-inline><li>'a'</li><li>'b'</li><li>'c'</li><li>NA</li></ol>\n",
       "</details>"
      ],
      "text/latex": [
       "\\begin{enumerate*}\n",
       "\\item a\n",
       "\\item b\n",
       "\\item <NA>\n",
       "\\item a\n",
       "\\item c\n",
       "\\item <NA>\n",
       "\\end{enumerate*}\n",
       "\n",
       "\\emph{Levels}: \\begin{enumerate*}\n",
       "\\item 'a'\n",
       "\\item 'b'\n",
       "\\item 'c'\n",
       "\\item NA\n",
       "\\end{enumerate*}\n"
      ],
      "text/markdown": [
       "1. a\n",
       "2. b\n",
       "3. &lt;NA&gt;\n",
       "4. a\n",
       "5. c\n",
       "6. &lt;NA&gt;\n",
       "\n",
       "\n",
       "\n",
       "**Levels**: 1. 'a'\n",
       "2. 'b'\n",
       "3. 'c'\n",
       "4. NA\n",
       "\n",
       "\n"
      ],
      "text/plain": [
       "[1] a    b    <NA> a    c    <NA>\n",
       "Levels: a b c <NA>"
      ]
     },
     "metadata": {},
     "output_type": "display_data"
    }
   ],
   "source": [
    "my_fac_NA <- addNA(my_fac)                         # Apply addNA function\n",
    "my_fac_NA                                          # Print updated factor"
   ]
  },
  {
   "cell_type": "code",
   "execution_count": 21,
   "id": "9a856dbf-b0cf-4fc2-869e-32e6aa500aef",
   "metadata": {
    "tags": []
   },
   "outputs": [],
   "source": [
    "log = c(TRUE,FALSE,FALSE,TRUE,TRUE,TRUE,TRUE,FALSE)"
   ]
  },
  {
   "cell_type": "code",
   "execution_count": 22,
   "id": "4614fd7f-7b1f-4268-b63d-1b558d727faa",
   "metadata": {
    "tags": []
   },
   "outputs": [
    {
     "data": {
      "text/html": [
       "FALSE"
      ],
      "text/latex": [
       "FALSE"
      ],
      "text/markdown": [
       "FALSE"
      ],
      "text/plain": [
       "[1] FALSE"
      ]
     },
     "metadata": {},
     "output_type": "display_data"
    }
   ],
   "source": [
    "all(log) #Checks all of the values are true in a logical vector"
   ]
  },
  {
   "cell_type": "code",
   "execution_count": 23,
   "id": "26c0602f-4294-4510-8004-c842c3b24fdb",
   "metadata": {
    "tags": []
   },
   "outputs": [
    {
     "data": {
      "text/html": [
       "<style>\n",
       ".list-inline {list-style: none; margin:0; padding: 0}\n",
       ".list-inline>li {display: inline-block}\n",
       ".list-inline>li:not(:last-child)::after {content: \"\\00b7\"; padding: 0 .5ex}\n",
       "</style>\n",
       "<ol class=list-inline><li>FALSE</li><li>FALSE</li><li>FALSE</li><li>FALSE</li><li>FALSE</li><li>FALSE</li><li>FALSE</li><li>FALSE</li><li>FALSE</li><li>FALSE</li><li>FALSE</li><li>FALSE</li><li>FALSE</li><li>FALSE</li><li>FALSE</li><li>FALSE</li><li>FALSE</li><li>FALSE</li><li>FALSE</li><li>FALSE</li></ol>\n"
      ],
      "text/latex": [
       "\\begin{enumerate*}\n",
       "\\item FALSE\n",
       "\\item FALSE\n",
       "\\item FALSE\n",
       "\\item FALSE\n",
       "\\item FALSE\n",
       "\\item FALSE\n",
       "\\item FALSE\n",
       "\\item FALSE\n",
       "\\item FALSE\n",
       "\\item FALSE\n",
       "\\item FALSE\n",
       "\\item FALSE\n",
       "\\item FALSE\n",
       "\\item FALSE\n",
       "\\item FALSE\n",
       "\\item FALSE\n",
       "\\item FALSE\n",
       "\\item FALSE\n",
       "\\item FALSE\n",
       "\\item FALSE\n",
       "\\end{enumerate*}\n"
      ],
      "text/markdown": [
       "1. FALSE\n",
       "2. FALSE\n",
       "3. FALSE\n",
       "4. FALSE\n",
       "5. FALSE\n",
       "6. FALSE\n",
       "7. FALSE\n",
       "8. FALSE\n",
       "9. FALSE\n",
       "10. FALSE\n",
       "11. FALSE\n",
       "12. FALSE\n",
       "13. FALSE\n",
       "14. FALSE\n",
       "15. FALSE\n",
       "16. FALSE\n",
       "17. FALSE\n",
       "18. FALSE\n",
       "19. FALSE\n",
       "20. FALSE\n",
       "\n",
       "\n"
      ],
      "text/plain": [
       " [1] FALSE FALSE FALSE FALSE FALSE FALSE FALSE FALSE FALSE FALSE FALSE FALSE\n",
       "[13] FALSE FALSE FALSE FALSE FALSE FALSE FALSE FALSE"
      ]
     },
     "metadata": {},
     "output_type": "display_data"
    }
   ],
   "source": [
    "is.na(G20) #To check if the "
   ]
  },
  {
   "cell_type": "markdown",
   "id": "720ac3f1-c540-4f23-8772-c9db8a955db5",
   "metadata": {
    "tags": []
   },
   "source": [
    "### apply() takes Data frame or matrix as an input and gives output in vector, list or array. Apply function in R is primarily used to avoid explicit uses of loop constructs."
   ]
  },
  {
   "cell_type": "markdown",
   "id": "6e6f7d25-bd43-40a1-b979-ea54c0828646",
   "metadata": {
    "tags": []
   },
   "source": [
    "apply(X, MARGIN, FUN)\n",
    "\n",
    "-MARGIN=1`: the manipulation is performed on rows\n",
    "\n",
    "-MARGIN=2`: the manipulation is performed on columns\n",
    "\n",
    "-MARGIN=c(1,2)` the manipulation is performed on rows and columns"
   ]
  },
  {
   "cell_type": "code",
   "execution_count": null,
   "id": "32d7356b-5925-4f69-ac54-72237c86d050",
   "metadata": {
    "tags": []
   },
   "outputs": [],
   "source": [
    "m1 <- matrix(C<-(1:10),nrow=5, ncol=6)\n",
    "m1"
   ]
  },
  {
   "cell_type": "code",
   "execution_count": null,
   "id": "d325ec31-6f3f-41ff-8838-8927bbcb36a2",
   "metadata": {
    "tags": []
   },
   "outputs": [],
   "source": [
    "a_m1 <- apply(m1, 2, sum)\n",
    "a_m1"
   ]
  },
  {
   "cell_type": "code",
   "execution_count": null,
   "id": "cb2e5dbd-cf78-4e22-a0e2-d1927bed2ba2",
   "metadata": {
    "tags": []
   },
   "outputs": [],
   "source": []
  },
  {
   "cell_type": "code",
   "execution_count": null,
   "id": "2a22ace5-7187-453c-b09c-46466544bc74",
   "metadata": {
    "tags": []
   },
   "outputs": [],
   "source": [
    "thisarray <- c(1:24)"
   ]
  },
  {
   "cell_type": "code",
   "execution_count": null,
   "id": "d850ce26-d864-4f89-82e5-0431156f69ca",
   "metadata": {
    "tags": []
   },
   "outputs": [],
   "source": [
    "multiarray <- array(thisarray, dim = c(4, 3, 2))"
   ]
  },
  {
   "cell_type": "code",
   "execution_count": null,
   "id": "338d6518-5646-4bec-96e4-77d61023f890",
   "metadata": {
    "tags": []
   },
   "outputs": [],
   "source": [
    "print(multiarray)"
   ]
  },
  {
   "cell_type": "code",
   "execution_count": null,
   "id": "06ddfb83-9465-4500-8111-e1bfc2e14aad",
   "metadata": {
    "tags": []
   },
   "outputs": [],
   "source": [
    "as.character(c(1:10))"
   ]
  },
  {
   "cell_type": "code",
   "execution_count": null,
   "id": "b54e7bf4-b213-4605-bd3a-0e25e4b90f07",
   "metadata": {
    "tags": []
   },
   "outputs": [],
   "source": [
    "chr = as.character(3:9)"
   ]
  },
  {
   "cell_type": "code",
   "execution_count": null,
   "id": "f6018d73-e8bd-4678-8cc0-8c39f2c0d51f",
   "metadata": {
    "tags": []
   },
   "outputs": [],
   "source": [
    "is.character(chr)"
   ]
  },
  {
   "cell_type": "code",
   "execution_count": null,
   "id": "72a231bf-e16d-4e44-ab2c-6e6424d04fc0",
   "metadata": {
    "tags": []
   },
   "outputs": [],
   "source": [
    "dates = c('01/08/89','02/08/90','03/08/91','04/08/92')"
   ]
  },
  {
   "cell_type": "code",
   "execution_count": null,
   "id": "c4c9e7f8-42c4-458c-80cf-96c69d894558",
   "metadata": {
    "tags": []
   },
   "outputs": [],
   "source": [
    "dates = as.Date(dates,'%d/%m/%y')"
   ]
  },
  {
   "cell_type": "code",
   "execution_count": null,
   "id": "0054c968-bcb1-4280-84a3-bc037c4ec94e",
   "metadata": {
    "tags": []
   },
   "outputs": [],
   "source": [
    "dates"
   ]
  },
  {
   "cell_type": "code",
   "execution_count": null,
   "id": "be468ad9-5f51-4eba-89ff-25a63b6d6587",
   "metadata": {
    "tags": []
   },
   "outputs": [],
   "source": [
    "as.character(dates)"
   ]
  },
  {
   "cell_type": "markdown",
   "id": "31060042-5d21-49e2-8e40-3b96ce265a73",
   "metadata": {
    "tags": []
   },
   "source": [
    "### R general functions"
   ]
  },
  {
   "cell_type": "code",
   "execution_count": null,
   "id": "63aa6243-cd91-4e76-ba7d-333ad0ed2d37",
   "metadata": {
    "tags": []
   },
   "outputs": [],
   "source": [
    "x1 <- c(1, 2, 3, 4)\n",
    "x2 <- c(\"A\", \"B\", \"C\", \"D\")\n",
    "x3 <- c(\"Parle-G\", \"Goodday\", \"Moms Magic\", \"Dark Fantacy\")"
   ]
  },
  {
   "cell_type": "code",
   "execution_count": null,
   "id": "be5a1b3e-b5a4-4359-84ec-a36774a7cfb7",
   "metadata": {
    "tags": []
   },
   "outputs": [],
   "source": [
    "x = list(Sr_No = x1,Category = x2,Product = x3)"
   ]
  },
  {
   "cell_type": "code",
   "execution_count": null,
   "id": "85296f85-f606-4a9a-9e3f-21ac235a148c",
   "metadata": {
    "tags": []
   },
   "outputs": [],
   "source": [
    "df = as.data.frame(x)"
   ]
  },
  {
   "cell_type": "code",
   "execution_count": null,
   "id": "de49eaf2-edea-4fcc-84ba-7f46848bb9ea",
   "metadata": {
    "tags": []
   },
   "outputs": [],
   "source": [
    "df"
   ]
  },
  {
   "cell_type": "code",
   "execution_count": null,
   "id": "7bbfa435-bc1d-4270-a747-dce2d6ad0260",
   "metadata": {
    "tags": []
   },
   "outputs": [],
   "source": [
    "is.data.frame(df)"
   ]
  },
  {
   "cell_type": "code",
   "execution_count": null,
   "id": "3350e802-22fc-408f-a45f-05495f77aa4c",
   "metadata": {
    "tags": []
   },
   "outputs": [],
   "source": [
    "categories = c('Local','State','Inter-State','National','Inter-National','Inter-Planetary','Galactic','Inter-Galactic')"
   ]
  },
  {
   "cell_type": "markdown",
   "id": "96e314cd-cfa2-428e-ab72-b8857198c2e2",
   "metadata": {
    "tags": []
   },
   "source": [
    "### Factors in R Programming Language are data structures that are implemented to categorize the data or represent categorical data and store it on multiple levels. "
   ]
  },
  {
   "cell_type": "code",
   "execution_count": null,
   "id": "2121e900-6b36-439b-963f-61170e9fd62c",
   "metadata": {
    "tags": []
   },
   "outputs": [],
   "source": [
    "categories = as.factor(categories)"
   ]
  },
  {
   "cell_type": "code",
   "execution_count": null,
   "id": "ec5362b6-0ccf-4e64-9744-ba01a988eb7f",
   "metadata": {
    "tags": []
   },
   "outputs": [],
   "source": [
    "categories"
   ]
  },
  {
   "cell_type": "code",
   "execution_count": null,
   "id": "766ab921-697b-48b6-88ad-14633eebd9e5",
   "metadata": {
    "tags": []
   },
   "outputs": [],
   "source": [
    "is.factor(categories)"
   ]
  },
  {
   "cell_type": "code",
   "execution_count": null,
   "id": "0b0a2bec-9f97-44df-b5d7-7d6e6881423a",
   "metadata": {
    "tags": []
   },
   "outputs": [],
   "source": [
    "a = c('1','2','3','4','5','6')\n",
    "a"
   ]
  },
  {
   "cell_type": "code",
   "execution_count": null,
   "id": "c35779f7-62d1-40ae-9da3-f857caaac2b2",
   "metadata": {
    "tags": []
   },
   "outputs": [],
   "source": [
    "as.integer(a)"
   ]
  },
  {
   "cell_type": "code",
   "execution_count": null,
   "id": "764d2eb1-8f6b-4016-bfb0-c738f901f8d1",
   "metadata": {
    "tags": []
   },
   "outputs": [],
   "source": [
    "class(a)"
   ]
  },
  {
   "cell_type": "code",
   "execution_count": null,
   "id": "01f6a248-cfdc-45a9-9ea5-4c185695d346",
   "metadata": {
    "tags": []
   },
   "outputs": [],
   "source": [
    "a = as.integer(a)"
   ]
  },
  {
   "cell_type": "code",
   "execution_count": null,
   "id": "ea69fedc-a519-45c4-8ed2-705ba5cf2a42",
   "metadata": {
    "tags": []
   },
   "outputs": [],
   "source": [
    "class(a)"
   ]
  },
  {
   "cell_type": "code",
   "execution_count": null,
   "id": "fedd75e5-e0f7-40d5-b322-5218d9fe6a59",
   "metadata": {
    "tags": []
   },
   "outputs": [],
   "source": [
    "is.integer(a)"
   ]
  },
  {
   "cell_type": "code",
   "execution_count": null,
   "id": "af48aa27-bf29-40aa-972f-faf2826e002f",
   "metadata": {
    "tags": []
   },
   "outputs": [],
   "source": [
    "my_df <- data.frame(x1 = 3:8,                      # Create data frame\n",
    "                    x2 = 10:5,\n",
    "                    x3 = 4)"
   ]
  },
  {
   "cell_type": "code",
   "execution_count": null,
   "id": "5eb5f30c-e5df-4173-972a-cae8a1bb581a",
   "metadata": {
    "tags": []
   },
   "outputs": [],
   "source": [
    "as.matrix(my_df)"
   ]
  },
  {
   "cell_type": "code",
   "execution_count": 29,
   "id": "fe78b491-057f-44f0-b66d-28a90cebc207",
   "metadata": {
    "tags": []
   },
   "outputs": [
    {
     "data": {
      "text/html": [
       "13"
      ],
      "text/latex": [
       "13"
      ],
      "text/markdown": [
       "13"
      ],
      "text/plain": [
       "[1] 13"
      ]
     },
     "metadata": {},
     "output_type": "display_data"
    }
   ],
   "source": [
    "which(LETTERS == 'M')"
   ]
  },
  {
   "cell_type": "code",
   "execution_count": 24,
   "id": "8f41cb92-7378-4978-b340-455a1babb985",
   "metadata": {
    "tags": []
   },
   "outputs": [
    {
     "data": {
      "text/html": [
       "<style>\n",
       ".list-inline {list-style: none; margin:0; padding: 0}\n",
       ".list-inline>li {display: inline-block}\n",
       ".list-inline>li:not(:last-child)::after {content: \"\\00b7\"; padding: 0 .5ex}\n",
       "</style>\n",
       "<ol class=list-inline><li>'A'</li><li>'B'</li><li>'C'</li><li>'D'</li><li>'E'</li><li>'F'</li><li>'G'</li><li>'H'</li><li>'I'</li><li>'J'</li><li>'K'</li><li>'L'</li><li>'M'</li><li>'N'</li><li>'O'</li><li>'P'</li><li>'Q'</li><li>'R'</li><li>'S'</li><li>'T'</li><li>'U'</li><li>'V'</li><li>'W'</li><li>'X'</li><li>'Y'</li><li>'Z'</li></ol>\n"
      ],
      "text/latex": [
       "\\begin{enumerate*}\n",
       "\\item 'A'\n",
       "\\item 'B'\n",
       "\\item 'C'\n",
       "\\item 'D'\n",
       "\\item 'E'\n",
       "\\item 'F'\n",
       "\\item 'G'\n",
       "\\item 'H'\n",
       "\\item 'I'\n",
       "\\item 'J'\n",
       "\\item 'K'\n",
       "\\item 'L'\n",
       "\\item 'M'\n",
       "\\item 'N'\n",
       "\\item 'O'\n",
       "\\item 'P'\n",
       "\\item 'Q'\n",
       "\\item 'R'\n",
       "\\item 'S'\n",
       "\\item 'T'\n",
       "\\item 'U'\n",
       "\\item 'V'\n",
       "\\item 'W'\n",
       "\\item 'X'\n",
       "\\item 'Y'\n",
       "\\item 'Z'\n",
       "\\end{enumerate*}\n"
      ],
      "text/markdown": [
       "1. 'A'\n",
       "2. 'B'\n",
       "3. 'C'\n",
       "4. 'D'\n",
       "5. 'E'\n",
       "6. 'F'\n",
       "7. 'G'\n",
       "8. 'H'\n",
       "9. 'I'\n",
       "10. 'J'\n",
       "11. 'K'\n",
       "12. 'L'\n",
       "13. 'M'\n",
       "14. 'N'\n",
       "15. 'O'\n",
       "16. 'P'\n",
       "17. 'Q'\n",
       "18. 'R'\n",
       "19. 'S'\n",
       "20. 'T'\n",
       "21. 'U'\n",
       "22. 'V'\n",
       "23. 'W'\n",
       "24. 'X'\n",
       "25. 'Y'\n",
       "26. 'Z'\n",
       "\n",
       "\n"
      ],
      "text/plain": [
       " [1] \"A\" \"B\" \"C\" \"D\" \"E\" \"F\" \"G\" \"H\" \"I\" \"J\" \"K\" \"L\" \"M\" \"N\" \"O\" \"P\" \"Q\" \"R\" \"S\"\n",
       "[20] \"T\" \"U\" \"V\" \"W\" \"X\" \"Y\" \"Z\""
      ]
     },
     "metadata": {},
     "output_type": "display_data"
    }
   ],
   "source": [
    "LETTERS"
   ]
  },
  {
   "cell_type": "code",
   "execution_count": 25,
   "id": "f843ee7b-90f7-495d-8f53-120f96795442",
   "metadata": {
    "tags": []
   },
   "outputs": [
    {
     "data": {
      "text/html": [
       "<style>\n",
       ".list-inline {list-style: none; margin:0; padding: 0}\n",
       ".list-inline>li {display: inline-block}\n",
       ".list-inline>li:not(:last-child)::after {content: \"\\00b7\"; padding: 0 .5ex}\n",
       "</style>\n",
       "<ol class=list-inline><li>'a'</li><li>'b'</li><li>'c'</li><li>'d'</li><li>'e'</li><li>'f'</li><li>'g'</li><li>'h'</li><li>'i'</li><li>'j'</li><li>'k'</li><li>'l'</li><li>'m'</li><li>'n'</li><li>'o'</li><li>'p'</li><li>'q'</li><li>'r'</li><li>'s'</li><li>'t'</li><li>'u'</li><li>'v'</li><li>'w'</li><li>'x'</li><li>'y'</li><li>'z'</li></ol>\n"
      ],
      "text/latex": [
       "\\begin{enumerate*}\n",
       "\\item 'a'\n",
       "\\item 'b'\n",
       "\\item 'c'\n",
       "\\item 'd'\n",
       "\\item 'e'\n",
       "\\item 'f'\n",
       "\\item 'g'\n",
       "\\item 'h'\n",
       "\\item 'i'\n",
       "\\item 'j'\n",
       "\\item 'k'\n",
       "\\item 'l'\n",
       "\\item 'm'\n",
       "\\item 'n'\n",
       "\\item 'o'\n",
       "\\item 'p'\n",
       "\\item 'q'\n",
       "\\item 'r'\n",
       "\\item 's'\n",
       "\\item 't'\n",
       "\\item 'u'\n",
       "\\item 'v'\n",
       "\\item 'w'\n",
       "\\item 'x'\n",
       "\\item 'y'\n",
       "\\item 'z'\n",
       "\\end{enumerate*}\n"
      ],
      "text/markdown": [
       "1. 'a'\n",
       "2. 'b'\n",
       "3. 'c'\n",
       "4. 'd'\n",
       "5. 'e'\n",
       "6. 'f'\n",
       "7. 'g'\n",
       "8. 'h'\n",
       "9. 'i'\n",
       "10. 'j'\n",
       "11. 'k'\n",
       "12. 'l'\n",
       "13. 'm'\n",
       "14. 'n'\n",
       "15. 'o'\n",
       "16. 'p'\n",
       "17. 'q'\n",
       "18. 'r'\n",
       "19. 's'\n",
       "20. 't'\n",
       "21. 'u'\n",
       "22. 'v'\n",
       "23. 'w'\n",
       "24. 'x'\n",
       "25. 'y'\n",
       "26. 'z'\n",
       "\n",
       "\n"
      ],
      "text/plain": [
       " [1] \"a\" \"b\" \"c\" \"d\" \"e\" \"f\" \"g\" \"h\" \"i\" \"j\" \"k\" \"l\" \"m\" \"n\" \"o\" \"p\" \"q\" \"r\" \"s\"\n",
       "[20] \"t\" \"u\" \"v\" \"w\" \"x\" \"y\" \"z\""
      ]
     },
     "metadata": {},
     "output_type": "display_data"
    }
   ],
   "source": [
    "letters"
   ]
  },
  {
   "cell_type": "code",
   "execution_count": 30,
   "id": "c88c9338-b734-4e72-b862-d03834518935",
   "metadata": {},
   "outputs": [
    {
     "data": {
      "text/html": [
       "3.14159265358979"
      ],
      "text/latex": [
       "3.14159265358979"
      ],
      "text/markdown": [
       "3.14159265358979"
      ],
      "text/plain": [
       "[1] 3.141593"
      ]
     },
     "metadata": {},
     "output_type": "display_data"
    }
   ],
   "source": [
    "pi"
   ]
  },
  {
   "cell_type": "code",
   "execution_count": 31,
   "id": "8bd7d282-1500-48a8-8d3e-f8f9dfd3bb45",
   "metadata": {
    "tags": []
   },
   "outputs": [
    {
     "data": {
      "text/html": [
       "<style>\n",
       ".list-inline {list-style: none; margin:0; padding: 0}\n",
       ".list-inline>li {display: inline-block}\n",
       ".list-inline>li:not(:last-child)::after {content: \"\\00b7\"; padding: 0 .5ex}\n",
       "</style>\n",
       "<ol class=list-inline><li>1</li><li>3</li><li>7</li></ol>\n"
      ],
      "text/latex": [
       "\\begin{enumerate*}\n",
       "\\item 1\n",
       "\\item 3\n",
       "\\item 7\n",
       "\\end{enumerate*}\n"
      ],
      "text/markdown": [
       "1. 1\n",
       "2. 3\n",
       "3. 7\n",
       "\n",
       "\n"
      ],
      "text/plain": [
       "[1] 1 3 7"
      ]
     },
     "metadata": {},
     "output_type": "display_data"
    }
   ],
   "source": [
    "which(c(TRUE, FALSE, TRUE, NA, FALSE, FALSE, TRUE))"
   ]
  },
  {
   "cell_type": "code",
   "execution_count": 32,
   "id": "366aeb78-69b2-489b-b69f-456685b174e8",
   "metadata": {
    "tags": []
   },
   "outputs": [
    {
     "data": {
      "text/html": [
       "<style>\n",
       ".list-inline {list-style: none; margin:0; padding: 0}\n",
       ".list-inline>li {display: inline-block}\n",
       ".list-inline>li:not(:last-child)::after {content: \"\\00b7\"; padding: 0 .5ex}\n",
       "</style>\n",
       "<ol class=list-inline><li>2</li><li>4</li><li>6</li><li>8</li><li>10</li><li>12</li></ol>\n"
      ],
      "text/latex": [
       "\\begin{enumerate*}\n",
       "\\item 2\n",
       "\\item 4\n",
       "\\item 6\n",
       "\\item 8\n",
       "\\item 10\n",
       "\\item 12\n",
       "\\end{enumerate*}\n"
      ],
      "text/markdown": [
       "1. 2\n",
       "2. 4\n",
       "3. 6\n",
       "4. 8\n",
       "5. 10\n",
       "6. 12\n",
       "\n",
       "\n"
      ],
      "text/plain": [
       "[1]  2  4  6  8 10 12"
      ]
     },
     "metadata": {},
     "output_type": "display_data"
    }
   ],
   "source": [
    "which((1:12)%%2 == 0) # which are even?"
   ]
  },
  {
   "cell_type": "code",
   "execution_count": 33,
   "id": "8ac77fbc-a20d-4709-8933-989d96f8e297",
   "metadata": {
    "tags": []
   },
   "outputs": [],
   "source": [
    "#mtcars1 = mtcars\n",
    "mtcars <- cbind(ID = 1:nrow(mtcars), mtcars)"
   ]
  },
  {
   "cell_type": "code",
   "execution_count": 34,
   "id": "ce200148-b496-497a-8538-e8cd37f7c2a3",
   "metadata": {
    "tags": []
   },
   "outputs": [
    {
     "data": {
      "text/html": [
       "<table class=\"dataframe\">\n",
       "<caption>A data.frame: 32 × 12</caption>\n",
       "<thead>\n",
       "\t<tr><th></th><th scope=col>ID</th><th scope=col>mpg</th><th scope=col>cyl</th><th scope=col>disp</th><th scope=col>hp</th><th scope=col>drat</th><th scope=col>wt</th><th scope=col>qsec</th><th scope=col>vs</th><th scope=col>am</th><th scope=col>gear</th><th scope=col>carb</th></tr>\n",
       "\t<tr><th></th><th scope=col>&lt;int&gt;</th><th scope=col>&lt;dbl&gt;</th><th scope=col>&lt;dbl&gt;</th><th scope=col>&lt;dbl&gt;</th><th scope=col>&lt;dbl&gt;</th><th scope=col>&lt;dbl&gt;</th><th scope=col>&lt;dbl&gt;</th><th scope=col>&lt;dbl&gt;</th><th scope=col>&lt;dbl&gt;</th><th scope=col>&lt;dbl&gt;</th><th scope=col>&lt;dbl&gt;</th><th scope=col>&lt;dbl&gt;</th></tr>\n",
       "</thead>\n",
       "<tbody>\n",
       "\t<tr><th scope=row>Mazda RX4</th><td> 1</td><td>21.0</td><td>6</td><td>160.0</td><td>110</td><td>3.90</td><td>2.620</td><td>16.46</td><td>0</td><td>1</td><td>4</td><td>4</td></tr>\n",
       "\t<tr><th scope=row>Mazda RX4 Wag</th><td> 2</td><td>21.0</td><td>6</td><td>160.0</td><td>110</td><td>3.90</td><td>2.875</td><td>17.02</td><td>0</td><td>1</td><td>4</td><td>4</td></tr>\n",
       "\t<tr><th scope=row>Datsun 710</th><td> 3</td><td>22.8</td><td>4</td><td>108.0</td><td> 93</td><td>3.85</td><td>2.320</td><td>18.61</td><td>1</td><td>1</td><td>4</td><td>1</td></tr>\n",
       "\t<tr><th scope=row>Hornet 4 Drive</th><td> 4</td><td>21.4</td><td>6</td><td>258.0</td><td>110</td><td>3.08</td><td>3.215</td><td>19.44</td><td>1</td><td>0</td><td>3</td><td>1</td></tr>\n",
       "\t<tr><th scope=row>Hornet Sportabout</th><td> 5</td><td>18.7</td><td>8</td><td>360.0</td><td>175</td><td>3.15</td><td>3.440</td><td>17.02</td><td>0</td><td>0</td><td>3</td><td>2</td></tr>\n",
       "\t<tr><th scope=row>Valiant</th><td> 6</td><td>18.1</td><td>6</td><td>225.0</td><td>105</td><td>2.76</td><td>3.460</td><td>20.22</td><td>1</td><td>0</td><td>3</td><td>1</td></tr>\n",
       "\t<tr><th scope=row>Duster 360</th><td> 7</td><td>14.3</td><td>8</td><td>360.0</td><td>245</td><td>3.21</td><td>3.570</td><td>15.84</td><td>0</td><td>0</td><td>3</td><td>4</td></tr>\n",
       "\t<tr><th scope=row>Merc 240D</th><td> 8</td><td>24.4</td><td>4</td><td>146.7</td><td> 62</td><td>3.69</td><td>3.190</td><td>20.00</td><td>1</td><td>0</td><td>4</td><td>2</td></tr>\n",
       "\t<tr><th scope=row>Merc 230</th><td> 9</td><td>22.8</td><td>4</td><td>140.8</td><td> 95</td><td>3.92</td><td>3.150</td><td>22.90</td><td>1</td><td>0</td><td>4</td><td>2</td></tr>\n",
       "\t<tr><th scope=row>Merc 280</th><td>10</td><td>19.2</td><td>6</td><td>167.6</td><td>123</td><td>3.92</td><td>3.440</td><td>18.30</td><td>1</td><td>0</td><td>4</td><td>4</td></tr>\n",
       "\t<tr><th scope=row>Merc 280C</th><td>11</td><td>17.8</td><td>6</td><td>167.6</td><td>123</td><td>3.92</td><td>3.440</td><td>18.90</td><td>1</td><td>0</td><td>4</td><td>4</td></tr>\n",
       "\t<tr><th scope=row>Merc 450SE</th><td>12</td><td>16.4</td><td>8</td><td>275.8</td><td>180</td><td>3.07</td><td>4.070</td><td>17.40</td><td>0</td><td>0</td><td>3</td><td>3</td></tr>\n",
       "\t<tr><th scope=row>Merc 450SL</th><td>13</td><td>17.3</td><td>8</td><td>275.8</td><td>180</td><td>3.07</td><td>3.730</td><td>17.60</td><td>0</td><td>0</td><td>3</td><td>3</td></tr>\n",
       "\t<tr><th scope=row>Merc 450SLC</th><td>14</td><td>15.2</td><td>8</td><td>275.8</td><td>180</td><td>3.07</td><td>3.780</td><td>18.00</td><td>0</td><td>0</td><td>3</td><td>3</td></tr>\n",
       "\t<tr><th scope=row>Cadillac Fleetwood</th><td>15</td><td>10.4</td><td>8</td><td>472.0</td><td>205</td><td>2.93</td><td>5.250</td><td>17.98</td><td>0</td><td>0</td><td>3</td><td>4</td></tr>\n",
       "\t<tr><th scope=row>Lincoln Continental</th><td>16</td><td>10.4</td><td>8</td><td>460.0</td><td>215</td><td>3.00</td><td>5.424</td><td>17.82</td><td>0</td><td>0</td><td>3</td><td>4</td></tr>\n",
       "\t<tr><th scope=row>Chrysler Imperial</th><td>17</td><td>14.7</td><td>8</td><td>440.0</td><td>230</td><td>3.23</td><td>5.345</td><td>17.42</td><td>0</td><td>0</td><td>3</td><td>4</td></tr>\n",
       "\t<tr><th scope=row>Fiat 128</th><td>18</td><td>32.4</td><td>4</td><td> 78.7</td><td> 66</td><td>4.08</td><td>2.200</td><td>19.47</td><td>1</td><td>1</td><td>4</td><td>1</td></tr>\n",
       "\t<tr><th scope=row>Honda Civic</th><td>19</td><td>30.4</td><td>4</td><td> 75.7</td><td> 52</td><td>4.93</td><td>1.615</td><td>18.52</td><td>1</td><td>1</td><td>4</td><td>2</td></tr>\n",
       "\t<tr><th scope=row>Toyota Corolla</th><td>20</td><td>33.9</td><td>4</td><td> 71.1</td><td> 65</td><td>4.22</td><td>1.835</td><td>19.90</td><td>1</td><td>1</td><td>4</td><td>1</td></tr>\n",
       "\t<tr><th scope=row>Toyota Corona</th><td>21</td><td>21.5</td><td>4</td><td>120.1</td><td> 97</td><td>3.70</td><td>2.465</td><td>20.01</td><td>1</td><td>0</td><td>3</td><td>1</td></tr>\n",
       "\t<tr><th scope=row>Dodge Challenger</th><td>22</td><td>15.5</td><td>8</td><td>318.0</td><td>150</td><td>2.76</td><td>3.520</td><td>16.87</td><td>0</td><td>0</td><td>3</td><td>2</td></tr>\n",
       "\t<tr><th scope=row>AMC Javelin</th><td>23</td><td>15.2</td><td>8</td><td>304.0</td><td>150</td><td>3.15</td><td>3.435</td><td>17.30</td><td>0</td><td>0</td><td>3</td><td>2</td></tr>\n",
       "\t<tr><th scope=row>Camaro Z28</th><td>24</td><td>13.3</td><td>8</td><td>350.0</td><td>245</td><td>3.73</td><td>3.840</td><td>15.41</td><td>0</td><td>0</td><td>3</td><td>4</td></tr>\n",
       "\t<tr><th scope=row>Pontiac Firebird</th><td>25</td><td>19.2</td><td>8</td><td>400.0</td><td>175</td><td>3.08</td><td>3.845</td><td>17.05</td><td>0</td><td>0</td><td>3</td><td>2</td></tr>\n",
       "\t<tr><th scope=row>Fiat X1-9</th><td>26</td><td>27.3</td><td>4</td><td> 79.0</td><td> 66</td><td>4.08</td><td>1.935</td><td>18.90</td><td>1</td><td>1</td><td>4</td><td>1</td></tr>\n",
       "\t<tr><th scope=row>Porsche 914-2</th><td>27</td><td>26.0</td><td>4</td><td>120.3</td><td> 91</td><td>4.43</td><td>2.140</td><td>16.70</td><td>0</td><td>1</td><td>5</td><td>2</td></tr>\n",
       "\t<tr><th scope=row>Lotus Europa</th><td>28</td><td>30.4</td><td>4</td><td> 95.1</td><td>113</td><td>3.77</td><td>1.513</td><td>16.90</td><td>1</td><td>1</td><td>5</td><td>2</td></tr>\n",
       "\t<tr><th scope=row>Ford Pantera L</th><td>29</td><td>15.8</td><td>8</td><td>351.0</td><td>264</td><td>4.22</td><td>3.170</td><td>14.50</td><td>0</td><td>1</td><td>5</td><td>4</td></tr>\n",
       "\t<tr><th scope=row>Ferrari Dino</th><td>30</td><td>19.7</td><td>6</td><td>145.0</td><td>175</td><td>3.62</td><td>2.770</td><td>15.50</td><td>0</td><td>1</td><td>5</td><td>6</td></tr>\n",
       "\t<tr><th scope=row>Maserati Bora</th><td>31</td><td>15.0</td><td>8</td><td>301.0</td><td>335</td><td>3.54</td><td>3.570</td><td>14.60</td><td>0</td><td>1</td><td>5</td><td>8</td></tr>\n",
       "\t<tr><th scope=row>Volvo 142E</th><td>32</td><td>21.4</td><td>4</td><td>121.0</td><td>109</td><td>4.11</td><td>2.780</td><td>18.60</td><td>1</td><td>1</td><td>4</td><td>2</td></tr>\n",
       "</tbody>\n",
       "</table>\n"
      ],
      "text/latex": [
       "A data.frame: 32 × 12\n",
       "\\begin{tabular}{r|llllllllllll}\n",
       "  & ID & mpg & cyl & disp & hp & drat & wt & qsec & vs & am & gear & carb\\\\\n",
       "  & <int> & <dbl> & <dbl> & <dbl> & <dbl> & <dbl> & <dbl> & <dbl> & <dbl> & <dbl> & <dbl> & <dbl>\\\\\n",
       "\\hline\n",
       "\tMazda RX4 &  1 & 21.0 & 6 & 160.0 & 110 & 3.90 & 2.620 & 16.46 & 0 & 1 & 4 & 4\\\\\n",
       "\tMazda RX4 Wag &  2 & 21.0 & 6 & 160.0 & 110 & 3.90 & 2.875 & 17.02 & 0 & 1 & 4 & 4\\\\\n",
       "\tDatsun 710 &  3 & 22.8 & 4 & 108.0 &  93 & 3.85 & 2.320 & 18.61 & 1 & 1 & 4 & 1\\\\\n",
       "\tHornet 4 Drive &  4 & 21.4 & 6 & 258.0 & 110 & 3.08 & 3.215 & 19.44 & 1 & 0 & 3 & 1\\\\\n",
       "\tHornet Sportabout &  5 & 18.7 & 8 & 360.0 & 175 & 3.15 & 3.440 & 17.02 & 0 & 0 & 3 & 2\\\\\n",
       "\tValiant &  6 & 18.1 & 6 & 225.0 & 105 & 2.76 & 3.460 & 20.22 & 1 & 0 & 3 & 1\\\\\n",
       "\tDuster 360 &  7 & 14.3 & 8 & 360.0 & 245 & 3.21 & 3.570 & 15.84 & 0 & 0 & 3 & 4\\\\\n",
       "\tMerc 240D &  8 & 24.4 & 4 & 146.7 &  62 & 3.69 & 3.190 & 20.00 & 1 & 0 & 4 & 2\\\\\n",
       "\tMerc 230 &  9 & 22.8 & 4 & 140.8 &  95 & 3.92 & 3.150 & 22.90 & 1 & 0 & 4 & 2\\\\\n",
       "\tMerc 280 & 10 & 19.2 & 6 & 167.6 & 123 & 3.92 & 3.440 & 18.30 & 1 & 0 & 4 & 4\\\\\n",
       "\tMerc 280C & 11 & 17.8 & 6 & 167.6 & 123 & 3.92 & 3.440 & 18.90 & 1 & 0 & 4 & 4\\\\\n",
       "\tMerc 450SE & 12 & 16.4 & 8 & 275.8 & 180 & 3.07 & 4.070 & 17.40 & 0 & 0 & 3 & 3\\\\\n",
       "\tMerc 450SL & 13 & 17.3 & 8 & 275.8 & 180 & 3.07 & 3.730 & 17.60 & 0 & 0 & 3 & 3\\\\\n",
       "\tMerc 450SLC & 14 & 15.2 & 8 & 275.8 & 180 & 3.07 & 3.780 & 18.00 & 0 & 0 & 3 & 3\\\\\n",
       "\tCadillac Fleetwood & 15 & 10.4 & 8 & 472.0 & 205 & 2.93 & 5.250 & 17.98 & 0 & 0 & 3 & 4\\\\\n",
       "\tLincoln Continental & 16 & 10.4 & 8 & 460.0 & 215 & 3.00 & 5.424 & 17.82 & 0 & 0 & 3 & 4\\\\\n",
       "\tChrysler Imperial & 17 & 14.7 & 8 & 440.0 & 230 & 3.23 & 5.345 & 17.42 & 0 & 0 & 3 & 4\\\\\n",
       "\tFiat 128 & 18 & 32.4 & 4 &  78.7 &  66 & 4.08 & 2.200 & 19.47 & 1 & 1 & 4 & 1\\\\\n",
       "\tHonda Civic & 19 & 30.4 & 4 &  75.7 &  52 & 4.93 & 1.615 & 18.52 & 1 & 1 & 4 & 2\\\\\n",
       "\tToyota Corolla & 20 & 33.9 & 4 &  71.1 &  65 & 4.22 & 1.835 & 19.90 & 1 & 1 & 4 & 1\\\\\n",
       "\tToyota Corona & 21 & 21.5 & 4 & 120.1 &  97 & 3.70 & 2.465 & 20.01 & 1 & 0 & 3 & 1\\\\\n",
       "\tDodge Challenger & 22 & 15.5 & 8 & 318.0 & 150 & 2.76 & 3.520 & 16.87 & 0 & 0 & 3 & 2\\\\\n",
       "\tAMC Javelin & 23 & 15.2 & 8 & 304.0 & 150 & 3.15 & 3.435 & 17.30 & 0 & 0 & 3 & 2\\\\\n",
       "\tCamaro Z28 & 24 & 13.3 & 8 & 350.0 & 245 & 3.73 & 3.840 & 15.41 & 0 & 0 & 3 & 4\\\\\n",
       "\tPontiac Firebird & 25 & 19.2 & 8 & 400.0 & 175 & 3.08 & 3.845 & 17.05 & 0 & 0 & 3 & 2\\\\\n",
       "\tFiat X1-9 & 26 & 27.3 & 4 &  79.0 &  66 & 4.08 & 1.935 & 18.90 & 1 & 1 & 4 & 1\\\\\n",
       "\tPorsche 914-2 & 27 & 26.0 & 4 & 120.3 &  91 & 4.43 & 2.140 & 16.70 & 0 & 1 & 5 & 2\\\\\n",
       "\tLotus Europa & 28 & 30.4 & 4 &  95.1 & 113 & 3.77 & 1.513 & 16.90 & 1 & 1 & 5 & 2\\\\\n",
       "\tFord Pantera L & 29 & 15.8 & 8 & 351.0 & 264 & 4.22 & 3.170 & 14.50 & 0 & 1 & 5 & 4\\\\\n",
       "\tFerrari Dino & 30 & 19.7 & 6 & 145.0 & 175 & 3.62 & 2.770 & 15.50 & 0 & 1 & 5 & 6\\\\\n",
       "\tMaserati Bora & 31 & 15.0 & 8 & 301.0 & 335 & 3.54 & 3.570 & 14.60 & 0 & 1 & 5 & 8\\\\\n",
       "\tVolvo 142E & 32 & 21.4 & 4 & 121.0 & 109 & 4.11 & 2.780 & 18.60 & 1 & 1 & 4 & 2\\\\\n",
       "\\end{tabular}\n"
      ],
      "text/markdown": [
       "\n",
       "A data.frame: 32 × 12\n",
       "\n",
       "| <!--/--> | ID &lt;int&gt; | mpg &lt;dbl&gt; | cyl &lt;dbl&gt; | disp &lt;dbl&gt; | hp &lt;dbl&gt; | drat &lt;dbl&gt; | wt &lt;dbl&gt; | qsec &lt;dbl&gt; | vs &lt;dbl&gt; | am &lt;dbl&gt; | gear &lt;dbl&gt; | carb &lt;dbl&gt; |\n",
       "|---|---|---|---|---|---|---|---|---|---|---|---|---|\n",
       "| Mazda RX4 |  1 | 21.0 | 6 | 160.0 | 110 | 3.90 | 2.620 | 16.46 | 0 | 1 | 4 | 4 |\n",
       "| Mazda RX4 Wag |  2 | 21.0 | 6 | 160.0 | 110 | 3.90 | 2.875 | 17.02 | 0 | 1 | 4 | 4 |\n",
       "| Datsun 710 |  3 | 22.8 | 4 | 108.0 |  93 | 3.85 | 2.320 | 18.61 | 1 | 1 | 4 | 1 |\n",
       "| Hornet 4 Drive |  4 | 21.4 | 6 | 258.0 | 110 | 3.08 | 3.215 | 19.44 | 1 | 0 | 3 | 1 |\n",
       "| Hornet Sportabout |  5 | 18.7 | 8 | 360.0 | 175 | 3.15 | 3.440 | 17.02 | 0 | 0 | 3 | 2 |\n",
       "| Valiant |  6 | 18.1 | 6 | 225.0 | 105 | 2.76 | 3.460 | 20.22 | 1 | 0 | 3 | 1 |\n",
       "| Duster 360 |  7 | 14.3 | 8 | 360.0 | 245 | 3.21 | 3.570 | 15.84 | 0 | 0 | 3 | 4 |\n",
       "| Merc 240D |  8 | 24.4 | 4 | 146.7 |  62 | 3.69 | 3.190 | 20.00 | 1 | 0 | 4 | 2 |\n",
       "| Merc 230 |  9 | 22.8 | 4 | 140.8 |  95 | 3.92 | 3.150 | 22.90 | 1 | 0 | 4 | 2 |\n",
       "| Merc 280 | 10 | 19.2 | 6 | 167.6 | 123 | 3.92 | 3.440 | 18.30 | 1 | 0 | 4 | 4 |\n",
       "| Merc 280C | 11 | 17.8 | 6 | 167.6 | 123 | 3.92 | 3.440 | 18.90 | 1 | 0 | 4 | 4 |\n",
       "| Merc 450SE | 12 | 16.4 | 8 | 275.8 | 180 | 3.07 | 4.070 | 17.40 | 0 | 0 | 3 | 3 |\n",
       "| Merc 450SL | 13 | 17.3 | 8 | 275.8 | 180 | 3.07 | 3.730 | 17.60 | 0 | 0 | 3 | 3 |\n",
       "| Merc 450SLC | 14 | 15.2 | 8 | 275.8 | 180 | 3.07 | 3.780 | 18.00 | 0 | 0 | 3 | 3 |\n",
       "| Cadillac Fleetwood | 15 | 10.4 | 8 | 472.0 | 205 | 2.93 | 5.250 | 17.98 | 0 | 0 | 3 | 4 |\n",
       "| Lincoln Continental | 16 | 10.4 | 8 | 460.0 | 215 | 3.00 | 5.424 | 17.82 | 0 | 0 | 3 | 4 |\n",
       "| Chrysler Imperial | 17 | 14.7 | 8 | 440.0 | 230 | 3.23 | 5.345 | 17.42 | 0 | 0 | 3 | 4 |\n",
       "| Fiat 128 | 18 | 32.4 | 4 |  78.7 |  66 | 4.08 | 2.200 | 19.47 | 1 | 1 | 4 | 1 |\n",
       "| Honda Civic | 19 | 30.4 | 4 |  75.7 |  52 | 4.93 | 1.615 | 18.52 | 1 | 1 | 4 | 2 |\n",
       "| Toyota Corolla | 20 | 33.9 | 4 |  71.1 |  65 | 4.22 | 1.835 | 19.90 | 1 | 1 | 4 | 1 |\n",
       "| Toyota Corona | 21 | 21.5 | 4 | 120.1 |  97 | 3.70 | 2.465 | 20.01 | 1 | 0 | 3 | 1 |\n",
       "| Dodge Challenger | 22 | 15.5 | 8 | 318.0 | 150 | 2.76 | 3.520 | 16.87 | 0 | 0 | 3 | 2 |\n",
       "| AMC Javelin | 23 | 15.2 | 8 | 304.0 | 150 | 3.15 | 3.435 | 17.30 | 0 | 0 | 3 | 2 |\n",
       "| Camaro Z28 | 24 | 13.3 | 8 | 350.0 | 245 | 3.73 | 3.840 | 15.41 | 0 | 0 | 3 | 4 |\n",
       "| Pontiac Firebird | 25 | 19.2 | 8 | 400.0 | 175 | 3.08 | 3.845 | 17.05 | 0 | 0 | 3 | 2 |\n",
       "| Fiat X1-9 | 26 | 27.3 | 4 |  79.0 |  66 | 4.08 | 1.935 | 18.90 | 1 | 1 | 4 | 1 |\n",
       "| Porsche 914-2 | 27 | 26.0 | 4 | 120.3 |  91 | 4.43 | 2.140 | 16.70 | 0 | 1 | 5 | 2 |\n",
       "| Lotus Europa | 28 | 30.4 | 4 |  95.1 | 113 | 3.77 | 1.513 | 16.90 | 1 | 1 | 5 | 2 |\n",
       "| Ford Pantera L | 29 | 15.8 | 8 | 351.0 | 264 | 4.22 | 3.170 | 14.50 | 0 | 1 | 5 | 4 |\n",
       "| Ferrari Dino | 30 | 19.7 | 6 | 145.0 | 175 | 3.62 | 2.770 | 15.50 | 0 | 1 | 5 | 6 |\n",
       "| Maserati Bora | 31 | 15.0 | 8 | 301.0 | 335 | 3.54 | 3.570 | 14.60 | 0 | 1 | 5 | 8 |\n",
       "| Volvo 142E | 32 | 21.4 | 4 | 121.0 | 109 | 4.11 | 2.780 | 18.60 | 1 | 1 | 4 | 2 |\n",
       "\n"
      ],
      "text/plain": [
       "                    ID mpg  cyl disp  hp  drat wt    qsec  vs am gear carb\n",
       "Mazda RX4            1 21.0 6   160.0 110 3.90 2.620 16.46 0  1  4    4   \n",
       "Mazda RX4 Wag        2 21.0 6   160.0 110 3.90 2.875 17.02 0  1  4    4   \n",
       "Datsun 710           3 22.8 4   108.0  93 3.85 2.320 18.61 1  1  4    1   \n",
       "Hornet 4 Drive       4 21.4 6   258.0 110 3.08 3.215 19.44 1  0  3    1   \n",
       "Hornet Sportabout    5 18.7 8   360.0 175 3.15 3.440 17.02 0  0  3    2   \n",
       "Valiant              6 18.1 6   225.0 105 2.76 3.460 20.22 1  0  3    1   \n",
       "Duster 360           7 14.3 8   360.0 245 3.21 3.570 15.84 0  0  3    4   \n",
       "Merc 240D            8 24.4 4   146.7  62 3.69 3.190 20.00 1  0  4    2   \n",
       "Merc 230             9 22.8 4   140.8  95 3.92 3.150 22.90 1  0  4    2   \n",
       "Merc 280            10 19.2 6   167.6 123 3.92 3.440 18.30 1  0  4    4   \n",
       "Merc 280C           11 17.8 6   167.6 123 3.92 3.440 18.90 1  0  4    4   \n",
       "Merc 450SE          12 16.4 8   275.8 180 3.07 4.070 17.40 0  0  3    3   \n",
       "Merc 450SL          13 17.3 8   275.8 180 3.07 3.730 17.60 0  0  3    3   \n",
       "Merc 450SLC         14 15.2 8   275.8 180 3.07 3.780 18.00 0  0  3    3   \n",
       "Cadillac Fleetwood  15 10.4 8   472.0 205 2.93 5.250 17.98 0  0  3    4   \n",
       "Lincoln Continental 16 10.4 8   460.0 215 3.00 5.424 17.82 0  0  3    4   \n",
       "Chrysler Imperial   17 14.7 8   440.0 230 3.23 5.345 17.42 0  0  3    4   \n",
       "Fiat 128            18 32.4 4    78.7  66 4.08 2.200 19.47 1  1  4    1   \n",
       "Honda Civic         19 30.4 4    75.7  52 4.93 1.615 18.52 1  1  4    2   \n",
       "Toyota Corolla      20 33.9 4    71.1  65 4.22 1.835 19.90 1  1  4    1   \n",
       "Toyota Corona       21 21.5 4   120.1  97 3.70 2.465 20.01 1  0  3    1   \n",
       "Dodge Challenger    22 15.5 8   318.0 150 2.76 3.520 16.87 0  0  3    2   \n",
       "AMC Javelin         23 15.2 8   304.0 150 3.15 3.435 17.30 0  0  3    2   \n",
       "Camaro Z28          24 13.3 8   350.0 245 3.73 3.840 15.41 0  0  3    4   \n",
       "Pontiac Firebird    25 19.2 8   400.0 175 3.08 3.845 17.05 0  0  3    2   \n",
       "Fiat X1-9           26 27.3 4    79.0  66 4.08 1.935 18.90 1  1  4    1   \n",
       "Porsche 914-2       27 26.0 4   120.3  91 4.43 2.140 16.70 0  1  5    2   \n",
       "Lotus Europa        28 30.4 4    95.1 113 3.77 1.513 16.90 1  1  5    2   \n",
       "Ford Pantera L      29 15.8 8   351.0 264 4.22 3.170 14.50 0  1  5    4   \n",
       "Ferrari Dino        30 19.7 6   145.0 175 3.62 2.770 15.50 0  1  5    6   \n",
       "Maserati Bora       31 15.0 8   301.0 335 3.54 3.570 14.60 0  1  5    8   \n",
       "Volvo 142E          32 21.4 4   121.0 109 4.11 2.780 18.60 1  1  4    2   "
      ]
     },
     "metadata": {},
     "output_type": "display_data"
    }
   ],
   "source": [
    "mtcars"
   ]
  },
  {
   "cell_type": "code",
   "execution_count": 35,
   "id": "18ab10be-dcb2-494e-92dc-553ff70a1178",
   "metadata": {
    "tags": []
   },
   "outputs": [
    {
     "data": {
      "text/html": [
       "<style>\n",
       ".list-inline {list-style: none; margin:0; padding: 0}\n",
       ".list-inline>li {display: inline-block}\n",
       ".list-inline>li:not(:last-child)::after {content: \"\\00b7\"; padding: 0 .5ex}\n",
       "</style>\n",
       "<ol class=list-inline><li>1</li><li>2</li><li>4</li><li>5</li><li>6</li><li>7</li><li>10</li><li>11</li><li>12</li><li>13</li><li>14</li><li>15</li><li>16</li><li>17</li><li>22</li><li>23</li><li>24</li><li>25</li><li>28</li><li>29</li><li>30</li><li>31</li><li>32</li></ol>\n"
      ],
      "text/latex": [
       "\\begin{enumerate*}\n",
       "\\item 1\n",
       "\\item 2\n",
       "\\item 4\n",
       "\\item 5\n",
       "\\item 6\n",
       "\\item 7\n",
       "\\item 10\n",
       "\\item 11\n",
       "\\item 12\n",
       "\\item 13\n",
       "\\item 14\n",
       "\\item 15\n",
       "\\item 16\n",
       "\\item 17\n",
       "\\item 22\n",
       "\\item 23\n",
       "\\item 24\n",
       "\\item 25\n",
       "\\item 28\n",
       "\\item 29\n",
       "\\item 30\n",
       "\\item 31\n",
       "\\item 32\n",
       "\\end{enumerate*}\n"
      ],
      "text/markdown": [
       "1. 1\n",
       "2. 2\n",
       "3. 4\n",
       "4. 5\n",
       "5. 6\n",
       "6. 7\n",
       "7. 10\n",
       "8. 11\n",
       "9. 12\n",
       "10. 13\n",
       "11. 14\n",
       "12. 15\n",
       "13. 16\n",
       "14. 17\n",
       "15. 22\n",
       "16. 23\n",
       "17. 24\n",
       "18. 25\n",
       "19. 28\n",
       "20. 29\n",
       "21. 30\n",
       "22. 31\n",
       "23. 32\n",
       "\n",
       "\n"
      ],
      "text/plain": [
       " [1]  1  2  4  5  6  7 10 11 12 13 14 15 16 17 22 23 24 25 28 29 30 31 32"
      ]
     },
     "metadata": {},
     "output_type": "display_data"
    }
   ],
   "source": [
    "which(mtcars$hp>100)"
   ]
  },
  {
   "cell_type": "code",
   "execution_count": 36,
   "id": "1fa92033-96c5-4863-88e8-da28aa56fb98",
   "metadata": {
    "tags": []
   },
   "outputs": [],
   "source": [
    "a = c(1:25)"
   ]
  },
  {
   "cell_type": "code",
   "execution_count": 37,
   "id": "8e1c9e1b-d69f-4798-94a5-e364297ce060",
   "metadata": {
    "tags": []
   },
   "outputs": [
    {
     "data": {
      "text/html": [
       "TRUE"
      ],
      "text/latex": [
       "TRUE"
      ],
      "text/markdown": [
       "TRUE"
      ],
      "text/plain": [
       "[1] TRUE"
      ]
     },
     "metadata": {},
     "output_type": "display_data"
    }
   ],
   "source": [
    "is.vector(a)"
   ]
  },
  {
   "cell_type": "code",
   "execution_count": 38,
   "id": "b52f1383-a63a-415c-8588-a90a5f0c92ff",
   "metadata": {
    "tags": []
   },
   "outputs": [],
   "source": [
    "# create a matrix of strings\n",
    "mymatrix <- matrix(\n",
    "    c(1,2,3,4), \n",
    "    nrow = 2, \n",
    "    ncol = 2, \n",
    "    byrow = FALSE,\n",
    "    dimname = list(\n",
    "        c(\"row1\", \"row2\"),\n",
    "        c(\"Col1\", \"Col2\")\n",
    "        ) \n",
    "    )"
   ]
  },
  {
   "cell_type": "code",
   "execution_count": 39,
   "id": "dc5036f2-e4fd-47dd-a084-b904c83019f1",
   "metadata": {
    "tags": []
   },
   "outputs": [
    {
     "data": {
      "text/html": [
       "<table class=\"dataframe\">\n",
       "<caption>A matrix: 2 × 2 of type dbl</caption>\n",
       "<thead>\n",
       "\t<tr><th></th><th scope=col>Col1</th><th scope=col>Col2</th></tr>\n",
       "</thead>\n",
       "<tbody>\n",
       "\t<tr><th scope=row>row1</th><td>1</td><td>3</td></tr>\n",
       "\t<tr><th scope=row>row2</th><td>2</td><td>4</td></tr>\n",
       "</tbody>\n",
       "</table>\n"
      ],
      "text/latex": [
       "A matrix: 2 × 2 of type dbl\n",
       "\\begin{tabular}{r|ll}\n",
       "  & Col1 & Col2\\\\\n",
       "\\hline\n",
       "\trow1 & 1 & 3\\\\\n",
       "\trow2 & 2 & 4\\\\\n",
       "\\end{tabular}\n"
      ],
      "text/markdown": [
       "\n",
       "A matrix: 2 × 2 of type dbl\n",
       "\n",
       "| <!--/--> | Col1 | Col2 |\n",
       "|---|---|---|\n",
       "| row1 | 1 | 3 |\n",
       "| row2 | 2 | 4 |\n",
       "\n"
      ],
      "text/plain": [
       "     Col1 Col2\n",
       "row1 1    3   \n",
       "row2 2    4   "
      ]
     },
     "metadata": {},
     "output_type": "display_data"
    }
   ],
   "source": [
    "# printing the matrix\n",
    "mymatrix"
   ]
  },
  {
   "cell_type": "code",
   "execution_count": 40,
   "id": "11adb249-4277-489d-a8c9-31d3645394bd",
   "metadata": {
    "tags": []
   },
   "outputs": [],
   "source": [
    "# implementing the as.vector() function\n",
    "myvector = as.vector(mymatrix)"
   ]
  },
  {
   "cell_type": "code",
   "execution_count": 41,
   "id": "124b17a5-8402-4c30-b3a1-020862ee048a",
   "metadata": {
    "tags": []
   },
   "outputs": [
    {
     "data": {
      "text/html": [
       "<style>\n",
       ".list-inline {list-style: none; margin:0; padding: 0}\n",
       ".list-inline>li {display: inline-block}\n",
       ".list-inline>li:not(:last-child)::after {content: \"\\00b7\"; padding: 0 .5ex}\n",
       "</style>\n",
       "<ol class=list-inline><li>1</li><li>2</li><li>3</li><li>4</li></ol>\n"
      ],
      "text/latex": [
       "\\begin{enumerate*}\n",
       "\\item 1\n",
       "\\item 2\n",
       "\\item 3\n",
       "\\item 4\n",
       "\\end{enumerate*}\n"
      ],
      "text/markdown": [
       "1. 1\n",
       "2. 2\n",
       "3. 3\n",
       "4. 4\n",
       "\n",
       "\n"
      ],
      "text/plain": [
       "[1] 1 2 3 4"
      ]
     },
     "metadata": {},
     "output_type": "display_data"
    }
   ],
   "source": [
    "# printing the new vector object\n",
    "myvector"
   ]
  },
  {
   "cell_type": "code",
   "execution_count": 42,
   "id": "006358c5-6c02-4fd4-a2b4-f4f7e6e61660",
   "metadata": {
    "tags": []
   },
   "outputs": [
    {
     "data": {
      "text/html": [
       "TRUE"
      ],
      "text/latex": [
       "TRUE"
      ],
      "text/markdown": [
       "TRUE"
      ],
      "text/plain": [
       "[1] TRUE"
      ]
     },
     "metadata": {},
     "output_type": "display_data"
    }
   ],
   "source": [
    "# checking if its  actually a vector object\n",
    "is.vector(myvector)"
   ]
  },
  {
   "cell_type": "markdown",
   "id": "db9ae161-334f-46b5-b82e-f171c45118ea",
   "metadata": {
    "tags": []
   },
   "source": [
    "### cbind() function in R Language is used to combine specified Vector, Matrix or Data Frame by columns."
   ]
  },
  {
   "cell_type": "code",
   "execution_count": 76,
   "id": "843712c9-a0c6-4df2-9dd2-147137a7199d",
   "metadata": {
    "tags": []
   },
   "outputs": [],
   "source": [
    "a = c(1:26)\n",
    "b = c(27:52)\n",
    "c = c(letters)"
   ]
  },
  {
   "cell_type": "code",
   "execution_count": 48,
   "id": "0737a30d-0bbe-43b0-86de-d6058ae40d5f",
   "metadata": {
    "tags": []
   },
   "outputs": [
    {
     "name": "stderr",
     "output_type": "stream",
     "text": [
      "Warning message in cbind(a, b, c):\n",
      "“number of rows of result is not a multiple of vector length (arg 2)”\n"
     ]
    },
    {
     "data": {
      "text/html": [
       "<table class=\"dataframe\">\n",
       "<caption>A matrix: 26 × 3 of type chr</caption>\n",
       "<thead>\n",
       "\t<tr><th scope=col>a</th><th scope=col>b</th><th scope=col>c</th></tr>\n",
       "</thead>\n",
       "<tbody>\n",
       "\t<tr><td>1 </td><td>27</td><td>a</td></tr>\n",
       "\t<tr><td>2 </td><td>28</td><td>b</td></tr>\n",
       "\t<tr><td>3 </td><td>29</td><td>c</td></tr>\n",
       "\t<tr><td>4 </td><td>30</td><td>d</td></tr>\n",
       "\t<tr><td>5 </td><td>31</td><td>e</td></tr>\n",
       "\t<tr><td>6 </td><td>32</td><td>f</td></tr>\n",
       "\t<tr><td>7 </td><td>33</td><td>g</td></tr>\n",
       "\t<tr><td>8 </td><td>34</td><td>h</td></tr>\n",
       "\t<tr><td>9 </td><td>35</td><td>i</td></tr>\n",
       "\t<tr><td>10</td><td>36</td><td>j</td></tr>\n",
       "\t<tr><td>11</td><td>37</td><td>k</td></tr>\n",
       "\t<tr><td>12</td><td>38</td><td>l</td></tr>\n",
       "\t<tr><td>13</td><td>39</td><td>m</td></tr>\n",
       "\t<tr><td>14</td><td>40</td><td>n</td></tr>\n",
       "\t<tr><td>15</td><td>41</td><td>o</td></tr>\n",
       "\t<tr><td>16</td><td>42</td><td>p</td></tr>\n",
       "\t<tr><td>17</td><td>43</td><td>q</td></tr>\n",
       "\t<tr><td>18</td><td>44</td><td>r</td></tr>\n",
       "\t<tr><td>19</td><td>45</td><td>s</td></tr>\n",
       "\t<tr><td>20</td><td>46</td><td>t</td></tr>\n",
       "\t<tr><td>21</td><td>47</td><td>u</td></tr>\n",
       "\t<tr><td>22</td><td>48</td><td>v</td></tr>\n",
       "\t<tr><td>23</td><td>49</td><td>w</td></tr>\n",
       "\t<tr><td>24</td><td>50</td><td>x</td></tr>\n",
       "\t<tr><td>25</td><td>27</td><td>y</td></tr>\n",
       "\t<tr><td>26</td><td>28</td><td>z</td></tr>\n",
       "</tbody>\n",
       "</table>\n"
      ],
      "text/latex": [
       "A matrix: 26 × 3 of type chr\n",
       "\\begin{tabular}{lll}\n",
       " a & b & c\\\\\n",
       "\\hline\n",
       "\t 1  & 27 & a\\\\\n",
       "\t 2  & 28 & b\\\\\n",
       "\t 3  & 29 & c\\\\\n",
       "\t 4  & 30 & d\\\\\n",
       "\t 5  & 31 & e\\\\\n",
       "\t 6  & 32 & f\\\\\n",
       "\t 7  & 33 & g\\\\\n",
       "\t 8  & 34 & h\\\\\n",
       "\t 9  & 35 & i\\\\\n",
       "\t 10 & 36 & j\\\\\n",
       "\t 11 & 37 & k\\\\\n",
       "\t 12 & 38 & l\\\\\n",
       "\t 13 & 39 & m\\\\\n",
       "\t 14 & 40 & n\\\\\n",
       "\t 15 & 41 & o\\\\\n",
       "\t 16 & 42 & p\\\\\n",
       "\t 17 & 43 & q\\\\\n",
       "\t 18 & 44 & r\\\\\n",
       "\t 19 & 45 & s\\\\\n",
       "\t 20 & 46 & t\\\\\n",
       "\t 21 & 47 & u\\\\\n",
       "\t 22 & 48 & v\\\\\n",
       "\t 23 & 49 & w\\\\\n",
       "\t 24 & 50 & x\\\\\n",
       "\t 25 & 27 & y\\\\\n",
       "\t 26 & 28 & z\\\\\n",
       "\\end{tabular}\n"
      ],
      "text/markdown": [
       "\n",
       "A matrix: 26 × 3 of type chr\n",
       "\n",
       "| a | b | c |\n",
       "|---|---|---|\n",
       "| 1  | 27 | a |\n",
       "| 2  | 28 | b |\n",
       "| 3  | 29 | c |\n",
       "| 4  | 30 | d |\n",
       "| 5  | 31 | e |\n",
       "| 6  | 32 | f |\n",
       "| 7  | 33 | g |\n",
       "| 8  | 34 | h |\n",
       "| 9  | 35 | i |\n",
       "| 10 | 36 | j |\n",
       "| 11 | 37 | k |\n",
       "| 12 | 38 | l |\n",
       "| 13 | 39 | m |\n",
       "| 14 | 40 | n |\n",
       "| 15 | 41 | o |\n",
       "| 16 | 42 | p |\n",
       "| 17 | 43 | q |\n",
       "| 18 | 44 | r |\n",
       "| 19 | 45 | s |\n",
       "| 20 | 46 | t |\n",
       "| 21 | 47 | u |\n",
       "| 22 | 48 | v |\n",
       "| 23 | 49 | w |\n",
       "| 24 | 50 | x |\n",
       "| 25 | 27 | y |\n",
       "| 26 | 28 | z |\n",
       "\n"
      ],
      "text/plain": [
       "      a  b  c\n",
       " [1,] 1  27 a\n",
       " [2,] 2  28 b\n",
       " [3,] 3  29 c\n",
       " [4,] 4  30 d\n",
       " [5,] 5  31 e\n",
       " [6,] 6  32 f\n",
       " [7,] 7  33 g\n",
       " [8,] 8  34 h\n",
       " [9,] 9  35 i\n",
       "[10,] 10 36 j\n",
       "[11,] 11 37 k\n",
       "[12,] 12 38 l\n",
       "[13,] 13 39 m\n",
       "[14,] 14 40 n\n",
       "[15,] 15 41 o\n",
       "[16,] 16 42 p\n",
       "[17,] 17 43 q\n",
       "[18,] 18 44 r\n",
       "[19,] 19 45 s\n",
       "[20,] 20 46 t\n",
       "[21,] 21 47 u\n",
       "[22,] 22 48 v\n",
       "[23,] 23 49 w\n",
       "[24,] 24 50 x\n",
       "[25,] 25 27 y\n",
       "[26,] 26 28 z"
      ]
     },
     "metadata": {},
     "output_type": "display_data"
    }
   ],
   "source": [
    "cbind(a,b,c)"
   ]
  },
  {
   "cell_type": "code",
   "execution_count": 49,
   "id": "ba3c7b38-87f9-4eb7-8875-23aa53a5374a",
   "metadata": {
    "tags": []
   },
   "outputs": [],
   "source": [
    "data_1 <- data.frame(x1 = c(7, 3, 2, 9, 0),          # Column 1 of data frame\n",
    "                     x2 = c(4, 4, 1, 1, 8),          # Column 2 of data frame\n",
    "                     x3 = c(5, 3, 9, 2, 4))          # Column 3 of data frame"
   ]
  },
  {
   "cell_type": "code",
   "execution_count": 50,
   "id": "4936d5fd-0e5b-4d79-83f5-ce52761c447a",
   "metadata": {
    "tags": []
   },
   "outputs": [
    {
     "data": {
      "text/html": [
       "<table class=\"dataframe\">\n",
       "<caption>A data.frame: 5 × 3</caption>\n",
       "<thead>\n",
       "\t<tr><th scope=col>x1</th><th scope=col>x2</th><th scope=col>x3</th></tr>\n",
       "\t<tr><th scope=col>&lt;dbl&gt;</th><th scope=col>&lt;dbl&gt;</th><th scope=col>&lt;dbl&gt;</th></tr>\n",
       "</thead>\n",
       "<tbody>\n",
       "\t<tr><td>7</td><td>4</td><td>5</td></tr>\n",
       "\t<tr><td>3</td><td>4</td><td>3</td></tr>\n",
       "\t<tr><td>2</td><td>1</td><td>9</td></tr>\n",
       "\t<tr><td>9</td><td>1</td><td>2</td></tr>\n",
       "\t<tr><td>0</td><td>8</td><td>4</td></tr>\n",
       "</tbody>\n",
       "</table>\n"
      ],
      "text/latex": [
       "A data.frame: 5 × 3\n",
       "\\begin{tabular}{lll}\n",
       " x1 & x2 & x3\\\\\n",
       " <dbl> & <dbl> & <dbl>\\\\\n",
       "\\hline\n",
       "\t 7 & 4 & 5\\\\\n",
       "\t 3 & 4 & 3\\\\\n",
       "\t 2 & 1 & 9\\\\\n",
       "\t 9 & 1 & 2\\\\\n",
       "\t 0 & 8 & 4\\\\\n",
       "\\end{tabular}\n"
      ],
      "text/markdown": [
       "\n",
       "A data.frame: 5 × 3\n",
       "\n",
       "| x1 &lt;dbl&gt; | x2 &lt;dbl&gt; | x3 &lt;dbl&gt; |\n",
       "|---|---|---|\n",
       "| 7 | 4 | 5 |\n",
       "| 3 | 4 | 3 |\n",
       "| 2 | 1 | 9 |\n",
       "| 9 | 1 | 2 |\n",
       "| 0 | 8 | 4 |\n",
       "\n"
      ],
      "text/plain": [
       "  x1 x2 x3\n",
       "1 7  4  5 \n",
       "2 3  4  3 \n",
       "3 2  1  9 \n",
       "4 9  1  2 \n",
       "5 0  8  4 "
      ]
     },
     "metadata": {},
     "output_type": "display_data"
    }
   ],
   "source": [
    "data_1"
   ]
  },
  {
   "cell_type": "code",
   "execution_count": 51,
   "id": "ac1ecf34-ab56-4b22-b61d-2903e286bf4f",
   "metadata": {
    "tags": []
   },
   "outputs": [],
   "source": [
    "y1 <- c('a', 'b', 'c', 'd', 'e')                               # Create vector"
   ]
  },
  {
   "cell_type": "code",
   "execution_count": 53,
   "id": "4ea37390-738f-4014-b3d9-11899dd3d6ab",
   "metadata": {
    "tags": []
   },
   "outputs": [
    {
     "data": {
      "text/html": [
       "<table class=\"dataframe\">\n",
       "<caption>A data.frame: 5 × 4</caption>\n",
       "<thead>\n",
       "\t<tr><th scope=col>x1</th><th scope=col>x2</th><th scope=col>x3</th><th scope=col>y1</th></tr>\n",
       "\t<tr><th scope=col>&lt;dbl&gt;</th><th scope=col>&lt;dbl&gt;</th><th scope=col>&lt;dbl&gt;</th><th scope=col>&lt;chr&gt;</th></tr>\n",
       "</thead>\n",
       "<tbody>\n",
       "\t<tr><td>7</td><td>4</td><td>5</td><td>a</td></tr>\n",
       "\t<tr><td>3</td><td>4</td><td>3</td><td>b</td></tr>\n",
       "\t<tr><td>2</td><td>1</td><td>9</td><td>c</td></tr>\n",
       "\t<tr><td>9</td><td>1</td><td>2</td><td>d</td></tr>\n",
       "\t<tr><td>0</td><td>8</td><td>4</td><td>e</td></tr>\n",
       "</tbody>\n",
       "</table>\n"
      ],
      "text/latex": [
       "A data.frame: 5 × 4\n",
       "\\begin{tabular}{llll}\n",
       " x1 & x2 & x3 & y1\\\\\n",
       " <dbl> & <dbl> & <dbl> & <chr>\\\\\n",
       "\\hline\n",
       "\t 7 & 4 & 5 & a\\\\\n",
       "\t 3 & 4 & 3 & b\\\\\n",
       "\t 2 & 1 & 9 & c\\\\\n",
       "\t 9 & 1 & 2 & d\\\\\n",
       "\t 0 & 8 & 4 & e\\\\\n",
       "\\end{tabular}\n"
      ],
      "text/markdown": [
       "\n",
       "A data.frame: 5 × 4\n",
       "\n",
       "| x1 &lt;dbl&gt; | x2 &lt;dbl&gt; | x3 &lt;dbl&gt; | y1 &lt;chr&gt; |\n",
       "|---|---|---|---|\n",
       "| 7 | 4 | 5 | a |\n",
       "| 3 | 4 | 3 | b |\n",
       "| 2 | 1 | 9 | c |\n",
       "| 9 | 1 | 2 | d |\n",
       "| 0 | 8 | 4 | e |\n",
       "\n"
      ],
      "text/plain": [
       "  x1 x2 x3 y1\n",
       "1 7  4  5  a \n",
       "2 3  4  3  b \n",
       "3 2  1  9  c \n",
       "4 9  1  2  d \n",
       "5 0  8  4  e "
      ]
     },
     "metadata": {},
     "output_type": "display_data"
    }
   ],
   "source": [
    "data_new1 <- cbind(data_1,y1)                       # cbind vector to data frame\n",
    "data_new1                                           "
   ]
  },
  {
   "cell_type": "markdown",
   "id": "99a9eefd-d330-44df-9809-9504ba662d45",
   "metadata": {
    "tags": []
   },
   "source": [
    "### grep() function in R Language is used to search for matches of a pattern within each element of the given string."
   ]
  },
  {
   "cell_type": "code",
   "execution_count": 54,
   "id": "baccf159-1e79-4118-a140-6c7d6697a153",
   "metadata": {
    "tags": []
   },
   "outputs": [],
   "source": [
    "string = c(\"I\", \"scream\", \"you\", \"scream\", \"we\", \"all\", \"scream\", \"for\", \"ice\", \"cream\")"
   ]
  },
  {
   "cell_type": "code",
   "execution_count": 55,
   "id": "eaf45885-5666-4ce6-a05d-e1d5a952e72b",
   "metadata": {
    "tags": []
   },
   "outputs": [
    {
     "data": {
      "text/html": [
       "<style>\n",
       ".list-inline {list-style: none; margin:0; padding: 0}\n",
       ".list-inline>li {display: inline-block}\n",
       ".list-inline>li:not(:last-child)::after {content: \"\\00b7\"; padding: 0 .5ex}\n",
       "</style>\n",
       "<ol class=list-inline><li>2</li><li>4</li><li>7</li><li>10</li></ol>\n"
      ],
      "text/latex": [
       "\\begin{enumerate*}\n",
       "\\item 2\n",
       "\\item 4\n",
       "\\item 7\n",
       "\\item 10\n",
       "\\end{enumerate*}\n"
      ],
      "text/markdown": [
       "1. 2\n",
       "2. 4\n",
       "3. 7\n",
       "4. 10\n",
       "\n",
       "\n"
      ],
      "text/plain": [
       "[1]  2  4  7 10"
      ]
     },
     "metadata": {},
     "output_type": "display_data"
    }
   ],
   "source": [
    "grep(\"+eam\", string)"
   ]
  },
  {
   "cell_type": "markdown",
   "id": "ef85d652-e052-432d-bf01-ac93e577cd0b",
   "metadata": {
    "tags": []
   },
   "source": [
    "### Test if 2 objects are *exactly* equal"
   ]
  },
  {
   "cell_type": "code",
   "execution_count": 56,
   "id": "d708a8c2-b4a6-4213-8ab6-41f0f40cbfea",
   "metadata": {
    "tags": []
   },
   "outputs": [
    {
     "data": {
      "text/html": [
       "<style>\n",
       ".list-inline {list-style: none; margin:0; padding: 0}\n",
       ".list-inline>li {display: inline-block}\n",
       ".list-inline>li:not(:last-child)::after {content: \"\\00b7\"; padding: 0 .5ex}\n",
       "</style>\n",
       "<ol class=list-inline><li>1</li><li>2</li><li>3</li><li>4</li><li>5</li><li>6</li><li>7</li><li>8</li><li>9</li><li>10</li><li>11</li><li>12</li><li>13</li><li>14</li><li>15</li><li>16</li><li>17</li><li>18</li><li>19</li><li>20</li><li>21</li><li>22</li><li>23</li><li>24</li><li>25</li><li>26</li></ol>\n"
      ],
      "text/latex": [
       "\\begin{enumerate*}\n",
       "\\item 1\n",
       "\\item 2\n",
       "\\item 3\n",
       "\\item 4\n",
       "\\item 5\n",
       "\\item 6\n",
       "\\item 7\n",
       "\\item 8\n",
       "\\item 9\n",
       "\\item 10\n",
       "\\item 11\n",
       "\\item 12\n",
       "\\item 13\n",
       "\\item 14\n",
       "\\item 15\n",
       "\\item 16\n",
       "\\item 17\n",
       "\\item 18\n",
       "\\item 19\n",
       "\\item 20\n",
       "\\item 21\n",
       "\\item 22\n",
       "\\item 23\n",
       "\\item 24\n",
       "\\item 25\n",
       "\\item 26\n",
       "\\end{enumerate*}\n"
      ],
      "text/markdown": [
       "1. 1\n",
       "2. 2\n",
       "3. 3\n",
       "4. 4\n",
       "5. 5\n",
       "6. 6\n",
       "7. 7\n",
       "8. 8\n",
       "9. 9\n",
       "10. 10\n",
       "11. 11\n",
       "12. 12\n",
       "13. 13\n",
       "14. 14\n",
       "15. 15\n",
       "16. 16\n",
       "17. 17\n",
       "18. 18\n",
       "19. 19\n",
       "20. 20\n",
       "21. 21\n",
       "22. 22\n",
       "23. 23\n",
       "24. 24\n",
       "25. 25\n",
       "26. 26\n",
       "\n",
       "\n"
      ],
      "text/plain": [
       " [1]  1  2  3  4  5  6  7  8  9 10 11 12 13 14 15 16 17 18 19 20 21 22 23 24 25\n",
       "[26] 26"
      ]
     },
     "metadata": {},
     "output_type": "display_data"
    }
   ],
   "source": [
    "a"
   ]
  },
  {
   "cell_type": "code",
   "execution_count": 57,
   "id": "05d0eb5f-509d-4c16-be83-d7662a247cdd",
   "metadata": {
    "tags": []
   },
   "outputs": [
    {
     "data": {
      "text/html": [
       "<style>\n",
       ".list-inline {list-style: none; margin:0; padding: 0}\n",
       ".list-inline>li {display: inline-block}\n",
       ".list-inline>li:not(:last-child)::after {content: \"\\00b7\"; padding: 0 .5ex}\n",
       "</style>\n",
       "<ol class=list-inline><li>27</li><li>28</li><li>29</li><li>30</li><li>31</li><li>32</li><li>33</li><li>34</li><li>35</li><li>36</li><li>37</li><li>38</li><li>39</li><li>40</li><li>41</li><li>42</li><li>43</li><li>44</li><li>45</li><li>46</li><li>47</li><li>48</li><li>49</li><li>50</li></ol>\n"
      ],
      "text/latex": [
       "\\begin{enumerate*}\n",
       "\\item 27\n",
       "\\item 28\n",
       "\\item 29\n",
       "\\item 30\n",
       "\\item 31\n",
       "\\item 32\n",
       "\\item 33\n",
       "\\item 34\n",
       "\\item 35\n",
       "\\item 36\n",
       "\\item 37\n",
       "\\item 38\n",
       "\\item 39\n",
       "\\item 40\n",
       "\\item 41\n",
       "\\item 42\n",
       "\\item 43\n",
       "\\item 44\n",
       "\\item 45\n",
       "\\item 46\n",
       "\\item 47\n",
       "\\item 48\n",
       "\\item 49\n",
       "\\item 50\n",
       "\\end{enumerate*}\n"
      ],
      "text/markdown": [
       "1. 27\n",
       "2. 28\n",
       "3. 29\n",
       "4. 30\n",
       "5. 31\n",
       "6. 32\n",
       "7. 33\n",
       "8. 34\n",
       "9. 35\n",
       "10. 36\n",
       "11. 37\n",
       "12. 38\n",
       "13. 39\n",
       "14. 40\n",
       "15. 41\n",
       "16. 42\n",
       "17. 43\n",
       "18. 44\n",
       "19. 45\n",
       "20. 46\n",
       "21. 47\n",
       "22. 48\n",
       "23. 49\n",
       "24. 50\n",
       "\n",
       "\n"
      ],
      "text/plain": [
       " [1] 27 28 29 30 31 32 33 34 35 36 37 38 39 40 41 42 43 44 45 46 47 48 49 50"
      ]
     },
     "metadata": {},
     "output_type": "display_data"
    }
   ],
   "source": [
    "b"
   ]
  },
  {
   "cell_type": "code",
   "execution_count": 58,
   "id": "8fe33cab-3065-4ed7-8176-52ba11157158",
   "metadata": {
    "tags": []
   },
   "outputs": [
    {
     "data": {
      "text/html": [
       "FALSE"
      ],
      "text/latex": [
       "FALSE"
      ],
      "text/markdown": [
       "FALSE"
      ],
      "text/plain": [
       "[1] FALSE"
      ]
     },
     "metadata": {},
     "output_type": "display_data"
    }
   ],
   "source": [
    "identical(a,b)"
   ]
  },
  {
   "cell_type": "markdown",
   "id": "14c0caf0-aca4-409d-a096-ea40b1845492",
   "metadata": {
    "tags": []
   },
   "source": [
    "### jitter()\t#Add a small amount of noise to a numeric vector"
   ]
  },
  {
   "cell_type": "code",
   "execution_count": 59,
   "id": "9081bff3-b87b-4f7e-af7e-f57578640208",
   "metadata": {},
   "outputs": [
    {
     "data": {
      "text/html": [
       "<style>\n",
       ".list-inline {list-style: none; margin:0; padding: 0}\n",
       ".list-inline>li {display: inline-block}\n",
       ".list-inline>li:not(:last-child)::after {content: \"\\00b7\"; padding: 0 .5ex}\n",
       "</style>\n",
       "<ol class=list-inline><li>1.12956427522004</li><li>1.92317090407014</li><li>2.99505275795236</li><li>3.98593354681507</li><li>4.84088075635955</li><li>6.03632456483319</li><li>6.88537474572659</li><li>7.94554219208658</li><li>8.95729082049802</li><li>9.93154114093631</li><li>10.9834118875675</li><li>12.1702723724768</li><li>13.0378516492434</li><li>14.0517993791029</li><li>14.90280100815</li><li>15.94016794255</li><li>16.922218368575</li><li>18.0667270825244</li><li>18.9757684419863</li><li>20.0864295170642</li><li>21.1715365799144</li><li>21.8243058625609</li><li>23.1349852673709</li><li>24.0155767896213</li><li>25.0128416496329</li><li>26.1127758250572</li></ol>\n"
      ],
      "text/latex": [
       "\\begin{enumerate*}\n",
       "\\item 1.12956427522004\n",
       "\\item 1.92317090407014\n",
       "\\item 2.99505275795236\n",
       "\\item 3.98593354681507\n",
       "\\item 4.84088075635955\n",
       "\\item 6.03632456483319\n",
       "\\item 6.88537474572659\n",
       "\\item 7.94554219208658\n",
       "\\item 8.95729082049802\n",
       "\\item 9.93154114093631\n",
       "\\item 10.9834118875675\n",
       "\\item 12.1702723724768\n",
       "\\item 13.0378516492434\n",
       "\\item 14.0517993791029\n",
       "\\item 14.90280100815\n",
       "\\item 15.94016794255\n",
       "\\item 16.922218368575\n",
       "\\item 18.0667270825244\n",
       "\\item 18.9757684419863\n",
       "\\item 20.0864295170642\n",
       "\\item 21.1715365799144\n",
       "\\item 21.8243058625609\n",
       "\\item 23.1349852673709\n",
       "\\item 24.0155767896213\n",
       "\\item 25.0128416496329\n",
       "\\item 26.1127758250572\n",
       "\\end{enumerate*}\n"
      ],
      "text/markdown": [
       "1. 1.12956427522004\n",
       "2. 1.92317090407014\n",
       "3. 2.99505275795236\n",
       "4. 3.98593354681507\n",
       "5. 4.84088075635955\n",
       "6. 6.03632456483319\n",
       "7. 6.88537474572659\n",
       "8. 7.94554219208658\n",
       "9. 8.95729082049802\n",
       "10. 9.93154114093631\n",
       "11. 10.9834118875675\n",
       "12. 12.1702723724768\n",
       "13. 13.0378516492434\n",
       "14. 14.0517993791029\n",
       "15. 14.90280100815\n",
       "16. 15.94016794255\n",
       "17. 16.922218368575\n",
       "18. 18.0667270825244\n",
       "19. 18.9757684419863\n",
       "20. 20.0864295170642\n",
       "21. 21.1715365799144\n",
       "22. 21.8243058625609\n",
       "23. 23.1349852673709\n",
       "24. 24.0155767896213\n",
       "25. 25.0128416496329\n",
       "26. 26.1127758250572\n",
       "\n",
       "\n"
      ],
      "text/plain": [
       " [1]  1.129564  1.923171  2.995053  3.985934  4.840881  6.036325  6.885375\n",
       " [8]  7.945542  8.957291  9.931541 10.983412 12.170272 13.037852 14.051799\n",
       "[15] 14.902801 15.940168 16.922218 18.066727 18.975768 20.086430 21.171537\n",
       "[22] 21.824306 23.134985 24.015577 25.012842 26.112776"
      ]
     },
     "metadata": {},
     "output_type": "display_data"
    }
   ],
   "source": [
    "jitter(a)"
   ]
  },
  {
   "cell_type": "code",
   "execution_count": 60,
   "id": "30fc2d21-17e9-421a-b0da-15b05a0a560b",
   "metadata": {},
   "outputs": [
    {
     "data": {
      "text/html": [
       "26"
      ],
      "text/latex": [
       "26"
      ],
      "text/markdown": [
       "26"
      ],
      "text/plain": [
       "[1] 26"
      ]
     },
     "metadata": {},
     "output_type": "display_data"
    }
   ],
   "source": [
    "length(a) # Return no. of elements in vector x"
   ]
  },
  {
   "cell_type": "code",
   "execution_count": 61,
   "id": "9d364962-bf13-4301-b213-59d2a095e015",
   "metadata": {},
   "outputs": [
    {
     "data": {
      "text/html": [
       "<style>\n",
       ".list-inline {list-style: none; margin:0; padding: 0}\n",
       ".list-inline>li {display: inline-block}\n",
       ".list-inline>li:not(:last-child)::after {content: \"\\00b7\"; padding: 0 .5ex}\n",
       "</style>\n",
       "<ol class=list-inline><li>'a'</li><li>'b'</li><li>'c'</li><li>'data_1'</li><li>'data_new1'</li><li>'G20'</li><li>'log'</li><li>'mtcars'</li><li>'my_fac'</li><li>'my_fac_NA'</li><li>'mymatrix'</li><li>'myvector'</li><li>'string'</li><li>'x'</li><li>'y'</li><li>'y1'</li></ol>\n"
      ],
      "text/latex": [
       "\\begin{enumerate*}\n",
       "\\item 'a'\n",
       "\\item 'b'\n",
       "\\item 'c'\n",
       "\\item 'data\\_1'\n",
       "\\item 'data\\_new1'\n",
       "\\item 'G20'\n",
       "\\item 'log'\n",
       "\\item 'mtcars'\n",
       "\\item 'my\\_fac'\n",
       "\\item 'my\\_fac\\_NA'\n",
       "\\item 'mymatrix'\n",
       "\\item 'myvector'\n",
       "\\item 'string'\n",
       "\\item 'x'\n",
       "\\item 'y'\n",
       "\\item 'y1'\n",
       "\\end{enumerate*}\n"
      ],
      "text/markdown": [
       "1. 'a'\n",
       "2. 'b'\n",
       "3. 'c'\n",
       "4. 'data_1'\n",
       "5. 'data_new1'\n",
       "6. 'G20'\n",
       "7. 'log'\n",
       "8. 'mtcars'\n",
       "9. 'my_fac'\n",
       "10. 'my_fac_NA'\n",
       "11. 'mymatrix'\n",
       "12. 'myvector'\n",
       "13. 'string'\n",
       "14. 'x'\n",
       "15. 'y'\n",
       "16. 'y1'\n",
       "\n",
       "\n"
      ],
      "text/plain": [
       " [1] \"a\"         \"b\"         \"c\"         \"data_1\"    \"data_new1\" \"G20\"      \n",
       " [7] \"log\"       \"mtcars\"    \"my_fac\"    \"my_fac_NA\" \"mymatrix\"  \"myvector\" \n",
       "[13] \"string\"    \"x\"         \"y\"         \"y1\"       "
      ]
     },
     "metadata": {},
     "output_type": "display_data"
    }
   ],
   "source": [
    "ls() # List objects in current environment"
   ]
  },
  {
   "cell_type": "code",
   "execution_count": 62,
   "id": "01c17bdd-3c55-462d-b100-1c8223fe0cfb",
   "metadata": {},
   "outputs": [],
   "source": [
    "string1 = paste(\"I scream\", \"you scream\", \"we all scream for ice cream\",sep = ', ')"
   ]
  },
  {
   "cell_type": "code",
   "execution_count": 63,
   "id": "b84ac645-d346-45bf-ac02-fe8447a6b888",
   "metadata": {},
   "outputs": [
    {
     "data": {
      "text/html": [
       "'I scream, you scream, we all scream for ice cream'"
      ],
      "text/latex": [
       "'I scream, you scream, we all scream for ice cream'"
      ],
      "text/markdown": [
       "'I scream, you scream, we all scream for ice cream'"
      ],
      "text/plain": [
       "[1] \"I scream, you scream, we all scream for ice cream\""
      ]
     },
     "metadata": {},
     "output_type": "display_data"
    }
   ],
   "source": [
    "string1"
   ]
  },
  {
   "cell_type": "code",
   "execution_count": 64,
   "id": "31a809ea-5b4d-4dc1-8302-a3defa92801e",
   "metadata": {},
   "outputs": [
    {
     "data": {
      "text/html": [
       "<style>\n",
       ".list-inline {list-style: none; margin:0; padding: 0}\n",
       ".list-inline>li {display: inline-block}\n",
       ".list-inline>li:not(:last-child)::after {content: \"\\00b7\"; padding: 0 .5ex}\n",
       "</style>\n",
       "<ol class=list-inline><li>'I scream, you scream, we all scream for ice cream'</li><li>'I scream, you scream, we all scream for ice cream'</li><li>'I scream, you scream, we all scream for ice cream'</li><li>'I scream, you scream, we all scream for ice cream'</li><li>'I scream, you scream, we all scream for ice cream'</li><li>'I scream, you scream, we all scream for ice cream'</li><li>'I scream, you scream, we all scream for ice cream'</li></ol>\n"
      ],
      "text/latex": [
       "\\begin{enumerate*}\n",
       "\\item 'I scream, you scream, we all scream for ice cream'\n",
       "\\item 'I scream, you scream, we all scream for ice cream'\n",
       "\\item 'I scream, you scream, we all scream for ice cream'\n",
       "\\item 'I scream, you scream, we all scream for ice cream'\n",
       "\\item 'I scream, you scream, we all scream for ice cream'\n",
       "\\item 'I scream, you scream, we all scream for ice cream'\n",
       "\\item 'I scream, you scream, we all scream for ice cream'\n",
       "\\end{enumerate*}\n"
      ],
      "text/markdown": [
       "1. 'I scream, you scream, we all scream for ice cream'\n",
       "2. 'I scream, you scream, we all scream for ice cream'\n",
       "3. 'I scream, you scream, we all scream for ice cream'\n",
       "4. 'I scream, you scream, we all scream for ice cream'\n",
       "5. 'I scream, you scream, we all scream for ice cream'\n",
       "6. 'I scream, you scream, we all scream for ice cream'\n",
       "7. 'I scream, you scream, we all scream for ice cream'\n",
       "\n",
       "\n"
      ],
      "text/plain": [
       "[1] \"I scream, you scream, we all scream for ice cream\"\n",
       "[2] \"I scream, you scream, we all scream for ice cream\"\n",
       "[3] \"I scream, you scream, we all scream for ice cream\"\n",
       "[4] \"I scream, you scream, we all scream for ice cream\"\n",
       "[5] \"I scream, you scream, we all scream for ice cream\"\n",
       "[6] \"I scream, you scream, we all scream for ice cream\"\n",
       "[7] \"I scream, you scream, we all scream for ice cream\""
      ]
     },
     "metadata": {},
     "output_type": "display_data"
    }
   ],
   "source": [
    "rep(string1,7)"
   ]
  },
  {
   "cell_type": "code",
   "execution_count": 65,
   "id": "684ba365-8f26-44ff-a746-faa9e663e427",
   "metadata": {},
   "outputs": [
    {
     "data": {
      "text/html": [
       "<style>\n",
       ".list-inline {list-style: none; margin:0; padding: 0}\n",
       ".list-inline>li {display: inline-block}\n",
       ".list-inline>li:not(:last-child)::after {content: \"\\00b7\"; padding: 0 .5ex}\n",
       "</style>\n",
       "<ol class=list-inline><li>'cream'</li><li>'ice'</li><li>'for'</li><li>'scream'</li><li>'all'</li><li>'we'</li><li>'scream'</li><li>'you'</li><li>'scream'</li><li>'I'</li></ol>\n"
      ],
      "text/latex": [
       "\\begin{enumerate*}\n",
       "\\item 'cream'\n",
       "\\item 'ice'\n",
       "\\item 'for'\n",
       "\\item 'scream'\n",
       "\\item 'all'\n",
       "\\item 'we'\n",
       "\\item 'scream'\n",
       "\\item 'you'\n",
       "\\item 'scream'\n",
       "\\item 'I'\n",
       "\\end{enumerate*}\n"
      ],
      "text/markdown": [
       "1. 'cream'\n",
       "2. 'ice'\n",
       "3. 'for'\n",
       "4. 'scream'\n",
       "5. 'all'\n",
       "6. 'we'\n",
       "7. 'scream'\n",
       "8. 'you'\n",
       "9. 'scream'\n",
       "10. 'I'\n",
       "\n",
       "\n"
      ],
      "text/plain": [
       " [1] \"cream\"  \"ice\"    \"for\"    \"scream\" \"all\"    \"we\"     \"scream\" \"you\"   \n",
       " [9] \"scream\" \"I\"     "
      ]
     },
     "metadata": {},
     "output_type": "display_data"
    }
   ],
   "source": [
    "rev(string)"
   ]
  },
  {
   "cell_type": "code",
   "execution_count": 67,
   "id": "ec74b6b5-8764-42b8-a248-304002642123",
   "metadata": {},
   "outputs": [
    {
     "data": {
      "text/html": [
       "<style>\n",
       ".list-inline {list-style: none; margin:0; padding: 0}\n",
       ".list-inline>li {display: inline-block}\n",
       ".list-inline>li:not(:last-child)::after {content: \"\\00b7\"; padding: 0 .5ex}\n",
       "</style>\n",
       "<ol class=list-inline><li>1</li><li>1.5</li><li>2</li><li>2.5</li><li>3</li><li>3.5</li><li>4</li><li>4.5</li><li>5</li><li>5.5</li><li>6</li><li>6.5</li><li>7</li><li>7.5</li><li>8</li><li>8.5</li><li>9</li><li>9.5</li><li>10</li></ol>\n"
      ],
      "text/latex": [
       "\\begin{enumerate*}\n",
       "\\item 1\n",
       "\\item 1.5\n",
       "\\item 2\n",
       "\\item 2.5\n",
       "\\item 3\n",
       "\\item 3.5\n",
       "\\item 4\n",
       "\\item 4.5\n",
       "\\item 5\n",
       "\\item 5.5\n",
       "\\item 6\n",
       "\\item 6.5\n",
       "\\item 7\n",
       "\\item 7.5\n",
       "\\item 8\n",
       "\\item 8.5\n",
       "\\item 9\n",
       "\\item 9.5\n",
       "\\item 10\n",
       "\\end{enumerate*}\n"
      ],
      "text/markdown": [
       "1. 1\n",
       "2. 1.5\n",
       "3. 2\n",
       "4. 2.5\n",
       "5. 3\n",
       "6. 3.5\n",
       "7. 4\n",
       "8. 4.5\n",
       "9. 5\n",
       "10. 5.5\n",
       "11. 6\n",
       "12. 6.5\n",
       "13. 7\n",
       "14. 7.5\n",
       "15. 8\n",
       "16. 8.5\n",
       "17. 9\n",
       "18. 9.5\n",
       "19. 10\n",
       "\n",
       "\n"
      ],
      "text/plain": [
       " [1]  1.0  1.5  2.0  2.5  3.0  3.5  4.0  4.5  5.0  5.5  6.0  6.5  7.0  7.5  8.0\n",
       "[16]  8.5  9.0  9.5 10.0"
      ]
     },
     "metadata": {},
     "output_type": "display_data"
    }
   ],
   "source": [
    "seq(1,10,0.5) # Generate a sequence (1 -> 10, spaced by 0.5)"
   ]
  },
  {
   "cell_type": "code",
   "execution_count": 69,
   "id": "c2d38950-403f-44ef-ba62-8e5c0fff63e6",
   "metadata": {},
   "outputs": [
    {
     "data": {
      "text/html": [
       "<style>\n",
       ".list-inline {list-style: none; margin:0; padding: 0}\n",
       ".list-inline>li {display: inline-block}\n",
       ".list-inline>li:not(:last-child)::after {content: \"\\00b7\"; padding: 0 .5ex}\n",
       "</style>\n",
       "<ol class=list-inline><li>1</li><li>2</li><li>3</li><li>4</li><li>5</li><li>6</li><li>7</li><li>8</li><li>9</li><li>10</li><li>11</li><li>12</li><li>13</li><li>14</li><li>15</li><li>16</li><li>17</li><li>18</li><li>19</li><li>20</li><li>21</li><li>22</li><li>23</li><li>24</li><li>25</li><li>26</li><li>27</li><li>28</li><li>29</li><li>30</li><li>31</li><li>32</li><li>33</li><li>34</li><li>35</li><li>36</li><li>37</li><li>38</li><li>39</li><li>40</li><li>41</li><li>42</li><li>43</li><li>44</li><li>45</li><li>46</li><li>47</li><li>48</li><li>49</li><li>50</li><li>51</li></ol>\n"
      ],
      "text/latex": [
       "\\begin{enumerate*}\n",
       "\\item 1\n",
       "\\item 2\n",
       "\\item 3\n",
       "\\item 4\n",
       "\\item 5\n",
       "\\item 6\n",
       "\\item 7\n",
       "\\item 8\n",
       "\\item 9\n",
       "\\item 10\n",
       "\\item 11\n",
       "\\item 12\n",
       "\\item 13\n",
       "\\item 14\n",
       "\\item 15\n",
       "\\item 16\n",
       "\\item 17\n",
       "\\item 18\n",
       "\\item 19\n",
       "\\item 20\n",
       "\\item 21\n",
       "\\item 22\n",
       "\\item 23\n",
       "\\item 24\n",
       "\\item 25\n",
       "\\item 26\n",
       "\\item 27\n",
       "\\item 28\n",
       "\\item 29\n",
       "\\item 30\n",
       "\\item 31\n",
       "\\item 32\n",
       "\\item 33\n",
       "\\item 34\n",
       "\\item 35\n",
       "\\item 36\n",
       "\\item 37\n",
       "\\item 38\n",
       "\\item 39\n",
       "\\item 40\n",
       "\\item 41\n",
       "\\item 42\n",
       "\\item 43\n",
       "\\item 44\n",
       "\\item 45\n",
       "\\item 46\n",
       "\\item 47\n",
       "\\item 48\n",
       "\\item 49\n",
       "\\item 50\n",
       "\\item 51\n",
       "\\end{enumerate*}\n"
      ],
      "text/markdown": [
       "1. 1\n",
       "2. 2\n",
       "3. 3\n",
       "4. 4\n",
       "5. 5\n",
       "6. 6\n",
       "7. 7\n",
       "8. 8\n",
       "9. 9\n",
       "10. 10\n",
       "11. 11\n",
       "12. 12\n",
       "13. 13\n",
       "14. 14\n",
       "15. 15\n",
       "16. 16\n",
       "17. 17\n",
       "18. 18\n",
       "19. 19\n",
       "20. 20\n",
       "21. 21\n",
       "22. 22\n",
       "23. 23\n",
       "24. 24\n",
       "25. 25\n",
       "26. 26\n",
       "27. 27\n",
       "28. 28\n",
       "29. 29\n",
       "30. 30\n",
       "31. 31\n",
       "32. 32\n",
       "33. 33\n",
       "34. 34\n",
       "35. 35\n",
       "36. 36\n",
       "37. 37\n",
       "38. 38\n",
       "39. 39\n",
       "40. 40\n",
       "41. 41\n",
       "42. 42\n",
       "43. 43\n",
       "44. 44\n",
       "45. 45\n",
       "46. 46\n",
       "47. 47\n",
       "48. 48\n",
       "49. 49\n",
       "50. 50\n",
       "51. 51\n",
       "\n",
       "\n"
      ],
      "text/plain": [
       " [1]  1  2  3  4  5  6  7  8  9 10 11 12 13 14 15 16 17 18 19 20 21 22 23 24 25\n",
       "[26] 26 27 28 29 30 31 32 33 34 35 36 37 38 39 40 41 42 43 44 45 46 47 48 49 50\n",
       "[51] 51"
      ]
     },
     "metadata": {},
     "output_type": "display_data"
    },
    {
     "data": {
      "text/html": [
       "<style>\n",
       ".list-inline {list-style: none; margin:0; padding: 0}\n",
       ".list-inline>li {display: inline-block}\n",
       ".list-inline>li:not(:last-child)::after {content: \"\\00b7\"; padding: 0 .5ex}\n",
       "</style>\n",
       "<ol class=list-inline><li>2</li><li>4</li><li>6</li><li>8</li><li>10</li><li>12</li><li>14</li><li>16</li><li>18</li><li>20</li></ol>\n"
      ],
      "text/latex": [
       "\\begin{enumerate*}\n",
       "\\item 2\n",
       "\\item 4\n",
       "\\item 6\n",
       "\\item 8\n",
       "\\item 10\n",
       "\\item 12\n",
       "\\item 14\n",
       "\\item 16\n",
       "\\item 18\n",
       "\\item 20\n",
       "\\end{enumerate*}\n"
      ],
      "text/markdown": [
       "1. 2\n",
       "2. 4\n",
       "3. 6\n",
       "4. 8\n",
       "5. 10\n",
       "6. 12\n",
       "7. 14\n",
       "8. 16\n",
       "9. 18\n",
       "10. 20\n",
       "\n",
       "\n"
      ],
      "text/plain": [
       " [1]  2  4  6  8 10 12 14 16 18 20"
      ]
     },
     "metadata": {},
     "output_type": "display_data"
    }
   ],
   "source": [
    "sequence(c(51)) # Create a vector of sequences\n",
    "2*sequence(10)"
   ]
  },
  {
   "cell_type": "code",
   "execution_count": 70,
   "id": "da0b487f-32ed-4acb-b852-e94b7c046539",
   "metadata": {},
   "outputs": [
    {
     "data": {
      "text/html": [
       "<style>\n",
       ".list-inline {list-style: none; margin:0; padding: 0}\n",
       ".list-inline>li {display: inline-block}\n",
       ".list-inline>li:not(:last-child)::after {content: \"\\00b7\"; padding: 0 .5ex}\n",
       "</style>\n",
       "<ol class=list-inline><li>8</li><li>3</li><li>9</li><li>4</li><li>6</li><li>7</li><li>5</li><li>15</li><li>52</li><li>74</li><li>84</li><li>49</li><li>26</li><li>37</li><li>5</li><li>3</li><li>8</li><li>9</li><li>4</li><li>6</li></ol>\n"
      ],
      "text/latex": [
       "\\begin{enumerate*}\n",
       "\\item 8\n",
       "\\item 3\n",
       "\\item 9\n",
       "\\item 4\n",
       "\\item 6\n",
       "\\item 7\n",
       "\\item 5\n",
       "\\item 15\n",
       "\\item 52\n",
       "\\item 74\n",
       "\\item 84\n",
       "\\item 49\n",
       "\\item 26\n",
       "\\item 37\n",
       "\\item 5\n",
       "\\item 3\n",
       "\\item 8\n",
       "\\item 9\n",
       "\\item 4\n",
       "\\item 6\n",
       "\\end{enumerate*}\n"
      ],
      "text/markdown": [
       "1. 8\n",
       "2. 3\n",
       "3. 9\n",
       "4. 4\n",
       "5. 6\n",
       "6. 7\n",
       "7. 5\n",
       "8. 15\n",
       "9. 52\n",
       "10. 74\n",
       "11. 84\n",
       "12. 49\n",
       "13. 26\n",
       "14. 37\n",
       "15. 5\n",
       "16. 3\n",
       "17. 8\n",
       "18. 9\n",
       "19. 4\n",
       "20. 6\n",
       "\n",
       "\n"
      ],
      "text/plain": [
       " [1]  8  3  9  4  6  7  5 15 52 74 84 49 26 37  5  3  8  9  4  6"
      ]
     },
     "metadata": {},
     "output_type": "display_data"
    },
    {
     "data": {
      "text/html": [
       "<style>\n",
       ".list-inline {list-style: none; margin:0; padding: 0}\n",
       ".list-inline>li {display: inline-block}\n",
       ".list-inline>li:not(:last-child)::after {content: \"\\00b7\"; padding: 0 .5ex}\n",
       "</style>\n",
       "<ol class=list-inline><li>3</li><li>3</li><li>4</li><li>4</li><li>5</li><li>5</li><li>6</li><li>6</li><li>7</li><li>8</li><li>8</li><li>9</li><li>9</li><li>15</li><li>26</li><li>37</li><li>49</li><li>52</li><li>74</li><li>84</li></ol>\n"
      ],
      "text/latex": [
       "\\begin{enumerate*}\n",
       "\\item 3\n",
       "\\item 3\n",
       "\\item 4\n",
       "\\item 4\n",
       "\\item 5\n",
       "\\item 5\n",
       "\\item 6\n",
       "\\item 6\n",
       "\\item 7\n",
       "\\item 8\n",
       "\\item 8\n",
       "\\item 9\n",
       "\\item 9\n",
       "\\item 15\n",
       "\\item 26\n",
       "\\item 37\n",
       "\\item 49\n",
       "\\item 52\n",
       "\\item 74\n",
       "\\item 84\n",
       "\\end{enumerate*}\n"
      ],
      "text/markdown": [
       "1. 3\n",
       "2. 3\n",
       "3. 4\n",
       "4. 4\n",
       "5. 5\n",
       "6. 5\n",
       "7. 6\n",
       "8. 6\n",
       "9. 7\n",
       "10. 8\n",
       "11. 8\n",
       "12. 9\n",
       "13. 9\n",
       "14. 15\n",
       "15. 26\n",
       "16. 37\n",
       "17. 49\n",
       "18. 52\n",
       "19. 74\n",
       "20. 84\n",
       "\n",
       "\n"
      ],
      "text/plain": [
       " [1]  3  3  4  4  5  5  6  6  7  8  8  9  9 15 26 37 49 52 74 84"
      ]
     },
     "metadata": {},
     "output_type": "display_data"
    }
   ],
   "source": [
    "x  = c(8,3,9,4,6,7,5,15,52,74,84,49,26,37,5,3,8,9,4,6)\n",
    "x\n",
    "sort(x) # Sort the vector x"
   ]
  },
  {
   "cell_type": "code",
   "execution_count": 71,
   "id": "7c5e0a9c-1797-44fe-9e00-e397d211e764",
   "metadata": {},
   "outputs": [
    {
     "data": {
      "text/html": [
       "'I scream, you scream, we all scream for ice cream'"
      ],
      "text/latex": [
       "'I scream, you scream, we all scream for ice cream'"
      ],
      "text/markdown": [
       "'I scream, you scream, we all scream for ice cream'"
      ],
      "text/plain": [
       "[1] \"I scream, you scream, we all scream for ice cream\""
      ]
     },
     "metadata": {},
     "output_type": "display_data"
    },
    {
     "data": {
      "text/html": [
       "'i scream, you scream, we all scream for ice cream'"
      ],
      "text/latex": [
       "'i scream, you scream, we all scream for ice cream'"
      ],
      "text/markdown": [
       "'i scream, you scream, we all scream for ice cream'"
      ],
      "text/plain": [
       "[1] \"i scream, you scream, we all scream for ice cream\""
      ]
     },
     "metadata": {},
     "output_type": "display_data"
    },
    {
     "data": {
      "text/html": [
       "'I SCREAM, YOU SCREAM, WE ALL SCREAM FOR ICE CREAM'"
      ],
      "text/latex": [
       "'I SCREAM, YOU SCREAM, WE ALL SCREAM FOR ICE CREAM'"
      ],
      "text/markdown": [
       "'I SCREAM, YOU SCREAM, WE ALL SCREAM FOR ICE CREAM'"
      ],
      "text/plain": [
       "[1] \"I SCREAM, YOU SCREAM, WE ALL SCREAM FOR ICE CREAM\""
      ]
     },
     "metadata": {},
     "output_type": "display_data"
    }
   ],
   "source": [
    "string1\n",
    "tolower(string1)\n",
    "toupper(string1) # Convert string to lower/upper case letters"
   ]
  },
  {
   "cell_type": "code",
   "execution_count": 72,
   "id": "7d05a327-de47-4cd3-9837-428978e6f80a",
   "metadata": {},
   "outputs": [
    {
     "data": {
      "text/html": [
       "<style>\n",
       ".list-inline {list-style: none; margin:0; padding: 0}\n",
       ".list-inline>li {display: inline-block}\n",
       ".list-inline>li:not(:last-child)::after {content: \"\\00b7\"; padding: 0 .5ex}\n",
       "</style>\n",
       "<ol class=list-inline><li>3</li><li>4</li><li>5</li><li>6</li><li>7</li><li>8</li><li>9</li><li>15</li><li>26</li><li>37</li><li>49</li><li>52</li><li>74</li><li>84</li></ol>\n"
      ],
      "text/latex": [
       "\\begin{enumerate*}\n",
       "\\item 3\n",
       "\\item 4\n",
       "\\item 5\n",
       "\\item 6\n",
       "\\item 7\n",
       "\\item 8\n",
       "\\item 9\n",
       "\\item 15\n",
       "\\item 26\n",
       "\\item 37\n",
       "\\item 49\n",
       "\\item 52\n",
       "\\item 74\n",
       "\\item 84\n",
       "\\end{enumerate*}\n"
      ],
      "text/markdown": [
       "1. 3\n",
       "2. 4\n",
       "3. 5\n",
       "4. 6\n",
       "5. 7\n",
       "6. 8\n",
       "7. 9\n",
       "8. 15\n",
       "9. 26\n",
       "10. 37\n",
       "11. 49\n",
       "12. 52\n",
       "13. 74\n",
       "14. 84\n",
       "\n",
       "\n"
      ],
      "text/plain": [
       " [1]  3  4  5  6  7  8  9 15 26 37 49 52 74 84"
      ]
     },
     "metadata": {},
     "output_type": "display_data"
    }
   ],
   "source": [
    "sort(unique(x))"
   ]
  },
  {
   "cell_type": "code",
   "execution_count": 73,
   "id": "d408d602-a225-4bfd-be08-629cf48d54c1",
   "metadata": {},
   "outputs": [
    {
     "data": {
      "text/html": [
       "3"
      ],
      "text/latex": [
       "3"
      ],
      "text/markdown": [
       "3"
      ],
      "text/plain": [
       "[1] 3"
      ]
     },
     "metadata": {},
     "output_type": "display_data"
    },
    {
     "data": {
      "text/html": [
       "4"
      ],
      "text/latex": [
       "4"
      ],
      "text/markdown": [
       "4"
      ],
      "text/plain": [
       "[1] 4"
      ]
     },
     "metadata": {},
     "output_type": "display_data"
    }
   ],
   "source": [
    "y = 3.1427\n",
    "floor(y)\n",
    "ceiling(y)"
   ]
  },
  {
   "cell_type": "code",
   "execution_count": 74,
   "id": "d5dea0a0-d552-4ad7-bc47-f80784ed26ca",
   "metadata": {},
   "outputs": [
    {
     "data": {
      "text/html": [
       "<style>\n",
       ".list-inline {list-style: none; margin:0; padding: 0}\n",
       ".list-inline>li {display: inline-block}\n",
       ".list-inline>li:not(:last-child)::after {content: \"\\00b7\"; padding: 0 .5ex}\n",
       "</style>\n",
       "<ol class=list-inline><li>'add.txt'</li><li>'address.txt'</li><li>'Automobile_data.csv'</li><li>'cdac_people_new.txt'</li><li>'cdac_people.txt'</li><li>'english.txt'</li><li>'file1.txt'</li><li>'file2.txt'</li><li>'health_arogyavani.txt'</li><li>'hindi.txt'</li><li>'mathematical_expressions_answers.txt'</li><li>'mathematical_expressions_answers1.txt'</li><li>'mathematical_expressions.txt'</li><li>'movie_names.txt'</li><li>'New_Test_File.txt'</li><li>'New_Test_File1.txt'</li><li>'output-file.txt'</li><li>'sample'</li><li>'sentences.txt'</li><li>'sentences1.txt'</li><li>'students.txt'</li><li>'Test_file0.txt'</li><li>'testfile.txt'</li><li>'Training_sentences24.txt'</li><li>'trial.txt'</li><li>'words.txt'</li><li>'zomato_blr_data.csv'</li></ol>\n"
      ],
      "text/latex": [
       "\\begin{enumerate*}\n",
       "\\item 'add.txt'\n",
       "\\item 'address.txt'\n",
       "\\item 'Automobile\\_data.csv'\n",
       "\\item 'cdac\\_people\\_new.txt'\n",
       "\\item 'cdac\\_people.txt'\n",
       "\\item 'english.txt'\n",
       "\\item 'file1.txt'\n",
       "\\item 'file2.txt'\n",
       "\\item 'health\\_arogyavani.txt'\n",
       "\\item 'hindi.txt'\n",
       "\\item 'mathematical\\_expressions\\_answers.txt'\n",
       "\\item 'mathematical\\_expressions\\_answers1.txt'\n",
       "\\item 'mathematical\\_expressions.txt'\n",
       "\\item 'movie\\_names.txt'\n",
       "\\item 'New\\_Test\\_File.txt'\n",
       "\\item 'New\\_Test\\_File1.txt'\n",
       "\\item 'output-file.txt'\n",
       "\\item 'sample'\n",
       "\\item 'sentences.txt'\n",
       "\\item 'sentences1.txt'\n",
       "\\item 'students.txt'\n",
       "\\item 'Test\\_file0.txt'\n",
       "\\item 'testfile.txt'\n",
       "\\item 'Training\\_sentences24.txt'\n",
       "\\item 'trial.txt'\n",
       "\\item 'words.txt'\n",
       "\\item 'zomato\\_blr\\_data.csv'\n",
       "\\end{enumerate*}\n"
      ],
      "text/markdown": [
       "1. 'add.txt'\n",
       "2. 'address.txt'\n",
       "3. 'Automobile_data.csv'\n",
       "4. 'cdac_people_new.txt'\n",
       "5. 'cdac_people.txt'\n",
       "6. 'english.txt'\n",
       "7. 'file1.txt'\n",
       "8. 'file2.txt'\n",
       "9. 'health_arogyavani.txt'\n",
       "10. 'hindi.txt'\n",
       "11. 'mathematical_expressions_answers.txt'\n",
       "12. 'mathematical_expressions_answers1.txt'\n",
       "13. 'mathematical_expressions.txt'\n",
       "14. 'movie_names.txt'\n",
       "15. 'New_Test_File.txt'\n",
       "16. 'New_Test_File1.txt'\n",
       "17. 'output-file.txt'\n",
       "18. 'sample'\n",
       "19. 'sentences.txt'\n",
       "20. 'sentences1.txt'\n",
       "21. 'students.txt'\n",
       "22. 'Test_file0.txt'\n",
       "23. 'testfile.txt'\n",
       "24. 'Training_sentences24.txt'\n",
       "25. 'trial.txt'\n",
       "26. 'words.txt'\n",
       "27. 'zomato_blr_data.csv'\n",
       "\n",
       "\n"
      ],
      "text/plain": [
       " [1] \"add.txt\"                              \n",
       " [2] \"address.txt\"                          \n",
       " [3] \"Automobile_data.csv\"                  \n",
       " [4] \"cdac_people_new.txt\"                  \n",
       " [5] \"cdac_people.txt\"                      \n",
       " [6] \"english.txt\"                          \n",
       " [7] \"file1.txt\"                            \n",
       " [8] \"file2.txt\"                            \n",
       " [9] \"health_arogyavani.txt\"                \n",
       "[10] \"hindi.txt\"                            \n",
       "[11] \"mathematical_expressions_answers.txt\" \n",
       "[12] \"mathematical_expressions_answers1.txt\"\n",
       "[13] \"mathematical_expressions.txt\"         \n",
       "[14] \"movie_names.txt\"                      \n",
       "[15] \"New_Test_File.txt\"                    \n",
       "[16] \"New_Test_File1.txt\"                   \n",
       "[17] \"output-file.txt\"                      \n",
       "[18] \"sample\"                               \n",
       "[19] \"sentences.txt\"                        \n",
       "[20] \"sentences1.txt\"                       \n",
       "[21] \"students.txt\"                         \n",
       "[22] \"Test_file0.txt\"                       \n",
       "[23] \"testfile.txt\"                         \n",
       "[24] \"Training_sentences24.txt\"             \n",
       "[25] \"trial.txt\"                            \n",
       "[26] \"words.txt\"                            \n",
       "[27] \"zomato_blr_data.csv\"                  "
      ]
     },
     "metadata": {},
     "output_type": "display_data"
    }
   ],
   "source": [
    "list.files('../data/')"
   ]
  },
  {
   "cell_type": "code",
   "execution_count": 77,
   "id": "c4994eed-cd84-41d0-8cb4-1b4ce3901837",
   "metadata": {},
   "outputs": [
    {
     "data": {
      "text/html": [
       "<style>\n",
       ".list-inline {list-style: none; margin:0; padding: 0}\n",
       ".list-inline>li {display: inline-block}\n",
       ".list-inline>li:not(:last-child)::after {content: \"\\00b7\"; padding: 0 .5ex}\n",
       "</style>\n",
       "<ol class=list-inline><li>1</li><li>2</li><li>3</li><li>4</li><li>5</li><li>6</li><li>7</li><li>8</li><li>9</li><li>10</li><li>11</li><li>12</li><li>13</li><li>14</li><li>15</li><li>16</li><li>17</li><li>18</li><li>19</li><li>20</li><li>21</li><li>22</li><li>23</li><li>24</li><li>25</li><li>26</li></ol>\n"
      ],
      "text/latex": [
       "\\begin{enumerate*}\n",
       "\\item 1\n",
       "\\item 2\n",
       "\\item 3\n",
       "\\item 4\n",
       "\\item 5\n",
       "\\item 6\n",
       "\\item 7\n",
       "\\item 8\n",
       "\\item 9\n",
       "\\item 10\n",
       "\\item 11\n",
       "\\item 12\n",
       "\\item 13\n",
       "\\item 14\n",
       "\\item 15\n",
       "\\item 16\n",
       "\\item 17\n",
       "\\item 18\n",
       "\\item 19\n",
       "\\item 20\n",
       "\\item 21\n",
       "\\item 22\n",
       "\\item 23\n",
       "\\item 24\n",
       "\\item 25\n",
       "\\item 26\n",
       "\\end{enumerate*}\n"
      ],
      "text/markdown": [
       "1. 1\n",
       "2. 2\n",
       "3. 3\n",
       "4. 4\n",
       "5. 5\n",
       "6. 6\n",
       "7. 7\n",
       "8. 8\n",
       "9. 9\n",
       "10. 10\n",
       "11. 11\n",
       "12. 12\n",
       "13. 13\n",
       "14. 14\n",
       "15. 15\n",
       "16. 16\n",
       "17. 17\n",
       "18. 18\n",
       "19. 19\n",
       "20. 20\n",
       "21. 21\n",
       "22. 22\n",
       "23. 23\n",
       "24. 24\n",
       "25. 25\n",
       "26. 26\n",
       "\n",
       "\n"
      ],
      "text/plain": [
       " [1]  1  2  3  4  5  6  7  8  9 10 11 12 13 14 15 16 17 18 19 20 21 22 23 24 25\n",
       "[26] 26"
      ]
     },
     "metadata": {},
     "output_type": "display_data"
    },
    {
     "data": {
      "text/html": [
       "<style>\n",
       ".list-inline {list-style: none; margin:0; padding: 0}\n",
       ".list-inline>li {display: inline-block}\n",
       ".list-inline>li:not(:last-child)::after {content: \"\\00b7\"; padding: 0 .5ex}\n",
       "</style>\n",
       "<ol class=list-inline><li>27</li><li>28</li><li>29</li><li>30</li><li>31</li><li>32</li><li>33</li><li>34</li><li>35</li><li>36</li><li>37</li><li>38</li><li>39</li><li>40</li><li>41</li><li>42</li><li>43</li><li>44</li><li>45</li><li>46</li><li>47</li><li>48</li><li>49</li><li>50</li><li>51</li><li>52</li></ol>\n"
      ],
      "text/latex": [
       "\\begin{enumerate*}\n",
       "\\item 27\n",
       "\\item 28\n",
       "\\item 29\n",
       "\\item 30\n",
       "\\item 31\n",
       "\\item 32\n",
       "\\item 33\n",
       "\\item 34\n",
       "\\item 35\n",
       "\\item 36\n",
       "\\item 37\n",
       "\\item 38\n",
       "\\item 39\n",
       "\\item 40\n",
       "\\item 41\n",
       "\\item 42\n",
       "\\item 43\n",
       "\\item 44\n",
       "\\item 45\n",
       "\\item 46\n",
       "\\item 47\n",
       "\\item 48\n",
       "\\item 49\n",
       "\\item 50\n",
       "\\item 51\n",
       "\\item 52\n",
       "\\end{enumerate*}\n"
      ],
      "text/markdown": [
       "1. 27\n",
       "2. 28\n",
       "3. 29\n",
       "4. 30\n",
       "5. 31\n",
       "6. 32\n",
       "7. 33\n",
       "8. 34\n",
       "9. 35\n",
       "10. 36\n",
       "11. 37\n",
       "12. 38\n",
       "13. 39\n",
       "14. 40\n",
       "15. 41\n",
       "16. 42\n",
       "17. 43\n",
       "18. 44\n",
       "19. 45\n",
       "20. 46\n",
       "21. 47\n",
       "22. 48\n",
       "23. 49\n",
       "24. 50\n",
       "25. 51\n",
       "26. 52\n",
       "\n",
       "\n"
      ],
      "text/plain": [
       " [1] 27 28 29 30 31 32 33 34 35 36 37 38 39 40 41 42 43 44 45 46 47 48 49 50 51\n",
       "[26] 52"
      ]
     },
     "metadata": {},
     "output_type": "display_data"
    },
    {
     "data": {
      "image/png": "[encoded data removed]",
      "text/plain": [
       "plot without title"
      ]
     },
     "metadata": {
      "image/png": {
       "height": 420,
       "width": 420
      }
     },
     "output_type": "display_data"
    }
   ],
   "source": [
    "a\n",
    "b\n",
    "plot(a,b) # Generic function for plotting of R objects"
   ]
  },
  {
   "cell_type": "markdown",
   "id": "f391450d-d862-4856-a878-c24a97b1b098",
   "metadata": {},
   "source": [
    "### Strongly recommend to use ?plot for better understanding of code"
   ]
  },
  {
   "cell_type": "code",
   "execution_count": 79,
   "id": "3cae95da-06cb-4245-9b56-ab132bb859d9",
   "metadata": {},
   "outputs": [
    {
     "data": {
      "image/png": "[encoded data removed]",
      "text/plain": [
       "Plot with title “Vehicle Sales”"
      ]
     },
     "metadata": {
      "image/png": {
       "height": 420,
       "width": 420
      }
     },
     "output_type": "display_data"
    }
   ],
   "source": [
    "# Define 2 vectors\n",
    "cars <- c(1, 3, 6, 4, 9)\n",
    "trucks <- c(2, 5, 4, 5, 12)\n",
    "\n",
    "# Graph cars using a y axis that ranges from 0 to 12\n",
    "plot(cars, type=\"o\", col=\"blue\", ylim=c(0,12),ylab = 'No of vehicles sold',xlab = 'Days')\n",
    "\n",
    "# Graph trucks with red dashed line and square points\n",
    "lines(trucks, type=\"o\", pch=5, lty=5, col=\"red\") #Here lty means LINE TYPE, and The pch PLOT CHARACTERS are symbols or shapes we use for making plots.\n",
    "\n",
    "# Create a title with a red, bold/italic font\n",
    "title(main=\"Vehicle Sales\", col.main=\"red\", font.main=16)\n",
    "\n",
    "# Create a legend at (1, g_range[2]) that is slightly smaller \n",
    "# (cex) and uses the same line colors and points used by \n",
    "# the actual plots \n",
    "g_range <- range(0, cars, trucks)\n",
    "legend(1, g_range[2], c(\"cars\",\"trucks\"), cex=0.8, \n",
    "   col=c(\"blue\",\"red\"), pch=21:22, lty=1:2);"
   ]
  },
  {
   "cell_type": "code",
   "execution_count": 80,
   "id": "fc9d74f1-ca57-4b98-9cf6-4fec05d52b73",
   "metadata": {
    "collapsed": true,
    "jupyter": {
     "outputs_hidden": true
    },
    "tags": []
   },
   "outputs": [
    {
     "data": {
      "text/html": [
       "\n",
       "<table style=\"width: 100%;\"><tr><td>plot.default {graphics}</td><td style=\"text-align: right;\">R Documentation</td></tr></table>\n",
       "\n",
       "<h2>The Default Scatterplot Function</h2>\n",
       "\n",
       "<h3>Description</h3>\n",
       "\n",
       "<p>Draw a scatter plot with decorations such as axes and titles\n",
       "in the active graphics window.\n",
       "</p>\n",
       "\n",
       "\n",
       "<h3>Usage</h3>\n",
       "\n",
       "<pre><code class='language-R'>## Default S3 method:\n",
       "plot(x, y = NULL, type = \"p\",  xlim = NULL, ylim = NULL,\n",
       "     log = \"\", main = NULL, sub = NULL, xlab = NULL, ylab = NULL,\n",
       "     ann = par(\"ann\"), axes = TRUE, frame.plot = axes,\n",
       "     panel.first = NULL, panel.last = NULL, asp = NA,\n",
       "     xgap.axis = NA, ygap.axis = NA,\n",
       "     ...)\n",
       "</code></pre>\n",
       "\n",
       "\n",
       "<h3>Arguments</h3>\n",
       "\n",
       "<table>\n",
       "<tr style=\"vertical-align: top;\"><td><code>x, y</code></td>\n",
       "<td>\n",
       "<p>the <code>x</code> and <code>y</code> arguments provide the x and y\n",
       "coordinates for the plot.  Any reasonable way of defining the\n",
       "coordinates is acceptable.  See the function <code>xy.coords</code>\n",
       "for details.  If supplied separately, they must be of the same length.</p>\n",
       "</td></tr>\n",
       "<tr style=\"vertical-align: top;\"><td><code>type</code></td>\n",
       "<td>\n",
       "<p>1-character string giving the type of plot desired.  The\n",
       "following values are possible, for details, see <code>plot</code>:\n",
       "<code>\"p\"</code> for points, <code>\"l\"</code> for lines,\n",
       "<code>\"b\"</code> for both points and lines,\n",
       "<code>\"c\"</code> for empty points joined by lines,\n",
       "<code>\"o\"</code> for overplotted points and lines,\n",
       "<code>\"s\"</code> and <code>\"S\"</code> for stair steps and\n",
       "<code>\"h\"</code> for histogram-like vertical lines.  Finally,\n",
       "<code>\"n\"</code> does not produce any points or lines.</p>\n",
       "</td></tr>\n",
       "<tr style=\"vertical-align: top;\"><td><code>xlim</code></td>\n",
       "<td>\n",
       "<p>the x limits (x1, x2) of the plot.  Note that <code>x1 &gt; x2</code>\n",
       "is allowed and leads to a &lsquo;reversed axis&rsquo;.\n",
       "</p>\n",
       "<p>The default value, <code>NULL</code>, indicates that the range of the\n",
       "finite values to be plotted should be used.</p>\n",
       "</td></tr>\n",
       "<tr style=\"vertical-align: top;\"><td><code>ylim</code></td>\n",
       "<td>\n",
       "<p>the y limits of the plot.</p>\n",
       "</td></tr>\n",
       "<tr style=\"vertical-align: top;\"><td><code>log</code></td>\n",
       "<td>\n",
       "<p>a character string which contains <code>\"x\"</code> if the x axis\n",
       "is to be logarithmic, <code>\"y\"</code> if the y axis is to be logarithmic\n",
       "and <code>\"xy\"</code> or <code>\"yx\"</code> if both axes are to be logarithmic.</p>\n",
       "</td></tr>\n",
       "<tr style=\"vertical-align: top;\"><td><code>main</code></td>\n",
       "<td>\n",
       "<p>a main title for the plot, see also <code>title</code>.</p>\n",
       "</td></tr>\n",
       "<tr style=\"vertical-align: top;\"><td><code>sub</code></td>\n",
       "<td>\n",
       "<p>a subtitle for the plot.</p>\n",
       "</td></tr>\n",
       "<tr style=\"vertical-align: top;\"><td><code>xlab</code></td>\n",
       "<td>\n",
       "<p>a label for the x axis, defaults to a description of <code>x</code>.</p>\n",
       "</td></tr>\n",
       "<tr style=\"vertical-align: top;\"><td><code>ylab</code></td>\n",
       "<td>\n",
       "<p>a label for the y axis, defaults to a description of <code>y</code>.</p>\n",
       "</td></tr>\n",
       "<tr style=\"vertical-align: top;\"><td><code>ann</code></td>\n",
       "<td>\n",
       "<p>a logical value indicating whether the default annotation\n",
       "(title and x and y axis labels) should appear on the plot.</p>\n",
       "</td></tr>\n",
       "<tr style=\"vertical-align: top;\"><td><code>axes</code></td>\n",
       "<td>\n",
       "<p>a logical value indicating whether both axes should be drawn on\n",
       "the plot.  Use graphical parameter <code>\"xaxt\"</code> or <code>\"yaxt\"</code>\n",
       "to suppress just one of the axes.</p>\n",
       "</td></tr>\n",
       "<tr style=\"vertical-align: top;\"><td><code>frame.plot</code></td>\n",
       "<td>\n",
       "<p>a logical indicating whether a box should be drawn\n",
       "around the plot.</p>\n",
       "</td></tr>\n",
       "<tr style=\"vertical-align: top;\"><td><code>panel.first</code></td>\n",
       "<td>\n",
       "<p>an &lsquo;expression&rsquo; to be evaluated after the\n",
       "plot axes are set up but before any plotting takes place.  This can\n",
       "be useful for drawing background grids or scatterplot smooths.  Note\n",
       "that this works by lazy evaluation: passing this argument from other\n",
       "<code>plot</code> methods may well not work since it may be evaluated too\n",
       "early.</p>\n",
       "</td></tr>\n",
       "<tr style=\"vertical-align: top;\"><td><code>panel.last</code></td>\n",
       "<td>\n",
       "<p>an expression to be evaluated after plotting has\n",
       "taken place but before the axes, title and box are added.  See the\n",
       "comments about <code>panel.first</code>.</p>\n",
       "</td></tr>\n",
       "<tr style=\"vertical-align: top;\"><td><code>asp</code></td>\n",
       "<td>\n",
       "<p>the <code class=\"reqn\">y/x</code> aspect ratio, see <code>plot.window</code>.</p>\n",
       "</td></tr>\n",
       "<tr style=\"vertical-align: top;\"><td><code>xgap.axis, ygap.axis</code></td>\n",
       "<td>\n",
       "<p>the <code class=\"reqn\">x/y</code> axis gap factors, passed as\n",
       "<code>gap.axis</code> to the two <code>axis()</code> calls (when\n",
       "<code>axes</code> is true, as per default).</p>\n",
       "</td></tr>\n",
       "<tr style=\"vertical-align: top;\"><td><code>...</code></td>\n",
       "<td>\n",
       "<p>other graphical parameters (see <code>par</code> and\n",
       "section &lsquo;Details&rsquo; below).</p>\n",
       "</td></tr>\n",
       "</table>\n",
       "\n",
       "\n",
       "<h3>Details</h3>\n",
       "\n",
       "<p>Commonly used graphical parameters are:\n",
       "</p>\n",
       "\n",
       "<dl>\n",
       "<dt><code>col</code></dt><dd><p>The colors for lines and points.  Multiple colors can be\n",
       "specified so that each point can be given its own color.  If there\n",
       "are fewer colors than points they are recycled in the standard\n",
       "fashion.  Lines will all be plotted in the first colour specified.</p>\n",
       "</dd>\n",
       "<dt><code>bg</code></dt><dd><p>a vector of background colors for open plot symbols, see\n",
       "<code>points</code>.  Note: this is <b>not</b> the same setting\n",
       "as <code>par(\"bg\")</code>.</p>\n",
       "</dd>\n",
       "<dt><code>pch</code></dt><dd><p>a vector of plotting characters or symbols:\n",
       "see <code>points</code>.</p>\n",
       "</dd>\n",
       "<dt><code>cex</code></dt><dd><p>a numerical vector giving the amount by which\n",
       "plotting characters and symbols should be scaled relative to the\n",
       "default.  This works as a multiple of <code>par(\"cex\")</code>.\n",
       "<code>NULL</code> and <code>NA</code> are equivalent to <code>1.0</code>.  Note that\n",
       "this does not affect annotation: see below.</p>\n",
       "</dd>\n",
       "<dt><code>lty</code></dt><dd><p>a vector of line types, see <code>par</code>.</p>\n",
       "</dd>\n",
       "<dt><code>cex.main</code>, <code>col.lab</code>, <code>font.sub</code>,\n",
       "etc</dt><dd><p>settings for main- and sub-title and axis annotation, see\n",
       "<code>title</code> and <code>par</code>.</p>\n",
       "</dd>\n",
       "<dt><code>lwd</code></dt><dd><p>a vector of line widths, see <code>par</code>.</p>\n",
       "</dd>\n",
       "</dl>\n",
       "\n",
       "\n",
       "\n",
       "<h3>Note</h3>\n",
       "\n",
       "<p>The presence of <code>panel.first</code> and <code>panel.last</code> is a\n",
       "historical anomaly: default plots do not have &lsquo;panels&rsquo;, unlike\n",
       "e.g. <code>pairs</code> plots.  For more control, use lower-level\n",
       "plotting functions: <code>plot.default</code> calls in turn some of\n",
       "<code>plot.new</code>, <code>plot.window</code>,\n",
       "<code>plot.xy</code>, <code>axis</code>, <code>box</code> and\n",
       "<code>title</code>, and plots can be built up by calling these\n",
       "individually, or by calling <code>plot(type = \"n\")</code> and adding further\n",
       "elements.\n",
       "</p>\n",
       "<p>The <code>plot</code> generic was moved from the <span class=\"pkg\">graphics</span> package to\n",
       "the <span class=\"pkg\">base</span> package in <span style=\"font-family: Courier New, Courier; color: #666666;\"><b>R</b></span> 4.0.0. It is currently re-exported from\n",
       "the <span class=\"pkg\">graphics</span> namespace to allow packages importing it from there\n",
       "to continue working, but this may change in future versions of <span style=\"font-family: Courier New, Courier; color: #666666;\"><b>R</b></span>.\n",
       "</p>\n",
       "\n",
       "\n",
       "<h3>References</h3>\n",
       "\n",
       "<p>Becker, R. A., Chambers, J. M. and Wilks, A. R. (1988)\n",
       "<em>The New S Language</em>.\n",
       "Wadsworth &amp; Brooks/Cole.\n",
       "</p>\n",
       "<p>Cleveland, W. S. (1985)\n",
       "<em>The Elements of Graphing Data.</em>\n",
       "Monterey, CA: Wadsworth.\n",
       "</p>\n",
       "<p>Murrell, P. (2005) <em>R Graphics</em>. Chapman &amp; Hall/CRC Press.\n",
       "</p>\n",
       "\n",
       "\n",
       "<h3>See Also</h3>\n",
       "\n",
       "<p><code>plot</code>, <code>plot.window</code>, <code>xy.coords</code>.\n",
       "For thousands of points, consider using <code>smoothScatter</code>\n",
       "instead.\n",
       "</p>\n",
       "\n",
       "\n",
       "<h3>Examples</h3>\n",
       "\n",
       "<pre><code class='language-R'>Speed &lt;- cars$speed\n",
       "Distance &lt;- cars$dist\n",
       "plot(Speed, Distance, panel.first = grid(8, 8),\n",
       "     pch = 0, cex = 1.2, col = \"blue\")\n",
       "plot(Speed, Distance,\n",
       "     panel.first = lines(stats::lowess(Speed, Distance), lty = \"dashed\"),\n",
       "     pch = 0, cex = 1.2, col = \"blue\")\n",
       "\n",
       "## Show the different plot types\n",
       "x &lt;- 0:12\n",
       "y &lt;- sin(pi/5 * x)\n",
       "op &lt;- par(mfrow = c(3,3), mar = .1+ c(2,2,3,1))\n",
       "for (tp in c(\"p\",\"l\",\"b\",  \"c\",\"o\",\"h\",  \"s\",\"S\",\"n\")) {\n",
       "   plot(y ~ x, type = tp, main = paste0(\"plot(*, type = \\\"\", tp, \"\\\")\"))\n",
       "   if(tp == \"S\") {\n",
       "      lines(x, y, type = \"s\", col = \"red\", lty = 2)\n",
       "      mtext(\"lines(*, type = \\\"s\\\", ...)\", col = \"red\", cex = 0.8)\n",
       "   }\n",
       "}\n",
       "par(op)\n",
       "\n",
       "##--- Log-Log Plot  with  custom axes\n",
       "lx &lt;- seq(1, 5, length.out = 41)\n",
       "yl &lt;- expression(e^{-frac(1,2) * {log[10](x)}^2})\n",
       "y &lt;- exp(-.5*lx^2)\n",
       "op &lt;- par(mfrow = c(2,1), mar = par(\"mar\")-c(1,0,2,0), mgp = c(2, .7, 0))\n",
       "plot(10^lx, y, log = \"xy\", type = \"l\", col = \"purple\",\n",
       "     main = \"Log-Log plot\", ylab = yl, xlab = \"x\")\n",
       "plot(10^lx, y, log = \"xy\", type = \"o\", pch = \".\", col = \"forestgreen\",\n",
       "     main = \"Log-Log plot with custom axes\", ylab = yl, xlab = \"x\",\n",
       "     axes = FALSE, frame.plot = TRUE)\n",
       "my.at &lt;- 10^(1:5)\n",
       "axis(1, at = my.at, labels = formatC(my.at, format = \"fg\"))\n",
       "e.y &lt;- -5:-1 ; at.y &lt;- 10^e.y\n",
       "axis(2, at = at.y, col.axis = \"red\", las = 1,\n",
       "     labels = as.expression(lapply(e.y, function(E) bquote(10^.(E)))))\n",
       "par(op)\n",
       "</code></pre>\n",
       "\n",
       "<hr /><div style=\"text-align: center;\">[Package <em>graphics</em> version 4.2.1 ]</div>\n",
       "</div>"
      ],
      "text/latex": [
       "\\inputencoding{utf8}\n",
       "\\HeaderA{plot.default}{The Default Scatterplot Function}{plot.default}\n",
       "\\aliasA{plot}{plot.default}{plot}\n",
       "\\keyword{hplot}{plot.default}\n",
       "%\n",
       "\\begin{Description}\\relax\n",
       "Draw a scatter plot with decorations such as axes and titles\n",
       "in the active graphics window.\n",
       "\\end{Description}\n",
       "%\n",
       "\\begin{Usage}\n",
       "\\begin{verbatim}\n",
       "## Default S3 method:\n",
       "plot(x, y = NULL, type = \"p\",  xlim = NULL, ylim = NULL,\n",
       "     log = \"\", main = NULL, sub = NULL, xlab = NULL, ylab = NULL,\n",
       "     ann = par(\"ann\"), axes = TRUE, frame.plot = axes,\n",
       "     panel.first = NULL, panel.last = NULL, asp = NA,\n",
       "     xgap.axis = NA, ygap.axis = NA,\n",
       "     ...)\n",
       "\\end{verbatim}\n",
       "\\end{Usage}\n",
       "%\n",
       "\\begin{Arguments}\n",
       "\\begin{ldescription}\n",
       "\\item[\\code{x, y}] the \\code{x} and \\code{y} arguments provide the x and y\n",
       "coordinates for the plot.  Any reasonable way of defining the\n",
       "coordinates is acceptable.  See the function \\code{\\LinkA{xy.coords}{xy.coords}}\n",
       "for details.  If supplied separately, they must be of the same length.\n",
       "\\item[\\code{type}] 1-character string giving the type of plot desired.  The\n",
       "following values are possible, for details, see \\code{\\LinkA{plot}{plot}}:\n",
       "\\code{\"p\"} for points, \\code{\"l\"} for lines,\n",
       "\\code{\"b\"} for both points and lines,\n",
       "\\code{\"c\"} for empty points joined by lines,\n",
       "\\code{\"o\"} for overplotted points and lines,\n",
       "\\code{\"s\"} and \\code{\"S\"} for stair steps and\n",
       "\\code{\"h\"} for histogram-like vertical lines.  Finally,\n",
       "\\code{\"n\"} does not produce any points or lines.\n",
       "\\item[\\code{xlim}] the x limits (x1, x2) of the plot.  Note that \\code{x1 > x2}\n",
       "is allowed and leads to a `reversed axis'.\n",
       "\n",
       "The default value, \\code{NULL}, indicates that the range of the\n",
       "\\LinkA{finite}{finite} values to be plotted should be used.\n",
       "\\item[\\code{ylim}] the y limits of the plot.\n",
       "\\item[\\code{log}] a character string which contains \\code{\"x\"} if the x axis\n",
       "is to be logarithmic, \\code{\"y\"} if the y axis is to be logarithmic\n",
       "and \\code{\"xy\"} or \\code{\"yx\"} if both axes are to be logarithmic.\n",
       "\n",
       "\\item[\\code{main}] a main title for the plot, see also \\code{\\LinkA{title}{title}}.\n",
       "\\item[\\code{sub}] a subtitle for the plot.\n",
       "\\item[\\code{xlab}] a label for the x axis, defaults to a description of \\code{x}.\n",
       "\\item[\\code{ylab}] a label for the y axis, defaults to a description of \\code{y}.\n",
       "\n",
       "\\item[\\code{ann}] a logical value indicating whether the default annotation\n",
       "(title and x and y axis labels) should appear on the plot.\n",
       "\\item[\\code{axes}] a logical value indicating whether both axes should be drawn on\n",
       "the plot.  Use \\LinkA{graphical parameter}{graphical parameter} \\code{\"xaxt\"} or \\code{\"yaxt\"}\n",
       "to suppress just one of the axes.\n",
       "\\item[\\code{frame.plot}] a logical indicating whether a box should be drawn\n",
       "around the plot.\n",
       "\n",
       "\\item[\\code{panel.first}] an `expression' to be evaluated after the\n",
       "plot axes are set up but before any plotting takes place.  This can\n",
       "be useful for drawing background grids or scatterplot smooths.  Note\n",
       "that this works by lazy evaluation: passing this argument from other\n",
       "\\code{plot} methods may well not work since it may be evaluated too\n",
       "early.\n",
       "\n",
       "\\item[\\code{panel.last}] an expression to be evaluated after plotting has\n",
       "taken place but before the axes, title and box are added.  See the\n",
       "comments about \\code{panel.first}.\n",
       "\n",
       "\\item[\\code{asp}] the \\eqn{y/x}{} aspect ratio, see \\code{\\LinkA{plot.window}{plot.window}}.\n",
       "\n",
       "\\item[\\code{xgap.axis, ygap.axis}] the \\eqn{x/y}{} axis gap factors, passed as\n",
       "\\code{gap.axis} to the two \\code{\\LinkA{axis}{axis}()} calls (when\n",
       "\\code{axes} is true, as per default).\n",
       "\n",
       "\\item[\\code{...}] other \\LinkA{graphical parameters}{graphical parameters} (see \\code{\\LinkA{par}{par}} and\n",
       "section `Details' below).\n",
       "\\end{ldescription}\n",
       "\\end{Arguments}\n",
       "%\n",
       "\\begin{Details}\\relax\n",
       "Commonly used \\LinkA{graphical parameters}{graphical parameters} are:\n",
       "\\begin{description}\n",
       "\n",
       "\\item[\\code{col}] The colors for lines and points.  Multiple colors can be\n",
       "specified so that each point can be given its own color.  If there\n",
       "are fewer colors than points they are recycled in the standard\n",
       "fashion.  Lines will all be plotted in the first colour specified.\n",
       "\\item[\\code{bg}] a vector of background colors for open plot symbols, see\n",
       "\\code{\\LinkA{points}{points}}.  Note: this is \\bold{not} the same setting\n",
       "as \\code{\\LinkA{par}{par}(\"bg\")}.\n",
       "\\item[\\code{pch}] a vector of plotting characters or symbols:\n",
       "see \\code{\\LinkA{points}{points}}.\n",
       "\\item[\\code{cex}] a numerical vector giving the amount by which\n",
       "plotting characters and symbols should be scaled relative to the\n",
       "default.  This works as a multiple of \\code{\\LinkA{par}{par}(\"cex\")}.\n",
       "\\code{NULL} and \\code{NA} are equivalent to \\code{1.0}.  Note that\n",
       "this does not affect annotation: see below.\n",
       "\\item[\\code{lty}] a vector of line types, see \\code{\\LinkA{par}{par}}.\n",
       "\\item[\\code{cex.main}, \\code{col.lab}, \\code{font.sub},\n",
       "etc] settings for main- and sub-title and axis annotation, see\n",
       "\\code{\\LinkA{title}{title}} and \\code{\\LinkA{par}{par}}.\n",
       "\\item[\\code{lwd}] a vector of line widths, see \\code{\\LinkA{par}{par}}.\n",
       "\n",
       "\\end{description}\n",
       "\n",
       "\\end{Details}\n",
       "%\n",
       "\\begin{Note}\\relax\n",
       "The presence of \\code{panel.first} and \\code{panel.last} is a\n",
       "historical anomaly: default plots do not have `panels', unlike\n",
       "e.g.~\\code{\\LinkA{pairs}{pairs}} plots.  For more control, use lower-level\n",
       "plotting functions: \\code{plot.default} calls in turn some of\n",
       "\\code{\\LinkA{plot.new}{plot.new}}, \\code{\\LinkA{plot.window}{plot.window}},\n",
       "\\code{\\LinkA{plot.xy}{plot.xy}}, \\code{\\LinkA{axis}{axis}}, \\code{\\LinkA{box}{box}} and\n",
       "\\code{\\LinkA{title}{title}}, and plots can be built up by calling these\n",
       "individually, or by calling \\code{plot(type = \"n\")} and adding further\n",
       "elements.\n",
       "\n",
       "The \\code{plot} generic was moved from the \\pkg{graphics} package to\n",
       "the \\pkg{base} package in \\R{} 4.0.0. It is currently re-exported from\n",
       "the \\pkg{graphics} namespace to allow packages importing it from there\n",
       "to continue working, but this may change in future versions of \\R{}.\n",
       "\\end{Note}\n",
       "%\n",
       "\\begin{References}\\relax\n",
       "Becker, R. A., Chambers, J. M. and Wilks, A. R. (1988)\n",
       "\\emph{The New S Language}.\n",
       "Wadsworth \\& Brooks/Cole.\n",
       "\n",
       "Cleveland, W. S. (1985)\n",
       "\\emph{The Elements of Graphing Data.}\n",
       "Monterey, CA: Wadsworth.\n",
       "\n",
       "Murrell, P. (2005) \\emph{R Graphics}. Chapman \\& Hall/CRC Press.\n",
       "\\end{References}\n",
       "%\n",
       "\\begin{SeeAlso}\\relax\n",
       "\\code{\\LinkA{plot}{plot}}, \\code{\\LinkA{plot.window}{plot.window}}, \\code{\\LinkA{xy.coords}{xy.coords}}.\n",
       "For thousands of points, consider using \\code{\\LinkA{smoothScatter}{smoothScatter}}\n",
       "instead.\n",
       "\\end{SeeAlso}\n",
       "%\n",
       "\\begin{Examples}\n",
       "\\begin{ExampleCode}\n",
       "Speed <- cars$speed\n",
       "Distance <- cars$dist\n",
       "plot(Speed, Distance, panel.first = grid(8, 8),\n",
       "     pch = 0, cex = 1.2, col = \"blue\")\n",
       "plot(Speed, Distance,\n",
       "     panel.first = lines(stats::lowess(Speed, Distance), lty = \"dashed\"),\n",
       "     pch = 0, cex = 1.2, col = \"blue\")\n",
       "\n",
       "## Show the different plot types\n",
       "x <- 0:12\n",
       "y <- sin(pi/5 * x)\n",
       "op <- par(mfrow = c(3,3), mar = .1+ c(2,2,3,1))\n",
       "for (tp in c(\"p\",\"l\",\"b\",  \"c\",\"o\",\"h\",  \"s\",\"S\",\"n\")) {\n",
       "   plot(y ~ x, type = tp, main = paste0(\"plot(*, type = \\\"\", tp, \"\\\")\"))\n",
       "   if(tp == \"S\") {\n",
       "      lines(x, y, type = \"s\", col = \"red\", lty = 2)\n",
       "      mtext(\"lines(*, type = \\\"s\\\", ...)\", col = \"red\", cex = 0.8)\n",
       "   }\n",
       "}\n",
       "par(op)\n",
       "\n",
       "##--- Log-Log Plot  with  custom axes\n",
       "lx <- seq(1, 5, length.out = 41)\n",
       "yl <- expression(e^{-frac(1,2) * {log[10](x)}^2})\n",
       "y <- exp(-.5*lx^2)\n",
       "op <- par(mfrow = c(2,1), mar = par(\"mar\")-c(1,0,2,0), mgp = c(2, .7, 0))\n",
       "plot(10^lx, y, log = \"xy\", type = \"l\", col = \"purple\",\n",
       "     main = \"Log-Log plot\", ylab = yl, xlab = \"x\")\n",
       "plot(10^lx, y, log = \"xy\", type = \"o\", pch = \".\", col = \"forestgreen\",\n",
       "     main = \"Log-Log plot with custom axes\", ylab = yl, xlab = \"x\",\n",
       "     axes = FALSE, frame.plot = TRUE)\n",
       "my.at <- 10^(1:5)\n",
       "axis(1, at = my.at, labels = formatC(my.at, format = \"fg\"))\n",
       "e.y <- -5:-1 ; at.y <- 10^e.y\n",
       "axis(2, at = at.y, col.axis = \"red\", las = 1,\n",
       "     labels = as.expression(lapply(e.y, function(E) bquote(10^.(E)))))\n",
       "par(op)\n",
       "\\end{ExampleCode}\n",
       "\\end{Examples}"
      ],
      "text/plain": [
       "plot.default             package:graphics              R Documentation\n",
       "\n",
       "_\bT_\bh_\be _\bD_\be_\bf_\ba_\bu_\bl_\bt _\bS_\bc_\ba_\bt_\bt_\be_\br_\bp_\bl_\bo_\bt _\bF_\bu_\bn_\bc_\bt_\bi_\bo_\bn\n",
       "\n",
       "_\bD_\be_\bs_\bc_\br_\bi_\bp_\bt_\bi_\bo_\bn:\n",
       "\n",
       "     Draw a scatter plot with decorations such as axes and titles in\n",
       "     the active graphics window.\n",
       "\n",
       "_\bU_\bs_\ba_\bg_\be:\n",
       "\n",
       "     ## Default S3 method:\n",
       "     plot(x, y = NULL, type = \"p\",  xlim = NULL, ylim = NULL,\n",
       "          log = \"\", main = NULL, sub = NULL, xlab = NULL, ylab = NULL,\n",
       "          ann = par(\"ann\"), axes = TRUE, frame.plot = axes,\n",
       "          panel.first = NULL, panel.last = NULL, asp = NA,\n",
       "          xgap.axis = NA, ygap.axis = NA,\n",
       "          ...)\n",
       "     \n",
       "_\bA_\br_\bg_\bu_\bm_\be_\bn_\bt_\bs:\n",
       "\n",
       "    x, y: the ‘x’ and ‘y’ arguments provide the x and y coordinates for\n",
       "          the plot.  Any reasonable way of defining the coordinates is\n",
       "          acceptable.  See the function ‘xy.coords’ for details.  If\n",
       "          supplied separately, they must be of the same length.\n",
       "\n",
       "    type: 1-character string giving the type of plot desired.  The\n",
       "          following values are possible, for details, see ‘plot’: ‘\"p\"’\n",
       "          for points, ‘\"l\"’ for lines, ‘\"b\"’ for both points and lines,\n",
       "          ‘\"c\"’ for empty points joined by lines, ‘\"o\"’ for overplotted\n",
       "          points and lines, ‘\"s\"’ and ‘\"S\"’ for stair steps and ‘\"h\"’\n",
       "          for histogram-like vertical lines.  Finally, ‘\"n\"’ does not\n",
       "          produce any points or lines.\n",
       "\n",
       "    xlim: the x limits (x1, x2) of the plot.  Note that ‘x1 > x2’ is\n",
       "          allowed and leads to a ‘reversed axis’.\n",
       "\n",
       "          The default value, ‘NULL’, indicates that the range of the\n",
       "          finite values to be plotted should be used.\n",
       "\n",
       "    ylim: the y limits of the plot.\n",
       "\n",
       "     log: a character string which contains ‘\"x\"’ if the x axis is to\n",
       "          be logarithmic, ‘\"y\"’ if the y axis is to be logarithmic and\n",
       "          ‘\"xy\"’ or ‘\"yx\"’ if both axes are to be logarithmic.\n",
       "\n",
       "    main: a main title for the plot, see also ‘title’.\n",
       "\n",
       "     sub: a subtitle for the plot.\n",
       "\n",
       "    xlab: a label for the x axis, defaults to a description of ‘x’.\n",
       "\n",
       "    ylab: a label for the y axis, defaults to a description of ‘y’.\n",
       "\n",
       "     ann: a logical value indicating whether the default annotation\n",
       "          (title and x and y axis labels) should appear on the plot.\n",
       "\n",
       "    axes: a logical value indicating whether both axes should be drawn\n",
       "          on the plot.  Use graphical parameter ‘\"xaxt\"’ or ‘\"yaxt\"’ to\n",
       "          suppress just one of the axes.\n",
       "\n",
       "frame.plot: a logical indicating whether a box should be drawn around\n",
       "          the plot.\n",
       "\n",
       "panel.first: an ‘expression’ to be evaluated after the plot axes are\n",
       "          set up but before any plotting takes place.  This can be\n",
       "          useful for drawing background grids or scatterplot smooths.\n",
       "          Note that this works by lazy evaluation: passing this\n",
       "          argument from other ‘plot’ methods may well not work since it\n",
       "          may be evaluated too early.\n",
       "\n",
       "panel.last: an expression to be evaluated after plotting has taken\n",
       "          place but before the axes, title and box are added.  See the\n",
       "          comments about ‘panel.first’.\n",
       "\n",
       "     asp: the y/x aspect ratio, see ‘plot.window’.\n",
       "\n",
       "xgap.axis, ygap.axis: the x/y axis gap factors, passed as ‘gap.axis’ to\n",
       "          the two ‘axis()’ calls (when ‘axes’ is true, as per default).\n",
       "\n",
       "     ...: other graphical parameters (see ‘par’ and section ‘Details’\n",
       "          below).\n",
       "\n",
       "_\bD_\be_\bt_\ba_\bi_\bl_\bs:\n",
       "\n",
       "     Commonly used graphical parameters are:\n",
       "\n",
       "     ‘col’ The colors for lines and points.  Multiple colors can be\n",
       "          specified so that each point can be given its own color.  If\n",
       "          there are fewer colors than points they are recycled in the\n",
       "          standard fashion.  Lines will all be plotted in the first\n",
       "          colour specified.\n",
       "\n",
       "     ‘bg’ a vector of background colors for open plot symbols, see\n",
       "          ‘points’.  Note: this is *not* the same setting as\n",
       "          ‘par(\"bg\")’.\n",
       "\n",
       "     ‘pch’ a vector of plotting characters or symbols: see ‘points’.\n",
       "\n",
       "     ‘cex’ a numerical vector giving the amount by which plotting\n",
       "          characters and symbols should be scaled relative to the\n",
       "          default.  This works as a multiple of ‘par(\"cex\")’.  ‘NULL’\n",
       "          and ‘NA’ are equivalent to ‘1.0’.  Note that this does not\n",
       "          affect annotation: see below.\n",
       "\n",
       "     ‘lty’ a vector of line types, see ‘par’.\n",
       "\n",
       "     ‘cex.main’, ‘col.lab’, ‘font.sub’, etc settings for main- and\n",
       "          sub-title and axis annotation, see ‘title’ and ‘par’.\n",
       "\n",
       "     ‘lwd’ a vector of line widths, see ‘par’.\n",
       "\n",
       "_\bN_\bo_\bt_\be:\n",
       "\n",
       "     The presence of ‘panel.first’ and ‘panel.last’ is a historical\n",
       "     anomaly: default plots do not have ‘panels’, unlike e.g. ‘pairs’\n",
       "     plots.  For more control, use lower-level plotting functions:\n",
       "     ‘plot.default’ calls in turn some of ‘plot.new’, ‘plot.window’,\n",
       "     ‘plot.xy’, ‘axis’, ‘box’ and ‘title’, and plots can be built up by\n",
       "     calling these individually, or by calling ‘plot(type = \"n\")’ and\n",
       "     adding further elements.\n",
       "\n",
       "     The ‘plot’ generic was moved from the ‘graphics’ package to the\n",
       "     ‘base’ package in R 4.0.0. It is currently re-exported from the\n",
       "     ‘graphics’ namespace to allow packages importing it from there to\n",
       "     continue working, but this may change in future versions of R.\n",
       "\n",
       "_\bR_\be_\bf_\be_\br_\be_\bn_\bc_\be_\bs:\n",
       "\n",
       "     Becker, R. A., Chambers, J. M. and Wilks, A. R. (1988) _The New S\n",
       "     Language_.  Wadsworth & Brooks/Cole.\n",
       "\n",
       "     Cleveland, W. S. (1985) _The Elements of Graphing Data._ Monterey,\n",
       "     CA: Wadsworth.\n",
       "\n",
       "     Murrell, P. (2005) _R Graphics_. Chapman & Hall/CRC Press.\n",
       "\n",
       "_\bS_\be_\be _\bA_\bl_\bs_\bo:\n",
       "\n",
       "     ‘plot’, ‘plot.window’, ‘xy.coords’.  For thousands of points,\n",
       "     consider using ‘smoothScatter’ instead.\n",
       "\n",
       "_\bE_\bx_\ba_\bm_\bp_\bl_\be_\bs:\n",
       "\n",
       "     Speed <- cars$speed\n",
       "     Distance <- cars$dist\n",
       "     plot(Speed, Distance, panel.first = grid(8, 8),\n",
       "          pch = 0, cex = 1.2, col = \"blue\")\n",
       "     plot(Speed, Distance,\n",
       "          panel.first = lines(stats::lowess(Speed, Distance), lty = \"dashed\"),\n",
       "          pch = 0, cex = 1.2, col = \"blue\")\n",
       "     \n",
       "     ## Show the different plot types\n",
       "     x <- 0:12\n",
       "     y <- sin(pi/5 * x)\n",
       "     op <- par(mfrow = c(3,3), mar = .1+ c(2,2,3,1))\n",
       "     for (tp in c(\"p\",\"l\",\"b\",  \"c\",\"o\",\"h\",  \"s\",\"S\",\"n\")) {\n",
       "        plot(y ~ x, type = tp, main = paste0(\"plot(*, type = \\\"\", tp, \"\\\")\"))\n",
       "        if(tp == \"S\") {\n",
       "           lines(x, y, type = \"s\", col = \"red\", lty = 2)\n",
       "           mtext(\"lines(*, type = \\\"s\\\", ...)\", col = \"red\", cex = 0.8)\n",
       "        }\n",
       "     }\n",
       "     par(op)\n",
       "     \n",
       "     ##--- Log-Log Plot  with  custom axes\n",
       "     lx <- seq(1, 5, length.out = 41)\n",
       "     yl <- expression(e^{-frac(1,2) * {log[10](x)}^2})\n",
       "     y <- exp(-.5*lx^2)\n",
       "     op <- par(mfrow = c(2,1), mar = par(\"mar\")-c(1,0,2,0), mgp = c(2, .7, 0))\n",
       "     plot(10^lx, y, log = \"xy\", type = \"l\", col = \"purple\",\n",
       "          main = \"Log-Log plot\", ylab = yl, xlab = \"x\")\n",
       "     plot(10^lx, y, log = \"xy\", type = \"o\", pch = \".\", col = \"forestgreen\",\n",
       "          main = \"Log-Log plot with custom axes\", ylab = yl, xlab = \"x\",\n",
       "          axes = FALSE, frame.plot = TRUE)\n",
       "     my.at <- 10^(1:5)\n",
       "     axis(1, at = my.at, labels = formatC(my.at, format = \"fg\"))\n",
       "     e.y <- -5:-1 ; at.y <- 10^e.y\n",
       "     axis(2, at = at.y, col.axis = \"red\", las = 1,\n",
       "          labels = as.expression(lapply(e.y, function(E) bquote(10^.(E)))))\n",
       "     par(op)\n",
       "     "
      ]
     },
     "metadata": {},
     "output_type": "display_data"
    }
   ],
   "source": [
    "?plot"
   ]
  },
  {
   "cell_type": "code",
   "execution_count": 81,
   "id": "73f80f60-998a-42cb-9d3f-acbd285f6f80",
   "metadata": {},
   "outputs": [
    {
     "data": {
      "image/png": "[encoded data removed]",
      "text/plain": [
       "plot without title"
      ]
     },
     "metadata": {
      "image/png": {
       "height": 420,
       "width": 420
      }
     },
     "output_type": "display_data"
    }
   ],
   "source": [
    "plot(c(0,15),c(0,15), col=NA,xlab = \"people\",ylab = \"\")\n",
    "arrows(c(1,2,5),c(1,2,5),c(2,5,10),c(2,5,12), lwd=2)"
   ]
  },
  {
   "cell_type": "code",
   "execution_count": null,
   "id": "edc85499-18ed-45d3-a18f-295214eeb963",
   "metadata": {
    "tags": []
   },
   "outputs": [],
   "source": [
    "?plot"
   ]
  },
  {
   "cell_type": "markdown",
   "id": "6e6a033c-9351-4656-b68e-38e11a6657c5",
   "metadata": {},
   "source": [
    "#### The set.seed() function in R is used to create reproducible results when writing code that involves creating variables that take on random values.\n",
    "\n",
    "#### By using the set.seed() function, you guarantee that the same random values are produced each time you run the code."
   ]
  },
  {
   "cell_type": "code",
   "execution_count": 82,
   "id": "acdee425-567c-4e71-927c-b1f65634af14",
   "metadata": {},
   "outputs": [],
   "source": [
    "set.seed(5)              # Create example data\n",
    "x <- rnorm(1000)\n",
    "y <- rnorm(1000) + 0.4 * x"
   ]
  },
  {
   "cell_type": "code",
   "execution_count": 83,
   "id": "607702fc-3bff-4683-9746-db8eb3c860eb",
   "metadata": {},
   "outputs": [
    {
     "data": {
      "image/png": "[encoded data removed]",
      "text/plain": [
       "plot without title"
      ]
     },
     "metadata": {
      "image/png": {
       "height": 420,
       "width": 420
      }
     },
     "output_type": "display_data"
    }
   ],
   "source": [
    "plot(x, y)                     # Create plot without lines"
   ]
  },
  {
   "cell_type": "code",
   "execution_count": 84,
   "id": "9d749ca8-fea4-4440-a929-42d8fa3b7ec7",
   "metadata": {},
   "outputs": [
    {
     "data": {
      "image/png": "[encoded data removed]",
      "text/plain": [
       "plot without title"
      ]
     },
     "metadata": {
      "image/png": {
       "height": 420,
       "width": 420
      }
     },
     "output_type": "display_data"
    }
   ],
   "source": [
    "plot(x, y)                     # Create plot without lines\n",
    "abline(h = 1.3)                # Add horizontal line"
   ]
  },
  {
   "cell_type": "code",
   "execution_count": 85,
   "id": "9a9ee576-0c7b-4e1f-aa9f-8f44657cf5b8",
   "metadata": {},
   "outputs": [
    {
     "data": {
      "image/png": "[encoded data removed]",
      "text/plain": [
       "plot without title"
      ]
     },
     "metadata": {
      "image/png": {
       "height": 420,
       "width": 420
      }
     },
     "output_type": "display_data"
    }
   ],
   "source": [
    "## Setup up coordinate system (with x == y aspect ratio):\n",
    "plot(c(-2,3), c(-1,5), type = \"n\", xlab = \"x\", ylab = \"y\", asp = 1)\n",
    "## the x- and y-axis, and an integer grid\n",
    "abline(h = 0, v = 0, col = \"gray60\")"
   ]
  },
  {
   "cell_type": "code",
   "execution_count": null,
   "id": "3f4ef4d5-1444-4294-ad18-a4e797ee5cef",
   "metadata": {
    "tags": []
   },
   "outputs": [],
   "source": [
    "?lines"
   ]
  },
  {
   "cell_type": "code",
   "execution_count": null,
   "id": "cdd30875-1caa-4df1-a653-3c900dae2f6b",
   "metadata": {},
   "outputs": [],
   "source": [
    "cars = c(10,6,8,3,6)\n",
    "plot(cars, main = \"Cars sold on 5 days of Diwali\",xlab = \"Day\",ylab = \"No of Units Sold\")\n",
    "lines(stats::lowess(cars))"
   ]
  },
  {
   "cell_type": "code",
   "execution_count": null,
   "id": "490916cb-c64f-4fb0-8def-c3aa3a83e58b",
   "metadata": {},
   "outputs": [],
   "source": [
    "plot(5, 5, col = \"white\", xlab = \"\", ylab = \"\")                # Create empty example plot\n",
    "segments(x0 = 3, y0 =  4, x1 = 5, y1 = 7)     # Draw one line"
   ]
  },
  {
   "cell_type": "code",
   "execution_count": null,
   "id": "462698b9-8039-4ac5-8aa4-50e1bf285842",
   "metadata": {
    "tags": []
   },
   "outputs": [],
   "source": [
    "?plot"
   ]
  },
  {
   "cell_type": "markdown",
   "id": "6a7de4bb-b2d9-4d95-9e66-2f92b4b9a489",
   "metadata": {},
   "source": [
    "### Histogram can be created using the hist() function in R programming language. This function takes in a vector of values for which the histogram is plotted.\n",
    "\n",
    "#### Let us use the built-in dataset airquality which has Daily air quality measurements in New York, May to September 1973.-R documentation."
   ]
  },
  {
   "cell_type": "code",
   "execution_count": null,
   "id": "91fb96a5-3bb7-4078-a8e9-e53b31770beb",
   "metadata": {},
   "outputs": [],
   "source": [
    "str(airquality)"
   ]
  },
  {
   "cell_type": "code",
   "execution_count": null,
   "id": "414827c2-6ebd-40f3-a51a-0724711bf8c7",
   "metadata": {},
   "outputs": [],
   "source": [
    "Temperature"
   ]
  },
  {
   "cell_type": "code",
   "execution_count": null,
   "id": "1283d21b-ae34-4faa-83f1-01460ac97545",
   "metadata": {},
   "outputs": [],
   "source": [
    "# histogram with added parameters\n",
    "hist(Temperature,\n",
    "main=\"Maximum daily temperature at La Guardia Airport\",\n",
    "xlab=\"Temperature in degrees Fahrenheit\",\n",
    "xlim=c(50,100),\n",
    "col=\"darkmagenta\",\n",
    "freq=FALSE)"
   ]
  },
  {
   "cell_type": "markdown",
   "id": "54543747-5ac5-48f7-b7f7-3c641f840b9c",
   "metadata": {},
   "source": [
    "### The pairs R function returns a plot matrix, consisting of scatterplots for each variable-combination of a data frame."
   ]
  },
  {
   "cell_type": "code",
   "execution_count": null,
   "id": "a9318b51-1ef8-4531-aea4-49508bcf467e",
   "metadata": {},
   "outputs": [],
   "source": [
    "pairs(airquality)"
   ]
  },
  {
   "cell_type": "code",
   "execution_count": null,
   "id": "f7ca0873-c7f1-4a26-98d5-985440785e7e",
   "metadata": {},
   "outputs": [],
   "source": [
    "matplot(airquality)"
   ]
  },
  {
   "cell_type": "code",
   "execution_count": null,
   "id": "a7c7d21f-ba80-4026-8775-5de81fcae868",
   "metadata": {},
   "outputs": [],
   "source": [
    "X <- 1:10\n",
    "Y=X^2\n",
    "Z=X^2-2*X\n",
    "matplot(X,cbind(Y,Z),pch=c(16,1),xlab=\"x\",ylab=\"X^2 and X^2-2*X\")"
   ]
  },
  {
   "cell_type": "code",
   "execution_count": null,
   "id": "fb36c8e1-91fc-4353-b4e2-58e18f692021",
   "metadata": {},
   "outputs": [],
   "source": []
  },
  {
   "cell_type": "code",
   "execution_count": null,
   "id": "740da79a-61d2-4cfb-aad0-b3edf47ed8eb",
   "metadata": {
    "tags": []
   },
   "outputs": [],
   "source": [
    "x <- c(44.4, 45.9, 41.9, 53.3, 44.7, 44.1, 50.7, 45.2, 60.1)\n",
    "y <- c( 2.6,  3.1,  2.5,  5.0,  3.6,  4.0,  5.2,  2.8,  3.8)\n",
    "\n",
    "##  The alternative hypothesis of interest is that the\n",
    "##  Hunter L value is positively associated with the panel score.\n",
    "\n",
    "cor.test(x, y, method = \"kendall\", alternative = \"greater\")\n",
    "## => p=0.05972\n",
    "\n",
    "cor.test(x, y, method = \"kendall\", alternative = \"greater\",\n",
    "         exact = FALSE) # using large sample approximation\n",
    "## => p=0.04765\n",
    "\n",
    "## Compare this to\n",
    "cor.test(x, y, method = \"spearman\", alternative = \"g\")\n",
    "cor.test(x, y,                    alternative = \"g\")"
   ]
  },
  {
   "cell_type": "code",
   "execution_count": null,
   "id": "9b3a188d-0c4d-4717-9e90-9facc086c94b",
   "metadata": {},
   "outputs": [],
   "source": [
    "v1 = c(1,9,3,7,5,4,6,8,10,25,45,85,96,75,24)"
   ]
  },
  {
   "cell_type": "code",
   "execution_count": null,
   "id": "87f9d17f-a0e5-4fd7-ab8f-69a0bc2eb183",
   "metadata": {},
   "outputs": [],
   "source": [
    "mean(c(1,9,3,7,5,4,6,8,10,25,45,85,96,75,24))"
   ]
  },
  {
   "cell_type": "code",
   "execution_count": null,
   "id": "0c8bcb8a-13f5-4fe9-a9d9-be917309b459",
   "metadata": {},
   "outputs": [],
   "source": [
    "median(c(1,9,3,7,5,4,6,8,10,25,45,85,96,75,24))"
   ]
  },
  {
   "cell_type": "code",
   "execution_count": null,
   "id": "8cab8e02-84f0-4e7a-b9d6-3b25bbbe805d",
   "metadata": {},
   "outputs": [],
   "source": [
    "min(v1)"
   ]
  },
  {
   "cell_type": "code",
   "execution_count": null,
   "id": "4b14314e-d995-4ddb-9941-13804cafc97c",
   "metadata": {},
   "outputs": [],
   "source": [
    "max(v1)"
   ]
  },
  {
   "cell_type": "markdown",
   "id": "df924018-9832-43a9-ab1e-7b11079f3b97",
   "metadata": {},
   "source": [
    "### Quantile: In laymen terms, a quantile is nothing but a sample that is divided into equal groups or sizes. Due to this nature, the quantiles are also called as Fractiles. In the quantiles, the 25th percentile is called as lower quartile, 50th percentile is called as Median and the 75th Percentile is called as the upper quartile."
   ]
  },
  {
   "cell_type": "code",
   "execution_count": null,
   "id": "3d042ec0-bcef-4cc6-92fc-281366a98feb",
   "metadata": {},
   "outputs": [],
   "source": [
    "#create a vector having some values and the quantile function will return the percentiles for the data.\n",
    "\n",
    "df<-c(12,3,4,56,78,18,46,78,100)\n",
    "print(quantile(df))"
   ]
  },
  {
   "cell_type": "markdown",
   "id": "d0fd479b-d322-4e15-8ff7-124811886b7d",
   "metadata": {},
   "source": [
    "#### In the above sample, you can observe that the quantile function first arranges the input values in the ascending order and then returns the required percentiles of the values."
   ]
  },
  {
   "cell_type": "markdown",
   "id": "7fa03cfe-ce5b-421a-a8fa-df95a35fcd7e",
   "metadata": {},
   "source": [
    "### Standard Deviation is a measure which shows how much variation (such as spread, dispersion, spread,) from the mean exists. The standard deviation indicates a “typical” deviation from the mean."
   ]
  },
  {
   "cell_type": "code",
   "execution_count": null,
   "id": "ee279dec-f2c6-477a-a9b7-8e5aa291a418",
   "metadata": {},
   "outputs": [],
   "source": [
    "sd(v1)"
   ]
  },
  {
   "cell_type": "markdown",
   "id": "bc2cbb71-1235-4e85-9541-a9fe09e134aa",
   "metadata": {},
   "source": [
    "### Variance is the measure of how notably a collection of data is spread out. If all the data values are identical, then it indicates the variance is zero.  All non-zero variances are considered to be positive. A little variance represents that the data points are close to the mean, and to each other, whereas if the data points are highly spread out from the mean and from one another indicates the high variance."
   ]
  },
  {
   "cell_type": "code",
   "execution_count": null,
   "id": "fb1b6222-5df4-4968-a7fc-11aa6a0a6d52",
   "metadata": {},
   "outputs": [],
   "source": [
    "plot(v1)"
   ]
  },
  {
   "cell_type": "code",
   "execution_count": null,
   "id": "a250bf2a-90af-414d-9264-c3be90a8a104",
   "metadata": {},
   "outputs": [],
   "source": [
    "var(v1)"
   ]
  },
  {
   "cell_type": "code",
   "execution_count": null,
   "id": "f39f14bc-31cd-46cc-ad63-85c653dcfcc4",
   "metadata": {},
   "outputs": [],
   "source": [
    "v2 = c(5,5,5,5,5,5,5,5,5,5,5)"
   ]
  },
  {
   "cell_type": "code",
   "execution_count": null,
   "id": "89b2004b-a17b-48b2-a650-ec81bfca7fed",
   "metadata": {},
   "outputs": [],
   "source": [
    "plot(v2)"
   ]
  },
  {
   "cell_type": "code",
   "execution_count": null,
   "id": "5e80ac59-34d7-4b37-b790-404aca602f60",
   "metadata": {},
   "outputs": [],
   "source": [
    "var(v2)"
   ]
  },
  {
   "cell_type": "markdown",
   "id": "59a5fc9d-fb20-415c-b5cb-0b62e96ee731",
   "metadata": {},
   "source": [
    "### The rnorm in R is a built-in function that generates a vector of normally distributed random numbers. \n",
    "### The rnorm() function takes a sample size as input and generates many random numbers.\n",
    "\n",
    "The rnorm() in R generates a random number using a normal(bell curve) distribution. It simulates random variates having a specified normal distribution."
   ]
  },
  {
   "cell_type": "code",
   "execution_count": null,
   "id": "178b7942-61a4-45df-8c79-9d2a044cbca1",
   "metadata": {},
   "outputs": [],
   "source": [
    "k1000 <- rnorm(10000, mean = 50, sd = 8)"
   ]
  },
  {
   "cell_type": "code",
   "execution_count": null,
   "id": "8b8e8968-b41a-49f7-9154-0d56ce397a86",
   "metadata": {},
   "outputs": [],
   "source": [
    "plot(k1000)"
   ]
  },
  {
   "cell_type": "code",
   "execution_count": null,
   "id": "0fc236fb-9556-45e9-886e-a3e1ca25745b",
   "metadata": {},
   "outputs": [],
   "source": [
    "hist(k1000, breaks = 80)"
   ]
  },
  {
   "cell_type": "code",
   "execution_count": null,
   "id": "4ac9f545-e6ef-46e6-9d13-e575c63a380e",
   "metadata": {},
   "outputs": [],
   "source": [
    "#define vector a with 20 elements in it\n",
    "a <- c(1:20)"
   ]
  },
  {
   "cell_type": "code",
   "execution_count": null,
   "id": "08d24a57-1f81-41d7-afcd-237497ce44ca",
   "metadata": {},
   "outputs": [],
   "source": [
    "sample(a,7)"
   ]
  },
  {
   "cell_type": "markdown",
   "id": "26915570-53a4-45ea-b2e4-938df1b8a9a6",
   "metadata": {},
   "source": [
    "### Both, the R substr and substring functions extract or replace substrings in a character vector."
   ]
  },
  {
   "cell_type": "code",
   "execution_count": null,
   "id": "fc790203-31f3-46ac-9bcd-368ac0623428",
   "metadata": {},
   "outputs": [],
   "source": [
    "x1 <- \"hello this is a string\"                           \n",
    "substr(x1, start = 7, stop = 13)  "
   ]
  },
  {
   "cell_type": "code",
   "execution_count": null,
   "id": "d9957bdf-b610-417a-9da4-fcd88e2f21ac",
   "metadata": {},
   "outputs": [],
   "source": [
    "x <- c(\"abcd\", \"LMNO\")\n",
    "substring(x, 1, 3) <- c(\"A\",\"lmno\")"
   ]
  },
  {
   "cell_type": "code",
   "execution_count": null,
   "id": "0aa9007d-08e1-4a68-b8b8-2b71260bd04d",
   "metadata": {},
   "outputs": [],
   "source": [
    "x"
   ]
  },
  {
   "cell_type": "markdown",
   "id": "4b9b4299-6782-431a-88ed-d729aa75327e",
   "metadata": {},
   "source": [
    "### gsub(pattern, replacement, x)\n",
    "Finds all pattern in x and replace with replacement text. "
   ]
  },
  {
   "cell_type": "code",
   "execution_count": null,
   "id": "90983a04-1b1e-4e1a-9d2a-b9c008c304be",
   "metadata": {},
   "outputs": [],
   "source": [
    "TT = ('I scream, you scream, we all scream for ice cream')\n",
    "\n",
    "gsub('scream','CRY',TT)"
   ]
  },
  {
   "cell_type": "markdown",
   "id": "de5cc3ed-18cb-41d1-8f41-60e94f218c86",
   "metadata": {},
   "source": [
    "### sub(pattern, replacement, x)\n",
    "Find first pattern in x and replace with replacement text. "
   ]
  },
  {
   "cell_type": "code",
   "execution_count": null,
   "id": "a388aba4-e64e-40a4-b268-a6980049760f",
   "metadata": {},
   "outputs": [],
   "source": [
    "TT = ('I scream, you scream, we all scream for ice cream')\n",
    "\n",
    "sub('scream','shout',TT)"
   ]
  },
  {
   "cell_type": "code",
   "execution_count": null,
   "id": "a69016d0-28d3-46b8-85a8-8685b9d9f01f",
   "metadata": {},
   "outputs": [],
   "source": [
    "seq(2,16,1)"
   ]
  },
  {
   "cell_type": "code",
   "execution_count": null,
   "id": "5e68349a-adba-48e3-a070-b7e5eb760b81",
   "metadata": {},
   "outputs": [],
   "source": [
    "cut(5,5)"
   ]
  },
  {
   "cell_type": "code",
   "execution_count": null,
   "id": "d922f014-c21c-41b5-913b-b6d9f37651c1",
   "metadata": {},
   "outputs": [],
   "source": [
    "library(gregexpr)"
   ]
  },
  {
   "cell_type": "code",
   "execution_count": null,
   "id": "12543996-f2c8-4a60-90fc-f3887f39717b",
   "metadata": {},
   "outputs": [],
   "source": [
    "install.packages('gregexpr')"
   ]
  },
  {
   "cell_type": "code",
   "execution_count": null,
   "id": "5b07ade4-449b-47b4-8dad-8f91ce9815c4",
   "metadata": {},
   "outputs": [],
   "source": []
  }
 ],
 "metadata": {
  "kernelspec": {
   "display_name": "R",
   "language": "R",
   "name": "ir"
  },
  "language_info": {
   "codemirror_mode": "r",
   "file_extension": ".r",
   "mimetype": "text/x-r-source",
   "name": "R",
   "pygments_lexer": "r",
   "version": "4.2.2"
  }
 },
 "nbformat": 4,
 "nbformat_minor": 5
}
