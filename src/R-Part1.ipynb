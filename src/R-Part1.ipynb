{
 "cells": [
  {
   "cell_type": "markdown",
   "id": "598cb18f-4796-41dc-bed9-11b2e0824b3d",
   "metadata": {
    "tags": []
   },
   "source": [
    "### For Linux users"
   ]
  },
  {
   "cell_type": "markdown",
   "id": "ef03216e-5cfb-48e9-9ce9-07601f5eb1c6",
   "metadata": {
    "tags": []
   },
   "source": [
    "   ####  https://www.how2shout.com/linux/how-to-install-rstudio-ubuntu-20-04-lts-linux/\n",
    "   \n",
    "   sudo apt update -qq\n",
    "   \n",
    "   sudo apt install --no-install-recommends software-properties-common dirmngr\n",
    "   \n",
    "   wget -qO- https://cloud.r-project.org/bin/linux/ubuntu/marutter_pubkey.asc | sudo tee -a /etc/apt/trusted.gpg.d/cran_ubuntu_key.asc\n",
    "   \n",
    "   sudo add-apt-repository \"deb https://cloud.r-project.org/bin/linux/ubuntu $(lsb_release -cs)-cran40/\"\n",
    "   \n",
    "   sudo apt install --no-install-recommends r-base\n",
    "   \n",
    "   sudo add-apt-repository ppa:c2d4u.team/c2d4u4.0+\n",
    "   \n",
    "   bash -c \"$(curl -L https://rstd.io/r-install)\"\n",
    "   \n",
    "   cd /home/Downloads\n",
    "   \n",
    "   sudo apt install ./rstudio-*-amd64.deb\n",
    "   \n",
    "   R"
   ]
  },
  {
   "cell_type": "markdown",
   "id": "534923f7-d9ef-4c5e-8976-5dfea21ffd0f",
   "metadata": {
    "tags": []
   },
   "source": [
    "install.packages('IRkernel')"
   ]
  },
  {
   "cell_type": "markdown",
   "id": "589df75d-e319-41e9-96c4-25c58b7ba23c",
   "metadata": {
    "tags": []
   },
   "source": [
    "### For Windows users"
   ]
  },
  {
   "cell_type": "markdown",
   "id": "019947c8-87e1-4867-887d-8d3bb6615bed",
   "metadata": {
    "tags": []
   },
   "source": [
    "#### https://developers.refinitiv.com/en/article-catalog/article/setup-jupyter-notebook-r\n",
    "\n",
    "Steps to setup Jupyter Notebook for R\n",
    "\n",
    "1. Install R\n",
    "\n",
    "https://cloud.r-project.org/index.html\n",
    "\n",
    "2. Install Python\n",
    "\n",
    "3. Install Jupyter Notebook\n",
    "\n",
    "4. Install R kernel for Jupyter Notebook\n",
    "\n",
    "You can install the IRkernel packages by running to the following command in an R console:\n",
    "\n",
    "install.packages('IRkernel')\n",
    "\n",
    "IRkernel::installspec(user = FALSE)"
   ]
  },
  {
   "cell_type": "markdown",
   "id": "950422b8-752e-4fb7-b283-e1d54cb517c5",
   "metadata": {
    "tags": []
   },
   "source": [
    "## Basic arithmetic operators and logical operators"
   ]
  },
  {
   "cell_type": "code",
   "execution_count": 1,
   "id": "0749fa04-bb98-40c9-863e-fdbc3fcb7651",
   "metadata": {
    "tags": []
   },
   "outputs": [
    {
     "data": {
      "text/html": [
       "35"
      ],
      "text/latex": [
       "35"
      ],
      "text/markdown": [
       "35"
      ],
      "text/plain": [
       "[1] 35"
      ]
     },
     "metadata": {},
     "output_type": "display_data"
    }
   ],
   "source": [
    "10+25 #Addition"
   ]
  },
  {
   "cell_type": "code",
   "execution_count": 2,
   "id": "16202e30-a323-47a2-be87-d10c359ea390",
   "metadata": {
    "tags": []
   },
   "outputs": [
    {
     "data": {
      "text/html": [
       "25"
      ],
      "text/latex": [
       "25"
      ],
      "text/markdown": [
       "25"
      ],
      "text/plain": [
       "[1] 25"
      ]
     },
     "metadata": {},
     "output_type": "display_data"
    }
   ],
   "source": [
    "35-10 #Subtraction"
   ]
  },
  {
   "cell_type": "code",
   "execution_count": 3,
   "id": "27d3ac46-ebdf-4fe1-bffc-c255941aad6a",
   "metadata": {
    "tags": []
   },
   "outputs": [
    {
     "data": {
      "text/html": [
       "7.5"
      ],
      "text/latex": [
       "7.5"
      ],
      "text/markdown": [
       "7.5"
      ],
      "text/plain": [
       "[1] 7.5"
      ]
     },
     "metadata": {},
     "output_type": "display_data"
    }
   ],
   "source": [
    "30/4 #Division"
   ]
  },
  {
   "cell_type": "code",
   "execution_count": 4,
   "id": "31ef360e-793f-4e80-bfe1-bab9b8aeff01",
   "metadata": {
    "tags": []
   },
   "outputs": [
    {
     "data": {
      "text/html": [
       "1"
      ],
      "text/latex": [
       "1"
      ],
      "text/markdown": [
       "1"
      ],
      "text/plain": [
       "[1] 1"
      ]
     },
     "metadata": {},
     "output_type": "display_data"
    }
   ],
   "source": [
    "25%%3 #Modulus(Remainder)"
   ]
  },
  {
   "cell_type": "code",
   "execution_count": 5,
   "id": "36aa4d98-8b8d-4544-a62e-053690ca7cc1",
   "metadata": {
    "tags": []
   },
   "outputs": [
    {
     "data": {
      "text/html": [
       "8"
      ],
      "text/latex": [
       "8"
      ],
      "text/markdown": [
       "8"
      ],
      "text/plain": [
       "[1] 8"
      ]
     },
     "metadata": {},
     "output_type": "display_data"
    }
   ],
   "source": [
    "25%/%3 #Integer Division"
   ]
  },
  {
   "cell_type": "code",
   "execution_count": 8,
   "id": "c8997777-00ea-4891-8735-f148414a33b3",
   "metadata": {
    "tags": []
   },
   "outputs": [
    {
     "data": {
      "text/html": [
       "1000"
      ],
      "text/latex": [
       "1000"
      ],
      "text/markdown": [
       "1000"
      ],
      "text/plain": [
       "[1] 1000"
      ]
     },
     "metadata": {},
     "output_type": "display_data"
    }
   ],
   "source": [
    "10^3 #Square"
   ]
  },
  {
   "cell_type": "markdown",
   "id": "532c47ca-fc93-4dc9-a8d3-8efd448df638",
   "metadata": {
    "tags": []
   },
   "source": [
    "## How to use help in R?\n",
    "#### R has a very good built-in help system. \n",
    "#### If you know which function you want help with simply use ?_______ with the function in the blank.\n",
    "#### Ex:  ?hist"
   ]
  },
  {
   "cell_type": "code",
   "execution_count": 1,
   "id": "a061f410-006b-415f-a19c-968d50aaa3fe",
   "metadata": {
    "tags": []
   },
   "outputs": [
    {
     "data": {
      "text/html": [
       "\n",
       "<table style=\"width: 100%;\"><tr><td>ls {base}</td><td style=\"text-align: right;\">R Documentation</td></tr></table>\n",
       "\n",
       "<h2>List Objects</h2>\n",
       "\n",
       "<h3>Description</h3>\n",
       "\n",
       "<p><code>ls</code> and <code>objects</code> return a vector of character strings\n",
       "giving the names of the objects in the specified environment.  When\n",
       "invoked with no argument at the top level prompt, <code>ls</code> shows what\n",
       "data sets and functions a user has defined.  When invoked with no\n",
       "argument inside a function, <code>ls</code> returns the names of the\n",
       "function's local variables: this is useful in conjunction with\n",
       "<code>browser</code>.\n",
       "</p>\n",
       "\n",
       "\n",
       "<h3>Usage</h3>\n",
       "\n",
       "<pre><code class='language-R'>ls(name, pos = -1L, envir = as.environment(pos),\n",
       "   all.names = FALSE, pattern, sorted = TRUE)\n",
       "objects(name, pos= -1L, envir = as.environment(pos),\n",
       "        all.names = FALSE, pattern, sorted = TRUE)\n",
       "</code></pre>\n",
       "\n",
       "\n",
       "<h3>Arguments</h3>\n",
       "\n",
       "<table>\n",
       "<tr style=\"vertical-align: top;\"><td><code>name</code></td>\n",
       "<td>\n",
       "<p>which environment to use in listing the available objects.\n",
       "Defaults to the <em>current</em> environment.  Although called\n",
       "<code>name</code> for back compatibility, in fact this argument can\n",
       "specify the environment in any form; see the &lsquo;Details&rsquo; section.</p>\n",
       "</td></tr>\n",
       "<tr style=\"vertical-align: top;\"><td><code>pos</code></td>\n",
       "<td>\n",
       "<p>an alternative argument to <code>name</code> for specifying the\n",
       "environment as a position in the search list.  Mostly there for\n",
       "back compatibility.</p>\n",
       "</td></tr>\n",
       "<tr style=\"vertical-align: top;\"><td><code>envir</code></td>\n",
       "<td>\n",
       "<p>an alternative argument to <code>name</code> for specifying the\n",
       "environment.  Mostly there for back compatibility.</p>\n",
       "</td></tr>\n",
       "<tr style=\"vertical-align: top;\"><td><code>all.names</code></td>\n",
       "<td>\n",
       "<p>a logical value.  If <code>TRUE</code>, all\n",
       "object names are returned.  If <code>FALSE</code>, names which begin with a\n",
       "&lsquo;<span class=\"samp\">&#8288;.&#8288;</span>&rsquo; are omitted.</p>\n",
       "</td></tr>\n",
       "<tr style=\"vertical-align: top;\"><td><code>pattern</code></td>\n",
       "<td>\n",
       "<p>an optional regular expression.  Only names\n",
       "matching <code>pattern</code> are returned.  <code>glob2rx</code> can be\n",
       "used to convert wildcard patterns to regular expressions.</p>\n",
       "</td></tr>\n",
       "<tr style=\"vertical-align: top;\"><td><code>sorted</code></td>\n",
       "<td>\n",
       "<p>logical indicating if the resulting\n",
       "<code>character</code> should be sorted alphabetically.  Note that\n",
       "this is part of <code>ls()</code> may take most of the time.</p>\n",
       "</td></tr>\n",
       "</table>\n",
       "\n",
       "\n",
       "<h3>Details</h3>\n",
       "\n",
       "<p>The <code>name</code> argument can specify the  environment from which\n",
       "object names are taken in one of several forms:\n",
       "as an integer (the position in the <code>search</code> list); as\n",
       "the character string name of an element in the search list; or as an\n",
       "explicit <code>environment</code> (including using\n",
       "<code>sys.frame</code> to access the currently active function calls).\n",
       "By default, the environment of the call to <code>ls</code> or <code>objects</code>\n",
       "is used. The <code>pos</code> and <code>envir</code> arguments are an alternative\n",
       "way to specify an environment, but are primarily there for back\n",
       "compatibility.\n",
       "</p>\n",
       "<p>Note that the <em>order</em> of strings for <code>sorted = TRUE</code> is\n",
       "locale dependent, see <code>Sys.getlocale</code>.  If <code>sorted =\n",
       "    FALSE</code> the order is arbitrary, depending if the environment is\n",
       "hashed, the order of insertion of objects, ....\n",
       "</p>\n",
       "\n",
       "\n",
       "<h3>References</h3>\n",
       "\n",
       "<p>Becker, R. A., Chambers, J. M. and Wilks, A. R. (1988)\n",
       "<em>The New S Language</em>.\n",
       "Wadsworth &amp; Brooks/Cole.\n",
       "</p>\n",
       "\n",
       "\n",
       "<h3>See Also</h3>\n",
       "\n",
       "<p><code>glob2rx</code> for converting wildcard patterns to regular\n",
       "expressions.\n",
       "</p>\n",
       "<p><code>ls.str</code> for a long listing based on <code>str</code>.\n",
       "<code>apropos</code> (or <code>find</code>)\n",
       "for finding objects in the whole search path;\n",
       "<code>grep</code> for more details on &lsquo;regular expressions&rsquo;;\n",
       "<code>class</code>, <code>methods</code>, etc., for\n",
       "object-oriented programming.\n",
       "</p>\n",
       "\n",
       "\n",
       "<h3>Examples</h3>\n",
       "\n",
       "<pre><code class='language-R'>.Ob &lt;- 1\n",
       "ls(pattern = \"O\")\n",
       "ls(pattern= \"O\", all.names = TRUE)    # also shows \".[foo]\"\n",
       "\n",
       "# shows an empty list because inside myfunc no variables are defined\n",
       "myfunc &lt;- function() {ls()}\n",
       "myfunc()\n",
       "\n",
       "# define a local variable inside myfunc\n",
       "myfunc &lt;- function() {y &lt;- 1; ls()}\n",
       "myfunc()                # shows \"y\"\n",
       "</code></pre>\n",
       "\n",
       "<hr /><div style=\"text-align: center;\">[Package <em>base</em> version 4.2.2 ]</div>\n",
       "</div>"
      ],
      "text/latex": [
       "\\inputencoding{utf8}\n",
       "\\HeaderA{ls}{List Objects}{ls}\n",
       "\\aliasA{objects}{ls}{objects}\n",
       "\\keyword{environment}{ls}\n",
       "%\n",
       "\\begin{Description}\\relax\n",
       "\\code{ls} and \\code{objects} return a vector of character strings\n",
       "giving the names of the objects in the specified environment.  When\n",
       "invoked with no argument at the top level prompt, \\code{ls} shows what\n",
       "data sets and functions a user has defined.  When invoked with no\n",
       "argument inside a function, \\code{ls} returns the names of the\n",
       "function's local variables: this is useful in conjunction with\n",
       "\\code{browser}.\n",
       "\\end{Description}\n",
       "%\n",
       "\\begin{Usage}\n",
       "\\begin{verbatim}\n",
       "ls(name, pos = -1L, envir = as.environment(pos),\n",
       "   all.names = FALSE, pattern, sorted = TRUE)\n",
       "objects(name, pos= -1L, envir = as.environment(pos),\n",
       "        all.names = FALSE, pattern, sorted = TRUE)\n",
       "\\end{verbatim}\n",
       "\\end{Usage}\n",
       "%\n",
       "\\begin{Arguments}\n",
       "\\begin{ldescription}\n",
       "\\item[\\code{name}] which environment to use in listing the available objects.\n",
       "Defaults to the \\emph{current} environment.  Although called\n",
       "\\code{name} for back compatibility, in fact this argument can\n",
       "specify the environment in any form; see the `Details' section.\n",
       "\\item[\\code{pos}] an alternative argument to \\code{name} for specifying the\n",
       "environment as a position in the search list.  Mostly there for\n",
       "back compatibility.\n",
       "\\item[\\code{envir}] an alternative argument to \\code{name} for specifying the\n",
       "environment.  Mostly there for back compatibility.\n",
       "\\item[\\code{all.names}] a logical value.  If \\code{TRUE}, all\n",
       "object names are returned.  If \\code{FALSE}, names which begin with a\n",
       "\\samp{.} are omitted.\n",
       "\\item[\\code{pattern}] an optional \\LinkA{regular expression}{regular expression}.  Only names\n",
       "matching \\code{pattern} are returned.  \\code{\\LinkA{glob2rx}{glob2rx}} can be\n",
       "used to convert wildcard patterns to regular expressions.\n",
       "\\item[\\code{sorted}] logical indicating if the resulting\n",
       "\\code{\\LinkA{character}{character}} should be sorted alphabetically.  Note that\n",
       "this is part of \\code{ls()} may take most of the time.\n",
       "\\end{ldescription}\n",
       "\\end{Arguments}\n",
       "%\n",
       "\\begin{Details}\\relax\n",
       "The \\code{name} argument can specify the  environment from which\n",
       "object names are taken in one of several forms:\n",
       "as an integer (the position in the \\code{\\LinkA{search}{search}} list); as\n",
       "the character string name of an element in the search list; or as an\n",
       "explicit \\code{\\LinkA{environment}{environment}} (including using\n",
       "\\code{\\LinkA{sys.frame}{sys.frame}} to access the currently active function calls).\n",
       "By default, the environment of the call to \\code{ls} or \\code{objects}\n",
       "is used. The \\code{pos} and \\code{envir} arguments are an alternative\n",
       "way to specify an environment, but are primarily there for back\n",
       "compatibility.\n",
       "\n",
       "Note that the \\emph{order} of strings for \\code{sorted = TRUE} is\n",
       "locale dependent, see \\code{\\LinkA{Sys.getlocale}{Sys.getlocale}}.  If \\code{sorted =\n",
       "    FALSE} the order is arbitrary, depending if the environment is\n",
       "hashed, the order of insertion of objects, \\dots.\n",
       "\\end{Details}\n",
       "%\n",
       "\\begin{References}\\relax\n",
       "Becker, R. A., Chambers, J. M. and Wilks, A. R. (1988)\n",
       "\\emph{The New S Language}.\n",
       "Wadsworth \\& Brooks/Cole.\n",
       "\\end{References}\n",
       "%\n",
       "\\begin{SeeAlso}\\relax\n",
       "\\code{\\LinkA{glob2rx}{glob2rx}} for converting wildcard patterns to regular\n",
       "expressions.\n",
       "\n",
       "\\code{\\LinkA{ls.str}{ls.str}} for a long listing based on \\code{\\LinkA{str}{str}}.\n",
       "\\code{\\LinkA{apropos}{apropos}} (or \\code{\\LinkA{find}{find}})\n",
       "for finding objects in the whole search path;\n",
       "\\code{\\LinkA{grep}{grep}} for more details on `regular expressions';\n",
       "\\code{\\LinkA{class}{class}}, \\code{\\LinkA{methods}{methods}}, etc., for\n",
       "object-oriented programming.\n",
       "\\end{SeeAlso}\n",
       "%\n",
       "\\begin{Examples}\n",
       "\\begin{ExampleCode}\n",
       ".Ob <- 1\n",
       "ls(pattern = \"O\")\n",
       "ls(pattern= \"O\", all.names = TRUE)    # also shows \".[foo]\"\n",
       "\n",
       "# shows an empty list because inside myfunc no variables are defined\n",
       "myfunc <- function() {ls()}\n",
       "myfunc()\n",
       "\n",
       "# define a local variable inside myfunc\n",
       "myfunc <- function() {y <- 1; ls()}\n",
       "myfunc()                # shows \"y\"\n",
       "\\end{ExampleCode}\n",
       "\\end{Examples}"
      ],
      "text/plain": [
       "ls                    package:base                     R Documentation\n",
       "\n",
       "_\bL_\bi_\bs_\bt _\bO_\bb_\bj_\be_\bc_\bt_\bs\n",
       "\n",
       "_\bD_\be_\bs_\bc_\br_\bi_\bp_\bt_\bi_\bo_\bn:\n",
       "\n",
       "     'ls' and 'objects' return a vector of character strings giving the\n",
       "     names of the objects in the specified environment.  When invoked\n",
       "     with no argument at the top level prompt, 'ls' shows what data\n",
       "     sets and functions a user has defined.  When invoked with no\n",
       "     argument inside a function, 'ls' returns the names of the\n",
       "     function's local variables: this is useful in conjunction with\n",
       "     'browser'.\n",
       "\n",
       "_\bU_\bs_\ba_\bg_\be:\n",
       "\n",
       "     ls(name, pos = -1L, envir = as.environment(pos),\n",
       "        all.names = FALSE, pattern, sorted = TRUE)\n",
       "     objects(name, pos= -1L, envir = as.environment(pos),\n",
       "             all.names = FALSE, pattern, sorted = TRUE)\n",
       "     \n",
       "_\bA_\br_\bg_\bu_\bm_\be_\bn_\bt_\bs:\n",
       "\n",
       "    name: which environment to use in listing the available objects.\n",
       "          Defaults to the _current_ environment.  Although called\n",
       "          'name' for back compatibility, in fact this argument can\n",
       "          specify the environment in any form; see the 'Details'\n",
       "          section.\n",
       "\n",
       "     pos: an alternative argument to 'name' for specifying the\n",
       "          environment as a position in the search list.  Mostly there\n",
       "          for back compatibility.\n",
       "\n",
       "   envir: an alternative argument to 'name' for specifying the\n",
       "          environment.  Mostly there for back compatibility.\n",
       "\n",
       "all.names: a logical value.  If 'TRUE', all object names are returned.\n",
       "          If 'FALSE', names which begin with a '.' are omitted.\n",
       "\n",
       " pattern: an optional regular expression.  Only names matching\n",
       "          'pattern' are returned.  'glob2rx' can be used to convert\n",
       "          wildcard patterns to regular expressions.\n",
       "\n",
       "  sorted: logical indicating if the resulting 'character' should be\n",
       "          sorted alphabetically.  Note that this is part of 'ls()' may\n",
       "          take most of the time.\n",
       "\n",
       "_\bD_\be_\bt_\ba_\bi_\bl_\bs:\n",
       "\n",
       "     The 'name' argument can specify the environment from which object\n",
       "     names are taken in one of several forms: as an integer (the\n",
       "     position in the 'search' list); as the character string name of an\n",
       "     element in the search list; or as an explicit 'environment'\n",
       "     (including using 'sys.frame' to access the currently active\n",
       "     function calls).  By default, the environment of the call to 'ls'\n",
       "     or 'objects' is used. The 'pos' and 'envir' arguments are an\n",
       "     alternative way to specify an environment, but are primarily there\n",
       "     for back compatibility.\n",
       "\n",
       "     Note that the _order_ of strings for 'sorted = TRUE' is locale\n",
       "     dependent, see 'Sys.getlocale'.  If 'sorted = FALSE' the order is\n",
       "     arbitrary, depending if the environment is hashed, the order of\n",
       "     insertion of objects, ....\n",
       "\n",
       "_\bR_\be_\bf_\be_\br_\be_\bn_\bc_\be_\bs:\n",
       "\n",
       "     Becker, R. A., Chambers, J. M. and Wilks, A. R. (1988) _The New S\n",
       "     Language_.  Wadsworth & Brooks/Cole.\n",
       "\n",
       "_\bS_\be_\be _\bA_\bl_\bs_\bo:\n",
       "\n",
       "     'glob2rx' for converting wildcard patterns to regular expressions.\n",
       "\n",
       "     'ls.str' for a long listing based on 'str'.  'apropos' (or 'find')\n",
       "     for finding objects in the whole search path; 'grep' for more\n",
       "     details on 'regular expressions'; 'class', 'methods', etc., for\n",
       "     object-oriented programming.\n",
       "\n",
       "_\bE_\bx_\ba_\bm_\bp_\bl_\be_\bs:\n",
       "\n",
       "     .Ob <- 1\n",
       "     ls(pattern = \"O\")\n",
       "     ls(pattern= \"O\", all.names = TRUE)    # also shows \".[foo]\"\n",
       "     \n",
       "     # shows an empty list because inside myfunc no variables are defined\n",
       "     myfunc <- function() {ls()}\n",
       "     myfunc()\n",
       "     \n",
       "     # define a local variable inside myfunc\n",
       "     myfunc <- function() {y <- 1; ls()}\n",
       "     myfunc()                # shows \"y\"\n",
       "     "
      ]
     },
     "metadata": {},
     "output_type": "display_data"
    }
   ],
   "source": [
    "?ls"
   ]
  },
  {
   "cell_type": "markdown",
   "id": "8f8d33ff-c267-4e30-9e6e-833fe299491a",
   "metadata": {
    "tags": []
   },
   "source": [
    "### To install or add new R packages"
   ]
  },
  {
   "cell_type": "markdown",
   "id": "c0d6f7a1-2d1b-4234-bc15-ed09bc70296a",
   "metadata": {
    "tags": []
   },
   "source": [
    "#### https://cran.r-project.org/web/packages/available_packages_by_name.html"
   ]
  },
  {
   "cell_type": "code",
   "execution_count": 11,
   "id": "dc97252f-8d30-4b23-9d8f-a7943829348f",
   "metadata": {
    "tags": []
   },
   "outputs": [
    {
     "name": "stderr",
     "output_type": "stream",
     "text": [
      "Installing package into ‘/home/vivek/R/x86_64-pc-linux-gnu-library/4.2’\n",
      "(as ‘lib’ is unspecified)\n",
      "\n",
      "also installing the dependencies ‘gamlss.data’, ‘gamlss’, ‘gamlss.dist’\n",
      "\n",
      "\n"
     ]
    }
   ],
   "source": [
    "install.packages(\"AGD\")"
   ]
  },
  {
   "cell_type": "code",
   "execution_count": 13,
   "id": "34292ab5-3d19-4763-b93c-8c03b54fff7d",
   "metadata": {},
   "outputs": [
    {
     "name": "stderr",
     "output_type": "stream",
     "text": [
      "Installing package into ‘/home/vivek/R/x86_64-pc-linux-gnu-library/4.2’\n",
      "(as ‘lib’ is unspecified)\n",
      "\n"
     ]
    }
   ],
   "source": [
    "install.packages('AGD')"
   ]
  },
  {
   "cell_type": "markdown",
   "id": "20cd8eb3-34a7-4071-9054-2a1a0796f721",
   "metadata": {
    "tags": []
   },
   "source": [
    "### To load the package"
   ]
  },
  {
   "cell_type": "code",
   "execution_count": 15,
   "id": "f3c422ef-05ed-4dac-badf-ae51699e1ae7",
   "metadata": {
    "tags": []
   },
   "outputs": [],
   "source": [
    "library(AGD)"
   ]
  },
  {
   "cell_type": "markdown",
   "id": "e22e9e9b-c2fa-45f6-bdcf-e93be3265e4e",
   "metadata": {
    "tags": []
   },
   "source": [
    "### To see default packages on R"
   ]
  },
  {
   "cell_type": "code",
   "execution_count": 17,
   "id": "0b13dce3-7090-4e18-9745-e3db211059f1",
   "metadata": {
    "tags": []
   },
   "outputs": [
    {
     "name": "stderr",
     "output_type": "stream",
     "text": [
      "Warning message in library():\n",
      "“libraries ‘/usr/local/lib/R/site-library’, ‘/usr/lib/R/site-library’ contain no packages”\n"
     ]
    },
    {
     "data": {
      "text/plain": [
       "R packages available\n",
       "\n",
       "Packages in library ‘/home/vivek/R/x86_64-pc-linux-gnu-library/4.2’:\n",
       "\n",
       "AGD                     Analysis of Growth Data\n",
       "base64enc               Tools for base64 encoding\n",
       "cli                     Helpers for Developing Command Line Interfaces\n",
       "colorspace              A Toolbox for Manipulating and Assessing Colors\n",
       "                        and Palettes\n",
       "crayon                  Colored Terminal Output\n",
       "digest                  Create Compact Hash Digests of R Objects\n",
       "evaluate                Parsing and Evaluation Tools that Provide More\n",
       "                        Details than the Default\n",
       "fansi                   ANSI Control Sequence Aware String Functions\n",
       "farver                  High Performance Colour Space Manipulation\n",
       "fastmap                 Fast Data Structures\n",
       "gamlss                  Generalised Additive Models for Location Scale\n",
       "                        and Shape\n",
       "gamlss.data             Data for Generalised Additive Models for\n",
       "                        Location Scale and Shape\n",
       "gamlss.dist             Distributions for Generalized Additive Models\n",
       "                        for Location Scale and Shape\n",
       "ggplot2                 Create Elegant Data Visualisations Using the\n",
       "                        Grammar of Graphics\n",
       "glue                    Interpreted String Literals\n",
       "gtable                  Arrange 'Grobs' in Tables\n",
       "htmltools               Tools for HTML\n",
       "IRdisplay               'Jupyter' Display Machinery\n",
       "IRkernel                Native R Kernel for the 'Jupyter Notebook'\n",
       "isoband                 Generate Isolines and Isobands from Regularly\n",
       "                        Spaced Elevation Grids\n",
       "jsonlite                A Simple and Robust JSON Parser and Generator\n",
       "                        for R\n",
       "labeling                Axis Labeling\n",
       "lifecycle               Manage the Life Cycle of your Package Functions\n",
       "magrittr                A Forward-Pipe Operator for R\n",
       "munsell                 Utilities for Using Munsell Colours\n",
       "openxlsx                Read, Write and Edit xlsx Files\n",
       "pbdZMQ                  Programming with Big Data -- Interface to\n",
       "                        'ZeroMQ'\n",
       "pillar                  Coloured Formatting for Columns\n",
       "pkgconfig               Private Configuration for 'R' Packages\n",
       "R6                      Encapsulated Classes with Reference Semantics\n",
       "RColorBrewer            ColorBrewer Palettes\n",
       "Rcpp                    Seamless R and C++ Integration\n",
       "repr                    Serializable Representations\n",
       "rlang                   Functions for Base Types and Core R and\n",
       "                        'Tidyverse' Features\n",
       "scales                  Scale Functions for Visualization\n",
       "stringi                 Fast and Portable Character String Processing\n",
       "                        Facilities\n",
       "tibble                  Simple Data Frames\n",
       "utf8                    Unicode Text Processing\n",
       "uuid                    Tools for Generating and Handling of UUIDs\n",
       "vctrs                   Vector Helpers\n",
       "viridisLite             Colorblind-Friendly Color Maps (Lite Version)\n",
       "withr                   Run Code 'With' Temporarily Modified Global\n",
       "                        State\n",
       "zip                     Cross-Platform 'zip' Compression\n",
       "\n",
       "Packages in library ‘/usr/lib/R/library’:\n",
       "\n",
       "base                    The R Base Package\n",
       "boot                    Bootstrap Functions (Originally by Angelo Canty\n",
       "                        for S)\n",
       "class                   Functions for Classification\n",
       "cluster                 \"Finding Groups in Data\": Cluster Analysis\n",
       "                        Extended Rousseeuw et al.\n",
       "codetools               Code Analysis Tools for R\n",
       "compiler                The R Compiler Package\n",
       "datasets                The R Datasets Package\n",
       "foreign                 Read Data Stored by 'Minitab', 'S', 'SAS',\n",
       "                        'SPSS', 'Stata', 'Systat', 'Weka', 'dBase', ...\n",
       "graphics                The R Graphics Package\n",
       "grDevices               The R Graphics Devices and Support for Colours\n",
       "                        and Fonts\n",
       "grid                    The Grid Graphics Package\n",
       "KernSmooth              Functions for Kernel Smoothing Supporting Wand\n",
       "                        & Jones (1995)\n",
       "lattice                 Trellis Graphics for R\n",
       "MASS                    Support Functions and Datasets for Venables and\n",
       "                        Ripley's MASS\n",
       "Matrix                  Sparse and Dense Matrix Classes and Methods\n",
       "methods                 Formal Methods and Classes\n",
       "mgcv                    Mixed GAM Computation Vehicle with Automatic\n",
       "                        Smoothness Estimation\n",
       "nlme                    Linear and Nonlinear Mixed Effects Models\n",
       "nnet                    Feed-Forward Neural Networks and Multinomial\n",
       "                        Log-Linear Models\n",
       "parallel                Support for Parallel computation in R\n",
       "rpart                   Recursive Partitioning and Regression Trees\n",
       "spatial                 Functions for Kriging and Point Pattern\n",
       "                        Analysis\n",
       "splines                 Regression Spline Functions and Classes\n",
       "stats                   The R Stats Package\n",
       "stats4                  Statistical Functions using S4 Classes\n",
       "survival                Survival Analysis\n",
       "tcltk                   Tcl/Tk Interface\n",
       "tools                   Tools for Package Development\n",
       "utils                   The R Utils Package"
      ]
     },
     "metadata": {},
     "output_type": "display_data"
    }
   ],
   "source": [
    "library()"
   ]
  },
  {
   "cell_type": "markdown",
   "id": "2d8d38f6-a6b1-4768-a759-34e403b99340",
   "metadata": {
    "tags": []
   },
   "source": [
    "### To see installed packages on R"
   ]
  },
  {
   "cell_type": "code",
   "execution_count": 19,
   "id": "048b9da7-1390-4e3d-ba33-c21e19b176fe",
   "metadata": {
    "collapsed": true,
    "jupyter": {
     "outputs_hidden": true
    },
    "tags": []
   },
   "outputs": [
    {
     "data": {
      "text/html": [
       "<table class=\"dataframe\">\n",
       "<caption>A matrix: 72 × 16 of type chr</caption>\n",
       "<thead>\n",
       "\t<tr><th></th><th scope=col>Package</th><th scope=col>LibPath</th><th scope=col>Version</th><th scope=col>Priority</th><th scope=col>Depends</th><th scope=col>Imports</th><th scope=col>LinkingTo</th><th scope=col>Suggests</th><th scope=col>Enhances</th><th scope=col>License</th><th scope=col>License_is_FOSS</th><th scope=col>License_restricts_use</th><th scope=col>OS_type</th><th scope=col>MD5sum</th><th scope=col>NeedsCompilation</th><th scope=col>Built</th></tr>\n",
       "</thead>\n",
       "<tbody>\n",
       "\t<tr><th scope=row>AGD</th><td><span style=white-space:pre-wrap>AGD        </span></td><td>/home/vivek/R/x86_64-pc-linux-gnu-library/4.2</td><td><span style=white-space:pre-wrap>0.39  </span></td><td>NA</td><td><span style=white-space:pre-wrap>R (&gt;= 2.10.0)                                                                                                            </span></td><td><span style=white-space:pre-wrap>gamlss, gamlss.dist                                                                                                                           </span></td><td><span style=white-space:pre-wrap>NA  </span></td><td><span style=white-space:pre-wrap>NA                                                                                                                                                                                                                                                                           </span></td><td><span style=white-space:pre-wrap>NA   </span></td><td><span style=white-space:pre-wrap>GPL-2 | GPL-3                 </span></td><td>NA</td><td>NA</td><td>NA</td><td>NA</td><td>no </td><td>4.2.1</td></tr>\n",
       "\t<tr><th scope=row>base64enc</th><td><span style=white-space:pre-wrap>base64enc  </span></td><td>/home/vivek/R/x86_64-pc-linux-gnu-library/4.2</td><td>0.1-3 </td><td>NA</td><td><span style=white-space:pre-wrap>R (&gt;= 2.9.0)                                                                                                             </span></td><td><span style=white-space:pre-wrap>NA                                                                                                                                            </span></td><td><span style=white-space:pre-wrap>NA  </span></td><td><span style=white-space:pre-wrap>NA                                                                                                                                                                                                                                                                           </span></td><td><span style=white-space:pre-wrap>png  </span></td><td><span style=white-space:pre-wrap>GPL-2 | GPL-3                 </span></td><td>NA</td><td>NA</td><td>NA</td><td>NA</td><td>yes</td><td>4.2.1</td></tr>\n",
       "\t<tr><th scope=row>cli</th><td><span style=white-space:pre-wrap>cli        </span></td><td>/home/vivek/R/x86_64-pc-linux-gnu-library/4.2</td><td>3.4.1 </td><td>NA</td><td><span style=white-space:pre-wrap>R (&gt;= 3.4)                                                                                                               </span></td><td><span style=white-space:pre-wrap>utils                                                                                                                                         </span></td><td><span style=white-space:pre-wrap>NA  </span></td><td><span style=white-space:pre-wrap>callr, covr, digest, glue (&gt;= 1.6.0), grDevices, htmltools,\n",
       "htmlwidgets, knitr, methods, mockery, processx, ps (&gt;=\n",
       "1.3.4.9000), rlang (&gt;= 1.0.2.9003), rmarkdown, rprojroot,\n",
       "rstudioapi, testthat, tibble, whoami, withr                                                  </span></td><td><span style=white-space:pre-wrap>NA   </span></td><td><span style=white-space:pre-wrap>MIT + file LICENSE            </span></td><td>NA</td><td>NA</td><td>NA</td><td>NA</td><td>yes</td><td>4.2.1</td></tr>\n",
       "\t<tr><th scope=row>colorspace</th><td>colorspace </td><td>/home/vivek/R/x86_64-pc-linux-gnu-library/4.2</td><td>2.0-3 </td><td>NA</td><td><span style=white-space:pre-wrap>R (&gt;= 3.0.0), methods                                                                                                    </span></td><td><span style=white-space:pre-wrap>graphics, grDevices, stats                                                                                                                    </span></td><td><span style=white-space:pre-wrap>NA  </span></td><td><span style=white-space:pre-wrap>datasets, utils, KernSmooth, MASS, kernlab, mvtnorm, vcd,\n",
       "tcltk, shiny, shinyjs, ggplot2, dplyr, scales, grid, png, jpeg,\n",
       "knitr, rmarkdown, RColorBrewer, rcartocolor, scico, viridis,\n",
       "wesanderson                                                                        </span></td><td><span style=white-space:pre-wrap>NA   </span></td><td><span style=white-space:pre-wrap>BSD_3_clause + file LICENSE   </span></td><td>NA</td><td>NA</td><td>NA</td><td>NA</td><td>yes</td><td>4.2.1</td></tr>\n",
       "\t<tr><th scope=row>crayon</th><td>crayon     </td><td>/home/vivek/R/x86_64-pc-linux-gnu-library/4.2</td><td>1.5.2 </td><td>NA</td><td>NA                                                                                                                       </td><td>grDevices, methods, utils                                                                                                                     </td><td>NA  </td><td>mockery, rstudioapi, testthat, withr                                                                                                                                                                                                                                         </td><td>NA   </td><td>MIT + file LICENSE            </td><td>NA</td><td>NA</td><td>NA</td><td>NA</td><td>no </td><td>4.2.1</td></tr>\n",
       "\t<tr><th scope=row>digest</th><td><span style=white-space:pre-wrap>digest     </span></td><td>/home/vivek/R/x86_64-pc-linux-gnu-library/4.2</td><td>0.6.29</td><td>NA</td><td><span style=white-space:pre-wrap>R (&gt;= 3.3.0)                                                                                                             </span></td><td><span style=white-space:pre-wrap>utils                                                                                                                                         </span></td><td><span style=white-space:pre-wrap>NA  </span></td><td><span style=white-space:pre-wrap>tinytest, simplermarkdown                                                                                                                                                                                                                                                    </span></td><td><span style=white-space:pre-wrap>NA   </span></td><td><span style=white-space:pre-wrap>GPL (&gt;= 2)                    </span></td><td>NA</td><td>NA</td><td>NA</td><td>NA</td><td>yes</td><td>4.2.1</td></tr>\n",
       "\t<tr><th scope=row>evaluate</th><td><span style=white-space:pre-wrap>evaluate   </span></td><td>/home/vivek/R/x86_64-pc-linux-gnu-library/4.2</td><td><span style=white-space:pre-wrap>0.17  </span></td><td>NA</td><td><span style=white-space:pre-wrap>R (&gt;= 3.0.2)                                                                                                             </span></td><td><span style=white-space:pre-wrap>methods                                                                                                                                       </span></td><td><span style=white-space:pre-wrap>NA  </span></td><td><span style=white-space:pre-wrap>covr, ggplot2, lattice, testthat                                                                                                                                                                                                                                             </span></td><td><span style=white-space:pre-wrap>NA   </span></td><td><span style=white-space:pre-wrap>MIT + file LICENSE            </span></td><td>NA</td><td>NA</td><td>NA</td><td>NA</td><td>no </td><td>4.2.1</td></tr>\n",
       "\t<tr><th scope=row>fansi</th><td><span style=white-space:pre-wrap>fansi      </span></td><td>/home/vivek/R/x86_64-pc-linux-gnu-library/4.2</td><td>1.0.3 </td><td>NA</td><td><span style=white-space:pre-wrap>R (&gt;= 3.1.0)                                                                                                             </span></td><td><span style=white-space:pre-wrap>grDevices, utils                                                                                                                              </span></td><td><span style=white-space:pre-wrap>NA  </span></td><td><span style=white-space:pre-wrap>unitizer, knitr, rmarkdown                                                                                                                                                                                                                                                   </span></td><td><span style=white-space:pre-wrap>NA   </span></td><td><span style=white-space:pre-wrap>GPL-2 | GPL-3                 </span></td><td>NA</td><td>NA</td><td>NA</td><td>NA</td><td>yes</td><td>4.2.1</td></tr>\n",
       "\t<tr><th scope=row>farver</th><td><span style=white-space:pre-wrap>farver     </span></td><td>/home/vivek/R/x86_64-pc-linux-gnu-library/4.2</td><td>2.1.1 </td><td>NA</td><td><span style=white-space:pre-wrap>NA                                                                                                                       </span></td><td><span style=white-space:pre-wrap>NA                                                                                                                                            </span></td><td><span style=white-space:pre-wrap>NA  </span></td><td><span style=white-space:pre-wrap>covr, testthat (&gt;= 3.0.0)                                                                                                                                                                                                                                                    </span></td><td><span style=white-space:pre-wrap>NA   </span></td><td><span style=white-space:pre-wrap>MIT + file LICENSE            </span></td><td>NA</td><td>NA</td><td>NA</td><td>NA</td><td>yes</td><td>4.2.1</td></tr>\n",
       "\t<tr><th scope=row>fastmap</th><td><span style=white-space:pre-wrap>fastmap    </span></td><td>/home/vivek/R/x86_64-pc-linux-gnu-library/4.2</td><td>1.1.0 </td><td>NA</td><td><span style=white-space:pre-wrap>NA                                                                                                                       </span></td><td><span style=white-space:pre-wrap>NA                                                                                                                                            </span></td><td><span style=white-space:pre-wrap>NA  </span></td><td><span style=white-space:pre-wrap>testthat (&gt;= 2.1.1)                                                                                                                                                                                                                                                          </span></td><td><span style=white-space:pre-wrap>NA   </span></td><td><span style=white-space:pre-wrap>MIT + file LICENSE            </span></td><td>NA</td><td>NA</td><td>NA</td><td>NA</td><td>yes</td><td>4.2.1</td></tr>\n",
       "\t<tr><th scope=row>gamlss</th><td><span style=white-space:pre-wrap>gamlss     </span></td><td>/home/vivek/R/x86_64-pc-linux-gnu-library/4.2</td><td>5.4-3 </td><td>NA</td><td>R (&gt;= 3.3.0), graphics, stats, splines, utils, grDevices,\n",
       "gamlss.data (&gt;= 5.0-0), gamlss.dist (&gt;= 4.3.1), nlme, parallel</td><td><span style=white-space:pre-wrap>MASS, survival, methods                                                                                                                       </span></td><td><span style=white-space:pre-wrap>NA  </span></td><td><span style=white-space:pre-wrap>NA                                                                                                                                                                                                                                                                           </span></td><td><span style=white-space:pre-wrap>NA   </span></td><td><span style=white-space:pre-wrap>GPL-2 | GPL-3                 </span></td><td>NA</td><td>NA</td><td>NA</td><td>NA</td><td>yes</td><td>4.2.1</td></tr>\n",
       "\t<tr><th scope=row>gamlss.data</th><td>gamlss.data</td><td>/home/vivek/R/x86_64-pc-linux-gnu-library/4.2</td><td>6.0-2 </td><td>NA</td><td><span style=white-space:pre-wrap>R (&gt;= 3.5.0)                                                                                                             </span></td><td><span style=white-space:pre-wrap>NA                                                                                                                                            </span></td><td><span style=white-space:pre-wrap>NA  </span></td><td><span style=white-space:pre-wrap>NA                                                                                                                                                                                                                                                                           </span></td><td><span style=white-space:pre-wrap>NA   </span></td><td><span style=white-space:pre-wrap>GPL-2 | GPL-3                 </span></td><td>NA</td><td>NA</td><td>NA</td><td>NA</td><td>no </td><td>4.2.1</td></tr>\n",
       "\t<tr><th scope=row>gamlss.dist</th><td>gamlss.dist</td><td>/home/vivek/R/x86_64-pc-linux-gnu-library/4.2</td><td>6.0-5 </td><td>NA</td><td><span style=white-space:pre-wrap>R (&gt;= 3.5.0), MASS, graphics, stats, methods, grDevices                                                                  </span></td><td><span style=white-space:pre-wrap>NA                                                                                                                                            </span></td><td><span style=white-space:pre-wrap>NA  </span></td><td><span style=white-space:pre-wrap>NA                                                                                                                                                                                                                                                                           </span></td><td><span style=white-space:pre-wrap>NA   </span></td><td><span style=white-space:pre-wrap>GPL-2 | GPL-3                 </span></td><td>NA</td><td>NA</td><td>NA</td><td>NA</td><td>yes</td><td>4.2.1</td></tr>\n",
       "\t<tr><th scope=row>ggplot2</th><td><span style=white-space:pre-wrap>ggplot2    </span></td><td>/home/vivek/R/x86_64-pc-linux-gnu-library/4.2</td><td>3.3.6 </td><td>NA</td><td><span style=white-space:pre-wrap>R (&gt;= 3.3)                                                                                                               </span></td><td>digest, glue, grDevices, grid, gtable (&gt;= 0.1.1), isoband,\n",
       "MASS, mgcv, rlang (&gt;= 0.4.10), scales (&gt;= 0.5.0), stats,\n",
       "tibble, withr (&gt;= 2.0.0)</td><td><span style=white-space:pre-wrap>NA  </span></td><td>covr, ragg, dplyr, ggplot2movies, hexbin, Hmisc, interp,\n",
       "knitr, lattice, mapproj, maps, maptools, multcomp, munsell,\n",
       "nlme, profvis, quantreg, RColorBrewer, rgeos, rmarkdown, rpart,\n",
       "sf (&gt;= 0.7-3), svglite (&gt;= 1.2.0.9001), testthat (&gt;= 2.1.0),\n",
       "vdiffr (&gt;= 1.0.0), xml2</td><td><span style=white-space:pre-wrap>sp   </span></td><td><span style=white-space:pre-wrap>MIT + file LICENSE            </span></td><td>NA</td><td>NA</td><td>NA</td><td>NA</td><td>no </td><td>4.2.1</td></tr>\n",
       "\t<tr><th scope=row>glue</th><td><span style=white-space:pre-wrap>glue       </span></td><td>/home/vivek/R/x86_64-pc-linux-gnu-library/4.2</td><td>1.6.2 </td><td>NA</td><td><span style=white-space:pre-wrap>R (&gt;= 3.4)                                                                                                               </span></td><td><span style=white-space:pre-wrap>methods                                                                                                                                       </span></td><td><span style=white-space:pre-wrap>NA  </span></td><td><span style=white-space:pre-wrap>covr, crayon, DBI, dplyr, forcats, ggplot2, knitr, magrittr,\n",
       "microbenchmark, R.utils, rmarkdown, rprintf, RSQLite, stringr,\n",
       "testthat (&gt;= 3.0.0), vctrs (&gt;= 0.3.0), waldo (&gt;= 0.3.0), withr                                                                                 </span></td><td><span style=white-space:pre-wrap>NA   </span></td><td><span style=white-space:pre-wrap>MIT + file LICENSE            </span></td><td>NA</td><td>NA</td><td>NA</td><td>NA</td><td>yes</td><td>4.2.1</td></tr>\n",
       "\t<tr><th scope=row>gtable</th><td><span style=white-space:pre-wrap>gtable     </span></td><td>/home/vivek/R/x86_64-pc-linux-gnu-library/4.2</td><td>0.3.1 </td><td>NA</td><td><span style=white-space:pre-wrap>R (&gt;= 3.0)                                                                                                               </span></td><td><span style=white-space:pre-wrap>grid                                                                                                                                          </span></td><td><span style=white-space:pre-wrap>NA  </span></td><td><span style=white-space:pre-wrap>covr, testthat, knitr, rmarkdown, ggplot2, profvis                                                                                                                                                                                                                           </span></td><td><span style=white-space:pre-wrap>NA   </span></td><td><span style=white-space:pre-wrap>MIT + file LICENSE            </span></td><td>NA</td><td>NA</td><td>NA</td><td>NA</td><td>no </td><td>4.2.1</td></tr>\n",
       "\t<tr><th scope=row>htmltools</th><td><span style=white-space:pre-wrap>htmltools  </span></td><td>/home/vivek/R/x86_64-pc-linux-gnu-library/4.2</td><td>0.5.3 </td><td>NA</td><td><span style=white-space:pre-wrap>R (&gt;= 2.14.1)                                                                                                            </span></td><td><span style=white-space:pre-wrap>utils, digest, grDevices, base64enc, rlang (&gt;= 0.4.10),\n",
       "fastmap (&gt;= 1.1.0)                                                                   </span></td><td><span style=white-space:pre-wrap>NA  </span></td><td><span style=white-space:pre-wrap>markdown, testthat, withr, Cairo, ragg, shiny                                                                                                                                                                                                                                </span></td><td>knitr</td><td><span style=white-space:pre-wrap>GPL (&gt;= 2)                    </span></td><td>NA</td><td>NA</td><td>NA</td><td>NA</td><td>yes</td><td>4.2.1</td></tr>\n",
       "\t<tr><th scope=row>IRdisplay</th><td><span style=white-space:pre-wrap>IRdisplay  </span></td><td>/home/vivek/R/x86_64-pc-linux-gnu-library/4.2</td><td><span style=white-space:pre-wrap>1.1   </span></td><td>NA</td><td><span style=white-space:pre-wrap>R (&gt;= 3.0.1)                                                                                                             </span></td><td><span style=white-space:pre-wrap>methods, repr                                                                                                                                 </span></td><td><span style=white-space:pre-wrap>NA  </span></td><td><span style=white-space:pre-wrap>testthat, withr                                                                                                                                                                                                                                                              </span></td><td><span style=white-space:pre-wrap>NA   </span></td><td><span style=white-space:pre-wrap>MIT + file LICENSE            </span></td><td>NA</td><td>NA</td><td>NA</td><td>NA</td><td>no </td><td>4.2.1</td></tr>\n",
       "\t<tr><th scope=row>IRkernel</th><td><span style=white-space:pre-wrap>IRkernel   </span></td><td>/home/vivek/R/x86_64-pc-linux-gnu-library/4.2</td><td><span style=white-space:pre-wrap>1.3   </span></td><td>NA</td><td><span style=white-space:pre-wrap>R (&gt;= 3.2.0)                                                                                                             </span></td><td><span style=white-space:pre-wrap>repr (&gt;= 0.4.99), methods, evaluate (&gt;= 0.10), IRdisplay (&gt;=\n",
       "0.3.0.9999), pbdZMQ (&gt;= 0.2-1), crayon, jsonlite (&gt;= 0.9.6),\n",
       "uuid, digest      </span></td><td><span style=white-space:pre-wrap>NA  </span></td><td><span style=white-space:pre-wrap>testthat, roxygen2                                                                                                                                                                                                                                                           </span></td><td><span style=white-space:pre-wrap>NA   </span></td><td><span style=white-space:pre-wrap>MIT + file LICENSE            </span></td><td>NA</td><td>NA</td><td>NA</td><td>NA</td><td>no </td><td>4.2.1</td></tr>\n",
       "\t<tr><th scope=row>isoband</th><td>isoband    </td><td>/home/vivek/R/x86_64-pc-linux-gnu-library/4.2</td><td>0.2.6 </td><td>NA</td><td>NA                                                                                                                       </td><td>grid, utils                                                                                                                                   </td><td>NA  </td><td>covr, ggplot2, knitr, magick, microbenchmark, rmarkdown, sf,\n",
       "testthat, xml2                                                                                                                                                                                                 </td><td>NA   </td><td>MIT + file LICENSE            </td><td>NA</td><td>NA</td><td>NA</td><td>NA</td><td>yes</td><td>4.2.1</td></tr>\n",
       "\t<tr><th scope=row>jsonlite</th><td>jsonlite   </td><td>/home/vivek/R/x86_64-pc-linux-gnu-library/4.2</td><td>1.8.2 </td><td>NA</td><td>methods                                                                                                                  </td><td>NA                                                                                                                                            </td><td>NA  </td><td>httr, vctrs, testthat, knitr, rmarkdown, R.rsp, sf                                                                                                                                                                                                                           </td><td>NA   </td><td>MIT + file LICENSE            </td><td>NA</td><td>NA</td><td>NA</td><td>NA</td><td>yes</td><td>4.2.1</td></tr>\n",
       "\t<tr><th scope=row>labeling</th><td>labeling   </td><td>/home/vivek/R/x86_64-pc-linux-gnu-library/4.2</td><td>0.4.2 </td><td>NA</td><td>NA                                                                                                                       </td><td>stats, graphics                                                                                                                               </td><td>NA  </td><td>NA                                                                                                                                                                                                                                                                           </td><td>NA   </td><td>MIT + file LICENSE | Unlimited</td><td>NA</td><td>NA</td><td>NA</td><td>NA</td><td>no </td><td>4.2.1</td></tr>\n",
       "\t<tr><th scope=row>lifecycle</th><td><span style=white-space:pre-wrap>lifecycle  </span></td><td>/home/vivek/R/x86_64-pc-linux-gnu-library/4.2</td><td>1.0.3 </td><td>NA</td><td><span style=white-space:pre-wrap>R (&gt;= 3.4)                                                                                                               </span></td><td><span style=white-space:pre-wrap>cli (&gt;= 3.4.0), glue, rlang (&gt;= 1.0.6)                                                                                                        </span></td><td><span style=white-space:pre-wrap>NA  </span></td><td><span style=white-space:pre-wrap>covr, crayon, knitr, lintr, rmarkdown, testthat (&gt;= 3.0.1),\n",
       "tibble, tidyverse, tools, vctrs, withr                                                                                                                                                                          </span></td><td><span style=white-space:pre-wrap>NA   </span></td><td><span style=white-space:pre-wrap>MIT + file LICENSE            </span></td><td>NA</td><td>NA</td><td>NA</td><td>NA</td><td>no </td><td>4.2.1</td></tr>\n",
       "\t<tr><th scope=row>magrittr</th><td><span style=white-space:pre-wrap>magrittr   </span></td><td>/home/vivek/R/x86_64-pc-linux-gnu-library/4.2</td><td>2.0.3 </td><td>NA</td><td><span style=white-space:pre-wrap>R (&gt;= 3.4.0)                                                                                                             </span></td><td><span style=white-space:pre-wrap>NA                                                                                                                                            </span></td><td><span style=white-space:pre-wrap>NA  </span></td><td><span style=white-space:pre-wrap>covr, knitr, rlang, rmarkdown, testthat                                                                                                                                                                                                                                      </span></td><td><span style=white-space:pre-wrap>NA   </span></td><td><span style=white-space:pre-wrap>MIT + file LICENSE            </span></td><td>NA</td><td>NA</td><td>NA</td><td>NA</td><td>yes</td><td>4.2.1</td></tr>\n",
       "\t<tr><th scope=row>munsell</th><td>munsell    </td><td>/home/vivek/R/x86_64-pc-linux-gnu-library/4.2</td><td>0.5.0 </td><td>NA</td><td>NA                                                                                                                       </td><td>colorspace, methods                                                                                                                           </td><td>NA  </td><td>ggplot2, testthat                                                                                                                                                                                                                                                            </td><td>NA   </td><td>MIT + file LICENSE            </td><td>NA</td><td>NA</td><td>NA</td><td>NA</td><td>no </td><td>4.2.1</td></tr>\n",
       "\t<tr><th scope=row>openxlsx</th><td><span style=white-space:pre-wrap>openxlsx   </span></td><td>/home/vivek/R/x86_64-pc-linux-gnu-library/4.2</td><td>4.2.5 </td><td>NA</td><td><span style=white-space:pre-wrap>R (&gt;= 3.3.0)                                                                                                             </span></td><td><span style=white-space:pre-wrap>grDevices, methods, Rcpp, stats, stringi, utils, zip                                                                                          </span></td><td>Rcpp</td><td><span style=white-space:pre-wrap>knitr, rmarkdown, roxygen2, testthat                                                                                                                                                                                                                                         </span></td><td><span style=white-space:pre-wrap>NA   </span></td><td><span style=white-space:pre-wrap>MIT + file LICENSE            </span></td><td>NA</td><td>NA</td><td>NA</td><td>NA</td><td>yes</td><td>4.2.1</td></tr>\n",
       "\t<tr><th scope=row>pbdZMQ</th><td><span style=white-space:pre-wrap>pbdZMQ     </span></td><td>/home/vivek/R/x86_64-pc-linux-gnu-library/4.2</td><td>0.3-7 </td><td>NA</td><td><span style=white-space:pre-wrap>R (&gt;= 3.5.0)                                                                                                             </span></td><td><span style=white-space:pre-wrap>NA                                                                                                                                            </span></td><td><span style=white-space:pre-wrap>NA  </span></td><td><span style=white-space:pre-wrap>NA                                                                                                                                                                                                                                                                           </span></td><td><span style=white-space:pre-wrap>NA   </span></td><td><span style=white-space:pre-wrap>GPL-3                         </span></td><td>NA</td><td>NA</td><td>NA</td><td>NA</td><td>yes</td><td>4.2.1</td></tr>\n",
       "\t<tr><th scope=row>pillar</th><td><span style=white-space:pre-wrap>pillar     </span></td><td>/home/vivek/R/x86_64-pc-linux-gnu-library/4.2</td><td>1.8.1 </td><td>NA</td><td><span style=white-space:pre-wrap>NA                                                                                                                       </span></td><td><span style=white-space:pre-wrap>cli (&gt;= 2.3.0), fansi, glue, lifecycle, rlang (&gt;= 1.0.2), utf8\n",
       "(&gt;= 1.1.0), utils, vctrs (&gt;= 0.3.8)                                           </span></td><td><span style=white-space:pre-wrap>NA  </span></td><td><span style=white-space:pre-wrap>bit64, debugme, DiagrammeR, dplyr, formattable, ggplot2,\n",
       "knitr, lubridate, nanotime, nycflights13, palmerpenguins,\n",
       "rmarkdown, scales, stringi, survival, testthat (&gt;= 3.1.1),\n",
       "tibble, units (&gt;= 0.7.2), vdiffr, withr                                                     </span></td><td><span style=white-space:pre-wrap>NA   </span></td><td><span style=white-space:pre-wrap>MIT + file LICENSE            </span></td><td>NA</td><td>NA</td><td>NA</td><td>NA</td><td>no </td><td>4.2.1</td></tr>\n",
       "\t<tr><th scope=row>pkgconfig</th><td><span style=white-space:pre-wrap>pkgconfig  </span></td><td>/home/vivek/R/x86_64-pc-linux-gnu-library/4.2</td><td>2.0.3 </td><td>NA</td><td><span style=white-space:pre-wrap>NA                                                                                                                       </span></td><td><span style=white-space:pre-wrap>utils                                                                                                                                         </span></td><td><span style=white-space:pre-wrap>NA  </span></td><td><span style=white-space:pre-wrap>covr, testthat, disposables (&gt;= 1.0.3)                                                                                                                                                                                                                                       </span></td><td><span style=white-space:pre-wrap>NA   </span></td><td><span style=white-space:pre-wrap>MIT + file LICENSE            </span></td><td>NA</td><td>NA</td><td>NA</td><td>NA</td><td>no </td><td>4.2.1</td></tr>\n",
       "\t<tr><th scope=row>R6</th><td><span style=white-space:pre-wrap>R6         </span></td><td>/home/vivek/R/x86_64-pc-linux-gnu-library/4.2</td><td>2.5.1 </td><td>NA</td><td><span style=white-space:pre-wrap>R (&gt;= 3.0)                                                                                                               </span></td><td><span style=white-space:pre-wrap>NA                                                                                                                                            </span></td><td><span style=white-space:pre-wrap>NA  </span></td><td><span style=white-space:pre-wrap>testthat, pryr                                                                                                                                                                                                                                                               </span></td><td><span style=white-space:pre-wrap>NA   </span></td><td><span style=white-space:pre-wrap>MIT + file LICENSE            </span></td><td>NA</td><td>NA</td><td>NA</td><td>NA</td><td>no </td><td>4.2.1</td></tr>\n",
       "\t<tr><th scope=row>⋮</th><td>⋮</td><td>⋮</td><td>⋮</td><td>⋮</td><td>⋮</td><td>⋮</td><td>⋮</td><td>⋮</td><td>⋮</td><td>⋮</td><td>⋮</td><td>⋮</td><td>⋮</td><td>⋮</td><td>⋮</td><td>⋮</td></tr>\n",
       "\t<tr><th scope=row>zip</th><td>zip       </td><td>/home/vivek/R/x86_64-pc-linux-gnu-library/4.2</td><td>2.2.1   </td><td>NA         </td><td>NA                                             </td><td>NA                                              </td><td>NA</td><td>covr, processx, R6, testthat, withr                               </td><td>NA                                                                 </td><td>MIT + file LICENSE       </td><td>NA</td><td>NA</td><td>NA</td><td>NA</td><td>yes</td><td>4.2.1</td></tr>\n",
       "\t<tr><th scope=row>base</th><td>base      </td><td>/usr/lib/R/library                           </td><td>4.2.1   </td><td>base       </td><td>NA                                             </td><td>NA                                              </td><td>NA</td><td>methods                                                           </td><td>NA                                                                 </td><td>Part of R 4.2.1          </td><td>NA</td><td>NA</td><td>NA</td><td>NA</td><td>NA </td><td>4.2.1</td></tr>\n",
       "\t<tr><th scope=row>boot</th><td><span style=white-space:pre-wrap>boot      </span></td><td><span style=white-space:pre-wrap>/usr/lib/R/library                           </span></td><td><span style=white-space:pre-wrap>1.3-28  </span></td><td>recommended</td><td><span style=white-space:pre-wrap>R (&gt;= 3.0.0), graphics, stats                  </span></td><td><span style=white-space:pre-wrap>NA                                              </span></td><td>NA</td><td><span style=white-space:pre-wrap>MASS, survival                                                    </span></td><td><span style=white-space:pre-wrap>NA                                                                 </span></td><td><span style=white-space:pre-wrap>Unlimited                </span></td><td>NA</td><td>NA</td><td>NA</td><td>NA</td><td>no </td><td>4.0.5</td></tr>\n",
       "\t<tr><th scope=row>class</th><td><span style=white-space:pre-wrap>class     </span></td><td><span style=white-space:pre-wrap>/usr/lib/R/library                           </span></td><td><span style=white-space:pre-wrap>7.3-20  </span></td><td>recommended</td><td><span style=white-space:pre-wrap>R (&gt;= 3.0.0), stats, utils                     </span></td><td><span style=white-space:pre-wrap>MASS                                            </span></td><td>NA</td><td><span style=white-space:pre-wrap>NA                                                                </span></td><td><span style=white-space:pre-wrap>NA                                                                 </span></td><td><span style=white-space:pre-wrap>GPL-2 | GPL-3            </span></td><td>NA</td><td>NA</td><td>NA</td><td>NA</td><td>yes</td><td>4.1.2</td></tr>\n",
       "\t<tr><th scope=row>cluster</th><td><span style=white-space:pre-wrap>cluster   </span></td><td><span style=white-space:pre-wrap>/usr/lib/R/library                           </span></td><td><span style=white-space:pre-wrap>2.1.4   </span></td><td>recommended</td><td><span style=white-space:pre-wrap>R (&gt;= 3.5.0)                                   </span></td><td><span style=white-space:pre-wrap>graphics, grDevices, stats, utils               </span></td><td>NA</td><td><span style=white-space:pre-wrap>MASS, Matrix                                                      </span></td><td><span style=white-space:pre-wrap>NA                                                                 </span></td><td><span style=white-space:pre-wrap>GPL (&gt;= 2)               </span></td><td>NA</td><td>NA</td><td>NA</td><td>NA</td><td>yes</td><td>4.2.1</td></tr>\n",
       "\t<tr><th scope=row>codetools</th><td>codetools </td><td><span style=white-space:pre-wrap>/usr/lib/R/library                           </span></td><td><span style=white-space:pre-wrap>0.2-18  </span></td><td>recommended</td><td><span style=white-space:pre-wrap>R (&gt;= 2.1)                                     </span></td><td><span style=white-space:pre-wrap>NA                                              </span></td><td>NA</td><td><span style=white-space:pre-wrap>NA                                                                </span></td><td><span style=white-space:pre-wrap>NA                                                                 </span></td><td><span style=white-space:pre-wrap>GPL                      </span></td><td>NA</td><td>NA</td><td>NA</td><td>NA</td><td>no </td><td>4.0.3</td></tr>\n",
       "\t<tr><th scope=row>compiler</th><td>compiler  </td><td>/usr/lib/R/library                           </td><td>4.2.1   </td><td>base       </td><td>NA                                             </td><td>NA                                              </td><td>NA</td><td>NA                                                                </td><td>NA                                                                 </td><td>Part of R 4.2.1          </td><td>NA</td><td>NA</td><td>NA</td><td>NA</td><td>NA </td><td>4.2.1</td></tr>\n",
       "\t<tr><th scope=row>datasets</th><td>datasets  </td><td>/usr/lib/R/library                           </td><td>4.2.1   </td><td>base       </td><td>NA                                             </td><td>NA                                              </td><td>NA</td><td>NA                                                                </td><td>NA                                                                 </td><td>Part of R 4.2.1          </td><td>NA</td><td>NA</td><td>NA</td><td>NA</td><td>NA </td><td>4.2.1</td></tr>\n",
       "\t<tr><th scope=row>foreign</th><td><span style=white-space:pre-wrap>foreign   </span></td><td><span style=white-space:pre-wrap>/usr/lib/R/library                           </span></td><td><span style=white-space:pre-wrap>0.8-82  </span></td><td>recommended</td><td><span style=white-space:pre-wrap>R (&gt;= 4.0.0)                                   </span></td><td><span style=white-space:pre-wrap>methods, utils, stats                           </span></td><td>NA</td><td><span style=white-space:pre-wrap>NA                                                                </span></td><td><span style=white-space:pre-wrap>NA                                                                 </span></td><td><span style=white-space:pre-wrap>GPL (&gt;= 2)               </span></td><td>NA</td><td>NA</td><td>NA</td><td>NA</td><td>yes</td><td>4.1.2</td></tr>\n",
       "\t<tr><th scope=row>graphics</th><td>graphics  </td><td>/usr/lib/R/library                           </td><td>4.2.1   </td><td>base       </td><td>NA                                             </td><td>grDevices                                       </td><td>NA</td><td>NA                                                                </td><td>NA                                                                 </td><td>Part of R 4.2.1          </td><td>NA</td><td>NA</td><td>NA</td><td>NA</td><td>yes</td><td>4.2.1</td></tr>\n",
       "\t<tr><th scope=row>grDevices</th><td>grDevices </td><td>/usr/lib/R/library                           </td><td>4.2.1   </td><td>base       </td><td>NA                                             </td><td>NA                                              </td><td>NA</td><td>KernSmooth                                                        </td><td>NA                                                                 </td><td>Part of R 4.2.1          </td><td>NA</td><td>NA</td><td>NA</td><td>NA</td><td>yes</td><td>4.2.1</td></tr>\n",
       "\t<tr><th scope=row>grid</th><td>grid      </td><td>/usr/lib/R/library                           </td><td>4.2.1   </td><td>base       </td><td>NA                                             </td><td>grDevices, utils                                </td><td>NA</td><td>NA                                                                </td><td>NA                                                                 </td><td>Part of R 4.2.1          </td><td>NA</td><td>NA</td><td>NA</td><td>NA</td><td>yes</td><td>4.2.1</td></tr>\n",
       "\t<tr><th scope=row>KernSmooth</th><td>KernSmooth</td><td><span style=white-space:pre-wrap>/usr/lib/R/library                           </span></td><td>2.23-20 </td><td>recommended</td><td><span style=white-space:pre-wrap>R (&gt;= 2.5.0), stats                            </span></td><td><span style=white-space:pre-wrap>NA                                              </span></td><td>NA</td><td><span style=white-space:pre-wrap>MASS, carData                                                     </span></td><td><span style=white-space:pre-wrap>NA                                                                 </span></td><td><span style=white-space:pre-wrap>Unlimited                </span></td><td>NA</td><td>NA</td><td>NA</td><td>NA</td><td>yes</td><td>4.0.5</td></tr>\n",
       "\t<tr><th scope=row>lattice</th><td><span style=white-space:pre-wrap>lattice   </span></td><td><span style=white-space:pre-wrap>/usr/lib/R/library                           </span></td><td>0.20-45 </td><td>recommended</td><td><span style=white-space:pre-wrap>R (&gt;= 3.0.0)                                   </span></td><td><span style=white-space:pre-wrap>grid, grDevices, graphics, stats, utils         </span></td><td>NA</td><td><span style=white-space:pre-wrap>KernSmooth, MASS, latticeExtra                                    </span></td><td><span style=white-space:pre-wrap>chron                                                              </span></td><td><span style=white-space:pre-wrap>GPL (&gt;= 2)               </span></td><td>NA</td><td>NA</td><td>NA</td><td>NA</td><td>yes</td><td>4.2.0</td></tr>\n",
       "\t<tr><th scope=row>MASS</th><td><span style=white-space:pre-wrap>MASS      </span></td><td><span style=white-space:pre-wrap>/usr/lib/R/library                           </span></td><td>7.3-58.1</td><td>recommended</td><td>R (&gt;= 3.3.0), grDevices, graphics, stats, utils</td><td><span style=white-space:pre-wrap>methods                                         </span></td><td>NA</td><td><span style=white-space:pre-wrap>lattice, nlme, nnet, survival                                     </span></td><td><span style=white-space:pre-wrap>NA                                                                 </span></td><td><span style=white-space:pre-wrap>GPL-2 | GPL-3            </span></td><td>NA</td><td>NA</td><td>NA</td><td>NA</td><td>yes</td><td>4.2.1</td></tr>\n",
       "\t<tr><th scope=row>Matrix</th><td><span style=white-space:pre-wrap>Matrix    </span></td><td><span style=white-space:pre-wrap>/usr/lib/R/library                           </span></td><td><span style=white-space:pre-wrap>1.5-1   </span></td><td>recommended</td><td><span style=white-space:pre-wrap>R (&gt;= 3.5.0)                                   </span></td><td><span style=white-space:pre-wrap>methods, graphics, grid, stats, utils, lattice  </span></td><td>NA</td><td><span style=white-space:pre-wrap>expm, MASS                                                        </span></td><td>MatrixModels, graph, SparseM, sfsmisc, igraph, maptools, sp,\n",
       "spdep</td><td>GPL (&gt;= 2) | file LICENCE</td><td>NA</td><td>NA</td><td>NA</td><td>NA</td><td>yes</td><td>4.2.1</td></tr>\n",
       "\t<tr><th scope=row>methods</th><td>methods   </td><td>/usr/lib/R/library                           </td><td>4.2.1   </td><td>base       </td><td>NA                                             </td><td>utils, stats                                    </td><td>NA</td><td>codetools                                                         </td><td>NA                                                                 </td><td>Part of R 4.2.1          </td><td>NA</td><td>NA</td><td>NA</td><td>NA</td><td>yes</td><td>4.2.1</td></tr>\n",
       "\t<tr><th scope=row>mgcv</th><td><span style=white-space:pre-wrap>mgcv      </span></td><td><span style=white-space:pre-wrap>/usr/lib/R/library                           </span></td><td><span style=white-space:pre-wrap>1.8-40  </span></td><td>recommended</td><td><span style=white-space:pre-wrap>R (&gt;= 3.6.0), nlme (&gt;= 3.1-64)                 </span></td><td>methods, stats, graphics, Matrix, splines, utils</td><td>NA</td><td><span style=white-space:pre-wrap>parallel, survival, MASS                                          </span></td><td><span style=white-space:pre-wrap>NA                                                                 </span></td><td><span style=white-space:pre-wrap>GPL (&gt;= 2)               </span></td><td>NA</td><td>NA</td><td>NA</td><td>NA</td><td>yes</td><td>4.1.3</td></tr>\n",
       "\t<tr><th scope=row>nlme</th><td><span style=white-space:pre-wrap>nlme      </span></td><td><span style=white-space:pre-wrap>/usr/lib/R/library                           </span></td><td>3.1-159 </td><td>recommended</td><td><span style=white-space:pre-wrap>R (&gt;= 3.5.0)                                   </span></td><td><span style=white-space:pre-wrap>graphics, stats, utils, lattice                 </span></td><td>NA</td><td><span style=white-space:pre-wrap>Hmisc, MASS, SASmixed                                             </span></td><td><span style=white-space:pre-wrap>NA                                                                 </span></td><td><span style=white-space:pre-wrap>GPL (&gt;= 2)               </span></td><td>NA</td><td>NA</td><td>NA</td><td>NA</td><td>yes</td><td>4.2.1</td></tr>\n",
       "\t<tr><th scope=row>nnet</th><td><span style=white-space:pre-wrap>nnet      </span></td><td><span style=white-space:pre-wrap>/usr/lib/R/library                           </span></td><td><span style=white-space:pre-wrap>7.3-18  </span></td><td>recommended</td><td><span style=white-space:pre-wrap>R (&gt;= 3.0.0), stats, utils                     </span></td><td><span style=white-space:pre-wrap>NA                                              </span></td><td>NA</td><td><span style=white-space:pre-wrap>MASS                                                              </span></td><td><span style=white-space:pre-wrap>NA                                                                 </span></td><td><span style=white-space:pre-wrap>GPL-2 | GPL-3            </span></td><td>NA</td><td>NA</td><td>NA</td><td>NA</td><td>yes</td><td>4.2.1</td></tr>\n",
       "\t<tr><th scope=row>parallel</th><td>parallel  </td><td>/usr/lib/R/library                           </td><td>4.2.1   </td><td>base       </td><td>NA                                             </td><td>tools, compiler                                 </td><td>NA</td><td>methods                                                           </td><td>snow, nws, Rmpi                                                    </td><td>Part of R 4.2.1          </td><td>NA</td><td>NA</td><td>NA</td><td>NA</td><td>yes</td><td>4.2.1</td></tr>\n",
       "\t<tr><th scope=row>rpart</th><td><span style=white-space:pre-wrap>rpart     </span></td><td><span style=white-space:pre-wrap>/usr/lib/R/library                           </span></td><td><span style=white-space:pre-wrap>4.1.16  </span></td><td>recommended</td><td><span style=white-space:pre-wrap>R (&gt;= 2.15.0), graphics, stats, grDevices      </span></td><td><span style=white-space:pre-wrap>NA                                              </span></td><td>NA</td><td><span style=white-space:pre-wrap>survival                                                          </span></td><td><span style=white-space:pre-wrap>NA                                                                 </span></td><td><span style=white-space:pre-wrap>GPL-2 | GPL-3            </span></td><td>NA</td><td>NA</td><td>NA</td><td>NA</td><td>yes</td><td>4.1.2</td></tr>\n",
       "\t<tr><th scope=row>spatial</th><td><span style=white-space:pre-wrap>spatial   </span></td><td><span style=white-space:pre-wrap>/usr/lib/R/library                           </span></td><td><span style=white-space:pre-wrap>7.3-15  </span></td><td>recommended</td><td><span style=white-space:pre-wrap>R (&gt;= 3.0.0), graphics, stats, utils           </span></td><td><span style=white-space:pre-wrap>NA                                              </span></td><td>NA</td><td><span style=white-space:pre-wrap>MASS                                                              </span></td><td><span style=white-space:pre-wrap>NA                                                                 </span></td><td><span style=white-space:pre-wrap>GPL-2 | GPL-3            </span></td><td>NA</td><td>NA</td><td>NA</td><td>NA</td><td>yes</td><td>4.1.2</td></tr>\n",
       "\t<tr><th scope=row>splines</th><td>splines   </td><td>/usr/lib/R/library                           </td><td>4.2.1   </td><td>base       </td><td>NA                                             </td><td>graphics, stats                                 </td><td>NA</td><td>Matrix, methods                                                   </td><td>NA                                                                 </td><td>Part of R 4.2.1          </td><td>NA</td><td>NA</td><td>NA</td><td>NA</td><td>yes</td><td>4.2.1</td></tr>\n",
       "\t<tr><th scope=row>stats</th><td>stats     </td><td>/usr/lib/R/library                           </td><td>4.2.1   </td><td>base       </td><td>NA                                             </td><td>utils, grDevices, graphics                      </td><td>NA</td><td>MASS, Matrix, SuppDists, methods, stats4                          </td><td>NA                                                                 </td><td>Part of R 4.2.1          </td><td>NA</td><td>NA</td><td>NA</td><td>NA</td><td>yes</td><td>4.2.1</td></tr>\n",
       "\t<tr><th scope=row>stats4</th><td>stats4    </td><td>/usr/lib/R/library                           </td><td>4.2.1   </td><td>base       </td><td>NA                                             </td><td>graphics, methods, stats                        </td><td>NA</td><td>NA                                                                </td><td>NA                                                                 </td><td>Part of R 4.2.1          </td><td>NA</td><td>NA</td><td>NA</td><td>NA</td><td>NA </td><td>4.2.1</td></tr>\n",
       "\t<tr><th scope=row>survival</th><td><span style=white-space:pre-wrap>survival  </span></td><td><span style=white-space:pre-wrap>/usr/lib/R/library                           </span></td><td><span style=white-space:pre-wrap>3.4-0   </span></td><td>recommended</td><td><span style=white-space:pre-wrap>R (&gt;= 3.5.0)                                   </span></td><td>graphics, Matrix, methods, splines, stats, utils</td><td>NA</td><td><span style=white-space:pre-wrap>NA                                                                </span></td><td><span style=white-space:pre-wrap>NA                                                                 </span></td><td><span style=white-space:pre-wrap>LGPL (&gt;= 2)              </span></td><td>NA</td><td>NA</td><td>NA</td><td>NA</td><td>yes</td><td>4.2.1</td></tr>\n",
       "\t<tr><th scope=row>tcltk</th><td>tcltk     </td><td>/usr/lib/R/library                           </td><td>4.2.1   </td><td>base       </td><td>NA                                             </td><td>utils                                           </td><td>NA</td><td>NA                                                                </td><td>NA                                                                 </td><td>Part of R 4.2.1          </td><td>NA</td><td>NA</td><td>NA</td><td>NA</td><td>yes</td><td>4.2.1</td></tr>\n",
       "\t<tr><th scope=row>tools</th><td>tools     </td><td>/usr/lib/R/library                           </td><td>4.2.1   </td><td>base       </td><td>NA                                             </td><td>NA                                              </td><td>NA</td><td>codetools, methods, xml2, curl, commonmark, knitr, xfun,\n",
       "mathjaxr</td><td>NA                                                                 </td><td>Part of R 4.2.1          </td><td>NA</td><td>NA</td><td>NA</td><td>NA</td><td>yes</td><td>4.2.1</td></tr>\n",
       "\t<tr><th scope=row>utils</th><td>utils     </td><td>/usr/lib/R/library                           </td><td>4.2.1   </td><td>base       </td><td>NA                                             </td><td>NA                                              </td><td>NA</td><td>methods, xml2, commonmark, knitr                                  </td><td>NA                                                                 </td><td>Part of R 4.2.1          </td><td>NA</td><td>NA</td><td>NA</td><td>NA</td><td>yes</td><td>4.2.1</td></tr>\n",
       "</tbody>\n",
       "</table>\n"
      ],
      "text/latex": [
       "A matrix: 72 × 16 of type chr\n",
       "\\begin{tabular}{r|llllllllllllllll}\n",
       "  & Package & LibPath & Version & Priority & Depends & Imports & LinkingTo & Suggests & Enhances & License & License\\_is\\_FOSS & License\\_restricts\\_use & OS\\_type & MD5sum & NeedsCompilation & Built\\\\\n",
       "\\hline\n",
       "\tAGD & AGD         & /home/vivek/R/x86\\_64-pc-linux-gnu-library/4.2 & 0.39   & NA & R (>= 2.10.0)                                                                                                             & gamlss, gamlss.dist                                                                                                                            & NA   & NA                                                                                                                                                                                                                                                                            & NA    & GPL-2 \\textbar{} GPL-3                  & NA & NA & NA & NA & no  & 4.2.1\\\\\n",
       "\tbase64enc & base64enc   & /home/vivek/R/x86\\_64-pc-linux-gnu-library/4.2 & 0.1-3  & NA & R (>= 2.9.0)                                                                                                              & NA                                                                                                                                             & NA   & NA                                                                                                                                                                                                                                                                            & png   & GPL-2 \\textbar{} GPL-3                  & NA & NA & NA & NA & yes & 4.2.1\\\\\n",
       "\tcli & cli         & /home/vivek/R/x86\\_64-pc-linux-gnu-library/4.2 & 3.4.1  & NA & R (>= 3.4)                                                                                                                & utils                                                                                                                                          & NA   & callr, covr, digest, glue (>= 1.6.0), grDevices, htmltools,\n",
       "htmlwidgets, knitr, methods, mockery, processx, ps (>=\n",
       "1.3.4.9000), rlang (>= 1.0.2.9003), rmarkdown, rprojroot,\n",
       "rstudioapi, testthat, tibble, whoami, withr                                                   & NA    & MIT + file LICENSE             & NA & NA & NA & NA & yes & 4.2.1\\\\\n",
       "\tcolorspace & colorspace  & /home/vivek/R/x86\\_64-pc-linux-gnu-library/4.2 & 2.0-3  & NA & R (>= 3.0.0), methods                                                                                                     & graphics, grDevices, stats                                                                                                                     & NA   & datasets, utils, KernSmooth, MASS, kernlab, mvtnorm, vcd,\n",
       "tcltk, shiny, shinyjs, ggplot2, dplyr, scales, grid, png, jpeg,\n",
       "knitr, rmarkdown, RColorBrewer, rcartocolor, scico, viridis,\n",
       "wesanderson                                                                         & NA    & BSD\\_3\\_clause + file LICENSE    & NA & NA & NA & NA & yes & 4.2.1\\\\\n",
       "\tcrayon & crayon      & /home/vivek/R/x86\\_64-pc-linux-gnu-library/4.2 & 1.5.2  & NA & NA                                                                                                                        & grDevices, methods, utils                                                                                                                      & NA   & mockery, rstudioapi, testthat, withr                                                                                                                                                                                                                                          & NA    & MIT + file LICENSE             & NA & NA & NA & NA & no  & 4.2.1\\\\\n",
       "\tdigest & digest      & /home/vivek/R/x86\\_64-pc-linux-gnu-library/4.2 & 0.6.29 & NA & R (>= 3.3.0)                                                                                                              & utils                                                                                                                                          & NA   & tinytest, simplermarkdown                                                                                                                                                                                                                                                     & NA    & GPL (>= 2)                     & NA & NA & NA & NA & yes & 4.2.1\\\\\n",
       "\tevaluate & evaluate    & /home/vivek/R/x86\\_64-pc-linux-gnu-library/4.2 & 0.17   & NA & R (>= 3.0.2)                                                                                                              & methods                                                                                                                                        & NA   & covr, ggplot2, lattice, testthat                                                                                                                                                                                                                                              & NA    & MIT + file LICENSE             & NA & NA & NA & NA & no  & 4.2.1\\\\\n",
       "\tfansi & fansi       & /home/vivek/R/x86\\_64-pc-linux-gnu-library/4.2 & 1.0.3  & NA & R (>= 3.1.0)                                                                                                              & grDevices, utils                                                                                                                               & NA   & unitizer, knitr, rmarkdown                                                                                                                                                                                                                                                    & NA    & GPL-2 \\textbar{} GPL-3                  & NA & NA & NA & NA & yes & 4.2.1\\\\\n",
       "\tfarver & farver      & /home/vivek/R/x86\\_64-pc-linux-gnu-library/4.2 & 2.1.1  & NA & NA                                                                                                                        & NA                                                                                                                                             & NA   & covr, testthat (>= 3.0.0)                                                                                                                                                                                                                                                     & NA    & MIT + file LICENSE             & NA & NA & NA & NA & yes & 4.2.1\\\\\n",
       "\tfastmap & fastmap     & /home/vivek/R/x86\\_64-pc-linux-gnu-library/4.2 & 1.1.0  & NA & NA                                                                                                                        & NA                                                                                                                                             & NA   & testthat (>= 2.1.1)                                                                                                                                                                                                                                                           & NA    & MIT + file LICENSE             & NA & NA & NA & NA & yes & 4.2.1\\\\\n",
       "\tgamlss & gamlss      & /home/vivek/R/x86\\_64-pc-linux-gnu-library/4.2 & 5.4-3  & NA & R (>= 3.3.0), graphics, stats, splines, utils, grDevices,\n",
       "gamlss.data (>= 5.0-0), gamlss.dist (>= 4.3.1), nlme, parallel & MASS, survival, methods                                                                                                                        & NA   & NA                                                                                                                                                                                                                                                                            & NA    & GPL-2 \\textbar{} GPL-3                  & NA & NA & NA & NA & yes & 4.2.1\\\\\n",
       "\tgamlss.data & gamlss.data & /home/vivek/R/x86\\_64-pc-linux-gnu-library/4.2 & 6.0-2  & NA & R (>= 3.5.0)                                                                                                              & NA                                                                                                                                             & NA   & NA                                                                                                                                                                                                                                                                            & NA    & GPL-2 \\textbar{} GPL-3                  & NA & NA & NA & NA & no  & 4.2.1\\\\\n",
       "\tgamlss.dist & gamlss.dist & /home/vivek/R/x86\\_64-pc-linux-gnu-library/4.2 & 6.0-5  & NA & R (>= 3.5.0), MASS, graphics, stats, methods, grDevices                                                                   & NA                                                                                                                                             & NA   & NA                                                                                                                                                                                                                                                                            & NA    & GPL-2 \\textbar{} GPL-3                  & NA & NA & NA & NA & yes & 4.2.1\\\\\n",
       "\tggplot2 & ggplot2     & /home/vivek/R/x86\\_64-pc-linux-gnu-library/4.2 & 3.3.6  & NA & R (>= 3.3)                                                                                                                & digest, glue, grDevices, grid, gtable (>= 0.1.1), isoband,\n",
       "MASS, mgcv, rlang (>= 0.4.10), scales (>= 0.5.0), stats,\n",
       "tibble, withr (>= 2.0.0) & NA   & covr, ragg, dplyr, ggplot2movies, hexbin, Hmisc, interp,\n",
       "knitr, lattice, mapproj, maps, maptools, multcomp, munsell,\n",
       "nlme, profvis, quantreg, RColorBrewer, rgeos, rmarkdown, rpart,\n",
       "sf (>= 0.7-3), svglite (>= 1.2.0.9001), testthat (>= 2.1.0),\n",
       "vdiffr (>= 1.0.0), xml2 & sp    & MIT + file LICENSE             & NA & NA & NA & NA & no  & 4.2.1\\\\\n",
       "\tglue & glue        & /home/vivek/R/x86\\_64-pc-linux-gnu-library/4.2 & 1.6.2  & NA & R (>= 3.4)                                                                                                                & methods                                                                                                                                        & NA   & covr, crayon, DBI, dplyr, forcats, ggplot2, knitr, magrittr,\n",
       "microbenchmark, R.utils, rmarkdown, rprintf, RSQLite, stringr,\n",
       "testthat (>= 3.0.0), vctrs (>= 0.3.0), waldo (>= 0.3.0), withr                                                                                  & NA    & MIT + file LICENSE             & NA & NA & NA & NA & yes & 4.2.1\\\\\n",
       "\tgtable & gtable      & /home/vivek/R/x86\\_64-pc-linux-gnu-library/4.2 & 0.3.1  & NA & R (>= 3.0)                                                                                                                & grid                                                                                                                                           & NA   & covr, testthat, knitr, rmarkdown, ggplot2, profvis                                                                                                                                                                                                                            & NA    & MIT + file LICENSE             & NA & NA & NA & NA & no  & 4.2.1\\\\\n",
       "\thtmltools & htmltools   & /home/vivek/R/x86\\_64-pc-linux-gnu-library/4.2 & 0.5.3  & NA & R (>= 2.14.1)                                                                                                             & utils, digest, grDevices, base64enc, rlang (>= 0.4.10),\n",
       "fastmap (>= 1.1.0)                                                                    & NA   & markdown, testthat, withr, Cairo, ragg, shiny                                                                                                                                                                                                                                 & knitr & GPL (>= 2)                     & NA & NA & NA & NA & yes & 4.2.1\\\\\n",
       "\tIRdisplay & IRdisplay   & /home/vivek/R/x86\\_64-pc-linux-gnu-library/4.2 & 1.1    & NA & R (>= 3.0.1)                                                                                                              & methods, repr                                                                                                                                  & NA   & testthat, withr                                                                                                                                                                                                                                                               & NA    & MIT + file LICENSE             & NA & NA & NA & NA & no  & 4.2.1\\\\\n",
       "\tIRkernel & IRkernel    & /home/vivek/R/x86\\_64-pc-linux-gnu-library/4.2 & 1.3    & NA & R (>= 3.2.0)                                                                                                              & repr (>= 0.4.99), methods, evaluate (>= 0.10), IRdisplay (>=\n",
       "0.3.0.9999), pbdZMQ (>= 0.2-1), crayon, jsonlite (>= 0.9.6),\n",
       "uuid, digest       & NA   & testthat, roxygen2                                                                                                                                                                                                                                                            & NA    & MIT + file LICENSE             & NA & NA & NA & NA & no  & 4.2.1\\\\\n",
       "\tisoband & isoband     & /home/vivek/R/x86\\_64-pc-linux-gnu-library/4.2 & 0.2.6  & NA & NA                                                                                                                        & grid, utils                                                                                                                                    & NA   & covr, ggplot2, knitr, magick, microbenchmark, rmarkdown, sf,\n",
       "testthat, xml2                                                                                                                                                                                                  & NA    & MIT + file LICENSE             & NA & NA & NA & NA & yes & 4.2.1\\\\\n",
       "\tjsonlite & jsonlite    & /home/vivek/R/x86\\_64-pc-linux-gnu-library/4.2 & 1.8.2  & NA & methods                                                                                                                   & NA                                                                                                                                             & NA   & httr, vctrs, testthat, knitr, rmarkdown, R.rsp, sf                                                                                                                                                                                                                            & NA    & MIT + file LICENSE             & NA & NA & NA & NA & yes & 4.2.1\\\\\n",
       "\tlabeling & labeling    & /home/vivek/R/x86\\_64-pc-linux-gnu-library/4.2 & 0.4.2  & NA & NA                                                                                                                        & stats, graphics                                                                                                                                & NA   & NA                                                                                                                                                                                                                                                                            & NA    & MIT + file LICENSE \\textbar{} Unlimited & NA & NA & NA & NA & no  & 4.2.1\\\\\n",
       "\tlifecycle & lifecycle   & /home/vivek/R/x86\\_64-pc-linux-gnu-library/4.2 & 1.0.3  & NA & R (>= 3.4)                                                                                                                & cli (>= 3.4.0), glue, rlang (>= 1.0.6)                                                                                                         & NA   & covr, crayon, knitr, lintr, rmarkdown, testthat (>= 3.0.1),\n",
       "tibble, tidyverse, tools, vctrs, withr                                                                                                                                                                           & NA    & MIT + file LICENSE             & NA & NA & NA & NA & no  & 4.2.1\\\\\n",
       "\tmagrittr & magrittr    & /home/vivek/R/x86\\_64-pc-linux-gnu-library/4.2 & 2.0.3  & NA & R (>= 3.4.0)                                                                                                              & NA                                                                                                                                             & NA   & covr, knitr, rlang, rmarkdown, testthat                                                                                                                                                                                                                                       & NA    & MIT + file LICENSE             & NA & NA & NA & NA & yes & 4.2.1\\\\\n",
       "\tmunsell & munsell     & /home/vivek/R/x86\\_64-pc-linux-gnu-library/4.2 & 0.5.0  & NA & NA                                                                                                                        & colorspace, methods                                                                                                                            & NA   & ggplot2, testthat                                                                                                                                                                                                                                                             & NA    & MIT + file LICENSE             & NA & NA & NA & NA & no  & 4.2.1\\\\\n",
       "\topenxlsx & openxlsx    & /home/vivek/R/x86\\_64-pc-linux-gnu-library/4.2 & 4.2.5  & NA & R (>= 3.3.0)                                                                                                              & grDevices, methods, Rcpp, stats, stringi, utils, zip                                                                                           & Rcpp & knitr, rmarkdown, roxygen2, testthat                                                                                                                                                                                                                                          & NA    & MIT + file LICENSE             & NA & NA & NA & NA & yes & 4.2.1\\\\\n",
       "\tpbdZMQ & pbdZMQ      & /home/vivek/R/x86\\_64-pc-linux-gnu-library/4.2 & 0.3-7  & NA & R (>= 3.5.0)                                                                                                              & NA                                                                                                                                             & NA   & NA                                                                                                                                                                                                                                                                            & NA    & GPL-3                          & NA & NA & NA & NA & yes & 4.2.1\\\\\n",
       "\tpillar & pillar      & /home/vivek/R/x86\\_64-pc-linux-gnu-library/4.2 & 1.8.1  & NA & NA                                                                                                                        & cli (>= 2.3.0), fansi, glue, lifecycle, rlang (>= 1.0.2), utf8\n",
       "(>= 1.1.0), utils, vctrs (>= 0.3.8)                                            & NA   & bit64, debugme, DiagrammeR, dplyr, formattable, ggplot2,\n",
       "knitr, lubridate, nanotime, nycflights13, palmerpenguins,\n",
       "rmarkdown, scales, stringi, survival, testthat (>= 3.1.1),\n",
       "tibble, units (>= 0.7.2), vdiffr, withr                                                      & NA    & MIT + file LICENSE             & NA & NA & NA & NA & no  & 4.2.1\\\\\n",
       "\tpkgconfig & pkgconfig   & /home/vivek/R/x86\\_64-pc-linux-gnu-library/4.2 & 2.0.3  & NA & NA                                                                                                                        & utils                                                                                                                                          & NA   & covr, testthat, disposables (>= 1.0.3)                                                                                                                                                                                                                                        & NA    & MIT + file LICENSE             & NA & NA & NA & NA & no  & 4.2.1\\\\\n",
       "\tR6 & R6          & /home/vivek/R/x86\\_64-pc-linux-gnu-library/4.2 & 2.5.1  & NA & R (>= 3.0)                                                                                                                & NA                                                                                                                                             & NA   & testthat, pryr                                                                                                                                                                                                                                                                & NA    & MIT + file LICENSE             & NA & NA & NA & NA & no  & 4.2.1\\\\\n",
       "\t⋮ & ⋮ & ⋮ & ⋮ & ⋮ & ⋮ & ⋮ & ⋮ & ⋮ & ⋮ & ⋮ & ⋮ & ⋮ & ⋮ & ⋮ & ⋮ & ⋮\\\\\n",
       "\tzip & zip        & /home/vivek/R/x86\\_64-pc-linux-gnu-library/4.2 & 2.2.1    & NA          & NA                                              & NA                                               & NA & covr, processx, R6, testthat, withr                                & NA                                                                  & MIT + file LICENSE        & NA & NA & NA & NA & yes & 4.2.1\\\\\n",
       "\tbase & base       & /usr/lib/R/library                            & 4.2.1    & base        & NA                                              & NA                                               & NA & methods                                                            & NA                                                                  & Part of R 4.2.1           & NA & NA & NA & NA & NA  & 4.2.1\\\\\n",
       "\tboot & boot       & /usr/lib/R/library                            & 1.3-28   & recommended & R (>= 3.0.0), graphics, stats                   & NA                                               & NA & MASS, survival                                                     & NA                                                                  & Unlimited                 & NA & NA & NA & NA & no  & 4.0.5\\\\\n",
       "\tclass & class      & /usr/lib/R/library                            & 7.3-20   & recommended & R (>= 3.0.0), stats, utils                      & MASS                                             & NA & NA                                                                 & NA                                                                  & GPL-2 \\textbar{} GPL-3             & NA & NA & NA & NA & yes & 4.1.2\\\\\n",
       "\tcluster & cluster    & /usr/lib/R/library                            & 2.1.4    & recommended & R (>= 3.5.0)                                    & graphics, grDevices, stats, utils                & NA & MASS, Matrix                                                       & NA                                                                  & GPL (>= 2)                & NA & NA & NA & NA & yes & 4.2.1\\\\\n",
       "\tcodetools & codetools  & /usr/lib/R/library                            & 0.2-18   & recommended & R (>= 2.1)                                      & NA                                               & NA & NA                                                                 & NA                                                                  & GPL                       & NA & NA & NA & NA & no  & 4.0.3\\\\\n",
       "\tcompiler & compiler   & /usr/lib/R/library                            & 4.2.1    & base        & NA                                              & NA                                               & NA & NA                                                                 & NA                                                                  & Part of R 4.2.1           & NA & NA & NA & NA & NA  & 4.2.1\\\\\n",
       "\tdatasets & datasets   & /usr/lib/R/library                            & 4.2.1    & base        & NA                                              & NA                                               & NA & NA                                                                 & NA                                                                  & Part of R 4.2.1           & NA & NA & NA & NA & NA  & 4.2.1\\\\\n",
       "\tforeign & foreign    & /usr/lib/R/library                            & 0.8-82   & recommended & R (>= 4.0.0)                                    & methods, utils, stats                            & NA & NA                                                                 & NA                                                                  & GPL (>= 2)                & NA & NA & NA & NA & yes & 4.1.2\\\\\n",
       "\tgraphics & graphics   & /usr/lib/R/library                            & 4.2.1    & base        & NA                                              & grDevices                                        & NA & NA                                                                 & NA                                                                  & Part of R 4.2.1           & NA & NA & NA & NA & yes & 4.2.1\\\\\n",
       "\tgrDevices & grDevices  & /usr/lib/R/library                            & 4.2.1    & base        & NA                                              & NA                                               & NA & KernSmooth                                                         & NA                                                                  & Part of R 4.2.1           & NA & NA & NA & NA & yes & 4.2.1\\\\\n",
       "\tgrid & grid       & /usr/lib/R/library                            & 4.2.1    & base        & NA                                              & grDevices, utils                                 & NA & NA                                                                 & NA                                                                  & Part of R 4.2.1           & NA & NA & NA & NA & yes & 4.2.1\\\\\n",
       "\tKernSmooth & KernSmooth & /usr/lib/R/library                            & 2.23-20  & recommended & R (>= 2.5.0), stats                             & NA                                               & NA & MASS, carData                                                      & NA                                                                  & Unlimited                 & NA & NA & NA & NA & yes & 4.0.5\\\\\n",
       "\tlattice & lattice    & /usr/lib/R/library                            & 0.20-45  & recommended & R (>= 3.0.0)                                    & grid, grDevices, graphics, stats, utils          & NA & KernSmooth, MASS, latticeExtra                                     & chron                                                               & GPL (>= 2)                & NA & NA & NA & NA & yes & 4.2.0\\\\\n",
       "\tMASS & MASS       & /usr/lib/R/library                            & 7.3-58.1 & recommended & R (>= 3.3.0), grDevices, graphics, stats, utils & methods                                          & NA & lattice, nlme, nnet, survival                                      & NA                                                                  & GPL-2 \\textbar{} GPL-3             & NA & NA & NA & NA & yes & 4.2.1\\\\\n",
       "\tMatrix & Matrix     & /usr/lib/R/library                            & 1.5-1    & recommended & R (>= 3.5.0)                                    & methods, graphics, grid, stats, utils, lattice   & NA & expm, MASS                                                         & MatrixModels, graph, SparseM, sfsmisc, igraph, maptools, sp,\n",
       "spdep & GPL (>= 2) \\textbar{} file LICENCE & NA & NA & NA & NA & yes & 4.2.1\\\\\n",
       "\tmethods & methods    & /usr/lib/R/library                            & 4.2.1    & base        & NA                                              & utils, stats                                     & NA & codetools                                                          & NA                                                                  & Part of R 4.2.1           & NA & NA & NA & NA & yes & 4.2.1\\\\\n",
       "\tmgcv & mgcv       & /usr/lib/R/library                            & 1.8-40   & recommended & R (>= 3.6.0), nlme (>= 3.1-64)                  & methods, stats, graphics, Matrix, splines, utils & NA & parallel, survival, MASS                                           & NA                                                                  & GPL (>= 2)                & NA & NA & NA & NA & yes & 4.1.3\\\\\n",
       "\tnlme & nlme       & /usr/lib/R/library                            & 3.1-159  & recommended & R (>= 3.5.0)                                    & graphics, stats, utils, lattice                  & NA & Hmisc, MASS, SASmixed                                              & NA                                                                  & GPL (>= 2)                & NA & NA & NA & NA & yes & 4.2.1\\\\\n",
       "\tnnet & nnet       & /usr/lib/R/library                            & 7.3-18   & recommended & R (>= 3.0.0), stats, utils                      & NA                                               & NA & MASS                                                               & NA                                                                  & GPL-2 \\textbar{} GPL-3             & NA & NA & NA & NA & yes & 4.2.1\\\\\n",
       "\tparallel & parallel   & /usr/lib/R/library                            & 4.2.1    & base        & NA                                              & tools, compiler                                  & NA & methods                                                            & snow, nws, Rmpi                                                     & Part of R 4.2.1           & NA & NA & NA & NA & yes & 4.2.1\\\\\n",
       "\trpart & rpart      & /usr/lib/R/library                            & 4.1.16   & recommended & R (>= 2.15.0), graphics, stats, grDevices       & NA                                               & NA & survival                                                           & NA                                                                  & GPL-2 \\textbar{} GPL-3             & NA & NA & NA & NA & yes & 4.1.2\\\\\n",
       "\tspatial & spatial    & /usr/lib/R/library                            & 7.3-15   & recommended & R (>= 3.0.0), graphics, stats, utils            & NA                                               & NA & MASS                                                               & NA                                                                  & GPL-2 \\textbar{} GPL-3             & NA & NA & NA & NA & yes & 4.1.2\\\\\n",
       "\tsplines & splines    & /usr/lib/R/library                            & 4.2.1    & base        & NA                                              & graphics, stats                                  & NA & Matrix, methods                                                    & NA                                                                  & Part of R 4.2.1           & NA & NA & NA & NA & yes & 4.2.1\\\\\n",
       "\tstats & stats      & /usr/lib/R/library                            & 4.2.1    & base        & NA                                              & utils, grDevices, graphics                       & NA & MASS, Matrix, SuppDists, methods, stats4                           & NA                                                                  & Part of R 4.2.1           & NA & NA & NA & NA & yes & 4.2.1\\\\\n",
       "\tstats4 & stats4     & /usr/lib/R/library                            & 4.2.1    & base        & NA                                              & graphics, methods, stats                         & NA & NA                                                                 & NA                                                                  & Part of R 4.2.1           & NA & NA & NA & NA & NA  & 4.2.1\\\\\n",
       "\tsurvival & survival   & /usr/lib/R/library                            & 3.4-0    & recommended & R (>= 3.5.0)                                    & graphics, Matrix, methods, splines, stats, utils & NA & NA                                                                 & NA                                                                  & LGPL (>= 2)               & NA & NA & NA & NA & yes & 4.2.1\\\\\n",
       "\ttcltk & tcltk      & /usr/lib/R/library                            & 4.2.1    & base        & NA                                              & utils                                            & NA & NA                                                                 & NA                                                                  & Part of R 4.2.1           & NA & NA & NA & NA & yes & 4.2.1\\\\\n",
       "\ttools & tools      & /usr/lib/R/library                            & 4.2.1    & base        & NA                                              & NA                                               & NA & codetools, methods, xml2, curl, commonmark, knitr, xfun,\n",
       "mathjaxr & NA                                                                  & Part of R 4.2.1           & NA & NA & NA & NA & yes & 4.2.1\\\\\n",
       "\tutils & utils      & /usr/lib/R/library                            & 4.2.1    & base        & NA                                              & NA                                               & NA & methods, xml2, commonmark, knitr                                   & NA                                                                  & Part of R 4.2.1           & NA & NA & NA & NA & yes & 4.2.1\\\\\n",
       "\\end{tabular}\n"
      ],
      "text/markdown": [
       "\n",
       "A matrix: 72 × 16 of type chr\n",
       "\n",
       "| <!--/--> | Package | LibPath | Version | Priority | Depends | Imports | LinkingTo | Suggests | Enhances | License | License_is_FOSS | License_restricts_use | OS_type | MD5sum | NeedsCompilation | Built |\n",
       "|---|---|---|---|---|---|---|---|---|---|---|---|---|---|---|---|---|\n",
       "| AGD | AGD         | /home/vivek/R/x86_64-pc-linux-gnu-library/4.2 | 0.39   | NA | R (&gt;= 2.10.0)                                                                                                             | gamlss, gamlss.dist                                                                                                                            | NA   | NA                                                                                                                                                                                                                                                                            | NA    | GPL-2 | GPL-3                  | NA | NA | NA | NA | no  | 4.2.1 |\n",
       "| base64enc | base64enc   | /home/vivek/R/x86_64-pc-linux-gnu-library/4.2 | 0.1-3  | NA | R (&gt;= 2.9.0)                                                                                                              | NA                                                                                                                                             | NA   | NA                                                                                                                                                                                                                                                                            | png   | GPL-2 | GPL-3                  | NA | NA | NA | NA | yes | 4.2.1 |\n",
       "| cli | cli         | /home/vivek/R/x86_64-pc-linux-gnu-library/4.2 | 3.4.1  | NA | R (&gt;= 3.4)                                                                                                                | utils                                                                                                                                          | NA   | callr, covr, digest, glue (&gt;= 1.6.0), grDevices, htmltools,\n",
       "htmlwidgets, knitr, methods, mockery, processx, ps (&gt;=\n",
       "1.3.4.9000), rlang (&gt;= 1.0.2.9003), rmarkdown, rprojroot,\n",
       "rstudioapi, testthat, tibble, whoami, withr                                                   | NA    | MIT + file LICENSE             | NA | NA | NA | NA | yes | 4.2.1 |\n",
       "| colorspace | colorspace  | /home/vivek/R/x86_64-pc-linux-gnu-library/4.2 | 2.0-3  | NA | R (&gt;= 3.0.0), methods                                                                                                     | graphics, grDevices, stats                                                                                                                     | NA   | datasets, utils, KernSmooth, MASS, kernlab, mvtnorm, vcd,\n",
       "tcltk, shiny, shinyjs, ggplot2, dplyr, scales, grid, png, jpeg,\n",
       "knitr, rmarkdown, RColorBrewer, rcartocolor, scico, viridis,\n",
       "wesanderson                                                                         | NA    | BSD_3_clause + file LICENSE    | NA | NA | NA | NA | yes | 4.2.1 |\n",
       "| crayon | crayon      | /home/vivek/R/x86_64-pc-linux-gnu-library/4.2 | 1.5.2  | NA | NA                                                                                                                        | grDevices, methods, utils                                                                                                                      | NA   | mockery, rstudioapi, testthat, withr                                                                                                                                                                                                                                          | NA    | MIT + file LICENSE             | NA | NA | NA | NA | no  | 4.2.1 |\n",
       "| digest | digest      | /home/vivek/R/x86_64-pc-linux-gnu-library/4.2 | 0.6.29 | NA | R (&gt;= 3.3.0)                                                                                                              | utils                                                                                                                                          | NA   | tinytest, simplermarkdown                                                                                                                                                                                                                                                     | NA    | GPL (&gt;= 2)                     | NA | NA | NA | NA | yes | 4.2.1 |\n",
       "| evaluate | evaluate    | /home/vivek/R/x86_64-pc-linux-gnu-library/4.2 | 0.17   | NA | R (&gt;= 3.0.2)                                                                                                              | methods                                                                                                                                        | NA   | covr, ggplot2, lattice, testthat                                                                                                                                                                                                                                              | NA    | MIT + file LICENSE             | NA | NA | NA | NA | no  | 4.2.1 |\n",
       "| fansi | fansi       | /home/vivek/R/x86_64-pc-linux-gnu-library/4.2 | 1.0.3  | NA | R (&gt;= 3.1.0)                                                                                                              | grDevices, utils                                                                                                                               | NA   | unitizer, knitr, rmarkdown                                                                                                                                                                                                                                                    | NA    | GPL-2 | GPL-3                  | NA | NA | NA | NA | yes | 4.2.1 |\n",
       "| farver | farver      | /home/vivek/R/x86_64-pc-linux-gnu-library/4.2 | 2.1.1  | NA | NA                                                                                                                        | NA                                                                                                                                             | NA   | covr, testthat (&gt;= 3.0.0)                                                                                                                                                                                                                                                     | NA    | MIT + file LICENSE             | NA | NA | NA | NA | yes | 4.2.1 |\n",
       "| fastmap | fastmap     | /home/vivek/R/x86_64-pc-linux-gnu-library/4.2 | 1.1.0  | NA | NA                                                                                                                        | NA                                                                                                                                             | NA   | testthat (&gt;= 2.1.1)                                                                                                                                                                                                                                                           | NA    | MIT + file LICENSE             | NA | NA | NA | NA | yes | 4.2.1 |\n",
       "| gamlss | gamlss      | /home/vivek/R/x86_64-pc-linux-gnu-library/4.2 | 5.4-3  | NA | R (&gt;= 3.3.0), graphics, stats, splines, utils, grDevices,\n",
       "gamlss.data (&gt;= 5.0-0), gamlss.dist (&gt;= 4.3.1), nlme, parallel | MASS, survival, methods                                                                                                                        | NA   | NA                                                                                                                                                                                                                                                                            | NA    | GPL-2 | GPL-3                  | NA | NA | NA | NA | yes | 4.2.1 |\n",
       "| gamlss.data | gamlss.data | /home/vivek/R/x86_64-pc-linux-gnu-library/4.2 | 6.0-2  | NA | R (&gt;= 3.5.0)                                                                                                              | NA                                                                                                                                             | NA   | NA                                                                                                                                                                                                                                                                            | NA    | GPL-2 | GPL-3                  | NA | NA | NA | NA | no  | 4.2.1 |\n",
       "| gamlss.dist | gamlss.dist | /home/vivek/R/x86_64-pc-linux-gnu-library/4.2 | 6.0-5  | NA | R (&gt;= 3.5.0), MASS, graphics, stats, methods, grDevices                                                                   | NA                                                                                                                                             | NA   | NA                                                                                                                                                                                                                                                                            | NA    | GPL-2 | GPL-3                  | NA | NA | NA | NA | yes | 4.2.1 |\n",
       "| ggplot2 | ggplot2     | /home/vivek/R/x86_64-pc-linux-gnu-library/4.2 | 3.3.6  | NA | R (&gt;= 3.3)                                                                                                                | digest, glue, grDevices, grid, gtable (&gt;= 0.1.1), isoband,\n",
       "MASS, mgcv, rlang (&gt;= 0.4.10), scales (&gt;= 0.5.0), stats,\n",
       "tibble, withr (&gt;= 2.0.0) | NA   | covr, ragg, dplyr, ggplot2movies, hexbin, Hmisc, interp,\n",
       "knitr, lattice, mapproj, maps, maptools, multcomp, munsell,\n",
       "nlme, profvis, quantreg, RColorBrewer, rgeos, rmarkdown, rpart,\n",
       "sf (&gt;= 0.7-3), svglite (&gt;= 1.2.0.9001), testthat (&gt;= 2.1.0),\n",
       "vdiffr (&gt;= 1.0.0), xml2 | sp    | MIT + file LICENSE             | NA | NA | NA | NA | no  | 4.2.1 |\n",
       "| glue | glue        | /home/vivek/R/x86_64-pc-linux-gnu-library/4.2 | 1.6.2  | NA | R (&gt;= 3.4)                                                                                                                | methods                                                                                                                                        | NA   | covr, crayon, DBI, dplyr, forcats, ggplot2, knitr, magrittr,\n",
       "microbenchmark, R.utils, rmarkdown, rprintf, RSQLite, stringr,\n",
       "testthat (&gt;= 3.0.0), vctrs (&gt;= 0.3.0), waldo (&gt;= 0.3.0), withr                                                                                  | NA    | MIT + file LICENSE             | NA | NA | NA | NA | yes | 4.2.1 |\n",
       "| gtable | gtable      | /home/vivek/R/x86_64-pc-linux-gnu-library/4.2 | 0.3.1  | NA | R (&gt;= 3.0)                                                                                                                | grid                                                                                                                                           | NA   | covr, testthat, knitr, rmarkdown, ggplot2, profvis                                                                                                                                                                                                                            | NA    | MIT + file LICENSE             | NA | NA | NA | NA | no  | 4.2.1 |\n",
       "| htmltools | htmltools   | /home/vivek/R/x86_64-pc-linux-gnu-library/4.2 | 0.5.3  | NA | R (&gt;= 2.14.1)                                                                                                             | utils, digest, grDevices, base64enc, rlang (&gt;= 0.4.10),\n",
       "fastmap (&gt;= 1.1.0)                                                                    | NA   | markdown, testthat, withr, Cairo, ragg, shiny                                                                                                                                                                                                                                 | knitr | GPL (&gt;= 2)                     | NA | NA | NA | NA | yes | 4.2.1 |\n",
       "| IRdisplay | IRdisplay   | /home/vivek/R/x86_64-pc-linux-gnu-library/4.2 | 1.1    | NA | R (&gt;= 3.0.1)                                                                                                              | methods, repr                                                                                                                                  | NA   | testthat, withr                                                                                                                                                                                                                                                               | NA    | MIT + file LICENSE             | NA | NA | NA | NA | no  | 4.2.1 |\n",
       "| IRkernel | IRkernel    | /home/vivek/R/x86_64-pc-linux-gnu-library/4.2 | 1.3    | NA | R (&gt;= 3.2.0)                                                                                                              | repr (&gt;= 0.4.99), methods, evaluate (&gt;= 0.10), IRdisplay (&gt;=\n",
       "0.3.0.9999), pbdZMQ (&gt;= 0.2-1), crayon, jsonlite (&gt;= 0.9.6),\n",
       "uuid, digest       | NA   | testthat, roxygen2                                                                                                                                                                                                                                                            | NA    | MIT + file LICENSE             | NA | NA | NA | NA | no  | 4.2.1 |\n",
       "| isoband | isoband     | /home/vivek/R/x86_64-pc-linux-gnu-library/4.2 | 0.2.6  | NA | NA                                                                                                                        | grid, utils                                                                                                                                    | NA   | covr, ggplot2, knitr, magick, microbenchmark, rmarkdown, sf,\n",
       "testthat, xml2                                                                                                                                                                                                  | NA    | MIT + file LICENSE             | NA | NA | NA | NA | yes | 4.2.1 |\n",
       "| jsonlite | jsonlite    | /home/vivek/R/x86_64-pc-linux-gnu-library/4.2 | 1.8.2  | NA | methods                                                                                                                   | NA                                                                                                                                             | NA   | httr, vctrs, testthat, knitr, rmarkdown, R.rsp, sf                                                                                                                                                                                                                            | NA    | MIT + file LICENSE             | NA | NA | NA | NA | yes | 4.2.1 |\n",
       "| labeling | labeling    | /home/vivek/R/x86_64-pc-linux-gnu-library/4.2 | 0.4.2  | NA | NA                                                                                                                        | stats, graphics                                                                                                                                | NA   | NA                                                                                                                                                                                                                                                                            | NA    | MIT + file LICENSE | Unlimited | NA | NA | NA | NA | no  | 4.2.1 |\n",
       "| lifecycle | lifecycle   | /home/vivek/R/x86_64-pc-linux-gnu-library/4.2 | 1.0.3  | NA | R (&gt;= 3.4)                                                                                                                | cli (&gt;= 3.4.0), glue, rlang (&gt;= 1.0.6)                                                                                                         | NA   | covr, crayon, knitr, lintr, rmarkdown, testthat (&gt;= 3.0.1),\n",
       "tibble, tidyverse, tools, vctrs, withr                                                                                                                                                                           | NA    | MIT + file LICENSE             | NA | NA | NA | NA | no  | 4.2.1 |\n",
       "| magrittr | magrittr    | /home/vivek/R/x86_64-pc-linux-gnu-library/4.2 | 2.0.3  | NA | R (&gt;= 3.4.0)                                                                                                              | NA                                                                                                                                             | NA   | covr, knitr, rlang, rmarkdown, testthat                                                                                                                                                                                                                                       | NA    | MIT + file LICENSE             | NA | NA | NA | NA | yes | 4.2.1 |\n",
       "| munsell | munsell     | /home/vivek/R/x86_64-pc-linux-gnu-library/4.2 | 0.5.0  | NA | NA                                                                                                                        | colorspace, methods                                                                                                                            | NA   | ggplot2, testthat                                                                                                                                                                                                                                                             | NA    | MIT + file LICENSE             | NA | NA | NA | NA | no  | 4.2.1 |\n",
       "| openxlsx | openxlsx    | /home/vivek/R/x86_64-pc-linux-gnu-library/4.2 | 4.2.5  | NA | R (&gt;= 3.3.0)                                                                                                              | grDevices, methods, Rcpp, stats, stringi, utils, zip                                                                                           | Rcpp | knitr, rmarkdown, roxygen2, testthat                                                                                                                                                                                                                                          | NA    | MIT + file LICENSE             | NA | NA | NA | NA | yes | 4.2.1 |\n",
       "| pbdZMQ | pbdZMQ      | /home/vivek/R/x86_64-pc-linux-gnu-library/4.2 | 0.3-7  | NA | R (&gt;= 3.5.0)                                                                                                              | NA                                                                                                                                             | NA   | NA                                                                                                                                                                                                                                                                            | NA    | GPL-3                          | NA | NA | NA | NA | yes | 4.2.1 |\n",
       "| pillar | pillar      | /home/vivek/R/x86_64-pc-linux-gnu-library/4.2 | 1.8.1  | NA | NA                                                                                                                        | cli (&gt;= 2.3.0), fansi, glue, lifecycle, rlang (&gt;= 1.0.2), utf8\n",
       "(&gt;= 1.1.0), utils, vctrs (&gt;= 0.3.8)                                            | NA   | bit64, debugme, DiagrammeR, dplyr, formattable, ggplot2,\n",
       "knitr, lubridate, nanotime, nycflights13, palmerpenguins,\n",
       "rmarkdown, scales, stringi, survival, testthat (&gt;= 3.1.1),\n",
       "tibble, units (&gt;= 0.7.2), vdiffr, withr                                                      | NA    | MIT + file LICENSE             | NA | NA | NA | NA | no  | 4.2.1 |\n",
       "| pkgconfig | pkgconfig   | /home/vivek/R/x86_64-pc-linux-gnu-library/4.2 | 2.0.3  | NA | NA                                                                                                                        | utils                                                                                                                                          | NA   | covr, testthat, disposables (&gt;= 1.0.3)                                                                                                                                                                                                                                        | NA    | MIT + file LICENSE             | NA | NA | NA | NA | no  | 4.2.1 |\n",
       "| R6 | R6          | /home/vivek/R/x86_64-pc-linux-gnu-library/4.2 | 2.5.1  | NA | R (&gt;= 3.0)                                                                                                                | NA                                                                                                                                             | NA   | testthat, pryr                                                                                                                                                                                                                                                                | NA    | MIT + file LICENSE             | NA | NA | NA | NA | no  | 4.2.1 |\n",
       "| ⋮ | ⋮ | ⋮ | ⋮ | ⋮ | ⋮ | ⋮ | ⋮ | ⋮ | ⋮ | ⋮ | ⋮ | ⋮ | ⋮ | ⋮ | ⋮ | ⋮ |\n",
       "| zip | zip        | /home/vivek/R/x86_64-pc-linux-gnu-library/4.2 | 2.2.1    | NA          | NA                                              | NA                                               | NA | covr, processx, R6, testthat, withr                                | NA                                                                  | MIT + file LICENSE        | NA | NA | NA | NA | yes | 4.2.1 |\n",
       "| base | base       | /usr/lib/R/library                            | 4.2.1    | base        | NA                                              | NA                                               | NA | methods                                                            | NA                                                                  | Part of R 4.2.1           | NA | NA | NA | NA | NA  | 4.2.1 |\n",
       "| boot | boot       | /usr/lib/R/library                            | 1.3-28   | recommended | R (&gt;= 3.0.0), graphics, stats                   | NA                                               | NA | MASS, survival                                                     | NA                                                                  | Unlimited                 | NA | NA | NA | NA | no  | 4.0.5 |\n",
       "| class | class      | /usr/lib/R/library                            | 7.3-20   | recommended | R (&gt;= 3.0.0), stats, utils                      | MASS                                             | NA | NA                                                                 | NA                                                                  | GPL-2 | GPL-3             | NA | NA | NA | NA | yes | 4.1.2 |\n",
       "| cluster | cluster    | /usr/lib/R/library                            | 2.1.4    | recommended | R (&gt;= 3.5.0)                                    | graphics, grDevices, stats, utils                | NA | MASS, Matrix                                                       | NA                                                                  | GPL (&gt;= 2)                | NA | NA | NA | NA | yes | 4.2.1 |\n",
       "| codetools | codetools  | /usr/lib/R/library                            | 0.2-18   | recommended | R (&gt;= 2.1)                                      | NA                                               | NA | NA                                                                 | NA                                                                  | GPL                       | NA | NA | NA | NA | no  | 4.0.3 |\n",
       "| compiler | compiler   | /usr/lib/R/library                            | 4.2.1    | base        | NA                                              | NA                                               | NA | NA                                                                 | NA                                                                  | Part of R 4.2.1           | NA | NA | NA | NA | NA  | 4.2.1 |\n",
       "| datasets | datasets   | /usr/lib/R/library                            | 4.2.1    | base        | NA                                              | NA                                               | NA | NA                                                                 | NA                                                                  | Part of R 4.2.1           | NA | NA | NA | NA | NA  | 4.2.1 |\n",
       "| foreign | foreign    | /usr/lib/R/library                            | 0.8-82   | recommended | R (&gt;= 4.0.0)                                    | methods, utils, stats                            | NA | NA                                                                 | NA                                                                  | GPL (&gt;= 2)                | NA | NA | NA | NA | yes | 4.1.2 |\n",
       "| graphics | graphics   | /usr/lib/R/library                            | 4.2.1    | base        | NA                                              | grDevices                                        | NA | NA                                                                 | NA                                                                  | Part of R 4.2.1           | NA | NA | NA | NA | yes | 4.2.1 |\n",
       "| grDevices | grDevices  | /usr/lib/R/library                            | 4.2.1    | base        | NA                                              | NA                                               | NA | KernSmooth                                                         | NA                                                                  | Part of R 4.2.1           | NA | NA | NA | NA | yes | 4.2.1 |\n",
       "| grid | grid       | /usr/lib/R/library                            | 4.2.1    | base        | NA                                              | grDevices, utils                                 | NA | NA                                                                 | NA                                                                  | Part of R 4.2.1           | NA | NA | NA | NA | yes | 4.2.1 |\n",
       "| KernSmooth | KernSmooth | /usr/lib/R/library                            | 2.23-20  | recommended | R (&gt;= 2.5.0), stats                             | NA                                               | NA | MASS, carData                                                      | NA                                                                  | Unlimited                 | NA | NA | NA | NA | yes | 4.0.5 |\n",
       "| lattice | lattice    | /usr/lib/R/library                            | 0.20-45  | recommended | R (&gt;= 3.0.0)                                    | grid, grDevices, graphics, stats, utils          | NA | KernSmooth, MASS, latticeExtra                                     | chron                                                               | GPL (&gt;= 2)                | NA | NA | NA | NA | yes | 4.2.0 |\n",
       "| MASS | MASS       | /usr/lib/R/library                            | 7.3-58.1 | recommended | R (&gt;= 3.3.0), grDevices, graphics, stats, utils | methods                                          | NA | lattice, nlme, nnet, survival                                      | NA                                                                  | GPL-2 | GPL-3             | NA | NA | NA | NA | yes | 4.2.1 |\n",
       "| Matrix | Matrix     | /usr/lib/R/library                            | 1.5-1    | recommended | R (&gt;= 3.5.0)                                    | methods, graphics, grid, stats, utils, lattice   | NA | expm, MASS                                                         | MatrixModels, graph, SparseM, sfsmisc, igraph, maptools, sp,\n",
       "spdep | GPL (&gt;= 2) | file LICENCE | NA | NA | NA | NA | yes | 4.2.1 |\n",
       "| methods | methods    | /usr/lib/R/library                            | 4.2.1    | base        | NA                                              | utils, stats                                     | NA | codetools                                                          | NA                                                                  | Part of R 4.2.1           | NA | NA | NA | NA | yes | 4.2.1 |\n",
       "| mgcv | mgcv       | /usr/lib/R/library                            | 1.8-40   | recommended | R (&gt;= 3.6.0), nlme (&gt;= 3.1-64)                  | methods, stats, graphics, Matrix, splines, utils | NA | parallel, survival, MASS                                           | NA                                                                  | GPL (&gt;= 2)                | NA | NA | NA | NA | yes | 4.1.3 |\n",
       "| nlme | nlme       | /usr/lib/R/library                            | 3.1-159  | recommended | R (&gt;= 3.5.0)                                    | graphics, stats, utils, lattice                  | NA | Hmisc, MASS, SASmixed                                              | NA                                                                  | GPL (&gt;= 2)                | NA | NA | NA | NA | yes | 4.2.1 |\n",
       "| nnet | nnet       | /usr/lib/R/library                            | 7.3-18   | recommended | R (&gt;= 3.0.0), stats, utils                      | NA                                               | NA | MASS                                                               | NA                                                                  | GPL-2 | GPL-3             | NA | NA | NA | NA | yes | 4.2.1 |\n",
       "| parallel | parallel   | /usr/lib/R/library                            | 4.2.1    | base        | NA                                              | tools, compiler                                  | NA | methods                                                            | snow, nws, Rmpi                                                     | Part of R 4.2.1           | NA | NA | NA | NA | yes | 4.2.1 |\n",
       "| rpart | rpart      | /usr/lib/R/library                            | 4.1.16   | recommended | R (&gt;= 2.15.0), graphics, stats, grDevices       | NA                                               | NA | survival                                                           | NA                                                                  | GPL-2 | GPL-3             | NA | NA | NA | NA | yes | 4.1.2 |\n",
       "| spatial | spatial    | /usr/lib/R/library                            | 7.3-15   | recommended | R (&gt;= 3.0.0), graphics, stats, utils            | NA                                               | NA | MASS                                                               | NA                                                                  | GPL-2 | GPL-3             | NA | NA | NA | NA | yes | 4.1.2 |\n",
       "| splines | splines    | /usr/lib/R/library                            | 4.2.1    | base        | NA                                              | graphics, stats                                  | NA | Matrix, methods                                                    | NA                                                                  | Part of R 4.2.1           | NA | NA | NA | NA | yes | 4.2.1 |\n",
       "| stats | stats      | /usr/lib/R/library                            | 4.2.1    | base        | NA                                              | utils, grDevices, graphics                       | NA | MASS, Matrix, SuppDists, methods, stats4                           | NA                                                                  | Part of R 4.2.1           | NA | NA | NA | NA | yes | 4.2.1 |\n",
       "| stats4 | stats4     | /usr/lib/R/library                            | 4.2.1    | base        | NA                                              | graphics, methods, stats                         | NA | NA                                                                 | NA                                                                  | Part of R 4.2.1           | NA | NA | NA | NA | NA  | 4.2.1 |\n",
       "| survival | survival   | /usr/lib/R/library                            | 3.4-0    | recommended | R (&gt;= 3.5.0)                                    | graphics, Matrix, methods, splines, stats, utils | NA | NA                                                                 | NA                                                                  | LGPL (&gt;= 2)               | NA | NA | NA | NA | yes | 4.2.1 |\n",
       "| tcltk | tcltk      | /usr/lib/R/library                            | 4.2.1    | base        | NA                                              | utils                                            | NA | NA                                                                 | NA                                                                  | Part of R 4.2.1           | NA | NA | NA | NA | yes | 4.2.1 |\n",
       "| tools | tools      | /usr/lib/R/library                            | 4.2.1    | base        | NA                                              | NA                                               | NA | codetools, methods, xml2, curl, commonmark, knitr, xfun,\n",
       "mathjaxr | NA                                                                  | Part of R 4.2.1           | NA | NA | NA | NA | yes | 4.2.1 |\n",
       "| utils | utils      | /usr/lib/R/library                            | 4.2.1    | base        | NA                                              | NA                                               | NA | methods, xml2, commonmark, knitr                                   | NA                                                                  | Part of R 4.2.1           | NA | NA | NA | NA | yes | 4.2.1 |\n",
       "\n"
      ],
      "text/plain": [
       "            Package     LibPath                                       Version \n",
       "AGD         AGD         /home/vivek/R/x86_64-pc-linux-gnu-library/4.2 0.39    \n",
       "base64enc   base64enc   /home/vivek/R/x86_64-pc-linux-gnu-library/4.2 0.1-3   \n",
       "cli         cli         /home/vivek/R/x86_64-pc-linux-gnu-library/4.2 3.4.1   \n",
       "colorspace  colorspace  /home/vivek/R/x86_64-pc-linux-gnu-library/4.2 2.0-3   \n",
       "crayon      crayon      /home/vivek/R/x86_64-pc-linux-gnu-library/4.2 1.5.2   \n",
       "digest      digest      /home/vivek/R/x86_64-pc-linux-gnu-library/4.2 0.6.29  \n",
       "evaluate    evaluate    /home/vivek/R/x86_64-pc-linux-gnu-library/4.2 0.17    \n",
       "fansi       fansi       /home/vivek/R/x86_64-pc-linux-gnu-library/4.2 1.0.3   \n",
       "farver      farver      /home/vivek/R/x86_64-pc-linux-gnu-library/4.2 2.1.1   \n",
       "fastmap     fastmap     /home/vivek/R/x86_64-pc-linux-gnu-library/4.2 1.1.0   \n",
       "gamlss      gamlss      /home/vivek/R/x86_64-pc-linux-gnu-library/4.2 5.4-3   \n",
       "gamlss.data gamlss.data /home/vivek/R/x86_64-pc-linux-gnu-library/4.2 6.0-2   \n",
       "gamlss.dist gamlss.dist /home/vivek/R/x86_64-pc-linux-gnu-library/4.2 6.0-5   \n",
       "ggplot2     ggplot2     /home/vivek/R/x86_64-pc-linux-gnu-library/4.2 3.3.6   \n",
       "glue        glue        /home/vivek/R/x86_64-pc-linux-gnu-library/4.2 1.6.2   \n",
       "gtable      gtable      /home/vivek/R/x86_64-pc-linux-gnu-library/4.2 0.3.1   \n",
       "htmltools   htmltools   /home/vivek/R/x86_64-pc-linux-gnu-library/4.2 0.5.3   \n",
       "IRdisplay   IRdisplay   /home/vivek/R/x86_64-pc-linux-gnu-library/4.2 1.1     \n",
       "IRkernel    IRkernel    /home/vivek/R/x86_64-pc-linux-gnu-library/4.2 1.3     \n",
       "isoband     isoband     /home/vivek/R/x86_64-pc-linux-gnu-library/4.2 0.2.6   \n",
       "jsonlite    jsonlite    /home/vivek/R/x86_64-pc-linux-gnu-library/4.2 1.8.2   \n",
       "labeling    labeling    /home/vivek/R/x86_64-pc-linux-gnu-library/4.2 0.4.2   \n",
       "lifecycle   lifecycle   /home/vivek/R/x86_64-pc-linux-gnu-library/4.2 1.0.3   \n",
       "magrittr    magrittr    /home/vivek/R/x86_64-pc-linux-gnu-library/4.2 2.0.3   \n",
       "munsell     munsell     /home/vivek/R/x86_64-pc-linux-gnu-library/4.2 0.5.0   \n",
       "openxlsx    openxlsx    /home/vivek/R/x86_64-pc-linux-gnu-library/4.2 4.2.5   \n",
       "pbdZMQ      pbdZMQ      /home/vivek/R/x86_64-pc-linux-gnu-library/4.2 0.3-7   \n",
       "pillar      pillar      /home/vivek/R/x86_64-pc-linux-gnu-library/4.2 1.8.1   \n",
       "pkgconfig   pkgconfig   /home/vivek/R/x86_64-pc-linux-gnu-library/4.2 2.0.3   \n",
       "R6          R6          /home/vivek/R/x86_64-pc-linux-gnu-library/4.2 2.5.1   \n",
       "⋮           ⋮           ⋮                                             ⋮       \n",
       "zip         zip         /home/vivek/R/x86_64-pc-linux-gnu-library/4.2 2.2.1   \n",
       "base        base        /usr/lib/R/library                            4.2.1   \n",
       "boot        boot        /usr/lib/R/library                            1.3-28  \n",
       "class       class       /usr/lib/R/library                            7.3-20  \n",
       "cluster     cluster     /usr/lib/R/library                            2.1.4   \n",
       "codetools   codetools   /usr/lib/R/library                            0.2-18  \n",
       "compiler    compiler    /usr/lib/R/library                            4.2.1   \n",
       "datasets    datasets    /usr/lib/R/library                            4.2.1   \n",
       "foreign     foreign     /usr/lib/R/library                            0.8-82  \n",
       "graphics    graphics    /usr/lib/R/library                            4.2.1   \n",
       "grDevices   grDevices   /usr/lib/R/library                            4.2.1   \n",
       "grid        grid        /usr/lib/R/library                            4.2.1   \n",
       "KernSmooth  KernSmooth  /usr/lib/R/library                            2.23-20 \n",
       "lattice     lattice     /usr/lib/R/library                            0.20-45 \n",
       "MASS        MASS        /usr/lib/R/library                            7.3-58.1\n",
       "Matrix      Matrix      /usr/lib/R/library                            1.5-1   \n",
       "methods     methods     /usr/lib/R/library                            4.2.1   \n",
       "mgcv        mgcv        /usr/lib/R/library                            1.8-40  \n",
       "nlme        nlme        /usr/lib/R/library                            3.1-159 \n",
       "nnet        nnet        /usr/lib/R/library                            7.3-18  \n",
       "parallel    parallel    /usr/lib/R/library                            4.2.1   \n",
       "rpart       rpart       /usr/lib/R/library                            4.1.16  \n",
       "spatial     spatial     /usr/lib/R/library                            7.3-15  \n",
       "splines     splines     /usr/lib/R/library                            4.2.1   \n",
       "stats       stats       /usr/lib/R/library                            4.2.1   \n",
       "stats4      stats4      /usr/lib/R/library                            4.2.1   \n",
       "survival    survival    /usr/lib/R/library                            3.4-0   \n",
       "tcltk       tcltk       /usr/lib/R/library                            4.2.1   \n",
       "tools       tools       /usr/lib/R/library                            4.2.1   \n",
       "utils       utils       /usr/lib/R/library                            4.2.1   \n",
       "            Priority   \n",
       "AGD         NA         \n",
       "base64enc   NA         \n",
       "cli         NA         \n",
       "colorspace  NA         \n",
       "crayon      NA         \n",
       "digest      NA         \n",
       "evaluate    NA         \n",
       "fansi       NA         \n",
       "farver      NA         \n",
       "fastmap     NA         \n",
       "gamlss      NA         \n",
       "gamlss.data NA         \n",
       "gamlss.dist NA         \n",
       "ggplot2     NA         \n",
       "glue        NA         \n",
       "gtable      NA         \n",
       "htmltools   NA         \n",
       "IRdisplay   NA         \n",
       "IRkernel    NA         \n",
       "isoband     NA         \n",
       "jsonlite    NA         \n",
       "labeling    NA         \n",
       "lifecycle   NA         \n",
       "magrittr    NA         \n",
       "munsell     NA         \n",
       "openxlsx    NA         \n",
       "pbdZMQ      NA         \n",
       "pillar      NA         \n",
       "pkgconfig   NA         \n",
       "R6          NA         \n",
       "⋮           ⋮          \n",
       "zip         NA         \n",
       "base        base       \n",
       "boot        recommended\n",
       "class       recommended\n",
       "cluster     recommended\n",
       "codetools   recommended\n",
       "compiler    base       \n",
       "datasets    base       \n",
       "foreign     recommended\n",
       "graphics    base       \n",
       "grDevices   base       \n",
       "grid        base       \n",
       "KernSmooth  recommended\n",
       "lattice     recommended\n",
       "MASS        recommended\n",
       "Matrix      recommended\n",
       "methods     base       \n",
       "mgcv        recommended\n",
       "nlme        recommended\n",
       "nnet        recommended\n",
       "parallel    base       \n",
       "rpart       recommended\n",
       "spatial     recommended\n",
       "splines     base       \n",
       "stats       base       \n",
       "stats4      base       \n",
       "survival    recommended\n",
       "tcltk       base       \n",
       "tools       base       \n",
       "utils       base       \n",
       "            Depends                                                                                                                  \n",
       "AGD         R (>= 2.10.0)                                                                                                            \n",
       "base64enc   R (>= 2.9.0)                                                                                                             \n",
       "cli         R (>= 3.4)                                                                                                               \n",
       "colorspace  R (>= 3.0.0), methods                                                                                                    \n",
       "crayon      NA                                                                                                                       \n",
       "digest      R (>= 3.3.0)                                                                                                             \n",
       "evaluate    R (>= 3.0.2)                                                                                                             \n",
       "fansi       R (>= 3.1.0)                                                                                                             \n",
       "farver      NA                                                                                                                       \n",
       "fastmap     NA                                                                                                                       \n",
       "gamlss      R (>= 3.3.0), graphics, stats, splines, utils, grDevices,\\ngamlss.data (>= 5.0-0), gamlss.dist (>= 4.3.1), nlme, parallel\n",
       "gamlss.data R (>= 3.5.0)                                                                                                             \n",
       "gamlss.dist R (>= 3.5.0), MASS, graphics, stats, methods, grDevices                                                                  \n",
       "ggplot2     R (>= 3.3)                                                                                                               \n",
       "glue        R (>= 3.4)                                                                                                               \n",
       "gtable      R (>= 3.0)                                                                                                               \n",
       "htmltools   R (>= 2.14.1)                                                                                                            \n",
       "IRdisplay   R (>= 3.0.1)                                                                                                             \n",
       "IRkernel    R (>= 3.2.0)                                                                                                             \n",
       "isoband     NA                                                                                                                       \n",
       "jsonlite    methods                                                                                                                  \n",
       "labeling    NA                                                                                                                       \n",
       "lifecycle   R (>= 3.4)                                                                                                               \n",
       "magrittr    R (>= 3.4.0)                                                                                                             \n",
       "munsell     NA                                                                                                                       \n",
       "openxlsx    R (>= 3.3.0)                                                                                                             \n",
       "pbdZMQ      R (>= 3.5.0)                                                                                                             \n",
       "pillar      NA                                                                                                                       \n",
       "pkgconfig   NA                                                                                                                       \n",
       "R6          R (>= 3.0)                                                                                                               \n",
       "⋮           ⋮                                                                                                                        \n",
       "zip         NA                                                                                                                       \n",
       "base        NA                                                                                                                       \n",
       "boot        R (>= 3.0.0), graphics, stats                                                                                            \n",
       "class       R (>= 3.0.0), stats, utils                                                                                               \n",
       "cluster     R (>= 3.5.0)                                                                                                             \n",
       "codetools   R (>= 2.1)                                                                                                               \n",
       "compiler    NA                                                                                                                       \n",
       "datasets    NA                                                                                                                       \n",
       "foreign     R (>= 4.0.0)                                                                                                             \n",
       "graphics    NA                                                                                                                       \n",
       "grDevices   NA                                                                                                                       \n",
       "grid        NA                                                                                                                       \n",
       "KernSmooth  R (>= 2.5.0), stats                                                                                                      \n",
       "lattice     R (>= 3.0.0)                                                                                                             \n",
       "MASS        R (>= 3.3.0), grDevices, graphics, stats, utils                                                                          \n",
       "Matrix      R (>= 3.5.0)                                                                                                             \n",
       "methods     NA                                                                                                                       \n",
       "mgcv        R (>= 3.6.0), nlme (>= 3.1-64)                                                                                           \n",
       "nlme        R (>= 3.5.0)                                                                                                             \n",
       "nnet        R (>= 3.0.0), stats, utils                                                                                               \n",
       "parallel    NA                                                                                                                       \n",
       "rpart       R (>= 2.15.0), graphics, stats, grDevices                                                                                \n",
       "spatial     R (>= 3.0.0), graphics, stats, utils                                                                                     \n",
       "splines     NA                                                                                                                       \n",
       "stats       NA                                                                                                                       \n",
       "stats4      NA                                                                                                                       \n",
       "survival    R (>= 3.5.0)                                                                                                             \n",
       "tcltk       NA                                                                                                                       \n",
       "tools       NA                                                                                                                       \n",
       "utils       NA                                                                                                                       \n",
       "            Imports                                                                                                                                       \n",
       "AGD         gamlss, gamlss.dist                                                                                                                           \n",
       "base64enc   NA                                                                                                                                            \n",
       "cli         utils                                                                                                                                         \n",
       "colorspace  graphics, grDevices, stats                                                                                                                    \n",
       "crayon      grDevices, methods, utils                                                                                                                     \n",
       "digest      utils                                                                                                                                         \n",
       "evaluate    methods                                                                                                                                       \n",
       "fansi       grDevices, utils                                                                                                                              \n",
       "farver      NA                                                                                                                                            \n",
       "fastmap     NA                                                                                                                                            \n",
       "gamlss      MASS, survival, methods                                                                                                                       \n",
       "gamlss.data NA                                                                                                                                            \n",
       "gamlss.dist NA                                                                                                                                            \n",
       "ggplot2     digest, glue, grDevices, grid, gtable (>= 0.1.1), isoband,\\nMASS, mgcv, rlang (>= 0.4.10), scales (>= 0.5.0), stats,\\ntibble, withr (>= 2.0.0)\n",
       "glue        methods                                                                                                                                       \n",
       "gtable      grid                                                                                                                                          \n",
       "htmltools   utils, digest, grDevices, base64enc, rlang (>= 0.4.10),\\nfastmap (>= 1.1.0)                                                                   \n",
       "IRdisplay   methods, repr                                                                                                                                 \n",
       "IRkernel    repr (>= 0.4.99), methods, evaluate (>= 0.10), IRdisplay (>=\\n0.3.0.9999), pbdZMQ (>= 0.2-1), crayon, jsonlite (>= 0.9.6),\\nuuid, digest      \n",
       "isoband     grid, utils                                                                                                                                   \n",
       "jsonlite    NA                                                                                                                                            \n",
       "labeling    stats, graphics                                                                                                                               \n",
       "lifecycle   cli (>= 3.4.0), glue, rlang (>= 1.0.6)                                                                                                        \n",
       "magrittr    NA                                                                                                                                            \n",
       "munsell     colorspace, methods                                                                                                                           \n",
       "openxlsx    grDevices, methods, Rcpp, stats, stringi, utils, zip                                                                                          \n",
       "pbdZMQ      NA                                                                                                                                            \n",
       "pillar      cli (>= 2.3.0), fansi, glue, lifecycle, rlang (>= 1.0.2), utf8\\n(>= 1.1.0), utils, vctrs (>= 0.3.8)                                           \n",
       "pkgconfig   utils                                                                                                                                         \n",
       "R6          NA                                                                                                                                            \n",
       "⋮           ⋮                                                                                                                                             \n",
       "zip         NA                                                                                                                                            \n",
       "base        NA                                                                                                                                            \n",
       "boot        NA                                                                                                                                            \n",
       "class       MASS                                                                                                                                          \n",
       "cluster     graphics, grDevices, stats, utils                                                                                                             \n",
       "codetools   NA                                                                                                                                            \n",
       "compiler    NA                                                                                                                                            \n",
       "datasets    NA                                                                                                                                            \n",
       "foreign     methods, utils, stats                                                                                                                         \n",
       "graphics    grDevices                                                                                                                                     \n",
       "grDevices   NA                                                                                                                                            \n",
       "grid        grDevices, utils                                                                                                                              \n",
       "KernSmooth  NA                                                                                                                                            \n",
       "lattice     grid, grDevices, graphics, stats, utils                                                                                                       \n",
       "MASS        methods                                                                                                                                       \n",
       "Matrix      methods, graphics, grid, stats, utils, lattice                                                                                                \n",
       "methods     utils, stats                                                                                                                                  \n",
       "mgcv        methods, stats, graphics, Matrix, splines, utils                                                                                              \n",
       "nlme        graphics, stats, utils, lattice                                                                                                               \n",
       "nnet        NA                                                                                                                                            \n",
       "parallel    tools, compiler                                                                                                                               \n",
       "rpart       NA                                                                                                                                            \n",
       "spatial     NA                                                                                                                                            \n",
       "splines     graphics, stats                                                                                                                               \n",
       "stats       utils, grDevices, graphics                                                                                                                    \n",
       "stats4      graphics, methods, stats                                                                                                                      \n",
       "survival    graphics, Matrix, methods, splines, stats, utils                                                                                              \n",
       "tcltk       utils                                                                                                                                         \n",
       "tools       NA                                                                                                                                            \n",
       "utils       NA                                                                                                                                            \n",
       "            LinkingTo\n",
       "AGD         NA       \n",
       "base64enc   NA       \n",
       "cli         NA       \n",
       "colorspace  NA       \n",
       "crayon      NA       \n",
       "digest      NA       \n",
       "evaluate    NA       \n",
       "fansi       NA       \n",
       "farver      NA       \n",
       "fastmap     NA       \n",
       "gamlss      NA       \n",
       "gamlss.data NA       \n",
       "gamlss.dist NA       \n",
       "ggplot2     NA       \n",
       "glue        NA       \n",
       "gtable      NA       \n",
       "htmltools   NA       \n",
       "IRdisplay   NA       \n",
       "IRkernel    NA       \n",
       "isoband     NA       \n",
       "jsonlite    NA       \n",
       "labeling    NA       \n",
       "lifecycle   NA       \n",
       "magrittr    NA       \n",
       "munsell     NA       \n",
       "openxlsx    Rcpp     \n",
       "pbdZMQ      NA       \n",
       "pillar      NA       \n",
       "pkgconfig   NA       \n",
       "R6          NA       \n",
       "⋮           ⋮        \n",
       "zip         NA       \n",
       "base        NA       \n",
       "boot        NA       \n",
       "class       NA       \n",
       "cluster     NA       \n",
       "codetools   NA       \n",
       "compiler    NA       \n",
       "datasets    NA       \n",
       "foreign     NA       \n",
       "graphics    NA       \n",
       "grDevices   NA       \n",
       "grid        NA       \n",
       "KernSmooth  NA       \n",
       "lattice     NA       \n",
       "MASS        NA       \n",
       "Matrix      NA       \n",
       "methods     NA       \n",
       "mgcv        NA       \n",
       "nlme        NA       \n",
       "nnet        NA       \n",
       "parallel    NA       \n",
       "rpart       NA       \n",
       "spatial     NA       \n",
       "splines     NA       \n",
       "stats       NA       \n",
       "stats4      NA       \n",
       "survival    NA       \n",
       "tcltk       NA       \n",
       "tools       NA       \n",
       "utils       NA       \n",
       "            Suggests                                                                                                                                                                                                                                                                     \n",
       "AGD         NA                                                                                                                                                                                                                                                                           \n",
       "base64enc   NA                                                                                                                                                                                                                                                                           \n",
       "cli         callr, covr, digest, glue (>= 1.6.0), grDevices, htmltools,\\nhtmlwidgets, knitr, methods, mockery, processx, ps (>=\\n1.3.4.9000), rlang (>= 1.0.2.9003), rmarkdown, rprojroot,\\nrstudioapi, testthat, tibble, whoami, withr                                                  \n",
       "colorspace  datasets, utils, KernSmooth, MASS, kernlab, mvtnorm, vcd,\\ntcltk, shiny, shinyjs, ggplot2, dplyr, scales, grid, png, jpeg,\\nknitr, rmarkdown, RColorBrewer, rcartocolor, scico, viridis,\\nwesanderson                                                                        \n",
       "crayon      mockery, rstudioapi, testthat, withr                                                                                                                                                                                                                                         \n",
       "digest      tinytest, simplermarkdown                                                                                                                                                                                                                                                    \n",
       "evaluate    covr, ggplot2, lattice, testthat                                                                                                                                                                                                                                             \n",
       "fansi       unitizer, knitr, rmarkdown                                                                                                                                                                                                                                                   \n",
       "farver      covr, testthat (>= 3.0.0)                                                                                                                                                                                                                                                    \n",
       "fastmap     testthat (>= 2.1.1)                                                                                                                                                                                                                                                          \n",
       "gamlss      NA                                                                                                                                                                                                                                                                           \n",
       "gamlss.data NA                                                                                                                                                                                                                                                                           \n",
       "gamlss.dist NA                                                                                                                                                                                                                                                                           \n",
       "ggplot2     covr, ragg, dplyr, ggplot2movies, hexbin, Hmisc, interp,\\nknitr, lattice, mapproj, maps, maptools, multcomp, munsell,\\nnlme, profvis, quantreg, RColorBrewer, rgeos, rmarkdown, rpart,\\nsf (>= 0.7-3), svglite (>= 1.2.0.9001), testthat (>= 2.1.0),\\nvdiffr (>= 1.0.0), xml2\n",
       "glue        covr, crayon, DBI, dplyr, forcats, ggplot2, knitr, magrittr,\\nmicrobenchmark, R.utils, rmarkdown, rprintf, RSQLite, stringr,\\ntestthat (>= 3.0.0), vctrs (>= 0.3.0), waldo (>= 0.3.0), withr                                                                                 \n",
       "gtable      covr, testthat, knitr, rmarkdown, ggplot2, profvis                                                                                                                                                                                                                           \n",
       "htmltools   markdown, testthat, withr, Cairo, ragg, shiny                                                                                                                                                                                                                                \n",
       "IRdisplay   testthat, withr                                                                                                                                                                                                                                                              \n",
       "IRkernel    testthat, roxygen2                                                                                                                                                                                                                                                           \n",
       "isoband     covr, ggplot2, knitr, magick, microbenchmark, rmarkdown, sf,\\ntestthat, xml2                                                                                                                                                                                                 \n",
       "jsonlite    httr, vctrs, testthat, knitr, rmarkdown, R.rsp, sf                                                                                                                                                                                                                           \n",
       "labeling    NA                                                                                                                                                                                                                                                                           \n",
       "lifecycle   covr, crayon, knitr, lintr, rmarkdown, testthat (>= 3.0.1),\\ntibble, tidyverse, tools, vctrs, withr                                                                                                                                                                          \n",
       "magrittr    covr, knitr, rlang, rmarkdown, testthat                                                                                                                                                                                                                                      \n",
       "munsell     ggplot2, testthat                                                                                                                                                                                                                                                            \n",
       "openxlsx    knitr, rmarkdown, roxygen2, testthat                                                                                                                                                                                                                                         \n",
       "pbdZMQ      NA                                                                                                                                                                                                                                                                           \n",
       "pillar      bit64, debugme, DiagrammeR, dplyr, formattable, ggplot2,\\nknitr, lubridate, nanotime, nycflights13, palmerpenguins,\\nrmarkdown, scales, stringi, survival, testthat (>= 3.1.1),\\ntibble, units (>= 0.7.2), vdiffr, withr                                                     \n",
       "pkgconfig   covr, testthat, disposables (>= 1.0.3)                                                                                                                                                                                                                                       \n",
       "R6          testthat, pryr                                                                                                                                                                                                                                                               \n",
       "⋮           ⋮                                                                                                                                                                                                                                                                            \n",
       "zip         covr, processx, R6, testthat, withr                                                                                                                                                                                                                                          \n",
       "base        methods                                                                                                                                                                                                                                                                      \n",
       "boot        MASS, survival                                                                                                                                                                                                                                                               \n",
       "class       NA                                                                                                                                                                                                                                                                           \n",
       "cluster     MASS, Matrix                                                                                                                                                                                                                                                                 \n",
       "codetools   NA                                                                                                                                                                                                                                                                           \n",
       "compiler    NA                                                                                                                                                                                                                                                                           \n",
       "datasets    NA                                                                                                                                                                                                                                                                           \n",
       "foreign     NA                                                                                                                                                                                                                                                                           \n",
       "graphics    NA                                                                                                                                                                                                                                                                           \n",
       "grDevices   KernSmooth                                                                                                                                                                                                                                                                   \n",
       "grid        NA                                                                                                                                                                                                                                                                           \n",
       "KernSmooth  MASS, carData                                                                                                                                                                                                                                                                \n",
       "lattice     KernSmooth, MASS, latticeExtra                                                                                                                                                                                                                                               \n",
       "MASS        lattice, nlme, nnet, survival                                                                                                                                                                                                                                                \n",
       "Matrix      expm, MASS                                                                                                                                                                                                                                                                   \n",
       "methods     codetools                                                                                                                                                                                                                                                                    \n",
       "mgcv        parallel, survival, MASS                                                                                                                                                                                                                                                     \n",
       "nlme        Hmisc, MASS, SASmixed                                                                                                                                                                                                                                                        \n",
       "nnet        MASS                                                                                                                                                                                                                                                                         \n",
       "parallel    methods                                                                                                                                                                                                                                                                      \n",
       "rpart       survival                                                                                                                                                                                                                                                                     \n",
       "spatial     MASS                                                                                                                                                                                                                                                                         \n",
       "splines     Matrix, methods                                                                                                                                                                                                                                                              \n",
       "stats       MASS, Matrix, SuppDists, methods, stats4                                                                                                                                                                                                                                     \n",
       "stats4      NA                                                                                                                                                                                                                                                                           \n",
       "survival    NA                                                                                                                                                                                                                                                                           \n",
       "tcltk       NA                                                                                                                                                                                                                                                                           \n",
       "tools       codetools, methods, xml2, curl, commonmark, knitr, xfun,\\nmathjaxr                                                                                                                                                                                                           \n",
       "utils       methods, xml2, commonmark, knitr                                                                                                                                                                                                                                             \n",
       "            Enhances                                                           \n",
       "AGD         NA                                                                 \n",
       "base64enc   png                                                                \n",
       "cli         NA                                                                 \n",
       "colorspace  NA                                                                 \n",
       "crayon      NA                                                                 \n",
       "digest      NA                                                                 \n",
       "evaluate    NA                                                                 \n",
       "fansi       NA                                                                 \n",
       "farver      NA                                                                 \n",
       "fastmap     NA                                                                 \n",
       "gamlss      NA                                                                 \n",
       "gamlss.data NA                                                                 \n",
       "gamlss.dist NA                                                                 \n",
       "ggplot2     sp                                                                 \n",
       "glue        NA                                                                 \n",
       "gtable      NA                                                                 \n",
       "htmltools   knitr                                                              \n",
       "IRdisplay   NA                                                                 \n",
       "IRkernel    NA                                                                 \n",
       "isoband     NA                                                                 \n",
       "jsonlite    NA                                                                 \n",
       "labeling    NA                                                                 \n",
       "lifecycle   NA                                                                 \n",
       "magrittr    NA                                                                 \n",
       "munsell     NA                                                                 \n",
       "openxlsx    NA                                                                 \n",
       "pbdZMQ      NA                                                                 \n",
       "pillar      NA                                                                 \n",
       "pkgconfig   NA                                                                 \n",
       "R6          NA                                                                 \n",
       "⋮           ⋮                                                                  \n",
       "zip         NA                                                                 \n",
       "base        NA                                                                 \n",
       "boot        NA                                                                 \n",
       "class       NA                                                                 \n",
       "cluster     NA                                                                 \n",
       "codetools   NA                                                                 \n",
       "compiler    NA                                                                 \n",
       "datasets    NA                                                                 \n",
       "foreign     NA                                                                 \n",
       "graphics    NA                                                                 \n",
       "grDevices   NA                                                                 \n",
       "grid        NA                                                                 \n",
       "KernSmooth  NA                                                                 \n",
       "lattice     chron                                                              \n",
       "MASS        NA                                                                 \n",
       "Matrix      MatrixModels, graph, SparseM, sfsmisc, igraph, maptools, sp,\\nspdep\n",
       "methods     NA                                                                 \n",
       "mgcv        NA                                                                 \n",
       "nlme        NA                                                                 \n",
       "nnet        NA                                                                 \n",
       "parallel    snow, nws, Rmpi                                                    \n",
       "rpart       NA                                                                 \n",
       "spatial     NA                                                                 \n",
       "splines     NA                                                                 \n",
       "stats       NA                                                                 \n",
       "stats4      NA                                                                 \n",
       "survival    NA                                                                 \n",
       "tcltk       NA                                                                 \n",
       "tools       NA                                                                 \n",
       "utils       NA                                                                 \n",
       "            License                        License_is_FOSS\n",
       "AGD         GPL-2 | GPL-3                  NA             \n",
       "base64enc   GPL-2 | GPL-3                  NA             \n",
       "cli         MIT + file LICENSE             NA             \n",
       "colorspace  BSD_3_clause + file LICENSE    NA             \n",
       "crayon      MIT + file LICENSE             NA             \n",
       "digest      GPL (>= 2)                     NA             \n",
       "evaluate    MIT + file LICENSE             NA             \n",
       "fansi       GPL-2 | GPL-3                  NA             \n",
       "farver      MIT + file LICENSE             NA             \n",
       "fastmap     MIT + file LICENSE             NA             \n",
       "gamlss      GPL-2 | GPL-3                  NA             \n",
       "gamlss.data GPL-2 | GPL-3                  NA             \n",
       "gamlss.dist GPL-2 | GPL-3                  NA             \n",
       "ggplot2     MIT + file LICENSE             NA             \n",
       "glue        MIT + file LICENSE             NA             \n",
       "gtable      MIT + file LICENSE             NA             \n",
       "htmltools   GPL (>= 2)                     NA             \n",
       "IRdisplay   MIT + file LICENSE             NA             \n",
       "IRkernel    MIT + file LICENSE             NA             \n",
       "isoband     MIT + file LICENSE             NA             \n",
       "jsonlite    MIT + file LICENSE             NA             \n",
       "labeling    MIT + file LICENSE | Unlimited NA             \n",
       "lifecycle   MIT + file LICENSE             NA             \n",
       "magrittr    MIT + file LICENSE             NA             \n",
       "munsell     MIT + file LICENSE             NA             \n",
       "openxlsx    MIT + file LICENSE             NA             \n",
       "pbdZMQ      GPL-3                          NA             \n",
       "pillar      MIT + file LICENSE             NA             \n",
       "pkgconfig   MIT + file LICENSE             NA             \n",
       "R6          MIT + file LICENSE             NA             \n",
       "⋮           ⋮                              ⋮              \n",
       "zip         MIT + file LICENSE             NA             \n",
       "base        Part of R 4.2.1                NA             \n",
       "boot        Unlimited                      NA             \n",
       "class       GPL-2 | GPL-3                  NA             \n",
       "cluster     GPL (>= 2)                     NA             \n",
       "codetools   GPL                            NA             \n",
       "compiler    Part of R 4.2.1                NA             \n",
       "datasets    Part of R 4.2.1                NA             \n",
       "foreign     GPL (>= 2)                     NA             \n",
       "graphics    Part of R 4.2.1                NA             \n",
       "grDevices   Part of R 4.2.1                NA             \n",
       "grid        Part of R 4.2.1                NA             \n",
       "KernSmooth  Unlimited                      NA             \n",
       "lattice     GPL (>= 2)                     NA             \n",
       "MASS        GPL-2 | GPL-3                  NA             \n",
       "Matrix      GPL (>= 2) | file LICENCE      NA             \n",
       "methods     Part of R 4.2.1                NA             \n",
       "mgcv        GPL (>= 2)                     NA             \n",
       "nlme        GPL (>= 2)                     NA             \n",
       "nnet        GPL-2 | GPL-3                  NA             \n",
       "parallel    Part of R 4.2.1                NA             \n",
       "rpart       GPL-2 | GPL-3                  NA             \n",
       "spatial     GPL-2 | GPL-3                  NA             \n",
       "splines     Part of R 4.2.1                NA             \n",
       "stats       Part of R 4.2.1                NA             \n",
       "stats4      Part of R 4.2.1                NA             \n",
       "survival    LGPL (>= 2)                    NA             \n",
       "tcltk       Part of R 4.2.1                NA             \n",
       "tools       Part of R 4.2.1                NA             \n",
       "utils       Part of R 4.2.1                NA             \n",
       "            License_restricts_use OS_type MD5sum NeedsCompilation Built\n",
       "AGD         NA                    NA      NA     no               4.2.1\n",
       "base64enc   NA                    NA      NA     yes              4.2.1\n",
       "cli         NA                    NA      NA     yes              4.2.1\n",
       "colorspace  NA                    NA      NA     yes              4.2.1\n",
       "crayon      NA                    NA      NA     no               4.2.1\n",
       "digest      NA                    NA      NA     yes              4.2.1\n",
       "evaluate    NA                    NA      NA     no               4.2.1\n",
       "fansi       NA                    NA      NA     yes              4.2.1\n",
       "farver      NA                    NA      NA     yes              4.2.1\n",
       "fastmap     NA                    NA      NA     yes              4.2.1\n",
       "gamlss      NA                    NA      NA     yes              4.2.1\n",
       "gamlss.data NA                    NA      NA     no               4.2.1\n",
       "gamlss.dist NA                    NA      NA     yes              4.2.1\n",
       "ggplot2     NA                    NA      NA     no               4.2.1\n",
       "glue        NA                    NA      NA     yes              4.2.1\n",
       "gtable      NA                    NA      NA     no               4.2.1\n",
       "htmltools   NA                    NA      NA     yes              4.2.1\n",
       "IRdisplay   NA                    NA      NA     no               4.2.1\n",
       "IRkernel    NA                    NA      NA     no               4.2.1\n",
       "isoband     NA                    NA      NA     yes              4.2.1\n",
       "jsonlite    NA                    NA      NA     yes              4.2.1\n",
       "labeling    NA                    NA      NA     no               4.2.1\n",
       "lifecycle   NA                    NA      NA     no               4.2.1\n",
       "magrittr    NA                    NA      NA     yes              4.2.1\n",
       "munsell     NA                    NA      NA     no               4.2.1\n",
       "openxlsx    NA                    NA      NA     yes              4.2.1\n",
       "pbdZMQ      NA                    NA      NA     yes              4.2.1\n",
       "pillar      NA                    NA      NA     no               4.2.1\n",
       "pkgconfig   NA                    NA      NA     no               4.2.1\n",
       "R6          NA                    NA      NA     no               4.2.1\n",
       "⋮           ⋮                     ⋮       ⋮      ⋮                ⋮    \n",
       "zip         NA                    NA      NA     yes              4.2.1\n",
       "base        NA                    NA      NA     NA               4.2.1\n",
       "boot        NA                    NA      NA     no               4.0.5\n",
       "class       NA                    NA      NA     yes              4.1.2\n",
       "cluster     NA                    NA      NA     yes              4.2.1\n",
       "codetools   NA                    NA      NA     no               4.0.3\n",
       "compiler    NA                    NA      NA     NA               4.2.1\n",
       "datasets    NA                    NA      NA     NA               4.2.1\n",
       "foreign     NA                    NA      NA     yes              4.1.2\n",
       "graphics    NA                    NA      NA     yes              4.2.1\n",
       "grDevices   NA                    NA      NA     yes              4.2.1\n",
       "grid        NA                    NA      NA     yes              4.2.1\n",
       "KernSmooth  NA                    NA      NA     yes              4.0.5\n",
       "lattice     NA                    NA      NA     yes              4.2.0\n",
       "MASS        NA                    NA      NA     yes              4.2.1\n",
       "Matrix      NA                    NA      NA     yes              4.2.1\n",
       "methods     NA                    NA      NA     yes              4.2.1\n",
       "mgcv        NA                    NA      NA     yes              4.1.3\n",
       "nlme        NA                    NA      NA     yes              4.2.1\n",
       "nnet        NA                    NA      NA     yes              4.2.1\n",
       "parallel    NA                    NA      NA     yes              4.2.1\n",
       "rpart       NA                    NA      NA     yes              4.1.2\n",
       "spatial     NA                    NA      NA     yes              4.1.2\n",
       "splines     NA                    NA      NA     yes              4.2.1\n",
       "stats       NA                    NA      NA     yes              4.2.1\n",
       "stats4      NA                    NA      NA     NA               4.2.1\n",
       "survival    NA                    NA      NA     yes              4.2.1\n",
       "tcltk       NA                    NA      NA     yes              4.2.1\n",
       "tools       NA                    NA      NA     yes              4.2.1\n",
       "utils       NA                    NA      NA     yes              4.2.1"
      ]
     },
     "metadata": {},
     "output_type": "display_data"
    }
   ],
   "source": [
    "installed.packages()"
   ]
  },
  {
   "cell_type": "markdown",
   "id": "fc3fbe05-87f1-4d0d-a095-d8f330c62b28",
   "metadata": {
    "tags": []
   },
   "source": [
    "### To remove a package on R"
   ]
  },
  {
   "cell_type": "code",
   "execution_count": 20,
   "id": "91362de2-e621-4d39-9d93-080c0b5371a3",
   "metadata": {
    "collapsed": true,
    "jupyter": {
     "outputs_hidden": true
    },
    "tags": []
   },
   "outputs": [
    {
     "name": "stderr",
     "output_type": "stream",
     "text": [
      "Removing package from ‘/home/vivek/R/x86_64-pc-linux-gnu-library/4.2’\n",
      "(as ‘lib’ is unspecified)\n",
      "\n"
     ]
    },
    {
     "ename": "ERROR",
     "evalue": "Error in find.package(pkgs, lib): there is no package called ‘’\n",
     "output_type": "error",
     "traceback": [
      "Error in find.package(pkgs, lib): there is no package called ‘’\nTraceback:\n",
      "1. remove.packages(\"\")",
      "2. find.package(pkgs, lib)"
     ]
    }
   ],
   "source": [
    "remove.packages(\"\")"
   ]
  },
  {
   "cell_type": "markdown",
   "id": "34fe3732-f0ff-4f94-b114-d941ee8bbc16",
   "metadata": {
    "tags": []
   },
   "source": [
    "### First program on R"
   ]
  },
  {
   "cell_type": "code",
   "execution_count": 21,
   "id": "2ffe35a8-4747-49ba-893d-1a423e3af59e",
   "metadata": {
    "tags": []
   },
   "outputs": [
    {
     "name": "stdout",
     "output_type": "stream",
     "text": [
      "[1] \"Hello world!!!\"\n"
     ]
    }
   ],
   "source": [
    "print(\"Hello world!!!\")"
   ]
  },
  {
   "cell_type": "markdown",
   "id": "a5b62e5d-f3c2-4ba6-88be-64f4d5648112",
   "metadata": {
    "tags": []
   },
   "source": [
    "### Basic Arithmetic in R"
   ]
  },
  {
   "cell_type": "code",
   "execution_count": 22,
   "id": "c84dbf6e-e824-4e65-83e2-7a7e7749ac73",
   "metadata": {
    "tags": []
   },
   "outputs": [
    {
     "data": {
      "text/html": [
       "59"
      ],
      "text/latex": [
       "59"
      ],
      "text/markdown": [
       "59"
      ],
      "text/plain": [
       "[1] 59"
      ]
     },
     "metadata": {},
     "output_type": "display_data"
    }
   ],
   "source": [
    "12+45+9-7"
   ]
  },
  {
   "cell_type": "markdown",
   "id": "88068613-8ca5-48db-981d-eeb0d227b5f8",
   "metadata": {
    "tags": []
   },
   "source": [
    "### Complex Arithmetic in R"
   ]
  },
  {
   "cell_type": "code",
   "execution_count": 23,
   "id": "5d4a35fb-8828-49f8-beb3-b962f2238a6e",
   "metadata": {
    "tags": []
   },
   "outputs": [
    {
     "data": {
      "text/html": [
       "25.5"
      ],
      "text/latex": [
       "25.5"
      ],
      "text/markdown": [
       "25.5"
      ],
      "text/plain": [
       "[1] 25.5"
      ]
     },
     "metadata": {},
     "output_type": "display_data"
    }
   ],
   "source": [
    "18+22/2-4/4*3.5"
   ]
  },
  {
   "cell_type": "markdown",
   "id": "03b17909-cf52-4aa7-9491-87eec4a916d0",
   "metadata": {
    "tags": []
   },
   "source": [
    "### Some important mathematical operators"
   ]
  },
  {
   "cell_type": "code",
   "execution_count": 25,
   "id": "0514ada1-8bd9-4dd3-b007-82b91a9096f4",
   "metadata": {
    "tags": []
   },
   "outputs": [
    {
     "data": {
      "text/html": [
       "15"
      ],
      "text/latex": [
       "15"
      ],
      "text/markdown": [
       "15"
      ],
      "text/plain": [
       "[1] 15"
      ]
     },
     "metadata": {},
     "output_type": "display_data"
    }
   ],
   "source": [
    "sqrt(225) #Square root of the given number"
   ]
  },
  {
   "cell_type": "markdown",
   "id": "039ae960-2226-4a64-b617-0fe30d191feb",
   "metadata": {
    "tags": []
   },
   "source": [
    "#### abs() method in R programming is used to get the absolute value. i.e. a positive value doesn’t change and a negative value will be converted into a positive value."
   ]
  },
  {
   "cell_type": "code",
   "execution_count": 26,
   "id": "37a3c7fc-b0b8-420b-82e2-ae0a97249bdd",
   "metadata": {
    "tags": []
   },
   "outputs": [
    {
     "data": {
      "text/html": [
       "3.17"
      ],
      "text/latex": [
       "3.17"
      ],
      "text/markdown": [
       "3.17"
      ],
      "text/plain": [
       "[1] 3.17"
      ]
     },
     "metadata": {},
     "output_type": "display_data"
    }
   ],
   "source": [
    "abs(-3.17) #Absolute value of the given number"
   ]
  },
  {
   "cell_type": "code",
   "execution_count": 27,
   "id": "af38ee2e-6502-47c7-a548-a38879b81368",
   "metadata": {
    "tags": []
   },
   "outputs": [
    {
     "data": {
      "text/html": [
       "120"
      ],
      "text/latex": [
       "120"
      ],
      "text/markdown": [
       "120"
      ],
      "text/plain": [
       "[1] 120"
      ]
     },
     "metadata": {},
     "output_type": "display_data"
    }
   ],
   "source": [
    "factorial(5) #Factorial of the given number"
   ]
  },
  {
   "cell_type": "markdown",
   "id": "57a9b634-44cd-455d-a40e-4affa2c0ccf6",
   "metadata": {
    "tags": []
   },
   "source": [
    "### Declaring variables in R"
   ]
  },
  {
   "cell_type": "code",
   "execution_count": 28,
   "id": "8502d223-5be9-46d1-ab9e-183c2850cc18",
   "metadata": {
    "tags": []
   },
   "outputs": [],
   "source": [
    "my_roll = 26"
   ]
  },
  {
   "cell_type": "code",
   "execution_count": 29,
   "id": "6cf8fef9-645c-43a1-8b78-4b3d7ad02fe6",
   "metadata": {
    "tags": []
   },
   "outputs": [],
   "source": [
    "my_roll <- 26"
   ]
  },
  {
   "cell_type": "code",
   "execution_count": 30,
   "id": "7053d59a-973c-4521-8b7d-85d23ca41564",
   "metadata": {
    "tags": []
   },
   "outputs": [
    {
     "data": {
      "text/html": [
       "26"
      ],
      "text/latex": [
       "26"
      ],
      "text/markdown": [
       "26"
      ],
      "text/plain": [
       "[1] 26"
      ]
     },
     "metadata": {},
     "output_type": "display_data"
    }
   ],
   "source": [
    "my_roll"
   ]
  },
  {
   "cell_type": "markdown",
   "id": "f8e6abeb-c988-4f92-9b82-a824b9eed33e",
   "metadata": {
    "tags": []
   },
   "source": [
    "### Numeric Vector:"
   ]
  },
  {
   "cell_type": "code",
   "execution_count": 32,
   "id": "4cf3253a-d2e9-4597-9fc0-bddd646825a6",
   "metadata": {
    "tags": []
   },
   "outputs": [],
   "source": [
    "X<-1.5"
   ]
  },
  {
   "cell_type": "markdown",
   "id": "d421cdb3-bfe5-4bf2-8578-fc91f779646a",
   "metadata": {
    "tags": []
   },
   "source": [
    "### Constructing the numeric and character vectors in R"
   ]
  },
  {
   "cell_type": "markdown",
   "id": "3a236244-c46f-4a6d-b3e5-a3b50d8769d4",
   "metadata": {
    "tags": []
   },
   "source": [
    "### Here we have to use a default function called Combine() or simply c()"
   ]
  },
  {
   "cell_type": "code",
   "execution_count": 33,
   "id": "6129f369-a5d2-44c6-8b5f-e3036b00c06b",
   "metadata": {
    "tags": []
   },
   "outputs": [
    {
     "data": {
      "text/html": [
       "<style>\n",
       ".list-inline {list-style: none; margin:0; padding: 0}\n",
       ".list-inline>li {display: inline-block}\n",
       ".list-inline>li:not(:last-child)::after {content: \"\\00b7\"; padding: 0 .5ex}\n",
       "</style>\n",
       "<ol class=list-inline><li>10</li><li>20</li><li>20</li><li>30</li><li>40</li></ol>\n"
      ],
      "text/latex": [
       "\\begin{enumerate*}\n",
       "\\item 10\n",
       "\\item 20\n",
       "\\item 20\n",
       "\\item 30\n",
       "\\item 40\n",
       "\\end{enumerate*}\n"
      ],
      "text/markdown": [
       "1. 10\n",
       "2. 20\n",
       "3. 20\n",
       "4. 30\n",
       "5. 40\n",
       "\n",
       "\n"
      ],
      "text/plain": [
       "[1] 10 20 20 30 40"
      ]
     },
     "metadata": {},
     "output_type": "display_data"
    }
   ],
   "source": [
    "c(10,20,20,30,40) #A Numerical/Integer vector"
   ]
  },
  {
   "cell_type": "code",
   "execution_count": 34,
   "id": "7b04183c-f530-4928-bfa9-0728ae2a8064",
   "metadata": {
    "tags": []
   },
   "outputs": [
    {
     "data": {
      "text/html": [
       "<style>\n",
       ".list-inline {list-style: none; margin:0; padding: 0}\n",
       ".list-inline>li {display: inline-block}\n",
       ".list-inline>li:not(:last-child)::after {content: \"\\00b7\"; padding: 0 .5ex}\n",
       "</style>\n",
       "<ol class=list-inline><li>'Hello2'</li><li>'20'</li><li>'Hello4'</li><li>'30'</li></ol>\n"
      ],
      "text/latex": [
       "\\begin{enumerate*}\n",
       "\\item 'Hello2'\n",
       "\\item '20'\n",
       "\\item 'Hello4'\n",
       "\\item '30'\n",
       "\\end{enumerate*}\n"
      ],
      "text/markdown": [
       "1. 'Hello2'\n",
       "2. '20'\n",
       "3. 'Hello4'\n",
       "4. '30'\n",
       "\n",
       "\n"
      ],
      "text/plain": [
       "[1] \"Hello2\" \"20\"     \"Hello4\" \"30\"    "
      ]
     },
     "metadata": {},
     "output_type": "display_data"
    }
   ],
   "source": [
    "c('Hello2', 20, 'Hello4', 30) "
   ]
  },
  {
   "cell_type": "code",
   "execution_count": 35,
   "id": "492a5ddb-011c-4123-9def-64aab8cf8951",
   "metadata": {
    "tags": []
   },
   "outputs": [
    {
     "data": {
      "text/html": [
       "<style>\n",
       ".list-inline {list-style: none; margin:0; padding: 0}\n",
       ".list-inline>li {display: inline-block}\n",
       ".list-inline>li:not(:last-child)::after {content: \"\\00b7\"; padding: 0 .5ex}\n",
       "</style>\n",
       "<ol class=list-inline><li>'Hello1'</li><li>'Hello2'</li><li>'Hello3'</li></ol>\n"
      ],
      "text/latex": [
       "\\begin{enumerate*}\n",
       "\\item 'Hello1'\n",
       "\\item 'Hello2'\n",
       "\\item 'Hello3'\n",
       "\\end{enumerate*}\n"
      ],
      "text/markdown": [
       "1. 'Hello1'\n",
       "2. 'Hello2'\n",
       "3. 'Hello3'\n",
       "\n",
       "\n"
      ],
      "text/plain": [
       "[1] \"Hello1\" \"Hello2\" \"Hello3\""
      ]
     },
     "metadata": {},
     "output_type": "display_data"
    }
   ],
   "source": [
    "c('Hello1', 'Hello2', 'Hello3') #A character vector"
   ]
  },
  {
   "cell_type": "code",
   "execution_count": 36,
   "id": "e27e3b65-30c0-43e1-8088-867723084f89",
   "metadata": {
    "tags": []
   },
   "outputs": [],
   "source": [
    "batch<-c(\"cdac\",\"dbda\", 2022)"
   ]
  },
  {
   "cell_type": "code",
   "execution_count": 37,
   "id": "ea08fb78-2a07-40a5-9e61-6d0cdc2c1b51",
   "metadata": {
    "tags": []
   },
   "outputs": [
    {
     "data": {
      "text/html": [
       "'character'"
      ],
      "text/latex": [
       "'character'"
      ],
      "text/markdown": [
       "'character'"
      ],
      "text/plain": [
       "[1] \"character\""
      ]
     },
     "metadata": {},
     "output_type": "display_data"
    }
   ],
   "source": [
    "typeof(batch)"
   ]
  },
  {
   "cell_type": "code",
   "execution_count": 38,
   "id": "e1a7738f-0160-4587-96a5-2f82535039f4",
   "metadata": {
    "tags": []
   },
   "outputs": [],
   "source": [
    "newbatch<-c(03,11,2022)"
   ]
  },
  {
   "cell_type": "code",
   "execution_count": 39,
   "id": "ccffc2f1-1ff2-4f1e-8a7e-62140d3e3f3c",
   "metadata": {
    "tags": []
   },
   "outputs": [
    {
     "data": {
      "text/html": [
       "'double'"
      ],
      "text/latex": [
       "'double'"
      ],
      "text/markdown": [
       "'double'"
      ],
      "text/plain": [
       "[1] \"double\""
      ]
     },
     "metadata": {},
     "output_type": "display_data"
    }
   ],
   "source": [
    "typeof(newbatch)"
   ]
  },
  {
   "cell_type": "code",
   "execution_count": 40,
   "id": "7ee3fc92-e346-4e53-84c4-467cb9f0e464",
   "metadata": {
    "tags": []
   },
   "outputs": [],
   "source": [
    "newbatch<- c(03L,11L,2022L) #To read the double vector as an Integer"
   ]
  },
  {
   "cell_type": "code",
   "execution_count": 41,
   "id": "3c8ebefb-f175-4586-aafd-71fe0d993b34",
   "metadata": {
    "tags": []
   },
   "outputs": [
    {
     "data": {
      "text/html": [
       "'integer'"
      ],
      "text/latex": [
       "'integer'"
      ],
      "text/markdown": [
       "'integer'"
      ],
      "text/plain": [
       "[1] \"integer\""
      ]
     },
     "metadata": {},
     "output_type": "display_data"
    }
   ],
   "source": [
    "typeof(newbatch)"
   ]
  },
  {
   "cell_type": "code",
   "execution_count": 42,
   "id": "0c02172c-040e-41dc-afe8-cd79a9b52f60",
   "metadata": {
    "tags": []
   },
   "outputs": [
    {
     "data": {
      "text/html": [
       "'integer'"
      ],
      "text/latex": [
       "'integer'"
      ],
      "text/markdown": [
       "'integer'"
      ],
      "text/plain": [
       "[1] \"integer\""
      ]
     },
     "metadata": {},
     "output_type": "display_data"
    }
   ],
   "source": [
    "class(newbatch)"
   ]
  },
  {
   "cell_type": "code",
   "execution_count": 43,
   "id": "e35a19e0-bbd6-4f64-9526-555934c8c5d9",
   "metadata": {
    "tags": []
   },
   "outputs": [
    {
     "ename": "ERROR",
     "evalue": "Error in class(): 0 arguments passed to 'class' which requires 1\n",
     "output_type": "error",
     "traceback": [
      "Error in class(): 0 arguments passed to 'class' which requires 1\nTraceback:\n"
     ]
    }
   ],
   "source": [
    "class()"
   ]
  },
  {
   "cell_type": "code",
   "execution_count": 44,
   "id": "3831a76c-6193-4021-a15a-ce838843be05",
   "metadata": {
    "tags": []
   },
   "outputs": [
    {
     "data": {
      "text/html": [
       "<style>\n",
       ".list-inline {list-style: none; margin:0; padding: 0}\n",
       ".list-inline>li {display: inline-block}\n",
       ".list-inline>li:not(:last-child)::after {content: \"\\00b7\"; padding: 0 .5ex}\n",
       "</style>\n",
       "<ol class=list-inline><li>1</li><li>2</li><li>3</li><li>4</li><li>5</li></ol>\n"
      ],
      "text/latex": [
       "\\begin{enumerate*}\n",
       "\\item 1\n",
       "\\item 2\n",
       "\\item 3\n",
       "\\item 4\n",
       "\\item 5\n",
       "\\end{enumerate*}\n"
      ],
      "text/markdown": [
       "1. 1\n",
       "2. 2\n",
       "3. 3\n",
       "4. 4\n",
       "5. 5\n",
       "\n",
       "\n"
      ],
      "text/plain": [
       "[1] 1 2 3 4 5"
      ]
     },
     "metadata": {},
     "output_type": "display_data"
    }
   ],
   "source": [
    "c(1, 2, c(3, 4, 5))"
   ]
  },
  {
   "cell_type": "code",
   "execution_count": 45,
   "id": "21c52d41-443a-494d-99ee-76601a2e8282",
   "metadata": {
    "tags": []
   },
   "outputs": [],
   "source": [
    "y=c(1, 2, c(3, 4, 5),c(5,6,7))"
   ]
  },
  {
   "cell_type": "code",
   "execution_count": 46,
   "id": "633aaca0-9227-427f-bf50-2d973a3f08bd",
   "metadata": {
    "tags": []
   },
   "outputs": [
    {
     "data": {
      "text/html": [
       "<style>\n",
       ".list-inline {list-style: none; margin:0; padding: 0}\n",
       ".list-inline>li {display: inline-block}\n",
       ".list-inline>li:not(:last-child)::after {content: \"\\00b7\"; padding: 0 .5ex}\n",
       "</style>\n",
       "<ol class=list-inline><li>1</li><li>2</li><li>3</li><li>4</li><li>5</li><li>5</li><li>6</li><li>7</li></ol>\n"
      ],
      "text/latex": [
       "\\begin{enumerate*}\n",
       "\\item 1\n",
       "\\item 2\n",
       "\\item 3\n",
       "\\item 4\n",
       "\\item 5\n",
       "\\item 5\n",
       "\\item 6\n",
       "\\item 7\n",
       "\\end{enumerate*}\n"
      ],
      "text/markdown": [
       "1. 1\n",
       "2. 2\n",
       "3. 3\n",
       "4. 4\n",
       "5. 5\n",
       "6. 5\n",
       "7. 6\n",
       "8. 7\n",
       "\n",
       "\n"
      ],
      "text/plain": [
       "[1] 1 2 3 4 5 5 6 7"
      ]
     },
     "metadata": {},
     "output_type": "display_data"
    }
   ],
   "source": [
    "y"
   ]
  },
  {
   "cell_type": "code",
   "execution_count": 47,
   "id": "de03026d-4470-4b93-b14c-a667628c92c5",
   "metadata": {
    "tags": []
   },
   "outputs": [],
   "source": [
    "Z = c(10:20,y, sum(10:20))"
   ]
  },
  {
   "cell_type": "code",
   "execution_count": 48,
   "id": "10ca9080-3742-4b4f-a5e5-15c2d78fe16d",
   "metadata": {
    "tags": []
   },
   "outputs": [
    {
     "data": {
      "text/html": [
       "20"
      ],
      "text/latex": [
       "20"
      ],
      "text/markdown": [
       "20"
      ],
      "text/plain": [
       "[1] 20"
      ]
     },
     "metadata": {},
     "output_type": "display_data"
    }
   ],
   "source": [
    "length(Z)"
   ]
  },
  {
   "cell_type": "code",
   "execution_count": 49,
   "id": "fa23fbcb-fc01-4973-bd50-52627b68f76b",
   "metadata": {},
   "outputs": [
    {
     "data": {
      "text/html": [
       "<style>\n",
       ".list-inline {list-style: none; margin:0; padding: 0}\n",
       ".list-inline>li {display: inline-block}\n",
       ".list-inline>li:not(:last-child)::after {content: \"\\00b7\"; padding: 0 .5ex}\n",
       "</style>\n",
       "<ol class=list-inline><li>10</li><li>11</li><li>12</li><li>13</li><li>14</li><li>15</li><li>16</li><li>17</li><li>18</li><li>19</li><li>20</li><li>1</li><li>2</li><li>3</li><li>4</li><li>5</li><li>5</li><li>6</li><li>7</li><li>165</li></ol>\n"
      ],
      "text/latex": [
       "\\begin{enumerate*}\n",
       "\\item 10\n",
       "\\item 11\n",
       "\\item 12\n",
       "\\item 13\n",
       "\\item 14\n",
       "\\item 15\n",
       "\\item 16\n",
       "\\item 17\n",
       "\\item 18\n",
       "\\item 19\n",
       "\\item 20\n",
       "\\item 1\n",
       "\\item 2\n",
       "\\item 3\n",
       "\\item 4\n",
       "\\item 5\n",
       "\\item 5\n",
       "\\item 6\n",
       "\\item 7\n",
       "\\item 165\n",
       "\\end{enumerate*}\n"
      ],
      "text/markdown": [
       "1. 10\n",
       "2. 11\n",
       "3. 12\n",
       "4. 13\n",
       "5. 14\n",
       "6. 15\n",
       "7. 16\n",
       "8. 17\n",
       "9. 18\n",
       "10. 19\n",
       "11. 20\n",
       "12. 1\n",
       "13. 2\n",
       "14. 3\n",
       "15. 4\n",
       "16. 5\n",
       "17. 5\n",
       "18. 6\n",
       "19. 7\n",
       "20. 165\n",
       "\n",
       "\n"
      ],
      "text/plain": [
       " [1]  10  11  12  13  14  15  16  17  18  19  20   1   2   3   4   5   5   6   7\n",
       "[20] 165"
      ]
     },
     "metadata": {},
     "output_type": "display_data"
    }
   ],
   "source": [
    "Z"
   ]
  },
  {
   "cell_type": "markdown",
   "id": "5853b5f2-5c5f-4c4f-b252-3a53730d78c3",
   "metadata": {
    "tags": []
   },
   "source": [
    "### Creating the vector using (:) operator"
   ]
  },
  {
   "cell_type": "code",
   "execution_count": 50,
   "id": "727cbc02-34f3-469d-88f3-8e3d3b129a46",
   "metadata": {
    "tags": []
   },
   "outputs": [
    {
     "data": {
      "text/html": [
       "<style>\n",
       ".list-inline {list-style: none; margin:0; padding: 0}\n",
       ".list-inline>li {display: inline-block}\n",
       ".list-inline>li:not(:last-child)::after {content: \"\\00b7\"; padding: 0 .5ex}\n",
       "</style>\n",
       "<ol class=list-inline><li>1</li><li>2</li><li>3</li><li>4</li><li>5</li><li>6</li><li>7</li><li>8</li><li>9</li><li>10</li><li>11</li><li>12</li><li>13</li><li>14</li><li>15</li></ol>\n"
      ],
      "text/latex": [
       "\\begin{enumerate*}\n",
       "\\item 1\n",
       "\\item 2\n",
       "\\item 3\n",
       "\\item 4\n",
       "\\item 5\n",
       "\\item 6\n",
       "\\item 7\n",
       "\\item 8\n",
       "\\item 9\n",
       "\\item 10\n",
       "\\item 11\n",
       "\\item 12\n",
       "\\item 13\n",
       "\\item 14\n",
       "\\item 15\n",
       "\\end{enumerate*}\n"
      ],
      "text/markdown": [
       "1. 1\n",
       "2. 2\n",
       "3. 3\n",
       "4. 4\n",
       "5. 5\n",
       "6. 6\n",
       "7. 7\n",
       "8. 8\n",
       "9. 9\n",
       "10. 10\n",
       "11. 11\n",
       "12. 12\n",
       "13. 13\n",
       "14. 14\n",
       "15. 15\n",
       "\n",
       "\n"
      ],
      "text/plain": [
       " [1]  1  2  3  4  5  6  7  8  9 10 11 12 13 14 15"
      ]
     },
     "metadata": {},
     "output_type": "display_data"
    }
   ],
   "source": [
    "1:15 #Generates numbers from 1 to 15"
   ]
  },
  {
   "cell_type": "code",
   "execution_count": 51,
   "id": "18e3d7b2-cb68-4067-b13c-5932ac7130d1",
   "metadata": {
    "tags": []
   },
   "outputs": [
    {
     "data": {
      "text/html": [
       "120"
      ],
      "text/latex": [
       "120"
      ],
      "text/markdown": [
       "120"
      ],
      "text/plain": [
       "[1] 120"
      ]
     },
     "metadata": {},
     "output_type": "display_data"
    }
   ],
   "source": [
    "sum(1:15) #It sums the numbers from 1 to 15"
   ]
  },
  {
   "cell_type": "code",
   "execution_count": 52,
   "id": "17c4a1c7-cdcc-418e-a5fd-03b455b789e8",
   "metadata": {
    "tags": []
   },
   "outputs": [],
   "source": [
    "a <- \"hello\" ## Assigning a string to variable a"
   ]
  },
  {
   "cell_type": "code",
   "execution_count": 53,
   "id": "f861f4c5-67ad-41ee-ab7c-4cf8662bc9b8",
   "metadata": {
    "tags": []
   },
   "outputs": [
    {
     "data": {
      "text/html": [
       "'hello'"
      ],
      "text/latex": [
       "'hello'"
      ],
      "text/markdown": [
       "'hello'"
      ],
      "text/plain": [
       "[1] \"hello\""
      ]
     },
     "metadata": {},
     "output_type": "display_data"
    }
   ],
   "source": [
    "a"
   ]
  },
  {
   "cell_type": "code",
   "execution_count": 55,
   "id": "5f4ada01-e4ac-4237-beca-d442a40c82c4",
   "metadata": {
    "tags": []
   },
   "outputs": [],
   "source": [
    "b <- c(\"hello\",\"there\") ## Assigning two strings to variable b"
   ]
  },
  {
   "cell_type": "code",
   "execution_count": 56,
   "id": "640918c6-1e02-4bdb-b962-3280c8fa6e34",
   "metadata": {
    "tags": []
   },
   "outputs": [
    {
     "data": {
      "text/html": [
       "<style>\n",
       ".list-inline {list-style: none; margin:0; padding: 0}\n",
       ".list-inline>li {display: inline-block}\n",
       ".list-inline>li:not(:last-child)::after {content: \"\\00b7\"; padding: 0 .5ex}\n",
       "</style>\n",
       "<ol class=list-inline><li>'hello'</li><li>'there'</li></ol>\n"
      ],
      "text/latex": [
       "\\begin{enumerate*}\n",
       "\\item 'hello'\n",
       "\\item 'there'\n",
       "\\end{enumerate*}\n"
      ],
      "text/markdown": [
       "1. 'hello'\n",
       "2. 'there'\n",
       "\n",
       "\n"
      ],
      "text/plain": [
       "[1] \"hello\" \"there\""
      ]
     },
     "metadata": {},
     "output_type": "display_data"
    }
   ],
   "source": [
    "b"
   ]
  },
  {
   "cell_type": "code",
   "execution_count": 57,
   "id": "bd3f351c-f930-4f4a-89b1-f1b963aa1676",
   "metadata": {
    "tags": []
   },
   "outputs": [
    {
     "data": {
      "text/html": [
       "'hello'"
      ],
      "text/latex": [
       "'hello'"
      ],
      "text/markdown": [
       "'hello'"
      ],
      "text/plain": [
       "[1] \"hello\""
      ]
     },
     "metadata": {},
     "output_type": "display_data"
    }
   ],
   "source": [
    "b[1] ## Printing first element of variable b"
   ]
  },
  {
   "cell_type": "markdown",
   "id": "e996be89-0bae-413f-a471-2b0e01c10873",
   "metadata": {
    "tags": []
   },
   "source": [
    "### Logical Vectors"
   ]
  },
  {
   "cell_type": "code",
   "execution_count": 58,
   "id": "76546ca4-7003-42cb-b229-218e48cc7cf6",
   "metadata": {
    "tags": []
   },
   "outputs": [
    {
     "data": {
      "text/html": [
       "FALSE"
      ],
      "text/latex": [
       "FALSE"
      ],
      "text/markdown": [
       "FALSE"
      ],
      "text/plain": [
       "[1] FALSE"
      ]
     },
     "metadata": {},
     "output_type": "display_data"
    }
   ],
   "source": [
    "1>2"
   ]
  },
  {
   "cell_type": "code",
   "execution_count": 59,
   "id": "5ecbdb8f-c51d-427d-8249-e9c0fd526d9c",
   "metadata": {
    "tags": []
   },
   "outputs": [
    {
     "data": {
      "text/html": [
       "<style>\n",
       ".list-inline {list-style: none; margin:0; padding: 0}\n",
       ".list-inline>li {display: inline-block}\n",
       ".list-inline>li:not(:last-child)::after {content: \"\\00b7\"; padding: 0 .5ex}\n",
       "</style>\n",
       "<ol class=list-inline><li>FALSE</li><li>FALSE</li></ol>\n"
      ],
      "text/latex": [
       "\\begin{enumerate*}\n",
       "\\item FALSE\n",
       "\\item FALSE\n",
       "\\end{enumerate*}\n"
      ],
      "text/markdown": [
       "1. FALSE\n",
       "2. FALSE\n",
       "\n",
       "\n"
      ],
      "text/plain": [
       "[1] FALSE FALSE"
      ]
     },
     "metadata": {},
     "output_type": "display_data"
    }
   ],
   "source": [
    "c(1, 2) > 2"
   ]
  },
  {
   "cell_type": "code",
   "execution_count": 68,
   "id": "812acd2c-e004-47ba-a12e-f4c5d488f97c",
   "metadata": {
    "tags": []
   },
   "outputs": [
    {
     "data": {
      "text/html": [
       "<style>\n",
       ".list-inline {list-style: none; margin:0; padding: 0}\n",
       ".list-inline>li {display: inline-block}\n",
       ".list-inline>li:not(:last-child)::after {content: \"\\00b7\"; padding: 0 .5ex}\n",
       "</style>\n",
       "<ol class=list-inline><li>FALSE</li><li>FALSE</li><li>TRUE</li><li>FALSE</li></ol>\n"
      ],
      "text/latex": [
       "\\begin{enumerate*}\n",
       "\\item FALSE\n",
       "\\item FALSE\n",
       "\\item TRUE\n",
       "\\item FALSE\n",
       "\\end{enumerate*}\n"
      ],
      "text/markdown": [
       "1. FALSE\n",
       "2. FALSE\n",
       "3. TRUE\n",
       "4. FALSE\n",
       "\n",
       "\n"
      ],
      "text/plain": [
       "[1] FALSE FALSE  TRUE FALSE"
      ]
     },
     "metadata": {},
     "output_type": "display_data"
    }
   ],
   "source": [
    "c(2, 3) > c(4, 4, 1, 3.5)"
   ]
  },
  {
   "cell_type": "code",
   "execution_count": 61,
   "id": "9b812030-5af8-4ad5-a081-6eb8fe98af98",
   "metadata": {
    "tags": []
   },
   "outputs": [
    {
     "name": "stderr",
     "output_type": "stream",
     "text": [
      "Warning message in c(2, 3) > c(1, 2, -1, 3, 5):\n",
      "“longer object length is not a multiple of shorter object length”\n"
     ]
    },
    {
     "data": {
      "text/html": [
       "<style>\n",
       ".list-inline {list-style: none; margin:0; padding: 0}\n",
       ".list-inline>li {display: inline-block}\n",
       ".list-inline>li:not(:last-child)::after {content: \"\\00b7\"; padding: 0 .5ex}\n",
       "</style>\n",
       "<ol class=list-inline><li>TRUE</li><li>TRUE</li><li>TRUE</li><li>FALSE</li><li>FALSE</li></ol>\n"
      ],
      "text/latex": [
       "\\begin{enumerate*}\n",
       "\\item TRUE\n",
       "\\item TRUE\n",
       "\\item TRUE\n",
       "\\item FALSE\n",
       "\\item FALSE\n",
       "\\end{enumerate*}\n"
      ],
      "text/markdown": [
       "1. TRUE\n",
       "2. TRUE\n",
       "3. TRUE\n",
       "4. FALSE\n",
       "5. FALSE\n",
       "\n",
       "\n"
      ],
      "text/plain": [
       "[1]  TRUE  TRUE  TRUE FALSE FALSE"
      ]
     },
     "metadata": {},
     "output_type": "display_data"
    }
   ],
   "source": [
    "c(2, 3) > c(1, 2, -1, 3, 5)"
   ]
  },
  {
   "cell_type": "code",
   "execution_count": 69,
   "id": "b4b7c962-5bc0-4ea9-96e1-9ffadf196257",
   "metadata": {
    "tags": []
   },
   "outputs": [],
   "source": [
    "y=c(1, 2, c(3, 4, 5),c(5,6,7))"
   ]
  },
  {
   "cell_type": "code",
   "execution_count": 70,
   "id": "de0294a2-4bcc-476f-a93c-f6af1d8113cc",
   "metadata": {},
   "outputs": [
    {
     "data": {
      "text/html": [
       "<style>\n",
       ".list-inline {list-style: none; margin:0; padding: 0}\n",
       ".list-inline>li {display: inline-block}\n",
       ".list-inline>li:not(:last-child)::after {content: \"\\00b7\"; padding: 0 .5ex}\n",
       "</style>\n",
       "<ol class=list-inline><li>1</li><li>2</li><li>3</li><li>4</li><li>5</li><li>5</li><li>6</li><li>7</li></ol>\n"
      ],
      "text/latex": [
       "\\begin{enumerate*}\n",
       "\\item 1\n",
       "\\item 2\n",
       "\\item 3\n",
       "\\item 4\n",
       "\\item 5\n",
       "\\item 5\n",
       "\\item 6\n",
       "\\item 7\n",
       "\\end{enumerate*}\n"
      ],
      "text/markdown": [
       "1. 1\n",
       "2. 2\n",
       "3. 3\n",
       "4. 4\n",
       "5. 5\n",
       "6. 5\n",
       "7. 6\n",
       "8. 7\n",
       "\n",
       "\n"
      ],
      "text/plain": [
       "[1] 1 2 3 4 5 5 6 7"
      ]
     },
     "metadata": {},
     "output_type": "display_data"
    }
   ],
   "source": [
    "y"
   ]
  },
  {
   "cell_type": "code",
   "execution_count": 71,
   "id": "8e158141-1e0e-4237-8ca0-06aaff942819",
   "metadata": {
    "tags": []
   },
   "outputs": [
    {
     "data": {
      "text/html": [
       "<style>\n",
       ".list-inline {list-style: none; margin:0; padding: 0}\n",
       ".list-inline>li {display: inline-block}\n",
       ".list-inline>li:not(:last-child)::after {content: \"\\00b7\"; padding: 0 .5ex}\n",
       "</style>\n",
       "<ol class=list-inline><li>FALSE</li><li>FALSE</li><li>FALSE</li><li>FALSE</li><li>TRUE</li><li>TRUE</li><li>FALSE</li><li>FALSE</li></ol>\n"
      ],
      "text/latex": [
       "\\begin{enumerate*}\n",
       "\\item FALSE\n",
       "\\item FALSE\n",
       "\\item FALSE\n",
       "\\item FALSE\n",
       "\\item TRUE\n",
       "\\item TRUE\n",
       "\\item FALSE\n",
       "\\item FALSE\n",
       "\\end{enumerate*}\n"
      ],
      "text/markdown": [
       "1. FALSE\n",
       "2. FALSE\n",
       "3. FALSE\n",
       "4. FALSE\n",
       "5. TRUE\n",
       "6. TRUE\n",
       "7. FALSE\n",
       "8. FALSE\n",
       "\n",
       "\n"
      ],
      "text/plain": [
       "[1] FALSE FALSE FALSE FALSE  TRUE  TRUE FALSE FALSE"
      ]
     },
     "metadata": {},
     "output_type": "display_data"
    }
   ],
   "source": [
    "y == 5  # what will be the output?"
   ]
  },
  {
   "cell_type": "markdown",
   "id": "8a9d2a05-476d-4fac-82a2-fbd25a4792ff",
   "metadata": {
    "tags": []
   },
   "source": [
    "### Named Vectors"
   ]
  },
  {
   "cell_type": "code",
   "execution_count": 72,
   "id": "1452e3e3-8ff6-40b6-b462-53454a2bf0af",
   "metadata": {
    "tags": []
   },
   "outputs": [],
   "source": [
    "dbda <- c(janaki=1, nanda=2, madhavi=3, raghu=4 )"
   ]
  },
  {
   "cell_type": "code",
   "execution_count": 73,
   "id": "5dc1e3c1-c5c0-4cc2-a7b6-08c9965dc40e",
   "metadata": {
    "tags": []
   },
   "outputs": [
    {
     "data": {
      "text/html": [
       "<style>\n",
       ".dl-inline {width: auto; margin:0; padding: 0}\n",
       ".dl-inline>dt, .dl-inline>dd {float: none; width: auto; display: inline-block}\n",
       ".dl-inline>dt::after {content: \":\\0020\"; padding-right: .5ex}\n",
       ".dl-inline>dt:not(:first-of-type) {padding-left: .5ex}\n",
       "</style><dl class=dl-inline><dt>janaki</dt><dd>1</dd><dt>nanda</dt><dd>2</dd><dt>madhavi</dt><dd>3</dd><dt>raghu</dt><dd>4</dd></dl>\n"
      ],
      "text/latex": [
       "\\begin{description*}\n",
       "\\item[janaki] 1\n",
       "\\item[nanda] 2\n",
       "\\item[madhavi] 3\n",
       "\\item[raghu] 4\n",
       "\\end{description*}\n"
      ],
      "text/markdown": [
       "janaki\n",
       ":   1nanda\n",
       ":   2madhavi\n",
       ":   3raghu\n",
       ":   4\n",
       "\n"
      ],
      "text/plain": [
       " janaki   nanda madhavi   raghu \n",
       "      1       2       3       4 "
      ]
     },
     "metadata": {},
     "output_type": "display_data"
    },
    {
     "name": "stdout",
     "output_type": "stream",
     "text": [
      " janaki   nanda madhavi   raghu \n",
      "      1       2       3       4 \n",
      " janaki   nanda madhavi   raghu \n",
      "      1       2       3       4 \n"
     ]
    }
   ],
   "source": [
    "dbda\n",
    "print(dbda)\n",
    "show(dbda)"
   ]
  },
  {
   "cell_type": "code",
   "execution_count": 74,
   "id": "adf81c72-e3d5-43fa-a0f9-ca917e8faca2",
   "metadata": {
    "tags": []
   },
   "outputs": [
    {
     "data": {
      "text/html": [
       "<style>\n",
       ".list-inline {list-style: none; margin:0; padding: 0}\n",
       ".list-inline>li {display: inline-block}\n",
       ".list-inline>li:not(:last-child)::after {content: \"\\00b7\"; padding: 0 .5ex}\n",
       "</style>\n",
       "<ol class=list-inline><li>'janaki'</li><li>'nanda'</li><li>'madhavi'</li><li>'raghu'</li></ol>\n"
      ],
      "text/latex": [
       "\\begin{enumerate*}\n",
       "\\item 'janaki'\n",
       "\\item 'nanda'\n",
       "\\item 'madhavi'\n",
       "\\item 'raghu'\n",
       "\\end{enumerate*}\n"
      ],
      "text/markdown": [
       "1. 'janaki'\n",
       "2. 'nanda'\n",
       "3. 'madhavi'\n",
       "4. 'raghu'\n",
       "\n",
       "\n"
      ],
      "text/plain": [
       "[1] \"janaki\"  \"nanda\"   \"madhavi\" \"raghu\"  "
      ]
     },
     "metadata": {},
     "output_type": "display_data"
    }
   ],
   "source": [
    "names(dbda) #print only names without values"
   ]
  },
  {
   "cell_type": "code",
   "execution_count": 75,
   "id": "fd48c970-c15e-4d9e-a460-6b17aa284924",
   "metadata": {
    "tags": []
   },
   "outputs": [
    {
     "data": {
      "text/html": [
       "<style>\n",
       ".list-inline {list-style: none; margin:0; padding: 0}\n",
       ".list-inline>li {display: inline-block}\n",
       ".list-inline>li:not(:last-child)::after {content: \"\\00b7\"; padding: 0 .5ex}\n",
       "</style>\n",
       "<ol class=list-inline><li>1</li><li>2</li><li>3</li><li>4</li></ol>\n"
      ],
      "text/latex": [
       "\\begin{enumerate*}\n",
       "\\item 1\n",
       "\\item 2\n",
       "\\item 3\n",
       "\\item 4\n",
       "\\end{enumerate*}\n"
      ],
      "text/markdown": [
       "1. 1\n",
       "2. 2\n",
       "3. 3\n",
       "4. 4\n",
       "\n",
       "\n"
      ],
      "text/plain": [
       "[1] 1 2 3 4"
      ]
     },
     "metadata": {},
     "output_type": "display_data"
    }
   ],
   "source": [
    "unname(dbda) #Print values without names"
   ]
  },
  {
   "cell_type": "code",
   "execution_count": 76,
   "id": "14c64f98-a670-4560-88e9-07ce221630be",
   "metadata": {
    "tags": []
   },
   "outputs": [
    {
     "name": "stdout",
     "output_type": "stream",
     "text": [
      " Named num [1:4] 1 2 3 4\n",
      " - attr(*, \"names\")= chr [1:4] \"janaki\" \"nanda\" \"madhavi\" \"raghu\"\n"
     ]
    }
   ],
   "source": [
    "str(dbda) #See the structure of object ‘x’"
   ]
  },
  {
   "cell_type": "code",
   "execution_count": 77,
   "id": "8da71057-0428-499a-b959-e76ad19d3c06",
   "metadata": {
    "tags": []
   },
   "outputs": [
    {
     "data": {
      "text/html": [
       "<style>\n",
       ".dl-inline {width: auto; margin:0; padding: 0}\n",
       ".dl-inline>dt, .dl-inline>dd {float: none; width: auto; display: inline-block}\n",
       ".dl-inline>dt::after {content: \":\\0020\"; padding-right: .5ex}\n",
       ".dl-inline>dt:not(:first-of-type) {padding-left: .5ex}\n",
       "</style><dl class=dl-inline><dt>raghu</dt><dd>4</dd><dt>madhavi</dt><dd>3</dd><dt>nanda</dt><dd>2</dd><dt>janaki</dt><dd>1</dd></dl>\n"
      ],
      "text/latex": [
       "\\begin{description*}\n",
       "\\item[raghu] 4\n",
       "\\item[madhavi] 3\n",
       "\\item[nanda] 2\n",
       "\\item[janaki] 1\n",
       "\\end{description*}\n"
      ],
      "text/markdown": [
       "raghu\n",
       ":   4madhavi\n",
       ":   3nanda\n",
       ":   2janaki\n",
       ":   1\n",
       "\n"
      ],
      "text/plain": [
       "  raghu madhavi   nanda  janaki \n",
       "      4       3       2       1 "
      ]
     },
     "metadata": {},
     "output_type": "display_data"
    }
   ],
   "source": [
    "dbda[order(dbda, decreasing = TRUE)]"
   ]
  },
  {
   "cell_type": "code",
   "execution_count": 78,
   "id": "886cab0d-0032-4fd3-b70e-86cea13084ed",
   "metadata": {
    "tags": []
   },
   "outputs": [
    {
     "data": {
      "text/plain": [
       "\n",
       "FALSE \n",
       "    4 "
      ]
     },
     "metadata": {},
     "output_type": "display_data"
    }
   ],
   "source": [
    "table(is.na(dbda))"
   ]
  },
  {
   "cell_type": "code",
   "execution_count": 79,
   "id": "a6d70bdc-7c6b-40c8-91b0-b3dae1b97acc",
   "metadata": {
    "tags": []
   },
   "outputs": [],
   "source": [
    "dbda[c(5)]<-NA"
   ]
  },
  {
   "cell_type": "code",
   "execution_count": 80,
   "id": "a83bb830-4238-46dd-a64a-7760d3966b81",
   "metadata": {
    "tags": []
   },
   "outputs": [
    {
     "data": {
      "text/plain": [
       "\n",
       "FALSE  TRUE \n",
       "    4     1 "
      ]
     },
     "metadata": {},
     "output_type": "display_data"
    }
   ],
   "source": [
    "table(is.na(dbda))"
   ]
  },
  {
   "cell_type": "code",
   "execution_count": 81,
   "id": "57280241-2642-4aac-8be2-3eee21248232",
   "metadata": {},
   "outputs": [
    {
     "data": {
      "text/html": [
       "<style>\n",
       ".dl-inline {width: auto; margin:0; padding: 0}\n",
       ".dl-inline>dt, .dl-inline>dd {float: none; width: auto; display: inline-block}\n",
       ".dl-inline>dt::after {content: \":\\0020\"; padding-right: .5ex}\n",
       ".dl-inline>dt:not(:first-of-type) {padding-left: .5ex}\n",
       "</style><dl class=dl-inline><dt>janaki</dt><dd>1</dd><dt>nanda</dt><dd>2</dd><dt>madhavi</dt><dd>3</dd><dt>raghu</dt><dd>4</dd><dt>5</dt><dd>&lt;NA&gt;</dd></dl>\n"
      ],
      "text/latex": [
       "\\begin{description*}\n",
       "\\item[janaki] 1\n",
       "\\item[nanda] 2\n",
       "\\item[madhavi] 3\n",
       "\\item[raghu] 4\n",
       "\\item[5] <NA>\n",
       "\\end{description*}\n"
      ],
      "text/markdown": [
       "janaki\n",
       ":   1nanda\n",
       ":   2madhavi\n",
       ":   3raghu\n",
       ":   45\n",
       ":   &lt;NA&gt;\n",
       "\n"
      ],
      "text/plain": [
       " janaki   nanda madhavi   raghu         \n",
       "      1       2       3       4      NA "
      ]
     },
     "metadata": {},
     "output_type": "display_data"
    }
   ],
   "source": [
    "dbda"
   ]
  },
  {
   "cell_type": "markdown",
   "id": "d7ab5d6c-58c2-4146-9948-1e800f160421",
   "metadata": {
    "tags": []
   },
   "source": [
    "### Extracting an element out of a vector"
   ]
  },
  {
   "cell_type": "code",
   "execution_count": 82,
   "id": "37598d85-cfe2-463b-a240-e35bb3580f06",
   "metadata": {
    "tags": []
   },
   "outputs": [
    {
     "data": {
      "text/html": [
       "<strong>nanda:</strong> 2"
      ],
      "text/latex": [
       "\\textbf{nanda:} 2"
      ],
      "text/markdown": [
       "**nanda:** 2"
      ],
      "text/plain": [
       "nanda \n",
       "    2 "
      ]
     },
     "metadata": {},
     "output_type": "display_data"
    }
   ],
   "source": [
    "dbda[2]"
   ]
  },
  {
   "cell_type": "code",
   "execution_count": 83,
   "id": "780c5cc3-1484-48f0-9e73-2ed6f8108aad",
   "metadata": {
    "tags": []
   },
   "outputs": [
    {
     "data": {
      "text/html": [
       "<strong>nanda:</strong> 2"
      ],
      "text/latex": [
       "\\textbf{nanda:} 2"
      ],
      "text/markdown": [
       "**nanda:** 2"
      ],
      "text/plain": [
       "nanda \n",
       "    2 "
      ]
     },
     "metadata": {},
     "output_type": "display_data"
    }
   ],
   "source": [
    "dbda[\"nanda\"]"
   ]
  },
  {
   "cell_type": "code",
   "execution_count": 84,
   "id": "332f8b75-f947-4fa8-8e3e-882fa9fb03e8",
   "metadata": {
    "tags": []
   },
   "outputs": [
    {
     "data": {
      "text/html": [
       "2"
      ],
      "text/latex": [
       "2"
      ],
      "text/markdown": [
       "2"
      ],
      "text/plain": [
       "[1] 2"
      ]
     },
     "metadata": {},
     "output_type": "display_data"
    }
   ],
   "source": [
    "dbda[[\"nanda\"]]"
   ]
  },
  {
   "cell_type": "markdown",
   "id": "f338bf01-94cc-4a57-8478-db14914afc69",
   "metadata": {
    "tags": []
   },
   "source": [
    "### Extract elements which are greater than certain value"
   ]
  },
  {
   "cell_type": "code",
   "execution_count": 85,
   "id": "30e55c96-1b26-4635-9290-d290c9ebc789",
   "metadata": {
    "tags": []
   },
   "outputs": [],
   "source": [
    "input <- c(21, 44, 69, 9, 12, 16, 19, 224, 261, 300)"
   ]
  },
  {
   "cell_type": "code",
   "execution_count": 86,
   "id": "5374d89e-87d8-44d5-82a1-7787dcf68df8",
   "metadata": {
    "tags": []
   },
   "outputs": [
    {
     "data": {
      "text/html": [
       "<style>\n",
       ".list-inline {list-style: none; margin:0; padding: 0}\n",
       ".list-inline>li {display: inline-block}\n",
       ".list-inline>li:not(:last-child)::after {content: \"\\00b7\"; padding: 0 .5ex}\n",
       "</style>\n",
       "<ol class=list-inline><li>FALSE</li><li>FALSE</li><li>FALSE</li><li>FALSE</li><li>FALSE</li><li>FALSE</li><li>FALSE</li><li>TRUE</li><li>TRUE</li><li>TRUE</li></ol>\n"
      ],
      "text/latex": [
       "\\begin{enumerate*}\n",
       "\\item FALSE\n",
       "\\item FALSE\n",
       "\\item FALSE\n",
       "\\item FALSE\n",
       "\\item FALSE\n",
       "\\item FALSE\n",
       "\\item FALSE\n",
       "\\item TRUE\n",
       "\\item TRUE\n",
       "\\item TRUE\n",
       "\\end{enumerate*}\n"
      ],
      "text/markdown": [
       "1. FALSE\n",
       "2. FALSE\n",
       "3. FALSE\n",
       "4. FALSE\n",
       "5. FALSE\n",
       "6. FALSE\n",
       "7. FALSE\n",
       "8. TRUE\n",
       "9. TRUE\n",
       "10. TRUE\n",
       "\n",
       "\n"
      ],
      "text/plain": [
       " [1] FALSE FALSE FALSE FALSE FALSE FALSE FALSE  TRUE  TRUE  TRUE"
      ]
     },
     "metadata": {},
     "output_type": "display_data"
    }
   ],
   "source": [
    "input > 220 "
   ]
  },
  {
   "cell_type": "code",
   "execution_count": 88,
   "id": "b146700b-b5e2-4685-aaad-cf9042c5bed6",
   "metadata": {
    "tags": []
   },
   "outputs": [],
   "source": [
    "input1 <- input[input > 220]"
   ]
  },
  {
   "cell_type": "code",
   "execution_count": 89,
   "id": "817de117-8517-4aeb-8530-bb26e70adc2d",
   "metadata": {},
   "outputs": [
    {
     "data": {
      "text/html": [
       "<style>\n",
       ".list-inline {list-style: none; margin:0; padding: 0}\n",
       ".list-inline>li {display: inline-block}\n",
       ".list-inline>li:not(:last-child)::after {content: \"\\00b7\"; padding: 0 .5ex}\n",
       "</style>\n",
       "<ol class=list-inline><li>224</li><li>261</li><li>300</li></ol>\n"
      ],
      "text/latex": [
       "\\begin{enumerate*}\n",
       "\\item 224\n",
       "\\item 261\n",
       "\\item 300\n",
       "\\end{enumerate*}\n"
      ],
      "text/markdown": [
       "1. 224\n",
       "2. 261\n",
       "3. 300\n",
       "\n",
       "\n"
      ],
      "text/plain": [
       "[1] 224 261 300"
      ]
     },
     "metadata": {},
     "output_type": "display_data"
    }
   ],
   "source": [
    "input1"
   ]
  },
  {
   "cell_type": "markdown",
   "id": "578c9d7d-6a52-4551-972d-348d1d385280",
   "metadata": {
    "tags": []
   },
   "source": [
    "### Representation of Categorical Data"
   ]
  },
  {
   "cell_type": "code",
   "execution_count": 90,
   "id": "8117fdd5-6f7e-4c44-84b1-9f0fa5a3a5d7",
   "metadata": {
    "tags": []
   },
   "outputs": [
    {
     "data": {
      "text/html": [
       "<style>\n",
       ".list-inline {list-style: none; margin:0; padding: 0}\n",
       ".list-inline>li {display: inline-block}\n",
       ".list-inline>li:not(:last-child)::after {content: \"\\00b7\"; padding: 0 .5ex}\n",
       "</style>\n",
       "<ol class=list-inline><li>'lion'</li><li>'tiger'</li><li>'fox'</li><li>'wolf'</li><li>'tiger'</li><li>'wolf'</li><li>'lion'</li><li>'tiger'</li><li>'fox'</li></ol>\n"
      ],
      "text/latex": [
       "\\begin{enumerate*}\n",
       "\\item 'lion'\n",
       "\\item 'tiger'\n",
       "\\item 'fox'\n",
       "\\item 'wolf'\n",
       "\\item 'tiger'\n",
       "\\item 'wolf'\n",
       "\\item 'lion'\n",
       "\\item 'tiger'\n",
       "\\item 'fox'\n",
       "\\end{enumerate*}\n"
      ],
      "text/markdown": [
       "1. 'lion'\n",
       "2. 'tiger'\n",
       "3. 'fox'\n",
       "4. 'wolf'\n",
       "5. 'tiger'\n",
       "6. 'wolf'\n",
       "7. 'lion'\n",
       "8. 'tiger'\n",
       "9. 'fox'\n",
       "\n",
       "\n"
      ],
      "text/plain": [
       "[1] \"lion\"  \"tiger\" \"fox\"   \"wolf\"  \"tiger\" \"wolf\"  \"lion\"  \"tiger\" \"fox\"  "
      ]
     },
     "metadata": {},
     "output_type": "display_data"
    }
   ],
   "source": [
    "data<-c(\"lion\",\"tiger\",\"fox\",\"wolf\",\"tiger\",\"wolf\",\"lion\",\"tiger\",\"fox\")\n",
    "data"
   ]
  },
  {
   "cell_type": "code",
   "execution_count": 92,
   "id": "27992d00-7b3e-4df6-88fd-78c5b1f48fa2",
   "metadata": {
    "tags": []
   },
   "outputs": [
    {
     "data": {
      "text/html": [
       "FALSE"
      ],
      "text/latex": [
       "FALSE"
      ],
      "text/markdown": [
       "FALSE"
      ],
      "text/plain": [
       "[1] FALSE"
      ]
     },
     "metadata": {},
     "output_type": "display_data"
    }
   ],
   "source": [
    "is.factor(data)"
   ]
  },
  {
   "cell_type": "code",
   "execution_count": 93,
   "id": "39ddd3f2-6719-4ce6-b4a5-4364c4f14c41",
   "metadata": {
    "tags": []
   },
   "outputs": [],
   "source": [
    "factor_data <- factor(data) "
   ]
  },
  {
   "cell_type": "code",
   "execution_count": 94,
   "id": "48061032-ffce-4ca0-9f9b-69f5fa50266a",
   "metadata": {
    "tags": []
   },
   "outputs": [
    {
     "data": {
      "text/html": [
       "<style>\n",
       ".list-inline {list-style: none; margin:0; padding: 0}\n",
       ".list-inline>li {display: inline-block}\n",
       ".list-inline>li:not(:last-child)::after {content: \"\\00b7\"; padding: 0 .5ex}\n",
       "</style>\n",
       "<ol class=list-inline><li>lion</li><li>tiger</li><li>fox</li><li>wolf</li><li>tiger</li><li>wolf</li><li>lion</li><li>tiger</li><li>fox</li></ol>\n",
       "\n",
       "<details>\n",
       "\t<summary style=display:list-item;cursor:pointer>\n",
       "\t\t<strong>Levels</strong>:\n",
       "\t</summary>\n",
       "\t<style>\n",
       "\t.list-inline {list-style: none; margin:0; padding: 0}\n",
       "\t.list-inline>li {display: inline-block}\n",
       "\t.list-inline>li:not(:last-child)::after {content: \"\\00b7\"; padding: 0 .5ex}\n",
       "\t</style>\n",
       "\t<ol class=list-inline><li>'fox'</li><li>'lion'</li><li>'tiger'</li><li>'wolf'</li></ol>\n",
       "</details>"
      ],
      "text/latex": [
       "\\begin{enumerate*}\n",
       "\\item lion\n",
       "\\item tiger\n",
       "\\item fox\n",
       "\\item wolf\n",
       "\\item tiger\n",
       "\\item wolf\n",
       "\\item lion\n",
       "\\item tiger\n",
       "\\item fox\n",
       "\\end{enumerate*}\n",
       "\n",
       "\\emph{Levels}: \\begin{enumerate*}\n",
       "\\item 'fox'\n",
       "\\item 'lion'\n",
       "\\item 'tiger'\n",
       "\\item 'wolf'\n",
       "\\end{enumerate*}\n"
      ],
      "text/markdown": [
       "1. lion\n",
       "2. tiger\n",
       "3. fox\n",
       "4. wolf\n",
       "5. tiger\n",
       "6. wolf\n",
       "7. lion\n",
       "8. tiger\n",
       "9. fox\n",
       "\n",
       "\n",
       "\n",
       "**Levels**: 1. 'fox'\n",
       "2. 'lion'\n",
       "3. 'tiger'\n",
       "4. 'wolf'\n",
       "\n",
       "\n"
      ],
      "text/plain": [
       "[1] lion  tiger fox   wolf  tiger wolf  lion  tiger fox  \n",
       "Levels: fox lion tiger wolf"
      ]
     },
     "metadata": {},
     "output_type": "display_data"
    }
   ],
   "source": [
    "factor_data "
   ]
  },
  {
   "cell_type": "markdown",
   "id": "32cef0db-8193-4c55-87df-417701ee7aa0",
   "metadata": {
    "tags": []
   },
   "source": [
    "#### Levels: It is a set of distinct values which are given to the input vector x."
   ]
  },
  {
   "cell_type": "code",
   "execution_count": null,
   "id": "7af5a690-baeb-4e1a-80ca-197b6f4d9093",
   "metadata": {
    "tags": []
   },
   "outputs": [],
   "source": [
    "is.factor(factor_data)"
   ]
  },
  {
   "cell_type": "markdown",
   "id": "f8db1cc6-16af-4cab-ab23-3e3c819a5ce0",
   "metadata": {
    "tags": []
   },
   "source": [
    "### Data Frames"
   ]
  },
  {
   "cell_type": "code",
   "execution_count": 95,
   "id": "9b0149db-0a1e-4392-a096-9e5e37584b35",
   "metadata": {
    "tags": []
   },
   "outputs": [],
   "source": [
    "a<-c(1,2,3,4)\n",
    "b<-c(2,4,6,8)"
   ]
  },
  {
   "cell_type": "code",
   "execution_count": 97,
   "id": "47898a5a-ea3d-47ed-a1bb-53baa01ca04d",
   "metadata": {
    "tags": []
   },
   "outputs": [],
   "source": [
    "levels <- factor(c('A','B','B','A'))"
   ]
  },
  {
   "cell_type": "code",
   "execution_count": 98,
   "id": "f7a60a81-99a1-4d18-8716-1f3fa9a00bbd",
   "metadata": {
    "tags": []
   },
   "outputs": [],
   "source": [
    "MyDataFrame<-data.frame(a, b, levels)"
   ]
  },
  {
   "cell_type": "code",
   "execution_count": 99,
   "id": "24597c33-e65a-4304-9052-caf297f70197",
   "metadata": {
    "tags": []
   },
   "outputs": [
    {
     "data": {
      "text/html": [
       "<table class=\"dataframe\">\n",
       "<caption>A data.frame: 4 × 3</caption>\n",
       "<thead>\n",
       "\t<tr><th scope=col>a</th><th scope=col>b</th><th scope=col>levels</th></tr>\n",
       "\t<tr><th scope=col>&lt;dbl&gt;</th><th scope=col>&lt;dbl&gt;</th><th scope=col>&lt;fct&gt;</th></tr>\n",
       "</thead>\n",
       "<tbody>\n",
       "\t<tr><td>1</td><td>2</td><td>A</td></tr>\n",
       "\t<tr><td>2</td><td>4</td><td>B</td></tr>\n",
       "\t<tr><td>3</td><td>6</td><td>B</td></tr>\n",
       "\t<tr><td>4</td><td>8</td><td>A</td></tr>\n",
       "</tbody>\n",
       "</table>\n"
      ],
      "text/latex": [
       "A data.frame: 4 × 3\n",
       "\\begin{tabular}{lll}\n",
       " a & b & levels\\\\\n",
       " <dbl> & <dbl> & <fct>\\\\\n",
       "\\hline\n",
       "\t 1 & 2 & A\\\\\n",
       "\t 2 & 4 & B\\\\\n",
       "\t 3 & 6 & B\\\\\n",
       "\t 4 & 8 & A\\\\\n",
       "\\end{tabular}\n"
      ],
      "text/markdown": [
       "\n",
       "A data.frame: 4 × 3\n",
       "\n",
       "| a &lt;dbl&gt; | b &lt;dbl&gt; | levels &lt;fct&gt; |\n",
       "|---|---|---|\n",
       "| 1 | 2 | A |\n",
       "| 2 | 4 | B |\n",
       "| 3 | 6 | B |\n",
       "| 4 | 8 | A |\n",
       "\n"
      ],
      "text/plain": [
       "  a b levels\n",
       "1 1 2 A     \n",
       "2 2 4 B     \n",
       "3 3 6 B     \n",
       "4 4 8 A     "
      ]
     },
     "metadata": {},
     "output_type": "display_data"
    }
   ],
   "source": [
    "MyDataFrame"
   ]
  },
  {
   "cell_type": "markdown",
   "id": "bc072e01-3e76-4d9c-9cc5-1b3df7b7bdcf",
   "metadata": {
    "tags": []
   },
   "source": [
    "### Class of Vectors"
   ]
  },
  {
   "cell_type": "code",
   "execution_count": 100,
   "id": "9be8cb80-1f26-4bed-b0c5-73e4b03c7824",
   "metadata": {
    "tags": []
   },
   "outputs": [
    {
     "data": {
      "text/html": [
       "'numeric'"
      ],
      "text/latex": [
       "'numeric'"
      ],
      "text/markdown": [
       "'numeric'"
      ],
      "text/plain": [
       "[1] \"numeric\""
      ]
     },
     "metadata": {},
     "output_type": "display_data"
    }
   ],
   "source": [
    "class(c(1, 2, 3))"
   ]
  },
  {
   "cell_type": "code",
   "execution_count": 101,
   "id": "baf405dd-f285-4ea8-ae41-e5ff27fd050e",
   "metadata": {
    "tags": []
   },
   "outputs": [
    {
     "data": {
      "text/html": [
       "'logical'"
      ],
      "text/latex": [
       "'logical'"
      ],
      "text/markdown": [
       "'logical'"
      ],
      "text/plain": [
       "[1] \"logical\""
      ]
     },
     "metadata": {},
     "output_type": "display_data"
    }
   ],
   "source": [
    "class(c(TRUE, TRUE, FALSE))"
   ]
  },
  {
   "cell_type": "code",
   "execution_count": 102,
   "id": "9f38cfb1-f60d-4864-b8d8-38f559f159df",
   "metadata": {
    "tags": []
   },
   "outputs": [
    {
     "data": {
      "text/html": [
       "'character'"
      ],
      "text/latex": [
       "'character'"
      ],
      "text/markdown": [
       "'character'"
      ],
      "text/plain": [
       "[1] \"character\""
      ]
     },
     "metadata": {},
     "output_type": "display_data"
    }
   ],
   "source": [
    "class(c('Hello', 'World'))"
   ]
  },
  {
   "cell_type": "code",
   "execution_count": 104,
   "id": "c95de45e-24fa-400e-8eef-9c2e3584a649",
   "metadata": {
    "tags": []
   },
   "outputs": [
    {
     "data": {
      "text/html": [
       "'data.frame'"
      ],
      "text/latex": [
       "'data.frame'"
      ],
      "text/markdown": [
       "'data.frame'"
      ],
      "text/plain": [
       "[1] \"data.frame\""
      ]
     },
     "metadata": {},
     "output_type": "display_data"
    }
   ],
   "source": [
    "class(MyDataFrame)"
   ]
  },
  {
   "cell_type": "code",
   "execution_count": 105,
   "id": "b8b083ed-5b17-4991-bbdd-bddc9c85a9c5",
   "metadata": {
    "tags": []
   },
   "outputs": [
    {
     "data": {
      "text/html": [
       "TRUE"
      ],
      "text/latex": [
       "TRUE"
      ],
      "text/markdown": [
       "TRUE"
      ],
      "text/plain": [
       "[1] TRUE"
      ]
     },
     "metadata": {},
     "output_type": "display_data"
    }
   ],
   "source": [
    "is.numeric(c(1, 2, 3))"
   ]
  },
  {
   "cell_type": "code",
   "execution_count": 106,
   "id": "00a6a5c3-d1cd-4351-903f-806eb444d403",
   "metadata": {
    "tags": []
   },
   "outputs": [
    {
     "data": {
      "text/html": [
       "FALSE"
      ],
      "text/latex": [
       "FALSE"
      ],
      "text/markdown": [
       "FALSE"
      ],
      "text/plain": [
       "[1] FALSE"
      ]
     },
     "metadata": {},
     "output_type": "display_data"
    }
   ],
   "source": [
    "is.numeric(c(TRUE, TRUE, FALSE))"
   ]
  },
  {
   "cell_type": "code",
   "execution_count": 107,
   "id": "2968b093-6ed7-43f5-b8bb-81949b3b8c0f",
   "metadata": {
    "tags": []
   },
   "outputs": [
    {
     "data": {
      "text/html": [
       "FALSE"
      ],
      "text/latex": [
       "FALSE"
      ],
      "text/markdown": [
       "FALSE"
      ],
      "text/plain": [
       "[1] FALSE"
      ]
     },
     "metadata": {},
     "output_type": "display_data"
    }
   ],
   "source": [
    "is.numeric(c(\"Hello\", \"World\"))"
   ]
  },
  {
   "cell_type": "code",
   "execution_count": 108,
   "id": "e4f45139-d6ae-4cd0-83de-f55fa6620ee8",
   "metadata": {
    "tags": []
   },
   "outputs": [
    {
     "data": {
      "text/html": [
       "TRUE"
      ],
      "text/latex": [
       "TRUE"
      ],
      "text/markdown": [
       "TRUE"
      ],
      "text/plain": [
       "[1] TRUE"
      ]
     },
     "metadata": {},
     "output_type": "display_data"
    }
   ],
   "source": [
    "is.character(c('a','b','c'))"
   ]
  },
  {
   "cell_type": "markdown",
   "id": "6fee8abe-b26e-4d5a-bc8e-c84d47ff8743",
   "metadata": {
    "tags": []
   },
   "source": [
    "### Converting Vectors"
   ]
  },
  {
   "cell_type": "code",
   "execution_count": 109,
   "id": "4999f296-1ea4-4619-b635-802dc3ab3674",
   "metadata": {
    "tags": []
   },
   "outputs": [
    {
     "data": {
      "text/html": [
       "'character'"
      ],
      "text/latex": [
       "'character'"
      ],
      "text/markdown": [
       "'character'"
      ],
      "text/plain": [
       "[1] \"character\""
      ]
     },
     "metadata": {},
     "output_type": "display_data"
    }
   ],
   "source": [
    "strings <-c(\"1\", \"2\", \"3\")\n",
    "class(strings)"
   ]
  },
  {
   "cell_type": "code",
   "execution_count": 110,
   "id": "5bb19110-c26e-4bbf-a245-96ebcb96ec31",
   "metadata": {
    "tags": []
   },
   "outputs": [
    {
     "ename": "ERROR",
     "evalue": "Error in parse(text = x, srcfile = src): <text>:1:10: unexpected input\n1: strings + \n             ^\n",
     "output_type": "error",
     "traceback": [
      "Error in parse(text = x, srcfile = src): <text>:1:10: unexpected input\n1: strings + \n             ^\nTraceback:\n"
     ]
    }
   ],
   "source": [
    "strings + 10"
   ]
  },
  {
   "cell_type": "code",
   "execution_count": 112,
   "id": "26256cbd-18a0-4009-944d-c609a9d7f38f",
   "metadata": {
    "tags": []
   },
   "outputs": [],
   "source": [
    "numbers = as.numeric(strings)"
   ]
  },
  {
   "cell_type": "code",
   "execution_count": 113,
   "id": "84d1fd3e-8d5c-419e-9095-fcce355cfaab",
   "metadata": {
    "tags": []
   },
   "outputs": [
    {
     "data": {
      "text/html": [
       "<style>\n",
       ".list-inline {list-style: none; margin:0; padding: 0}\n",
       ".list-inline>li {display: inline-block}\n",
       ".list-inline>li:not(:last-child)::after {content: \"\\00b7\"; padding: 0 .5ex}\n",
       "</style>\n",
       "<ol class=list-inline><li>1</li><li>2</li><li>3</li></ol>\n"
      ],
      "text/latex": [
       "\\begin{enumerate*}\n",
       "\\item 1\n",
       "\\item 2\n",
       "\\item 3\n",
       "\\end{enumerate*}\n"
      ],
      "text/markdown": [
       "1. 1\n",
       "2. 2\n",
       "3. 3\n",
       "\n",
       "\n"
      ],
      "text/plain": [
       "[1] 1 2 3"
      ]
     },
     "metadata": {},
     "output_type": "display_data"
    }
   ],
   "source": [
    "numbers"
   ]
  },
  {
   "cell_type": "code",
   "execution_count": 116,
   "id": "87486c8a-d34e-471f-a935-a5e3cbe36be9",
   "metadata": {
    "tags": []
   },
   "outputs": [
    {
     "data": {
      "text/html": [
       "<style>\n",
       ".list-inline {list-style: none; margin:0; padding: 0}\n",
       ".list-inline>li {display: inline-block}\n",
       ".list-inline>li:not(:last-child)::after {content: \"\\00b7\"; padding: 0 .5ex}\n",
       "</style>\n",
       "<ol class=list-inline><li>10</li><li>20</li><li>30</li></ol>\n"
      ],
      "text/latex": [
       "\\begin{enumerate*}\n",
       "\\item 10\n",
       "\\item 20\n",
       "\\item 30\n",
       "\\end{enumerate*}\n"
      ],
      "text/markdown": [
       "1. 10\n",
       "2. 20\n",
       "3. 30\n",
       "\n",
       "\n"
      ],
      "text/plain": [
       "[1] 10 20 30"
      ]
     },
     "metadata": {},
     "output_type": "display_data"
    }
   ],
   "source": [
    "numbers*10 "
   ]
  },
  {
   "cell_type": "code",
   "execution_count": 117,
   "id": "f6e63049-b0a8-47cf-a16c-23b7159b2642",
   "metadata": {
    "tags": []
   },
   "outputs": [
    {
     "name": "stderr",
     "output_type": "stream",
     "text": [
      "Warning message in eval(expr, envir, enclos):\n",
      "“NAs introduced by coercion”\n"
     ]
    },
    {
     "data": {
      "text/html": [
       "<style>\n",
       ".list-inline {list-style: none; margin:0; padding: 0}\n",
       ".list-inline>li {display: inline-block}\n",
       ".list-inline>li:not(:last-child)::after {content: \"\\00b7\"; padding: 0 .5ex}\n",
       "</style>\n",
       "<ol class=list-inline><li>1</li><li>2</li><li>3</li><li>&lt;NA&gt;</li></ol>\n"
      ],
      "text/latex": [
       "\\begin{enumerate*}\n",
       "\\item 1\n",
       "\\item 2\n",
       "\\item 3\n",
       "\\item <NA>\n",
       "\\end{enumerate*}\n"
      ],
      "text/markdown": [
       "1. 1\n",
       "2. 2\n",
       "3. 3\n",
       "4. &lt;NA&gt;\n",
       "\n",
       "\n"
      ],
      "text/plain": [
       "[1]  1  2  3 NA"
      ]
     },
     "metadata": {},
     "output_type": "display_data"
    }
   ],
   "source": [
    "as.numeric(c(\"1\", \"2\", \"3\", \"a\"))"
   ]
  },
  {
   "cell_type": "code",
   "execution_count": 118,
   "id": "1ddf342b-1995-47bf-9b88-d6bb7f335057",
   "metadata": {
    "tags": []
   },
   "outputs": [
    {
     "data": {
      "text/html": [
       "<style>\n",
       ".list-inline {list-style: none; margin:0; padding: 0}\n",
       ".list-inline>li {display: inline-block}\n",
       ".list-inline>li:not(:last-child)::after {content: \"\\00b7\"; padding: 0 .5ex}\n",
       "</style>\n",
       "<ol class=list-inline><li>TRUE</li><li>FALSE</li><li>TRUE</li><li>TRUE</li></ol>\n"
      ],
      "text/latex": [
       "\\begin{enumerate*}\n",
       "\\item TRUE\n",
       "\\item FALSE\n",
       "\\item TRUE\n",
       "\\item TRUE\n",
       "\\end{enumerate*}\n"
      ],
      "text/markdown": [
       "1. TRUE\n",
       "2. FALSE\n",
       "3. TRUE\n",
       "4. TRUE\n",
       "\n",
       "\n"
      ],
      "text/plain": [
       "[1]  TRUE FALSE  TRUE  TRUE"
      ]
     },
     "metadata": {},
     "output_type": "display_data"
    }
   ],
   "source": [
    "as.logical(c(-1, 0, 1, 2))"
   ]
  },
  {
   "cell_type": "code",
   "execution_count": 119,
   "id": "953d07c6-b93b-4f24-a532-4ad465b8c8ab",
   "metadata": {
    "tags": []
   },
   "outputs": [
    {
     "data": {
      "text/html": [
       "<style>\n",
       ".list-inline {list-style: none; margin:0; padding: 0}\n",
       ".list-inline>li {display: inline-block}\n",
       ".list-inline>li:not(:last-child)::after {content: \"\\00b7\"; padding: 0 .5ex}\n",
       "</style>\n",
       "<ol class=list-inline><li>'1'</li><li>'2'</li><li>'3'</li></ol>\n"
      ],
      "text/latex": [
       "\\begin{enumerate*}\n",
       "\\item '1'\n",
       "\\item '2'\n",
       "\\item '3'\n",
       "\\end{enumerate*}\n"
      ],
      "text/markdown": [
       "1. '1'\n",
       "2. '2'\n",
       "3. '3'\n",
       "\n",
       "\n"
      ],
      "text/plain": [
       "[1] \"1\" \"2\" \"3\""
      ]
     },
     "metadata": {},
     "output_type": "display_data"
    }
   ],
   "source": [
    "as.character(c(1, 2, 3))"
   ]
  },
  {
   "cell_type": "code",
   "execution_count": 120,
   "id": "0fc366b6-4378-493c-81e5-57083c2d281f",
   "metadata": {
    "tags": []
   },
   "outputs": [
    {
     "data": {
      "text/html": [
       "<style>\n",
       ".list-inline {list-style: none; margin:0; padding: 0}\n",
       ".list-inline>li {display: inline-block}\n",
       ".list-inline>li:not(:last-child)::after {content: \"\\00b7\"; padding: 0 .5ex}\n",
       "</style>\n",
       "<ol class=list-inline><li>'TRUE'</li><li>'FALSE'</li></ol>\n"
      ],
      "text/latex": [
       "\\begin{enumerate*}\n",
       "\\item 'TRUE'\n",
       "\\item 'FALSE'\n",
       "\\end{enumerate*}\n"
      ],
      "text/markdown": [
       "1. 'TRUE'\n",
       "2. 'FALSE'\n",
       "\n",
       "\n"
      ],
      "text/plain": [
       "[1] \"TRUE\"  \"FALSE\""
      ]
     },
     "metadata": {},
     "output_type": "display_data"
    }
   ],
   "source": [
    "as.character(c(TRUE, FALSE))"
   ]
  },
  {
   "cell_type": "markdown",
   "id": "1d916c15-7c90-4612-9b2f-566df83ece0e",
   "metadata": {
    "tags": []
   },
   "source": [
    "### Calling Fuctions in R"
   ]
  },
  {
   "cell_type": "code",
   "execution_count": 121,
   "id": "158832d7-9d61-4cb8-b62d-b77cab9c99c2",
   "metadata": {
    "tags": []
   },
   "outputs": [
    {
     "data": {
      "text/html": [
       "60"
      ],
      "text/latex": [
       "60"
      ],
      "text/markdown": [
       "60"
      ],
      "text/plain": [
       "[1] 60"
      ]
     },
     "metadata": {},
     "output_type": "display_data"
    }
   ],
   "source": [
    "sum(10,20,30)"
   ]
  },
  {
   "cell_type": "code",
   "execution_count": 122,
   "id": "79744c0b-7897-4a29-83a2-e4f41857adda",
   "metadata": {
    "tags": []
   },
   "outputs": [
    {
     "data": {
      "text/html": [
       "<style>\n",
       ".list-inline {list-style: none; margin:0; padding: 0}\n",
       ".list-inline>li {display: inline-block}\n",
       ".list-inline>li:not(:last-child)::after {content: \"\\00b7\"; padding: 0 .5ex}\n",
       "</style>\n",
       "<ol class=list-inline><li>'Hello'</li><li>'Hello'</li><li>'Hello'</li></ol>\n"
      ],
      "text/latex": [
       "\\begin{enumerate*}\n",
       "\\item 'Hello'\n",
       "\\item 'Hello'\n",
       "\\item 'Hello'\n",
       "\\end{enumerate*}\n"
      ],
      "text/markdown": [
       "1. 'Hello'\n",
       "2. 'Hello'\n",
       "3. 'Hello'\n",
       "\n",
       "\n"
      ],
      "text/plain": [
       "[1] \"Hello\" \"Hello\" \"Hello\""
      ]
     },
     "metadata": {},
     "output_type": "display_data"
    }
   ],
   "source": [
    "rep(\"Hello\",3)"
   ]
  },
  {
   "cell_type": "code",
   "execution_count": 123,
   "id": "317c1cac-cc73-45c3-9f29-a8b2ced56ae1",
   "metadata": {
    "tags": []
   },
   "outputs": [
    {
     "data": {
      "text/html": [
       "10"
      ],
      "text/latex": [
       "10"
      ],
      "text/markdown": [
       "10"
      ],
      "text/plain": [
       "[1] 10"
      ]
     },
     "metadata": {},
     "output_type": "display_data"
    }
   ],
   "source": [
    "sqrt(100)"
   ]
  },
  {
   "cell_type": "code",
   "execution_count": 125,
   "id": "eee2f57b-6e71-4a88-8f36-412bc59543a5",
   "metadata": {
    "tags": []
   },
   "outputs": [
    {
     "data": {
      "text/html": [
       "'example'"
      ],
      "text/latex": [
       "'example'"
      ],
      "text/markdown": [
       "'example'"
      ],
      "text/plain": [
       "[1] \"example\""
      ]
     },
     "metadata": {},
     "output_type": "display_data"
    }
   ],
   "source": [
    "substr(\"example\",1,7)"
   ]
  },
  {
   "cell_type": "markdown",
   "id": "57c2fe5c-16dd-4f20-a5a8-6260d6b89055",
   "metadata": {
    "tags": []
   },
   "source": [
    "### Creating and using objects"
   ]
  },
  {
   "cell_type": "code",
   "execution_count": 126,
   "id": "d04f4674-21ac-4b64-a78b-f2cf2a5ee60e",
   "metadata": {
    "tags": []
   },
   "outputs": [],
   "source": [
    "myobj<-25+12/2-16+(7*pi/2)"
   ]
  },
  {
   "cell_type": "code",
   "execution_count": 127,
   "id": "314ed423-0490-42a1-a126-52b93bc74223",
   "metadata": {
    "tags": []
   },
   "outputs": [
    {
     "data": {
      "text/html": [
       "25.9955742875643"
      ],
      "text/latex": [
       "25.9955742875643"
      ],
      "text/markdown": [
       "25.9955742875643"
      ],
      "text/plain": [
       "[1] 25.99557"
      ]
     },
     "metadata": {},
     "output_type": "display_data"
    }
   ],
   "source": [
    "myobj"
   ]
  },
  {
   "cell_type": "code",
   "execution_count": 128,
   "id": "21981876-8761-4f94-8f64-a865d69ac478",
   "metadata": {},
   "outputs": [
    {
     "ename": "ERROR",
     "evalue": "Error in eval(expr, envir, enclos): object 'Myobj' not found\n",
     "output_type": "error",
     "traceback": [
      "Error in eval(expr, envir, enclos): object 'Myobj' not found\nTraceback:\n"
     ]
    }
   ],
   "source": [
    "Myobj"
   ]
  },
  {
   "cell_type": "code",
   "execution_count": 129,
   "id": "7627acde-cc61-4463-932f-64b9d99a9ec3",
   "metadata": {
    "tags": []
   },
   "outputs": [],
   "source": [
    "x12 <- c(10,6,8)"
   ]
  },
  {
   "cell_type": "code",
   "execution_count": 130,
   "id": "28927d0f-60ef-4baa-b789-f40e8c660186",
   "metadata": {
    "tags": []
   },
   "outputs": [
    {
     "data": {
      "text/html": [
       "<style>\n",
       ".list-inline {list-style: none; margin:0; padding: 0}\n",
       ".list-inline>li {display: inline-block}\n",
       ".list-inline>li:not(:last-child)::after {content: \"\\00b7\"; padding: 0 .5ex}\n",
       "</style>\n",
       "<ol class=list-inline><li>10</li><li>6</li><li>8</li></ol>\n"
      ],
      "text/latex": [
       "\\begin{enumerate*}\n",
       "\\item 10\n",
       "\\item 6\n",
       "\\item 8\n",
       "\\end{enumerate*}\n"
      ],
      "text/markdown": [
       "1. 10\n",
       "2. 6\n",
       "3. 8\n",
       "\n",
       "\n"
      ],
      "text/plain": [
       "[1] 10  6  8"
      ]
     },
     "metadata": {},
     "output_type": "display_data"
    }
   ],
   "source": [
    "x12"
   ]
  },
  {
   "cell_type": "code",
   "execution_count": 131,
   "id": "7c5cca6c-1fc5-4c25-9b18-9515ce43939b",
   "metadata": {
    "tags": []
   },
   "outputs": [
    {
     "data": {
      "text/html": [
       "<style>\n",
       ".list-inline {list-style: none; margin:0; padding: 0}\n",
       ".list-inline>li {display: inline-block}\n",
       ".list-inline>li:not(:last-child)::after {content: \"\\00b7\"; padding: 0 .5ex}\n",
       "</style>\n",
       "<ol class=list-inline><li>30</li><li>18</li><li>24</li></ol>\n"
      ],
      "text/latex": [
       "\\begin{enumerate*}\n",
       "\\item 30\n",
       "\\item 18\n",
       "\\item 24\n",
       "\\end{enumerate*}\n"
      ],
      "text/markdown": [
       "1. 30\n",
       "2. 18\n",
       "3. 24\n",
       "\n",
       "\n"
      ],
      "text/plain": [
       "[1] 30 18 24"
      ]
     },
     "metadata": {},
     "output_type": "display_data"
    }
   ],
   "source": [
    "x12*3"
   ]
  },
  {
   "cell_type": "markdown",
   "id": "1b50d64b-1b32-427e-87d4-b19b4c79caca",
   "metadata": {
    "tags": []
   },
   "source": [
    "### Using the c() command"
   ]
  },
  {
   "cell_type": "code",
   "execution_count": 132,
   "id": "0dcef4ce-da71-4ac2-a426-ddaa544bfa41",
   "metadata": {
    "tags": []
   },
   "outputs": [],
   "source": [
    "a = (1:25)\n",
    "b = (26:50)"
   ]
  },
  {
   "cell_type": "code",
   "execution_count": 133,
   "id": "380cb20a-60ee-45fb-8cfd-d6fe3fb272b8",
   "metadata": {
    "tags": []
   },
   "outputs": [],
   "source": [
    "d = c(a,b)"
   ]
  },
  {
   "cell_type": "code",
   "execution_count": 134,
   "id": "9674fbae-05bc-4ffb-b500-000850d69519",
   "metadata": {},
   "outputs": [
    {
     "data": {
      "text/html": [
       "<style>\n",
       ".list-inline {list-style: none; margin:0; padding: 0}\n",
       ".list-inline>li {display: inline-block}\n",
       ".list-inline>li:not(:last-child)::after {content: \"\\00b7\"; padding: 0 .5ex}\n",
       "</style>\n",
       "<ol class=list-inline><li>1</li><li>2</li><li>3</li><li>4</li><li>5</li><li>6</li><li>7</li><li>8</li><li>9</li><li>10</li><li>11</li><li>12</li><li>13</li><li>14</li><li>15</li><li>16</li><li>17</li><li>18</li><li>19</li><li>20</li><li>21</li><li>22</li><li>23</li><li>24</li><li>25</li><li>26</li><li>27</li><li>28</li><li>29</li><li>30</li><li>31</li><li>32</li><li>33</li><li>34</li><li>35</li><li>36</li><li>37</li><li>38</li><li>39</li><li>40</li><li>41</li><li>42</li><li>43</li><li>44</li><li>45</li><li>46</li><li>47</li><li>48</li><li>49</li><li>50</li></ol>\n"
      ],
      "text/latex": [
       "\\begin{enumerate*}\n",
       "\\item 1\n",
       "\\item 2\n",
       "\\item 3\n",
       "\\item 4\n",
       "\\item 5\n",
       "\\item 6\n",
       "\\item 7\n",
       "\\item 8\n",
       "\\item 9\n",
       "\\item 10\n",
       "\\item 11\n",
       "\\item 12\n",
       "\\item 13\n",
       "\\item 14\n",
       "\\item 15\n",
       "\\item 16\n",
       "\\item 17\n",
       "\\item 18\n",
       "\\item 19\n",
       "\\item 20\n",
       "\\item 21\n",
       "\\item 22\n",
       "\\item 23\n",
       "\\item 24\n",
       "\\item 25\n",
       "\\item 26\n",
       "\\item 27\n",
       "\\item 28\n",
       "\\item 29\n",
       "\\item 30\n",
       "\\item 31\n",
       "\\item 32\n",
       "\\item 33\n",
       "\\item 34\n",
       "\\item 35\n",
       "\\item 36\n",
       "\\item 37\n",
       "\\item 38\n",
       "\\item 39\n",
       "\\item 40\n",
       "\\item 41\n",
       "\\item 42\n",
       "\\item 43\n",
       "\\item 44\n",
       "\\item 45\n",
       "\\item 46\n",
       "\\item 47\n",
       "\\item 48\n",
       "\\item 49\n",
       "\\item 50\n",
       "\\end{enumerate*}\n"
      ],
      "text/markdown": [
       "1. 1\n",
       "2. 2\n",
       "3. 3\n",
       "4. 4\n",
       "5. 5\n",
       "6. 6\n",
       "7. 7\n",
       "8. 8\n",
       "9. 9\n",
       "10. 10\n",
       "11. 11\n",
       "12. 12\n",
       "13. 13\n",
       "14. 14\n",
       "15. 15\n",
       "16. 16\n",
       "17. 17\n",
       "18. 18\n",
       "19. 19\n",
       "20. 20\n",
       "21. 21\n",
       "22. 22\n",
       "23. 23\n",
       "24. 24\n",
       "25. 25\n",
       "26. 26\n",
       "27. 27\n",
       "28. 28\n",
       "29. 29\n",
       "30. 30\n",
       "31. 31\n",
       "32. 32\n",
       "33. 33\n",
       "34. 34\n",
       "35. 35\n",
       "36. 36\n",
       "37. 37\n",
       "38. 38\n",
       "39. 39\n",
       "40. 40\n",
       "41. 41\n",
       "42. 42\n",
       "43. 43\n",
       "44. 44\n",
       "45. 45\n",
       "46. 46\n",
       "47. 47\n",
       "48. 48\n",
       "49. 49\n",
       "50. 50\n",
       "\n",
       "\n"
      ],
      "text/plain": [
       " [1]  1  2  3  4  5  6  7  8  9 10 11 12 13 14 15 16 17 18 19 20 21 22 23 24 25\n",
       "[26] 26 27 28 29 30 31 32 33 34 35 36 37 38 39 40 41 42 43 44 45 46 47 48 49 50"
      ]
     },
     "metadata": {},
     "output_type": "display_data"
    }
   ],
   "source": [
    "d"
   ]
  },
  {
   "cell_type": "markdown",
   "id": "36ec7f2e-8f56-4ca8-8e7c-d3c861c033e8",
   "metadata": {
    "tags": []
   },
   "source": [
    "### Workspace in R"
   ]
  },
  {
   "cell_type": "code",
   "execution_count": 135,
   "id": "90bf1ccd-160f-4b0f-a989-0ed3a1926802",
   "metadata": {
    "tags": []
   },
   "outputs": [
    {
     "data": {
      "text/html": [
       "'/home/vivek'"
      ],
      "text/latex": [
       "'/home/vivek'"
      ],
      "text/markdown": [
       "'/home/vivek'"
      ],
      "text/plain": [
       "[1] \"/home/vivek\""
      ]
     },
     "metadata": {},
     "output_type": "display_data"
    }
   ],
   "source": [
    "getwd()"
   ]
  },
  {
   "cell_type": "code",
   "execution_count": 136,
   "id": "1725d444-b1ba-4cc8-80c1-7ca6adacb7e8",
   "metadata": {
    "tags": []
   },
   "outputs": [
    {
     "data": {
      "text/html": [
       "<style>\n",
       ".list-inline {list-style: none; margin:0; padding: 0}\n",
       ".list-inline>li {display: inline-block}\n",
       ".list-inline>li:not(:last-child)::after {content: \"\\00b7\"; padding: 0 .5ex}\n",
       "</style>\n",
       "<ol class=list-inline><li>'a'</li><li>'b'</li><li>'batch'</li><li>'c'</li><li>'chars'</li><li>'d'</li><li>'data'</li><li>'dbda'</li><li>'factor_data'</li><li>'input'</li><li>'input1'</li><li>'levels'</li><li>'my_roll'</li><li>'MyDataFrame'</li><li>'myobj'</li><li>'newbatch'</li><li>'number'</li><li>'numbers'</li><li>'strings'</li><li>'var'</li><li>'X'</li><li>'x12'</li><li>'y'</li><li>'yourname'</li><li>'Z'</li></ol>\n"
      ],
      "text/latex": [
       "\\begin{enumerate*}\n",
       "\\item 'a'\n",
       "\\item 'b'\n",
       "\\item 'batch'\n",
       "\\item 'c'\n",
       "\\item 'chars'\n",
       "\\item 'd'\n",
       "\\item 'data'\n",
       "\\item 'dbda'\n",
       "\\item 'factor\\_data'\n",
       "\\item 'input'\n",
       "\\item 'input1'\n",
       "\\item 'levels'\n",
       "\\item 'my\\_roll'\n",
       "\\item 'MyDataFrame'\n",
       "\\item 'myobj'\n",
       "\\item 'newbatch'\n",
       "\\item 'number'\n",
       "\\item 'numbers'\n",
       "\\item 'strings'\n",
       "\\item 'var'\n",
       "\\item 'X'\n",
       "\\item 'x12'\n",
       "\\item 'y'\n",
       "\\item 'yourname'\n",
       "\\item 'Z'\n",
       "\\end{enumerate*}\n"
      ],
      "text/markdown": [
       "1. 'a'\n",
       "2. 'b'\n",
       "3. 'batch'\n",
       "4. 'c'\n",
       "5. 'chars'\n",
       "6. 'd'\n",
       "7. 'data'\n",
       "8. 'dbda'\n",
       "9. 'factor_data'\n",
       "10. 'input'\n",
       "11. 'input1'\n",
       "12. 'levels'\n",
       "13. 'my_roll'\n",
       "14. 'MyDataFrame'\n",
       "15. 'myobj'\n",
       "16. 'newbatch'\n",
       "17. 'number'\n",
       "18. 'numbers'\n",
       "19. 'strings'\n",
       "20. 'var'\n",
       "21. 'X'\n",
       "22. 'x12'\n",
       "23. 'y'\n",
       "24. 'yourname'\n",
       "25. 'Z'\n",
       "\n",
       "\n"
      ],
      "text/plain": [
       " [1] \"a\"           \"b\"           \"batch\"       \"c\"           \"chars\"      \n",
       " [6] \"d\"           \"data\"        \"dbda\"        \"factor_data\" \"input\"      \n",
       "[11] \"input1\"      \"levels\"      \"my_roll\"     \"MyDataFrame\" \"myobj\"      \n",
       "[16] \"newbatch\"    \"number\"      \"numbers\"     \"strings\"     \"var\"        \n",
       "[21] \"X\"           \"x12\"         \"y\"           \"yourname\"    \"Z\"          "
      ]
     },
     "metadata": {},
     "output_type": "display_data"
    }
   ],
   "source": [
    "ls()"
   ]
  },
  {
   "cell_type": "code",
   "execution_count": 137,
   "id": "ca4c6f95-ce30-4c7c-8b43-ae560291e9ef",
   "metadata": {
    "tags": []
   },
   "outputs": [
    {
     "data": {
      "text/html": [
       "<style>\n",
       ".list-inline {list-style: none; margin:0; padding: 0}\n",
       ".list-inline>li {display: inline-block}\n",
       ".list-inline>li:not(:last-child)::after {content: \"\\00b7\"; padding: 0 .5ex}\n",
       "</style>\n",
       "<ol class=list-inline><li>'a'</li><li>'b'</li><li>'batch'</li><li>'c'</li><li>'chars'</li><li>'d'</li><li>'data'</li><li>'dbda'</li><li>'factor_data'</li><li>'input'</li><li>'input1'</li><li>'levels'</li><li>'my_roll'</li><li>'MyDataFrame'</li><li>'myobj'</li><li>'newbatch'</li><li>'number'</li><li>'numbers'</li><li>'strings'</li><li>'var'</li><li>'X'</li><li>'x12'</li><li>'y'</li><li>'yourname'</li><li>'Z'</li></ol>\n"
      ],
      "text/latex": [
       "\\begin{enumerate*}\n",
       "\\item 'a'\n",
       "\\item 'b'\n",
       "\\item 'batch'\n",
       "\\item 'c'\n",
       "\\item 'chars'\n",
       "\\item 'd'\n",
       "\\item 'data'\n",
       "\\item 'dbda'\n",
       "\\item 'factor\\_data'\n",
       "\\item 'input'\n",
       "\\item 'input1'\n",
       "\\item 'levels'\n",
       "\\item 'my\\_roll'\n",
       "\\item 'MyDataFrame'\n",
       "\\item 'myobj'\n",
       "\\item 'newbatch'\n",
       "\\item 'number'\n",
       "\\item 'numbers'\n",
       "\\item 'strings'\n",
       "\\item 'var'\n",
       "\\item 'X'\n",
       "\\item 'x12'\n",
       "\\item 'y'\n",
       "\\item 'yourname'\n",
       "\\item 'Z'\n",
       "\\end{enumerate*}\n"
      ],
      "text/markdown": [
       "1. 'a'\n",
       "2. 'b'\n",
       "3. 'batch'\n",
       "4. 'c'\n",
       "5. 'chars'\n",
       "6. 'd'\n",
       "7. 'data'\n",
       "8. 'dbda'\n",
       "9. 'factor_data'\n",
       "10. 'input'\n",
       "11. 'input1'\n",
       "12. 'levels'\n",
       "13. 'my_roll'\n",
       "14. 'MyDataFrame'\n",
       "15. 'myobj'\n",
       "16. 'newbatch'\n",
       "17. 'number'\n",
       "18. 'numbers'\n",
       "19. 'strings'\n",
       "20. 'var'\n",
       "21. 'X'\n",
       "22. 'x12'\n",
       "23. 'y'\n",
       "24. 'yourname'\n",
       "25. 'Z'\n",
       "\n",
       "\n"
      ],
      "text/plain": [
       " [1] \"a\"           \"b\"           \"batch\"       \"c\"           \"chars\"      \n",
       " [6] \"d\"           \"data\"        \"dbda\"        \"factor_data\" \"input\"      \n",
       "[11] \"input1\"      \"levels\"      \"my_roll\"     \"MyDataFrame\" \"myobj\"      \n",
       "[16] \"newbatch\"    \"number\"      \"numbers\"     \"strings\"     \"var\"        \n",
       "[21] \"X\"           \"x12\"         \"y\"           \"yourname\"    \"Z\"          "
      ]
     },
     "metadata": {},
     "output_type": "display_data"
    }
   ],
   "source": [
    "objects()"
   ]
  },
  {
   "cell_type": "code",
   "execution_count": 140,
   "id": "925b267c-318d-4f13-89ad-b43b539d7875",
   "metadata": {},
   "outputs": [
    {
     "ename": "ERROR",
     "evalue": "Error in eval(expr, envir, enclos): object 'd' not found\n",
     "output_type": "error",
     "traceback": [
      "Error in eval(expr, envir, enclos): object 'd' not found\nTraceback:\n"
     ]
    }
   ],
   "source": [
    "d"
   ]
  },
  {
   "cell_type": "code",
   "execution_count": 139,
   "id": "42ad5636-b295-4e3f-90e1-65925fb0b59f",
   "metadata": {
    "tags": []
   },
   "outputs": [],
   "source": [
    "rm(d)"
   ]
  },
  {
   "cell_type": "code",
   "execution_count": 141,
   "id": "680e5ddc-5b47-40a1-a016-797a3d6a8159",
   "metadata": {
    "tags": []
   },
   "outputs": [],
   "source": [
    "save(x12, file=\"Examples.rda\")"
   ]
  },
  {
   "cell_type": "code",
   "execution_count": 142,
   "id": "07770670-9b0f-45a6-aca9-51f0f676efba",
   "metadata": {
    "tags": []
   },
   "outputs": [],
   "source": [
    "save.image(file = \"my_stuff.RData\")"
   ]
  },
  {
   "cell_type": "code",
   "execution_count": 145,
   "id": "de7bb107-11a9-42b7-9d0c-f77e3b19ce1e",
   "metadata": {
    "tags": []
   },
   "outputs": [
    {
     "data": {
      "text/html": [
       "'Vivek'"
      ],
      "text/latex": [
       "'Vivek'"
      ],
      "text/markdown": [
       "'Vivek'"
      ],
      "text/plain": [
       "[1] \"Vivek\""
      ]
     },
     "metadata": {},
     "output_type": "display_data"
    }
   ],
   "source": [
    "myname = \"Vivek\"\n",
    "myname"
   ]
  },
  {
   "cell_type": "code",
   "execution_count": 146,
   "id": "62c8f2da-b619-4077-9f23-d5022a519309",
   "metadata": {
    "tags": []
   },
   "outputs": [],
   "source": [
    "save(yourname, file=\"myname.rda\")"
   ]
  },
  {
   "cell_type": "code",
   "execution_count": 147,
   "id": "3963cf83-41c8-499d-b9cf-c1ff3ae0722c",
   "metadata": {
    "tags": []
   },
   "outputs": [],
   "source": [
    "rm(yourname)"
   ]
  },
  {
   "cell_type": "code",
   "execution_count": 148,
   "id": "a3b43c04-e161-4abd-a2b1-c47f9d5edc81",
   "metadata": {
    "tags": []
   },
   "outputs": [
    {
     "data": {
      "text/html": [
       "<style>\n",
       ".list-inline {list-style: none; margin:0; padding: 0}\n",
       ".list-inline>li {display: inline-block}\n",
       ".list-inline>li:not(:last-child)::after {content: \"\\00b7\"; padding: 0 .5ex}\n",
       "</style>\n",
       "<ol class=list-inline><li>'a'</li><li>'b'</li><li>'batch'</li><li>'c'</li><li>'chars'</li><li>'data'</li><li>'dbda'</li><li>'factor_data'</li><li>'input'</li><li>'input1'</li><li>'levels'</li><li>'my_roll'</li><li>'MyDataFrame'</li><li>'myname'</li><li>'myobj'</li><li>'newbatch'</li><li>'number'</li><li>'numbers'</li><li>'strings'</li><li>'var'</li><li>'X'</li><li>'x12'</li><li>'y'</li><li>'Z'</li></ol>\n"
      ],
      "text/latex": [
       "\\begin{enumerate*}\n",
       "\\item 'a'\n",
       "\\item 'b'\n",
       "\\item 'batch'\n",
       "\\item 'c'\n",
       "\\item 'chars'\n",
       "\\item 'data'\n",
       "\\item 'dbda'\n",
       "\\item 'factor\\_data'\n",
       "\\item 'input'\n",
       "\\item 'input1'\n",
       "\\item 'levels'\n",
       "\\item 'my\\_roll'\n",
       "\\item 'MyDataFrame'\n",
       "\\item 'myname'\n",
       "\\item 'myobj'\n",
       "\\item 'newbatch'\n",
       "\\item 'number'\n",
       "\\item 'numbers'\n",
       "\\item 'strings'\n",
       "\\item 'var'\n",
       "\\item 'X'\n",
       "\\item 'x12'\n",
       "\\item 'y'\n",
       "\\item 'Z'\n",
       "\\end{enumerate*}\n"
      ],
      "text/markdown": [
       "1. 'a'\n",
       "2. 'b'\n",
       "3. 'batch'\n",
       "4. 'c'\n",
       "5. 'chars'\n",
       "6. 'data'\n",
       "7. 'dbda'\n",
       "8. 'factor_data'\n",
       "9. 'input'\n",
       "10. 'input1'\n",
       "11. 'levels'\n",
       "12. 'my_roll'\n",
       "13. 'MyDataFrame'\n",
       "14. 'myname'\n",
       "15. 'myobj'\n",
       "16. 'newbatch'\n",
       "17. 'number'\n",
       "18. 'numbers'\n",
       "19. 'strings'\n",
       "20. 'var'\n",
       "21. 'X'\n",
       "22. 'x12'\n",
       "23. 'y'\n",
       "24. 'Z'\n",
       "\n",
       "\n"
      ],
      "text/plain": [
       " [1] \"a\"           \"b\"           \"batch\"       \"c\"           \"chars\"      \n",
       " [6] \"data\"        \"dbda\"        \"factor_data\" \"input\"       \"input1\"     \n",
       "[11] \"levels\"      \"my_roll\"     \"MyDataFrame\" \"myname\"      \"myobj\"      \n",
       "[16] \"newbatch\"    \"number\"      \"numbers\"     \"strings\"     \"var\"        \n",
       "[21] \"X\"           \"x12\"         \"y\"           \"Z\"          "
      ]
     },
     "metadata": {},
     "output_type": "display_data"
    }
   ],
   "source": [
    "ls()"
   ]
  },
  {
   "cell_type": "code",
   "execution_count": 149,
   "id": "a1da0a9f-5c7d-4103-a848-cffc26a005ac",
   "metadata": {
    "tags": []
   },
   "outputs": [],
   "source": [
    "load(\"myname.rda\") #.rda stands for R Data File."
   ]
  },
  {
   "cell_type": "code",
   "execution_count": 150,
   "id": "72e58b45-26dd-4c07-a5ca-7f6b70caa8fc",
   "metadata": {},
   "outputs": [
    {
     "data": {
      "text/html": [
       "<style>\n",
       ".list-inline {list-style: none; margin:0; padding: 0}\n",
       ".list-inline>li {display: inline-block}\n",
       ".list-inline>li:not(:last-child)::after {content: \"\\00b7\"; padding: 0 .5ex}\n",
       "</style>\n",
       "<ol class=list-inline><li>'a'</li><li>'b'</li><li>'batch'</li><li>'c'</li><li>'chars'</li><li>'data'</li><li>'dbda'</li><li>'factor_data'</li><li>'input'</li><li>'input1'</li><li>'levels'</li><li>'my_roll'</li><li>'MyDataFrame'</li><li>'myname'</li><li>'myobj'</li><li>'newbatch'</li><li>'number'</li><li>'numbers'</li><li>'strings'</li><li>'var'</li><li>'X'</li><li>'x12'</li><li>'y'</li><li>'yourname'</li><li>'Z'</li></ol>\n"
      ],
      "text/latex": [
       "\\begin{enumerate*}\n",
       "\\item 'a'\n",
       "\\item 'b'\n",
       "\\item 'batch'\n",
       "\\item 'c'\n",
       "\\item 'chars'\n",
       "\\item 'data'\n",
       "\\item 'dbda'\n",
       "\\item 'factor\\_data'\n",
       "\\item 'input'\n",
       "\\item 'input1'\n",
       "\\item 'levels'\n",
       "\\item 'my\\_roll'\n",
       "\\item 'MyDataFrame'\n",
       "\\item 'myname'\n",
       "\\item 'myobj'\n",
       "\\item 'newbatch'\n",
       "\\item 'number'\n",
       "\\item 'numbers'\n",
       "\\item 'strings'\n",
       "\\item 'var'\n",
       "\\item 'X'\n",
       "\\item 'x12'\n",
       "\\item 'y'\n",
       "\\item 'yourname'\n",
       "\\item 'Z'\n",
       "\\end{enumerate*}\n"
      ],
      "text/markdown": [
       "1. 'a'\n",
       "2. 'b'\n",
       "3. 'batch'\n",
       "4. 'c'\n",
       "5. 'chars'\n",
       "6. 'data'\n",
       "7. 'dbda'\n",
       "8. 'factor_data'\n",
       "9. 'input'\n",
       "10. 'input1'\n",
       "11. 'levels'\n",
       "12. 'my_roll'\n",
       "13. 'MyDataFrame'\n",
       "14. 'myname'\n",
       "15. 'myobj'\n",
       "16. 'newbatch'\n",
       "17. 'number'\n",
       "18. 'numbers'\n",
       "19. 'strings'\n",
       "20. 'var'\n",
       "21. 'X'\n",
       "22. 'x12'\n",
       "23. 'y'\n",
       "24. 'yourname'\n",
       "25. 'Z'\n",
       "\n",
       "\n"
      ],
      "text/plain": [
       " [1] \"a\"           \"b\"           \"batch\"       \"c\"           \"chars\"      \n",
       " [6] \"data\"        \"dbda\"        \"factor_data\" \"input\"       \"input1\"     \n",
       "[11] \"levels\"      \"my_roll\"     \"MyDataFrame\" \"myname\"      \"myobj\"      \n",
       "[16] \"newbatch\"    \"number\"      \"numbers\"     \"strings\"     \"var\"        \n",
       "[21] \"X\"           \"x12\"         \"y\"           \"yourname\"    \"Z\"          "
      ]
     },
     "metadata": {},
     "output_type": "display_data"
    }
   ],
   "source": [
    "ls()"
   ]
  },
  {
   "cell_type": "markdown",
   "id": "2c2d37e7-e2b2-4986-8cf8-982a1a584fc1",
   "metadata": {
    "tags": []
   },
   "source": [
    "### Accessing help and documentation in R"
   ]
  },
  {
   "cell_type": "code",
   "execution_count": 151,
   "id": "5ab27ae6-d4fe-49d9-ae81-83d2586ae617",
   "metadata": {
    "collapsed": true,
    "jupyter": {
     "outputs_hidden": true
    },
    "tags": []
   },
   "outputs": [
    {
     "data": {
      "text/html": [
       "\n",
       "<table style=\"width: 100%;\"><tr><td>remove {base}</td><td style=\"text-align: right;\">R Documentation</td></tr></table>\n",
       "\n",
       "<h2>Remove Objects from a Specified Environment</h2>\n",
       "\n",
       "<h3>Description</h3>\n",
       "\n",
       "<p><code>remove</code> and <code>rm</code> can be used to remove objects.  These can\n",
       "be specified successively as character strings, or in the character\n",
       "vector <code>list</code>, or through a combination of both.  All objects\n",
       "thus specified will be removed.\n",
       "</p>\n",
       "<p>If <code>envir</code> is NULL then the currently active environment is\n",
       "searched first.\n",
       "</p>\n",
       "<p>If <code>inherits</code> is <code>TRUE</code> then parents of the supplied\n",
       "directory are searched until a variable with the given name is\n",
       "encountered.  A warning is printed for each variable that is not\n",
       "found.\n",
       "</p>\n",
       "\n",
       "\n",
       "<h3>Usage</h3>\n",
       "\n",
       "<pre><code class='language-R'>remove(..., list = character(), pos = -1,\n",
       "       envir = as.environment(pos), inherits = FALSE)\n",
       "\n",
       "rm    (..., list = character(), pos = -1,\n",
       "       envir = as.environment(pos), inherits = FALSE)\n",
       "</code></pre>\n",
       "\n",
       "\n",
       "<h3>Arguments</h3>\n",
       "\n",
       "<table>\n",
       "<tr style=\"vertical-align: top;\"><td><code>...</code></td>\n",
       "<td>\n",
       "<p>the objects to be removed, as names (unquoted) or\n",
       "character strings (quoted).</p>\n",
       "</td></tr>\n",
       "<tr style=\"vertical-align: top;\"><td><code>list</code></td>\n",
       "<td>\n",
       "<p>a character vector naming objects to be removed.</p>\n",
       "</td></tr>\n",
       "<tr style=\"vertical-align: top;\"><td><code>pos</code></td>\n",
       "<td>\n",
       "<p>where to do the removal.  By default, uses the\n",
       "current environment.  See &lsquo;details&rsquo; for other possibilities.</p>\n",
       "</td></tr>\n",
       "<tr style=\"vertical-align: top;\"><td><code>envir</code></td>\n",
       "<td>\n",
       "<p>the <code>environment</code> to use.  See &lsquo;details&rsquo;.</p>\n",
       "</td></tr>\n",
       "<tr style=\"vertical-align: top;\"><td><code>inherits</code></td>\n",
       "<td>\n",
       "<p>should the enclosing frames of the environment be\n",
       "inspected?</p>\n",
       "</td></tr>\n",
       "</table>\n",
       "\n",
       "\n",
       "<h3>Details</h3>\n",
       "\n",
       "<p>The <code>pos</code> argument can specify the  environment from which to remove\n",
       "the objects in any of several ways:\n",
       "as an integer (the position in the <code>search</code> list); as\n",
       "the character string name of an element in the search list; or as an\n",
       "<code>environment</code> (including using <code>sys.frame</code> to\n",
       "access the currently active function calls).\n",
       "The <code>envir</code> argument is an alternative way to specify an\n",
       "environment, but is primarily there for back compatibility.\n",
       "</p>\n",
       "<p>It is not allowed to remove variables from the base environment and\n",
       "base namespace, nor from any environment which is locked (see\n",
       "<code>lockEnvironment</code>).\n",
       "</p>\n",
       "<p>Earlier versions of <span style=\"font-family: Courier New, Courier; color: #666666;\"><b>R</b></span> incorrectly claimed that supplying a character\n",
       "vector in <code>...</code> removed the objects named in the character\n",
       "vector, but it removed the character vector.  Use the <code>list</code>\n",
       "argument to specify objects <em>via</em> a character vector.\n",
       "</p>\n",
       "\n",
       "\n",
       "<h3>References</h3>\n",
       "\n",
       "<p>Becker, R. A., Chambers, J. M. and Wilks, A. R. (1988)\n",
       "<em>The New S Language</em>.\n",
       "Wadsworth &amp; Brooks/Cole.\n",
       "</p>\n",
       "\n",
       "\n",
       "<h3>See Also</h3>\n",
       "\n",
       "<p><code>ls</code>, <code>objects</code>\n",
       "</p>\n",
       "\n",
       "\n",
       "<h3>Examples</h3>\n",
       "\n",
       "<pre><code class='language-R'>tmp &lt;- 1:4\n",
       "## work with tmp  and cleanup\n",
       "rm(tmp)\n",
       "\n",
       "## Not run: \n",
       "## remove (almost) everything in the working environment.\n",
       "## You will get no warning, so don't do this unless you are really sure.\n",
       "rm(list = ls())\n",
       "\n",
       "## End(Not run)</code></pre>\n",
       "\n",
       "<hr /><div style=\"text-align: center;\">[Package <em>base</em> version 4.2.1 ]</div>\n",
       "</div>"
      ],
      "text/latex": [
       "\\inputencoding{utf8}\n",
       "\\HeaderA{remove}{Remove Objects from a Specified Environment}{remove}\n",
       "\\aliasA{rm}{remove}{rm}\n",
       "\\keyword{environment}{remove}\n",
       "%\n",
       "\\begin{Description}\\relax\n",
       "\\code{remove} and \\code{rm} can be used to remove objects.  These can\n",
       "be specified successively as character strings, or in the character\n",
       "vector \\code{list}, or through a combination of both.  All objects\n",
       "thus specified will be removed.\n",
       "\n",
       "If \\code{envir} is NULL then the currently active environment is\n",
       "searched first.\n",
       "\n",
       "If \\code{inherits} is \\code{TRUE} then parents of the supplied\n",
       "directory are searched until a variable with the given name is\n",
       "encountered.  A warning is printed for each variable that is not\n",
       "found.\n",
       "\\end{Description}\n",
       "%\n",
       "\\begin{Usage}\n",
       "\\begin{verbatim}\n",
       "remove(..., list = character(), pos = -1,\n",
       "       envir = as.environment(pos), inherits = FALSE)\n",
       "\n",
       "rm    (..., list = character(), pos = -1,\n",
       "       envir = as.environment(pos), inherits = FALSE)\n",
       "\\end{verbatim}\n",
       "\\end{Usage}\n",
       "%\n",
       "\\begin{Arguments}\n",
       "\\begin{ldescription}\n",
       "\\item[\\code{...}] the objects to be removed, as names (unquoted) or\n",
       "character strings (quoted).\n",
       "\\item[\\code{list}] a character vector naming objects to be removed.\n",
       "\\item[\\code{pos}] where to do the removal.  By default, uses the\n",
       "current environment.  See `details' for other possibilities.\n",
       "\\item[\\code{envir}] the \\code{\\LinkA{environment}{environment}} to use.  See `details'.\n",
       "\\item[\\code{inherits}] should the enclosing frames of the environment be\n",
       "inspected?\n",
       "\\end{ldescription}\n",
       "\\end{Arguments}\n",
       "%\n",
       "\\begin{Details}\\relax\n",
       "The \\code{pos} argument can specify the  environment from which to remove\n",
       "the objects in any of several ways:\n",
       "as an integer (the position in the \\code{\\LinkA{search}{search}} list); as\n",
       "the character string name of an element in the search list; or as an\n",
       "\\code{\\LinkA{environment}{environment}} (including using \\code{\\LinkA{sys.frame}{sys.frame}} to\n",
       "access the currently active function calls).\n",
       "The \\code{envir} argument is an alternative way to specify an\n",
       "environment, but is primarily there for back compatibility.\n",
       "\n",
       "It is not allowed to remove variables from the base environment and\n",
       "base namespace, nor from any environment which is locked (see\n",
       "\\code{\\LinkA{lockEnvironment}{lockEnvironment}}).\n",
       "\n",
       "Earlier versions of \\R{} incorrectly claimed that supplying a character\n",
       "vector in \\code{...} removed the objects named in the character\n",
       "vector, but it removed the character vector.  Use the \\code{list}\n",
       "argument to specify objects \\emph{via} a character vector.\n",
       "\\end{Details}\n",
       "%\n",
       "\\begin{References}\\relax\n",
       "Becker, R. A., Chambers, J. M. and Wilks, A. R. (1988)\n",
       "\\emph{The New S Language}.\n",
       "Wadsworth \\& Brooks/Cole.\n",
       "\\end{References}\n",
       "%\n",
       "\\begin{SeeAlso}\\relax\n",
       "\\code{\\LinkA{ls}{ls}}, \\code{\\LinkA{objects}{objects}}\n",
       "\\end{SeeAlso}\n",
       "%\n",
       "\\begin{Examples}\n",
       "\\begin{ExampleCode}\n",
       "tmp <- 1:4\n",
       "## work with tmp  and cleanup\n",
       "rm(tmp)\n",
       "\n",
       "## Not run: \n",
       "## remove (almost) everything in the working environment.\n",
       "## You will get no warning, so don't do this unless you are really sure.\n",
       "rm(list = ls())\n",
       "\n",
       "## End(Not run)\n",
       "\\end{ExampleCode}\n",
       "\\end{Examples}"
      ],
      "text/plain": [
       "remove                  package:base                   R Documentation\n",
       "\n",
       "_\bR_\be_\bm_\bo_\bv_\be _\bO_\bb_\bj_\be_\bc_\bt_\bs _\bf_\br_\bo_\bm _\ba _\bS_\bp_\be_\bc_\bi_\bf_\bi_\be_\bd _\bE_\bn_\bv_\bi_\br_\bo_\bn_\bm_\be_\bn_\bt\n",
       "\n",
       "_\bD_\be_\bs_\bc_\br_\bi_\bp_\bt_\bi_\bo_\bn:\n",
       "\n",
       "     ‘remove’ and ‘rm’ can be used to remove objects.  These can be\n",
       "     specified successively as character strings, or in the character\n",
       "     vector ‘list’, or through a combination of both.  All objects thus\n",
       "     specified will be removed.\n",
       "\n",
       "     If ‘envir’ is NULL then the currently active environment is\n",
       "     searched first.\n",
       "\n",
       "     If ‘inherits’ is ‘TRUE’ then parents of the supplied directory are\n",
       "     searched until a variable with the given name is encountered.  A\n",
       "     warning is printed for each variable that is not found.\n",
       "\n",
       "_\bU_\bs_\ba_\bg_\be:\n",
       "\n",
       "     remove(..., list = character(), pos = -1,\n",
       "            envir = as.environment(pos), inherits = FALSE)\n",
       "     \n",
       "     rm    (..., list = character(), pos = -1,\n",
       "            envir = as.environment(pos), inherits = FALSE)\n",
       "     \n",
       "_\bA_\br_\bg_\bu_\bm_\be_\bn_\bt_\bs:\n",
       "\n",
       "     ...: the objects to be removed, as names (unquoted) or character\n",
       "          strings (quoted).\n",
       "\n",
       "    list: a character vector naming objects to be removed.\n",
       "\n",
       "     pos: where to do the removal.  By default, uses the current\n",
       "          environment.  See ‘details’ for other possibilities.\n",
       "\n",
       "   envir: the ‘environment’ to use.  See ‘details’.\n",
       "\n",
       "inherits: should the enclosing frames of the environment be inspected?\n",
       "\n",
       "_\bD_\be_\bt_\ba_\bi_\bl_\bs:\n",
       "\n",
       "     The ‘pos’ argument can specify the environment from which to\n",
       "     remove the objects in any of several ways: as an integer (the\n",
       "     position in the ‘search’ list); as the character string name of an\n",
       "     element in the search list; or as an ‘environment’ (including\n",
       "     using ‘sys.frame’ to access the currently active function calls).\n",
       "     The ‘envir’ argument is an alternative way to specify an\n",
       "     environment, but is primarily there for back compatibility.\n",
       "\n",
       "     It is not allowed to remove variables from the base environment\n",
       "     and base namespace, nor from any environment which is locked (see\n",
       "     ‘lockEnvironment’).\n",
       "\n",
       "     Earlier versions of R incorrectly claimed that supplying a\n",
       "     character vector in ‘...’ removed the objects named in the\n",
       "     character vector, but it removed the character vector.  Use the\n",
       "     ‘list’ argument to specify objects _via_ a character vector.\n",
       "\n",
       "_\bR_\be_\bf_\be_\br_\be_\bn_\bc_\be_\bs:\n",
       "\n",
       "     Becker, R. A., Chambers, J. M. and Wilks, A. R. (1988) _The New S\n",
       "     Language_.  Wadsworth & Brooks/Cole.\n",
       "\n",
       "_\bS_\be_\be _\bA_\bl_\bs_\bo:\n",
       "\n",
       "     ‘ls’, ‘objects’\n",
       "\n",
       "_\bE_\bx_\ba_\bm_\bp_\bl_\be_\bs:\n",
       "\n",
       "     tmp <- 1:4\n",
       "     ## work with tmp  and cleanup\n",
       "     rm(tmp)\n",
       "     \n",
       "     ## Not run:\n",
       "     \n",
       "     ## remove (almost) everything in the working environment.\n",
       "     ## You will get no warning, so don't do this unless you are really sure.\n",
       "     rm(list = ls())\n",
       "     ## End(Not run)\n",
       "     "
      ]
     },
     "metadata": {},
     "output_type": "display_data"
    }
   ],
   "source": [
    "help(rm)"
   ]
  },
  {
   "cell_type": "code",
   "execution_count": 152,
   "id": "e366d0f3-d96d-4100-b0aa-a24416061f06",
   "metadata": {
    "collapsed": true,
    "jupyter": {
     "outputs_hidden": true
    },
    "tags": []
   },
   "outputs": [
    {
     "name": "stderr",
     "output_type": "stream",
     "text": [
      "Warning message in source(tf, local, echo = echo, prompt.echo = paste0(prompt.prefix, :\n",
      "“argument encoding=\"latin1\" is ignored in MBCS locales”\n"
     ]
    },
    {
     "name": "stdout",
     "output_type": "stream",
     "text": [
      "\n",
      "rm> tmp <- 1:4\n",
      "\n",
      "rm> ## work with tmp  and cleanup\n",
      "rm> rm(tmp)\n",
      "\n",
      "rm> ## Not run: \n",
      "rm> ##D ## remove (almost) everything in the working environment.\n",
      "rm> ##D ## You will get no warning, so don't do this unless you are really sure.\n",
      "rm> ##D rm(list = ls())\n",
      "rm> ## End(Not run)\n",
      "rm> \n",
      "rm> \n"
     ]
    }
   ],
   "source": [
    "example(rm)"
   ]
  },
  {
   "cell_type": "code",
   "execution_count": 153,
   "id": "01177223-dc33-4889-b524-534b265deeed",
   "metadata": {
    "tags": []
   },
   "outputs": [
    {
     "data": {
      "text/html": [
       "'/home/vivek/R/x86_64-pc-linux-gnu-library/4.2/ggplot2'"
      ],
      "text/latex": [
       "'/home/vivek/R/x86\\_64-pc-linux-gnu-library/4.2/ggplot2'"
      ],
      "text/markdown": [
       "'/home/vivek/R/x86_64-pc-linux-gnu-library/4.2/ggplot2'"
      ],
      "text/plain": [
       "[1] \"/home/vivek/R/x86_64-pc-linux-gnu-library/4.2/ggplot2\""
      ]
     },
     "metadata": {},
     "output_type": "display_data"
    }
   ],
   "source": [
    "find.package(\"ggplot2\")"
   ]
  },
  {
   "cell_type": "code",
   "execution_count": 154,
   "id": "1e3455f3-33a4-4e16-8216-f02e862763d7",
   "metadata": {
    "tags": []
   },
   "outputs": [],
   "source": [
    "library(datasets) #Loads the datasets from library"
   ]
  },
  {
   "cell_type": "code",
   "execution_count": 155,
   "id": "a7434fc2-009d-4793-b168-665aeac58603",
   "metadata": {
    "collapsed": true,
    "jupyter": {
     "outputs_hidden": true
    },
    "tags": []
   },
   "outputs": [
    {
     "data": {
      "text/html": [
       "<h3>Data sets</h3>\n",
       "<table class=\"dataframe\">\n",
       "<caption>A data.frame: 126 × 3</caption>\n",
       "<thead>\n",
       "\t<tr><th scope=col>Package</th><th scope=col>Item</th><th scope=col>Title</th></tr>\n",
       "\t<tr><th scope=col>&lt;chr&gt;</th><th scope=col>&lt;chr&gt;</th><th scope=col>&lt;chr&gt;</th></tr>\n",
       "</thead>\n",
       "<tbody>\n",
       "\t<tr><td>AGD     </td><td>boys7482              </td><td>Growth of Dutch boys                                           </td></tr>\n",
       "\t<tr><td>AGD     </td><td>cdc.bmi               </td><td>Reference tables from CDC 2000                                 </td></tr>\n",
       "\t<tr><td>AGD     </td><td>cdc.hgt               </td><td>Reference tables from CDC 2000                                 </td></tr>\n",
       "\t<tr><td>AGD     </td><td>cdc.wgt               </td><td>Reference tables from CDC 2000                                 </td></tr>\n",
       "\t<tr><td>AGD     </td><td>nl3.bmi               </td><td>Reference tables from Third Dutch Growth Study 1980            </td></tr>\n",
       "\t<tr><td>AGD     </td><td>nl4.bmi               </td><td>Reference tables from Fourth Dutch Growth Study 1997           </td></tr>\n",
       "\t<tr><td>AGD     </td><td>nl4.hdc               </td><td>Reference tables from Fourth Dutch Growth Study 1997           </td></tr>\n",
       "\t<tr><td>AGD     </td><td>nl4.hgt               </td><td>Reference tables from Fourth Dutch Growth Study 1997           </td></tr>\n",
       "\t<tr><td>AGD     </td><td>nl4.hip               </td><td>Reference tables from Fourth Dutch Growth Study 1997           </td></tr>\n",
       "\t<tr><td>AGD     </td><td>nl4.lgl               </td><td>Reference tables from Fourth Dutch Growth Study 1997           </td></tr>\n",
       "\t<tr><td>AGD     </td><td>nl4.shh               </td><td>Reference tables from Fourth Dutch Growth Study 1997           </td></tr>\n",
       "\t<tr><td>AGD     </td><td>nl4.sit               </td><td>Reference tables from Fourth Dutch Growth Study 1997           </td></tr>\n",
       "\t<tr><td>AGD     </td><td>nl4.wfh               </td><td>Reference tables from Fourth Dutch Growth Study 1997           </td></tr>\n",
       "\t<tr><td>AGD     </td><td>nl4.wgt               </td><td>Reference tables from Fourth Dutch Growth Study 1997           </td></tr>\n",
       "\t<tr><td>AGD     </td><td>nl4.whr               </td><td>Reference tables from Fourth Dutch Growth Study 1997           </td></tr>\n",
       "\t<tr><td>AGD     </td><td>nl4.wst               </td><td>Reference tables from Fourth Dutch Growth Study 1997           </td></tr>\n",
       "\t<tr><td>AGD     </td><td>who.bmi               </td><td>References WHO                                                 </td></tr>\n",
       "\t<tr><td>AGD     </td><td>who.hdc               </td><td>References WHO                                                 </td></tr>\n",
       "\t<tr><td>AGD     </td><td>who.hgt               </td><td>References WHO                                                 </td></tr>\n",
       "\t<tr><td>AGD     </td><td>who.wfh               </td><td>References WHO                                                 </td></tr>\n",
       "\t<tr><td>AGD     </td><td>who.wfl               </td><td>References WHO                                                 </td></tr>\n",
       "\t<tr><td>AGD     </td><td>who.wgt               </td><td>References WHO                                                 </td></tr>\n",
       "\t<tr><td>datasets</td><td>AirPassengers         </td><td>Monthly Airline Passenger Numbers 1949-1960                    </td></tr>\n",
       "\t<tr><td>datasets</td><td>BJsales               </td><td>Sales Data with Leading Indicator                              </td></tr>\n",
       "\t<tr><td>datasets</td><td>BJsales.lead (BJsales)</td><td>Sales Data with Leading Indicator                              </td></tr>\n",
       "\t<tr><td>datasets</td><td>BOD                   </td><td>Biochemical Oxygen Demand                                      </td></tr>\n",
       "\t<tr><td>datasets</td><td>CO2                   </td><td>Carbon Dioxide Uptake in Grass Plants                          </td></tr>\n",
       "\t<tr><td>datasets</td><td>ChickWeight           </td><td>Weight versus age of chicks on different diets                 </td></tr>\n",
       "\t<tr><td>datasets</td><td>DNase                 </td><td>Elisa assay of DNase                                           </td></tr>\n",
       "\t<tr><td>datasets</td><td>EuStockMarkets        </td><td>Daily Closing Prices of Major European Stock Indices, 1991-1998</td></tr>\n",
       "\t<tr><td>datasets</td><td>Formaldehyde          </td><td>Determination of Formaldehyde                                  </td></tr>\n",
       "\t<tr><td>datasets</td><td>HairEyeColor          </td><td>Hair and Eye Color of Statistics Students                      </td></tr>\n",
       "\t<tr><td>datasets</td><td>Harman23.cor          </td><td>Harman Example 2.3                                             </td></tr>\n",
       "\t<tr><td>datasets</td><td>Harman74.cor          </td><td>Harman Example 7.4                                             </td></tr>\n",
       "\t<tr><td>datasets</td><td>Indometh              </td><td>Pharmacokinetics of Indomethacin                               </td></tr>\n",
       "\t<tr><td>datasets</td><td>InsectSprays          </td><td>Effectiveness of Insect Sprays                                 </td></tr>\n",
       "\t<tr><td>datasets</td><td><span style=white-space:pre-wrap>JohnsonJohnson        </span></td><td><span style=white-space:pre-wrap>Quarterly Earnings per Johnson &amp; Johnson Share                 </span></td></tr>\n",
       "\t<tr><td>datasets</td><td>LakeHuron             </td><td>Level of Lake Huron 1875-1972                                  </td></tr>\n",
       "\t<tr><td>datasets</td><td>LifeCycleSavings      </td><td>Intercountry Life-Cycle Savings Data                           </td></tr>\n",
       "\t<tr><td>datasets</td><td>Loblolly              </td><td>Growth of Loblolly pine trees                                  </td></tr>\n",
       "\t<tr><td>datasets</td><td>Nile                  </td><td>Flow of the River Nile                                         </td></tr>\n",
       "\t<tr><td>datasets</td><td>Orange                </td><td>Growth of Orange Trees                                         </td></tr>\n",
       "\t<tr><td>datasets</td><td>OrchardSprays         </td><td>Potency of Orchard Sprays                                      </td></tr>\n",
       "\t<tr><td>datasets</td><td>PlantGrowth           </td><td>Results from an Experiment on Plant Growth                     </td></tr>\n",
       "\t<tr><td>datasets</td><td>Puromycin             </td><td>Reaction Velocity of an Enzymatic Reaction                     </td></tr>\n",
       "\t<tr><td>datasets</td><td>Seatbelts             </td><td>Road Casualties in Great Britain 1969-84                       </td></tr>\n",
       "\t<tr><td>datasets</td><td>Theoph                </td><td>Pharmacokinetics of Theophylline                               </td></tr>\n",
       "\t<tr><td>datasets</td><td>Titanic               </td><td>Survival of passengers on the Titanic                          </td></tr>\n",
       "\t<tr><td>datasets</td><td>ToothGrowth           </td><td>The Effect of Vitamin C on Tooth Growth in Guinea Pigs         </td></tr>\n",
       "\t<tr><td>datasets</td><td>UCBAdmissions         </td><td>Student Admissions at UC Berkeley                              </td></tr>\n",
       "\t<tr><td>datasets</td><td>UKDriverDeaths        </td><td>Road Casualties in Great Britain 1969-84                       </td></tr>\n",
       "\t<tr><td>datasets</td><td>UKgas                 </td><td>UK Quarterly Gas Consumption                                   </td></tr>\n",
       "\t<tr><td>datasets</td><td>USAccDeaths           </td><td>Accidental Deaths in the US 1973-1978                          </td></tr>\n",
       "\t<tr><td>datasets</td><td>USArrests             </td><td>Violent Crime Rates by US State                                </td></tr>\n",
       "\t<tr><td>datasets</td><td>USJudgeRatings        </td><td>Lawyers' Ratings of State Judges in the US Superior Court      </td></tr>\n",
       "\t<tr><td>datasets</td><td>USPersonalExpenditure </td><td>Personal Expenditure Data                                      </td></tr>\n",
       "\t<tr><td>datasets</td><td>UScitiesD             </td><td>Distances Between European Cities and Between US Cities        </td></tr>\n",
       "\t<tr><td>datasets</td><td>VADeaths              </td><td>Death Rates in Virginia (1940)                                 </td></tr>\n",
       "\t<tr><td>datasets</td><td>WWWusage              </td><td>Internet Usage per Minute                                      </td></tr>\n",
       "\t<tr><td>datasets</td><td>WorldPhones           </td><td>The World's Telephones                                         </td></tr>\n",
       "\t<tr><td>datasets</td><td>ability.cov           </td><td>Ability and Intelligence Tests                                 </td></tr>\n",
       "\t<tr><td>datasets</td><td>airmiles              </td><td>Passenger Miles on Commercial US Airlines, 1937-1960           </td></tr>\n",
       "\t<tr><td>datasets</td><td>airquality            </td><td>New York Air Quality Measurements                              </td></tr>\n",
       "\t<tr><td>datasets</td><td>anscombe              </td><td>Anscombe's Quartet of 'Identical' Simple Linear Regressions    </td></tr>\n",
       "\t<tr><td>datasets</td><td>attenu                </td><td>The Joyner-Boore Attenuation Data                              </td></tr>\n",
       "\t<tr><td>datasets</td><td>attitude              </td><td>The Chatterjee-Price Attitude Data                             </td></tr>\n",
       "\t<tr><td>datasets</td><td>austres               </td><td>Quarterly Time Series of the Number of Australian Residents    </td></tr>\n",
       "\t<tr><td>datasets</td><td>beaver1 (beavers)     </td><td>Body Temperature Series of Two Beavers                         </td></tr>\n",
       "\t<tr><td>datasets</td><td>beaver2 (beavers)     </td><td>Body Temperature Series of Two Beavers                         </td></tr>\n",
       "\t<tr><td>datasets</td><td>cars                  </td><td>Speed and Stopping Distances of Cars                           </td></tr>\n",
       "\t<tr><td>datasets</td><td>chickwts              </td><td>Chicken Weights by Feed Type                                   </td></tr>\n",
       "\t<tr><td>datasets</td><td>co2                   </td><td>Mauna Loa Atmospheric CO2 Concentration                        </td></tr>\n",
       "\t<tr><td>datasets</td><td>crimtab               </td><td>Student's 3000 Criminals Data                                  </td></tr>\n",
       "\t<tr><td>datasets</td><td>discoveries           </td><td>Yearly Numbers of Important Discoveries                        </td></tr>\n",
       "\t<tr><td>datasets</td><td>esoph                 </td><td>Smoking, Alcohol and (O)esophageal Cancer                      </td></tr>\n",
       "\t<tr><td>datasets</td><td>euro                  </td><td>Conversion Rates of Euro Currencies                            </td></tr>\n",
       "\t<tr><td>datasets</td><td>euro.cross (euro)     </td><td>Conversion Rates of Euro Currencies                            </td></tr>\n",
       "\t<tr><td>datasets</td><td>eurodist              </td><td>Distances Between European Cities and Between US Cities        </td></tr>\n",
       "\t<tr><td>datasets</td><td>faithful              </td><td>Old Faithful Geyser Data                                       </td></tr>\n",
       "\t<tr><td>datasets</td><td>fdeaths (UKLungDeaths)</td><td>Monthly Deaths from Lung Diseases in the UK                    </td></tr>\n",
       "\t<tr><td>datasets</td><td>freeny                </td><td>Freeny's Revenue Data                                          </td></tr>\n",
       "\t<tr><td>datasets</td><td>freeny.x (freeny)     </td><td>Freeny's Revenue Data                                          </td></tr>\n",
       "\t<tr><td>datasets</td><td>freeny.y (freeny)     </td><td>Freeny's Revenue Data                                          </td></tr>\n",
       "\t<tr><td>datasets</td><td>infert                </td><td>Infertility after Spontaneous and Induced Abortion             </td></tr>\n",
       "\t<tr><td>datasets</td><td>iris                  </td><td>Edgar Anderson's Iris Data                                     </td></tr>\n",
       "\t<tr><td>datasets</td><td>iris3                 </td><td>Edgar Anderson's Iris Data                                     </td></tr>\n",
       "\t<tr><td>datasets</td><td>islands               </td><td>Areas of the World's Major Landmasses                          </td></tr>\n",
       "\t<tr><td>datasets</td><td>ldeaths (UKLungDeaths)</td><td>Monthly Deaths from Lung Diseases in the UK                    </td></tr>\n",
       "\t<tr><td>datasets</td><td>lh                    </td><td>Luteinizing Hormone in Blood Samples                           </td></tr>\n",
       "\t<tr><td>datasets</td><td>longley               </td><td>Longley's Economic Regression Data                             </td></tr>\n",
       "\t<tr><td>datasets</td><td>lynx                  </td><td>Annual Canadian Lynx trappings 1821-1934                       </td></tr>\n",
       "\t<tr><td>datasets</td><td>mdeaths (UKLungDeaths)</td><td>Monthly Deaths from Lung Diseases in the UK                    </td></tr>\n",
       "\t<tr><td>datasets</td><td>morley                </td><td>Michelson Speed of Light Data                                  </td></tr>\n",
       "\t<tr><td>datasets</td><td>mtcars                </td><td>Motor Trend Car Road Tests                                     </td></tr>\n",
       "\t<tr><td>datasets</td><td>nhtemp                </td><td>Average Yearly Temperatures in New Haven                       </td></tr>\n",
       "\t<tr><td>datasets</td><td>nottem                </td><td>Average Monthly Temperatures at Nottingham, 1920-1939          </td></tr>\n",
       "\t<tr><td>datasets</td><td>npk                   </td><td>Classical N, P, K Factorial Experiment                         </td></tr>\n",
       "\t<tr><td>datasets</td><td>occupationalStatus    </td><td>Occupational Status of Fathers and their Sons                  </td></tr>\n",
       "\t<tr><td>datasets</td><td>precip                </td><td>Annual Precipitation in US Cities                              </td></tr>\n",
       "\t<tr><td>datasets</td><td>presidents            </td><td>Quarterly Approval Ratings of US Presidents                    </td></tr>\n",
       "\t<tr><td>datasets</td><td>pressure              </td><td>Vapor Pressure of Mercury as a Function of Temperature         </td></tr>\n",
       "\t<tr><td>datasets</td><td>quakes                </td><td>Locations of Earthquakes off Fiji                              </td></tr>\n",
       "\t<tr><td>datasets</td><td>randu                 </td><td>Random Numbers from Congruential Generator RANDU               </td></tr>\n",
       "\t<tr><td>datasets</td><td>rivers                </td><td>Lengths of Major North American Rivers                         </td></tr>\n",
       "\t<tr><td>datasets</td><td>rock                  </td><td>Measurements on Petroleum Rock Samples                         </td></tr>\n",
       "\t<tr><td>datasets</td><td>sleep                 </td><td>Student's Sleep Data                                           </td></tr>\n",
       "\t<tr><td>datasets</td><td>stack.loss (stackloss)</td><td>Brownlee's Stack Loss Plant Data                               </td></tr>\n",
       "\t<tr><td>datasets</td><td>stack.x (stackloss)   </td><td>Brownlee's Stack Loss Plant Data                               </td></tr>\n",
       "\t<tr><td>datasets</td><td>stackloss             </td><td>Brownlee's Stack Loss Plant Data                               </td></tr>\n",
       "\t<tr><td>datasets</td><td>state.abb (state)     </td><td>US State Facts and Figures                                     </td></tr>\n",
       "\t<tr><td>datasets</td><td>state.area (state)    </td><td>US State Facts and Figures                                     </td></tr>\n",
       "\t<tr><td>datasets</td><td>state.center (state)  </td><td>US State Facts and Figures                                     </td></tr>\n",
       "\t<tr><td>datasets</td><td>state.division (state)</td><td>US State Facts and Figures                                     </td></tr>\n",
       "\t<tr><td>datasets</td><td>state.name (state)    </td><td>US State Facts and Figures                                     </td></tr>\n",
       "\t<tr><td>datasets</td><td>state.region (state)  </td><td>US State Facts and Figures                                     </td></tr>\n",
       "\t<tr><td>datasets</td><td>state.x77 (state)     </td><td>US State Facts and Figures                                     </td></tr>\n",
       "\t<tr><td>datasets</td><td>sunspot.month         </td><td>Monthly Sunspot Data, from 1749 to \"Present\"                   </td></tr>\n",
       "\t<tr><td>datasets</td><td>sunspot.year          </td><td>Yearly Sunspot Data, 1700-1988                                 </td></tr>\n",
       "\t<tr><td>datasets</td><td>sunspots              </td><td>Monthly Sunspot Numbers, 1749-1983                             </td></tr>\n",
       "\t<tr><td>datasets</td><td>swiss                 </td><td>Swiss Fertility and Socioeconomic Indicators (1888) Data       </td></tr>\n",
       "\t<tr><td>datasets</td><td>treering              </td><td>Yearly Treering Data, -6000-1979                               </td></tr>\n",
       "\t<tr><td>datasets</td><td>trees                 </td><td>Diameter, Height and Volume for Black Cherry Trees             </td></tr>\n",
       "\t<tr><td>datasets</td><td>uspop                 </td><td>Populations Recorded by the US Census                          </td></tr>\n",
       "\t<tr><td>datasets</td><td>volcano               </td><td>Topographic Information on Auckland's Maunga Whau Volcano      </td></tr>\n",
       "\t<tr><td>datasets</td><td>warpbreaks            </td><td>The Number of Breaks in Yarn during Weaving                    </td></tr>\n",
       "\t<tr><td>datasets</td><td>women                 </td><td>Average Heights and Weights for American Women                 </td></tr>\n",
       "</tbody>\n",
       "</table>\n",
       "\n",
       "<p>Use ‘data(package = .packages(all.available = TRUE))’\n",
       "to list the data sets in all *available* packages.</p>"
      ],
      "text/plain": [
       "Data sets in package ‘AGD’:\n",
       "\n",
       "boys7482                Growth of Dutch boys\n",
       "cdc.bmi                 Reference tables from CDC 2000\n",
       "cdc.hgt                 Reference tables from CDC 2000\n",
       "cdc.wgt                 Reference tables from CDC 2000\n",
       "nl3.bmi                 Reference tables from Third Dutch Growth Study\n",
       "                        1980\n",
       "nl4.bmi                 Reference tables from Fourth Dutch Growth Study\n",
       "                        1997\n",
       "nl4.hdc                 Reference tables from Fourth Dutch Growth Study\n",
       "                        1997\n",
       "nl4.hgt                 Reference tables from Fourth Dutch Growth Study\n",
       "                        1997\n",
       "nl4.hip                 Reference tables from Fourth Dutch Growth Study\n",
       "                        1997\n",
       "nl4.lgl                 Reference tables from Fourth Dutch Growth Study\n",
       "                        1997\n",
       "nl4.shh                 Reference tables from Fourth Dutch Growth Study\n",
       "                        1997\n",
       "nl4.sit                 Reference tables from Fourth Dutch Growth Study\n",
       "                        1997\n",
       "nl4.wfh                 Reference tables from Fourth Dutch Growth Study\n",
       "                        1997\n",
       "nl4.wgt                 Reference tables from Fourth Dutch Growth Study\n",
       "                        1997\n",
       "nl4.whr                 Reference tables from Fourth Dutch Growth Study\n",
       "                        1997\n",
       "nl4.wst                 Reference tables from Fourth Dutch Growth Study\n",
       "                        1997\n",
       "who.bmi                 References WHO\n",
       "who.hdc                 References WHO\n",
       "who.hgt                 References WHO\n",
       "who.wfh                 References WHO\n",
       "who.wfl                 References WHO\n",
       "who.wgt                 References WHO\n",
       "Data sets in package ‘datasets’:\n",
       "\n",
       "AirPassengers           Monthly Airline Passenger Numbers 1949-1960\n",
       "BJsales                 Sales Data with Leading Indicator\n",
       "BJsales.lead (BJsales)\n",
       "                        Sales Data with Leading Indicator\n",
       "BOD                     Biochemical Oxygen Demand\n",
       "CO2                     Carbon Dioxide Uptake in Grass Plants\n",
       "ChickWeight             Weight versus age of chicks on different diets\n",
       "DNase                   Elisa assay of DNase\n",
       "EuStockMarkets          Daily Closing Prices of Major European Stock\n",
       "                        Indices, 1991-1998\n",
       "Formaldehyde            Determination of Formaldehyde\n",
       "HairEyeColor            Hair and Eye Color of Statistics Students\n",
       "Harman23.cor            Harman Example 2.3\n",
       "Harman74.cor            Harman Example 7.4\n",
       "Indometh                Pharmacokinetics of Indomethacin\n",
       "InsectSprays            Effectiveness of Insect Sprays\n",
       "JohnsonJohnson          Quarterly Earnings per Johnson & Johnson Share\n",
       "LakeHuron               Level of Lake Huron 1875-1972\n",
       "LifeCycleSavings        Intercountry Life-Cycle Savings Data\n",
       "Loblolly                Growth of Loblolly pine trees\n",
       "Nile                    Flow of the River Nile\n",
       "Orange                  Growth of Orange Trees\n",
       "OrchardSprays           Potency of Orchard Sprays\n",
       "PlantGrowth             Results from an Experiment on Plant Growth\n",
       "Puromycin               Reaction Velocity of an Enzymatic Reaction\n",
       "Seatbelts               Road Casualties in Great Britain 1969-84\n",
       "Theoph                  Pharmacokinetics of Theophylline\n",
       "Titanic                 Survival of passengers on the Titanic\n",
       "ToothGrowth             The Effect of Vitamin C on Tooth Growth in\n",
       "                        Guinea Pigs\n",
       "UCBAdmissions           Student Admissions at UC Berkeley\n",
       "UKDriverDeaths          Road Casualties in Great Britain 1969-84\n",
       "UKgas                   UK Quarterly Gas Consumption\n",
       "USAccDeaths             Accidental Deaths in the US 1973-1978\n",
       "USArrests               Violent Crime Rates by US State\n",
       "USJudgeRatings          Lawyers' Ratings of State Judges in the US\n",
       "                        Superior Court\n",
       "USPersonalExpenditure   Personal Expenditure Data\n",
       "UScitiesD               Distances Between European Cities and Between\n",
       "                        US Cities\n",
       "VADeaths                Death Rates in Virginia (1940)\n",
       "WWWusage                Internet Usage per Minute\n",
       "WorldPhones             The World's Telephones\n",
       "ability.cov             Ability and Intelligence Tests\n",
       "airmiles                Passenger Miles on Commercial US Airlines,\n",
       "                        1937-1960\n",
       "airquality              New York Air Quality Measurements\n",
       "anscombe                Anscombe's Quartet of 'Identical' Simple Linear\n",
       "                        Regressions\n",
       "attenu                  The Joyner-Boore Attenuation Data\n",
       "attitude                The Chatterjee-Price Attitude Data\n",
       "austres                 Quarterly Time Series of the Number of\n",
       "                        Australian Residents\n",
       "beaver1 (beavers)       Body Temperature Series of Two Beavers\n",
       "beaver2 (beavers)       Body Temperature Series of Two Beavers\n",
       "cars                    Speed and Stopping Distances of Cars\n",
       "chickwts                Chicken Weights by Feed Type\n",
       "co2                     Mauna Loa Atmospheric CO2 Concentration\n",
       "crimtab                 Student's 3000 Criminals Data\n",
       "discoveries             Yearly Numbers of Important Discoveries\n",
       "esoph                   Smoking, Alcohol and (O)esophageal Cancer\n",
       "euro                    Conversion Rates of Euro Currencies\n",
       "euro.cross (euro)       Conversion Rates of Euro Currencies\n",
       "eurodist                Distances Between European Cities and Between\n",
       "                        US Cities\n",
       "faithful                Old Faithful Geyser Data\n",
       "fdeaths (UKLungDeaths)\n",
       "                        Monthly Deaths from Lung Diseases in the UK\n",
       "freeny                  Freeny's Revenue Data\n",
       "freeny.x (freeny)       Freeny's Revenue Data\n",
       "freeny.y (freeny)       Freeny's Revenue Data\n",
       "infert                  Infertility after Spontaneous and Induced\n",
       "                        Abortion\n",
       "iris                    Edgar Anderson's Iris Data\n",
       "iris3                   Edgar Anderson's Iris Data\n",
       "islands                 Areas of the World's Major Landmasses\n",
       "ldeaths (UKLungDeaths)\n",
       "                        Monthly Deaths from Lung Diseases in the UK\n",
       "lh                      Luteinizing Hormone in Blood Samples\n",
       "longley                 Longley's Economic Regression Data\n",
       "lynx                    Annual Canadian Lynx trappings 1821-1934\n",
       "mdeaths (UKLungDeaths)\n",
       "                        Monthly Deaths from Lung Diseases in the UK\n",
       "morley                  Michelson Speed of Light Data\n",
       "mtcars                  Motor Trend Car Road Tests\n",
       "nhtemp                  Average Yearly Temperatures in New Haven\n",
       "nottem                  Average Monthly Temperatures at Nottingham,\n",
       "                        1920-1939\n",
       "npk                     Classical N, P, K Factorial Experiment\n",
       "occupationalStatus      Occupational Status of Fathers and their Sons\n",
       "precip                  Annual Precipitation in US Cities\n",
       "presidents              Quarterly Approval Ratings of US Presidents\n",
       "pressure                Vapor Pressure of Mercury as a Function of\n",
       "                        Temperature\n",
       "quakes                  Locations of Earthquakes off Fiji\n",
       "randu                   Random Numbers from Congruential Generator\n",
       "                        RANDU\n",
       "rivers                  Lengths of Major North American Rivers\n",
       "rock                    Measurements on Petroleum Rock Samples\n",
       "sleep                   Student's Sleep Data\n",
       "stack.loss (stackloss)\n",
       "                        Brownlee's Stack Loss Plant Data\n",
       "stack.x (stackloss)     Brownlee's Stack Loss Plant Data\n",
       "stackloss               Brownlee's Stack Loss Plant Data\n",
       "state.abb (state)       US State Facts and Figures\n",
       "state.area (state)      US State Facts and Figures\n",
       "state.center (state)    US State Facts and Figures\n",
       "state.division (state)\n",
       "                        US State Facts and Figures\n",
       "state.name (state)      US State Facts and Figures\n",
       "state.region (state)    US State Facts and Figures\n",
       "state.x77 (state)       US State Facts and Figures\n",
       "sunspot.month           Monthly Sunspot Data, from 1749 to \"Present\"\n",
       "sunspot.year            Yearly Sunspot Data, 1700-1988\n",
       "sunspots                Monthly Sunspot Numbers, 1749-1983\n",
       "swiss                   Swiss Fertility and Socioeconomic Indicators\n",
       "                        (1888) Data\n",
       "treering                Yearly Treering Data, -6000-1979\n",
       "trees                   Diameter, Height and Volume for Black Cherry\n",
       "                        Trees\n",
       "uspop                   Populations Recorded by the US Census\n",
       "volcano                 Topographic Information on Auckland's Maunga\n",
       "                        Whau Volcano\n",
       "warpbreaks              The Number of Breaks in Yarn during Weaving\n",
       "women                   Average Heights and Weights for American Women\n",
       "\n",
       "Use ‘data(package = .packages(all.available = TRUE))’\n",
       "to list the data sets in all *available* packages."
      ]
     },
     "metadata": {},
     "output_type": "display_data"
    }
   ],
   "source": [
    "data()"
   ]
  },
  {
   "cell_type": "code",
   "execution_count": 156,
   "id": "be3487eb-754d-4edb-9a1b-47f8ea27edb4",
   "metadata": {
    "tags": []
   },
   "outputs": [],
   "source": [
    "data(iris)"
   ]
  },
  {
   "cell_type": "code",
   "execution_count": 157,
   "id": "38a93c77-55b7-44ff-a227-2da0b7ecb65f",
   "metadata": {
    "tags": []
   },
   "outputs": [
    {
     "data": {
      "text/plain": [
       "  Sepal.Length    Sepal.Width     Petal.Length    Petal.Width   \n",
       " Min.   :4.300   Min.   :2.000   Min.   :1.000   Min.   :0.100  \n",
       " 1st Qu.:5.100   1st Qu.:2.800   1st Qu.:1.600   1st Qu.:0.300  \n",
       " Median :5.800   Median :3.000   Median :4.350   Median :1.300  \n",
       " Mean   :5.843   Mean   :3.057   Mean   :3.758   Mean   :1.199  \n",
       " 3rd Qu.:6.400   3rd Qu.:3.300   3rd Qu.:5.100   3rd Qu.:1.800  \n",
       " Max.   :7.900   Max.   :4.400   Max.   :6.900   Max.   :2.500  \n",
       "       Species  \n",
       " setosa    :50  \n",
       " versicolor:50  \n",
       " virginica :50  \n",
       "                \n",
       "                \n",
       "                "
      ]
     },
     "metadata": {},
     "output_type": "display_data"
    }
   ],
   "source": [
    "summary(iris)"
   ]
  },
  {
   "cell_type": "code",
   "execution_count": 158,
   "id": "8dd990c5-1232-4bd7-ac74-cf30ef93655f",
   "metadata": {
    "tags": []
   },
   "outputs": [
    {
     "data": {
      "text/plain": [
       "   Min. 1st Qu.  Median    Mean 3rd Qu.    Max. \n",
       "  4.300   5.100   5.800   5.843   6.400   7.900 "
      ]
     },
     "metadata": {},
     "output_type": "display_data"
    }
   ],
   "source": [
    "summary(iris$Sepal.Length)"
   ]
  },
  {
   "cell_type": "markdown",
   "id": "03c75bd2-db19-4d88-9822-e509d775406c",
   "metadata": {
    "tags": []
   },
   "source": [
    "### Using Built-in Datasets in R"
   ]
  },
  {
   "cell_type": "code",
   "execution_count": 159,
   "id": "4aca740a-4daf-43ea-80e2-6de024671e85",
   "metadata": {
    "collapsed": true,
    "jupyter": {
     "outputs_hidden": true
    },
    "tags": []
   },
   "outputs": [
    {
     "data": {
      "text/html": [
       "<h3>Data sets</h3>\n",
       "<table class=\"dataframe\">\n",
       "<caption>A data.frame: 452 × 3</caption>\n",
       "<thead>\n",
       "\t<tr><th scope=col>Package</th><th scope=col>Item</th><th scope=col>Title</th></tr>\n",
       "\t<tr><th scope=col>&lt;chr&gt;</th><th scope=col>&lt;chr&gt;</th><th scope=col>&lt;chr&gt;</th></tr>\n",
       "</thead>\n",
       "<tbody>\n",
       "\t<tr><td>AGD        </td><td>boys7482               </td><td>Growth of Dutch boys                                                           </td></tr>\n",
       "\t<tr><td>AGD        </td><td>cdc.bmi                </td><td>Reference tables from CDC 2000                                                 </td></tr>\n",
       "\t<tr><td>AGD        </td><td>cdc.hgt                </td><td>Reference tables from CDC 2000                                                 </td></tr>\n",
       "\t<tr><td>AGD        </td><td>cdc.wgt                </td><td>Reference tables from CDC 2000                                                 </td></tr>\n",
       "\t<tr><td>AGD        </td><td>nl3.bmi                </td><td>Reference tables from Third Dutch Growth Study 1980                            </td></tr>\n",
       "\t<tr><td>AGD        </td><td>nl4.bmi                </td><td>Reference tables from Fourth Dutch Growth Study 1997                           </td></tr>\n",
       "\t<tr><td>AGD        </td><td>nl4.hdc                </td><td>Reference tables from Fourth Dutch Growth Study 1997                           </td></tr>\n",
       "\t<tr><td>AGD        </td><td>nl4.hgt                </td><td>Reference tables from Fourth Dutch Growth Study 1997                           </td></tr>\n",
       "\t<tr><td>AGD        </td><td>nl4.hip                </td><td>Reference tables from Fourth Dutch Growth Study 1997                           </td></tr>\n",
       "\t<tr><td>AGD        </td><td>nl4.lgl                </td><td>Reference tables from Fourth Dutch Growth Study 1997                           </td></tr>\n",
       "\t<tr><td>AGD        </td><td>nl4.shh                </td><td>Reference tables from Fourth Dutch Growth Study 1997                           </td></tr>\n",
       "\t<tr><td>AGD        </td><td>nl4.sit                </td><td>Reference tables from Fourth Dutch Growth Study 1997                           </td></tr>\n",
       "\t<tr><td>AGD        </td><td>nl4.wfh                </td><td>Reference tables from Fourth Dutch Growth Study 1997                           </td></tr>\n",
       "\t<tr><td>AGD        </td><td>nl4.wgt                </td><td>Reference tables from Fourth Dutch Growth Study 1997                           </td></tr>\n",
       "\t<tr><td>AGD        </td><td>nl4.whr                </td><td>Reference tables from Fourth Dutch Growth Study 1997                           </td></tr>\n",
       "\t<tr><td>AGD        </td><td>nl4.wst                </td><td>Reference tables from Fourth Dutch Growth Study 1997                           </td></tr>\n",
       "\t<tr><td>AGD        </td><td>who.bmi                </td><td>References WHO                                                                 </td></tr>\n",
       "\t<tr><td>AGD        </td><td>who.hdc                </td><td>References WHO                                                                 </td></tr>\n",
       "\t<tr><td>AGD        </td><td>who.hgt                </td><td>References WHO                                                                 </td></tr>\n",
       "\t<tr><td>AGD        </td><td>who.wfh                </td><td>References WHO                                                                 </td></tr>\n",
       "\t<tr><td>AGD        </td><td>who.wfl                </td><td>References WHO                                                                 </td></tr>\n",
       "\t<tr><td>AGD        </td><td>who.wgt                </td><td>References WHO                                                                 </td></tr>\n",
       "\t<tr><td>datasets   </td><td>AirPassengers          </td><td>Monthly Airline Passenger Numbers 1949-1960                                    </td></tr>\n",
       "\t<tr><td>datasets   </td><td>BJsales                </td><td>Sales Data with Leading Indicator                                              </td></tr>\n",
       "\t<tr><td>datasets   </td><td>BJsales.lead (BJsales) </td><td>Sales Data with Leading Indicator                                              </td></tr>\n",
       "\t<tr><td>datasets   </td><td>BOD                    </td><td>Biochemical Oxygen Demand                                                      </td></tr>\n",
       "\t<tr><td>datasets   </td><td>CO2                    </td><td>Carbon Dioxide Uptake in Grass Plants                                          </td></tr>\n",
       "\t<tr><td>datasets   </td><td>ChickWeight            </td><td>Weight versus age of chicks on different diets                                 </td></tr>\n",
       "\t<tr><td>datasets   </td><td>DNase                  </td><td>Elisa assay of DNase                                                           </td></tr>\n",
       "\t<tr><td>datasets   </td><td>EuStockMarkets         </td><td>Daily Closing Prices of Major European Stock Indices, 1991-1998                </td></tr>\n",
       "\t<tr><td>datasets   </td><td>Formaldehyde           </td><td>Determination of Formaldehyde                                                  </td></tr>\n",
       "\t<tr><td>datasets   </td><td>HairEyeColor           </td><td>Hair and Eye Color of Statistics Students                                      </td></tr>\n",
       "\t<tr><td>datasets   </td><td>Harman23.cor           </td><td>Harman Example 2.3                                                             </td></tr>\n",
       "\t<tr><td>datasets   </td><td>Harman74.cor           </td><td>Harman Example 7.4                                                             </td></tr>\n",
       "\t<tr><td>datasets   </td><td>Indometh               </td><td>Pharmacokinetics of Indomethacin                                               </td></tr>\n",
       "\t<tr><td>datasets   </td><td>InsectSprays           </td><td>Effectiveness of Insect Sprays                                                 </td></tr>\n",
       "\t<tr><td><span style=white-space:pre-wrap>datasets   </span></td><td><span style=white-space:pre-wrap>JohnsonJohnson         </span></td><td><span style=white-space:pre-wrap>Quarterly Earnings per Johnson &amp; Johnson Share                                 </span></td></tr>\n",
       "\t<tr><td>datasets   </td><td>LakeHuron              </td><td>Level of Lake Huron 1875-1972                                                  </td></tr>\n",
       "\t<tr><td>datasets   </td><td>LifeCycleSavings       </td><td>Intercountry Life-Cycle Savings Data                                           </td></tr>\n",
       "\t<tr><td>datasets   </td><td>Loblolly               </td><td>Growth of Loblolly pine trees                                                  </td></tr>\n",
       "\t<tr><td>datasets   </td><td>Nile                   </td><td>Flow of the River Nile                                                         </td></tr>\n",
       "\t<tr><td>datasets   </td><td>Orange                 </td><td>Growth of Orange Trees                                                         </td></tr>\n",
       "\t<tr><td>datasets   </td><td>OrchardSprays          </td><td>Potency of Orchard Sprays                                                      </td></tr>\n",
       "\t<tr><td>datasets   </td><td>PlantGrowth            </td><td>Results from an Experiment on Plant Growth                                     </td></tr>\n",
       "\t<tr><td>datasets   </td><td>Puromycin              </td><td>Reaction Velocity of an Enzymatic Reaction                                     </td></tr>\n",
       "\t<tr><td>datasets   </td><td>Seatbelts              </td><td>Road Casualties in Great Britain 1969-84                                       </td></tr>\n",
       "\t<tr><td>datasets   </td><td>Theoph                 </td><td>Pharmacokinetics of Theophylline                                               </td></tr>\n",
       "\t<tr><td>datasets   </td><td>Titanic                </td><td>Survival of passengers on the Titanic                                          </td></tr>\n",
       "\t<tr><td>datasets   </td><td>ToothGrowth            </td><td>The Effect of Vitamin C on Tooth Growth in Guinea Pigs                         </td></tr>\n",
       "\t<tr><td>datasets   </td><td>UCBAdmissions          </td><td>Student Admissions at UC Berkeley                                              </td></tr>\n",
       "\t<tr><td>datasets   </td><td>UKDriverDeaths         </td><td>Road Casualties in Great Britain 1969-84                                       </td></tr>\n",
       "\t<tr><td>datasets   </td><td>UKgas                  </td><td>UK Quarterly Gas Consumption                                                   </td></tr>\n",
       "\t<tr><td>datasets   </td><td>USAccDeaths            </td><td>Accidental Deaths in the US 1973-1978                                          </td></tr>\n",
       "\t<tr><td>datasets   </td><td>USArrests              </td><td>Violent Crime Rates by US State                                                </td></tr>\n",
       "\t<tr><td>datasets   </td><td>USJudgeRatings         </td><td>Lawyers' Ratings of State Judges in the US Superior Court                      </td></tr>\n",
       "\t<tr><td>datasets   </td><td>USPersonalExpenditure  </td><td>Personal Expenditure Data                                                      </td></tr>\n",
       "\t<tr><td>datasets   </td><td>UScitiesD              </td><td>Distances Between European Cities and Between US Cities                        </td></tr>\n",
       "\t<tr><td>datasets   </td><td>VADeaths               </td><td>Death Rates in Virginia (1940)                                                 </td></tr>\n",
       "\t<tr><td>datasets   </td><td>WWWusage               </td><td>Internet Usage per Minute                                                      </td></tr>\n",
       "\t<tr><td>datasets   </td><td>WorldPhones            </td><td>The World's Telephones                                                         </td></tr>\n",
       "\t<tr><td>datasets   </td><td>ability.cov            </td><td>Ability and Intelligence Tests                                                 </td></tr>\n",
       "\t<tr><td>datasets   </td><td>airmiles               </td><td>Passenger Miles on Commercial US Airlines, 1937-1960                           </td></tr>\n",
       "\t<tr><td>datasets   </td><td>airquality             </td><td>New York Air Quality Measurements                                              </td></tr>\n",
       "\t<tr><td>datasets   </td><td>anscombe               </td><td>Anscombe's Quartet of 'Identical' Simple Linear Regressions                    </td></tr>\n",
       "\t<tr><td>datasets   </td><td>attenu                 </td><td>The Joyner-Boore Attenuation Data                                              </td></tr>\n",
       "\t<tr><td>datasets   </td><td>attitude               </td><td>The Chatterjee-Price Attitude Data                                             </td></tr>\n",
       "\t<tr><td>datasets   </td><td>austres                </td><td>Quarterly Time Series of the Number of Australian Residents                    </td></tr>\n",
       "\t<tr><td>datasets   </td><td>beaver1 (beavers)      </td><td>Body Temperature Series of Two Beavers                                         </td></tr>\n",
       "\t<tr><td>datasets   </td><td>beaver2 (beavers)      </td><td>Body Temperature Series of Two Beavers                                         </td></tr>\n",
       "\t<tr><td>datasets   </td><td>cars                   </td><td>Speed and Stopping Distances of Cars                                           </td></tr>\n",
       "\t<tr><td>datasets   </td><td>chickwts               </td><td>Chicken Weights by Feed Type                                                   </td></tr>\n",
       "\t<tr><td>datasets   </td><td>co2                    </td><td>Mauna Loa Atmospheric CO2 Concentration                                        </td></tr>\n",
       "\t<tr><td>datasets   </td><td>crimtab                </td><td>Student's 3000 Criminals Data                                                  </td></tr>\n",
       "\t<tr><td>datasets   </td><td>discoveries            </td><td>Yearly Numbers of Important Discoveries                                        </td></tr>\n",
       "\t<tr><td>datasets   </td><td>esoph                  </td><td>Smoking, Alcohol and (O)esophageal Cancer                                      </td></tr>\n",
       "\t<tr><td>datasets   </td><td>euro                   </td><td>Conversion Rates of Euro Currencies                                            </td></tr>\n",
       "\t<tr><td>datasets   </td><td>euro.cross (euro)      </td><td>Conversion Rates of Euro Currencies                                            </td></tr>\n",
       "\t<tr><td>datasets   </td><td>eurodist               </td><td>Distances Between European Cities and Between US Cities                        </td></tr>\n",
       "\t<tr><td>datasets   </td><td>faithful               </td><td>Old Faithful Geyser Data                                                       </td></tr>\n",
       "\t<tr><td>datasets   </td><td>fdeaths (UKLungDeaths) </td><td>Monthly Deaths from Lung Diseases in the UK                                    </td></tr>\n",
       "\t<tr><td>datasets   </td><td>freeny                 </td><td>Freeny's Revenue Data                                                          </td></tr>\n",
       "\t<tr><td>datasets   </td><td>freeny.x (freeny)      </td><td>Freeny's Revenue Data                                                          </td></tr>\n",
       "\t<tr><td>datasets   </td><td>freeny.y (freeny)      </td><td>Freeny's Revenue Data                                                          </td></tr>\n",
       "\t<tr><td>datasets   </td><td>infert                 </td><td>Infertility after Spontaneous and Induced Abortion                             </td></tr>\n",
       "\t<tr><td>datasets   </td><td>iris                   </td><td>Edgar Anderson's Iris Data                                                     </td></tr>\n",
       "\t<tr><td>datasets   </td><td>iris3                  </td><td>Edgar Anderson's Iris Data                                                     </td></tr>\n",
       "\t<tr><td>datasets   </td><td>islands                </td><td>Areas of the World's Major Landmasses                                          </td></tr>\n",
       "\t<tr><td>datasets   </td><td>ldeaths (UKLungDeaths) </td><td>Monthly Deaths from Lung Diseases in the UK                                    </td></tr>\n",
       "\t<tr><td>datasets   </td><td>lh                     </td><td>Luteinizing Hormone in Blood Samples                                           </td></tr>\n",
       "\t<tr><td>datasets   </td><td>longley                </td><td>Longley's Economic Regression Data                                             </td></tr>\n",
       "\t<tr><td>datasets   </td><td>lynx                   </td><td>Annual Canadian Lynx trappings 1821-1934                                       </td></tr>\n",
       "\t<tr><td>datasets   </td><td>mdeaths (UKLungDeaths) </td><td>Monthly Deaths from Lung Diseases in the UK                                    </td></tr>\n",
       "\t<tr><td>datasets   </td><td>morley                 </td><td>Michelson Speed of Light Data                                                  </td></tr>\n",
       "\t<tr><td>datasets   </td><td>mtcars                 </td><td>Motor Trend Car Road Tests                                                     </td></tr>\n",
       "\t<tr><td>datasets   </td><td>nhtemp                 </td><td>Average Yearly Temperatures in New Haven                                       </td></tr>\n",
       "\t<tr><td>datasets   </td><td>nottem                 </td><td>Average Monthly Temperatures at Nottingham, 1920-1939                          </td></tr>\n",
       "\t<tr><td>datasets   </td><td>npk                    </td><td>Classical N, P, K Factorial Experiment                                         </td></tr>\n",
       "\t<tr><td>datasets   </td><td>occupationalStatus     </td><td>Occupational Status of Fathers and their Sons                                  </td></tr>\n",
       "\t<tr><td>datasets   </td><td>precip                 </td><td>Annual Precipitation in US Cities                                              </td></tr>\n",
       "\t<tr><td>datasets   </td><td>presidents             </td><td>Quarterly Approval Ratings of US Presidents                                    </td></tr>\n",
       "\t<tr><td>datasets   </td><td>pressure               </td><td>Vapor Pressure of Mercury as a Function of Temperature                         </td></tr>\n",
       "\t<tr><td>datasets   </td><td>quakes                 </td><td>Locations of Earthquakes off Fiji                                              </td></tr>\n",
       "\t<tr><td>datasets   </td><td>randu                  </td><td>Random Numbers from Congruential Generator RANDU                               </td></tr>\n",
       "\t<tr><td>datasets   </td><td>rivers                 </td><td>Lengths of Major North American Rivers                                         </td></tr>\n",
       "\t<tr><td>datasets   </td><td>rock                   </td><td>Measurements on Petroleum Rock Samples                                         </td></tr>\n",
       "\t<tr><td>datasets   </td><td>sleep                  </td><td>Student's Sleep Data                                                           </td></tr>\n",
       "\t<tr><td>datasets   </td><td>stack.loss (stackloss) </td><td>Brownlee's Stack Loss Plant Data                                               </td></tr>\n",
       "\t<tr><td>datasets   </td><td>stack.x (stackloss)    </td><td>Brownlee's Stack Loss Plant Data                                               </td></tr>\n",
       "\t<tr><td>datasets   </td><td>stackloss              </td><td>Brownlee's Stack Loss Plant Data                                               </td></tr>\n",
       "\t<tr><td>datasets   </td><td>state.abb (state)      </td><td>US State Facts and Figures                                                     </td></tr>\n",
       "\t<tr><td>datasets   </td><td>state.area (state)     </td><td>US State Facts and Figures                                                     </td></tr>\n",
       "\t<tr><td>datasets   </td><td>state.center (state)   </td><td>US State Facts and Figures                                                     </td></tr>\n",
       "\t<tr><td>datasets   </td><td>state.division (state) </td><td>US State Facts and Figures                                                     </td></tr>\n",
       "\t<tr><td>datasets   </td><td>state.name (state)     </td><td>US State Facts and Figures                                                     </td></tr>\n",
       "\t<tr><td>datasets   </td><td>state.region (state)   </td><td>US State Facts and Figures                                                     </td></tr>\n",
       "\t<tr><td>datasets   </td><td>state.x77 (state)      </td><td>US State Facts and Figures                                                     </td></tr>\n",
       "\t<tr><td>datasets   </td><td>sunspot.month          </td><td>Monthly Sunspot Data, from 1749 to \"Present\"                                   </td></tr>\n",
       "\t<tr><td>datasets   </td><td>sunspot.year           </td><td>Yearly Sunspot Data, 1700-1988                                                 </td></tr>\n",
       "\t<tr><td>datasets   </td><td>sunspots               </td><td>Monthly Sunspot Numbers, 1749-1983                                             </td></tr>\n",
       "\t<tr><td>datasets   </td><td>swiss                  </td><td>Swiss Fertility and Socioeconomic Indicators (1888) Data                       </td></tr>\n",
       "\t<tr><td>datasets   </td><td>treering               </td><td>Yearly Treering Data, -6000-1979                                               </td></tr>\n",
       "\t<tr><td>datasets   </td><td>trees                  </td><td>Diameter, Height and Volume for Black Cherry Trees                             </td></tr>\n",
       "\t<tr><td>datasets   </td><td>uspop                  </td><td>Populations Recorded by the US Census                                          </td></tr>\n",
       "\t<tr><td>datasets   </td><td>volcano                </td><td>Topographic Information on Auckland's Maunga Whau Volcano                      </td></tr>\n",
       "\t<tr><td>datasets   </td><td>warpbreaks             </td><td>The Number of Breaks in Yarn during Weaving                                    </td></tr>\n",
       "\t<tr><td>datasets   </td><td>women                  </td><td>Average Heights and Weights for American Women                                 </td></tr>\n",
       "\t<tr><td>colorspace </td><td>USSouthPolygon         </td><td>Polygon for County Map of US South States: Alabama, Georgia, and South Carolina</td></tr>\n",
       "\t<tr><td>colorspace </td><td>max_chroma_table       </td><td>Compute Maximum Chroma for Given Hue and Luminance in HCL                      </td></tr>\n",
       "\t<tr><td>gamlss.data</td><td>CD4                    </td><td>The CD4 Count Data files for GAMLSS                                            </td></tr>\n",
       "\t<tr><td>gamlss.data</td><td>InfMort                </td><td>Infant Mortality Data                                                          </td></tr>\n",
       "\t<tr><td>gamlss.data</td><td>LGAclaims              </td><td>The LGA Claims Data files for GAMLSS                                           </td></tr>\n",
       "\t<tr><td>gamlss.data</td><td>Leukemia               </td><td>The Leukemia data                                                              </td></tr>\n",
       "\t<tr><td>gamlss.data</td><td>Mums                   </td><td>Mothers encouragement data                                                     </td></tr>\n",
       "\t<tr><td>gamlss.data</td><td>VictimsOfCrime         </td><td>Reported victims of crime data                                                 </td></tr>\n",
       "\t<tr><td>gamlss.data</td><td>abdom                  </td><td>Abdominal Circumference Data                                                   </td></tr>\n",
       "\t<tr><td>gamlss.data</td><td>acidity                </td><td>The Acidity Data files for GAMLSS                                              </td></tr>\n",
       "\t<tr><td>gamlss.data</td><td>aep                    </td><td>The Hospital Stay Data                                                         </td></tr>\n",
       "\t<tr><td>gamlss.data</td><td>aids                   </td><td>Aids Cases in England and Wales                                                </td></tr>\n",
       "\t<tr><td>gamlss.data</td><td>aircond                </td><td>Air-conditioning data                                                          </td></tr>\n",
       "\t<tr><td>gamlss.data</td><td>alveolar               </td><td>The Alveolar Data files for GAMLSS                                             </td></tr>\n",
       "\t<tr><td>gamlss.data</td><td>brownfat               </td><td>The brown fat data set                                                         </td></tr>\n",
       "\t<tr><td>gamlss.data</td><td>bush2000               </td><td>The Bush 2000 election data                                                    </td></tr>\n",
       "\t<tr><td>gamlss.data</td><td>cable                  </td><td>The cable data set                                                             </td></tr>\n",
       "\t<tr><td>gamlss.data</td><td>computer               </td><td>The Computer Failure Data files for GAMLSS                                     </td></tr>\n",
       "\t<tr><td>gamlss.data</td><td>cysts                  </td><td>Data for count data                                                            </td></tr>\n",
       "\t<tr><td>gamlss.data</td><td>db                     </td><td>Head Circumference of Dutch Boys                                               </td></tr>\n",
       "\t<tr><td>gamlss.data</td><td>dbbmi                  </td><td>BMI of Dutch Boys                                                              </td></tr>\n",
       "\t<tr><td>gamlss.data</td><td>dbhh                   </td><td>Head circumference and height of Dutch Boys                                    </td></tr>\n",
       "\t<tr><td>gamlss.data</td><td>eu15                   </td><td>GDP of 15 EU counties from 1960 to 2009                                        </td></tr>\n",
       "\t<tr><td>gamlss.data</td><td>fabric                 </td><td>The Fabric Data                                                                </td></tr>\n",
       "\t<tr><td>gamlss.data</td><td>film30                 </td><td>Film revenue data for the 1930's                                               </td></tr>\n",
       "\t<tr><td>gamlss.data</td><td>film90                 </td><td>Film revenue data for the 1990's                                               </td></tr>\n",
       "\t<tr><td>gamlss.data</td><td>glass                  </td><td>The Glass Data files for GAMLSS                                                </td></tr>\n",
       "\t<tr><td>gamlss.data</td><td>glasses                </td><td>Reading Glasses Data                                                           </td></tr>\n",
       "\t<tr><td>gamlss.data</td><td>grip                   </td><td>The hand grip strength data                                                    </td></tr>\n",
       "\t<tr><td>gamlss.data</td><td>hodges                 </td><td>Hodges data                                                                    </td></tr>\n",
       "\t<tr><td>gamlss.data</td><td>hodges1                </td><td>Hodges data                                                                    </td></tr>\n",
       "\t<tr><td>gamlss.data</td><td>lice                   </td><td>Data files for GAMLSS                                                          </td></tr>\n",
       "\t<tr><td>gamlss.data</td><td>lungFunction           </td><td>The lung function data                                                         </td></tr>\n",
       "\t<tr><td>gamlss.data</td><td>margolin               </td><td>The Margolin Data files for GAMLSS                                             </td></tr>\n",
       "\t<tr><td>gamlss.data</td><td>meta                   </td><td>A Meta Analysis on Smoking Cessation                                           </td></tr>\n",
       "\t<tr><td>gamlss.data</td><td>mvi                    </td><td>The motor vehicle insurance data                                               </td></tr>\n",
       "\t<tr><td>gamlss.data</td><td>mviBig                 </td><td>The motor vehicle insurance data                                               </td></tr>\n",
       "\t<tr><td>gamlss.data</td><td>oil                    </td><td>The oil price data                                                             </td></tr>\n",
       "\t<tr><td>gamlss.data</td><td>parzen                 </td><td>The Parzen Data File for GAMLSS                                                </td></tr>\n",
       "\t<tr><td>gamlss.data</td><td>plasma                 </td><td>The plasma data set                                                            </td></tr>\n",
       "\t<tr><td>gamlss.data</td><td>polio                  </td><td>Poliomyelitis cases in US                                                      </td></tr>\n",
       "\t<tr><td>gamlss.data</td><td>rent                   </td><td>Rent data                                                                      </td></tr>\n",
       "\t<tr><td>gamlss.data</td><td>rent99                 </td><td>Munich rent data of 1999                                                       </td></tr>\n",
       "\t<tr><td>gamlss.data</td><td>rent99.polys           </td><td>The boundaries file for Munich rent data from the 1999 survey.                 </td></tr>\n",
       "\t<tr><td>gamlss.data</td><td>respInf                </td><td>Respiratory Infection in Indonesian Children.                                  </td></tr>\n",
       "\t<tr><td>gamlss.data</td><td>sleep                  </td><td>Data on sleep                                                                  </td></tr>\n",
       "\t<tr><td>gamlss.data</td><td>species                </td><td>The Fish Species Data files for GAMLSS                                         </td></tr>\n",
       "\t<tr><td>gamlss.data</td><td>stylo                  </td><td>The Stylometric Data files for GAMLSS                                          </td></tr>\n",
       "\t<tr><td>gamlss.data</td><td>tensile                </td><td>The Tensile Data files for GAMLSS                                              </td></tr>\n",
       "\t<tr><td>gamlss.data</td><td>tidal                  </td><td>The tidal data set                                                             </td></tr>\n",
       "\t<tr><td>gamlss.data</td><td>trd                    </td><td>Tokyo Rainfall Data                                                            </td></tr>\n",
       "\t<tr><td>gamlss.data</td><td>tse                    </td><td>The Turkish stock exchange index                                               </td></tr>\n",
       "\t<tr><td>gamlss.data</td><td>usair                  </td><td>US air pollution data set                                                      </td></tr>\n",
       "\t<tr><td>gamlss.data</td><td>vas5                   </td><td>Visual analog scale (VAS) data                                                 </td></tr>\n",
       "\t<tr><td>ggplot2    </td><td>diamonds               </td><td>Prices of over 50,000 round cut diamonds                                       </td></tr>\n",
       "\t<tr><td>ggplot2    </td><td>economics              </td><td>US economic time series                                                        </td></tr>\n",
       "\t<tr><td>ggplot2    </td><td>economics_long         </td><td>US economic time series                                                        </td></tr>\n",
       "\t<tr><td>ggplot2    </td><td>faithfuld              </td><td>2d density estimate of Old Faithful data                                       </td></tr>\n",
       "\t<tr><td>ggplot2    </td><td>luv_colours            </td><td>'colors()' in Luv space                                                        </td></tr>\n",
       "\t<tr><td>ggplot2    </td><td>midwest                </td><td>Midwest demographics                                                           </td></tr>\n",
       "\t<tr><td>ggplot2    </td><td>mpg                    </td><td>Fuel economy data from 1999 to 2008 for 38 popular models of cars              </td></tr>\n",
       "\t<tr><td>ggplot2    </td><td>msleep                 </td><td>An updated and expanded version of the mammals sleep dataset                   </td></tr>\n",
       "\t<tr><td>ggplot2    </td><td>presidential           </td><td>Terms of 11 presidents from Eisenhower to Obama                                </td></tr>\n",
       "\t<tr><td>ggplot2    </td><td>seals                  </td><td>Vector field of seal movements                                                 </td></tr>\n",
       "\t<tr><td>ggplot2    </td><td>txhousing              </td><td>Housing sales in TX                                                            </td></tr>\n",
       "\t<tr><td>boot       </td><td>acme                   </td><td>Monthly Excess Returns                                                         </td></tr>\n",
       "\t<tr><td>boot       </td><td>aids                   </td><td>Delay in AIDS Reporting in England and Wales                                   </td></tr>\n",
       "\t<tr><td>boot       </td><td>aircondit              </td><td>Failures of Air-conditioning Equipment                                         </td></tr>\n",
       "\t<tr><td>boot       </td><td>aircondit7             </td><td>Failures of Air-conditioning Equipment                                         </td></tr>\n",
       "\t<tr><td>boot       </td><td>amis                   </td><td>Car Speeding and Warning Signs                                                 </td></tr>\n",
       "\t<tr><td>boot       </td><td>aml                    </td><td>Remission Times for Acute Myelogenous Leukaemia                                </td></tr>\n",
       "\t<tr><td>boot       </td><td>beaver                 </td><td>Beaver Body Temperature Data                                                   </td></tr>\n",
       "\t<tr><td>boot       </td><td>bigcity                </td><td>Population of U.S. Cities                                                      </td></tr>\n",
       "\t<tr><td>boot       </td><td>brambles               </td><td>Spatial Location of Bramble Canes                                              </td></tr>\n",
       "\t<tr><td>boot       </td><td>breslow                </td><td>Smoking Deaths Among Doctors                                                   </td></tr>\n",
       "\t<tr><td>boot       </td><td>calcium                </td><td>Calcium Uptake Data                                                            </td></tr>\n",
       "\t<tr><td>boot       </td><td>cane                   </td><td>Sugar-cane Disease Data                                                        </td></tr>\n",
       "\t<tr><td>boot       </td><td>capability             </td><td>Simulated Manufacturing Process Data                                           </td></tr>\n",
       "\t<tr><td>boot       </td><td>catsM                  </td><td>Weight Data for Domestic Cats                                                  </td></tr>\n",
       "\t<tr><td>boot       </td><td>cav                    </td><td>Position of Muscle Caveolae                                                    </td></tr>\n",
       "\t<tr><td>boot       </td><td>cd4                    </td><td>CD4 Counts for HIV-Positive Patients                                           </td></tr>\n",
       "\t<tr><td>boot       </td><td>cd4.nested             </td><td>Nested Bootstrap of cd4 data                                                   </td></tr>\n",
       "\t<tr><td>boot       </td><td>channing               </td><td>Channing House Data                                                            </td></tr>\n",
       "\t<tr><td>boot       </td><td>city                   </td><td>Population of U.S. Cities                                                      </td></tr>\n",
       "\t<tr><td>boot       </td><td>claridge               </td><td>Genetic Links to Left-handedness                                               </td></tr>\n",
       "\t<tr><td>boot       </td><td>cloth                  </td><td>Number of Flaws in Cloth                                                       </td></tr>\n",
       "\t<tr><td>boot       </td><td>co.transfer            </td><td>Carbon Monoxide Transfer                                                       </td></tr>\n",
       "\t<tr><td>boot       </td><td>coal                   </td><td>Dates of Coal Mining Disasters                                                 </td></tr>\n",
       "\t<tr><td>boot       </td><td>darwin                 </td><td>Darwin's Plant Height Differences                                              </td></tr>\n",
       "\t<tr><td>boot       </td><td>dogs                   </td><td>Cardiac Data for Domestic Dogs                                                 </td></tr>\n",
       "\t<tr><td>boot       </td><td>downs.bc               </td><td>Incidence of Down's Syndrome in British Columbia                               </td></tr>\n",
       "\t<tr><td>boot       </td><td>ducks                  </td><td>Behavioral and Plumage Characteristics of Hybrid Ducks                         </td></tr>\n",
       "\t<tr><td>boot       </td><td>fir                    </td><td>Counts of Balsam-fir Seedlings                                                 </td></tr>\n",
       "\t<tr><td>boot       </td><td>frets                  </td><td>Head Dimensions in Brothers                                                    </td></tr>\n",
       "\t<tr><td>boot       </td><td>grav                   </td><td>Acceleration Due to Gravity                                                    </td></tr>\n",
       "\t<tr><td>boot       </td><td>gravity                </td><td>Acceleration Due to Gravity                                                    </td></tr>\n",
       "\t<tr><td>boot       </td><td>hirose                 </td><td>Failure Time of PET Film                                                       </td></tr>\n",
       "\t<tr><td>boot       </td><td>islay                  </td><td>Jura Quartzite Azimuths on Islay                                               </td></tr>\n",
       "\t<tr><td>boot       </td><td>manaus                 </td><td>Average Heights of the Rio Negro river at Manaus                               </td></tr>\n",
       "\t<tr><td>boot       </td><td>melanoma               </td><td>Survival from Malignant Melanoma                                               </td></tr>\n",
       "\t<tr><td>boot       </td><td>motor                  </td><td>Data from a Simulated Motorcycle Accident                                      </td></tr>\n",
       "\t<tr><td>boot       </td><td>neuro                  </td><td>Neurophysiological Point Process Data                                          </td></tr>\n",
       "\t<tr><td>boot       </td><td>nitrofen               </td><td>Toxicity of Nitrofen in Aquatic Systems                                        </td></tr>\n",
       "\t<tr><td>boot       </td><td>nodal                  </td><td>Nodal Involvement in Prostate Cancer                                           </td></tr>\n",
       "\t<tr><td>boot       </td><td>nuclear                </td><td>Nuclear Power Station Construction Data                                        </td></tr>\n",
       "\t<tr><td>boot       </td><td>paulsen                </td><td>Neurotransmission in Guinea Pig Brains                                         </td></tr>\n",
       "\t<tr><td>boot       </td><td>poisons                </td><td>Animal Survival Times                                                          </td></tr>\n",
       "\t<tr><td>boot       </td><td>polar                  </td><td>Pole Positions of New Caledonian Laterites                                     </td></tr>\n",
       "\t<tr><td>boot       </td><td>remission              </td><td>Cancer Remission and Cell Activity                                             </td></tr>\n",
       "\t<tr><td>boot       </td><td>salinity               </td><td>Water Salinity and River Discharge                                             </td></tr>\n",
       "\t<tr><td>boot       </td><td>survival               </td><td>Survival of Rats after Radiation Doses                                         </td></tr>\n",
       "\t<tr><td>boot       </td><td>tau                    </td><td>Tau Particle Decay Modes                                                       </td></tr>\n",
       "\t<tr><td>boot       </td><td>tuna                   </td><td>Tuna Sighting Data                                                             </td></tr>\n",
       "\t<tr><td>boot       </td><td>urine                  </td><td>Urine Analysis Data                                                            </td></tr>\n",
       "\t<tr><td>boot       </td><td>wool                   </td><td>Australian Relative Wool Prices                                                </td></tr>\n",
       "\t<tr><td>cluster    </td><td>agriculture            </td><td>European Union Agricultural Workforces                                         </td></tr>\n",
       "\t<tr><td>cluster    </td><td>animals                </td><td>Attributes of Animals                                                          </td></tr>\n",
       "\t<tr><td>cluster    </td><td>chorSub                </td><td>Subset of C-horizon of Kola Data                                               </td></tr>\n",
       "\t<tr><td>cluster    </td><td>flower                 </td><td>Flower Characteristics                                                         </td></tr>\n",
       "\t<tr><td>cluster    </td><td>plantTraits            </td><td>Plant Species Traits Data                                                      </td></tr>\n",
       "\t<tr><td>cluster    </td><td>pluton                 </td><td>Isotopic Composition Plutonium Batches                                         </td></tr>\n",
       "\t<tr><td>cluster    </td><td>ruspini                </td><td>Ruspini Data                                                                   </td></tr>\n",
       "\t<tr><td>cluster    </td><td>votes.repub            </td><td>Votes for Republican Candidate in Presidential Elections                       </td></tr>\n",
       "\t<tr><td>cluster    </td><td>xclara                 </td><td>Bivariate Data Set with 3 Clusters                                             </td></tr>\n",
       "\t<tr><td>lattice    </td><td>barley                 </td><td>Yield data from a Minnesota barley trial                                       </td></tr>\n",
       "\t<tr><td>lattice    </td><td>environmental          </td><td>Atmospheric environmental conditions in New York City                          </td></tr>\n",
       "\t<tr><td>lattice    </td><td>ethanol                </td><td>Engine exhaust fumes from burning ethanol                                      </td></tr>\n",
       "\t<tr><td>lattice    </td><td>melanoma               </td><td>Melanoma skin cancer incidence                                                 </td></tr>\n",
       "\t<tr><td>lattice    </td><td>singer                 </td><td>Heights of New York Choral Society singers                                     </td></tr>\n",
       "\t<tr><td>lattice    </td><td>USMortality            </td><td>Mortality Rates in US by Cause and Gender                                      </td></tr>\n",
       "\t<tr><td>lattice    </td><td>USRegionalMortality    </td><td>Mortality Rates in US by Cause and Gender                                      </td></tr>\n",
       "\t<tr><td>MASS       </td><td>abbey                  </td><td>Determinations of Nickel Content                                               </td></tr>\n",
       "\t<tr><td>MASS       </td><td>accdeaths              </td><td>Accidental Deaths in the US 1973-1978                                          </td></tr>\n",
       "\t<tr><td>MASS       </td><td>Aids2                  </td><td>Australian AIDS Survival Data                                                  </td></tr>\n",
       "\t<tr><td>MASS       </td><td>Animals                </td><td>Brain and Body Weights for 28 Species                                          </td></tr>\n",
       "\t<tr><td>MASS       </td><td>anorexia               </td><td>Anorexia Data on Weight Change                                                 </td></tr>\n",
       "\t<tr><td>MASS       </td><td>bacteria               </td><td>Presence of Bacteria after Drug Treatments                                     </td></tr>\n",
       "\t<tr><td>MASS       </td><td>beav1                  </td><td>Body Temperature Series of Beaver 1                                            </td></tr>\n",
       "\t<tr><td>MASS       </td><td>beav2                  </td><td>Body Temperature Series of Beaver 2                                            </td></tr>\n",
       "\t<tr><td>MASS       </td><td>biopsy                 </td><td>Biopsy Data on Breast Cancer Patients                                          </td></tr>\n",
       "\t<tr><td>MASS       </td><td>birthwt                </td><td>Risk Factors Associated with Low Infant Birth Weight                           </td></tr>\n",
       "\t<tr><td>MASS       </td><td>Boston                 </td><td>Housing Values in Suburbs of Boston                                            </td></tr>\n",
       "\t<tr><td>MASS       </td><td>cabbages               </td><td>Data from a cabbage field trial                                                </td></tr>\n",
       "\t<tr><td>MASS       </td><td>caith                  </td><td>Colours of Eyes and Hair of People in Caithness                                </td></tr>\n",
       "\t<tr><td>MASS       </td><td>Cars93                 </td><td>Data from 93 Cars on Sale in the USA in 1993                                   </td></tr>\n",
       "\t<tr><td>MASS       </td><td>cats                   </td><td>Anatomical Data from Domestic Cats                                             </td></tr>\n",
       "\t<tr><td>MASS       </td><td>cement                 </td><td>Heat Evolved by Setting Cements                                                </td></tr>\n",
       "\t<tr><td>MASS       </td><td>chem                   </td><td>Copper in Wholemeal Flour                                                      </td></tr>\n",
       "\t<tr><td>MASS       </td><td>coop                   </td><td>Co-operative Trial in Analytical Chemistry                                     </td></tr>\n",
       "\t<tr><td>MASS       </td><td>cpus                   </td><td>Performance of Computer CPUs                                                   </td></tr>\n",
       "\t<tr><td>MASS       </td><td>crabs                  </td><td>Morphological Measurements on Leptograpsus Crabs                               </td></tr>\n",
       "\t<tr><td>MASS       </td><td>Cushings               </td><td>Diagnostic Tests on Patients with Cushing's Syndrome                           </td></tr>\n",
       "\t<tr><td>MASS       </td><td>DDT                    </td><td>DDT in Kale                                                                    </td></tr>\n",
       "\t<tr><td>MASS       </td><td>deaths                 </td><td>Monthly Deaths from Lung Diseases in the UK                                    </td></tr>\n",
       "\t<tr><td>MASS       </td><td>drivers                </td><td>Deaths of Car Drivers in Great Britain 1969-84                                 </td></tr>\n",
       "\t<tr><td>MASS       </td><td>eagles                 </td><td>Foraging Ecology of Bald Eagles                                                </td></tr>\n",
       "\t<tr><td>MASS       </td><td>epil                   </td><td>Seizure Counts for Epileptics                                                  </td></tr>\n",
       "\t<tr><td>MASS       </td><td>farms                  </td><td>Ecological Factors in Farm Management                                          </td></tr>\n",
       "\t<tr><td>MASS       </td><td>fgl                    </td><td>Measurements of Forensic Glass Fragments                                       </td></tr>\n",
       "\t<tr><td>MASS       </td><td>forbes                 </td><td>Forbes' Data on Boiling Points in the Alps                                     </td></tr>\n",
       "\t<tr><td>MASS       </td><td>GAGurine               </td><td>Level of GAG in Urine of Children                                              </td></tr>\n",
       "\t<tr><td>MASS       </td><td>galaxies               </td><td>Velocities for 82 Galaxies                                                     </td></tr>\n",
       "\t<tr><td>MASS       </td><td>gehan                  </td><td>Remission Times of Leukaemia Patients                                          </td></tr>\n",
       "\t<tr><td>MASS       </td><td>genotype               </td><td>Rat Genotype Data                                                              </td></tr>\n",
       "\t<tr><td>MASS       </td><td>geyser                 </td><td>Old Faithful Geyser Data                                                       </td></tr>\n",
       "\t<tr><td>MASS       </td><td>gilgais                </td><td>Line Transect of Soil in Gilgai Territory                                      </td></tr>\n",
       "\t<tr><td>MASS       </td><td>hills                  </td><td>Record Times in Scottish Hill Races                                            </td></tr>\n",
       "\t<tr><td>MASS       </td><td>housing                </td><td>Frequency Table from a Copenhagen Housing Conditions Survey                    </td></tr>\n",
       "\t<tr><td>MASS       </td><td>immer                  </td><td>Yields from a Barley Field Trial                                               </td></tr>\n",
       "\t<tr><td>MASS       </td><td>Insurance              </td><td>Numbers of Car Insurance claims                                                </td></tr>\n",
       "\t<tr><td>MASS       </td><td>leuk                   </td><td>Survival Times and White Blood Counts for Leukaemia Patients                   </td></tr>\n",
       "\t<tr><td>MASS       </td><td>mammals                </td><td>Brain and Body Weights for 62 Species of Land Mammals                          </td></tr>\n",
       "\t<tr><td>MASS       </td><td>mcycle                 </td><td>Data from a Simulated Motorcycle Accident                                      </td></tr>\n",
       "\t<tr><td>MASS       </td><td>Melanoma               </td><td>Survival from Malignant Melanoma                                               </td></tr>\n",
       "\t<tr><td>MASS       </td><td>menarche               </td><td>Age of Menarche in Warsaw                                                      </td></tr>\n",
       "\t<tr><td>MASS       </td><td>michelson              </td><td>Michelson's Speed of Light Data                                                </td></tr>\n",
       "\t<tr><td>MASS       </td><td>minn38                 </td><td>Minnesota High School Graduates of 1938                                        </td></tr>\n",
       "\t<tr><td>MASS       </td><td>motors                 </td><td>Accelerated Life Testing of Motorettes                                         </td></tr>\n",
       "\t<tr><td>MASS       </td><td>muscle                 </td><td>Effect of Calcium Chloride on Muscle Contraction in Rat Hearts                 </td></tr>\n",
       "\t<tr><td>MASS       </td><td>newcomb                </td><td>Newcomb's Measurements of the Passage Time of Light                            </td></tr>\n",
       "\t<tr><td>MASS       </td><td>nlschools              </td><td>Eighth-Grade Pupils in the Netherlands                                         </td></tr>\n",
       "\t<tr><td>MASS       </td><td>npk                    </td><td>Classical N, P, K Factorial Experiment                                         </td></tr>\n",
       "\t<tr><td>MASS       </td><td>npr1                   </td><td>US Naval Petroleum Reserve No. 1 data                                          </td></tr>\n",
       "\t<tr><td>MASS       </td><td>oats                   </td><td>Data from an Oats Field Trial                                                  </td></tr>\n",
       "\t<tr><td>MASS       </td><td>OME                    </td><td>Tests of Auditory Perception in Children with OME                              </td></tr>\n",
       "\t<tr><td>MASS       </td><td>painters               </td><td>The Painter's Data of de Piles                                                 </td></tr>\n",
       "\t<tr><td>MASS       </td><td>petrol                 </td><td>N. L. Prater's Petrol Refinery Data                                            </td></tr>\n",
       "\t<tr><td>MASS       </td><td>phones                 </td><td>Belgium Phone Calls 1950-1973                                                  </td></tr>\n",
       "\t<tr><td>MASS       </td><td>Pima.te                </td><td>Diabetes in Pima Indian Women                                                  </td></tr>\n",
       "\t<tr><td>MASS       </td><td>Pima.tr                </td><td>Diabetes in Pima Indian Women                                                  </td></tr>\n",
       "\t<tr><td>MASS       </td><td>Pima.tr2               </td><td>Diabetes in Pima Indian Women                                                  </td></tr>\n",
       "\t<tr><td>MASS       </td><td>quine                  </td><td>Absenteeism from School in Rural New South Wales                               </td></tr>\n",
       "\t<tr><td>MASS       </td><td>Rabbit                 </td><td>Blood Pressure in Rabbits                                                      </td></tr>\n",
       "\t<tr><td>MASS       </td><td>road                   </td><td>Road Accident Deaths in US States                                              </td></tr>\n",
       "\t<tr><td>MASS       </td><td>rotifer                </td><td>Numbers of Rotifers by Fluid Density                                           </td></tr>\n",
       "\t<tr><td>MASS       </td><td>Rubber                 </td><td>Accelerated Testing of Tyre Rubber                                             </td></tr>\n",
       "\t<tr><td>MASS       </td><td>ships                  </td><td>Ships Damage Data                                                              </td></tr>\n",
       "\t<tr><td>MASS       </td><td>shoes                  </td><td>Shoe wear data of Box, Hunter and Hunter                                       </td></tr>\n",
       "\t<tr><td>MASS       </td><td>shrimp                 </td><td>Percentage of Shrimp in Shrimp Cocktail                                        </td></tr>\n",
       "\t<tr><td>MASS       </td><td>shuttle                </td><td>Space Shuttle Autolander Problem                                               </td></tr>\n",
       "\t<tr><td>MASS       </td><td>Sitka                  </td><td>Growth Curves for Sitka Spruce Trees in 1988                                   </td></tr>\n",
       "\t<tr><td>MASS       </td><td>Sitka89                </td><td>Growth Curves for Sitka Spruce Trees in 1989                                   </td></tr>\n",
       "\t<tr><td>MASS       </td><td>Skye                   </td><td>AFM Compositions of Aphyric Skye Lavas                                         </td></tr>\n",
       "\t<tr><td>MASS       </td><td>snails                 </td><td>Snail Mortality Data                                                           </td></tr>\n",
       "\t<tr><td>MASS       </td><td>SP500                  </td><td>Returns of the Standard and Poors 500                                          </td></tr>\n",
       "\t<tr><td>MASS       </td><td>steam                  </td><td>The Saturated Steam Pressure Data                                              </td></tr>\n",
       "\t<tr><td>MASS       </td><td>stormer                </td><td>The Stormer Viscometer Data                                                    </td></tr>\n",
       "\t<tr><td>MASS       </td><td>survey                 </td><td>Student Survey Data                                                            </td></tr>\n",
       "\t<tr><td>MASS       </td><td>synth.te               </td><td>Synthetic Classification Problem                                               </td></tr>\n",
       "\t<tr><td>MASS       </td><td>synth.tr               </td><td>Synthetic Classification Problem                                               </td></tr>\n",
       "\t<tr><td>MASS       </td><td>topo                   </td><td>Spatial Topographic Data                                                       </td></tr>\n",
       "\t<tr><td>MASS       </td><td>Traffic                </td><td>Effect of Swedish Speed Limits on Accidents                                    </td></tr>\n",
       "\t<tr><td>MASS       </td><td>UScereal               </td><td>Nutritional and Marketing Information on US Cereals                            </td></tr>\n",
       "\t<tr><td>MASS       </td><td>UScrime                </td><td>The Effect of Punishment Regimes on Crime Rates                                </td></tr>\n",
       "\t<tr><td>MASS       </td><td>VA                     </td><td>Veteran's Administration Lung Cancer Trial                                     </td></tr>\n",
       "\t<tr><td>MASS       </td><td>waders                 </td><td>Counts of Waders at 15 Sites in South Africa                                   </td></tr>\n",
       "\t<tr><td>MASS       </td><td>whiteside              </td><td>House Insulation: Whiteside's Data                                             </td></tr>\n",
       "\t<tr><td>MASS       </td><td>wtloss                 </td><td>Weight Loss Data from an Obese Patient                                         </td></tr>\n",
       "\t<tr><td>Matrix     </td><td>CAex                   </td><td>Albers' example Matrix with \"Difficult\" Eigen Factorization                    </td></tr>\n",
       "\t<tr><td>Matrix     </td><td>KNex                   </td><td>Koenker-Ng Example Sparse Model Matrix and Response Vector                     </td></tr>\n",
       "\t<tr><td>Matrix     </td><td>USCounties             </td><td>USCounties Contiguity Matrix                                                   </td></tr>\n",
       "\t<tr><td>Matrix     </td><td>wrld_1deg              </td><td>World 1-degree grid contiguity matrix                                          </td></tr>\n",
       "\t<tr><td>mgcv       </td><td>columb                 </td><td>Reduced version of Columbus OH crime data                                      </td></tr>\n",
       "\t<tr><td>mgcv       </td><td>columb.polys           </td><td>Reduced version of Columbus OH crime data                                      </td></tr>\n",
       "\t<tr><td>nlme       </td><td>Alfalfa                </td><td>Split-Plot Experiment on Varieties of Alfalfa                                  </td></tr>\n",
       "\t<tr><td>nlme       </td><td>Assay                  </td><td>Bioassay on Cell Culture Plate                                                 </td></tr>\n",
       "\t<tr><td>nlme       </td><td>bdf                    </td><td>Language scores                                                                </td></tr>\n",
       "\t<tr><td>nlme       </td><td>BodyWeight             </td><td>Rat weight over time for different diets                                       </td></tr>\n",
       "\t<tr><td>nlme       </td><td>Cefamandole            </td><td>Pharmacokinetics of Cefamandole                                                </td></tr>\n",
       "\t<tr><td>nlme       </td><td>Dialyzer               </td><td>High-Flux Hemodialyzer                                                         </td></tr>\n",
       "\t<tr><td>nlme       </td><td>Earthquake             </td><td>Earthquake Intensity                                                           </td></tr>\n",
       "\t<tr><td>nlme       </td><td>ergoStool              </td><td>Ergometrics experiment with stool types                                        </td></tr>\n",
       "\t<tr><td>nlme       </td><td>Fatigue                </td><td>Cracks caused by metal fatigue                                                 </td></tr>\n",
       "\t<tr><td>nlme       </td><td>Gasoline               </td><td>Refinery yield of gasoline                                                     </td></tr>\n",
       "\t<tr><td>nlme       </td><td>Glucose                </td><td>Glucose levels over time                                                       </td></tr>\n",
       "\t<tr><td>nlme       </td><td>Glucose2               </td><td>Glucose Levels Following Alcohol Ingestion                                     </td></tr>\n",
       "\t<tr><td>nlme       </td><td>Gun                    </td><td>Methods for firing naval guns                                                  </td></tr>\n",
       "\t<tr><td>nlme       </td><td>IGF                    </td><td>Radioimmunoassay of IGF-I Protein                                              </td></tr>\n",
       "\t<tr><td>nlme       </td><td>Machines               </td><td>Productivity Scores for Machines and Workers                                   </td></tr>\n",
       "\t<tr><td>nlme       </td><td>MathAchieve            </td><td>Mathematics achievement scores                                                 </td></tr>\n",
       "\t<tr><td>nlme       </td><td>MathAchSchool          </td><td>School demographic data for MathAchieve                                        </td></tr>\n",
       "\t<tr><td>nlme       </td><td>Meat                   </td><td>Tenderness of meat                                                             </td></tr>\n",
       "\t<tr><td>nlme       </td><td>Milk                   </td><td>Protein content of cows' milk                                                  </td></tr>\n",
       "\t<tr><td>nlme       </td><td>Muscle                 </td><td>Contraction of heart muscle sections                                           </td></tr>\n",
       "\t<tr><td>nlme       </td><td>Nitrendipene           </td><td>Assay of nitrendipene                                                          </td></tr>\n",
       "\t<tr><td>nlme       </td><td>Oats                   </td><td>Split-plot Experiment on Varieties of Oats                                     </td></tr>\n",
       "\t<tr><td>nlme       </td><td>Orthodont              </td><td>Growth curve data on an orthdontic measurement                                 </td></tr>\n",
       "\t<tr><td>nlme       </td><td>Ovary                  </td><td>Counts of Ovarian Follicles                                                    </td></tr>\n",
       "\t<tr><td>nlme       </td><td>Oxboys                 </td><td>Heights of Boys in Oxford                                                      </td></tr>\n",
       "\t<tr><td>nlme       </td><td>Oxide                  </td><td>Variability in Semiconductor Manufacturing                                     </td></tr>\n",
       "\t<tr><td>nlme       </td><td>PBG                    </td><td>Effect of Phenylbiguanide on Blood Pressure                                    </td></tr>\n",
       "\t<tr><td>nlme       </td><td>Phenobarb              </td><td>Phenobarbitol Kinetics                                                         </td></tr>\n",
       "\t<tr><td>nlme       </td><td>Pixel                  </td><td>X-ray pixel intensities over time                                              </td></tr>\n",
       "\t<tr><td>nlme       </td><td>Quinidine              </td><td>Quinidine Kinetics                                                             </td></tr>\n",
       "\t<tr><td>nlme       </td><td>Rail                   </td><td>Evaluation of Stress in Railway Rails                                          </td></tr>\n",
       "\t<tr><td>nlme       </td><td>RatPupWeight           </td><td>The weight of rat pups                                                         </td></tr>\n",
       "\t<tr><td>nlme       </td><td>Relaxin                </td><td>Assay for Relaxin                                                              </td></tr>\n",
       "\t<tr><td>nlme       </td><td>Remifentanil           </td><td>Pharmacokinetics of Remifentanil                                               </td></tr>\n",
       "\t<tr><td>nlme       </td><td>Soybean                </td><td>Growth of soybean plants                                                       </td></tr>\n",
       "\t<tr><td>nlme       </td><td>Spruce                 </td><td>Growth of Spruce Trees                                                         </td></tr>\n",
       "\t<tr><td>nlme       </td><td>Tetracycline1          </td><td>Pharmacokinetics of tetracycline                                               </td></tr>\n",
       "\t<tr><td>nlme       </td><td>Tetracycline2          </td><td>Pharmacokinetics of tetracycline                                               </td></tr>\n",
       "\t<tr><td>nlme       </td><td>Wafer                  </td><td>Modeling of Analog MOS Circuits                                                </td></tr>\n",
       "\t<tr><td>nlme       </td><td>Wheat                  </td><td>Yields by growing conditions                                                   </td></tr>\n",
       "\t<tr><td>nlme       </td><td>Wheat2                 </td><td>Wheat Yield Trials                                                             </td></tr>\n",
       "\t<tr><td>rpart      </td><td>car.test.frame         </td><td>Automobile Data from 'Consumer Reports' 1990                                   </td></tr>\n",
       "\t<tr><td>rpart      </td><td>car90                  </td><td>Automobile Data from 'Consumer Reports' 1990                                   </td></tr>\n",
       "\t<tr><td>rpart      </td><td>cu.summary             </td><td>Automobile Data from 'Consumer Reports' 1990                                   </td></tr>\n",
       "\t<tr><td>rpart      </td><td>kyphosis               </td><td>Data on Children who have had Corrective Spinal Surgery                        </td></tr>\n",
       "\t<tr><td>rpart      </td><td>solder                 </td><td>Soldering of Components on Printed-Circuit Boards                              </td></tr>\n",
       "\t<tr><td>rpart      </td><td>solder.balance (solder)</td><td>Soldering of Components on Printed-Circuit Boards                              </td></tr>\n",
       "\t<tr><td>rpart      </td><td>stagec                 </td><td>Stage C Prostate Cancer                                                        </td></tr>\n",
       "\t<tr><td>survival   </td><td>aml (cancer)           </td><td>Acute Myelogenous Leukemia survival data                                       </td></tr>\n",
       "\t<tr><td>survival   </td><td>bladder (cancer)       </td><td>Bladder Cancer Recurrences                                                     </td></tr>\n",
       "\t<tr><td>survival   </td><td>bladder1 (cancer)      </td><td>Bladder Cancer Recurrences                                                     </td></tr>\n",
       "\t<tr><td>survival   </td><td>bladder2 (cancer)      </td><td>Bladder Cancer Recurrences                                                     </td></tr>\n",
       "\t<tr><td>survival   </td><td>cancer                 </td><td>NCCTG Lung Cancer Data                                                         </td></tr>\n",
       "\t<tr><td>survival   </td><td>capacitor (reliability)</td><td>Reliability data sets                                                          </td></tr>\n",
       "\t<tr><td>survival   </td><td>cgd                    </td><td>Chronic Granulotamous Disease data                                             </td></tr>\n",
       "\t<tr><td>survival   </td><td>cgd0 (cgd)             </td><td>Chronic Granulotomous Disease data                                             </td></tr>\n",
       "\t<tr><td>survival   </td><td>colon (cancer)         </td><td>Chemotherapy for Stage B/C colon cancer                                        </td></tr>\n",
       "\t<tr><td>survival   </td><td>cracks (reliability)   </td><td>Reliability data sets                                                          </td></tr>\n",
       "\t<tr><td>survival   </td><td>diabetic               </td><td>Ddiabetic retinopathy                                                          </td></tr>\n",
       "\t<tr><td>survival   </td><td>flchain                </td><td>Assay of serum free light chain for 7874 subjects.                             </td></tr>\n",
       "\t<tr><td>survival   </td><td>gbsg (cancer)          </td><td>Breast cancer data sets used in Royston and Altman (2013)                      </td></tr>\n",
       "\t<tr><td>survival   </td><td>genfan (reliability)   </td><td>Reliability data sets                                                          </td></tr>\n",
       "\t<tr><td>survival   </td><td>heart                  </td><td>Stanford Heart Transplant data                                                 </td></tr>\n",
       "\t<tr><td>survival   </td><td>ifluid (reliability)   </td><td>Reliability data sets                                                          </td></tr>\n",
       "\t<tr><td>survival   </td><td>imotor (reliability)   </td><td>Reliability data sets                                                          </td></tr>\n",
       "\t<tr><td>survival   </td><td>jasa (heart)           </td><td>Stanford Heart Transplant data                                                 </td></tr>\n",
       "\t<tr><td>survival   </td><td>jasa1 (heart)          </td><td>Stanford Heart Transplant data                                                 </td></tr>\n",
       "\t<tr><td>survival   </td><td>kidney (cancer)        </td><td>Kidney catheter data                                                           </td></tr>\n",
       "\t<tr><td>survival   </td><td>leukemia (cancer)      </td><td>Acute Myelogenous Leukemia survival data                                       </td></tr>\n",
       "\t<tr><td>survival   </td><td>logan                  </td><td>Data from the 1972-78 GSS data used by Logan                                   </td></tr>\n",
       "\t<tr><td>survival   </td><td>lung (cancer)          </td><td>NCCTG Lung Cancer Data                                                         </td></tr>\n",
       "\t<tr><td>survival   </td><td>mgus (cancer)          </td><td>Monoclonal gammopathy data                                                     </td></tr>\n",
       "\t<tr><td>survival   </td><td>mgus1 (cancer)         </td><td>Monoclonal gammopathy data                                                     </td></tr>\n",
       "\t<tr><td>survival   </td><td>mgus2 (cancer)         </td><td>Monoclonal gammopathy data                                                     </td></tr>\n",
       "\t<tr><td>survival   </td><td>myeloid (cancer)       </td><td>Acute myeloid leukemia                                                         </td></tr>\n",
       "\t<tr><td>survival   </td><td>myeloma (cancer)       </td><td>Survival times of patients with multiple myeloma                               </td></tr>\n",
       "\t<tr><td>survival   </td><td>nafld1 (nafld)         </td><td>Non-alcohol fatty liver disease                                                </td></tr>\n",
       "\t<tr><td>survival   </td><td>nafld2 (nafld)         </td><td>Non-alcohol fatty liver disease                                                </td></tr>\n",
       "\t<tr><td>survival   </td><td>nafld3 (nafld)         </td><td>Non-alcohol fatty liver disease                                                </td></tr>\n",
       "\t<tr><td>survival   </td><td>nwtco                  </td><td>Data from the National Wilm's Tumor Study                                      </td></tr>\n",
       "\t<tr><td>survival   </td><td>ovarian (cancer)       </td><td>Ovarian Cancer Survival Data                                                   </td></tr>\n",
       "\t<tr><td>survival   </td><td>pbc                    </td><td>Mayo Clinic Primary Biliary Cholangitis Data                                   </td></tr>\n",
       "\t<tr><td>survival   </td><td>pbcseq (pbc)           </td><td>Mayo Clinic Primary Biliary Cirrhosis, sequential data                         </td></tr>\n",
       "\t<tr><td>survival   </td><td>rats (cancer)          </td><td>Rat treatment data from Mantel et al                                           </td></tr>\n",
       "\t<tr><td>survival   </td><td>rats2 (cancer)         </td><td>Rat data from Gail et al.                                                      </td></tr>\n",
       "\t<tr><td>survival   </td><td>retinopathy            </td><td>Diabetic Retinopathy                                                           </td></tr>\n",
       "\t<tr><td>survival   </td><td>rhDNase                </td><td>rhDNASE data set                                                               </td></tr>\n",
       "\t<tr><td>survival   </td><td>rotterdam (cancer)     </td><td>Breast cancer data set used in Royston and Altman (2013)                       </td></tr>\n",
       "\t<tr><td>survival   </td><td>solder                 </td><td>Data from a soldering experiment                                               </td></tr>\n",
       "\t<tr><td>survival   </td><td>stanford2 (heart)      </td><td>More Stanford Heart Transplant data                                            </td></tr>\n",
       "\t<tr><td>survival   </td><td>survexp.mn (survexp)   </td><td>Census Data Sets for the Expected Survival and Person Years Functions          </td></tr>\n",
       "\t<tr><td>survival   </td><td>survexp.us (survexp)   </td><td>Census Data Sets for the Expected Survival and Person Years Functions          </td></tr>\n",
       "\t<tr><td>survival   </td><td>survexp.usr (survexp)  </td><td>Census Data Sets for the Expected Survival and Person Years Functions          </td></tr>\n",
       "\t<tr><td>survival   </td><td>tobin                  </td><td>Tobin's Tobit data                                                             </td></tr>\n",
       "\t<tr><td>survival   </td><td>transplant             </td><td>Liver transplant waiting list                                                  </td></tr>\n",
       "\t<tr><td>survival   </td><td>turbine (reliability)  </td><td>Reliability data sets                                                          </td></tr>\n",
       "\t<tr><td>survival   </td><td>udca                   </td><td>Data from a trial of usrodeoxycholic acid                                      </td></tr>\n",
       "\t<tr><td>survival   </td><td>udca1 (udca)           </td><td>Data from a trial of usrodeoxycholic acid                                      </td></tr>\n",
       "\t<tr><td>survival   </td><td>udca2 (udca)           </td><td>Data from a trial of usrodeoxycholic acid                                      </td></tr>\n",
       "\t<tr><td>survival   </td><td>uspop2 (survexp)       </td><td>Projected US Population                                                        </td></tr>\n",
       "\t<tr><td>survival   </td><td>valveSeat (reliability)</td><td>Reliability data sets                                                          </td></tr>\n",
       "\t<tr><td>survival   </td><td>veteran (cancer)       </td><td>Veterans' Administration Lung Cancer study                                     </td></tr>\n",
       "</tbody>\n",
       "</table>\n",
       "\n"
      ],
      "text/plain": [
       "Data sets in package ‘AGD’:\n",
       "\n",
       "boys7482                Growth of Dutch boys\n",
       "cdc.bmi                 Reference tables from CDC 2000\n",
       "cdc.hgt                 Reference tables from CDC 2000\n",
       "cdc.wgt                 Reference tables from CDC 2000\n",
       "nl3.bmi                 Reference tables from Third Dutch Growth Study\n",
       "                        1980\n",
       "nl4.bmi                 Reference tables from Fourth Dutch Growth Study\n",
       "                        1997\n",
       "nl4.hdc                 Reference tables from Fourth Dutch Growth Study\n",
       "                        1997\n",
       "nl4.hgt                 Reference tables from Fourth Dutch Growth Study\n",
       "                        1997\n",
       "nl4.hip                 Reference tables from Fourth Dutch Growth Study\n",
       "                        1997\n",
       "nl4.lgl                 Reference tables from Fourth Dutch Growth Study\n",
       "                        1997\n",
       "nl4.shh                 Reference tables from Fourth Dutch Growth Study\n",
       "                        1997\n",
       "nl4.sit                 Reference tables from Fourth Dutch Growth Study\n",
       "                        1997\n",
       "nl4.wfh                 Reference tables from Fourth Dutch Growth Study\n",
       "                        1997\n",
       "nl4.wgt                 Reference tables from Fourth Dutch Growth Study\n",
       "                        1997\n",
       "nl4.whr                 Reference tables from Fourth Dutch Growth Study\n",
       "                        1997\n",
       "nl4.wst                 Reference tables from Fourth Dutch Growth Study\n",
       "                        1997\n",
       "who.bmi                 References WHO\n",
       "who.hdc                 References WHO\n",
       "who.hgt                 References WHO\n",
       "who.wfh                 References WHO\n",
       "who.wfl                 References WHO\n",
       "who.wgt                 References WHO\n",
       "Data sets in package ‘boot’:\n",
       "\n",
       "acme                    Monthly Excess Returns\n",
       "aids                    Delay in AIDS Reporting in England and Wales\n",
       "aircondit               Failures of Air-conditioning Equipment\n",
       "aircondit7              Failures of Air-conditioning Equipment\n",
       "amis                    Car Speeding and Warning Signs\n",
       "aml                     Remission Times for Acute Myelogenous Leukaemia\n",
       "beaver                  Beaver Body Temperature Data\n",
       "bigcity                 Population of U.S. Cities\n",
       "brambles                Spatial Location of Bramble Canes\n",
       "breslow                 Smoking Deaths Among Doctors\n",
       "calcium                 Calcium Uptake Data\n",
       "cane                    Sugar-cane Disease Data\n",
       "capability              Simulated Manufacturing Process Data\n",
       "catsM                   Weight Data for Domestic Cats\n",
       "cav                     Position of Muscle Caveolae\n",
       "cd4                     CD4 Counts for HIV-Positive Patients\n",
       "cd4.nested              Nested Bootstrap of cd4 data\n",
       "channing                Channing House Data\n",
       "city                    Population of U.S. Cities\n",
       "claridge                Genetic Links to Left-handedness\n",
       "cloth                   Number of Flaws in Cloth\n",
       "co.transfer             Carbon Monoxide Transfer\n",
       "coal                    Dates of Coal Mining Disasters\n",
       "darwin                  Darwin's Plant Height Differences\n",
       "dogs                    Cardiac Data for Domestic Dogs\n",
       "downs.bc                Incidence of Down's Syndrome in British\n",
       "                        Columbia\n",
       "ducks                   Behavioral and Plumage Characteristics of\n",
       "                        Hybrid Ducks\n",
       "fir                     Counts of Balsam-fir Seedlings\n",
       "frets                   Head Dimensions in Brothers\n",
       "grav                    Acceleration Due to Gravity\n",
       "gravity                 Acceleration Due to Gravity\n",
       "hirose                  Failure Time of PET Film\n",
       "islay                   Jura Quartzite Azimuths on Islay\n",
       "manaus                  Average Heights of the Rio Negro river at\n",
       "                        Manaus\n",
       "melanoma                Survival from Malignant Melanoma\n",
       "motor                   Data from a Simulated Motorcycle Accident\n",
       "neuro                   Neurophysiological Point Process Data\n",
       "nitrofen                Toxicity of Nitrofen in Aquatic Systems\n",
       "nodal                   Nodal Involvement in Prostate Cancer\n",
       "nuclear                 Nuclear Power Station Construction Data\n",
       "paulsen                 Neurotransmission in Guinea Pig Brains\n",
       "poisons                 Animal Survival Times\n",
       "polar                   Pole Positions of New Caledonian Laterites\n",
       "remission               Cancer Remission and Cell Activity\n",
       "salinity                Water Salinity and River Discharge\n",
       "survival                Survival of Rats after Radiation Doses\n",
       "tau                     Tau Particle Decay Modes\n",
       "tuna                    Tuna Sighting Data\n",
       "urine                   Urine Analysis Data\n",
       "wool                    Australian Relative Wool Prices\n",
       "Data sets in package ‘cluster’:\n",
       "\n",
       "agriculture             European Union Agricultural Workforces\n",
       "animals                 Attributes of Animals\n",
       "chorSub                 Subset of C-horizon of Kola Data\n",
       "flower                  Flower Characteristics\n",
       "plantTraits             Plant Species Traits Data\n",
       "pluton                  Isotopic Composition Plutonium Batches\n",
       "ruspini                 Ruspini Data\n",
       "votes.repub             Votes for Republican Candidate in Presidential\n",
       "                        Elections\n",
       "xclara                  Bivariate Data Set with 3 Clusters\n",
       "Data sets in package ‘colorspace’:\n",
       "\n",
       "USSouthPolygon          Polygon for County Map of US South States:\n",
       "                        Alabama, Georgia, and South Carolina\n",
       "max_chroma_table        Compute Maximum Chroma for Given Hue and\n",
       "                        Luminance in HCL\n",
       "Data sets in package ‘datasets’:\n",
       "\n",
       "AirPassengers           Monthly Airline Passenger Numbers 1949-1960\n",
       "BJsales                 Sales Data with Leading Indicator\n",
       "BJsales.lead (BJsales)\n",
       "                        Sales Data with Leading Indicator\n",
       "BOD                     Biochemical Oxygen Demand\n",
       "CO2                     Carbon Dioxide Uptake in Grass Plants\n",
       "ChickWeight             Weight versus age of chicks on different diets\n",
       "DNase                   Elisa assay of DNase\n",
       "EuStockMarkets          Daily Closing Prices of Major European Stock\n",
       "                        Indices, 1991-1998\n",
       "Formaldehyde            Determination of Formaldehyde\n",
       "HairEyeColor            Hair and Eye Color of Statistics Students\n",
       "Harman23.cor            Harman Example 2.3\n",
       "Harman74.cor            Harman Example 7.4\n",
       "Indometh                Pharmacokinetics of Indomethacin\n",
       "InsectSprays            Effectiveness of Insect Sprays\n",
       "JohnsonJohnson          Quarterly Earnings per Johnson & Johnson Share\n",
       "LakeHuron               Level of Lake Huron 1875-1972\n",
       "LifeCycleSavings        Intercountry Life-Cycle Savings Data\n",
       "Loblolly                Growth of Loblolly pine trees\n",
       "Nile                    Flow of the River Nile\n",
       "Orange                  Growth of Orange Trees\n",
       "OrchardSprays           Potency of Orchard Sprays\n",
       "PlantGrowth             Results from an Experiment on Plant Growth\n",
       "Puromycin               Reaction Velocity of an Enzymatic Reaction\n",
       "Seatbelts               Road Casualties in Great Britain 1969-84\n",
       "Theoph                  Pharmacokinetics of Theophylline\n",
       "Titanic                 Survival of passengers on the Titanic\n",
       "ToothGrowth             The Effect of Vitamin C on Tooth Growth in\n",
       "                        Guinea Pigs\n",
       "UCBAdmissions           Student Admissions at UC Berkeley\n",
       "UKDriverDeaths          Road Casualties in Great Britain 1969-84\n",
       "UKgas                   UK Quarterly Gas Consumption\n",
       "USAccDeaths             Accidental Deaths in the US 1973-1978\n",
       "USArrests               Violent Crime Rates by US State\n",
       "USJudgeRatings          Lawyers' Ratings of State Judges in the US\n",
       "                        Superior Court\n",
       "USPersonalExpenditure   Personal Expenditure Data\n",
       "UScitiesD               Distances Between European Cities and Between\n",
       "                        US Cities\n",
       "VADeaths                Death Rates in Virginia (1940)\n",
       "WWWusage                Internet Usage per Minute\n",
       "WorldPhones             The World's Telephones\n",
       "ability.cov             Ability and Intelligence Tests\n",
       "airmiles                Passenger Miles on Commercial US Airlines,\n",
       "                        1937-1960\n",
       "airquality              New York Air Quality Measurements\n",
       "anscombe                Anscombe's Quartet of 'Identical' Simple Linear\n",
       "                        Regressions\n",
       "attenu                  The Joyner-Boore Attenuation Data\n",
       "attitude                The Chatterjee-Price Attitude Data\n",
       "austres                 Quarterly Time Series of the Number of\n",
       "                        Australian Residents\n",
       "beaver1 (beavers)       Body Temperature Series of Two Beavers\n",
       "beaver2 (beavers)       Body Temperature Series of Two Beavers\n",
       "cars                    Speed and Stopping Distances of Cars\n",
       "chickwts                Chicken Weights by Feed Type\n",
       "co2                     Mauna Loa Atmospheric CO2 Concentration\n",
       "crimtab                 Student's 3000 Criminals Data\n",
       "discoveries             Yearly Numbers of Important Discoveries\n",
       "esoph                   Smoking, Alcohol and (O)esophageal Cancer\n",
       "euro                    Conversion Rates of Euro Currencies\n",
       "euro.cross (euro)       Conversion Rates of Euro Currencies\n",
       "eurodist                Distances Between European Cities and Between\n",
       "                        US Cities\n",
       "faithful                Old Faithful Geyser Data\n",
       "fdeaths (UKLungDeaths)\n",
       "                        Monthly Deaths from Lung Diseases in the UK\n",
       "freeny                  Freeny's Revenue Data\n",
       "freeny.x (freeny)       Freeny's Revenue Data\n",
       "freeny.y (freeny)       Freeny's Revenue Data\n",
       "infert                  Infertility after Spontaneous and Induced\n",
       "                        Abortion\n",
       "iris                    Edgar Anderson's Iris Data\n",
       "iris3                   Edgar Anderson's Iris Data\n",
       "islands                 Areas of the World's Major Landmasses\n",
       "ldeaths (UKLungDeaths)\n",
       "                        Monthly Deaths from Lung Diseases in the UK\n",
       "lh                      Luteinizing Hormone in Blood Samples\n",
       "longley                 Longley's Economic Regression Data\n",
       "lynx                    Annual Canadian Lynx trappings 1821-1934\n",
       "mdeaths (UKLungDeaths)\n",
       "                        Monthly Deaths from Lung Diseases in the UK\n",
       "morley                  Michelson Speed of Light Data\n",
       "mtcars                  Motor Trend Car Road Tests\n",
       "nhtemp                  Average Yearly Temperatures in New Haven\n",
       "nottem                  Average Monthly Temperatures at Nottingham,\n",
       "                        1920-1939\n",
       "npk                     Classical N, P, K Factorial Experiment\n",
       "occupationalStatus      Occupational Status of Fathers and their Sons\n",
       "precip                  Annual Precipitation in US Cities\n",
       "presidents              Quarterly Approval Ratings of US Presidents\n",
       "pressure                Vapor Pressure of Mercury as a Function of\n",
       "                        Temperature\n",
       "quakes                  Locations of Earthquakes off Fiji\n",
       "randu                   Random Numbers from Congruential Generator\n",
       "                        RANDU\n",
       "rivers                  Lengths of Major North American Rivers\n",
       "rock                    Measurements on Petroleum Rock Samples\n",
       "sleep                   Student's Sleep Data\n",
       "stack.loss (stackloss)\n",
       "                        Brownlee's Stack Loss Plant Data\n",
       "stack.x (stackloss)     Brownlee's Stack Loss Plant Data\n",
       "stackloss               Brownlee's Stack Loss Plant Data\n",
       "state.abb (state)       US State Facts and Figures\n",
       "state.area (state)      US State Facts and Figures\n",
       "state.center (state)    US State Facts and Figures\n",
       "state.division (state)\n",
       "                        US State Facts and Figures\n",
       "state.name (state)      US State Facts and Figures\n",
       "state.region (state)    US State Facts and Figures\n",
       "state.x77 (state)       US State Facts and Figures\n",
       "sunspot.month           Monthly Sunspot Data, from 1749 to \"Present\"\n",
       "sunspot.year            Yearly Sunspot Data, 1700-1988\n",
       "sunspots                Monthly Sunspot Numbers, 1749-1983\n",
       "swiss                   Swiss Fertility and Socioeconomic Indicators\n",
       "                        (1888) Data\n",
       "treering                Yearly Treering Data, -6000-1979\n",
       "trees                   Diameter, Height and Volume for Black Cherry\n",
       "                        Trees\n",
       "uspop                   Populations Recorded by the US Census\n",
       "volcano                 Topographic Information on Auckland's Maunga\n",
       "                        Whau Volcano\n",
       "warpbreaks              The Number of Breaks in Yarn during Weaving\n",
       "women                   Average Heights and Weights for American Women\n",
       "Data sets in package ‘gamlss.data’:\n",
       "\n",
       "CD4                     The CD4 Count Data files for GAMLSS\n",
       "InfMort                 Infant Mortality Data\n",
       "LGAclaims               The LGA Claims Data files for GAMLSS\n",
       "Leukemia                The Leukemia data\n",
       "Mums                    Mothers encouragement data\n",
       "VictimsOfCrime          Reported victims of crime data\n",
       "abdom                   Abdominal Circumference Data\n",
       "acidity                 The Acidity Data files for GAMLSS\n",
       "aep                     The Hospital Stay Data\n",
       "aids                    Aids Cases in England and Wales\n",
       "aircond                 Air-conditioning data\n",
       "alveolar                The Alveolar Data files for GAMLSS\n",
       "brownfat                The brown fat data set\n",
       "bush2000                The Bush 2000 election data\n",
       "cable                   The cable data set\n",
       "computer                The Computer Failure Data files for GAMLSS\n",
       "cysts                   Data for count data\n",
       "db                      Head Circumference of Dutch Boys\n",
       "dbbmi                   BMI of Dutch Boys\n",
       "dbhh                    Head circumference and height of Dutch Boys\n",
       "eu15                    GDP of 15 EU counties from 1960 to 2009\n",
       "fabric                  The Fabric Data\n",
       "film30                  Film revenue data for the 1930's\n",
       "film90                  Film revenue data for the 1990's\n",
       "glass                   The Glass Data files for GAMLSS\n",
       "glasses                 Reading Glasses Data\n",
       "grip                    The hand grip strength data\n",
       "hodges                  Hodges data\n",
       "hodges1                 Hodges data\n",
       "lice                    Data files for GAMLSS\n",
       "lungFunction            The lung function data\n",
       "margolin                The Margolin Data files for GAMLSS\n",
       "meta                    A Meta Analysis on Smoking Cessation\n",
       "mvi                     The motor vehicle insurance data\n",
       "mviBig                  The motor vehicle insurance data\n",
       "oil                     The oil price data\n",
       "parzen                  The Parzen Data File for GAMLSS\n",
       "plasma                  The plasma data set\n",
       "polio                   Poliomyelitis cases in US\n",
       "rent                    Rent data\n",
       "rent99                  Munich rent data of 1999\n",
       "rent99.polys            The boundaries file for Munich rent data from\n",
       "                        the 1999 survey.\n",
       "respInf                 Respiratory Infection in Indonesian Children.\n",
       "sleep                   Data on sleep\n",
       "species                 The Fish Species Data files for GAMLSS\n",
       "stylo                   The Stylometric Data files for GAMLSS\n",
       "tensile                 The Tensile Data files for GAMLSS\n",
       "tidal                   The tidal data set\n",
       "trd                     Tokyo Rainfall Data\n",
       "tse                     The Turkish stock exchange index\n",
       "usair                   US air pollution data set\n",
       "vas5                    Visual analog scale (VAS) data\n",
       "Data sets in package ‘ggplot2’:\n",
       "\n",
       "diamonds                Prices of over 50,000 round cut diamonds\n",
       "economics               US economic time series\n",
       "economics_long          US economic time series\n",
       "faithfuld               2d density estimate of Old Faithful data\n",
       "luv_colours             'colors()' in Luv space\n",
       "midwest                 Midwest demographics\n",
       "mpg                     Fuel economy data from 1999 to 2008 for 38\n",
       "                        popular models of cars\n",
       "msleep                  An updated and expanded version of the mammals\n",
       "                        sleep dataset\n",
       "presidential            Terms of 11 presidents from Eisenhower to Obama\n",
       "seals                   Vector field of seal movements\n",
       "txhousing               Housing sales in TX\n",
       "Data sets in package ‘lattice’:\n",
       "\n",
       "barley                  Yield data from a Minnesota barley trial\n",
       "environmental           Atmospheric environmental conditions in New\n",
       "                        York City\n",
       "ethanol                 Engine exhaust fumes from burning ethanol\n",
       "melanoma                Melanoma skin cancer incidence\n",
       "singer                  Heights of New York Choral Society singers\n",
       "USMortality             Mortality Rates in US by Cause and Gender\n",
       "USRegionalMortality     Mortality Rates in US by Cause and Gender\n",
       "Data sets in package ‘MASS’:\n",
       "\n",
       "abbey                   Determinations of Nickel Content\n",
       "accdeaths               Accidental Deaths in the US 1973-1978\n",
       "Aids2                   Australian AIDS Survival Data\n",
       "Animals                 Brain and Body Weights for 28 Species\n",
       "anorexia                Anorexia Data on Weight Change\n",
       "bacteria                Presence of Bacteria after Drug Treatments\n",
       "beav1                   Body Temperature Series of Beaver 1\n",
       "beav2                   Body Temperature Series of Beaver 2\n",
       "biopsy                  Biopsy Data on Breast Cancer Patients\n",
       "birthwt                 Risk Factors Associated with Low Infant Birth\n",
       "                        Weight\n",
       "Boston                  Housing Values in Suburbs of Boston\n",
       "cabbages                Data from a cabbage field trial\n",
       "caith                   Colours of Eyes and Hair of People in Caithness\n",
       "Cars93                  Data from 93 Cars on Sale in the USA in 1993\n",
       "cats                    Anatomical Data from Domestic Cats\n",
       "cement                  Heat Evolved by Setting Cements\n",
       "chem                    Copper in Wholemeal Flour\n",
       "coop                    Co-operative Trial in Analytical Chemistry\n",
       "cpus                    Performance of Computer CPUs\n",
       "crabs                   Morphological Measurements on Leptograpsus\n",
       "                        Crabs\n",
       "Cushings                Diagnostic Tests on Patients with Cushing's\n",
       "                        Syndrome\n",
       "DDT                     DDT in Kale\n",
       "deaths                  Monthly Deaths from Lung Diseases in the UK\n",
       "drivers                 Deaths of Car Drivers in Great Britain 1969-84\n",
       "eagles                  Foraging Ecology of Bald Eagles\n",
       "epil                    Seizure Counts for Epileptics\n",
       "farms                   Ecological Factors in Farm Management\n",
       "fgl                     Measurements of Forensic Glass Fragments\n",
       "forbes                  Forbes' Data on Boiling Points in the Alps\n",
       "GAGurine                Level of GAG in Urine of Children\n",
       "galaxies                Velocities for 82 Galaxies\n",
       "gehan                   Remission Times of Leukaemia Patients\n",
       "genotype                Rat Genotype Data\n",
       "geyser                  Old Faithful Geyser Data\n",
       "gilgais                 Line Transect of Soil in Gilgai Territory\n",
       "hills                   Record Times in Scottish Hill Races\n",
       "housing                 Frequency Table from a Copenhagen Housing\n",
       "                        Conditions Survey\n",
       "immer                   Yields from a Barley Field Trial\n",
       "Insurance               Numbers of Car Insurance claims\n",
       "leuk                    Survival Times and White Blood Counts for\n",
       "                        Leukaemia Patients\n",
       "mammals                 Brain and Body Weights for 62 Species of Land\n",
       "                        Mammals\n",
       "mcycle                  Data from a Simulated Motorcycle Accident\n",
       "Melanoma                Survival from Malignant Melanoma\n",
       "menarche                Age of Menarche in Warsaw\n",
       "michelson               Michelson's Speed of Light Data\n",
       "minn38                  Minnesota High School Graduates of 1938\n",
       "motors                  Accelerated Life Testing of Motorettes\n",
       "muscle                  Effect of Calcium Chloride on Muscle\n",
       "                        Contraction in Rat Hearts\n",
       "newcomb                 Newcomb's Measurements of the Passage Time of\n",
       "                        Light\n",
       "nlschools               Eighth-Grade Pupils in the Netherlands\n",
       "npk                     Classical N, P, K Factorial Experiment\n",
       "npr1                    US Naval Petroleum Reserve No. 1 data\n",
       "oats                    Data from an Oats Field Trial\n",
       "OME                     Tests of Auditory Perception in Children with\n",
       "                        OME\n",
       "painters                The Painter's Data of de Piles\n",
       "petrol                  N. L. Prater's Petrol Refinery Data\n",
       "phones                  Belgium Phone Calls 1950-1973\n",
       "Pima.te                 Diabetes in Pima Indian Women\n",
       "Pima.tr                 Diabetes in Pima Indian Women\n",
       "Pima.tr2                Diabetes in Pima Indian Women\n",
       "quine                   Absenteeism from School in Rural New South\n",
       "                        Wales\n",
       "Rabbit                  Blood Pressure in Rabbits\n",
       "road                    Road Accident Deaths in US States\n",
       "rotifer                 Numbers of Rotifers by Fluid Density\n",
       "Rubber                  Accelerated Testing of Tyre Rubber\n",
       "ships                   Ships Damage Data\n",
       "shoes                   Shoe wear data of Box, Hunter and Hunter\n",
       "shrimp                  Percentage of Shrimp in Shrimp Cocktail\n",
       "shuttle                 Space Shuttle Autolander Problem\n",
       "Sitka                   Growth Curves for Sitka Spruce Trees in 1988\n",
       "Sitka89                 Growth Curves for Sitka Spruce Trees in 1989\n",
       "Skye                    AFM Compositions of Aphyric Skye Lavas\n",
       "snails                  Snail Mortality Data\n",
       "SP500                   Returns of the Standard and Poors 500\n",
       "steam                   The Saturated Steam Pressure Data\n",
       "stormer                 The Stormer Viscometer Data\n",
       "survey                  Student Survey Data\n",
       "synth.te                Synthetic Classification Problem\n",
       "synth.tr                Synthetic Classification Problem\n",
       "topo                    Spatial Topographic Data\n",
       "Traffic                 Effect of Swedish Speed Limits on Accidents\n",
       "UScereal                Nutritional and Marketing Information on US\n",
       "                        Cereals\n",
       "UScrime                 The Effect of Punishment Regimes on Crime Rates\n",
       "VA                      Veteran's Administration Lung Cancer Trial\n",
       "waders                  Counts of Waders at 15 Sites in South Africa\n",
       "whiteside               House Insulation: Whiteside's Data\n",
       "wtloss                  Weight Loss Data from an Obese Patient\n",
       "Data sets in package ‘Matrix’:\n",
       "\n",
       "CAex                    Albers' example Matrix with \"Difficult\" Eigen\n",
       "                        Factorization\n",
       "KNex                    Koenker-Ng Example Sparse Model Matrix and\n",
       "                        Response Vector\n",
       "USCounties              USCounties Contiguity Matrix\n",
       "wrld_1deg               World 1-degree grid contiguity matrix\n",
       "Data sets in package ‘mgcv’:\n",
       "\n",
       "columb                  Reduced version of Columbus OH crime data\n",
       "columb.polys            Reduced version of Columbus OH crime data\n",
       "Data sets in package ‘nlme’:\n",
       "\n",
       "Alfalfa                 Split-Plot Experiment on Varieties of Alfalfa\n",
       "Assay                   Bioassay on Cell Culture Plate\n",
       "bdf                     Language scores\n",
       "BodyWeight              Rat weight over time for different diets\n",
       "Cefamandole             Pharmacokinetics of Cefamandole\n",
       "Dialyzer                High-Flux Hemodialyzer\n",
       "Earthquake              Earthquake Intensity\n",
       "ergoStool               Ergometrics experiment with stool types\n",
       "Fatigue                 Cracks caused by metal fatigue\n",
       "Gasoline                Refinery yield of gasoline\n",
       "Glucose                 Glucose levels over time\n",
       "Glucose2                Glucose Levels Following Alcohol Ingestion\n",
       "Gun                     Methods for firing naval guns\n",
       "IGF                     Radioimmunoassay of IGF-I Protein\n",
       "Machines                Productivity Scores for Machines and Workers\n",
       "MathAchieve             Mathematics achievement scores\n",
       "MathAchSchool           School demographic data for MathAchieve\n",
       "Meat                    Tenderness of meat\n",
       "Milk                    Protein content of cows' milk\n",
       "Muscle                  Contraction of heart muscle sections\n",
       "Nitrendipene            Assay of nitrendipene\n",
       "Oats                    Split-plot Experiment on Varieties of Oats\n",
       "Orthodont               Growth curve data on an orthdontic measurement\n",
       "Ovary                   Counts of Ovarian Follicles\n",
       "Oxboys                  Heights of Boys in Oxford\n",
       "Oxide                   Variability in Semiconductor Manufacturing\n",
       "PBG                     Effect of Phenylbiguanide on Blood Pressure\n",
       "Phenobarb               Phenobarbitol Kinetics\n",
       "Pixel                   X-ray pixel intensities over time\n",
       "Quinidine               Quinidine Kinetics\n",
       "Rail                    Evaluation of Stress in Railway Rails\n",
       "RatPupWeight            The weight of rat pups\n",
       "Relaxin                 Assay for Relaxin\n",
       "Remifentanil            Pharmacokinetics of Remifentanil\n",
       "Soybean                 Growth of soybean plants\n",
       "Spruce                  Growth of Spruce Trees\n",
       "Tetracycline1           Pharmacokinetics of tetracycline\n",
       "Tetracycline2           Pharmacokinetics of tetracycline\n",
       "Wafer                   Modeling of Analog MOS Circuits\n",
       "Wheat                   Yields by growing conditions\n",
       "Wheat2                  Wheat Yield Trials\n",
       "Data sets in package ‘rpart’:\n",
       "\n",
       "car.test.frame          Automobile Data from 'Consumer Reports' 1990\n",
       "car90                   Automobile Data from 'Consumer Reports' 1990\n",
       "cu.summary              Automobile Data from 'Consumer Reports' 1990\n",
       "kyphosis                Data on Children who have had Corrective Spinal\n",
       "                        Surgery\n",
       "solder                  Soldering of Components on Printed-Circuit\n",
       "                        Boards\n",
       "solder.balance (solder)\n",
       "                        Soldering of Components on Printed-Circuit\n",
       "                        Boards\n",
       "stagec                  Stage C Prostate Cancer\n",
       "Data sets in package ‘survival’:\n",
       "\n",
       "aml (cancer)            Acute Myelogenous Leukemia survival data\n",
       "bladder (cancer)        Bladder Cancer Recurrences\n",
       "bladder1 (cancer)       Bladder Cancer Recurrences\n",
       "bladder2 (cancer)       Bladder Cancer Recurrences\n",
       "cancer                  NCCTG Lung Cancer Data\n",
       "capacitor (reliability)\n",
       "                        Reliability data sets\n",
       "cgd                     Chronic Granulotamous Disease data\n",
       "cgd0 (cgd)              Chronic Granulotomous Disease data\n",
       "colon (cancer)          Chemotherapy for Stage B/C colon cancer\n",
       "cracks (reliability)    Reliability data sets\n",
       "diabetic                Ddiabetic retinopathy\n",
       "flchain                 Assay of serum free light chain for 7874\n",
       "                        subjects.\n",
       "gbsg (cancer)           Breast cancer data sets used in Royston and\n",
       "                        Altman (2013)\n",
       "genfan (reliability)    Reliability data sets\n",
       "heart                   Stanford Heart Transplant data\n",
       "ifluid (reliability)    Reliability data sets\n",
       "imotor (reliability)    Reliability data sets\n",
       "jasa (heart)            Stanford Heart Transplant data\n",
       "jasa1 (heart)           Stanford Heart Transplant data\n",
       "kidney (cancer)         Kidney catheter data\n",
       "leukemia (cancer)       Acute Myelogenous Leukemia survival data\n",
       "logan                   Data from the 1972-78 GSS data used by Logan\n",
       "lung (cancer)           NCCTG Lung Cancer Data\n",
       "mgus (cancer)           Monoclonal gammopathy data\n",
       "mgus1 (cancer)          Monoclonal gammopathy data\n",
       "mgus2 (cancer)          Monoclonal gammopathy data\n",
       "myeloid (cancer)        Acute myeloid leukemia\n",
       "myeloma (cancer)        Survival times of patients with multiple\n",
       "                        myeloma\n",
       "nafld1 (nafld)          Non-alcohol fatty liver disease\n",
       "nafld2 (nafld)          Non-alcohol fatty liver disease\n",
       "nafld3 (nafld)          Non-alcohol fatty liver disease\n",
       "nwtco                   Data from the National Wilm's Tumor Study\n",
       "ovarian (cancer)        Ovarian Cancer Survival Data\n",
       "pbc                     Mayo Clinic Primary Biliary Cholangitis Data\n",
       "pbcseq (pbc)            Mayo Clinic Primary Biliary Cirrhosis,\n",
       "                        sequential data\n",
       "rats (cancer)           Rat treatment data from Mantel et al\n",
       "rats2 (cancer)          Rat data from Gail et al.\n",
       "retinopathy             Diabetic Retinopathy\n",
       "rhDNase                 rhDNASE data set\n",
       "rotterdam (cancer)      Breast cancer data set used in Royston and\n",
       "                        Altman (2013)\n",
       "solder                  Data from a soldering experiment\n",
       "stanford2 (heart)       More Stanford Heart Transplant data\n",
       "survexp.mn (survexp)    Census Data Sets for the Expected Survival and\n",
       "                        Person Years Functions\n",
       "survexp.us (survexp)    Census Data Sets for the Expected Survival and\n",
       "                        Person Years Functions\n",
       "survexp.usr (survexp)   Census Data Sets for the Expected Survival and\n",
       "                        Person Years Functions\n",
       "tobin                   Tobin's Tobit data\n",
       "transplant              Liver transplant waiting list\n",
       "turbine (reliability)   Reliability data sets\n",
       "udca                    Data from a trial of usrodeoxycholic acid\n",
       "udca1 (udca)            Data from a trial of usrodeoxycholic acid\n",
       "udca2 (udca)            Data from a trial of usrodeoxycholic acid\n",
       "uspop2 (survexp)        Projected US Population\n",
       "valveSeat (reliability)\n",
       "                        Reliability data sets\n",
       "veteran (cancer)        Veterans' Administration Lung Cancer study"
      ]
     },
     "metadata": {},
     "output_type": "display_data"
    }
   ],
   "source": [
    "data(package = .packages(all.available = TRUE))\n",
    "data(package='boot')"
   ]
  },
  {
   "cell_type": "markdown",
   "id": "a420faa1-a833-4762-82f1-1ad3c0a08e29",
   "metadata": {
    "tags": []
   },
   "source": [
    "### Data Structures in R-Integer Vectors"
   ]
  },
  {
   "cell_type": "code",
   "execution_count": 160,
   "id": "c24b4261-b229-408b-9da1-35fe25f2f499",
   "metadata": {
    "tags": []
   },
   "outputs": [
    {
     "data": {
      "text/html": [
       "<style>\n",
       ".list-inline {list-style: none; margin:0; padding: 0}\n",
       ".list-inline>li {display: inline-block}\n",
       ".list-inline>li:not(:last-child)::after {content: \"\\00b7\"; padding: 0 .5ex}\n",
       "</style>\n",
       "<ol class=list-inline><li>4</li><li>5</li><li>6</li><li>7</li><li>8</li><li>9</li></ol>\n"
      ],
      "text/latex": [
       "\\begin{enumerate*}\n",
       "\\item 4\n",
       "\\item 5\n",
       "\\item 6\n",
       "\\item 7\n",
       "\\item 8\n",
       "\\item 9\n",
       "\\end{enumerate*}\n"
      ],
      "text/markdown": [
       "1. 4\n",
       "2. 5\n",
       "3. 6\n",
       "4. 7\n",
       "5. 8\n",
       "6. 9\n",
       "\n",
       "\n"
      ],
      "text/plain": [
       "[1] 4 5 6 7 8 9"
      ]
     },
     "metadata": {},
     "output_type": "display_data"
    }
   ],
   "source": [
    "seq(4,9)"
   ]
  },
  {
   "cell_type": "code",
   "execution_count": 161,
   "id": "ca592ea1-b83d-494c-870b-95845ee6c7bf",
   "metadata": {
    "tags": []
   },
   "outputs": [
    {
     "data": {
      "text/html": [
       "<style>\n",
       ".list-inline {list-style: none; margin:0; padding: 0}\n",
       ".list-inline>li {display: inline-block}\n",
       ".list-inline>li:not(:last-child)::after {content: \"\\00b7\"; padding: 0 .5ex}\n",
       "</style>\n",
       "<ol class=list-inline><li>4</li><li>6</li><li>8</li><li>10</li></ol>\n"
      ],
      "text/latex": [
       "\\begin{enumerate*}\n",
       "\\item 4\n",
       "\\item 6\n",
       "\\item 8\n",
       "\\item 10\n",
       "\\end{enumerate*}\n"
      ],
      "text/markdown": [
       "1. 4\n",
       "2. 6\n",
       "3. 8\n",
       "4. 10\n",
       "\n",
       "\n"
      ],
      "text/plain": [
       "[1]  4  6  8 10"
      ]
     },
     "metadata": {},
     "output_type": "display_data"
    }
   ],
   "source": [
    "seq(4,10,2)"
   ]
  },
  {
   "cell_type": "code",
   "execution_count": 162,
   "id": "5fd4bcf7-fdae-4fc2-ac73-6e6e44fcba57",
   "metadata": {
    "tags": []
   },
   "outputs": [
    {
     "data": {
      "text/html": [
       "<style>\n",
       ".list-inline {list-style: none; margin:0; padding: 0}\n",
       ".list-inline>li {display: inline-block}\n",
       ".list-inline>li:not(:last-child)::after {content: \"\\00b7\"; padding: 0 .5ex}\n",
       "</style>\n",
       "<ol class=list-inline><li>1.65</li><li>1.7</li><li>1.75</li><li>1.8</li><li>1.85</li><li>1.9</li></ol>\n"
      ],
      "text/latex": [
       "\\begin{enumerate*}\n",
       "\\item 1.65\n",
       "\\item 1.7\n",
       "\\item 1.75\n",
       "\\item 1.8\n",
       "\\item 1.85\n",
       "\\item 1.9\n",
       "\\end{enumerate*}\n"
      ],
      "text/markdown": [
       "1. 1.65\n",
       "2. 1.7\n",
       "3. 1.75\n",
       "4. 1.8\n",
       "5. 1.85\n",
       "6. 1.9\n",
       "\n",
       "\n"
      ],
      "text/plain": [
       "[1] 1.65 1.70 1.75 1.80 1.85 1.90"
      ]
     },
     "metadata": {},
     "output_type": "display_data"
    }
   ],
   "source": [
    "seq(1.65,1.90,0.05)"
   ]
  },
  {
   "cell_type": "code",
   "execution_count": 164,
   "id": "645ae571-f7c2-4a40-b54a-c25e51216f2e",
   "metadata": {
    "tags": []
   },
   "outputs": [
    {
     "data": {
      "text/html": [
       "<style>\n",
       ".list-inline {list-style: none; margin:0; padding: 0}\n",
       ".list-inline>li {display: inline-block}\n",
       ".list-inline>li:not(:last-child)::after {content: \"\\00b7\"; padding: 0 .5ex}\n",
       "</style>\n",
       "<ol class=list-inline><li>1</li><li>2.25</li><li>3.5</li><li>4.75</li><li>6</li></ol>\n"
      ],
      "text/latex": [
       "\\begin{enumerate*}\n",
       "\\item 1\n",
       "\\item 2.25\n",
       "\\item 3.5\n",
       "\\item 4.75\n",
       "\\item 6\n",
       "\\end{enumerate*}\n"
      ],
      "text/markdown": [
       "1. 1\n",
       "2. 2.25\n",
       "3. 3.5\n",
       "4. 4.75\n",
       "5. 6\n",
       "\n",
       "\n"
      ],
      "text/plain": [
       "[1] 1.00 2.25 3.50 4.75 6.00"
      ]
     },
     "metadata": {},
     "output_type": "display_data"
    }
   ],
   "source": [
    "seq(1,6,length.out = 5) #Here, length.out is defining how many elements we want From to To numbers"
   ]
  },
  {
   "cell_type": "code",
   "execution_count": 165,
   "id": "7e5c9f90-5ff4-4608-8a0f-89fa55778d74",
   "metadata": {
    "tags": []
   },
   "outputs": [
    {
     "data": {
      "text/html": [
       "<style>\n",
       ".list-inline {list-style: none; margin:0; padding: 0}\n",
       ".list-inline>li {display: inline-block}\n",
       ".list-inline>li:not(:last-child)::after {content: \"\\00b7\"; padding: 0 .5ex}\n",
       "</style>\n",
       "<ol class=list-inline><li>'DBDA'</li><li>'DBDA'</li><li>'DBDA'</li><li>'DBDA'</li></ol>\n"
      ],
      "text/latex": [
       "\\begin{enumerate*}\n",
       "\\item 'DBDA'\n",
       "\\item 'DBDA'\n",
       "\\item 'DBDA'\n",
       "\\item 'DBDA'\n",
       "\\end{enumerate*}\n"
      ],
      "text/markdown": [
       "1. 'DBDA'\n",
       "2. 'DBDA'\n",
       "3. 'DBDA'\n",
       "4. 'DBDA'\n",
       "\n",
       "\n"
      ],
      "text/plain": [
       "[1] \"DBDA\" \"DBDA\" \"DBDA\" \"DBDA\""
      ]
     },
     "metadata": {},
     "output_type": "display_data"
    }
   ],
   "source": [
    "rep(\"DBDA\", 4)"
   ]
  },
  {
   "cell_type": "code",
   "execution_count": 166,
   "id": "dbcdfcb6-8685-4b55-8497-868a37f3216c",
   "metadata": {
    "tags": []
   },
   "outputs": [],
   "source": [
    "oops <- c(7,9,13)"
   ]
  },
  {
   "cell_type": "code",
   "execution_count": 167,
   "id": "7eb9bf0e-b744-40f6-b266-afce8ec43862",
   "metadata": {
    "tags": []
   },
   "outputs": [
    {
     "data": {
      "text/html": [
       "<style>\n",
       ".list-inline {list-style: none; margin:0; padding: 0}\n",
       ".list-inline>li {display: inline-block}\n",
       ".list-inline>li:not(:last-child)::after {content: \"\\00b7\"; padding: 0 .5ex}\n",
       "</style>\n",
       "<ol class=list-inline><li>7</li><li>9</li><li>13</li><li>7</li><li>9</li><li>13</li><li>7</li><li>9</li><li>13</li></ol>\n"
      ],
      "text/latex": [
       "\\begin{enumerate*}\n",
       "\\item 7\n",
       "\\item 9\n",
       "\\item 13\n",
       "\\item 7\n",
       "\\item 9\n",
       "\\item 13\n",
       "\\item 7\n",
       "\\item 9\n",
       "\\item 13\n",
       "\\end{enumerate*}\n"
      ],
      "text/markdown": [
       "1. 7\n",
       "2. 9\n",
       "3. 13\n",
       "4. 7\n",
       "5. 9\n",
       "6. 13\n",
       "7. 7\n",
       "8. 9\n",
       "9. 13\n",
       "\n",
       "\n"
      ],
      "text/plain": [
       "[1]  7  9 13  7  9 13  7  9 13"
      ]
     },
     "metadata": {},
     "output_type": "display_data"
    }
   ],
   "source": [
    "rep(oops,3)"
   ]
  },
  {
   "cell_type": "code",
   "execution_count": 168,
   "id": "db123778-702b-4f5d-a8f3-6c6f7adfe701",
   "metadata": {
    "tags": []
   },
   "outputs": [
    {
     "data": {
      "text/html": [
       "<style>\n",
       ".list-inline {list-style: none; margin:0; padding: 0}\n",
       ".list-inline>li {display: inline-block}\n",
       ".list-inline>li:not(:last-child)::after {content: \"\\00b7\"; padding: 0 .5ex}\n",
       "</style>\n",
       "<ol class=list-inline><li>7</li><li>9</li><li>9</li><li>13</li><li>13</li><li>13</li></ol>\n"
      ],
      "text/latex": [
       "\\begin{enumerate*}\n",
       "\\item 7\n",
       "\\item 9\n",
       "\\item 9\n",
       "\\item 13\n",
       "\\item 13\n",
       "\\item 13\n",
       "\\end{enumerate*}\n"
      ],
      "text/markdown": [
       "1. 7\n",
       "2. 9\n",
       "3. 9\n",
       "4. 13\n",
       "5. 13\n",
       "6. 13\n",
       "\n",
       "\n"
      ],
      "text/plain": [
       "[1]  7  9  9 13 13 13"
      ]
     },
     "metadata": {},
     "output_type": "display_data"
    }
   ],
   "source": [
    "rep(oops,1:3)"
   ]
  },
  {
   "cell_type": "code",
   "execution_count": 169,
   "id": "d48fa5d2-a852-461b-b75d-3efda83fbb17",
   "metadata": {
    "tags": []
   },
   "outputs": [
    {
     "ename": "ERROR",
     "evalue": "Error in rep(oops, 1:4): invalid 'times' argument\n",
     "output_type": "error",
     "traceback": [
      "Error in rep(oops, 1:4): invalid 'times' argument\nTraceback:\n"
     ]
    }
   ],
   "source": [
    "rep(oops,1:4)"
   ]
  },
  {
   "cell_type": "code",
   "execution_count": 170,
   "id": "a7a5b2d6-0d4b-48c9-8fad-3168d2706687",
   "metadata": {
    "tags": []
   },
   "outputs": [
    {
     "data": {
      "text/html": [
       "<style>\n",
       ".list-inline {list-style: none; margin:0; padding: 0}\n",
       ".list-inline>li {display: inline-block}\n",
       ".list-inline>li:not(:last-child)::after {content: \"\\00b7\"; padding: 0 .5ex}\n",
       "</style>\n",
       "<ol class=list-inline><li>1</li><li>1</li><li>1</li><li>1</li><li>1</li><li>1</li><li>1</li><li>1</li><li>1</li><li>1</li><li>2</li><li>2</li><li>2</li><li>2</li><li>2</li><li>2</li><li>2</li><li>2</li><li>2</li><li>2</li><li>2</li><li>2</li><li>2</li><li>2</li><li>2</li></ol>\n"
      ],
      "text/latex": [
       "\\begin{enumerate*}\n",
       "\\item 1\n",
       "\\item 1\n",
       "\\item 1\n",
       "\\item 1\n",
       "\\item 1\n",
       "\\item 1\n",
       "\\item 1\n",
       "\\item 1\n",
       "\\item 1\n",
       "\\item 1\n",
       "\\item 2\n",
       "\\item 2\n",
       "\\item 2\n",
       "\\item 2\n",
       "\\item 2\n",
       "\\item 2\n",
       "\\item 2\n",
       "\\item 2\n",
       "\\item 2\n",
       "\\item 2\n",
       "\\item 2\n",
       "\\item 2\n",
       "\\item 2\n",
       "\\item 2\n",
       "\\item 2\n",
       "\\end{enumerate*}\n"
      ],
      "text/markdown": [
       "1. 1\n",
       "2. 1\n",
       "3. 1\n",
       "4. 1\n",
       "5. 1\n",
       "6. 1\n",
       "7. 1\n",
       "8. 1\n",
       "9. 1\n",
       "10. 1\n",
       "11. 2\n",
       "12. 2\n",
       "13. 2\n",
       "14. 2\n",
       "15. 2\n",
       "16. 2\n",
       "17. 2\n",
       "18. 2\n",
       "19. 2\n",
       "20. 2\n",
       "21. 2\n",
       "22. 2\n",
       "23. 2\n",
       "24. 2\n",
       "25. 2\n",
       "\n",
       "\n"
      ],
      "text/plain": [
       " [1] 1 1 1 1 1 1 1 1 1 1 2 2 2 2 2 2 2 2 2 2 2 2 2 2 2"
      ]
     },
     "metadata": {},
     "output_type": "display_data"
    }
   ],
   "source": [
    "rep(1:2,c(10,15))"
   ]
  },
  {
   "cell_type": "code",
   "execution_count": 171,
   "id": "59c12298-9933-4dae-b9d1-fbb56b89c50c",
   "metadata": {
    "tags": []
   },
   "outputs": [
    {
     "data": {
      "text/html": [
       "<style>\n",
       ".list-inline {list-style: none; margin:0; padding: 0}\n",
       ".list-inline>li {display: inline-block}\n",
       ".list-inline>li:not(:last-child)::after {content: \"\\00b7\"; padding: 0 .5ex}\n",
       "</style>\n",
       "<ol class=list-inline><li>1</li><li>1</li><li>1</li><li>1</li><li>1</li><li>1</li><li>1</li><li>1</li><li>1</li><li>1</li><li>2</li><li>2</li><li>2</li><li>2</li><li>2</li><li>2</li><li>2</li><li>2</li><li>2</li><li>2</li></ol>\n"
      ],
      "text/latex": [
       "\\begin{enumerate*}\n",
       "\\item 1\n",
       "\\item 1\n",
       "\\item 1\n",
       "\\item 1\n",
       "\\item 1\n",
       "\\item 1\n",
       "\\item 1\n",
       "\\item 1\n",
       "\\item 1\n",
       "\\item 1\n",
       "\\item 2\n",
       "\\item 2\n",
       "\\item 2\n",
       "\\item 2\n",
       "\\item 2\n",
       "\\item 2\n",
       "\\item 2\n",
       "\\item 2\n",
       "\\item 2\n",
       "\\item 2\n",
       "\\end{enumerate*}\n"
      ],
      "text/markdown": [
       "1. 1\n",
       "2. 1\n",
       "3. 1\n",
       "4. 1\n",
       "5. 1\n",
       "6. 1\n",
       "7. 1\n",
       "8. 1\n",
       "9. 1\n",
       "10. 1\n",
       "11. 2\n",
       "12. 2\n",
       "13. 2\n",
       "14. 2\n",
       "15. 2\n",
       "16. 2\n",
       "17. 2\n",
       "18. 2\n",
       "19. 2\n",
       "20. 2\n",
       "\n",
       "\n"
      ],
      "text/plain": [
       " [1] 1 1 1 1 1 1 1 1 1 1 2 2 2 2 2 2 2 2 2 2"
      ]
     },
     "metadata": {},
     "output_type": "display_data"
    }
   ],
   "source": [
    "rep(1:2,each=10)"
   ]
  },
  {
   "cell_type": "code",
   "execution_count": 172,
   "id": "0786464e-388d-419e-8105-d729901626a8",
   "metadata": {
    "tags": []
   },
   "outputs": [
    {
     "ename": "ERROR",
     "evalue": "Error in parse(text = x, srcfile = src): <text>:2:0: unexpected end of input\n1: rep(1:2,c(10,2)\n   ^\n",
     "output_type": "error",
     "traceback": [
      "Error in parse(text = x, srcfile = src): <text>:2:0: unexpected end of input\n1: rep(1:2,c(10,2)\n   ^\nTraceback:\n"
     ]
    }
   ],
   "source": [
    "rep(1:2,c(10,2)"
   ]
  },
  {
   "cell_type": "markdown",
   "id": "778c9185-ef56-442c-9243-eecd874538fa",
   "metadata": {
    "tags": []
   },
   "source": [
    "### Integer vectors : Indexing"
   ]
  },
  {
   "cell_type": "code",
   "execution_count": 173,
   "id": "df1196ae-5356-45d3-b764-5ba9a47b8da8",
   "metadata": {
    "tags": []
   },
   "outputs": [],
   "source": [
    "a = (1:100)"
   ]
  },
  {
   "cell_type": "code",
   "execution_count": 174,
   "id": "b1c56602-2b3a-4e1a-97a4-c5a372c4c3e8",
   "metadata": {
    "tags": []
   },
   "outputs": [
    {
     "data": {
      "text/html": [
       "100"
      ],
      "text/latex": [
       "100"
      ],
      "text/markdown": [
       "100"
      ],
      "text/plain": [
       "[1] 100"
      ]
     },
     "metadata": {},
     "output_type": "display_data"
    }
   ],
   "source": [
    "length(a)"
   ]
  },
  {
   "cell_type": "code",
   "execution_count": 175,
   "id": "ef619dc3-bf9a-4303-98b0-b7d195dc468f",
   "metadata": {
    "tags": []
   },
   "outputs": [
    {
     "data": {
      "text/html": [
       "1"
      ],
      "text/latex": [
       "1"
      ],
      "text/markdown": [
       "1"
      ],
      "text/plain": [
       "[1] 1"
      ]
     },
     "metadata": {},
     "output_type": "display_data"
    }
   ],
   "source": [
    "a[1]"
   ]
  },
  {
   "cell_type": "code",
   "execution_count": 176,
   "id": "af138879-7e58-4b0a-a6b9-c0175207e3d6",
   "metadata": {
    "tags": []
   },
   "outputs": [
    {
     "data": {
      "text/html": [
       "25"
      ],
      "text/latex": [
       "25"
      ],
      "text/markdown": [
       "25"
      ],
      "text/plain": [
       "[1] 25"
      ]
     },
     "metadata": {},
     "output_type": "display_data"
    }
   ],
   "source": [
    "a[25]"
   ]
  },
  {
   "cell_type": "code",
   "execution_count": 177,
   "id": "ac07e721-06bd-4102-8576-0a7f229d999e",
   "metadata": {
    "tags": []
   },
   "outputs": [
    {
     "data": {
      "text/html": [
       "98"
      ],
      "text/latex": [
       "98"
      ],
      "text/markdown": [
       "98"
      ],
      "text/plain": [
       "[1] 98"
      ]
     },
     "metadata": {},
     "output_type": "display_data"
    }
   ],
   "source": [
    "a[98]"
   ]
  },
  {
   "cell_type": "code",
   "execution_count": 178,
   "id": "6d70233e-d9cc-4dee-b005-5ac412513a7d",
   "metadata": {
    "tags": []
   },
   "outputs": [
    {
     "data": {
      "text/html": [
       "100"
      ],
      "text/latex": [
       "100"
      ],
      "text/markdown": [
       "100"
      ],
      "text/plain": [
       "[1] 100"
      ]
     },
     "metadata": {},
     "output_type": "display_data"
    }
   ],
   "source": [
    "a[-1:-99]"
   ]
  },
  {
   "cell_type": "code",
   "execution_count": 179,
   "id": "3bebcd27-b416-403b-ac0e-3882126b2ad4",
   "metadata": {
    "tags": []
   },
   "outputs": [
    {
     "data": {
      "text/html": [
       "<style>\n",
       ".list-inline {list-style: none; margin:0; padding: 0}\n",
       ".list-inline>li {display: inline-block}\n",
       ".list-inline>li:not(:last-child)::after {content: \"\\00b7\"; padding: 0 .5ex}\n",
       "</style>\n",
       "<ol class=list-inline><li>96</li><li>97</li><li>98</li><li>99</li><li>100</li></ol>\n"
      ],
      "text/latex": [
       "\\begin{enumerate*}\n",
       "\\item 96\n",
       "\\item 97\n",
       "\\item 98\n",
       "\\item 99\n",
       "\\item 100\n",
       "\\end{enumerate*}\n"
      ],
      "text/markdown": [
       "1. 96\n",
       "2. 97\n",
       "3. 98\n",
       "4. 99\n",
       "5. 100\n",
       "\n",
       "\n"
      ],
      "text/plain": [
       "[1]  96  97  98  99 100"
      ]
     },
     "metadata": {},
     "output_type": "display_data"
    }
   ],
   "source": [
    "a[-1:-95]"
   ]
  },
  {
   "cell_type": "code",
   "execution_count": 180,
   "id": "207954f4-1e08-4167-b8ed-a848554c3cf6",
   "metadata": {
    "tags": []
   },
   "outputs": [
    {
     "data": {
      "text/html": [
       "<style>\n",
       ".list-inline {list-style: none; margin:0; padding: 0}\n",
       ".list-inline>li {display: inline-block}\n",
       ".list-inline>li:not(:last-child)::after {content: \"\\00b7\"; padding: 0 .5ex}\n",
       "</style>\n",
       "<ol class=list-inline><li>1</li><li>2</li><li>3</li><li>4</li><li>5</li><li>6</li><li>7</li><li>8</li><li>9</li><li>10</li><li>11</li><li>12</li><li>13</li><li>14</li><li>15</li></ol>\n"
      ],
      "text/latex": [
       "\\begin{enumerate*}\n",
       "\\item 1\n",
       "\\item 2\n",
       "\\item 3\n",
       "\\item 4\n",
       "\\item 5\n",
       "\\item 6\n",
       "\\item 7\n",
       "\\item 8\n",
       "\\item 9\n",
       "\\item 10\n",
       "\\item 11\n",
       "\\item 12\n",
       "\\item 13\n",
       "\\item 14\n",
       "\\item 15\n",
       "\\end{enumerate*}\n"
      ],
      "text/markdown": [
       "1. 1\n",
       "2. 2\n",
       "3. 3\n",
       "4. 4\n",
       "5. 5\n",
       "6. 6\n",
       "7. 7\n",
       "8. 8\n",
       "9. 9\n",
       "10. 10\n",
       "11. 11\n",
       "12. 12\n",
       "13. 13\n",
       "14. 14\n",
       "15. 15\n",
       "\n",
       "\n"
      ],
      "text/plain": [
       " [1]  1  2  3  4  5  6  7  8  9 10 11 12 13 14 15"
      ]
     },
     "metadata": {},
     "output_type": "display_data"
    }
   ],
   "source": [
    "a[1:15]"
   ]
  },
  {
   "cell_type": "code",
   "execution_count": 181,
   "id": "b8905347-f233-4a39-965f-603bdf8c23b8",
   "metadata": {
    "tags": []
   },
   "outputs": [
    {
     "data": {
      "text/html": [
       "<style>\n",
       ".list-inline {list-style: none; margin:0; padding: 0}\n",
       ".list-inline>li {display: inline-block}\n",
       ".list-inline>li:not(:last-child)::after {content: \"\\00b7\"; padding: 0 .5ex}\n",
       "</style>\n",
       "<ol class=list-inline><li>1</li><li>2</li><li>3</li><li>4</li><li>5</li><li>55</li><li>56</li><li>57</li><li>58</li><li>59</li><li>60</li><li>61</li><li>62</li><li>63</li><li>64</li><li>65</li><li>66</li><li>67</li><li>68</li><li>69</li><li>70</li><li>71</li><li>72</li><li>73</li></ol>\n"
      ],
      "text/latex": [
       "\\begin{enumerate*}\n",
       "\\item 1\n",
       "\\item 2\n",
       "\\item 3\n",
       "\\item 4\n",
       "\\item 5\n",
       "\\item 55\n",
       "\\item 56\n",
       "\\item 57\n",
       "\\item 58\n",
       "\\item 59\n",
       "\\item 60\n",
       "\\item 61\n",
       "\\item 62\n",
       "\\item 63\n",
       "\\item 64\n",
       "\\item 65\n",
       "\\item 66\n",
       "\\item 67\n",
       "\\item 68\n",
       "\\item 69\n",
       "\\item 70\n",
       "\\item 71\n",
       "\\item 72\n",
       "\\item 73\n",
       "\\end{enumerate*}\n"
      ],
      "text/markdown": [
       "1. 1\n",
       "2. 2\n",
       "3. 3\n",
       "4. 4\n",
       "5. 5\n",
       "6. 55\n",
       "7. 56\n",
       "8. 57\n",
       "9. 58\n",
       "10. 59\n",
       "11. 60\n",
       "12. 61\n",
       "13. 62\n",
       "14. 63\n",
       "15. 64\n",
       "16. 65\n",
       "17. 66\n",
       "18. 67\n",
       "19. 68\n",
       "20. 69\n",
       "21. 70\n",
       "22. 71\n",
       "23. 72\n",
       "24. 73\n",
       "\n",
       "\n"
      ],
      "text/plain": [
       " [1]  1  2  3  4  5 55 56 57 58 59 60 61 62 63 64 65 66 67 68 69 70 71 72 73"
      ]
     },
     "metadata": {},
     "output_type": "display_data"
    }
   ],
   "source": [
    "a[c(1:5,55:73)]"
   ]
  },
  {
   "cell_type": "markdown",
   "id": "e3bab12a-e29e-4ad8-b503-17ad82095149",
   "metadata": {
    "tags": []
   },
   "source": [
    "### Character Vector"
   ]
  },
  {
   "cell_type": "code",
   "execution_count": 182,
   "id": "c841cddb-34f9-4e8c-ba88-ac69485023c0",
   "metadata": {
    "tags": []
   },
   "outputs": [
    {
     "data": {
      "text/html": [
       "<style>\n",
       ".list-inline {list-style: none; margin:0; padding: 0}\n",
       ".list-inline>li {display: inline-block}\n",
       ".list-inline>li:not(:last-child)::after {content: \"\\00b7\"; padding: 0 .5ex}\n",
       "</style>\n",
       "<ol class=list-inline><li>'Huey'</li><li>'Dewey'</li><li>'Louie'</li></ol>\n"
      ],
      "text/latex": [
       "\\begin{enumerate*}\n",
       "\\item 'Huey'\n",
       "\\item 'Dewey'\n",
       "\\item 'Louie'\n",
       "\\end{enumerate*}\n"
      ],
      "text/markdown": [
       "1. 'Huey'\n",
       "2. 'Dewey'\n",
       "3. 'Louie'\n",
       "\n",
       "\n"
      ],
      "text/plain": [
       "[1] \"Huey\"  \"Dewey\" \"Louie\""
      ]
     },
     "metadata": {},
     "output_type": "display_data"
    }
   ],
   "source": [
    "c(\"Huey\",\"Dewey\",\"Louie\")"
   ]
  },
  {
   "cell_type": "code",
   "execution_count": 183,
   "id": "3b48dd18-6d32-4c1f-84fe-fd7782760b49",
   "metadata": {
    "tags": []
   },
   "outputs": [
    {
     "data": {
      "text/html": [
       "<style>\n",
       ".list-inline {list-style: none; margin:0; padding: 0}\n",
       ".list-inline>li {display: inline-block}\n",
       ".list-inline>li:not(:last-child)::after {content: \"\\00b7\"; padding: 0 .5ex}\n",
       "</style>\n",
       "<ol class=list-inline><li>'Huey'</li><li>'Dewey'</li><li>'Louie'</li></ol>\n"
      ],
      "text/latex": [
       "\\begin{enumerate*}\n",
       "\\item 'Huey'\n",
       "\\item 'Dewey'\n",
       "\\item 'Louie'\n",
       "\\end{enumerate*}\n"
      ],
      "text/markdown": [
       "1. 'Huey'\n",
       "2. 'Dewey'\n",
       "3. 'Louie'\n",
       "\n",
       "\n"
      ],
      "text/plain": [
       "[1] \"Huey\"  \"Dewey\" \"Louie\""
      ]
     },
     "metadata": {},
     "output_type": "display_data"
    }
   ],
   "source": [
    "c('Huey','Dewey','Louie')"
   ]
  },
  {
   "cell_type": "code",
   "execution_count": 184,
   "id": "a372f588-2c07-4193-b5ca-cd440070f345",
   "metadata": {
    "tags": []
   },
   "outputs": [
    {
     "name": "stdout",
     "output_type": "stream",
     "text": [
      "Huey Dewey Louie"
     ]
    }
   ],
   "source": [
    "cat(c(\"Huey\",\"Dewey\",\"Louie\"))"
   ]
  },
  {
   "cell_type": "code",
   "execution_count": 185,
   "id": "5f954b21-b3d5-4ecb-8dd5-afacb4d1eae9",
   "metadata": {
    "tags": []
   },
   "outputs": [
    {
     "name": "stdout",
     "output_type": "stream",
     "text": [
      "What is \"R\"?\n"
     ]
    }
   ],
   "source": [
    "cat(\"What is \\\"R\\\"?\\n\")"
   ]
  },
  {
   "cell_type": "code",
   "execution_count": 186,
   "id": "f8c15306-d47a-4432-9d36-b7f678ef762c",
   "metadata": {
    "tags": []
   },
   "outputs": [
    {
     "data": {
      "text/html": [
       "<style>\n",
       ".list-inline {list-style: none; margin:0; padding: 0}\n",
       ".list-inline>li {display: inline-block}\n",
       ".list-inline>li:not(:last-child)::after {content: \"\\00b7\"; padding: 0 .5ex}\n",
       "</style>\n",
       "<ol class=list-inline><li>'Apple'</li><li>'FALSE'</li><li>'Orange'</li><li>'TRUE'</li></ol>\n"
      ],
      "text/latex": [
       "\\begin{enumerate*}\n",
       "\\item 'Apple'\n",
       "\\item 'FALSE'\n",
       "\\item 'Orange'\n",
       "\\item 'TRUE'\n",
       "\\end{enumerate*}\n"
      ],
      "text/markdown": [
       "1. 'Apple'\n",
       "2. 'FALSE'\n",
       "3. 'Orange'\n",
       "4. 'TRUE'\n",
       "\n",
       "\n"
      ],
      "text/plain": [
       "[1] \"Apple\"  \"FALSE\"  \"Orange\" \"TRUE\"  "
      ]
     },
     "metadata": {},
     "output_type": "display_data"
    }
   ],
   "source": [
    "c(\"Apple\",F,\"Orange\",T)"
   ]
  },
  {
   "cell_type": "code",
   "execution_count": 187,
   "id": "e9f4e899-d235-4b64-ae5b-d17992f747b7",
   "metadata": {
    "tags": []
   },
   "outputs": [
    {
     "data": {
      "text/html": [
       "<style>\n",
       ".list-inline {list-style: none; margin:0; padding: 0}\n",
       ".list-inline>li {display: inline-block}\n",
       ".list-inline>li:not(:last-child)::after {content: \"\\00b7\"; padding: 0 .5ex}\n",
       "</style>\n",
       "<ol class=list-inline><li>'Apple'</li><li>'F'</li><li>'Orange'</li><li>'T'</li></ol>\n"
      ],
      "text/latex": [
       "\\begin{enumerate*}\n",
       "\\item 'Apple'\n",
       "\\item 'F'\n",
       "\\item 'Orange'\n",
       "\\item 'T'\n",
       "\\end{enumerate*}\n"
      ],
      "text/markdown": [
       "1. 'Apple'\n",
       "2. 'F'\n",
       "3. 'Orange'\n",
       "4. 'T'\n",
       "\n",
       "\n"
      ],
      "text/plain": [
       "[1] \"Apple\"  \"F\"      \"Orange\" \"T\"     "
      ]
     },
     "metadata": {},
     "output_type": "display_data"
    }
   ],
   "source": [
    "c(\"Apple\",\"F\",\"Orange\",\"T\")"
   ]
  },
  {
   "cell_type": "code",
   "execution_count": null,
   "id": "50b63314-3931-4957-80f8-1cb814637b4c",
   "metadata": {
    "tags": []
   },
   "outputs": [],
   "source": [
    "names = c(\"Huey\",\"Dewey\",\"Louie\")"
   ]
  },
  {
   "cell_type": "markdown",
   "id": "5ccbf0f0-ab64-4c59-a4cc-a9ea46fd0d6c",
   "metadata": {
    "tags": []
   },
   "source": [
    "### Example of Character Vector: Indexing"
   ]
  },
  {
   "cell_type": "code",
   "execution_count": 199,
   "id": "3dd6b30d-c68c-4a88-87e2-132f48396f96",
   "metadata": {
    "tags": []
   },
   "outputs": [],
   "source": [
    "e = c(\"Huey\",\"Dewey\",\"Louie\",\"Kaduba\")"
   ]
  },
  {
   "cell_type": "code",
   "execution_count": 200,
   "id": "ea9a55a0-2f8a-4a52-a74c-c6ab40a0ec67",
   "metadata": {
    "tags": []
   },
   "outputs": [
    {
     "data": {
      "text/html": [
       "'Huey'"
      ],
      "text/latex": [
       "'Huey'"
      ],
      "text/markdown": [
       "'Huey'"
      ],
      "text/plain": [
       "[1] \"Huey\""
      ]
     },
     "metadata": {},
     "output_type": "display_data"
    }
   ],
   "source": [
    "e[1]"
   ]
  },
  {
   "cell_type": "code",
   "execution_count": 201,
   "id": "0387defc-fa0b-4e66-84a7-982110efe3ed",
   "metadata": {
    "tags": []
   },
   "outputs": [
    {
     "data": {
      "text/html": [
       "'Dewey'"
      ],
      "text/latex": [
       "'Dewey'"
      ],
      "text/markdown": [
       "'Dewey'"
      ],
      "text/plain": [
       "[1] \"Dewey\""
      ]
     },
     "metadata": {},
     "output_type": "display_data"
    }
   ],
   "source": [
    "e[2]"
   ]
  },
  {
   "cell_type": "code",
   "execution_count": 202,
   "id": "096e203f-c589-4179-9b3a-61f1677d02c2",
   "metadata": {
    "tags": []
   },
   "outputs": [
    {
     "data": {
      "text/html": [
       "'Louie'"
      ],
      "text/latex": [
       "'Louie'"
      ],
      "text/markdown": [
       "'Louie'"
      ],
      "text/plain": [
       "[1] \"Louie\""
      ]
     },
     "metadata": {},
     "output_type": "display_data"
    }
   ],
   "source": [
    "e[3]"
   ]
  },
  {
   "cell_type": "code",
   "execution_count": 204,
   "id": "3a4c1479-5b2c-4202-9bad-07a7d2bd08a7",
   "metadata": {
    "tags": []
   },
   "outputs": [
    {
     "data": {
      "text/html": [
       "<style>\n",
       ".list-inline {list-style: none; margin:0; padding: 0}\n",
       ".list-inline>li {display: inline-block}\n",
       ".list-inline>li:not(:last-child)::after {content: \"\\00b7\"; padding: 0 .5ex}\n",
       "</style>\n",
       "<ol class=list-inline><li>'Huey'</li><li>'Kaduba'</li></ol>\n"
      ],
      "text/latex": [
       "\\begin{enumerate*}\n",
       "\\item 'Huey'\n",
       "\\item 'Kaduba'\n",
       "\\end{enumerate*}\n"
      ],
      "text/markdown": [
       "1. 'Huey'\n",
       "2. 'Kaduba'\n",
       "\n",
       "\n"
      ],
      "text/plain": [
       "[1] \"Huey\"   \"Kaduba\""
      ]
     },
     "metadata": {},
     "output_type": "display_data"
    }
   ],
   "source": [
    "e[-2:-3]"
   ]
  },
  {
   "cell_type": "code",
   "execution_count": 205,
   "id": "d0d2d39b-af3c-495a-b1dd-31d28a99f10a",
   "metadata": {
    "tags": []
   },
   "outputs": [
    {
     "data": {
      "text/html": [
       "<style>\n",
       ".list-inline {list-style: none; margin:0; padding: 0}\n",
       ".list-inline>li {display: inline-block}\n",
       ".list-inline>li:not(:last-child)::after {content: \"\\00b7\"; padding: 0 .5ex}\n",
       "</style>\n",
       "<ol class=list-inline><li>'Huey'</li><li>'Louie'</li><li>'Kaduba'</li></ol>\n"
      ],
      "text/latex": [
       "\\begin{enumerate*}\n",
       "\\item 'Huey'\n",
       "\\item 'Louie'\n",
       "\\item 'Kaduba'\n",
       "\\end{enumerate*}\n"
      ],
      "text/markdown": [
       "1. 'Huey'\n",
       "2. 'Louie'\n",
       "3. 'Kaduba'\n",
       "\n",
       "\n"
      ],
      "text/plain": [
       "[1] \"Huey\"   \"Louie\"  \"Kaduba\""
      ]
     },
     "metadata": {},
     "output_type": "display_data"
    }
   ],
   "source": [
    "e[-2]"
   ]
  },
  {
   "cell_type": "code",
   "execution_count": 206,
   "id": "bc0f97fb-812e-4cd5-831a-aef6c3182509",
   "metadata": {
    "tags": []
   },
   "outputs": [],
   "source": [
    "f = c(\"aa\",\"bb\",\"cc\",\"dd\",\"ee\",\"ff\")"
   ]
  },
  {
   "cell_type": "code",
   "execution_count": 194,
   "id": "d010bb34-b1fe-404e-9b03-edea38cef0b3",
   "metadata": {
    "tags": []
   },
   "outputs": [
    {
     "data": {
      "text/html": [
       "<style>\n",
       ".list-inline {list-style: none; margin:0; padding: 0}\n",
       ".list-inline>li {display: inline-block}\n",
       ".list-inline>li:not(:last-child)::after {content: \"\\00b7\"; padding: 0 .5ex}\n",
       "</style>\n",
       "<ol class=list-inline><li>'aa'</li><li>'bb'</li><li>'cc'</li><li>'dd'</li></ol>\n"
      ],
      "text/latex": [
       "\\begin{enumerate*}\n",
       "\\item 'aa'\n",
       "\\item 'bb'\n",
       "\\item 'cc'\n",
       "\\item 'dd'\n",
       "\\end{enumerate*}\n"
      ],
      "text/markdown": [
       "1. 'aa'\n",
       "2. 'bb'\n",
       "3. 'cc'\n",
       "4. 'dd'\n",
       "\n",
       "\n"
      ],
      "text/plain": [
       "[1] \"aa\" \"bb\" \"cc\" \"dd\""
      ]
     },
     "metadata": {},
     "output_type": "display_data"
    }
   ],
   "source": [
    "f[1:4]"
   ]
  },
  {
   "cell_type": "code",
   "execution_count": 195,
   "id": "785c227d-de18-443e-8f51-525ea4a5d9e8",
   "metadata": {
    "tags": []
   },
   "outputs": [
    {
     "data": {
      "text/html": [
       "<style>\n",
       ".list-inline {list-style: none; margin:0; padding: 0}\n",
       ".list-inline>li {display: inline-block}\n",
       ".list-inline>li:not(:last-child)::after {content: \"\\00b7\"; padding: 0 .5ex}\n",
       "</style>\n",
       "<ol class=list-inline><li>'cc'</li><li>'dd'</li><li>'ee'</li></ol>\n"
      ],
      "text/latex": [
       "\\begin{enumerate*}\n",
       "\\item 'cc'\n",
       "\\item 'dd'\n",
       "\\item 'ee'\n",
       "\\end{enumerate*}\n"
      ],
      "text/markdown": [
       "1. 'cc'\n",
       "2. 'dd'\n",
       "3. 'ee'\n",
       "\n",
       "\n"
      ],
      "text/plain": [
       "[1] \"cc\" \"dd\" \"ee\""
      ]
     },
     "metadata": {},
     "output_type": "display_data"
    }
   ],
   "source": [
    "f[3:5]"
   ]
  },
  {
   "cell_type": "code",
   "execution_count": 196,
   "id": "3f1a53f0-5302-4d84-923e-046bab8529af",
   "metadata": {
    "tags": []
   },
   "outputs": [
    {
     "ename": "ERROR",
     "evalue": "Error in f[1, 2, 3]: incorrect number of dimensions\n",
     "output_type": "error",
     "traceback": [
      "Error in f[1, 2, 3]: incorrect number of dimensions\nTraceback:\n"
     ]
    }
   ],
   "source": [
    "f[1,2,3]"
   ]
  },
  {
   "cell_type": "code",
   "execution_count": 207,
   "id": "2afbf69b-4677-4ac8-99dc-cd513cfa51ed",
   "metadata": {
    "tags": []
   },
   "outputs": [
    {
     "ename": "ERROR",
     "evalue": "Error in f(c[1, 2, 3]): could not find function \"f\"\n",
     "output_type": "error",
     "traceback": [
      "Error in f(c[1, 2, 3]): could not find function \"f\"\nTraceback:\n"
     ]
    }
   ],
   "source": [
    "f(c[1,2,3])"
   ]
  },
  {
   "cell_type": "markdown",
   "id": "cf0d3c11-c968-4ed3-8a0b-9dd551634f64",
   "metadata": {
    "tags": []
   },
   "source": [
    "### Combination of Int and Char"
   ]
  },
  {
   "cell_type": "code",
   "execution_count": 208,
   "id": "28496536-3da3-48c6-8f3d-c84d2c236256",
   "metadata": {
    "tags": []
   },
   "outputs": [],
   "source": [
    "anow = c(1,2,3)"
   ]
  },
  {
   "cell_type": "code",
   "execution_count": 209,
   "id": "2314c596-4517-45cf-95f2-2d44cc5037e9",
   "metadata": {
    "tags": []
   },
   "outputs": [],
   "source": [
    "bnow = c(4,5,6,'CDAC','DBDA')"
   ]
  },
  {
   "cell_type": "code",
   "execution_count": 210,
   "id": "1d0bd79c-8a71-41c4-a289-f12d4a514414",
   "metadata": {
    "tags": []
   },
   "outputs": [],
   "source": [
    "cnow = c(7,8,9,'E-City','NA')"
   ]
  },
  {
   "cell_type": "code",
   "execution_count": 211,
   "id": "15b2a656-2838-4c54-b488-f501ec510152",
   "metadata": {
    "tags": []
   },
   "outputs": [],
   "source": [
    "full = c(anow,bnow,cnow)"
   ]
  },
  {
   "cell_type": "code",
   "execution_count": 212,
   "id": "dbd04502-1279-404f-a490-2bfa7a1204d0",
   "metadata": {
    "tags": []
   },
   "outputs": [
    {
     "data": {
      "text/html": [
       "<style>\n",
       ".list-inline {list-style: none; margin:0; padding: 0}\n",
       ".list-inline>li {display: inline-block}\n",
       ".list-inline>li:not(:last-child)::after {content: \"\\00b7\"; padding: 0 .5ex}\n",
       "</style>\n",
       "<ol class=list-inline><li>'1'</li><li>'2'</li><li>'3'</li><li>'4'</li><li>'5'</li><li>'6'</li><li>'CDAC'</li><li>'DBDA'</li><li>'7'</li><li>'8'</li><li>'9'</li><li>'E-City'</li><li>'NA'</li></ol>\n"
      ],
      "text/latex": [
       "\\begin{enumerate*}\n",
       "\\item '1'\n",
       "\\item '2'\n",
       "\\item '3'\n",
       "\\item '4'\n",
       "\\item '5'\n",
       "\\item '6'\n",
       "\\item 'CDAC'\n",
       "\\item 'DBDA'\n",
       "\\item '7'\n",
       "\\item '8'\n",
       "\\item '9'\n",
       "\\item 'E-City'\n",
       "\\item 'NA'\n",
       "\\end{enumerate*}\n"
      ],
      "text/markdown": [
       "1. '1'\n",
       "2. '2'\n",
       "3. '3'\n",
       "4. '4'\n",
       "5. '5'\n",
       "6. '6'\n",
       "7. 'CDAC'\n",
       "8. 'DBDA'\n",
       "9. '7'\n",
       "10. '8'\n",
       "11. '9'\n",
       "12. 'E-City'\n",
       "13. 'NA'\n",
       "\n",
       "\n"
      ],
      "text/plain": [
       " [1] \"1\"      \"2\"      \"3\"      \"4\"      \"5\"      \"6\"      \"CDAC\"   \"DBDA\"  \n",
       " [9] \"7\"      \"8\"      \"9\"      \"E-City\" \"NA\"    "
      ]
     },
     "metadata": {},
     "output_type": "display_data"
    }
   ],
   "source": [
    "full"
   ]
  },
  {
   "cell_type": "code",
   "execution_count": 213,
   "id": "42b2bcce-290b-4a91-b480-3f68ab94c728",
   "metadata": {
    "tags": []
   },
   "outputs": [],
   "source": [
    "xnow = c(blood = \"Red\", sky = 'Blue', coal = 'Black')"
   ]
  },
  {
   "cell_type": "code",
   "execution_count": 214,
   "id": "3a4e3d7f-2b7e-4b7a-b5a5-0d5f9a6a58c1",
   "metadata": {
    "tags": []
   },
   "outputs": [
    {
     "data": {
      "text/html": [
       "<style>\n",
       ".dl-inline {width: auto; margin:0; padding: 0}\n",
       ".dl-inline>dt, .dl-inline>dd {float: none; width: auto; display: inline-block}\n",
       ".dl-inline>dt::after {content: \":\\0020\"; padding-right: .5ex}\n",
       ".dl-inline>dt:not(:first-of-type) {padding-left: .5ex}\n",
       "</style><dl class=dl-inline><dt>blood</dt><dd>'Red'</dd><dt>sky</dt><dd>'Blue'</dd><dt>coal</dt><dd>'Black'</dd></dl>\n"
      ],
      "text/latex": [
       "\\begin{description*}\n",
       "\\item[blood] 'Red'\n",
       "\\item[sky] 'Blue'\n",
       "\\item[coal] 'Black'\n",
       "\\end{description*}\n"
      ],
      "text/markdown": [
       "blood\n",
       ":   'Red'sky\n",
       ":   'Blue'coal\n",
       ":   'Black'\n",
       "\n"
      ],
      "text/plain": [
       "  blood     sky    coal \n",
       "  \"Red\"  \"Blue\" \"Black\" "
      ]
     },
     "metadata": {},
     "output_type": "display_data"
    }
   ],
   "source": [
    "xnow"
   ]
  },
  {
   "cell_type": "markdown",
   "id": "4e44b229-4596-480e-9c77-a5452df41ddf",
   "metadata": {
    "tags": []
   },
   "source": [
    "### Matrix : Using dim() keyword"
   ]
  },
  {
   "cell_type": "code",
   "execution_count": 220,
   "id": "08693da0-c43d-42cd-835a-76178fb98585",
   "metadata": {
    "tags": []
   },
   "outputs": [],
   "source": [
    "x <- 1:12"
   ]
  },
  {
   "cell_type": "code",
   "execution_count": 221,
   "id": "a8545dad-595c-4241-8526-965532f1f622",
   "metadata": {
    "tags": []
   },
   "outputs": [],
   "source": [
    "dim(x) = c(3,4)"
   ]
  },
  {
   "cell_type": "code",
   "execution_count": 222,
   "id": "9a84a7c9-0176-4a60-abda-170f398fee8a",
   "metadata": {
    "tags": []
   },
   "outputs": [
    {
     "data": {
      "text/html": [
       "<table class=\"dataframe\">\n",
       "<caption>A matrix: 3 × 4 of type int</caption>\n",
       "<tbody>\n",
       "\t<tr><td>1</td><td>4</td><td>7</td><td>10</td></tr>\n",
       "\t<tr><td>2</td><td>5</td><td>8</td><td>11</td></tr>\n",
       "\t<tr><td>3</td><td>6</td><td>9</td><td>12</td></tr>\n",
       "</tbody>\n",
       "</table>\n"
      ],
      "text/latex": [
       "A matrix: 3 × 4 of type int\n",
       "\\begin{tabular}{llll}\n",
       "\t 1 & 4 & 7 & 10\\\\\n",
       "\t 2 & 5 & 8 & 11\\\\\n",
       "\t 3 & 6 & 9 & 12\\\\\n",
       "\\end{tabular}\n"
      ],
      "text/markdown": [
       "\n",
       "A matrix: 3 × 4 of type int\n",
       "\n",
       "| 1 | 4 | 7 | 10 |\n",
       "| 2 | 5 | 8 | 11 |\n",
       "| 3 | 6 | 9 | 12 |\n",
       "\n"
      ],
      "text/plain": [
       "     [,1] [,2] [,3] [,4]\n",
       "[1,] 1    4    7    10  \n",
       "[2,] 2    5    8    11  \n",
       "[3,] 3    6    9    12  "
      ]
     },
     "metadata": {},
     "output_type": "display_data"
    }
   ],
   "source": [
    "x"
   ]
  },
  {
   "cell_type": "code",
   "execution_count": 223,
   "id": "c081588c-5cd8-4c28-8860-037e8a25410e",
   "metadata": {
    "tags": []
   },
   "outputs": [
    {
     "ename": "ERROR",
     "evalue": "Error in dim(x) = c(4, 4): dims [product 16] do not match the length of object [12]\n",
     "output_type": "error",
     "traceback": [
      "Error in dim(x) = c(4, 4): dims [product 16] do not match the length of object [12]\nTraceback:\n"
     ]
    }
   ],
   "source": [
    "dim(x) = c(4,4)"
   ]
  },
  {
   "cell_type": "markdown",
   "id": "483408e3-126c-4966-bfd4-7d0ee4712ac3",
   "metadata": {
    "tags": []
   },
   "source": [
    "### Matrix : Using Matrix() keyword"
   ]
  },
  {
   "cell_type": "code",
   "execution_count": 224,
   "id": "ef00b6fd-e899-4b76-9016-7c29ff6cc180",
   "metadata": {
    "tags": []
   },
   "outputs": [
    {
     "data": {
      "text/html": [
       "<table class=\"dataframe\">\n",
       "<caption>A matrix: 4 × 4 of type int</caption>\n",
       "<tbody>\n",
       "\t<tr><td>1</td><td>5</td><td> 9</td><td>13</td></tr>\n",
       "\t<tr><td>2</td><td>6</td><td>10</td><td>14</td></tr>\n",
       "\t<tr><td>3</td><td>7</td><td>11</td><td>15</td></tr>\n",
       "\t<tr><td>4</td><td>8</td><td>12</td><td>16</td></tr>\n",
       "</tbody>\n",
       "</table>\n"
      ],
      "text/latex": [
       "A matrix: 4 × 4 of type int\n",
       "\\begin{tabular}{llll}\n",
       "\t 1 & 5 &  9 & 13\\\\\n",
       "\t 2 & 6 & 10 & 14\\\\\n",
       "\t 3 & 7 & 11 & 15\\\\\n",
       "\t 4 & 8 & 12 & 16\\\\\n",
       "\\end{tabular}\n"
      ],
      "text/markdown": [
       "\n",
       "A matrix: 4 × 4 of type int\n",
       "\n",
       "| 1 | 5 |  9 | 13 |\n",
       "| 2 | 6 | 10 | 14 |\n",
       "| 3 | 7 | 11 | 15 |\n",
       "| 4 | 8 | 12 | 16 |\n",
       "\n"
      ],
      "text/plain": [
       "     [,1] [,2] [,3] [,4]\n",
       "[1,] 1    5     9   13  \n",
       "[2,] 2    6    10   14  \n",
       "[3,] 3    7    11   15  \n",
       "[4,] 4    8    12   16  "
      ]
     },
     "metadata": {},
     "output_type": "display_data"
    }
   ],
   "source": [
    "matrix(1:16,nrow = 4, ncol = 4, byrow = FALSE)"
   ]
  },
  {
   "cell_type": "code",
   "execution_count": 225,
   "id": "a4eff56a-4c37-4654-961e-e379172ed976",
   "metadata": {
    "tags": []
   },
   "outputs": [
    {
     "data": {
      "text/html": [
       "<table class=\"dataframe\">\n",
       "<caption>A matrix: 3 × 3 of type int</caption>\n",
       "<tbody>\n",
       "\t<tr><td>1</td><td>2</td><td>3</td></tr>\n",
       "\t<tr><td>4</td><td>5</td><td>6</td></tr>\n",
       "\t<tr><td>7</td><td>8</td><td>9</td></tr>\n",
       "</tbody>\n",
       "</table>\n"
      ],
      "text/latex": [
       "A matrix: 3 × 3 of type int\n",
       "\\begin{tabular}{lll}\n",
       "\t 1 & 2 & 3\\\\\n",
       "\t 4 & 5 & 6\\\\\n",
       "\t 7 & 8 & 9\\\\\n",
       "\\end{tabular}\n"
      ],
      "text/markdown": [
       "\n",
       "A matrix: 3 × 3 of type int\n",
       "\n",
       "| 1 | 2 | 3 |\n",
       "| 4 | 5 | 6 |\n",
       "| 7 | 8 | 9 |\n",
       "\n"
      ],
      "text/plain": [
       "     [,1] [,2] [,3]\n",
       "[1,] 1    2    3   \n",
       "[2,] 4    5    6   \n",
       "[3,] 7    8    9   "
      ]
     },
     "metadata": {},
     "output_type": "display_data"
    }
   ],
   "source": [
    "matrix(1:9, nrow = 3, ncol = 3, byrow = TRUE)"
   ]
  },
  {
   "cell_type": "markdown",
   "id": "a3f08c44-55d6-4585-8441-426996276e2e",
   "metadata": {
    "tags": []
   },
   "source": [
    "### Creating Matrix using Vectors"
   ]
  },
  {
   "cell_type": "code",
   "execution_count": 226,
   "id": "57461e04-c567-49f6-9efb-fc8f7f16786c",
   "metadata": {
    "tags": []
   },
   "outputs": [
    {
     "data": {
      "text/html": [
       "<table class=\"dataframe\">\n",
       "<caption>A matrix: 5 × 3 of type int</caption>\n",
       "<thead>\n",
       "\t<tr><th scope=col>A</th><th scope=col>B</th><th scope=col>D</th></tr>\n",
       "</thead>\n",
       "<tbody>\n",
       "\t<tr><td>1</td><td> 6</td><td>11</td></tr>\n",
       "\t<tr><td>2</td><td> 7</td><td>12</td></tr>\n",
       "\t<tr><td>3</td><td> 8</td><td>13</td></tr>\n",
       "\t<tr><td>4</td><td> 9</td><td>14</td></tr>\n",
       "\t<tr><td>5</td><td>10</td><td>15</td></tr>\n",
       "</tbody>\n",
       "</table>\n"
      ],
      "text/latex": [
       "A matrix: 5 × 3 of type int\n",
       "\\begin{tabular}{lll}\n",
       " A & B & D\\\\\n",
       "\\hline\n",
       "\t 1 &  6 & 11\\\\\n",
       "\t 2 &  7 & 12\\\\\n",
       "\t 3 &  8 & 13\\\\\n",
       "\t 4 &  9 & 14\\\\\n",
       "\t 5 & 10 & 15\\\\\n",
       "\\end{tabular}\n"
      ],
      "text/markdown": [
       "\n",
       "A matrix: 5 × 3 of type int\n",
       "\n",
       "| A | B | D |\n",
       "|---|---|---|\n",
       "| 1 |  6 | 11 |\n",
       "| 2 |  7 | 12 |\n",
       "| 3 |  8 | 13 |\n",
       "| 4 |  9 | 14 |\n",
       "| 5 | 10 | 15 |\n",
       "\n"
      ],
      "text/plain": [
       "     A B  D \n",
       "[1,] 1  6 11\n",
       "[2,] 2  7 12\n",
       "[3,] 3  8 13\n",
       "[4,] 4  9 14\n",
       "[5,] 5 10 15"
      ]
     },
     "metadata": {},
     "output_type": "display_data"
    }
   ],
   "source": [
    "cbind(A = 1:5, B = 6:10, D = 11:15)"
   ]
  },
  {
   "cell_type": "code",
   "execution_count": 227,
   "id": "4b98b739-9d10-4e60-991a-b1bfb2956615",
   "metadata": {
    "tags": []
   },
   "outputs": [
    {
     "data": {
      "text/html": [
       "<table class=\"dataframe\">\n",
       "<caption>A matrix: 3 × 3 of type int</caption>\n",
       "<tbody>\n",
       "\t<tr><th scope=row>a</th><td>1</td><td>2</td><td>3</td></tr>\n",
       "\t<tr><th scope=row>b</th><td>4</td><td>5</td><td>6</td></tr>\n",
       "\t<tr><th scope=row>c</th><td>7</td><td>8</td><td>9</td></tr>\n",
       "</tbody>\n",
       "</table>\n"
      ],
      "text/latex": [
       "A matrix: 3 × 3 of type int\n",
       "\\begin{tabular}{r|lll}\n",
       "\ta & 1 & 2 & 3\\\\\n",
       "\tb & 4 & 5 & 6\\\\\n",
       "\tc & 7 & 8 & 9\\\\\n",
       "\\end{tabular}\n"
      ],
      "text/markdown": [
       "\n",
       "A matrix: 3 × 3 of type int\n",
       "\n",
       "| a | 1 | 2 | 3 |\n",
       "| b | 4 | 5 | 6 |\n",
       "| c | 7 | 8 | 9 |\n",
       "\n"
      ],
      "text/plain": [
       "  [,1] [,2] [,3]\n",
       "a 1    2    3   \n",
       "b 4    5    6   \n",
       "c 7    8    9   "
      ]
     },
     "metadata": {},
     "output_type": "display_data"
    }
   ],
   "source": [
    "rbind(a = 1:3, b = 4:6, c = 7:9)"
   ]
  },
  {
   "cell_type": "code",
   "execution_count": 228,
   "id": "1fda628f-a67f-4b4d-a2f8-a32acc826966",
   "metadata": {
    "collapsed": true,
    "jupyter": {
     "outputs_hidden": true
    },
    "tags": []
   },
   "outputs": [
    {
     "data": {
      "text/html": [
       "\n",
       "<table style=\"width: 100%;\"><tr><td>array {base}</td><td style=\"text-align: right;\">R Documentation</td></tr></table>\n",
       "\n",
       "<h2>Multi-way Arrays</h2>\n",
       "\n",
       "<h3>Description</h3>\n",
       "\n",
       "<p>Creates or tests for arrays.\n",
       "</p>\n",
       "\n",
       "\n",
       "<h3>Usage</h3>\n",
       "\n",
       "<pre><code class='language-R'>array(data = NA, dim = length(data), dimnames = NULL)\n",
       "as.array(x, ...)\n",
       "is.array(x)\n",
       "</code></pre>\n",
       "\n",
       "\n",
       "<h3>Arguments</h3>\n",
       "\n",
       "<table>\n",
       "<tr style=\"vertical-align: top;\"><td><code>data</code></td>\n",
       "<td>\n",
       "<p>a vector (including a list or <code>expression</code>\n",
       "vector) giving data to fill the array.  Non-atomic classed objects\n",
       "are coerced by <code>as.vector</code>.</p>\n",
       "</td></tr>\n",
       "<tr style=\"vertical-align: top;\"><td><code>dim</code></td>\n",
       "<td>\n",
       "<p>the dim attribute for the array to be created, that is an\n",
       "integer vector of length one or more giving the maximal indices in\n",
       "each dimension.</p>\n",
       "</td></tr>\n",
       "<tr style=\"vertical-align: top;\"><td><code>dimnames</code></td>\n",
       "<td>\n",
       "<p>either <code>NULL</code> or the names for the dimensions.\n",
       "This must be a list (or it will be ignored) with one component for each\n",
       "dimension, either <code>NULL</code> or a character vector of the length\n",
       "given by <code>dim</code> for that dimension.  The list can be named, and\n",
       "the list names will be used as names for the dimensions.  If the\n",
       "list is shorter than the number of dimensions, it is extended by\n",
       "<code>NULL</code>s to the length required.</p>\n",
       "</td></tr>\n",
       "<tr style=\"vertical-align: top;\"><td><code>x</code></td>\n",
       "<td>\n",
       "<p>an <span style=\"font-family: Courier New, Courier; color: #666666;\"><b>R</b></span> object.</p>\n",
       "</td></tr>\n",
       "<tr style=\"vertical-align: top;\"><td><code>...</code></td>\n",
       "<td>\n",
       "<p>additional arguments to be passed to or from methods.</p>\n",
       "</td></tr>\n",
       "</table>\n",
       "\n",
       "\n",
       "<h3>Details</h3>\n",
       "\n",
       "<p>An array in <span style=\"font-family: Courier New, Courier; color: #666666;\"><b>R</b></span> can have one, two or more dimensions.  It is simply a\n",
       "vector which is stored with additional attributes giving the\n",
       "dimensions (attribute <code>\"dim\"</code>) and optionally names for those\n",
       "dimensions (attribute <code>\"dimnames\"</code>).\n",
       "</p>\n",
       "<p>A two-dimensional array is the same thing as a <code>matrix</code>.\n",
       "</p>\n",
       "<p>One-dimensional arrays often look like vectors, but may be handled\n",
       "differently by some functions: <code>str</code> does distinguish\n",
       "them in recent versions of <span style=\"font-family: Courier New, Courier; color: #666666;\"><b>R</b></span>.\n",
       "</p>\n",
       "<p>The <code>\"dim\"</code> attribute is an integer vector of length one or more\n",
       "containing non-negative values: the product of the values must match\n",
       "the length of the array.\n",
       "</p>\n",
       "<p>The <code>\"dimnames\"</code> attribute is optional: if present it is a list\n",
       "with one component for each dimension, either <code>NULL</code> or a\n",
       "character vector of the length given by the element of the\n",
       "<code>\"dim\"</code> attribute for that dimension.\n",
       "</p>\n",
       "<p><code>is.array</code> is a primitive function.\n",
       "</p>\n",
       "<p>For a list array, the <code>print</code> methods prints entries of length\n",
       "not one in the form &lsquo;<span class=\"samp\">&#8288;integer,7&#8288;</span>&rsquo; indicating the type and length.\n",
       "</p>\n",
       "\n",
       "\n",
       "<h3>Value</h3>\n",
       "\n",
       "<p><code>array</code> returns an array with the extents specified in <code>dim</code>\n",
       "and naming information in <code>dimnames</code>.  The values in <code>data</code> are\n",
       "taken to be those in the array with the leftmost subscript moving\n",
       "fastest.  If there are too few elements in <code>data</code> to fill the array,\n",
       "then the elements in <code>data</code> are recycled.  If <code>data</code> has\n",
       "length zero, <code>NA</code> of an appropriate type is used for atomic\n",
       "vectors (<code>0</code> for raw vectors) and <code>NULL</code> for lists.\n",
       "</p>\n",
       "<p>Unlike <code>matrix</code>, <code>array</code> does not currently remove\n",
       "any attributes left by <code>as.vector</code> from a classed list\n",
       "<code>data</code>, so can return a list array with a class attribute.\n",
       "</p>\n",
       "<p><code>as.array</code> is a generic function for coercing to arrays.  The\n",
       "default method does so by attaching a <code>dim</code> attribute to\n",
       "it.  It also attaches <code>dimnames</code> if <code>x</code> has\n",
       "<code>names</code>.  The sole purpose of this is to make it possible\n",
       "to access the <code>dim[names]</code> attribute at a later time.\n",
       "</p>\n",
       "<p><code>is.array</code> returns <code>TRUE</code> or <code>FALSE</code> depending on\n",
       "whether its argument is an array (i.e., has a <code>dim</code> attribute of\n",
       "positive length) or not.  It is generic: you can write methods to handle\n",
       "specific classes of objects, see InternalMethods.\n",
       "</p>\n",
       "\n",
       "\n",
       "<h3>Note</h3>\n",
       "\n",
       "<p><code>is.array</code> is a primitive function.\n",
       "</p>\n",
       "\n",
       "\n",
       "<h3>References</h3>\n",
       "\n",
       "<p>Becker, R. A., Chambers, J. M. and Wilks, A. R. (1988)\n",
       "<em>The New S Language</em>.\n",
       "Wadsworth &amp; Brooks/Cole.\n",
       "</p>\n",
       "\n",
       "\n",
       "<h3>See Also</h3>\n",
       "\n",
       "<p><code>aperm</code>, <code>matrix</code>,\n",
       "<code>dim</code>, <code>dimnames</code>.\n",
       "</p>\n",
       "\n",
       "\n",
       "<h3>Examples</h3>\n",
       "\n",
       "<pre><code class='language-R'>dim(as.array(letters))\n",
       "array(1:3, c(2,4)) # recycle 1:3 \"2 2/3 times\"\n",
       "#     [,1] [,2] [,3] [,4]\n",
       "#[1,]    1    3    2    1\n",
       "#[2,]    2    1    3    2\n",
       "</code></pre>\n",
       "\n",
       "<hr /><div style=\"text-align: center;\">[Package <em>base</em> version 4.2.1 ]</div>\n",
       "</div>"
      ],
      "text/latex": [
       "\\inputencoding{utf8}\n",
       "\\HeaderA{array}{Multi-way Arrays}{array}\n",
       "\\aliasA{as.array}{array}{as.array}\n",
       "\\methaliasA{as.array.default}{array}{as.array.default}\n",
       "\\aliasA{is.array}{array}{is.array}\n",
       "\\keyword{array}{array}\n",
       "%\n",
       "\\begin{Description}\\relax\n",
       "Creates or tests for arrays.\n",
       "\\end{Description}\n",
       "%\n",
       "\\begin{Usage}\n",
       "\\begin{verbatim}\n",
       "array(data = NA, dim = length(data), dimnames = NULL)\n",
       "as.array(x, ...)\n",
       "is.array(x)\n",
       "\\end{verbatim}\n",
       "\\end{Usage}\n",
       "%\n",
       "\\begin{Arguments}\n",
       "\\begin{ldescription}\n",
       "\\item[\\code{data}] a vector (including a list or \\code{\\LinkA{expression}{expression}}\n",
       "vector) giving data to fill the array.  Non-atomic classed objects\n",
       "are coerced by \\code{\\LinkA{as.vector}{as.vector}}.\n",
       "\\item[\\code{dim}] the dim attribute for the array to be created, that is an\n",
       "integer vector of length one or more giving the maximal indices in\n",
       "each dimension.\n",
       "\\item[\\code{dimnames}] either \\code{NULL} or the names for the dimensions.\n",
       "This must be a list (or it will be ignored) with one component for each\n",
       "dimension, either \\code{NULL} or a character vector of the length\n",
       "given by \\code{dim} for that dimension.  The list can be named, and\n",
       "the list names will be used as names for the dimensions.  If the\n",
       "list is shorter than the number of dimensions, it is extended by\n",
       "\\code{NULL}s to the length required.\n",
       "\\item[\\code{x}] an \\R{} object.\n",
       "\\item[\\code{...}] additional arguments to be passed to or from methods.\n",
       "\\end{ldescription}\n",
       "\\end{Arguments}\n",
       "%\n",
       "\\begin{Details}\\relax\n",
       "An array in \\R{} can have one, two or more dimensions.  It is simply a\n",
       "vector which is stored with additional \\LinkA{attributes}{attributes} giving the\n",
       "dimensions (attribute \\code{\"dim\"}) and optionally names for those\n",
       "dimensions (attribute \\code{\"dimnames\"}).\n",
       "\n",
       "A two-dimensional array is the same thing as a \\code{\\LinkA{matrix}{matrix}}.\n",
       "\n",
       "One-dimensional arrays often look like vectors, but may be handled\n",
       "differently by some functions: \\code{\\LinkA{str}{str}} does distinguish\n",
       "them in recent versions of \\R{}.\n",
       "\n",
       "The \\code{\"dim\"} attribute is an integer vector of length one or more\n",
       "containing non-negative values: the product of the values must match\n",
       "the length of the array.\n",
       "\n",
       "The \\code{\"dimnames\"} attribute is optional: if present it is a list\n",
       "with one component for each dimension, either \\code{NULL} or a\n",
       "character vector of the length given by the element of the\n",
       "\\code{\"dim\"} attribute for that dimension.\n",
       "\n",
       "\\code{is.array} is a \\LinkA{primitive}{primitive} function.\n",
       "\n",
       "For a list array, the \\code{print} methods prints entries of length\n",
       "not one in the form \\samp{integer,7} indicating the type and length.\n",
       "\\end{Details}\n",
       "%\n",
       "\\begin{Value}\n",
       "\\code{array} returns an array with the extents specified in \\code{dim}\n",
       "and naming information in \\code{dimnames}.  The values in \\code{data} are\n",
       "taken to be those in the array with the leftmost subscript moving\n",
       "fastest.  If there are too few elements in \\code{data} to fill the array,\n",
       "then the elements in \\code{data} are recycled.  If \\code{data} has\n",
       "length zero, \\code{NA} of an appropriate type is used for atomic\n",
       "vectors (\\code{0} for raw vectors) and \\code{NULL} for lists.\n",
       "\n",
       "Unlike \\code{\\LinkA{matrix}{matrix}}, \\code{array} does not currently remove\n",
       "any attributes left by \\code{as.vector} from a classed list\n",
       "\\code{data}, so can return a list array with a class attribute.\n",
       "\n",
       "\\code{as.array} is a generic function for coercing to arrays.  The\n",
       "default method does so by attaching a \\code{\\LinkA{dim}{dim}} attribute to\n",
       "it.  It also attaches \\code{\\LinkA{dimnames}{dimnames}} if \\code{x} has\n",
       "\\code{\\LinkA{names}{names}}.  The sole purpose of this is to make it possible\n",
       "to access the \\code{dim[names]} attribute at a later time.\n",
       "\n",
       "\\code{is.array} returns \\code{TRUE} or \\code{FALSE} depending on\n",
       "whether its argument is an array (i.e., has a \\code{dim} attribute of\n",
       "positive length) or not.  It is generic: you can write methods to handle\n",
       "specific classes of objects, see \\LinkA{InternalMethods}{InternalMethods}.\n",
       "\\end{Value}\n",
       "%\n",
       "\\begin{Note}\\relax\n",
       "\\code{is.array} is a \\LinkA{primitive}{primitive} function.\n",
       "\\end{Note}\n",
       "%\n",
       "\\begin{References}\\relax\n",
       "Becker, R. A., Chambers, J. M. and Wilks, A. R. (1988)\n",
       "\\emph{The New S Language}.\n",
       "Wadsworth \\& Brooks/Cole.\n",
       "\\end{References}\n",
       "%\n",
       "\\begin{SeeAlso}\\relax\n",
       "\\code{\\LinkA{aperm}{aperm}}, \\code{\\LinkA{matrix}{matrix}},\n",
       "\\code{\\LinkA{dim}{dim}}, \\code{\\LinkA{dimnames}{dimnames}}.\n",
       "\\end{SeeAlso}\n",
       "%\n",
       "\\begin{Examples}\n",
       "\\begin{ExampleCode}\n",
       "dim(as.array(letters))\n",
       "array(1:3, c(2,4)) # recycle 1:3 \"2 2/3 times\"\n",
       "#     [,1] [,2] [,3] [,4]\n",
       "#[1,]    1    3    2    1\n",
       "#[2,]    2    1    3    2\n",
       "\\end{ExampleCode}\n",
       "\\end{Examples}"
      ],
      "text/plain": [
       "array                   package:base                   R Documentation\n",
       "\n",
       "_\bM_\bu_\bl_\bt_\bi-_\bw_\ba_\by _\bA_\br_\br_\ba_\by_\bs\n",
       "\n",
       "_\bD_\be_\bs_\bc_\br_\bi_\bp_\bt_\bi_\bo_\bn:\n",
       "\n",
       "     Creates or tests for arrays.\n",
       "\n",
       "_\bU_\bs_\ba_\bg_\be:\n",
       "\n",
       "     array(data = NA, dim = length(data), dimnames = NULL)\n",
       "     as.array(x, ...)\n",
       "     is.array(x)\n",
       "     \n",
       "_\bA_\br_\bg_\bu_\bm_\be_\bn_\bt_\bs:\n",
       "\n",
       "    data: a vector (including a list or ‘expression’ vector) giving\n",
       "          data to fill the array.  Non-atomic classed objects are\n",
       "          coerced by ‘as.vector’.\n",
       "\n",
       "     dim: the dim attribute for the array to be created, that is an\n",
       "          integer vector of length one or more giving the maximal\n",
       "          indices in each dimension.\n",
       "\n",
       "dimnames: either ‘NULL’ or the names for the dimensions.  This must be\n",
       "          a list (or it will be ignored) with one component for each\n",
       "          dimension, either ‘NULL’ or a character vector of the length\n",
       "          given by ‘dim’ for that dimension.  The list can be named,\n",
       "          and the list names will be used as names for the dimensions.\n",
       "          If the list is shorter than the number of dimensions, it is\n",
       "          extended by ‘NULL’s to the length required.\n",
       "\n",
       "       x: an R object.\n",
       "\n",
       "     ...: additional arguments to be passed to or from methods.\n",
       "\n",
       "_\bD_\be_\bt_\ba_\bi_\bl_\bs:\n",
       "\n",
       "     An array in R can have one, two or more dimensions.  It is simply\n",
       "     a vector which is stored with additional attributes giving the\n",
       "     dimensions (attribute ‘\"dim\"’) and optionally names for those\n",
       "     dimensions (attribute ‘\"dimnames\"’).\n",
       "\n",
       "     A two-dimensional array is the same thing as a ‘matrix’.\n",
       "\n",
       "     One-dimensional arrays often look like vectors, but may be handled\n",
       "     differently by some functions: ‘str’ does distinguish them in\n",
       "     recent versions of R.\n",
       "\n",
       "     The ‘\"dim\"’ attribute is an integer vector of length one or more\n",
       "     containing non-negative values: the product of the values must\n",
       "     match the length of the array.\n",
       "\n",
       "     The ‘\"dimnames\"’ attribute is optional: if present it is a list\n",
       "     with one component for each dimension, either ‘NULL’ or a\n",
       "     character vector of the length given by the element of the ‘\"dim\"’\n",
       "     attribute for that dimension.\n",
       "\n",
       "     ‘is.array’ is a primitive function.\n",
       "\n",
       "     For a list array, the ‘print’ methods prints entries of length not\n",
       "     one in the form ‘integer,7’ indicating the type and length.\n",
       "\n",
       "_\bV_\ba_\bl_\bu_\be:\n",
       "\n",
       "     ‘array’ returns an array with the extents specified in ‘dim’ and\n",
       "     naming information in ‘dimnames’.  The values in ‘data’ are taken\n",
       "     to be those in the array with the leftmost subscript moving\n",
       "     fastest.  If there are too few elements in ‘data’ to fill the\n",
       "     array, then the elements in ‘data’ are recycled.  If ‘data’ has\n",
       "     length zero, ‘NA’ of an appropriate type is used for atomic\n",
       "     vectors (‘0’ for raw vectors) and ‘NULL’ for lists.\n",
       "\n",
       "     Unlike ‘matrix’, ‘array’ does not currently remove any attributes\n",
       "     left by ‘as.vector’ from a classed list ‘data’, so can return a\n",
       "     list array with a class attribute.\n",
       "\n",
       "     ‘as.array’ is a generic function for coercing to arrays.  The\n",
       "     default method does so by attaching a ‘dim’ attribute to it.  It\n",
       "     also attaches ‘dimnames’ if ‘x’ has ‘names’.  The sole purpose of\n",
       "     this is to make it possible to access the ‘dim[names]’ attribute\n",
       "     at a later time.\n",
       "\n",
       "     ‘is.array’ returns ‘TRUE’ or ‘FALSE’ depending on whether its\n",
       "     argument is an array (i.e., has a ‘dim’ attribute of positive\n",
       "     length) or not.  It is generic: you can write methods to handle\n",
       "     specific classes of objects, see InternalMethods.\n",
       "\n",
       "_\bN_\bo_\bt_\be:\n",
       "\n",
       "     ‘is.array’ is a primitive function.\n",
       "\n",
       "_\bR_\be_\bf_\be_\br_\be_\bn_\bc_\be_\bs:\n",
       "\n",
       "     Becker, R. A., Chambers, J. M. and Wilks, A. R. (1988) _The New S\n",
       "     Language_.  Wadsworth & Brooks/Cole.\n",
       "\n",
       "_\bS_\be_\be _\bA_\bl_\bs_\bo:\n",
       "\n",
       "     ‘aperm’, ‘matrix’, ‘dim’, ‘dimnames’.\n",
       "\n",
       "_\bE_\bx_\ba_\bm_\bp_\bl_\be_\bs:\n",
       "\n",
       "     dim(as.array(letters))\n",
       "     array(1:3, c(2,4)) # recycle 1:3 \"2 2/3 times\"\n",
       "     #     [,1] [,2] [,3] [,4]\n",
       "     #[1,]    1    3    2    1\n",
       "     #[2,]    2    1    3    2\n",
       "     "
      ]
     },
     "metadata": {},
     "output_type": "display_data"
    }
   ],
   "source": [
    "help(array)"
   ]
  },
  {
   "cell_type": "markdown",
   "id": "ecdb63ef-da11-440e-90a5-d7d2d304c7df",
   "metadata": {
    "tags": []
   },
   "source": [
    "### Subsetting a matrix : Extracting the elements of Matrix"
   ]
  },
  {
   "cell_type": "code",
   "execution_count": 229,
   "id": "ca23dee8-ac23-43e9-98f6-0aec9756c271",
   "metadata": {
    "tags": []
   },
   "outputs": [],
   "source": [
    "X = matrix(c(1,3,5,7,9,11,13,15,17), ncol = 3)"
   ]
  },
  {
   "cell_type": "code",
   "execution_count": 230,
   "id": "ea71ff4c-f668-4620-8f2d-e8d5e88ec64f",
   "metadata": {
    "tags": []
   },
   "outputs": [
    {
     "data": {
      "text/html": [
       "<table class=\"dataframe\">\n",
       "<caption>A matrix: 3 × 3 of type dbl</caption>\n",
       "<tbody>\n",
       "\t<tr><td>1</td><td> 7</td><td>13</td></tr>\n",
       "\t<tr><td>3</td><td> 9</td><td>15</td></tr>\n",
       "\t<tr><td>5</td><td>11</td><td>17</td></tr>\n",
       "</tbody>\n",
       "</table>\n"
      ],
      "text/latex": [
       "A matrix: 3 × 3 of type dbl\n",
       "\\begin{tabular}{lll}\n",
       "\t 1 &  7 & 13\\\\\n",
       "\t 3 &  9 & 15\\\\\n",
       "\t 5 & 11 & 17\\\\\n",
       "\\end{tabular}\n"
      ],
      "text/markdown": [
       "\n",
       "A matrix: 3 × 3 of type dbl\n",
       "\n",
       "| 1 |  7 | 13 |\n",
       "| 3 |  9 | 15 |\n",
       "| 5 | 11 | 17 |\n",
       "\n"
      ],
      "text/plain": [
       "     [,1] [,2] [,3]\n",
       "[1,] 1     7   13  \n",
       "[2,] 3     9   15  \n",
       "[3,] 5    11   17  "
      ]
     },
     "metadata": {},
     "output_type": "display_data"
    }
   ],
   "source": [
    "X"
   ]
  },
  {
   "cell_type": "code",
   "execution_count": 231,
   "id": "22f7341b-a111-416f-b63d-ced04bf7173e",
   "metadata": {
    "tags": []
   },
   "outputs": [
    {
     "data": {
      "text/html": [
       "7"
      ],
      "text/latex": [
       "7"
      ],
      "text/markdown": [
       "7"
      ],
      "text/plain": [
       "[1] 7"
      ]
     },
     "metadata": {},
     "output_type": "display_data"
    }
   ],
   "source": [
    "X[1,2]"
   ]
  },
  {
   "cell_type": "code",
   "execution_count": 232,
   "id": "32b5e976-51f6-406d-acb3-f275fe64ea55",
   "metadata": {
    "tags": []
   },
   "outputs": [
    {
     "data": {
      "text/html": [
       "17"
      ],
      "text/latex": [
       "17"
      ],
      "text/markdown": [
       "17"
      ],
      "text/plain": [
       "[1] 17"
      ]
     },
     "metadata": {},
     "output_type": "display_data"
    }
   ],
   "source": [
    "X[3,3]"
   ]
  },
  {
   "cell_type": "code",
   "execution_count": 233,
   "id": "df2a23a7-b522-4753-9af7-c4d144da5670",
   "metadata": {
    "tags": []
   },
   "outputs": [
    {
     "data": {
      "text/html": [
       "5"
      ],
      "text/latex": [
       "5"
      ],
      "text/markdown": [
       "5"
      ],
      "text/plain": [
       "[1] 5"
      ]
     },
     "metadata": {},
     "output_type": "display_data"
    }
   ],
   "source": [
    "X[3,1]"
   ]
  },
  {
   "cell_type": "markdown",
   "id": "c7027c0f-88a0-4e25-82aa-3bd8ee711d84",
   "metadata": {
    "tags": []
   },
   "source": [
    "### Matrix Operation"
   ]
  },
  {
   "cell_type": "code",
   "execution_count": 234,
   "id": "37449c38-52c7-44df-8cac-6f55a4db5471",
   "metadata": {
    "tags": []
   },
   "outputs": [
    {
     "data": {
      "text/html": [
       "<table class=\"dataframe\">\n",
       "<caption>A matrix: 3 × 3 of type dbl</caption>\n",
       "<tbody>\n",
       "\t<tr><td>1</td><td> 7</td><td>13</td></tr>\n",
       "\t<tr><td>3</td><td> 9</td><td>15</td></tr>\n",
       "\t<tr><td>5</td><td>11</td><td>17</td></tr>\n",
       "</tbody>\n",
       "</table>\n"
      ],
      "text/latex": [
       "A matrix: 3 × 3 of type dbl\n",
       "\\begin{tabular}{lll}\n",
       "\t 1 &  7 & 13\\\\\n",
       "\t 3 &  9 & 15\\\\\n",
       "\t 5 & 11 & 17\\\\\n",
       "\\end{tabular}\n"
      ],
      "text/markdown": [
       "\n",
       "A matrix: 3 × 3 of type dbl\n",
       "\n",
       "| 1 |  7 | 13 |\n",
       "| 3 |  9 | 15 |\n",
       "| 5 | 11 | 17 |\n",
       "\n"
      ],
      "text/plain": [
       "     [,1] [,2] [,3]\n",
       "[1,] 1     7   13  \n",
       "[2,] 3     9   15  \n",
       "[3,] 5    11   17  "
      ]
     },
     "metadata": {},
     "output_type": "display_data"
    }
   ],
   "source": [
    "X = matrix(c(1,3,5,7,9,11,13,15,17), ncol = 3)\n",
    "X"
   ]
  },
  {
   "cell_type": "code",
   "execution_count": 235,
   "id": "5d367984-719e-49c5-8749-ad332ff655ff",
   "metadata": {
    "tags": []
   },
   "outputs": [
    {
     "data": {
      "text/html": [
       "<table class=\"dataframe\">\n",
       "<caption>A matrix: 3 × 3 of type dbl</caption>\n",
       "<tbody>\n",
       "\t<tr><td>2</td><td> 8</td><td>14</td></tr>\n",
       "\t<tr><td>4</td><td>10</td><td>16</td></tr>\n",
       "\t<tr><td>6</td><td>12</td><td>18</td></tr>\n",
       "</tbody>\n",
       "</table>\n"
      ],
      "text/latex": [
       "A matrix: 3 × 3 of type dbl\n",
       "\\begin{tabular}{lll}\n",
       "\t 2 &  8 & 14\\\\\n",
       "\t 4 & 10 & 16\\\\\n",
       "\t 6 & 12 & 18\\\\\n",
       "\\end{tabular}\n"
      ],
      "text/markdown": [
       "\n",
       "A matrix: 3 × 3 of type dbl\n",
       "\n",
       "| 2 |  8 | 14 |\n",
       "| 4 | 10 | 16 |\n",
       "| 6 | 12 | 18 |\n",
       "\n"
      ],
      "text/plain": [
       "     [,1] [,2] [,3]\n",
       "[1,] 2     8   14  \n",
       "[2,] 4    10   16  \n",
       "[3,] 6    12   18  "
      ]
     },
     "metadata": {},
     "output_type": "display_data"
    }
   ],
   "source": [
    "Y = matrix(c(2,4,6,8,10,12,14,16,18), ncol = 3)\n",
    "Y"
   ]
  },
  {
   "cell_type": "code",
   "execution_count": 236,
   "id": "440e694c-a78d-45f6-a628-0287333d5148",
   "metadata": {
    "tags": []
   },
   "outputs": [
    {
     "data": {
      "text/html": [
       "<table class=\"dataframe\">\n",
       "<caption>A matrix: 3 × 3 of type dbl</caption>\n",
       "<tbody>\n",
       "\t<tr><td> 3</td><td>15</td><td>27</td></tr>\n",
       "\t<tr><td> 7</td><td>19</td><td>31</td></tr>\n",
       "\t<tr><td>11</td><td>23</td><td>35</td></tr>\n",
       "</tbody>\n",
       "</table>\n"
      ],
      "text/latex": [
       "A matrix: 3 × 3 of type dbl\n",
       "\\begin{tabular}{lll}\n",
       "\t  3 & 15 & 27\\\\\n",
       "\t  7 & 19 & 31\\\\\n",
       "\t 11 & 23 & 35\\\\\n",
       "\\end{tabular}\n"
      ],
      "text/markdown": [
       "\n",
       "A matrix: 3 × 3 of type dbl\n",
       "\n",
       "|  3 | 15 | 27 |\n",
       "|  7 | 19 | 31 |\n",
       "| 11 | 23 | 35 |\n",
       "\n"
      ],
      "text/plain": [
       "     [,1] [,2] [,3]\n",
       "[1,]  3   15   27  \n",
       "[2,]  7   19   31  \n",
       "[3,] 11   23   35  "
      ]
     },
     "metadata": {},
     "output_type": "display_data"
    }
   ],
   "source": [
    "X+Y #Addition of two matrices"
   ]
  },
  {
   "cell_type": "code",
   "execution_count": 237,
   "id": "ac3ca87b-0fc8-4383-afe3-024a65e1f3d5",
   "metadata": {
    "tags": []
   },
   "outputs": [
    {
     "data": {
      "text/html": [
       "<table class=\"dataframe\">\n",
       "<caption>A matrix: 3 × 3 of type dbl</caption>\n",
       "<tbody>\n",
       "\t<tr><td>1</td><td>1</td><td>1</td></tr>\n",
       "\t<tr><td>1</td><td>1</td><td>1</td></tr>\n",
       "\t<tr><td>1</td><td>1</td><td>1</td></tr>\n",
       "</tbody>\n",
       "</table>\n"
      ],
      "text/latex": [
       "A matrix: 3 × 3 of type dbl\n",
       "\\begin{tabular}{lll}\n",
       "\t 1 & 1 & 1\\\\\n",
       "\t 1 & 1 & 1\\\\\n",
       "\t 1 & 1 & 1\\\\\n",
       "\\end{tabular}\n"
      ],
      "text/markdown": [
       "\n",
       "A matrix: 3 × 3 of type dbl\n",
       "\n",
       "| 1 | 1 | 1 |\n",
       "| 1 | 1 | 1 |\n",
       "| 1 | 1 | 1 |\n",
       "\n"
      ],
      "text/plain": [
       "     [,1] [,2] [,3]\n",
       "[1,] 1    1    1   \n",
       "[2,] 1    1    1   \n",
       "[3,] 1    1    1   "
      ]
     },
     "metadata": {},
     "output_type": "display_data"
    }
   ],
   "source": [
    "Y-X #Subtraction of Matrices"
   ]
  },
  {
   "cell_type": "code",
   "execution_count": 238,
   "id": "fa2b6969-ca3d-4eec-acd0-a7a42795b3a4",
   "metadata": {
    "tags": []
   },
   "outputs": [
    {
     "data": {
      "text/html": [
       "<table class=\"dataframe\">\n",
       "<caption>A matrix: 3 × 3 of type dbl</caption>\n",
       "<tbody>\n",
       "\t<tr><td> 2</td><td> 56</td><td>182</td></tr>\n",
       "\t<tr><td>12</td><td> 90</td><td>240</td></tr>\n",
       "\t<tr><td>30</td><td>132</td><td>306</td></tr>\n",
       "</tbody>\n",
       "</table>\n"
      ],
      "text/latex": [
       "A matrix: 3 × 3 of type dbl\n",
       "\\begin{tabular}{lll}\n",
       "\t  2 &  56 & 182\\\\\n",
       "\t 12 &  90 & 240\\\\\n",
       "\t 30 & 132 & 306\\\\\n",
       "\\end{tabular}\n"
      ],
      "text/markdown": [
       "\n",
       "A matrix: 3 × 3 of type dbl\n",
       "\n",
       "|  2 |  56 | 182 |\n",
       "| 12 |  90 | 240 |\n",
       "| 30 | 132 | 306 |\n",
       "\n"
      ],
      "text/plain": [
       "     [,1] [,2] [,3]\n",
       "[1,]  2    56  182 \n",
       "[2,] 12    90  240 \n",
       "[3,] 30   132  306 "
      ]
     },
     "metadata": {},
     "output_type": "display_data"
    }
   ],
   "source": [
    "X*Y"
   ]
  },
  {
   "cell_type": "code",
   "execution_count": 239,
   "id": "96afd864-e18a-4b58-8488-d71c01fafe71",
   "metadata": {
    "tags": []
   },
   "outputs": [
    {
     "data": {
      "text/html": [
       "<style>\n",
       ".list-inline {list-style: none; margin:0; padding: 0}\n",
       ".list-inline>li {display: inline-block}\n",
       ".list-inline>li:not(:last-child)::after {content: \"\\00b7\"; padding: 0 .5ex}\n",
       "</style>\n",
       "<ol class=list-inline><li>21</li><li>27</li><li>33</li></ol>\n"
      ],
      "text/latex": [
       "\\begin{enumerate*}\n",
       "\\item 21\n",
       "\\item 27\n",
       "\\item 33\n",
       "\\end{enumerate*}\n"
      ],
      "text/markdown": [
       "1. 21\n",
       "2. 27\n",
       "3. 33\n",
       "\n",
       "\n"
      ],
      "text/plain": [
       "[1] 21 27 33"
      ]
     },
     "metadata": {},
     "output_type": "display_data"
    }
   ],
   "source": [
    "rowSums(X)"
   ]
  },
  {
   "cell_type": "code",
   "execution_count": 240,
   "id": "2b83da8e-1611-4052-ad7c-3e051ceb960b",
   "metadata": {
    "tags": []
   },
   "outputs": [
    {
     "data": {
      "text/html": [
       "<style>\n",
       ".list-inline {list-style: none; margin:0; padding: 0}\n",
       ".list-inline>li {display: inline-block}\n",
       ".list-inline>li:not(:last-child)::after {content: \"\\00b7\"; padding: 0 .5ex}\n",
       "</style>\n",
       "<ol class=list-inline><li>8</li><li>10</li><li>12</li></ol>\n"
      ],
      "text/latex": [
       "\\begin{enumerate*}\n",
       "\\item 8\n",
       "\\item 10\n",
       "\\item 12\n",
       "\\end{enumerate*}\n"
      ],
      "text/markdown": [
       "1. 8\n",
       "2. 10\n",
       "3. 12\n",
       "\n",
       "\n"
      ],
      "text/plain": [
       "[1]  8 10 12"
      ]
     },
     "metadata": {},
     "output_type": "display_data"
    }
   ],
   "source": [
    "rowMeans(Y)"
   ]
  },
  {
   "cell_type": "code",
   "execution_count": 241,
   "id": "3ba3817c-0e4b-4f31-b982-c3ce99c44a91",
   "metadata": {
    "tags": []
   },
   "outputs": [
    {
     "data": {
      "text/html": [
       "<style>\n",
       ".list-inline {list-style: none; margin:0; padding: 0}\n",
       ".list-inline>li {display: inline-block}\n",
       ".list-inline>li:not(:last-child)::after {content: \"\\00b7\"; padding: 0 .5ex}\n",
       "</style>\n",
       "<ol class=list-inline><li>12</li><li>30</li><li>48</li></ol>\n"
      ],
      "text/latex": [
       "\\begin{enumerate*}\n",
       "\\item 12\n",
       "\\item 30\n",
       "\\item 48\n",
       "\\end{enumerate*}\n"
      ],
      "text/markdown": [
       "1. 12\n",
       "2. 30\n",
       "3. 48\n",
       "\n",
       "\n"
      ],
      "text/plain": [
       "[1] 12 30 48"
      ]
     },
     "metadata": {},
     "output_type": "display_data"
    }
   ],
   "source": [
    "colSums(Y)"
   ]
  },
  {
   "cell_type": "code",
   "execution_count": 242,
   "id": "dd66d292-2c70-4a9c-8ae5-7d3c52dfccff",
   "metadata": {
    "tags": []
   },
   "outputs": [
    {
     "data": {
      "text/html": [
       "<style>\n",
       ".list-inline {list-style: none; margin:0; padding: 0}\n",
       ".list-inline>li {display: inline-block}\n",
       ".list-inline>li:not(:last-child)::after {content: \"\\00b7\"; padding: 0 .5ex}\n",
       "</style>\n",
       "<ol class=list-inline><li>4</li><li>10</li><li>16</li></ol>\n"
      ],
      "text/latex": [
       "\\begin{enumerate*}\n",
       "\\item 4\n",
       "\\item 10\n",
       "\\item 16\n",
       "\\end{enumerate*}\n"
      ],
      "text/markdown": [
       "1. 4\n",
       "2. 10\n",
       "3. 16\n",
       "\n",
       "\n"
      ],
      "text/plain": [
       "[1]  4 10 16"
      ]
     },
     "metadata": {},
     "output_type": "display_data"
    }
   ],
   "source": [
    "colMeans(Y)"
   ]
  },
  {
   "cell_type": "markdown",
   "id": "a98dd1fa-bb56-4b35-bb50-3ddeadf08da8",
   "metadata": {
    "tags": []
   },
   "source": [
    "### Arrays"
   ]
  },
  {
   "cell_type": "code",
   "execution_count": 243,
   "id": "68c52f5b-9ade-4c8b-a943-fabefd222302",
   "metadata": {
    "tags": []
   },
   "outputs": [
    {
     "data": {
      "text/html": [
       "<style>\n",
       ".list-inline {list-style: none; margin:0; padding: 0}\n",
       ".list-inline>li {display: inline-block}\n",
       ".list-inline>li:not(:last-child)::after {content: \"\\00b7\"; padding: 0 .5ex}\n",
       "</style>\n",
       "<ol class=list-inline><li>0</li><li>1</li><li>2</li><li>3</li><li>4</li></ol>\n"
      ],
      "text/latex": [
       "\\begin{enumerate*}\n",
       "\\item 0\n",
       "\\item 1\n",
       "\\item 2\n",
       "\\item 3\n",
       "\\item 4\n",
       "\\end{enumerate*}\n"
      ],
      "text/markdown": [
       "1. 0\n",
       "2. 1\n",
       "3. 2\n",
       "4. 3\n",
       "5. 4\n",
       "\n",
       "\n"
      ],
      "text/plain": [
       ", , 1\n",
       "\n",
       "     [,1] [,2] [,3] [,4] [,5]\n",
       "[1,]    0    1    2    3    4\n"
      ]
     },
     "metadata": {},
     "output_type": "display_data"
    }
   ],
   "source": [
    "array(c(0:9), dim = c(1,5,1))"
   ]
  },
  {
   "cell_type": "code",
   "execution_count": 244,
   "id": "b367ba5d-3a51-4945-a0cf-adb92cf16aa9",
   "metadata": {
    "tags": []
   },
   "outputs": [
    {
     "data": {
      "text/html": [
       "<style>\n",
       ".list-inline {list-style: none; margin:0; padding: 0}\n",
       ".list-inline>li {display: inline-block}\n",
       ".list-inline>li:not(:last-child)::after {content: \"\\00b7\"; padding: 0 .5ex}\n",
       "</style>\n",
       "<ol class=list-inline><li>0</li><li>1</li><li>2</li><li>3</li><li>4</li><li>5</li><li>6</li><li>7</li><li>8</li><li>9</li><li>0</li><li>1</li><li>2</li><li>3</li><li>4</li><li>5</li><li>6</li><li>7</li><li>8</li><li>9</li></ol>\n"
      ],
      "text/latex": [
       "\\begin{enumerate*}\n",
       "\\item 0\n",
       "\\item 1\n",
       "\\item 2\n",
       "\\item 3\n",
       "\\item 4\n",
       "\\item 5\n",
       "\\item 6\n",
       "\\item 7\n",
       "\\item 8\n",
       "\\item 9\n",
       "\\item 0\n",
       "\\item 1\n",
       "\\item 2\n",
       "\\item 3\n",
       "\\item 4\n",
       "\\item 5\n",
       "\\item 6\n",
       "\\item 7\n",
       "\\item 8\n",
       "\\item 9\n",
       "\\end{enumerate*}\n"
      ],
      "text/markdown": [
       "1. 0\n",
       "2. 1\n",
       "3. 2\n",
       "4. 3\n",
       "5. 4\n",
       "6. 5\n",
       "7. 6\n",
       "8. 7\n",
       "9. 8\n",
       "10. 9\n",
       "11. 0\n",
       "12. 1\n",
       "13. 2\n",
       "14. 3\n",
       "15. 4\n",
       "16. 5\n",
       "17. 6\n",
       "18. 7\n",
       "19. 8\n",
       "20. 9\n",
       "\n",
       "\n"
      ],
      "text/plain": [
       ", , 1\n",
       "\n",
       "     [,1] [,2] [,3] [,4] [,5]\n",
       "[1,]    0    2    4    6    8\n",
       "[2,]    1    3    5    7    9\n",
       "\n",
       ", , 2\n",
       "\n",
       "     [,1] [,2] [,3] [,4] [,5]\n",
       "[1,]    0    2    4    6    8\n",
       "[2,]    1    3    5    7    9\n"
      ]
     },
     "metadata": {},
     "output_type": "display_data"
    }
   ],
   "source": [
    "array(c(0:9), dim = c(2,5,2))"
   ]
  },
  {
   "cell_type": "markdown",
   "id": "2b7a8d90-5c63-462f-99d0-52fc2af30d11",
   "metadata": {
    "tags": []
   },
   "source": [
    "#### How does dim=c(2,5,2) work?\n",
    "The first and second number in the bracket specifies the amount of rows and columns.\n",
    "\n",
    "The last number in the bracket specifies how many dimensions we want.\n",
    "\n"
   ]
  },
  {
   "cell_type": "code",
   "execution_count": 246,
   "id": "9feee88b-ac6f-4883-b3ee-cd61b25a3e85",
   "metadata": {
    "tags": []
   },
   "outputs": [],
   "source": [
    "thisarray <- c(1:24)"
   ]
  },
  {
   "cell_type": "code",
   "execution_count": 247,
   "id": "d5cafe7b-ae43-480c-9b9e-eec89eb87556",
   "metadata": {
    "tags": []
   },
   "outputs": [],
   "source": [
    "multiarray <- array(thisarray, dim = c(4, 3, 2))"
   ]
  },
  {
   "cell_type": "code",
   "execution_count": 248,
   "id": "47d450ef-7ae6-4e63-b66b-f9e73ed601d4",
   "metadata": {
    "tags": []
   },
   "outputs": [
    {
     "name": "stdout",
     "output_type": "stream",
     "text": [
      ", , 1\n",
      "\n",
      "     [,1] [,2] [,3]\n",
      "[1,]    1    5    9\n",
      "[2,]    2    6   10\n",
      "[3,]    3    7   11\n",
      "[4,]    4    8   12\n",
      "\n",
      ", , 2\n",
      "\n",
      "     [,1] [,2] [,3]\n",
      "[1,]   13   17   21\n",
      "[2,]   14   18   22\n",
      "[3,]   15   19   23\n",
      "[4,]   16   20   24\n",
      "\n"
     ]
    }
   ],
   "source": [
    "print(multiarray)"
   ]
  },
  {
   "cell_type": "markdown",
   "id": "6a2b7646-6461-4f3f-99f1-fd45ec2d204b",
   "metadata": {
    "tags": []
   },
   "source": [
    "### Lists"
   ]
  },
  {
   "cell_type": "code",
   "execution_count": 249,
   "id": "4e9dbbdc-937d-4827-9ee2-9dd55851a4a9",
   "metadata": {
    "tags": []
   },
   "outputs": [],
   "source": [
    "lst = list(c(1:15))"
   ]
  },
  {
   "cell_type": "code",
   "execution_count": 250,
   "id": "2fe03811-8fc3-4a76-a0d0-e997b8f74328",
   "metadata": {
    "tags": []
   },
   "outputs": [
    {
     "data": {
      "text/html": [
       "<ol>\n",
       "\t<li><style>\n",
       ".list-inline {list-style: none; margin:0; padding: 0}\n",
       ".list-inline>li {display: inline-block}\n",
       ".list-inline>li:not(:last-child)::after {content: \"\\00b7\"; padding: 0 .5ex}\n",
       "</style>\n",
       "<ol class=list-inline><li>1</li><li>2</li><li>3</li><li>4</li><li>5</li><li>6</li><li>7</li><li>8</li><li>9</li><li>10</li><li>11</li><li>12</li><li>13</li><li>14</li><li>15</li></ol>\n",
       "</li>\n",
       "</ol>\n"
      ],
      "text/latex": [
       "\\begin{enumerate}\n",
       "\\item \\begin{enumerate*}\n",
       "\\item 1\n",
       "\\item 2\n",
       "\\item 3\n",
       "\\item 4\n",
       "\\item 5\n",
       "\\item 6\n",
       "\\item 7\n",
       "\\item 8\n",
       "\\item 9\n",
       "\\item 10\n",
       "\\item 11\n",
       "\\item 12\n",
       "\\item 13\n",
       "\\item 14\n",
       "\\item 15\n",
       "\\end{enumerate*}\n",
       "\n",
       "\\end{enumerate}\n"
      ],
      "text/markdown": [
       "1. 1. 1\n",
       "2. 2\n",
       "3. 3\n",
       "4. 4\n",
       "5. 5\n",
       "6. 6\n",
       "7. 7\n",
       "8. 8\n",
       "9. 9\n",
       "10. 10\n",
       "11. 11\n",
       "12. 12\n",
       "13. 13\n",
       "14. 14\n",
       "15. 15\n",
       "\n",
       "\n",
       "\n",
       "\n",
       "\n"
      ],
      "text/plain": [
       "[[1]]\n",
       " [1]  1  2  3  4  5  6  7  8  9 10 11 12 13 14 15\n"
      ]
     },
     "metadata": {},
     "output_type": "display_data"
    }
   ],
   "source": [
    "lst[]"
   ]
  },
  {
   "cell_type": "code",
   "execution_count": 251,
   "id": "d66db2c6-8b64-4f61-a257-48e9d330cc53",
   "metadata": {
    "tags": []
   },
   "outputs": [],
   "source": [
    "l = c(2,3,5)"
   ]
  },
  {
   "cell_type": "code",
   "execution_count": 252,
   "id": "230edee5-0738-4e92-a959-810842301a77",
   "metadata": {},
   "outputs": [
    {
     "data": {
      "text/html": [
       "<style>\n",
       ".list-inline {list-style: none; margin:0; padding: 0}\n",
       ".list-inline>li {display: inline-block}\n",
       ".list-inline>li:not(:last-child)::after {content: \"\\00b7\"; padding: 0 .5ex}\n",
       "</style>\n",
       "<ol class=list-inline><li>2</li><li>3</li><li>5</li></ol>\n"
      ],
      "text/latex": [
       "\\begin{enumerate*}\n",
       "\\item 2\n",
       "\\item 3\n",
       "\\item 5\n",
       "\\end{enumerate*}\n"
      ],
      "text/markdown": [
       "1. 2\n",
       "2. 3\n",
       "3. 5\n",
       "\n",
       "\n"
      ],
      "text/plain": [
       "[1] 2 3 5"
      ]
     },
     "metadata": {},
     "output_type": "display_data"
    }
   ],
   "source": [
    "l"
   ]
  },
  {
   "cell_type": "code",
   "execution_count": 253,
   "id": "ff5569c4-768d-4930-9613-81fefa500e66",
   "metadata": {
    "tags": []
   },
   "outputs": [],
   "source": [
    "m = c(\"aa\",\"bb\",\"cc\",\"dd\",\"ee\",\"ff\")"
   ]
  },
  {
   "cell_type": "code",
   "execution_count": 254,
   "id": "0dc2100e-aa29-43e0-bec6-254411250bda",
   "metadata": {},
   "outputs": [
    {
     "data": {
      "text/html": [
       "<style>\n",
       ".list-inline {list-style: none; margin:0; padding: 0}\n",
       ".list-inline>li {display: inline-block}\n",
       ".list-inline>li:not(:last-child)::after {content: \"\\00b7\"; padding: 0 .5ex}\n",
       "</style>\n",
       "<ol class=list-inline><li>'aa'</li><li>'bb'</li><li>'cc'</li><li>'dd'</li><li>'ee'</li><li>'ff'</li></ol>\n"
      ],
      "text/latex": [
       "\\begin{enumerate*}\n",
       "\\item 'aa'\n",
       "\\item 'bb'\n",
       "\\item 'cc'\n",
       "\\item 'dd'\n",
       "\\item 'ee'\n",
       "\\item 'ff'\n",
       "\\end{enumerate*}\n"
      ],
      "text/markdown": [
       "1. 'aa'\n",
       "2. 'bb'\n",
       "3. 'cc'\n",
       "4. 'dd'\n",
       "5. 'ee'\n",
       "6. 'ff'\n",
       "\n",
       "\n"
      ],
      "text/plain": [
       "[1] \"aa\" \"bb\" \"cc\" \"dd\" \"ee\" \"ff\""
      ]
     },
     "metadata": {},
     "output_type": "display_data"
    }
   ],
   "source": [
    "m"
   ]
  },
  {
   "cell_type": "code",
   "execution_count": 255,
   "id": "59a029ab-1403-4adf-8b42-dfa912177921",
   "metadata": {
    "tags": []
   },
   "outputs": [],
   "source": [
    "n = c(TRUE, FALSE, TRUE, TRUE, FALSE)"
   ]
  },
  {
   "cell_type": "code",
   "execution_count": 256,
   "id": "fc19677f-04ca-4ac4-baf5-f4d619069d58",
   "metadata": {},
   "outputs": [
    {
     "data": {
      "text/html": [
       "<style>\n",
       ".list-inline {list-style: none; margin:0; padding: 0}\n",
       ".list-inline>li {display: inline-block}\n",
       ".list-inline>li:not(:last-child)::after {content: \"\\00b7\"; padding: 0 .5ex}\n",
       "</style>\n",
       "<ol class=list-inline><li>TRUE</li><li>FALSE</li><li>TRUE</li><li>TRUE</li><li>FALSE</li></ol>\n"
      ],
      "text/latex": [
       "\\begin{enumerate*}\n",
       "\\item TRUE\n",
       "\\item FALSE\n",
       "\\item TRUE\n",
       "\\item TRUE\n",
       "\\item FALSE\n",
       "\\end{enumerate*}\n"
      ],
      "text/markdown": [
       "1. TRUE\n",
       "2. FALSE\n",
       "3. TRUE\n",
       "4. TRUE\n",
       "5. FALSE\n",
       "\n",
       "\n"
      ],
      "text/plain": [
       "[1]  TRUE FALSE  TRUE  TRUE FALSE"
      ]
     },
     "metadata": {},
     "output_type": "display_data"
    }
   ],
   "source": [
    "n"
   ]
  },
  {
   "cell_type": "code",
   "execution_count": 257,
   "id": "32bbdd4b-9920-4f26-954e-87ef20013711",
   "metadata": {
    "tags": []
   },
   "outputs": [],
   "source": [
    "lst1 = list(l,m,n,3)"
   ]
  },
  {
   "cell_type": "code",
   "execution_count": 258,
   "id": "3b99bb1e-6236-4a54-8ffc-eefb8bb238a7",
   "metadata": {
    "tags": []
   },
   "outputs": [
    {
     "data": {
      "text/html": [
       "<ol>\n",
       "\t<li><style>\n",
       ".list-inline {list-style: none; margin:0; padding: 0}\n",
       ".list-inline>li {display: inline-block}\n",
       ".list-inline>li:not(:last-child)::after {content: \"\\00b7\"; padding: 0 .5ex}\n",
       "</style>\n",
       "<ol class=list-inline><li>2</li><li>3</li><li>5</li></ol>\n",
       "</li>\n",
       "\t<li><style>\n",
       ".list-inline {list-style: none; margin:0; padding: 0}\n",
       ".list-inline>li {display: inline-block}\n",
       ".list-inline>li:not(:last-child)::after {content: \"\\00b7\"; padding: 0 .5ex}\n",
       "</style>\n",
       "<ol class=list-inline><li>'aa'</li><li>'bb'</li><li>'cc'</li><li>'dd'</li><li>'ee'</li><li>'ff'</li></ol>\n",
       "</li>\n",
       "\t<li><style>\n",
       ".list-inline {list-style: none; margin:0; padding: 0}\n",
       ".list-inline>li {display: inline-block}\n",
       ".list-inline>li:not(:last-child)::after {content: \"\\00b7\"; padding: 0 .5ex}\n",
       "</style>\n",
       "<ol class=list-inline><li>TRUE</li><li>FALSE</li><li>TRUE</li><li>TRUE</li><li>FALSE</li></ol>\n",
       "</li>\n",
       "\t<li>3</li>\n",
       "</ol>\n"
      ],
      "text/latex": [
       "\\begin{enumerate}\n",
       "\\item \\begin{enumerate*}\n",
       "\\item 2\n",
       "\\item 3\n",
       "\\item 5\n",
       "\\end{enumerate*}\n",
       "\n",
       "\\item \\begin{enumerate*}\n",
       "\\item 'aa'\n",
       "\\item 'bb'\n",
       "\\item 'cc'\n",
       "\\item 'dd'\n",
       "\\item 'ee'\n",
       "\\item 'ff'\n",
       "\\end{enumerate*}\n",
       "\n",
       "\\item \\begin{enumerate*}\n",
       "\\item TRUE\n",
       "\\item FALSE\n",
       "\\item TRUE\n",
       "\\item TRUE\n",
       "\\item FALSE\n",
       "\\end{enumerate*}\n",
       "\n",
       "\\item 3\n",
       "\\end{enumerate}\n"
      ],
      "text/markdown": [
       "1. 1. 2\n",
       "2. 3\n",
       "3. 5\n",
       "\n",
       "\n",
       "\n",
       "2. 1. 'aa'\n",
       "2. 'bb'\n",
       "3. 'cc'\n",
       "4. 'dd'\n",
       "5. 'ee'\n",
       "6. 'ff'\n",
       "\n",
       "\n",
       "\n",
       "3. 1. TRUE\n",
       "2. FALSE\n",
       "3. TRUE\n",
       "4. TRUE\n",
       "5. FALSE\n",
       "\n",
       "\n",
       "\n",
       "4. 3\n",
       "\n",
       "\n"
      ],
      "text/plain": [
       "[[1]]\n",
       "[1] 2 3 5\n",
       "\n",
       "[[2]]\n",
       "[1] \"aa\" \"bb\" \"cc\" \"dd\" \"ee\" \"ff\"\n",
       "\n",
       "[[3]]\n",
       "[1]  TRUE FALSE  TRUE  TRUE FALSE\n",
       "\n",
       "[[4]]\n",
       "[1] 3\n"
      ]
     },
     "metadata": {},
     "output_type": "display_data"
    }
   ],
   "source": [
    "lst1"
   ]
  },
  {
   "cell_type": "markdown",
   "id": "5d28ec2c-45df-4368-a00c-8ddf655c0553",
   "metadata": {
    "tags": []
   },
   "source": [
    "### Accessing list elements"
   ]
  },
  {
   "cell_type": "code",
   "execution_count": 259,
   "id": "448d7e04-e0e7-4705-932f-1fa426eb19ad",
   "metadata": {
    "tags": []
   },
   "outputs": [],
   "source": [
    "lst2 = list(x = 1, y = c(FALSE, TRUE), z = c('a','b','c','d'))"
   ]
  },
  {
   "cell_type": "code",
   "execution_count": 260,
   "id": "eb82e44d-6e1b-4d89-97a9-2ad7c8d3b5e1",
   "metadata": {
    "tags": []
   },
   "outputs": [
    {
     "data": {
      "text/html": [
       "1"
      ],
      "text/latex": [
       "1"
      ],
      "text/markdown": [
       "1"
      ],
      "text/plain": [
       "[1] 1"
      ]
     },
     "metadata": {},
     "output_type": "display_data"
    }
   ],
   "source": [
    "lst2$x"
   ]
  },
  {
   "cell_type": "code",
   "execution_count": 261,
   "id": "06321523-1a36-4199-856a-35eb9a4de464",
   "metadata": {
    "tags": []
   },
   "outputs": [
    {
     "data": {
      "text/html": [
       "<style>\n",
       ".list-inline {list-style: none; margin:0; padding: 0}\n",
       ".list-inline>li {display: inline-block}\n",
       ".list-inline>li:not(:last-child)::after {content: \"\\00b7\"; padding: 0 .5ex}\n",
       "</style>\n",
       "<ol class=list-inline><li>FALSE</li><li>TRUE</li></ol>\n"
      ],
      "text/latex": [
       "\\begin{enumerate*}\n",
       "\\item FALSE\n",
       "\\item TRUE\n",
       "\\end{enumerate*}\n"
      ],
      "text/markdown": [
       "1. FALSE\n",
       "2. TRUE\n",
       "\n",
       "\n"
      ],
      "text/plain": [
       "[1] FALSE  TRUE"
      ]
     },
     "metadata": {},
     "output_type": "display_data"
    }
   ],
   "source": [
    "lst2$y"
   ]
  },
  {
   "cell_type": "code",
   "execution_count": 262,
   "id": "3624c806-a206-4869-8957-cf4862cc0dfb",
   "metadata": {
    "tags": []
   },
   "outputs": [
    {
     "data": {
      "text/html": [
       "<style>\n",
       ".list-inline {list-style: none; margin:0; padding: 0}\n",
       ".list-inline>li {display: inline-block}\n",
       ".list-inline>li:not(:last-child)::after {content: \"\\00b7\"; padding: 0 .5ex}\n",
       "</style>\n",
       "<ol class=list-inline><li>'a'</li><li>'b'</li><li>'c'</li><li>'d'</li></ol>\n"
      ],
      "text/latex": [
       "\\begin{enumerate*}\n",
       "\\item 'a'\n",
       "\\item 'b'\n",
       "\\item 'c'\n",
       "\\item 'd'\n",
       "\\end{enumerate*}\n"
      ],
      "text/markdown": [
       "1. 'a'\n",
       "2. 'b'\n",
       "3. 'c'\n",
       "4. 'd'\n",
       "\n",
       "\n"
      ],
      "text/plain": [
       "[1] \"a\" \"b\" \"c\" \"d\""
      ]
     },
     "metadata": {},
     "output_type": "display_data"
    }
   ],
   "source": [
    "lst2$z"
   ]
  },
  {
   "cell_type": "markdown",
   "id": "93c2b056-98fe-4595-a9d6-e7f8003ab36a",
   "metadata": {
    "tags": []
   },
   "source": [
    "### Data-Frames"
   ]
  },
  {
   "cell_type": "code",
   "execution_count": 263,
   "id": "18303a55-2bec-4a95-a4c5-866d0a9bac17",
   "metadata": {
    "tags": []
   },
   "outputs": [],
   "source": [
    "d = c(1:4)"
   ]
  },
  {
   "cell_type": "code",
   "execution_count": 264,
   "id": "592fd4d6-e873-46bb-a63e-17bdcec3c914",
   "metadata": {
    "tags": []
   },
   "outputs": [],
   "source": [
    "e = c('red','white','red',NA)"
   ]
  },
  {
   "cell_type": "code",
   "execution_count": 265,
   "id": "26307484-ede7-415f-9d70-049843798058",
   "metadata": {
    "tags": []
   },
   "outputs": [],
   "source": [
    "f = c(TRUE,TRUE,TRUE,FALSE)"
   ]
  },
  {
   "cell_type": "code",
   "execution_count": 266,
   "id": "150fef24-e068-4f2e-bda3-f11a4dd68462",
   "metadata": {
    "tags": []
   },
   "outputs": [],
   "source": [
    "mydf = data.frame(d,e,f)"
   ]
  },
  {
   "cell_type": "code",
   "execution_count": 267,
   "id": "41816df2-0200-452d-ad5f-81756f84bd88",
   "metadata": {
    "tags": []
   },
   "outputs": [
    {
     "data": {
      "text/html": [
       "<table class=\"dataframe\">\n",
       "<caption>A data.frame: 4 × 3</caption>\n",
       "<thead>\n",
       "\t<tr><th scope=col>d</th><th scope=col>e</th><th scope=col>f</th></tr>\n",
       "\t<tr><th scope=col>&lt;int&gt;</th><th scope=col>&lt;chr&gt;</th><th scope=col>&lt;lgl&gt;</th></tr>\n",
       "</thead>\n",
       "<tbody>\n",
       "\t<tr><td>1</td><td>red  </td><td> TRUE</td></tr>\n",
       "\t<tr><td>2</td><td>white</td><td> TRUE</td></tr>\n",
       "\t<tr><td>3</td><td>red  </td><td> TRUE</td></tr>\n",
       "\t<tr><td>4</td><td>NA   </td><td>FALSE</td></tr>\n",
       "</tbody>\n",
       "</table>\n"
      ],
      "text/latex": [
       "A data.frame: 4 × 3\n",
       "\\begin{tabular}{lll}\n",
       " d & e & f\\\\\n",
       " <int> & <chr> & <lgl>\\\\\n",
       "\\hline\n",
       "\t 1 & red   &  TRUE\\\\\n",
       "\t 2 & white &  TRUE\\\\\n",
       "\t 3 & red   &  TRUE\\\\\n",
       "\t 4 & NA    & FALSE\\\\\n",
       "\\end{tabular}\n"
      ],
      "text/markdown": [
       "\n",
       "A data.frame: 4 × 3\n",
       "\n",
       "| d &lt;int&gt; | e &lt;chr&gt; | f &lt;lgl&gt; |\n",
       "|---|---|---|\n",
       "| 1 | red   |  TRUE |\n",
       "| 2 | white |  TRUE |\n",
       "| 3 | red   |  TRUE |\n",
       "| 4 | NA    | FALSE |\n",
       "\n"
      ],
      "text/plain": [
       "  d e     f    \n",
       "1 1 red    TRUE\n",
       "2 2 white  TRUE\n",
       "3 3 red    TRUE\n",
       "4 4 NA    FALSE"
      ]
     },
     "metadata": {},
     "output_type": "display_data"
    }
   ],
   "source": [
    "mydf"
   ]
  },
  {
   "cell_type": "code",
   "execution_count": 268,
   "id": "d6d19df0-f7bf-423f-ab30-cc727408ef3c",
   "metadata": {
    "tags": []
   },
   "outputs": [],
   "source": [
    "names(mydf) = c(\"ID\",\"COLOR\",\"QA-TEST\")"
   ]
  },
  {
   "cell_type": "code",
   "execution_count": 269,
   "id": "ca37e712-e255-4cb9-9036-c049d72e02cb",
   "metadata": {
    "tags": []
   },
   "outputs": [
    {
     "data": {
      "text/html": [
       "<table class=\"dataframe\">\n",
       "<caption>A data.frame: 4 × 3</caption>\n",
       "<thead>\n",
       "\t<tr><th scope=col>ID</th><th scope=col>COLOR</th><th scope=col>QA-TEST</th></tr>\n",
       "\t<tr><th scope=col>&lt;int&gt;</th><th scope=col>&lt;chr&gt;</th><th scope=col>&lt;lgl&gt;</th></tr>\n",
       "</thead>\n",
       "<tbody>\n",
       "\t<tr><td>1</td><td>red  </td><td> TRUE</td></tr>\n",
       "\t<tr><td>2</td><td>white</td><td> TRUE</td></tr>\n",
       "\t<tr><td>3</td><td>red  </td><td> TRUE</td></tr>\n",
       "\t<tr><td>4</td><td>NA   </td><td>FALSE</td></tr>\n",
       "</tbody>\n",
       "</table>\n"
      ],
      "text/latex": [
       "A data.frame: 4 × 3\n",
       "\\begin{tabular}{lll}\n",
       " ID & COLOR & QA-TEST\\\\\n",
       " <int> & <chr> & <lgl>\\\\\n",
       "\\hline\n",
       "\t 1 & red   &  TRUE\\\\\n",
       "\t 2 & white &  TRUE\\\\\n",
       "\t 3 & red   &  TRUE\\\\\n",
       "\t 4 & NA    & FALSE\\\\\n",
       "\\end{tabular}\n"
      ],
      "text/markdown": [
       "\n",
       "A data.frame: 4 × 3\n",
       "\n",
       "| ID &lt;int&gt; | COLOR &lt;chr&gt; | QA-TEST &lt;lgl&gt; |\n",
       "|---|---|---|\n",
       "| 1 | red   |  TRUE |\n",
       "| 2 | white |  TRUE |\n",
       "| 3 | red   |  TRUE |\n",
       "| 4 | NA    | FALSE |\n",
       "\n"
      ],
      "text/plain": [
       "  ID COLOR QA-TEST\n",
       "1 1  red    TRUE  \n",
       "2 2  white  TRUE  \n",
       "3 3  red    TRUE  \n",
       "4 4  NA    FALSE  "
      ]
     },
     "metadata": {},
     "output_type": "display_data"
    }
   ],
   "source": [
    "mydf"
   ]
  },
  {
   "cell_type": "code",
   "execution_count": 270,
   "id": "ab1e0ea3-19e2-408e-930b-5651ce4b9fd9",
   "metadata": {
    "tags": []
   },
   "outputs": [
    {
     "data": {
      "text/html": [
       "<table class=\"dataframe\">\n",
       "<caption>A data.frame: 4 × 2</caption>\n",
       "<thead>\n",
       "\t<tr><th scope=col>ID</th><th scope=col>COLOR</th></tr>\n",
       "\t<tr><th scope=col>&lt;int&gt;</th><th scope=col>&lt;chr&gt;</th></tr>\n",
       "</thead>\n",
       "<tbody>\n",
       "\t<tr><td>1</td><td>red  </td></tr>\n",
       "\t<tr><td>2</td><td>white</td></tr>\n",
       "\t<tr><td>3</td><td>red  </td></tr>\n",
       "\t<tr><td>4</td><td>NA   </td></tr>\n",
       "</tbody>\n",
       "</table>\n"
      ],
      "text/latex": [
       "A data.frame: 4 × 2\n",
       "\\begin{tabular}{ll}\n",
       " ID & COLOR\\\\\n",
       " <int> & <chr>\\\\\n",
       "\\hline\n",
       "\t 1 & red  \\\\\n",
       "\t 2 & white\\\\\n",
       "\t 3 & red  \\\\\n",
       "\t 4 & NA   \\\\\n",
       "\\end{tabular}\n"
      ],
      "text/markdown": [
       "\n",
       "A data.frame: 4 × 2\n",
       "\n",
       "| ID &lt;int&gt; | COLOR &lt;chr&gt; |\n",
       "|---|---|\n",
       "| 1 | red   |\n",
       "| 2 | white |\n",
       "| 3 | red   |\n",
       "| 4 | NA    |\n",
       "\n"
      ],
      "text/plain": [
       "  ID COLOR\n",
       "1 1  red  \n",
       "2 2  white\n",
       "3 3  red  \n",
       "4 4  NA   "
      ]
     },
     "metadata": {},
     "output_type": "display_data"
    }
   ],
   "source": [
    "mydf[1:2]"
   ]
  },
  {
   "cell_type": "code",
   "execution_count": 271,
   "id": "48c1a8ce-6eed-49a7-86a9-841cc434687a",
   "metadata": {
    "tags": []
   },
   "outputs": [
    {
     "data": {
      "text/html": [
       "<table class=\"dataframe\">\n",
       "<caption>A data.frame: 4 × 2</caption>\n",
       "<thead>\n",
       "\t<tr><th scope=col>COLOR</th><th scope=col>QA-TEST</th></tr>\n",
       "\t<tr><th scope=col>&lt;chr&gt;</th><th scope=col>&lt;lgl&gt;</th></tr>\n",
       "</thead>\n",
       "<tbody>\n",
       "\t<tr><td>red  </td><td> TRUE</td></tr>\n",
       "\t<tr><td>white</td><td> TRUE</td></tr>\n",
       "\t<tr><td>red  </td><td> TRUE</td></tr>\n",
       "\t<tr><td>NA   </td><td>FALSE</td></tr>\n",
       "</tbody>\n",
       "</table>\n"
      ],
      "text/latex": [
       "A data.frame: 4 × 2\n",
       "\\begin{tabular}{ll}\n",
       " COLOR & QA-TEST\\\\\n",
       " <chr> & <lgl>\\\\\n",
       "\\hline\n",
       "\t red   &  TRUE\\\\\n",
       "\t white &  TRUE\\\\\n",
       "\t red   &  TRUE\\\\\n",
       "\t NA    & FALSE\\\\\n",
       "\\end{tabular}\n"
      ],
      "text/markdown": [
       "\n",
       "A data.frame: 4 × 2\n",
       "\n",
       "| COLOR &lt;chr&gt; | QA-TEST &lt;lgl&gt; |\n",
       "|---|---|\n",
       "| red   |  TRUE |\n",
       "| white |  TRUE |\n",
       "| red   |  TRUE |\n",
       "| NA    | FALSE |\n",
       "\n"
      ],
      "text/plain": [
       "  COLOR QA-TEST\n",
       "1 red    TRUE  \n",
       "2 white  TRUE  \n",
       "3 red    TRUE  \n",
       "4 NA    FALSE  "
      ]
     },
     "metadata": {},
     "output_type": "display_data"
    }
   ],
   "source": [
    "mydf[2:3]"
   ]
  },
  {
   "cell_type": "code",
   "execution_count": 272,
   "id": "9964ba7a-630b-45ce-b7ac-8b601301f221",
   "metadata": {
    "tags": []
   },
   "outputs": [
    {
     "data": {
      "text/html": [
       "<style>\n",
       ".list-inline {list-style: none; margin:0; padding: 0}\n",
       ".list-inline>li {display: inline-block}\n",
       ".list-inline>li:not(:last-child)::after {content: \"\\00b7\"; padding: 0 .5ex}\n",
       "</style>\n",
       "<ol class=list-inline><li>1</li><li>2</li><li>3</li><li>4</li></ol>\n"
      ],
      "text/latex": [
       "\\begin{enumerate*}\n",
       "\\item 1\n",
       "\\item 2\n",
       "\\item 3\n",
       "\\item 4\n",
       "\\end{enumerate*}\n"
      ],
      "text/markdown": [
       "1. 1\n",
       "2. 2\n",
       "3. 3\n",
       "4. 4\n",
       "\n",
       "\n"
      ],
      "text/plain": [
       "[1] 1 2 3 4"
      ]
     },
     "metadata": {},
     "output_type": "display_data"
    }
   ],
   "source": [
    "mydf$ID"
   ]
  },
  {
   "cell_type": "code",
   "execution_count": 273,
   "id": "488cff6a-b625-4de1-a160-0c5baa85fbd1",
   "metadata": {
    "tags": []
   },
   "outputs": [
    {
     "data": {
      "text/html": [
       "<style>\n",
       ".list-inline {list-style: none; margin:0; padding: 0}\n",
       ".list-inline>li {display: inline-block}\n",
       ".list-inline>li:not(:last-child)::after {content: \"\\00b7\"; padding: 0 .5ex}\n",
       "</style>\n",
       "<ol class=list-inline><li>'red'</li><li>'white'</li><li>'red'</li><li>NA</li></ol>\n"
      ],
      "text/latex": [
       "\\begin{enumerate*}\n",
       "\\item 'red'\n",
       "\\item 'white'\n",
       "\\item 'red'\n",
       "\\item NA\n",
       "\\end{enumerate*}\n"
      ],
      "text/markdown": [
       "1. 'red'\n",
       "2. 'white'\n",
       "3. 'red'\n",
       "4. NA\n",
       "\n",
       "\n"
      ],
      "text/plain": [
       "[1] \"red\"   \"white\" \"red\"   NA     "
      ]
     },
     "metadata": {},
     "output_type": "display_data"
    }
   ],
   "source": [
    "mydf$COLOR"
   ]
  },
  {
   "cell_type": "code",
   "execution_count": 274,
   "id": "83c7bfc7-3d5f-4de6-9312-84b8aeefa634",
   "metadata": {
    "tags": []
   },
   "outputs": [
    {
     "data": {
      "text/html": [
       "<table class=\"dataframe\">\n",
       "<caption>A data.frame: 1 × 2</caption>\n",
       "<thead>\n",
       "\t<tr><th></th><th scope=col>COLOR</th><th scope=col>QA-TEST</th></tr>\n",
       "\t<tr><th></th><th scope=col>&lt;chr&gt;</th><th scope=col>&lt;lgl&gt;</th></tr>\n",
       "</thead>\n",
       "<tbody>\n",
       "\t<tr><th scope=row>1</th><td>red</td><td>TRUE</td></tr>\n",
       "</tbody>\n",
       "</table>\n"
      ],
      "text/latex": [
       "A data.frame: 1 × 2\n",
       "\\begin{tabular}{r|ll}\n",
       "  & COLOR & QA-TEST\\\\\n",
       "  & <chr> & <lgl>\\\\\n",
       "\\hline\n",
       "\t1 & red & TRUE\\\\\n",
       "\\end{tabular}\n"
      ],
      "text/markdown": [
       "\n",
       "A data.frame: 1 × 2\n",
       "\n",
       "| <!--/--> | COLOR &lt;chr&gt; | QA-TEST &lt;lgl&gt; |\n",
       "|---|---|---|\n",
       "| 1 | red | TRUE |\n",
       "\n"
      ],
      "text/plain": [
       "  COLOR QA-TEST\n",
       "1 red   TRUE   "
      ]
     },
     "metadata": {},
     "output_type": "display_data"
    }
   ],
   "source": [
    "mydf[1,2:3]"
   ]
  },
  {
   "cell_type": "code",
   "execution_count": 275,
   "id": "57b1dd1b-5ddf-4c34-99e7-c610459b4cc6",
   "metadata": {
    "tags": []
   },
   "outputs": [
    {
     "data": {
      "text/html": [
       "<table class=\"dataframe\">\n",
       "<caption>A data.frame: 1 × 2</caption>\n",
       "<thead>\n",
       "\t<tr><th></th><th scope=col>COLOR</th><th scope=col>QA-TEST</th></tr>\n",
       "\t<tr><th></th><th scope=col>&lt;chr&gt;</th><th scope=col>&lt;lgl&gt;</th></tr>\n",
       "</thead>\n",
       "<tbody>\n",
       "\t<tr><th scope=row>4</th><td>NA</td><td>FALSE</td></tr>\n",
       "</tbody>\n",
       "</table>\n"
      ],
      "text/latex": [
       "A data.frame: 1 × 2\n",
       "\\begin{tabular}{r|ll}\n",
       "  & COLOR & QA-TEST\\\\\n",
       "  & <chr> & <lgl>\\\\\n",
       "\\hline\n",
       "\t4 & NA & FALSE\\\\\n",
       "\\end{tabular}\n"
      ],
      "text/markdown": [
       "\n",
       "A data.frame: 1 × 2\n",
       "\n",
       "| <!--/--> | COLOR &lt;chr&gt; | QA-TEST &lt;lgl&gt; |\n",
       "|---|---|---|\n",
       "| 4 | NA | FALSE |\n",
       "\n"
      ],
      "text/plain": [
       "  COLOR QA-TEST\n",
       "4 NA    FALSE  "
      ]
     },
     "metadata": {},
     "output_type": "display_data"
    }
   ],
   "source": [
    "mydf[4,2:3]"
   ]
  },
  {
   "cell_type": "code",
   "execution_count": 276,
   "id": "21200904-1b7d-4e63-997c-f57b140fb4c4",
   "metadata": {
    "tags": []
   },
   "outputs": [
    {
     "data": {
      "text/html": [
       "<table class=\"dataframe\">\n",
       "<caption>A data.frame: 1 × 3</caption>\n",
       "<thead>\n",
       "\t<tr><th></th><th scope=col>ID</th><th scope=col>COLOR</th><th scope=col>QA-TEST</th></tr>\n",
       "\t<tr><th></th><th scope=col>&lt;int&gt;</th><th scope=col>&lt;chr&gt;</th><th scope=col>&lt;lgl&gt;</th></tr>\n",
       "</thead>\n",
       "<tbody>\n",
       "\t<tr><th scope=row>3</th><td>3</td><td>red</td><td>TRUE</td></tr>\n",
       "</tbody>\n",
       "</table>\n"
      ],
      "text/latex": [
       "A data.frame: 1 × 3\n",
       "\\begin{tabular}{r|lll}\n",
       "  & ID & COLOR & QA-TEST\\\\\n",
       "  & <int> & <chr> & <lgl>\\\\\n",
       "\\hline\n",
       "\t3 & 3 & red & TRUE\\\\\n",
       "\\end{tabular}\n"
      ],
      "text/markdown": [
       "\n",
       "A data.frame: 1 × 3\n",
       "\n",
       "| <!--/--> | ID &lt;int&gt; | COLOR &lt;chr&gt; | QA-TEST &lt;lgl&gt; |\n",
       "|---|---|---|---|\n",
       "| 3 | 3 | red | TRUE |\n",
       "\n"
      ],
      "text/plain": [
       "  ID COLOR QA-TEST\n",
       "3 3  red   TRUE   "
      ]
     },
     "metadata": {},
     "output_type": "display_data"
    }
   ],
   "source": [
    "mydf[3,]"
   ]
  },
  {
   "cell_type": "code",
   "execution_count": 277,
   "id": "287fd326-984a-4147-a381-c4f8078a9f56",
   "metadata": {
    "tags": []
   },
   "outputs": [
    {
     "data": {
      "text/html": [
       "<style>\n",
       ".list-inline {list-style: none; margin:0; padding: 0}\n",
       ".list-inline>li {display: inline-block}\n",
       ".list-inline>li:not(:last-child)::after {content: \"\\00b7\"; padding: 0 .5ex}\n",
       "</style>\n",
       "<ol class=list-inline><li>TRUE</li><li>TRUE</li><li>TRUE</li><li>FALSE</li></ol>\n"
      ],
      "text/latex": [
       "\\begin{enumerate*}\n",
       "\\item TRUE\n",
       "\\item TRUE\n",
       "\\item TRUE\n",
       "\\item FALSE\n",
       "\\end{enumerate*}\n"
      ],
      "text/markdown": [
       "1. TRUE\n",
       "2. TRUE\n",
       "3. TRUE\n",
       "4. FALSE\n",
       "\n",
       "\n"
      ],
      "text/plain": [
       "[1]  TRUE  TRUE  TRUE FALSE"
      ]
     },
     "metadata": {},
     "output_type": "display_data"
    }
   ],
   "source": [
    "mydf[,3]"
   ]
  },
  {
   "cell_type": "code",
   "execution_count": 278,
   "id": "613fb14d-dbe6-4d03-aa61-01834b4298c8",
   "metadata": {
    "tags": []
   },
   "outputs": [
    {
     "data": {
      "text/html": [
       "<style>\n",
       ".list-inline {list-style: none; margin:0; padding: 0}\n",
       ".list-inline>li {display: inline-block}\n",
       ".list-inline>li:not(:last-child)::after {content: \"\\00b7\"; padding: 0 .5ex}\n",
       "</style>\n",
       "<ol class=list-inline><li>32</li><li>11</li></ol>\n"
      ],
      "text/latex": [
       "\\begin{enumerate*}\n",
       "\\item 32\n",
       "\\item 11\n",
       "\\end{enumerate*}\n"
      ],
      "text/markdown": [
       "1. 32\n",
       "2. 11\n",
       "\n",
       "\n"
      ],
      "text/plain": [
       "[1] 32 11"
      ]
     },
     "metadata": {},
     "output_type": "display_data"
    }
   ],
   "source": [
    "dim(mtcars)"
   ]
  },
  {
   "cell_type": "code",
   "execution_count": 279,
   "id": "b6212355-9f2c-4da4-aaa3-f8b24d9b2ca5",
   "metadata": {
    "tags": []
   },
   "outputs": [
    {
     "data": {
      "text/html": [
       "<table class=\"dataframe\">\n",
       "<caption>A data.frame: 32 × 11</caption>\n",
       "<thead>\n",
       "\t<tr><th></th><th scope=col>mpg</th><th scope=col>cyl</th><th scope=col>disp</th><th scope=col>hp</th><th scope=col>drat</th><th scope=col>wt</th><th scope=col>qsec</th><th scope=col>vs</th><th scope=col>am</th><th scope=col>gear</th><th scope=col>carb</th></tr>\n",
       "\t<tr><th></th><th scope=col>&lt;dbl&gt;</th><th scope=col>&lt;dbl&gt;</th><th scope=col>&lt;dbl&gt;</th><th scope=col>&lt;dbl&gt;</th><th scope=col>&lt;dbl&gt;</th><th scope=col>&lt;dbl&gt;</th><th scope=col>&lt;dbl&gt;</th><th scope=col>&lt;dbl&gt;</th><th scope=col>&lt;dbl&gt;</th><th scope=col>&lt;dbl&gt;</th><th scope=col>&lt;dbl&gt;</th></tr>\n",
       "</thead>\n",
       "<tbody>\n",
       "\t<tr><th scope=row>Mazda RX4</th><td>21.0</td><td>6</td><td>160.0</td><td>110</td><td>3.90</td><td>2.620</td><td>16.46</td><td>0</td><td>1</td><td>4</td><td>4</td></tr>\n",
       "\t<tr><th scope=row>Mazda RX4 Wag</th><td>21.0</td><td>6</td><td>160.0</td><td>110</td><td>3.90</td><td>2.875</td><td>17.02</td><td>0</td><td>1</td><td>4</td><td>4</td></tr>\n",
       "\t<tr><th scope=row>Datsun 710</th><td>22.8</td><td>4</td><td>108.0</td><td> 93</td><td>3.85</td><td>2.320</td><td>18.61</td><td>1</td><td>1</td><td>4</td><td>1</td></tr>\n",
       "\t<tr><th scope=row>Hornet 4 Drive</th><td>21.4</td><td>6</td><td>258.0</td><td>110</td><td>3.08</td><td>3.215</td><td>19.44</td><td>1</td><td>0</td><td>3</td><td>1</td></tr>\n",
       "\t<tr><th scope=row>Hornet Sportabout</th><td>18.7</td><td>8</td><td>360.0</td><td>175</td><td>3.15</td><td>3.440</td><td>17.02</td><td>0</td><td>0</td><td>3</td><td>2</td></tr>\n",
       "\t<tr><th scope=row>Valiant</th><td>18.1</td><td>6</td><td>225.0</td><td>105</td><td>2.76</td><td>3.460</td><td>20.22</td><td>1</td><td>0</td><td>3</td><td>1</td></tr>\n",
       "\t<tr><th scope=row>Duster 360</th><td>14.3</td><td>8</td><td>360.0</td><td>245</td><td>3.21</td><td>3.570</td><td>15.84</td><td>0</td><td>0</td><td>3</td><td>4</td></tr>\n",
       "\t<tr><th scope=row>Merc 240D</th><td>24.4</td><td>4</td><td>146.7</td><td> 62</td><td>3.69</td><td>3.190</td><td>20.00</td><td>1</td><td>0</td><td>4</td><td>2</td></tr>\n",
       "\t<tr><th scope=row>Merc 230</th><td>22.8</td><td>4</td><td>140.8</td><td> 95</td><td>3.92</td><td>3.150</td><td>22.90</td><td>1</td><td>0</td><td>4</td><td>2</td></tr>\n",
       "\t<tr><th scope=row>Merc 280</th><td>19.2</td><td>6</td><td>167.6</td><td>123</td><td>3.92</td><td>3.440</td><td>18.30</td><td>1</td><td>0</td><td>4</td><td>4</td></tr>\n",
       "\t<tr><th scope=row>Merc 280C</th><td>17.8</td><td>6</td><td>167.6</td><td>123</td><td>3.92</td><td>3.440</td><td>18.90</td><td>1</td><td>0</td><td>4</td><td>4</td></tr>\n",
       "\t<tr><th scope=row>Merc 450SE</th><td>16.4</td><td>8</td><td>275.8</td><td>180</td><td>3.07</td><td>4.070</td><td>17.40</td><td>0</td><td>0</td><td>3</td><td>3</td></tr>\n",
       "\t<tr><th scope=row>Merc 450SL</th><td>17.3</td><td>8</td><td>275.8</td><td>180</td><td>3.07</td><td>3.730</td><td>17.60</td><td>0</td><td>0</td><td>3</td><td>3</td></tr>\n",
       "\t<tr><th scope=row>Merc 450SLC</th><td>15.2</td><td>8</td><td>275.8</td><td>180</td><td>3.07</td><td>3.780</td><td>18.00</td><td>0</td><td>0</td><td>3</td><td>3</td></tr>\n",
       "\t<tr><th scope=row>Cadillac Fleetwood</th><td>10.4</td><td>8</td><td>472.0</td><td>205</td><td>2.93</td><td>5.250</td><td>17.98</td><td>0</td><td>0</td><td>3</td><td>4</td></tr>\n",
       "\t<tr><th scope=row>Lincoln Continental</th><td>10.4</td><td>8</td><td>460.0</td><td>215</td><td>3.00</td><td>5.424</td><td>17.82</td><td>0</td><td>0</td><td>3</td><td>4</td></tr>\n",
       "\t<tr><th scope=row>Chrysler Imperial</th><td>14.7</td><td>8</td><td>440.0</td><td>230</td><td>3.23</td><td>5.345</td><td>17.42</td><td>0</td><td>0</td><td>3</td><td>4</td></tr>\n",
       "\t<tr><th scope=row>Fiat 128</th><td>32.4</td><td>4</td><td> 78.7</td><td> 66</td><td>4.08</td><td>2.200</td><td>19.47</td><td>1</td><td>1</td><td>4</td><td>1</td></tr>\n",
       "\t<tr><th scope=row>Honda Civic</th><td>30.4</td><td>4</td><td> 75.7</td><td> 52</td><td>4.93</td><td>1.615</td><td>18.52</td><td>1</td><td>1</td><td>4</td><td>2</td></tr>\n",
       "\t<tr><th scope=row>Toyota Corolla</th><td>33.9</td><td>4</td><td> 71.1</td><td> 65</td><td>4.22</td><td>1.835</td><td>19.90</td><td>1</td><td>1</td><td>4</td><td>1</td></tr>\n",
       "\t<tr><th scope=row>Toyota Corona</th><td>21.5</td><td>4</td><td>120.1</td><td> 97</td><td>3.70</td><td>2.465</td><td>20.01</td><td>1</td><td>0</td><td>3</td><td>1</td></tr>\n",
       "\t<tr><th scope=row>Dodge Challenger</th><td>15.5</td><td>8</td><td>318.0</td><td>150</td><td>2.76</td><td>3.520</td><td>16.87</td><td>0</td><td>0</td><td>3</td><td>2</td></tr>\n",
       "\t<tr><th scope=row>AMC Javelin</th><td>15.2</td><td>8</td><td>304.0</td><td>150</td><td>3.15</td><td>3.435</td><td>17.30</td><td>0</td><td>0</td><td>3</td><td>2</td></tr>\n",
       "\t<tr><th scope=row>Camaro Z28</th><td>13.3</td><td>8</td><td>350.0</td><td>245</td><td>3.73</td><td>3.840</td><td>15.41</td><td>0</td><td>0</td><td>3</td><td>4</td></tr>\n",
       "\t<tr><th scope=row>Pontiac Firebird</th><td>19.2</td><td>8</td><td>400.0</td><td>175</td><td>3.08</td><td>3.845</td><td>17.05</td><td>0</td><td>0</td><td>3</td><td>2</td></tr>\n",
       "\t<tr><th scope=row>Fiat X1-9</th><td>27.3</td><td>4</td><td> 79.0</td><td> 66</td><td>4.08</td><td>1.935</td><td>18.90</td><td>1</td><td>1</td><td>4</td><td>1</td></tr>\n",
       "\t<tr><th scope=row>Porsche 914-2</th><td>26.0</td><td>4</td><td>120.3</td><td> 91</td><td>4.43</td><td>2.140</td><td>16.70</td><td>0</td><td>1</td><td>5</td><td>2</td></tr>\n",
       "\t<tr><th scope=row>Lotus Europa</th><td>30.4</td><td>4</td><td> 95.1</td><td>113</td><td>3.77</td><td>1.513</td><td>16.90</td><td>1</td><td>1</td><td>5</td><td>2</td></tr>\n",
       "\t<tr><th scope=row>Ford Pantera L</th><td>15.8</td><td>8</td><td>351.0</td><td>264</td><td>4.22</td><td>3.170</td><td>14.50</td><td>0</td><td>1</td><td>5</td><td>4</td></tr>\n",
       "\t<tr><th scope=row>Ferrari Dino</th><td>19.7</td><td>6</td><td>145.0</td><td>175</td><td>3.62</td><td>2.770</td><td>15.50</td><td>0</td><td>1</td><td>5</td><td>6</td></tr>\n",
       "\t<tr><th scope=row>Maserati Bora</th><td>15.0</td><td>8</td><td>301.0</td><td>335</td><td>3.54</td><td>3.570</td><td>14.60</td><td>0</td><td>1</td><td>5</td><td>8</td></tr>\n",
       "\t<tr><th scope=row>Volvo 142E</th><td>21.4</td><td>4</td><td>121.0</td><td>109</td><td>4.11</td><td>2.780</td><td>18.60</td><td>1</td><td>1</td><td>4</td><td>2</td></tr>\n",
       "</tbody>\n",
       "</table>\n"
      ],
      "text/latex": [
       "A data.frame: 32 × 11\n",
       "\\begin{tabular}{r|lllllllllll}\n",
       "  & mpg & cyl & disp & hp & drat & wt & qsec & vs & am & gear & carb\\\\\n",
       "  & <dbl> & <dbl> & <dbl> & <dbl> & <dbl> & <dbl> & <dbl> & <dbl> & <dbl> & <dbl> & <dbl>\\\\\n",
       "\\hline\n",
       "\tMazda RX4 & 21.0 & 6 & 160.0 & 110 & 3.90 & 2.620 & 16.46 & 0 & 1 & 4 & 4\\\\\n",
       "\tMazda RX4 Wag & 21.0 & 6 & 160.0 & 110 & 3.90 & 2.875 & 17.02 & 0 & 1 & 4 & 4\\\\\n",
       "\tDatsun 710 & 22.8 & 4 & 108.0 &  93 & 3.85 & 2.320 & 18.61 & 1 & 1 & 4 & 1\\\\\n",
       "\tHornet 4 Drive & 21.4 & 6 & 258.0 & 110 & 3.08 & 3.215 & 19.44 & 1 & 0 & 3 & 1\\\\\n",
       "\tHornet Sportabout & 18.7 & 8 & 360.0 & 175 & 3.15 & 3.440 & 17.02 & 0 & 0 & 3 & 2\\\\\n",
       "\tValiant & 18.1 & 6 & 225.0 & 105 & 2.76 & 3.460 & 20.22 & 1 & 0 & 3 & 1\\\\\n",
       "\tDuster 360 & 14.3 & 8 & 360.0 & 245 & 3.21 & 3.570 & 15.84 & 0 & 0 & 3 & 4\\\\\n",
       "\tMerc 240D & 24.4 & 4 & 146.7 &  62 & 3.69 & 3.190 & 20.00 & 1 & 0 & 4 & 2\\\\\n",
       "\tMerc 230 & 22.8 & 4 & 140.8 &  95 & 3.92 & 3.150 & 22.90 & 1 & 0 & 4 & 2\\\\\n",
       "\tMerc 280 & 19.2 & 6 & 167.6 & 123 & 3.92 & 3.440 & 18.30 & 1 & 0 & 4 & 4\\\\\n",
       "\tMerc 280C & 17.8 & 6 & 167.6 & 123 & 3.92 & 3.440 & 18.90 & 1 & 0 & 4 & 4\\\\\n",
       "\tMerc 450SE & 16.4 & 8 & 275.8 & 180 & 3.07 & 4.070 & 17.40 & 0 & 0 & 3 & 3\\\\\n",
       "\tMerc 450SL & 17.3 & 8 & 275.8 & 180 & 3.07 & 3.730 & 17.60 & 0 & 0 & 3 & 3\\\\\n",
       "\tMerc 450SLC & 15.2 & 8 & 275.8 & 180 & 3.07 & 3.780 & 18.00 & 0 & 0 & 3 & 3\\\\\n",
       "\tCadillac Fleetwood & 10.4 & 8 & 472.0 & 205 & 2.93 & 5.250 & 17.98 & 0 & 0 & 3 & 4\\\\\n",
       "\tLincoln Continental & 10.4 & 8 & 460.0 & 215 & 3.00 & 5.424 & 17.82 & 0 & 0 & 3 & 4\\\\\n",
       "\tChrysler Imperial & 14.7 & 8 & 440.0 & 230 & 3.23 & 5.345 & 17.42 & 0 & 0 & 3 & 4\\\\\n",
       "\tFiat 128 & 32.4 & 4 &  78.7 &  66 & 4.08 & 2.200 & 19.47 & 1 & 1 & 4 & 1\\\\\n",
       "\tHonda Civic & 30.4 & 4 &  75.7 &  52 & 4.93 & 1.615 & 18.52 & 1 & 1 & 4 & 2\\\\\n",
       "\tToyota Corolla & 33.9 & 4 &  71.1 &  65 & 4.22 & 1.835 & 19.90 & 1 & 1 & 4 & 1\\\\\n",
       "\tToyota Corona & 21.5 & 4 & 120.1 &  97 & 3.70 & 2.465 & 20.01 & 1 & 0 & 3 & 1\\\\\n",
       "\tDodge Challenger & 15.5 & 8 & 318.0 & 150 & 2.76 & 3.520 & 16.87 & 0 & 0 & 3 & 2\\\\\n",
       "\tAMC Javelin & 15.2 & 8 & 304.0 & 150 & 3.15 & 3.435 & 17.30 & 0 & 0 & 3 & 2\\\\\n",
       "\tCamaro Z28 & 13.3 & 8 & 350.0 & 245 & 3.73 & 3.840 & 15.41 & 0 & 0 & 3 & 4\\\\\n",
       "\tPontiac Firebird & 19.2 & 8 & 400.0 & 175 & 3.08 & 3.845 & 17.05 & 0 & 0 & 3 & 2\\\\\n",
       "\tFiat X1-9 & 27.3 & 4 &  79.0 &  66 & 4.08 & 1.935 & 18.90 & 1 & 1 & 4 & 1\\\\\n",
       "\tPorsche 914-2 & 26.0 & 4 & 120.3 &  91 & 4.43 & 2.140 & 16.70 & 0 & 1 & 5 & 2\\\\\n",
       "\tLotus Europa & 30.4 & 4 &  95.1 & 113 & 3.77 & 1.513 & 16.90 & 1 & 1 & 5 & 2\\\\\n",
       "\tFord Pantera L & 15.8 & 8 & 351.0 & 264 & 4.22 & 3.170 & 14.50 & 0 & 1 & 5 & 4\\\\\n",
       "\tFerrari Dino & 19.7 & 6 & 145.0 & 175 & 3.62 & 2.770 & 15.50 & 0 & 1 & 5 & 6\\\\\n",
       "\tMaserati Bora & 15.0 & 8 & 301.0 & 335 & 3.54 & 3.570 & 14.60 & 0 & 1 & 5 & 8\\\\\n",
       "\tVolvo 142E & 21.4 & 4 & 121.0 & 109 & 4.11 & 2.780 & 18.60 & 1 & 1 & 4 & 2\\\\\n",
       "\\end{tabular}\n"
      ],
      "text/markdown": [
       "\n",
       "A data.frame: 32 × 11\n",
       "\n",
       "| <!--/--> | mpg &lt;dbl&gt; | cyl &lt;dbl&gt; | disp &lt;dbl&gt; | hp &lt;dbl&gt; | drat &lt;dbl&gt; | wt &lt;dbl&gt; | qsec &lt;dbl&gt; | vs &lt;dbl&gt; | am &lt;dbl&gt; | gear &lt;dbl&gt; | carb &lt;dbl&gt; |\n",
       "|---|---|---|---|---|---|---|---|---|---|---|---|\n",
       "| Mazda RX4 | 21.0 | 6 | 160.0 | 110 | 3.90 | 2.620 | 16.46 | 0 | 1 | 4 | 4 |\n",
       "| Mazda RX4 Wag | 21.0 | 6 | 160.0 | 110 | 3.90 | 2.875 | 17.02 | 0 | 1 | 4 | 4 |\n",
       "| Datsun 710 | 22.8 | 4 | 108.0 |  93 | 3.85 | 2.320 | 18.61 | 1 | 1 | 4 | 1 |\n",
       "| Hornet 4 Drive | 21.4 | 6 | 258.0 | 110 | 3.08 | 3.215 | 19.44 | 1 | 0 | 3 | 1 |\n",
       "| Hornet Sportabout | 18.7 | 8 | 360.0 | 175 | 3.15 | 3.440 | 17.02 | 0 | 0 | 3 | 2 |\n",
       "| Valiant | 18.1 | 6 | 225.0 | 105 | 2.76 | 3.460 | 20.22 | 1 | 0 | 3 | 1 |\n",
       "| Duster 360 | 14.3 | 8 | 360.0 | 245 | 3.21 | 3.570 | 15.84 | 0 | 0 | 3 | 4 |\n",
       "| Merc 240D | 24.4 | 4 | 146.7 |  62 | 3.69 | 3.190 | 20.00 | 1 | 0 | 4 | 2 |\n",
       "| Merc 230 | 22.8 | 4 | 140.8 |  95 | 3.92 | 3.150 | 22.90 | 1 | 0 | 4 | 2 |\n",
       "| Merc 280 | 19.2 | 6 | 167.6 | 123 | 3.92 | 3.440 | 18.30 | 1 | 0 | 4 | 4 |\n",
       "| Merc 280C | 17.8 | 6 | 167.6 | 123 | 3.92 | 3.440 | 18.90 | 1 | 0 | 4 | 4 |\n",
       "| Merc 450SE | 16.4 | 8 | 275.8 | 180 | 3.07 | 4.070 | 17.40 | 0 | 0 | 3 | 3 |\n",
       "| Merc 450SL | 17.3 | 8 | 275.8 | 180 | 3.07 | 3.730 | 17.60 | 0 | 0 | 3 | 3 |\n",
       "| Merc 450SLC | 15.2 | 8 | 275.8 | 180 | 3.07 | 3.780 | 18.00 | 0 | 0 | 3 | 3 |\n",
       "| Cadillac Fleetwood | 10.4 | 8 | 472.0 | 205 | 2.93 | 5.250 | 17.98 | 0 | 0 | 3 | 4 |\n",
       "| Lincoln Continental | 10.4 | 8 | 460.0 | 215 | 3.00 | 5.424 | 17.82 | 0 | 0 | 3 | 4 |\n",
       "| Chrysler Imperial | 14.7 | 8 | 440.0 | 230 | 3.23 | 5.345 | 17.42 | 0 | 0 | 3 | 4 |\n",
       "| Fiat 128 | 32.4 | 4 |  78.7 |  66 | 4.08 | 2.200 | 19.47 | 1 | 1 | 4 | 1 |\n",
       "| Honda Civic | 30.4 | 4 |  75.7 |  52 | 4.93 | 1.615 | 18.52 | 1 | 1 | 4 | 2 |\n",
       "| Toyota Corolla | 33.9 | 4 |  71.1 |  65 | 4.22 | 1.835 | 19.90 | 1 | 1 | 4 | 1 |\n",
       "| Toyota Corona | 21.5 | 4 | 120.1 |  97 | 3.70 | 2.465 | 20.01 | 1 | 0 | 3 | 1 |\n",
       "| Dodge Challenger | 15.5 | 8 | 318.0 | 150 | 2.76 | 3.520 | 16.87 | 0 | 0 | 3 | 2 |\n",
       "| AMC Javelin | 15.2 | 8 | 304.0 | 150 | 3.15 | 3.435 | 17.30 | 0 | 0 | 3 | 2 |\n",
       "| Camaro Z28 | 13.3 | 8 | 350.0 | 245 | 3.73 | 3.840 | 15.41 | 0 | 0 | 3 | 4 |\n",
       "| Pontiac Firebird | 19.2 | 8 | 400.0 | 175 | 3.08 | 3.845 | 17.05 | 0 | 0 | 3 | 2 |\n",
       "| Fiat X1-9 | 27.3 | 4 |  79.0 |  66 | 4.08 | 1.935 | 18.90 | 1 | 1 | 4 | 1 |\n",
       "| Porsche 914-2 | 26.0 | 4 | 120.3 |  91 | 4.43 | 2.140 | 16.70 | 0 | 1 | 5 | 2 |\n",
       "| Lotus Europa | 30.4 | 4 |  95.1 | 113 | 3.77 | 1.513 | 16.90 | 1 | 1 | 5 | 2 |\n",
       "| Ford Pantera L | 15.8 | 8 | 351.0 | 264 | 4.22 | 3.170 | 14.50 | 0 | 1 | 5 | 4 |\n",
       "| Ferrari Dino | 19.7 | 6 | 145.0 | 175 | 3.62 | 2.770 | 15.50 | 0 | 1 | 5 | 6 |\n",
       "| Maserati Bora | 15.0 | 8 | 301.0 | 335 | 3.54 | 3.570 | 14.60 | 0 | 1 | 5 | 8 |\n",
       "| Volvo 142E | 21.4 | 4 | 121.0 | 109 | 4.11 | 2.780 | 18.60 | 1 | 1 | 4 | 2 |\n",
       "\n"
      ],
      "text/plain": [
       "                    mpg  cyl disp  hp  drat wt    qsec  vs am gear carb\n",
       "Mazda RX4           21.0 6   160.0 110 3.90 2.620 16.46 0  1  4    4   \n",
       "Mazda RX4 Wag       21.0 6   160.0 110 3.90 2.875 17.02 0  1  4    4   \n",
       "Datsun 710          22.8 4   108.0  93 3.85 2.320 18.61 1  1  4    1   \n",
       "Hornet 4 Drive      21.4 6   258.0 110 3.08 3.215 19.44 1  0  3    1   \n",
       "Hornet Sportabout   18.7 8   360.0 175 3.15 3.440 17.02 0  0  3    2   \n",
       "Valiant             18.1 6   225.0 105 2.76 3.460 20.22 1  0  3    1   \n",
       "Duster 360          14.3 8   360.0 245 3.21 3.570 15.84 0  0  3    4   \n",
       "Merc 240D           24.4 4   146.7  62 3.69 3.190 20.00 1  0  4    2   \n",
       "Merc 230            22.8 4   140.8  95 3.92 3.150 22.90 1  0  4    2   \n",
       "Merc 280            19.2 6   167.6 123 3.92 3.440 18.30 1  0  4    4   \n",
       "Merc 280C           17.8 6   167.6 123 3.92 3.440 18.90 1  0  4    4   \n",
       "Merc 450SE          16.4 8   275.8 180 3.07 4.070 17.40 0  0  3    3   \n",
       "Merc 450SL          17.3 8   275.8 180 3.07 3.730 17.60 0  0  3    3   \n",
       "Merc 450SLC         15.2 8   275.8 180 3.07 3.780 18.00 0  0  3    3   \n",
       "Cadillac Fleetwood  10.4 8   472.0 205 2.93 5.250 17.98 0  0  3    4   \n",
       "Lincoln Continental 10.4 8   460.0 215 3.00 5.424 17.82 0  0  3    4   \n",
       "Chrysler Imperial   14.7 8   440.0 230 3.23 5.345 17.42 0  0  3    4   \n",
       "Fiat 128            32.4 4    78.7  66 4.08 2.200 19.47 1  1  4    1   \n",
       "Honda Civic         30.4 4    75.7  52 4.93 1.615 18.52 1  1  4    2   \n",
       "Toyota Corolla      33.9 4    71.1  65 4.22 1.835 19.90 1  1  4    1   \n",
       "Toyota Corona       21.5 4   120.1  97 3.70 2.465 20.01 1  0  3    1   \n",
       "Dodge Challenger    15.5 8   318.0 150 2.76 3.520 16.87 0  0  3    2   \n",
       "AMC Javelin         15.2 8   304.0 150 3.15 3.435 17.30 0  0  3    2   \n",
       "Camaro Z28          13.3 8   350.0 245 3.73 3.840 15.41 0  0  3    4   \n",
       "Pontiac Firebird    19.2 8   400.0 175 3.08 3.845 17.05 0  0  3    2   \n",
       "Fiat X1-9           27.3 4    79.0  66 4.08 1.935 18.90 1  1  4    1   \n",
       "Porsche 914-2       26.0 4   120.3  91 4.43 2.140 16.70 0  1  5    2   \n",
       "Lotus Europa        30.4 4    95.1 113 3.77 1.513 16.90 1  1  5    2   \n",
       "Ford Pantera L      15.8 8   351.0 264 4.22 3.170 14.50 0  1  5    4   \n",
       "Ferrari Dino        19.7 6   145.0 175 3.62 2.770 15.50 0  1  5    6   \n",
       "Maserati Bora       15.0 8   301.0 335 3.54 3.570 14.60 0  1  5    8   \n",
       "Volvo 142E          21.4 4   121.0 109 4.11 2.780 18.60 1  1  4    2   "
      ]
     },
     "metadata": {},
     "output_type": "display_data"
    }
   ],
   "source": [
    "(mtcars)"
   ]
  },
  {
   "cell_type": "code",
   "execution_count": 280,
   "id": "5aaa9710-20f9-46ca-b7f4-7f247e82001a",
   "metadata": {
    "tags": []
   },
   "outputs": [
    {
     "ename": "ERROR",
     "evalue": "Error in dim(): 0 arguments passed to 'dim' which requires 1\n",
     "output_type": "error",
     "traceback": [
      "Error in dim(): 0 arguments passed to 'dim' which requires 1\nTraceback:\n"
     ]
    }
   ],
   "source": [
    "dim()"
   ]
  },
  {
   "cell_type": "code",
   "execution_count": 281,
   "id": "a500b27c-e24e-461a-bb4a-27345a7e45ba",
   "metadata": {
    "tags": []
   },
   "outputs": [],
   "source": [
    "affordable_cars <- subset(mtcars, mpg >= 20 & hp >= 90)"
   ]
  },
  {
   "cell_type": "code",
   "execution_count": 282,
   "id": "a413cd48-db7f-49b4-8ec6-75d9f2f3405a",
   "metadata": {
    "tags": []
   },
   "outputs": [
    {
     "data": {
      "text/html": [
       "<table class=\"dataframe\">\n",
       "<caption>A data.frame: 9 × 11</caption>\n",
       "<thead>\n",
       "\t<tr><th></th><th scope=col>mpg</th><th scope=col>cyl</th><th scope=col>disp</th><th scope=col>hp</th><th scope=col>drat</th><th scope=col>wt</th><th scope=col>qsec</th><th scope=col>vs</th><th scope=col>am</th><th scope=col>gear</th><th scope=col>carb</th></tr>\n",
       "\t<tr><th></th><th scope=col>&lt;dbl&gt;</th><th scope=col>&lt;dbl&gt;</th><th scope=col>&lt;dbl&gt;</th><th scope=col>&lt;dbl&gt;</th><th scope=col>&lt;dbl&gt;</th><th scope=col>&lt;dbl&gt;</th><th scope=col>&lt;dbl&gt;</th><th scope=col>&lt;dbl&gt;</th><th scope=col>&lt;dbl&gt;</th><th scope=col>&lt;dbl&gt;</th><th scope=col>&lt;dbl&gt;</th></tr>\n",
       "</thead>\n",
       "<tbody>\n",
       "\t<tr><th scope=row>Mazda RX4</th><td>21.0</td><td>6</td><td>160.0</td><td>110</td><td>3.90</td><td>2.620</td><td>16.46</td><td>0</td><td>1</td><td>4</td><td>4</td></tr>\n",
       "\t<tr><th scope=row>Mazda RX4 Wag</th><td>21.0</td><td>6</td><td>160.0</td><td>110</td><td>3.90</td><td>2.875</td><td>17.02</td><td>0</td><td>1</td><td>4</td><td>4</td></tr>\n",
       "\t<tr><th scope=row>Datsun 710</th><td>22.8</td><td>4</td><td>108.0</td><td> 93</td><td>3.85</td><td>2.320</td><td>18.61</td><td>1</td><td>1</td><td>4</td><td>1</td></tr>\n",
       "\t<tr><th scope=row>Hornet 4 Drive</th><td>21.4</td><td>6</td><td>258.0</td><td>110</td><td>3.08</td><td>3.215</td><td>19.44</td><td>1</td><td>0</td><td>3</td><td>1</td></tr>\n",
       "\t<tr><th scope=row>Merc 230</th><td>22.8</td><td>4</td><td>140.8</td><td> 95</td><td>3.92</td><td>3.150</td><td>22.90</td><td>1</td><td>0</td><td>4</td><td>2</td></tr>\n",
       "\t<tr><th scope=row>Toyota Corona</th><td>21.5</td><td>4</td><td>120.1</td><td> 97</td><td>3.70</td><td>2.465</td><td>20.01</td><td>1</td><td>0</td><td>3</td><td>1</td></tr>\n",
       "\t<tr><th scope=row>Porsche 914-2</th><td>26.0</td><td>4</td><td>120.3</td><td> 91</td><td>4.43</td><td>2.140</td><td>16.70</td><td>0</td><td>1</td><td>5</td><td>2</td></tr>\n",
       "\t<tr><th scope=row>Lotus Europa</th><td>30.4</td><td>4</td><td> 95.1</td><td>113</td><td>3.77</td><td>1.513</td><td>16.90</td><td>1</td><td>1</td><td>5</td><td>2</td></tr>\n",
       "\t<tr><th scope=row>Volvo 142E</th><td>21.4</td><td>4</td><td>121.0</td><td>109</td><td>4.11</td><td>2.780</td><td>18.60</td><td>1</td><td>1</td><td>4</td><td>2</td></tr>\n",
       "</tbody>\n",
       "</table>\n"
      ],
      "text/latex": [
       "A data.frame: 9 × 11\n",
       "\\begin{tabular}{r|lllllllllll}\n",
       "  & mpg & cyl & disp & hp & drat & wt & qsec & vs & am & gear & carb\\\\\n",
       "  & <dbl> & <dbl> & <dbl> & <dbl> & <dbl> & <dbl> & <dbl> & <dbl> & <dbl> & <dbl> & <dbl>\\\\\n",
       "\\hline\n",
       "\tMazda RX4 & 21.0 & 6 & 160.0 & 110 & 3.90 & 2.620 & 16.46 & 0 & 1 & 4 & 4\\\\\n",
       "\tMazda RX4 Wag & 21.0 & 6 & 160.0 & 110 & 3.90 & 2.875 & 17.02 & 0 & 1 & 4 & 4\\\\\n",
       "\tDatsun 710 & 22.8 & 4 & 108.0 &  93 & 3.85 & 2.320 & 18.61 & 1 & 1 & 4 & 1\\\\\n",
       "\tHornet 4 Drive & 21.4 & 6 & 258.0 & 110 & 3.08 & 3.215 & 19.44 & 1 & 0 & 3 & 1\\\\\n",
       "\tMerc 230 & 22.8 & 4 & 140.8 &  95 & 3.92 & 3.150 & 22.90 & 1 & 0 & 4 & 2\\\\\n",
       "\tToyota Corona & 21.5 & 4 & 120.1 &  97 & 3.70 & 2.465 & 20.01 & 1 & 0 & 3 & 1\\\\\n",
       "\tPorsche 914-2 & 26.0 & 4 & 120.3 &  91 & 4.43 & 2.140 & 16.70 & 0 & 1 & 5 & 2\\\\\n",
       "\tLotus Europa & 30.4 & 4 &  95.1 & 113 & 3.77 & 1.513 & 16.90 & 1 & 1 & 5 & 2\\\\\n",
       "\tVolvo 142E & 21.4 & 4 & 121.0 & 109 & 4.11 & 2.780 & 18.60 & 1 & 1 & 4 & 2\\\\\n",
       "\\end{tabular}\n"
      ],
      "text/markdown": [
       "\n",
       "A data.frame: 9 × 11\n",
       "\n",
       "| <!--/--> | mpg &lt;dbl&gt; | cyl &lt;dbl&gt; | disp &lt;dbl&gt; | hp &lt;dbl&gt; | drat &lt;dbl&gt; | wt &lt;dbl&gt; | qsec &lt;dbl&gt; | vs &lt;dbl&gt; | am &lt;dbl&gt; | gear &lt;dbl&gt; | carb &lt;dbl&gt; |\n",
       "|---|---|---|---|---|---|---|---|---|---|---|---|\n",
       "| Mazda RX4 | 21.0 | 6 | 160.0 | 110 | 3.90 | 2.620 | 16.46 | 0 | 1 | 4 | 4 |\n",
       "| Mazda RX4 Wag | 21.0 | 6 | 160.0 | 110 | 3.90 | 2.875 | 17.02 | 0 | 1 | 4 | 4 |\n",
       "| Datsun 710 | 22.8 | 4 | 108.0 |  93 | 3.85 | 2.320 | 18.61 | 1 | 1 | 4 | 1 |\n",
       "| Hornet 4 Drive | 21.4 | 6 | 258.0 | 110 | 3.08 | 3.215 | 19.44 | 1 | 0 | 3 | 1 |\n",
       "| Merc 230 | 22.8 | 4 | 140.8 |  95 | 3.92 | 3.150 | 22.90 | 1 | 0 | 4 | 2 |\n",
       "| Toyota Corona | 21.5 | 4 | 120.1 |  97 | 3.70 | 2.465 | 20.01 | 1 | 0 | 3 | 1 |\n",
       "| Porsche 914-2 | 26.0 | 4 | 120.3 |  91 | 4.43 | 2.140 | 16.70 | 0 | 1 | 5 | 2 |\n",
       "| Lotus Europa | 30.4 | 4 |  95.1 | 113 | 3.77 | 1.513 | 16.90 | 1 | 1 | 5 | 2 |\n",
       "| Volvo 142E | 21.4 | 4 | 121.0 | 109 | 4.11 | 2.780 | 18.60 | 1 | 1 | 4 | 2 |\n",
       "\n"
      ],
      "text/plain": [
       "               mpg  cyl disp  hp  drat wt    qsec  vs am gear carb\n",
       "Mazda RX4      21.0 6   160.0 110 3.90 2.620 16.46 0  1  4    4   \n",
       "Mazda RX4 Wag  21.0 6   160.0 110 3.90 2.875 17.02 0  1  4    4   \n",
       "Datsun 710     22.8 4   108.0  93 3.85 2.320 18.61 1  1  4    1   \n",
       "Hornet 4 Drive 21.4 6   258.0 110 3.08 3.215 19.44 1  0  3    1   \n",
       "Merc 230       22.8 4   140.8  95 3.92 3.150 22.90 1  0  4    2   \n",
       "Toyota Corona  21.5 4   120.1  97 3.70 2.465 20.01 1  0  3    1   \n",
       "Porsche 914-2  26.0 4   120.3  91 4.43 2.140 16.70 0  1  5    2   \n",
       "Lotus Europa   30.4 4    95.1 113 3.77 1.513 16.90 1  1  5    2   \n",
       "Volvo 142E     21.4 4   121.0 109 4.11 2.780 18.60 1  1  4    2   "
      ]
     },
     "metadata": {},
     "output_type": "display_data"
    }
   ],
   "source": [
    "affordable_cars"
   ]
  },
  {
   "cell_type": "code",
   "execution_count": null,
   "id": "48c39cc0-b3d6-46af-b1d4-1de704524ed4",
   "metadata": {
    "tags": []
   },
   "outputs": [],
   "source": [
    "v <- c(1,9,3,7,20,5,12,78,10,4,6)"
   ]
  },
  {
   "cell_type": "code",
   "execution_count": null,
   "id": "15c75c17-3a6e-49f5-8e1c-fa896a25664d",
   "metadata": {
    "tags": []
   },
   "outputs": [],
   "source": [
    "subset(v,v>5)"
   ]
  },
  {
   "cell_type": "code",
   "execution_count": null,
   "id": "9c2c1eab-960c-4cf5-994b-b00a4b73ec14",
   "metadata": {
    "tags": []
   },
   "outputs": [],
   "source": [
    "v[v<5]"
   ]
  },
  {
   "cell_type": "code",
   "execution_count": null,
   "id": "68728f72-d6a2-48be-855f-102f2011a019",
   "metadata": {
    "jupyter": {
     "source_hidden": true
    },
    "tags": []
   },
   "outputs": [],
   "source": [
    "t = c('one','two','three','four','five','six')"
   ]
  },
  {
   "cell_type": "code",
   "execution_count": null,
   "id": "d61a4ca0-2480-4d87-86ea-d13e77b4375d",
   "metadata": {
    "jupyter": {
     "source_hidden": true
    },
    "tags": []
   },
   "outputs": [],
   "source": [
    "subset(t,t!='one')"
   ]
  },
  {
   "cell_type": "markdown",
   "id": "b04ffec3-7913-48bb-bb07-726421744a11",
   "metadata": {
    "jupyter": {
     "source_hidden": true
    },
    "tags": []
   },
   "source": [
    "### Reading and getting data in R"
   ]
  },
  {
   "cell_type": "code",
   "execution_count": null,
   "id": "ba28a510-dd0b-4b05-827a-239b1001116f",
   "metadata": {
    "jupyter": {
     "source_hidden": true
    },
    "tags": []
   },
   "outputs": [],
   "source": [
    "read.csv('../vivek/NLP_ipynb/POS_NEW/stack-overflow-developer-survey-2019/survey_results_public.csv')"
   ]
  },
  {
   "cell_type": "code",
   "execution_count": null,
   "id": "17b200d0-d776-4094-951a-f89330239d83",
   "metadata": {
    "jupyter": {
     "source_hidden": true
    },
    "tags": []
   },
   "outputs": [],
   "source": [
    "myData = read.delim(\"thoughts1.txt\", header = FALSE)\n",
    "print(myData)"
   ]
  },
  {
   "cell_type": "markdown",
   "id": "1681036b-baa6-45b6-b08e-909c93629a6c",
   "metadata": {
    "jupyter": {
     "source_hidden": true
    },
    "tags": []
   },
   "source": [
    "### Using c() command"
   ]
  },
  {
   "cell_type": "code",
   "execution_count": null,
   "id": "8c26cc87-1482-4a3b-9ca5-07bd39824c07",
   "metadata": {
    "jupyter": {
     "source_hidden": true
    },
    "tags": []
   },
   "outputs": [],
   "source": [
    "ab = c(123,456,789,321,654,987)"
   ]
  },
  {
   "cell_type": "code",
   "execution_count": null,
   "id": "3f291e3d-09ac-4971-9738-540d0d3f7155",
   "metadata": {
    "jupyter": {
     "source_hidden": true
    },
    "tags": []
   },
   "outputs": [],
   "source": [
    "ab"
   ]
  },
  {
   "cell_type": "code",
   "execution_count": null,
   "id": "505e187a-79ba-4216-88db-e1789b0b2ca7",
   "metadata": {
    "jupyter": {
     "source_hidden": true
    },
    "tags": []
   },
   "outputs": [],
   "source": [
    "bc = c(12,23,34,45,56,78,89,90)"
   ]
  },
  {
   "cell_type": "code",
   "execution_count": null,
   "id": "e13fcd63-e05d-47ec-82f4-53a92a13b2ab",
   "metadata": {
    "jupyter": {
     "source_hidden": true
    },
    "tags": []
   },
   "outputs": [],
   "source": [
    "cd = c(1,11,111,1111,ab,bc)"
   ]
  },
  {
   "cell_type": "code",
   "execution_count": null,
   "id": "642ace95-1c1c-46e1-867f-e213129a123b",
   "metadata": {
    "jupyter": {
     "source_hidden": true
    },
    "tags": []
   },
   "outputs": [],
   "source": [
    "cd"
   ]
  },
  {
   "cell_type": "code",
   "execution_count": null,
   "id": "8fac2c6c-6b9b-41ca-8498-91406fd75695",
   "metadata": {
    "jupyter": {
     "source_hidden": true
    },
    "tags": []
   },
   "outputs": [],
   "source": [
    "cd = c(cd,01,02,03,04,05,06)"
   ]
  },
  {
   "cell_type": "code",
   "execution_count": null,
   "id": "47e6603f-6765-46d0-8b79-31e5a4c728ab",
   "metadata": {
    "jupyter": {
     "source_hidden": true
    },
    "tags": []
   },
   "outputs": [],
   "source": [
    "cd"
   ]
  },
  {
   "cell_type": "code",
   "execution_count": null,
   "id": "8eda7aca-0446-45a3-97bd-7f71b7c4039c",
   "metadata": {
    "jupyter": {
     "source_hidden": true
    },
    "tags": []
   },
   "outputs": [],
   "source": [
    "cd = c(cd,'Bangalore','Mumbai','Kolkata','Delhi')"
   ]
  },
  {
   "cell_type": "code",
   "execution_count": null,
   "id": "4babaa97-3cd4-444f-9c8b-88fd8a5b2bb8",
   "metadata": {
    "jupyter": {
     "source_hidden": true
    },
    "tags": []
   },
   "outputs": [],
   "source": [
    "cd"
   ]
  },
  {
   "cell_type": "code",
   "execution_count": null,
   "id": "bc2e8111-7cbc-4c9c-a03e-5a4bb26dbda3",
   "metadata": {
    "jupyter": {
     "source_hidden": true
    },
    "tags": []
   },
   "outputs": [],
   "source": [
    "c(1L,2L,3L,'APPLE','BANANA')"
   ]
  },
  {
   "cell_type": "markdown",
   "id": "442efe0a-339f-4f82-9d26-225132c6f1cb",
   "metadata": {
    "jupyter": {
     "source_hidden": true
    },
    "tags": []
   },
   "source": [
    "### Using Scan() and Readline() command"
   ]
  },
  {
   "cell_type": "code",
   "execution_count": null,
   "id": "8971a32f-f1ee-451b-85b4-3564b1e41c4f",
   "metadata": {
    "jupyter": {
     "source_hidden": true
    },
    "tags": []
   },
   "outputs": [],
   "source": [
    "myName = readline()"
   ]
  },
  {
   "cell_type": "code",
   "execution_count": null,
   "id": "613983c2-d5e1-48eb-9536-e6ed9a9bc2af",
   "metadata": {
    "jupyter": {
     "source_hidden": true
    },
    "tags": []
   },
   "outputs": [],
   "source": [
    "myName"
   ]
  },
  {
   "cell_type": "code",
   "execution_count": null,
   "id": "211731c3-5ac9-44dc-8573-08113129c1ee",
   "metadata": {
    "jupyter": {
     "source_hidden": true
    },
    "tags": []
   },
   "outputs": [],
   "source": [
    "typeof(myName)"
   ]
  },
  {
   "cell_type": "code",
   "execution_count": null,
   "id": "fc32940a-8fb7-4bb8-b727-4489143c0c30",
   "metadata": {
    "jupyter": {
     "source_hidden": true
    },
    "tags": []
   },
   "outputs": [],
   "source": [
    "a = as.numeric(readline())\n",
    "b = as.numeric(readline())\n",
    "c = a + b\n",
    "c"
   ]
  },
  {
   "cell_type": "code",
   "execution_count": null,
   "id": "80e252e3-10fe-469f-97c8-7c44966657c0",
   "metadata": {
    "jupyter": {
     "source_hidden": true
    },
    "tags": []
   },
   "outputs": [],
   "source": [
    "readdata <- scan('../vivek/thoughts1.txt',what = 'text')"
   ]
  },
  {
   "cell_type": "code",
   "execution_count": null,
   "id": "a587abaf-7928-480a-b553-8393b0dac35c",
   "metadata": {
    "jupyter": {
     "source_hidden": true
    },
    "tags": []
   },
   "outputs": [],
   "source": [
    "readdata"
   ]
  },
  {
   "cell_type": "code",
   "execution_count": null,
   "id": "043324fc-3447-4fb9-b8f5-46a1c4133ab7",
   "metadata": {
    "jupyter": {
     "source_hidden": true
    },
    "tags": []
   },
   "outputs": [],
   "source": [
    "dir()"
   ]
  },
  {
   "cell_type": "code",
   "execution_count": null,
   "id": "28537992-d07f-4df9-a0f5-62ddd714587a",
   "metadata": {
    "jupyter": {
     "source_hidden": true
    },
    "tags": []
   },
   "outputs": [],
   "source": [
    "scan(file.choose())"
   ]
  },
  {
   "cell_type": "code",
   "execution_count": null,
   "id": "178894b7-27f7-4367-963b-a99513893fa6",
   "metadata": {
    "jupyter": {
     "source_hidden": true
    },
    "tags": []
   },
   "outputs": [],
   "source": [
    "read.fwf('students.txt',widths = (c(12,30)))"
   ]
  },
  {
   "cell_type": "markdown",
   "id": "de1c1194-e9e4-4a18-8ca5-cd43e965cf7e",
   "metadata": {
    "jupyter": {
     "source_hidden": true
    },
    "tags": []
   },
   "source": [
    "### Importing Excel Spreadsheet in R"
   ]
  },
  {
   "cell_type": "code",
   "execution_count": null,
   "id": "56a1265f-7fbf-41bd-ad8b-4f999ac7c050",
   "metadata": {
    "jupyter": {
     "source_hidden": true
    },
    "tags": []
   },
   "outputs": [],
   "source": [
    "install.packages('openxlsx')"
   ]
  },
  {
   "cell_type": "code",
   "execution_count": null,
   "id": "17cfdb11-c6d7-4095-909e-885e53d45b68",
   "metadata": {
    "jupyter": {
     "source_hidden": true
    },
    "tags": []
   },
   "outputs": [],
   "source": [
    "library(openxlsx)"
   ]
  },
  {
   "cell_type": "code",
   "execution_count": null,
   "id": "95c26bd5-87e9-4e22-a26c-64d1e03ab284",
   "metadata": {
    "jupyter": {
     "source_hidden": true
    },
    "tags": []
   },
   "outputs": [],
   "source": [
    "read.xlsx('../vivek/sample.xlsx')"
   ]
  },
  {
   "cell_type": "code",
   "execution_count": null,
   "id": "375c1ece-5dbf-4fc1-9be6-b9991a14c085",
   "metadata": {
    "jupyter": {
     "source_hidden": true
    },
    "tags": []
   },
   "outputs": [],
   "source": [
    "library(datasets)"
   ]
  },
  {
   "cell_type": "code",
   "execution_count": null,
   "id": "6fd24979-4705-406b-b0a6-7fd3146aadf4",
   "metadata": {
    "jupyter": {
     "source_hidden": true
    },
    "tags": []
   },
   "outputs": [],
   "source": [
    "data(HairEyeColor)"
   ]
  },
  {
   "cell_type": "code",
   "execution_count": null,
   "id": "6c14c04a-9ccc-4417-b073-2ef7c7258b23",
   "metadata": {
    "jupyter": {
     "source_hidden": true
    },
    "tags": []
   },
   "outputs": [],
   "source": [
    "HairEyeColor"
   ]
  },
  {
   "cell_type": "code",
   "execution_count": null,
   "id": "77df8895-ba7c-42b1-a179-fa42244f4a90",
   "metadata": {
    "jupyter": {
     "source_hidden": true
    },
    "tags": []
   },
   "outputs": [],
   "source": [
    "write.csv(HairEyeColor,'haireyecolor.csv')"
   ]
  },
  {
   "cell_type": "code",
   "execution_count": null,
   "id": "516b6edb-5662-4290-801f-3b6476083692",
   "metadata": {},
   "outputs": [],
   "source": []
  }
 ],
 "metadata": {
  "kernelspec": {
   "display_name": "R",
   "language": "R",
   "name": "ir"
  },
  "language_info": {
   "codemirror_mode": "r",
   "file_extension": ".r",
   "mimetype": "text/x-r-source",
   "name": "R",
   "pygments_lexer": "r",
   "version": "4.2.2"
  }
 },
 "nbformat": 4,
 "nbformat_minor": 5
}
