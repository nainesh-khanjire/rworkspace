{
 "cells": [
  {
   "cell_type": "code",
   "execution_count": 2,
   "id": "b07cf7d9-be9a-4647-8f17-e9e97a8fc28d",
   "metadata": {},
   "outputs": [],
   "source": [
    "batch <- c(1,2,3,4)"
   ]
  },
  {
   "cell_type": "code",
   "execution_count": 4,
   "id": "65d6a2e1-b7bd-49ac-bef8-0fd5e0a2cf18",
   "metadata": {},
   "outputs": [
    {
     "data": {
      "text/html": [
       "'double'"
      ],
      "text/latex": [
       "'double'"
      ],
      "text/markdown": [
       "'double'"
      ],
      "text/plain": [
       "[1] \"double\""
      ]
     },
     "metadata": {},
     "output_type": "display_data"
    }
   ],
   "source": [
    "typeof(batch)"
   ]
  },
  {
   "cell_type": "code",
   "execution_count": 6,
   "id": "e3b34605-2608-4af4-9215-eda49a2539ec",
   "metadata": {},
   "outputs": [],
   "source": [
    "new <- c('hi','hello')"
   ]
  },
  {
   "cell_type": "code",
   "execution_count": 8,
   "id": "288cb9dd-a9fd-43e5-9f13-e28a812da06d",
   "metadata": {},
   "outputs": [
    {
     "data": {
      "text/html": [
       "'character'"
      ],
      "text/latex": [
       "'character'"
      ],
      "text/markdown": [
       "'character'"
      ],
      "text/plain": [
       "[1] \"character\""
      ]
     },
     "metadata": {},
     "output_type": "display_data"
    }
   ],
   "source": [
    "typeof(new)"
   ]
  },
  {
   "cell_type": "code",
   "execution_count": 13,
   "id": "ec8f1313-e55b-4818-b13f-2f549ca3fa2e",
   "metadata": {},
   "outputs": [
    {
     "data": {
      "text/html": [
       "'numeric'"
      ],
      "text/latex": [
       "'numeric'"
      ],
      "text/markdown": [
       "'numeric'"
      ],
      "text/plain": [
       "[1] \"numeric\""
      ]
     },
     "metadata": {},
     "output_type": "display_data"
    }
   ],
   "source": [
    "class(batch) # displays the class of the vector assigned to the batch "
   ]
  },
  {
   "cell_type": "code",
   "execution_count": 16,
   "id": "66050877-ed2c-4823-9a55-35f0dc33ba56",
   "metadata": {},
   "outputs": [
    {
     "data": {
      "text/html": [
       "4"
      ],
      "text/latex": [
       "4"
      ],
      "text/markdown": [
       "4"
      ],
      "text/plain": [
       "[1] 4"
      ]
     },
     "metadata": {},
     "output_type": "display_data"
    }
   ],
   "source": [
    "length(batch) # displays number of elements present in the vector"
   ]
  },
  {
   "cell_type": "code",
   "execution_count": 19,
   "id": "d3df70b3-9e2a-4e2d-b8fc-c5b880aeb4e4",
   "metadata": {},
   "outputs": [],
   "source": [
    "x <- c(1,2,3,c(4,5,6),c(7,8,9),10)\n"
   ]
  },
  {
   "cell_type": "code",
   "execution_count": 33,
   "id": "4b992af1-310a-4105-bc4d-d05ac81368e6",
   "metadata": {},
   "outputs": [
    {
     "data": {
      "text/plain": [
       "NULL"
      ]
     },
     "metadata": {},
     "output_type": "display_data"
    }
   ],
   "source": [
    "dim(x)"
   ]
  },
  {
   "cell_type": "code",
   "execution_count": 26,
   "id": "8f7f0295-f523-433a-adbc-d81afc437275",
   "metadata": {},
   "outputs": [
    {
     "data": {
      "text/html": [
       "'double'"
      ],
      "text/latex": [
       "'double'"
      ],
      "text/markdown": [
       "'double'"
      ],
      "text/plain": [
       "[1] \"double\""
      ]
     },
     "metadata": {},
     "output_type": "display_data"
    }
   ],
   "source": [
    "typeof(x) # datatype of vector assigned to the x is double"
   ]
  },
  {
   "cell_type": "code",
   "execution_count": 27,
   "id": "4762ab7a-31e8-4830-ad61-194b44e9e12c",
   "metadata": {},
   "outputs": [
    {
     "data": {
      "text/html": [
       "'numeric'"
      ],
      "text/latex": [
       "'numeric'"
      ],
      "text/markdown": [
       "'numeric'"
      ],
      "text/plain": [
       "[1] \"numeric\""
      ]
     },
     "metadata": {},
     "output_type": "display_data"
    }
   ],
   "source": [
    "class(x) # class of the x vector is numeric "
   ]
  },
  {
   "cell_type": "code",
   "execution_count": 28,
   "id": "dde5098c-211f-48b0-9277-09ad91fd6e63",
   "metadata": {},
   "outputs": [],
   "source": [
    "y <- \"hello\""
   ]
  },
  {
   "cell_type": "markdown",
   "id": "bf999951-87f6-43b9-8e7d-f7c738b5d6eb",
   "metadata": {},
   "source": [
    "\n",
    "logical vectors"
   ]
  },
  {
   "cell_type": "code",
   "execution_count": 35,
   "id": "7b2fcd12-6d39-4fd1-ac10-4a2f17a5aeef",
   "metadata": {},
   "outputs": [
    {
     "data": {
      "text/html": [
       "FALSE"
      ],
      "text/latex": [
       "FALSE"
      ],
      "text/markdown": [
       "FALSE"
      ],
      "text/plain": [
       "[1] FALSE"
      ]
     },
     "metadata": {},
     "output_type": "display_data"
    }
   ],
   "source": [
    "1>2 # returns false as 1 is not greater than 2"
   ]
  },
  {
   "cell_type": "code",
   "execution_count": 40,
   "id": "1bf011a5-00ba-49f6-83d2-836271fc5583",
   "metadata": {},
   "outputs": [],
   "source": [
    "a <- c(nainesh=1,aditya=2,nitin=3,null=4)"
   ]
  },
  {
   "cell_type": "code",
   "execution_count": 42,
   "id": "c63f472f-5986-4652-b696-070a88130acf",
   "metadata": {},
   "outputs": [
    {
     "data": {
      "text/html": [
       "<style>\n",
       ".dl-inline {width: auto; margin:0; padding: 0}\n",
       ".dl-inline>dt, .dl-inline>dd {float: none; width: auto; display: inline-block}\n",
       ".dl-inline>dt::after {content: \":\\0020\"; padding-right: .5ex}\n",
       ".dl-inline>dt:not(:first-of-type) {padding-left: .5ex}\n",
       "</style><dl class=dl-inline><dt>nainesh</dt><dd>1</dd><dt>aditya</dt><dd>2</dd><dt>nitin</dt><dd>3</dd><dt>null</dt><dd>4</dd></dl>\n"
      ],
      "text/latex": [
       "\\begin{description*}\n",
       "\\item[nainesh] 1\n",
       "\\item[aditya] 2\n",
       "\\item[nitin] 3\n",
       "\\item[null] 4\n",
       "\\end{description*}\n"
      ],
      "text/markdown": [
       "nainesh\n",
       ":   1aditya\n",
       ":   2nitin\n",
       ":   3null\n",
       ":   4\n",
       "\n"
      ],
      "text/plain": [
       "nainesh  aditya   nitin    null \n",
       "      1       2       3       4 "
      ]
     },
     "metadata": {},
     "output_type": "display_data"
    },
    {
     "name": "stdout",
     "output_type": "stream",
     "text": [
      "nainesh  aditya   nitin    null \n",
      "      1       2       3       4 \n",
      "nainesh  aditya   nitin    null \n",
      "      1       2       3       4 \n"
     ]
    }
   ],
   "source": [
    "a\n",
    "print(a)\n",
    "show(a)"
   ]
  },
  {
   "cell_type": "code",
   "execution_count": 45,
   "id": "1845f54d-2689-4faa-bac1-4bd302548a42",
   "metadata": {},
   "outputs": [
    {
     "data": {
      "text/html": [
       "<style>\n",
       ".list-inline {list-style: none; margin:0; padding: 0}\n",
       ".list-inline>li {display: inline-block}\n",
       ".list-inline>li:not(:last-child)::after {content: \"\\00b7\"; padding: 0 .5ex}\n",
       "</style>\n",
       "<ol class=list-inline><li>'nainesh'</li><li>'aditya'</li><li>'nitin'</li><li>'null'</li></ol>\n"
      ],
      "text/latex": [
       "\\begin{enumerate*}\n",
       "\\item 'nainesh'\n",
       "\\item 'aditya'\n",
       "\\item 'nitin'\n",
       "\\item 'null'\n",
       "\\end{enumerate*}\n"
      ],
      "text/markdown": [
       "1. 'nainesh'\n",
       "2. 'aditya'\n",
       "3. 'nitin'\n",
       "4. 'null'\n",
       "\n",
       "\n"
      ],
      "text/plain": [
       "[1] \"nainesh\" \"aditya\"  \"nitin\"   \"null\"   "
      ]
     },
     "metadata": {},
     "output_type": "display_data"
    }
   ],
   "source": [
    "names(a) #this prints names without values"
   ]
  },
  {
   "cell_type": "code",
   "execution_count": 47,
   "id": "ba944a32-f7f1-471d-9a59-f4d5fd816c23",
   "metadata": {},
   "outputs": [
    {
     "name": "stdout",
     "output_type": "stream",
     "text": [
      " Named num [1:4] 1 2 3 4\n",
      " - attr(*, \"names\")= chr [1:4] \"nainesh\" \"aditya\" \"nitin\" \"null\"\n"
     ]
    }
   ],
   "source": [
    "str(a)"
   ]
  },
  {
   "cell_type": "code",
   "execution_count": 51,
   "id": "f7ca0f02-3a7a-4c85-803d-eb1eeb9fc01f",
   "metadata": {},
   "outputs": [
    {
     "data": {
      "text/html": [
       "<style>\n",
       ".list-inline {list-style: none; margin:0; padding: 0}\n",
       ".list-inline>li {display: inline-block}\n",
       ".list-inline>li:not(:last-child)::after {content: \"\\00b7\"; padding: 0 .5ex}\n",
       "</style>\n",
       "<ol class=list-inline><li>1</li><li>2</li><li>3</li><li>4</li></ol>\n"
      ],
      "text/latex": [
       "\\begin{enumerate*}\n",
       "\\item 1\n",
       "\\item 2\n",
       "\\item 3\n",
       "\\item 4\n",
       "\\end{enumerate*}\n"
      ],
      "text/markdown": [
       "1. 1\n",
       "2. 2\n",
       "3. 3\n",
       "4. 4\n",
       "\n",
       "\n"
      ],
      "text/plain": [
       "[1] 1 2 3 4"
      ]
     },
     "metadata": {},
     "output_type": "display_data"
    }
   ],
   "source": [
    "unname(a) # this shows values only"
   ]
  },
  {
   "cell_type": "code",
   "execution_count": 54,
   "id": "c9c33200-5688-49f1-b0d5-b2577ed45832",
   "metadata": {},
   "outputs": [
    {
     "data": {
      "text/html": [
       "<style>\n",
       ".dl-inline {width: auto; margin:0; padding: 0}\n",
       ".dl-inline>dt, .dl-inline>dd {float: none; width: auto; display: inline-block}\n",
       ".dl-inline>dt::after {content: \":\\0020\"; padding-right: .5ex}\n",
       ".dl-inline>dt:not(:first-of-type) {padding-left: .5ex}\n",
       "</style><dl class=dl-inline><dt>null</dt><dd>4</dd><dt>nitin</dt><dd>3</dd><dt>aditya</dt><dd>2</dd><dt>nainesh</dt><dd>1</dd></dl>\n"
      ],
      "text/latex": [
       "\\begin{description*}\n",
       "\\item[null] 4\n",
       "\\item[nitin] 3\n",
       "\\item[aditya] 2\n",
       "\\item[nainesh] 1\n",
       "\\end{description*}\n"
      ],
      "text/markdown": [
       "null\n",
       ":   4nitin\n",
       ":   3aditya\n",
       ":   2nainesh\n",
       ":   1\n",
       "\n"
      ],
      "text/plain": [
       "   null   nitin  aditya nainesh \n",
       "      4       3       2       1 "
      ]
     },
     "metadata": {},
     "output_type": "display_data"
    }
   ],
   "source": [
    "a[order(a,decreasing=TRUE)] # prints the vector in reverse order"
   ]
  },
  {
   "cell_type": "code",
   "execution_count": 58,
   "id": "e4251c32-2fe4-44c2-8788-21c95b52a42a",
   "metadata": {},
   "outputs": [
    {
     "data": {
      "text/plain": [
       "\n",
       "FALSE \n",
       "    4 "
      ]
     },
     "metadata": {},
     "output_type": "display_data"
    }
   ],
   "source": [
    "table(is.na(a))  "
   ]
  },
  {
   "cell_type": "code",
   "execution_count": 57,
   "id": "1d255a89-9398-40ab-9bb6-c551e9cfbe85",
   "metadata": {},
   "outputs": [
    {
     "data": {
      "text/html": [
       "<style>\n",
       ".dl-inline {width: auto; margin:0; padding: 0}\n",
       ".dl-inline>dt, .dl-inline>dd {float: none; width: auto; display: inline-block}\n",
       ".dl-inline>dt::after {content: \":\\0020\"; padding-right: .5ex}\n",
       ".dl-inline>dt:not(:first-of-type) {padding-left: .5ex}\n",
       "</style><dl class=dl-inline><dt>nainesh</dt><dd>1</dd><dt>aditya</dt><dd>2</dd><dt>nitin</dt><dd>3</dd><dt>null</dt><dd>4</dd></dl>\n"
      ],
      "text/latex": [
       "\\begin{description*}\n",
       "\\item[nainesh] 1\n",
       "\\item[aditya] 2\n",
       "\\item[nitin] 3\n",
       "\\item[null] 4\n",
       "\\end{description*}\n"
      ],
      "text/markdown": [
       "nainesh\n",
       ":   1aditya\n",
       ":   2nitin\n",
       ":   3null\n",
       ":   4\n",
       "\n"
      ],
      "text/plain": [
       "nainesh  aditya   nitin    null \n",
       "      1       2       3       4 "
      ]
     },
     "metadata": {},
     "output_type": "display_data"
    }
   ],
   "source": [
    "a"
   ]
  },
  {
   "cell_type": "markdown",
   "id": "079355ad-4ac7-43c4-9ce6-c8691b74cc96",
   "metadata": {},
   "source": [
    "- **Extracting an element out of a vector**"
   ]
  },
  {
   "cell_type": "code",
   "execution_count": 60,
   "id": "3e28415d-dbc8-4d0a-8ba1-0a2ca091799d",
   "metadata": {},
   "outputs": [
    {
     "data": {
      "text/html": [
       "<strong>nainesh:</strong> 1"
      ],
      "text/latex": [
       "\\textbf{nainesh:} 1"
      ],
      "text/markdown": [
       "**nainesh:** 1"
      ],
      "text/plain": [
       "nainesh \n",
       "      1 "
      ]
     },
     "metadata": {},
     "output_type": "display_data"
    }
   ],
   "source": [
    "a[1] # returns index 1st element with its value"
   ]
  },
  {
   "cell_type": "code",
   "execution_count": 63,
   "id": "316a5bb2-8af9-4bc4-9c49-78bfe0a85238",
   "metadata": {},
   "outputs": [
    {
     "data": {
      "text/html": [
       "<strong>nitin:</strong> 3"
      ],
      "text/latex": [
       "\\textbf{nitin:} 3"
      ],
      "text/markdown": [
       "**nitin:** 3"
      ],
      "text/plain": [
       "nitin \n",
       "    3 "
      ]
     },
     "metadata": {},
     "output_type": "display_data"
    }
   ],
   "source": [
    "a[\"nitin\"] # returs key:value pair"
   ]
  },
  {
   "cell_type": "code",
   "execution_count": 65,
   "id": "1f7d693f-155f-442a-afa7-9aaceff3e23f",
   "metadata": {},
   "outputs": [],
   "source": [
    "i <- c(12,34,56,78,99)"
   ]
  },
  {
   "cell_type": "code",
   "execution_count": 74,
   "id": "ea2b13de-8a49-4ad8-acc2-618537778d92",
   "metadata": {},
   "outputs": [
    {
     "data": {
      "text/html": [
       "<style>\n",
       ".list-inline {list-style: none; margin:0; padding: 0}\n",
       ".list-inline>li {display: inline-block}\n",
       ".list-inline>li:not(:last-child)::after {content: \"\\00b7\"; padding: 0 .5ex}\n",
       "</style>\n",
       "<ol class=list-inline><li>TRUE</li><li>TRUE</li><li>TRUE</li><li>TRUE</li><li>TRUE</li></ol>\n"
      ],
      "text/latex": [
       "\\begin{enumerate*}\n",
       "\\item TRUE\n",
       "\\item TRUE\n",
       "\\item TRUE\n",
       "\\item TRUE\n",
       "\\item TRUE\n",
       "\\end{enumerate*}\n"
      ],
      "text/markdown": [
       "1. TRUE\n",
       "2. TRUE\n",
       "3. TRUE\n",
       "4. TRUE\n",
       "5. TRUE\n",
       "\n",
       "\n"
      ],
      "text/plain": [
       "[1] TRUE TRUE TRUE TRUE TRUE"
      ]
     },
     "metadata": {},
     "output_type": "display_data"
    }
   ],
   "source": [
    "i>1 # compares 1 with all the elements of the vector"
   ]
  },
  {
   "cell_type": "code",
   "execution_count": 77,
   "id": "695d83ae-6e0a-4e1d-98ff-958d8d777a33",
   "metadata": {},
   "outputs": [],
   "source": [
    "i1<- i[i>30]"
   ]
  },
  {
   "cell_type": "code",
   "execution_count": 80,
   "id": "ed315134-731d-4362-96a1-86187cecb94d",
   "metadata": {},
   "outputs": [
    {
     "data": {
      "text/html": [
       "<style>\n",
       ".list-inline {list-style: none; margin:0; padding: 0}\n",
       ".list-inline>li {display: inline-block}\n",
       ".list-inline>li:not(:last-child)::after {content: \"\\00b7\"; padding: 0 .5ex}\n",
       "</style>\n",
       "<ol class=list-inline><li>34</li><li>56</li><li>78</li><li>99</li></ol>\n"
      ],
      "text/latex": [
       "\\begin{enumerate*}\n",
       "\\item 34\n",
       "\\item 56\n",
       "\\item 78\n",
       "\\item 99\n",
       "\\end{enumerate*}\n"
      ],
      "text/markdown": [
       "1. 34\n",
       "2. 56\n",
       "3. 78\n",
       "4. 99\n",
       "\n",
       "\n"
      ],
      "text/plain": [
       "[1] 34 56 78 99"
      ]
     },
     "metadata": {},
     "output_type": "display_data"
    }
   ],
   "source": [
    "i1 # prints all the values that are greater than 30 from the vector"
   ]
  },
  {
   "cell_type": "markdown",
   "id": "fb89c876-bf7c-4ebf-819a-61c34fea2b2a",
   "metadata": {},
   "source": [
    "- **Representation of categotical data**"
   ]
  },
  {
   "cell_type": "code",
   "execution_count": 88,
   "id": "db42257c-0cb9-4bda-8a59-afd259701a69",
   "metadata": {},
   "outputs": [
    {
     "data": {
      "text/html": [
       "<style>\n",
       ".list-inline {list-style: none; margin:0; padding: 0}\n",
       ".list-inline>li {display: inline-block}\n",
       ".list-inline>li:not(:last-child)::after {content: \"\\00b7\"; padding: 0 .5ex}\n",
       "</style>\n",
       "<ol class=list-inline><li>'i'</li><li>'dont'</li><li>'know'</li><li>'what'</li><li>'exactly'</li><li>'this'</li><li>'is'</li></ol>\n"
      ],
      "text/latex": [
       "\\begin{enumerate*}\n",
       "\\item 'i'\n",
       "\\item 'dont'\n",
       "\\item 'know'\n",
       "\\item 'what'\n",
       "\\item 'exactly'\n",
       "\\item 'this'\n",
       "\\item 'is'\n",
       "\\end{enumerate*}\n"
      ],
      "text/markdown": [
       "1. 'i'\n",
       "2. 'dont'\n",
       "3. 'know'\n",
       "4. 'what'\n",
       "5. 'exactly'\n",
       "6. 'this'\n",
       "7. 'is'\n",
       "\n",
       "\n"
      ],
      "text/plain": [
       "[1] \"i\"       \"dont\"    \"know\"    \"what\"    \"exactly\" \"this\"    \"is\"     "
      ]
     },
     "metadata": {},
     "output_type": "display_data"
    }
   ],
   "source": [
    "data <- c('i', 'dont','know','what','exactly','this','is')\n",
    "data"
   ]
  },
  {
   "cell_type": "code",
   "execution_count": 90,
   "id": "09bda21b-6990-45ce-875d-bad3d232d49e",
   "metadata": {},
   "outputs": [
    {
     "data": {
      "text/html": [
       "FALSE"
      ],
      "text/latex": [
       "FALSE"
      ],
      "text/markdown": [
       "FALSE"
      ],
      "text/plain": [
       "[1] FALSE"
      ]
     },
     "metadata": {},
     "output_type": "display_data"
    }
   ],
   "source": [
    "is.factor(data)"
   ]
  },
  {
   "cell_type": "code",
   "execution_count": 104,
   "id": "831b8400-bd5b-49e0-872b-b1d4a1bf9eec",
   "metadata": {},
   "outputs": [],
   "source": [
    "f <- factor(data)  #puts the characters/string in alphabetical order"
   ]
  },
  {
   "cell_type": "code",
   "execution_count": 105,
   "id": "a77c617e-9665-4087-a6dc-f1a010214d92",
   "metadata": {},
   "outputs": [
    {
     "data": {
      "text/html": [
       "<style>\n",
       ".list-inline {list-style: none; margin:0; padding: 0}\n",
       ".list-inline>li {display: inline-block}\n",
       ".list-inline>li:not(:last-child)::after {content: \"\\00b7\"; padding: 0 .5ex}\n",
       "</style>\n",
       "<ol class=list-inline><li>i</li><li>dont</li><li>know</li><li>what</li><li>exactly</li><li>this</li><li>is</li></ol>\n",
       "\n",
       "<details>\n",
       "\t<summary style=display:list-item;cursor:pointer>\n",
       "\t\t<strong>Levels</strong>:\n",
       "\t</summary>\n",
       "\t<style>\n",
       "\t.list-inline {list-style: none; margin:0; padding: 0}\n",
       "\t.list-inline>li {display: inline-block}\n",
       "\t.list-inline>li:not(:last-child)::after {content: \"\\00b7\"; padding: 0 .5ex}\n",
       "\t</style>\n",
       "\t<ol class=list-inline><li>'dont'</li><li>'exactly'</li><li>'i'</li><li>'is'</li><li>'know'</li><li>'this'</li><li>'what'</li></ol>\n",
       "</details>"
      ],
      "text/latex": [
       "\\begin{enumerate*}\n",
       "\\item i\n",
       "\\item dont\n",
       "\\item know\n",
       "\\item what\n",
       "\\item exactly\n",
       "\\item this\n",
       "\\item is\n",
       "\\end{enumerate*}\n",
       "\n",
       "\\emph{Levels}: \\begin{enumerate*}\n",
       "\\item 'dont'\n",
       "\\item 'exactly'\n",
       "\\item 'i'\n",
       "\\item 'is'\n",
       "\\item 'know'\n",
       "\\item 'this'\n",
       "\\item 'what'\n",
       "\\end{enumerate*}\n"
      ],
      "text/markdown": [
       "1. i\n",
       "2. dont\n",
       "3. know\n",
       "4. what\n",
       "5. exactly\n",
       "6. this\n",
       "7. is\n",
       "\n",
       "\n",
       "\n",
       "**Levels**: 1. 'dont'\n",
       "2. 'exactly'\n",
       "3. 'i'\n",
       "4. 'is'\n",
       "5. 'know'\n",
       "6. 'this'\n",
       "7. 'what'\n",
       "\n",
       "\n"
      ],
      "text/plain": [
       "[1] i       dont    know    what    exactly this    is     \n",
       "Levels: dont exactly i is know this what"
      ]
     },
     "metadata": {},
     "output_type": "display_data"
    }
   ],
   "source": [
    "f # levels: set of distinct values given to input vector x"
   ]
  },
  {
   "cell_type": "code",
   "execution_count": 106,
   "id": "da8d752d-9d55-4bd8-b1b3-96e5f7121efa",
   "metadata": {},
   "outputs": [],
   "source": [
    "n= c(8,7,6,5,4,3,2,2,1)"
   ]
  },
  {
   "cell_type": "code",
   "execution_count": 107,
   "id": "8ee64dbd-c4a8-4d74-8a41-f9a1b19092ed",
   "metadata": {},
   "outputs": [],
   "source": [
    "norder <- factor(n)\n",
    "# this adds order to the existing vector, based on the datatype\n",
    "# for randomly present numbers in a vector, it arranges it in sequence and removes duplicates"
   ]
  },
  {
   "cell_type": "code",
   "execution_count": 108,
   "id": "e5dda281-4133-4a08-b4c1-ce27b96126b3",
   "metadata": {},
   "outputs": [
    {
     "data": {
      "text/html": [
       "<style>\n",
       ".list-inline {list-style: none; margin:0; padding: 0}\n",
       ".list-inline>li {display: inline-block}\n",
       ".list-inline>li:not(:last-child)::after {content: \"\\00b7\"; padding: 0 .5ex}\n",
       "</style>\n",
       "<ol class=list-inline><li>8</li><li>7</li><li>6</li><li>5</li><li>4</li><li>3</li><li>2</li><li>2</li><li>1</li></ol>\n",
       "\n",
       "<details>\n",
       "\t<summary style=display:list-item;cursor:pointer>\n",
       "\t\t<strong>Levels</strong>:\n",
       "\t</summary>\n",
       "\t<style>\n",
       "\t.list-inline {list-style: none; margin:0; padding: 0}\n",
       "\t.list-inline>li {display: inline-block}\n",
       "\t.list-inline>li:not(:last-child)::after {content: \"\\00b7\"; padding: 0 .5ex}\n",
       "\t</style>\n",
       "\t<ol class=list-inline><li>'1'</li><li>'2'</li><li>'3'</li><li>'4'</li><li>'5'</li><li>'6'</li><li>'7'</li><li>'8'</li></ol>\n",
       "</details>"
      ],
      "text/latex": [
       "\\begin{enumerate*}\n",
       "\\item 8\n",
       "\\item 7\n",
       "\\item 6\n",
       "\\item 5\n",
       "\\item 4\n",
       "\\item 3\n",
       "\\item 2\n",
       "\\item 2\n",
       "\\item 1\n",
       "\\end{enumerate*}\n",
       "\n",
       "\\emph{Levels}: \\begin{enumerate*}\n",
       "\\item '1'\n",
       "\\item '2'\n",
       "\\item '3'\n",
       "\\item '4'\n",
       "\\item '5'\n",
       "\\item '6'\n",
       "\\item '7'\n",
       "\\item '8'\n",
       "\\end{enumerate*}\n"
      ],
      "text/markdown": [
       "1. 8\n",
       "2. 7\n",
       "3. 6\n",
       "4. 5\n",
       "5. 4\n",
       "6. 3\n",
       "7. 2\n",
       "8. 2\n",
       "9. 1\n",
       "\n",
       "\n",
       "\n",
       "**Levels**: 1. '1'\n",
       "2. '2'\n",
       "3. '3'\n",
       "4. '4'\n",
       "5. '5'\n",
       "6. '6'\n",
       "7. '7'\n",
       "8. '8'\n",
       "\n",
       "\n"
      ],
      "text/plain": [
       "[1] 8 7 6 5 4 3 2 2 1\n",
       "Levels: 1 2 3 4 5 6 7 8"
      ]
     },
     "metadata": {},
     "output_type": "display_data"
    }
   ],
   "source": [
    "norder"
   ]
  },
  {
   "cell_type": "code",
   "execution_count": 111,
   "id": "4f458abb-33d1-44a9-9d69-77d8a6d1154f",
   "metadata": {},
   "outputs": [],
   "source": [
    "p <- c(1,2,3,4)\n",
    "q <- c(5,6,7,8)"
   ]
  },
  {
   "cell_type": "code",
   "execution_count": 122,
   "id": "d01b92b4-8144-4bca-afa2-ad8f556dbf81",
   "metadata": {},
   "outputs": [
    {
     "data": {
      "text/html": [
       "<style>\n",
       ".list-inline {list-style: none; margin:0; padding: 0}\n",
       ".list-inline>li {display: inline-block}\n",
       ".list-inline>li:not(:last-child)::after {content: \"\\00b7\"; padding: 0 .5ex}\n",
       "</style>\n",
       "<ol class=list-inline><li>6</li><li>8</li><li>10</li><li>12</li></ol>\n",
       "\n",
       "<details>\n",
       "\t<summary style=display:list-item;cursor:pointer>\n",
       "\t\t<strong>Levels</strong>:\n",
       "\t</summary>\n",
       "\t<style>\n",
       "\t.list-inline {list-style: none; margin:0; padding: 0}\n",
       "\t.list-inline>li {display: inline-block}\n",
       "\t.list-inline>li:not(:last-child)::after {content: \"\\00b7\"; padding: 0 .5ex}\n",
       "\t</style>\n",
       "\t<ol class=list-inline><li>'6'</li><li>'8'</li><li>'10'</li><li>'12'</li></ol>\n",
       "</details>"
      ],
      "text/latex": [
       "\\begin{enumerate*}\n",
       "\\item 6\n",
       "\\item 8\n",
       "\\item 10\n",
       "\\item 12\n",
       "\\end{enumerate*}\n",
       "\n",
       "\\emph{Levels}: \\begin{enumerate*}\n",
       "\\item '6'\n",
       "\\item '8'\n",
       "\\item '10'\n",
       "\\item '12'\n",
       "\\end{enumerate*}\n"
      ],
      "text/markdown": [
       "1. 6\n",
       "2. 8\n",
       "3. 10\n",
       "4. 12\n",
       "\n",
       "\n",
       "\n",
       "**Levels**: 1. '6'\n",
       "2. '8'\n",
       "3. '10'\n",
       "4. '12'\n",
       "\n",
       "\n"
      ],
      "text/plain": [
       "[1] 6  8  10 12\n",
       "Levels: 6 8 10 12"
      ]
     },
     "metadata": {},
     "output_type": "display_data"
    }
   ],
   "source": [
    "levelpq <- factor(p+q)\n",
    "levelpq"
   ]
  },
  {
   "cell_type": "code",
   "execution_count": 129,
   "id": "daf84f8f-21b3-468f-9c18-a4300950c294",
   "metadata": {},
   "outputs": [
    {
     "data": {
      "text/html": [
       "'factor'"
      ],
      "text/latex": [
       "'factor'"
      ],
      "text/markdown": [
       "'factor'"
      ],
      "text/plain": [
       "[1] \"factor\""
      ]
     },
     "metadata": {},
     "output_type": "display_data"
    }
   ],
   "source": [
    "class(levelpq)\n",
    "# class of levelpq is factor"
   ]
  },
  {
   "cell_type": "code",
   "execution_count": 130,
   "id": "b7485db7-5392-4f16-b77b-4ab5c23e4c0c",
   "metadata": {},
   "outputs": [
    {
     "data": {
      "text/html": [
       "'integer'"
      ],
      "text/latex": [
       "'integer'"
      ],
      "text/markdown": [
       "'integer'"
      ],
      "text/plain": [
       "[1] \"integer\""
      ]
     },
     "metadata": {},
     "output_type": "display_data"
    }
   ],
   "source": [
    "typeof(levelpq)"
   ]
  },
  {
   "cell_type": "code",
   "execution_count": 132,
   "id": "f912bbd6-baee-4bc4-8b45-997e23aab04a",
   "metadata": {},
   "outputs": [
    {
     "data": {
      "text/html": [
       "'numeric'"
      ],
      "text/latex": [
       "'numeric'"
      ],
      "text/markdown": [
       "'numeric'"
      ],
      "text/plain": [
       "[1] \"numeric\""
      ]
     },
     "metadata": {},
     "output_type": "display_data"
    }
   ],
   "source": [
    "class(c(1,2,3,4))"
   ]
  },
  {
   "cell_type": "code",
   "execution_count": 134,
   "id": "2741c364-952a-4953-a323-f1e3dc5a543f",
   "metadata": {},
   "outputs": [
    {
     "data": {
      "text/html": [
       "'character'"
      ],
      "text/latex": [
       "'character'"
      ],
      "text/markdown": [
       "'character'"
      ],
      "text/plain": [
       "[1] \"character\""
      ]
     },
     "metadata": {},
     "output_type": "display_data"
    }
   ],
   "source": [
    "class(c(\"hello\",\"hi\"))"
   ]
  },
  {
   "cell_type": "code",
   "execution_count": 136,
   "id": "e369a50c-6d98-4ab7-aa7f-b73a33bee9a2",
   "metadata": {},
   "outputs": [
    {
     "data": {
      "text/html": [
       "'logical'"
      ],
      "text/latex": [
       "'logical'"
      ],
      "text/markdown": [
       "'logical'"
      ],
      "text/plain": [
       "[1] \"logical\""
      ]
     },
     "metadata": {},
     "output_type": "display_data"
    }
   ],
   "source": [
    "class(c(TRUE,FALSE))"
   ]
  },
  {
   "cell_type": "code",
   "execution_count": 140,
   "id": "a575ef19-8a34-4a77-a6c7-25ba63fd2d0c",
   "metadata": {},
   "outputs": [
    {
     "data": {
      "text/html": [
       "TRUE"
      ],
      "text/latex": [
       "TRUE"
      ],
      "text/markdown": [
       "TRUE"
      ],
      "text/plain": [
       "[1] TRUE"
      ]
     },
     "metadata": {},
     "output_type": "display_data"
    }
   ],
   "source": [
    "is.numeric(c(1,2,3,4))"
   ]
  },
  {
   "cell_type": "code",
   "execution_count": 144,
   "id": "e51e67c9-5acd-4f8b-9aa6-55f4f35e3498",
   "metadata": {},
   "outputs": [
    {
     "data": {
      "text/html": [
       "TRUE"
      ],
      "text/latex": [
       "TRUE"
      ],
      "text/markdown": [
       "TRUE"
      ],
      "text/plain": [
       "[1] TRUE"
      ]
     },
     "metadata": {},
     "output_type": "display_data"
    }
   ],
   "source": [
    "is.character(c('a','s','d','f','g'))\n",
    "#returns TRUE if the vector type is character "
   ]
  },
  {
   "cell_type": "markdown",
   "id": "13d6ae88-94dc-42c4-8624-198e77bf9dd6",
   "metadata": {},
   "source": [
    "- **Converting Vectors**"
   ]
  },
  {
   "cell_type": "code",
   "execution_count": 147,
   "id": "6a3dc752-89ae-4581-b3cf-93740640aaca",
   "metadata": {},
   "outputs": [],
   "source": [
    "string <- c(2,3,4,5,6)"
   ]
  },
  {
   "cell_type": "code",
   "execution_count": 151,
   "id": "145a053b-5c96-4f67-af28-a51995d8f701",
   "metadata": {},
   "outputs": [
    {
     "data": {
      "text/html": [
       "<style>\n",
       ".list-inline {list-style: none; margin:0; padding: 0}\n",
       ".list-inline>li {display: inline-block}\n",
       ".list-inline>li:not(:last-child)::after {content: \"\\00b7\"; padding: 0 .5ex}\n",
       "</style>\n",
       "<ol class=list-inline><li>12</li><li>13</li><li>14</li><li>15</li><li>16</li></ol>\n"
      ],
      "text/latex": [
       "\\begin{enumerate*}\n",
       "\\item 12\n",
       "\\item 13\n",
       "\\item 14\n",
       "\\item 15\n",
       "\\item 16\n",
       "\\end{enumerate*}\n"
      ],
      "text/markdown": [
       "1. 12\n",
       "2. 13\n",
       "3. 14\n",
       "4. 15\n",
       "5. 16\n",
       "\n",
       "\n"
      ],
      "text/plain": [
       "[1] 12 13 14 15 16"
      ]
     },
     "metadata": {},
     "output_type": "display_data"
    }
   ],
   "source": [
    "string+10 #adds 10 to each element of the vector"
   ]
  },
  {
   "cell_type": "code",
   "execution_count": 153,
   "id": "dfeb6d26-eee4-4b14-a7ab-ead3656ea6af",
   "metadata": {},
   "outputs": [],
   "source": [
    "n = as.numeric(string)"
   ]
  },
  {
   "cell_type": "code",
   "execution_count": 155,
   "id": "29fb4d6a-3646-48bc-89c9-fa5d4086b1de",
   "metadata": {},
   "outputs": [
    {
     "data": {
      "text/html": [
       "<style>\n",
       ".list-inline {list-style: none; margin:0; padding: 0}\n",
       ".list-inline>li {display: inline-block}\n",
       ".list-inline>li:not(:last-child)::after {content: \"\\00b7\"; padding: 0 .5ex}\n",
       "</style>\n",
       "<ol class=list-inline><li>2</li><li>3</li><li>4</li><li>5</li><li>6</li></ol>\n"
      ],
      "text/latex": [
       "\\begin{enumerate*}\n",
       "\\item 2\n",
       "\\item 3\n",
       "\\item 4\n",
       "\\item 5\n",
       "\\item 6\n",
       "\\end{enumerate*}\n"
      ],
      "text/markdown": [
       "1. 2\n",
       "2. 3\n",
       "3. 4\n",
       "4. 5\n",
       "5. 6\n",
       "\n",
       "\n"
      ],
      "text/plain": [
       "[1] 2 3 4 5 6"
      ]
     },
     "metadata": {},
     "output_type": "display_data"
    }
   ],
   "source": [
    "n"
   ]
  },
  {
   "cell_type": "code",
   "execution_count": null,
   "id": "d8b30041-b155-4347-91da-c0793b6cd2a1",
   "metadata": {},
   "outputs": [],
   "source": []
  }
 ],
 "metadata": {
  "kernelspec": {
   "display_name": "R",
   "language": "R",
   "name": "ir"
  },
  "language_info": {
   "codemirror_mode": "r",
   "file_extension": ".r",
   "mimetype": "text/x-r-source",
   "name": "R",
   "pygments_lexer": "r",
   "version": "4.2.2"
  }
 },
 "nbformat": 4,
 "nbformat_minor": 5
}
